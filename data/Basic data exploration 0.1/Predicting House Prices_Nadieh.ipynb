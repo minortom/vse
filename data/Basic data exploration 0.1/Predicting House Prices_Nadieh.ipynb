{
 "cells": [
  {
   "cell_type": "markdown",
   "metadata": {},
   "source": [
    "# Fire up graphlab Create"
   ]
  },
  {
   "cell_type": "code",
   "execution_count": 5,
   "metadata": {
    "collapsed": true
   },
   "outputs": [],
   "source": [
    "import graphlab"
   ]
  },
  {
   "cell_type": "markdown",
   "metadata": {},
   "source": [
    "# Load some house sales data"
   ]
  },
  {
   "cell_type": "code",
   "execution_count": 6,
   "metadata": {
    "collapsed": false
   },
   "outputs": [
    {
     "name": "stdout",
     "output_type": "stream",
     "text": [
      "This non-commercial license of GraphLab Create for academic use is assigned to ndiehcmd@hotmail.com and will expire on December 04, 2017.\n"
     ]
    },
    {
     "name": "stderr",
     "output_type": "stream",
     "text": [
      "[INFO] graphlab.cython.cy_server: GraphLab Create v2.1 started. Logging: /tmp/graphlab_server_1481714022.log\n"
     ]
    },
    {
     "data": {
      "text/html": [
       "<pre>Finished parsing file /Users/nvanuden/Creative Cloud Files/Studie/AML/Project/train.csv</pre>"
      ],
      "text/plain": [
       "Finished parsing file /Users/nvanuden/Creative Cloud Files/Studie/AML/Project/train.csv"
      ]
     },
     "metadata": {},
     "output_type": "display_data"
    },
    {
     "data": {
      "text/html": [
       "<pre>Parsing completed. Parsed 100 lines in 0.041923 secs.</pre>"
      ],
      "text/plain": [
       "Parsing completed. Parsed 100 lines in 0.041923 secs."
      ]
     },
     "metadata": {},
     "output_type": "display_data"
    },
    {
     "name": "stdout",
     "output_type": "stream",
     "text": [
      "------------------------------------------------------\n",
      "Inferred types from first 100 line(s) of file as \n",
      "column_type_hints=[int,int,str,int,int,str,str,str,str,str,str,str,str,str,str,str,str,int,int,int,int,str,str,str,str,str,int,str,str,str,str,str,str,str,int,str,int,int,int,str,str,str,str,int,int,int,int,int,int,int,int,int,int,str,int,str,int,str,str,int,str,int,int,str,str,str,int,int,int,int,int,int,str,str,str,int,int,int,str,str,int]\n",
      "If parsing fails due to incorrect types, you can correct\n",
      "the inferred type list above and pass it to read_csv in\n",
      "the column_type_hints argument\n",
      "------------------------------------------------------\n"
     ]
    },
    {
     "data": {
      "text/html": [
       "<pre>Finished parsing file /Users/nvanuden/Creative Cloud Files/Studie/AML/Project/train.csv</pre>"
      ],
      "text/plain": [
       "Finished parsing file /Users/nvanuden/Creative Cloud Files/Studie/AML/Project/train.csv"
      ]
     },
     "metadata": {},
     "output_type": "display_data"
    },
    {
     "data": {
      "text/html": [
       "<pre>Parsing completed. Parsed 1460 lines in 0.02527 secs.</pre>"
      ],
      "text/plain": [
       "Parsing completed. Parsed 1460 lines in 0.02527 secs."
      ]
     },
     "metadata": {},
     "output_type": "display_data"
    },
    {
     "data": {
      "text/html": [
       "<pre>Finished parsing file /Users/nvanuden/Creative Cloud Files/Studie/AML/Project/test.csv</pre>"
      ],
      "text/plain": [
       "Finished parsing file /Users/nvanuden/Creative Cloud Files/Studie/AML/Project/test.csv"
      ]
     },
     "metadata": {},
     "output_type": "display_data"
    },
    {
     "data": {
      "text/html": [
       "<pre>Parsing completed. Parsed 100 lines in 0.02711 secs.</pre>"
      ],
      "text/plain": [
       "Parsing completed. Parsed 100 lines in 0.02711 secs."
      ]
     },
     "metadata": {},
     "output_type": "display_data"
    },
    {
     "name": "stdout",
     "output_type": "stream",
     "text": [
      "------------------------------------------------------\n",
      "Inferred types from first 100 line(s) of file as \n",
      "column_type_hints=[int,int,str,int,int,str,str,str,str,str,str,str,str,str,str,str,str,int,int,int,int,str,str,str,str,str,int,str,str,str,str,str,str,str,int,str,int,int,int,str,str,str,str,int,int,int,int,int,int,int,int,int,int,str,int,str,int,str,str,int,str,int,int,str,str,str,int,int,int,int,int,int,str,str,str,int,int,int,str,str]\n",
      "If parsing fails due to incorrect types, you can correct\n",
      "the inferred type list above and pass it to read_csv in\n",
      "the column_type_hints argument\n",
      "------------------------------------------------------\n"
     ]
    },
    {
     "data": {
      "text/html": [
       "<pre>Finished parsing file /Users/nvanuden/Creative Cloud Files/Studie/AML/Project/test.csv</pre>"
      ],
      "text/plain": [
       "Finished parsing file /Users/nvanuden/Creative Cloud Files/Studie/AML/Project/test.csv"
      ]
     },
     "metadata": {},
     "output_type": "display_data"
    },
    {
     "data": {
      "text/html": [
       "<pre>Parsing completed. Parsed 1459 lines in 0.020453 secs.</pre>"
      ],
      "text/plain": [
       "Parsing completed. Parsed 1459 lines in 0.020453 secs."
      ]
     },
     "metadata": {},
     "output_type": "display_data"
    },
    {
     "data": {
      "text/html": [
       "<div style=\"max-height:1000px;max-width:1500px;overflow:auto;\"><table frame=\"box\" rules=\"cols\">\n",
       "    <tr>\n",
       "        <th style=\"padding-left: 1em; padding-right: 1em; text-align: center\">Id</th>\n",
       "        <th style=\"padding-left: 1em; padding-right: 1em; text-align: center\">MSSubClass</th>\n",
       "        <th style=\"padding-left: 1em; padding-right: 1em; text-align: center\">MSZoning</th>\n",
       "        <th style=\"padding-left: 1em; padding-right: 1em; text-align: center\">LotArea</th>\n",
       "        <th style=\"padding-left: 1em; padding-right: 1em; text-align: center\">Street</th>\n",
       "        <th style=\"padding-left: 1em; padding-right: 1em; text-align: center\">Alley</th>\n",
       "        <th style=\"padding-left: 1em; padding-right: 1em; text-align: center\">LotShape</th>\n",
       "        <th style=\"padding-left: 1em; padding-right: 1em; text-align: center\">LandContour</th>\n",
       "        <th style=\"padding-left: 1em; padding-right: 1em; text-align: center\">Utilities</th>\n",
       "        <th style=\"padding-left: 1em; padding-right: 1em; text-align: center\">LotConfig</th>\n",
       "        <th style=\"padding-left: 1em; padding-right: 1em; text-align: center\">LandSlope</th>\n",
       "    </tr>\n",
       "    <tr>\n",
       "        <td style=\"padding-left: 1em; padding-right: 1em; text-align: center; vertical-align: top\">1461</td>\n",
       "        <td style=\"padding-left: 1em; padding-right: 1em; text-align: center; vertical-align: top\">20</td>\n",
       "        <td style=\"padding-left: 1em; padding-right: 1em; text-align: center; vertical-align: top\">RH</td>\n",
       "        <td style=\"padding-left: 1em; padding-right: 1em; text-align: center; vertical-align: top\">11622</td>\n",
       "        <td style=\"padding-left: 1em; padding-right: 1em; text-align: center; vertical-align: top\">Pave</td>\n",
       "        <td style=\"padding-left: 1em; padding-right: 1em; text-align: center; vertical-align: top\">None</td>\n",
       "        <td style=\"padding-left: 1em; padding-right: 1em; text-align: center; vertical-align: top\">Reg</td>\n",
       "        <td style=\"padding-left: 1em; padding-right: 1em; text-align: center; vertical-align: top\">Lvl</td>\n",
       "        <td style=\"padding-left: 1em; padding-right: 1em; text-align: center; vertical-align: top\">AllPub</td>\n",
       "        <td style=\"padding-left: 1em; padding-right: 1em; text-align: center; vertical-align: top\">Inside</td>\n",
       "        <td style=\"padding-left: 1em; padding-right: 1em; text-align: center; vertical-align: top\">Gtl</td>\n",
       "    </tr>\n",
       "    <tr>\n",
       "        <td style=\"padding-left: 1em; padding-right: 1em; text-align: center; vertical-align: top\">1462</td>\n",
       "        <td style=\"padding-left: 1em; padding-right: 1em; text-align: center; vertical-align: top\">20</td>\n",
       "        <td style=\"padding-left: 1em; padding-right: 1em; text-align: center; vertical-align: top\">RL</td>\n",
       "        <td style=\"padding-left: 1em; padding-right: 1em; text-align: center; vertical-align: top\">14267</td>\n",
       "        <td style=\"padding-left: 1em; padding-right: 1em; text-align: center; vertical-align: top\">Pave</td>\n",
       "        <td style=\"padding-left: 1em; padding-right: 1em; text-align: center; vertical-align: top\">None</td>\n",
       "        <td style=\"padding-left: 1em; padding-right: 1em; text-align: center; vertical-align: top\">IR1</td>\n",
       "        <td style=\"padding-left: 1em; padding-right: 1em; text-align: center; vertical-align: top\">Lvl</td>\n",
       "        <td style=\"padding-left: 1em; padding-right: 1em; text-align: center; vertical-align: top\">AllPub</td>\n",
       "        <td style=\"padding-left: 1em; padding-right: 1em; text-align: center; vertical-align: top\">Corner</td>\n",
       "        <td style=\"padding-left: 1em; padding-right: 1em; text-align: center; vertical-align: top\">Gtl</td>\n",
       "    </tr>\n",
       "    <tr>\n",
       "        <td style=\"padding-left: 1em; padding-right: 1em; text-align: center; vertical-align: top\">1463</td>\n",
       "        <td style=\"padding-left: 1em; padding-right: 1em; text-align: center; vertical-align: top\">60</td>\n",
       "        <td style=\"padding-left: 1em; padding-right: 1em; text-align: center; vertical-align: top\">RL</td>\n",
       "        <td style=\"padding-left: 1em; padding-right: 1em; text-align: center; vertical-align: top\">13830</td>\n",
       "        <td style=\"padding-left: 1em; padding-right: 1em; text-align: center; vertical-align: top\">Pave</td>\n",
       "        <td style=\"padding-left: 1em; padding-right: 1em; text-align: center; vertical-align: top\">None</td>\n",
       "        <td style=\"padding-left: 1em; padding-right: 1em; text-align: center; vertical-align: top\">IR1</td>\n",
       "        <td style=\"padding-left: 1em; padding-right: 1em; text-align: center; vertical-align: top\">Lvl</td>\n",
       "        <td style=\"padding-left: 1em; padding-right: 1em; text-align: center; vertical-align: top\">AllPub</td>\n",
       "        <td style=\"padding-left: 1em; padding-right: 1em; text-align: center; vertical-align: top\">Inside</td>\n",
       "        <td style=\"padding-left: 1em; padding-right: 1em; text-align: center; vertical-align: top\">Gtl</td>\n",
       "    </tr>\n",
       "    <tr>\n",
       "        <td style=\"padding-left: 1em; padding-right: 1em; text-align: center; vertical-align: top\">1464</td>\n",
       "        <td style=\"padding-left: 1em; padding-right: 1em; text-align: center; vertical-align: top\">60</td>\n",
       "        <td style=\"padding-left: 1em; padding-right: 1em; text-align: center; vertical-align: top\">RL</td>\n",
       "        <td style=\"padding-left: 1em; padding-right: 1em; text-align: center; vertical-align: top\">9978</td>\n",
       "        <td style=\"padding-left: 1em; padding-right: 1em; text-align: center; vertical-align: top\">Pave</td>\n",
       "        <td style=\"padding-left: 1em; padding-right: 1em; text-align: center; vertical-align: top\">None</td>\n",
       "        <td style=\"padding-left: 1em; padding-right: 1em; text-align: center; vertical-align: top\">IR1</td>\n",
       "        <td style=\"padding-left: 1em; padding-right: 1em; text-align: center; vertical-align: top\">Lvl</td>\n",
       "        <td style=\"padding-left: 1em; padding-right: 1em; text-align: center; vertical-align: top\">AllPub</td>\n",
       "        <td style=\"padding-left: 1em; padding-right: 1em; text-align: center; vertical-align: top\">Inside</td>\n",
       "        <td style=\"padding-left: 1em; padding-right: 1em; text-align: center; vertical-align: top\">Gtl</td>\n",
       "    </tr>\n",
       "    <tr>\n",
       "        <td style=\"padding-left: 1em; padding-right: 1em; text-align: center; vertical-align: top\">1465</td>\n",
       "        <td style=\"padding-left: 1em; padding-right: 1em; text-align: center; vertical-align: top\">120</td>\n",
       "        <td style=\"padding-left: 1em; padding-right: 1em; text-align: center; vertical-align: top\">RL</td>\n",
       "        <td style=\"padding-left: 1em; padding-right: 1em; text-align: center; vertical-align: top\">5005</td>\n",
       "        <td style=\"padding-left: 1em; padding-right: 1em; text-align: center; vertical-align: top\">Pave</td>\n",
       "        <td style=\"padding-left: 1em; padding-right: 1em; text-align: center; vertical-align: top\">None</td>\n",
       "        <td style=\"padding-left: 1em; padding-right: 1em; text-align: center; vertical-align: top\">IR1</td>\n",
       "        <td style=\"padding-left: 1em; padding-right: 1em; text-align: center; vertical-align: top\">HLS</td>\n",
       "        <td style=\"padding-left: 1em; padding-right: 1em; text-align: center; vertical-align: top\">AllPub</td>\n",
       "        <td style=\"padding-left: 1em; padding-right: 1em; text-align: center; vertical-align: top\">Inside</td>\n",
       "        <td style=\"padding-left: 1em; padding-right: 1em; text-align: center; vertical-align: top\">Gtl</td>\n",
       "    </tr>\n",
       "    <tr>\n",
       "        <td style=\"padding-left: 1em; padding-right: 1em; text-align: center; vertical-align: top\">1466</td>\n",
       "        <td style=\"padding-left: 1em; padding-right: 1em; text-align: center; vertical-align: top\">60</td>\n",
       "        <td style=\"padding-left: 1em; padding-right: 1em; text-align: center; vertical-align: top\">RL</td>\n",
       "        <td style=\"padding-left: 1em; padding-right: 1em; text-align: center; vertical-align: top\">10000</td>\n",
       "        <td style=\"padding-left: 1em; padding-right: 1em; text-align: center; vertical-align: top\">Pave</td>\n",
       "        <td style=\"padding-left: 1em; padding-right: 1em; text-align: center; vertical-align: top\">None</td>\n",
       "        <td style=\"padding-left: 1em; padding-right: 1em; text-align: center; vertical-align: top\">IR1</td>\n",
       "        <td style=\"padding-left: 1em; padding-right: 1em; text-align: center; vertical-align: top\">Lvl</td>\n",
       "        <td style=\"padding-left: 1em; padding-right: 1em; text-align: center; vertical-align: top\">AllPub</td>\n",
       "        <td style=\"padding-left: 1em; padding-right: 1em; text-align: center; vertical-align: top\">Corner</td>\n",
       "        <td style=\"padding-left: 1em; padding-right: 1em; text-align: center; vertical-align: top\">Gtl</td>\n",
       "    </tr>\n",
       "    <tr>\n",
       "        <td style=\"padding-left: 1em; padding-right: 1em; text-align: center; vertical-align: top\">1467</td>\n",
       "        <td style=\"padding-left: 1em; padding-right: 1em; text-align: center; vertical-align: top\">20</td>\n",
       "        <td style=\"padding-left: 1em; padding-right: 1em; text-align: center; vertical-align: top\">RL</td>\n",
       "        <td style=\"padding-left: 1em; padding-right: 1em; text-align: center; vertical-align: top\">7980</td>\n",
       "        <td style=\"padding-left: 1em; padding-right: 1em; text-align: center; vertical-align: top\">Pave</td>\n",
       "        <td style=\"padding-left: 1em; padding-right: 1em; text-align: center; vertical-align: top\">None</td>\n",
       "        <td style=\"padding-left: 1em; padding-right: 1em; text-align: center; vertical-align: top\">IR1</td>\n",
       "        <td style=\"padding-left: 1em; padding-right: 1em; text-align: center; vertical-align: top\">Lvl</td>\n",
       "        <td style=\"padding-left: 1em; padding-right: 1em; text-align: center; vertical-align: top\">AllPub</td>\n",
       "        <td style=\"padding-left: 1em; padding-right: 1em; text-align: center; vertical-align: top\">Inside</td>\n",
       "        <td style=\"padding-left: 1em; padding-right: 1em; text-align: center; vertical-align: top\">Gtl</td>\n",
       "    </tr>\n",
       "    <tr>\n",
       "        <td style=\"padding-left: 1em; padding-right: 1em; text-align: center; vertical-align: top\">1468</td>\n",
       "        <td style=\"padding-left: 1em; padding-right: 1em; text-align: center; vertical-align: top\">60</td>\n",
       "        <td style=\"padding-left: 1em; padding-right: 1em; text-align: center; vertical-align: top\">RL</td>\n",
       "        <td style=\"padding-left: 1em; padding-right: 1em; text-align: center; vertical-align: top\">8402</td>\n",
       "        <td style=\"padding-left: 1em; padding-right: 1em; text-align: center; vertical-align: top\">Pave</td>\n",
       "        <td style=\"padding-left: 1em; padding-right: 1em; text-align: center; vertical-align: top\">None</td>\n",
       "        <td style=\"padding-left: 1em; padding-right: 1em; text-align: center; vertical-align: top\">IR1</td>\n",
       "        <td style=\"padding-left: 1em; padding-right: 1em; text-align: center; vertical-align: top\">Lvl</td>\n",
       "        <td style=\"padding-left: 1em; padding-right: 1em; text-align: center; vertical-align: top\">AllPub</td>\n",
       "        <td style=\"padding-left: 1em; padding-right: 1em; text-align: center; vertical-align: top\">Inside</td>\n",
       "        <td style=\"padding-left: 1em; padding-right: 1em; text-align: center; vertical-align: top\">Gtl</td>\n",
       "    </tr>\n",
       "    <tr>\n",
       "        <td style=\"padding-left: 1em; padding-right: 1em; text-align: center; vertical-align: top\">1469</td>\n",
       "        <td style=\"padding-left: 1em; padding-right: 1em; text-align: center; vertical-align: top\">20</td>\n",
       "        <td style=\"padding-left: 1em; padding-right: 1em; text-align: center; vertical-align: top\">RL</td>\n",
       "        <td style=\"padding-left: 1em; padding-right: 1em; text-align: center; vertical-align: top\">10176</td>\n",
       "        <td style=\"padding-left: 1em; padding-right: 1em; text-align: center; vertical-align: top\">Pave</td>\n",
       "        <td style=\"padding-left: 1em; padding-right: 1em; text-align: center; vertical-align: top\">None</td>\n",
       "        <td style=\"padding-left: 1em; padding-right: 1em; text-align: center; vertical-align: top\">Reg</td>\n",
       "        <td style=\"padding-left: 1em; padding-right: 1em; text-align: center; vertical-align: top\">Lvl</td>\n",
       "        <td style=\"padding-left: 1em; padding-right: 1em; text-align: center; vertical-align: top\">AllPub</td>\n",
       "        <td style=\"padding-left: 1em; padding-right: 1em; text-align: center; vertical-align: top\">Inside</td>\n",
       "        <td style=\"padding-left: 1em; padding-right: 1em; text-align: center; vertical-align: top\">Gtl</td>\n",
       "    </tr>\n",
       "    <tr>\n",
       "        <td style=\"padding-left: 1em; padding-right: 1em; text-align: center; vertical-align: top\">1470</td>\n",
       "        <td style=\"padding-left: 1em; padding-right: 1em; text-align: center; vertical-align: top\">20</td>\n",
       "        <td style=\"padding-left: 1em; padding-right: 1em; text-align: center; vertical-align: top\">RL</td>\n",
       "        <td style=\"padding-left: 1em; padding-right: 1em; text-align: center; vertical-align: top\">8400</td>\n",
       "        <td style=\"padding-left: 1em; padding-right: 1em; text-align: center; vertical-align: top\">Pave</td>\n",
       "        <td style=\"padding-left: 1em; padding-right: 1em; text-align: center; vertical-align: top\">None</td>\n",
       "        <td style=\"padding-left: 1em; padding-right: 1em; text-align: center; vertical-align: top\">Reg</td>\n",
       "        <td style=\"padding-left: 1em; padding-right: 1em; text-align: center; vertical-align: top\">Lvl</td>\n",
       "        <td style=\"padding-left: 1em; padding-right: 1em; text-align: center; vertical-align: top\">AllPub</td>\n",
       "        <td style=\"padding-left: 1em; padding-right: 1em; text-align: center; vertical-align: top\">Corner</td>\n",
       "        <td style=\"padding-left: 1em; padding-right: 1em; text-align: center; vertical-align: top\">Gtl</td>\n",
       "    </tr>\n",
       "</table>\n",
       "<table frame=\"box\" rules=\"cols\">\n",
       "    <tr>\n",
       "        <th style=\"padding-left: 1em; padding-right: 1em; text-align: center\">Neighborhood</th>\n",
       "        <th style=\"padding-left: 1em; padding-right: 1em; text-align: center\">Condition1</th>\n",
       "        <th style=\"padding-left: 1em; padding-right: 1em; text-align: center\">Condition2</th>\n",
       "        <th style=\"padding-left: 1em; padding-right: 1em; text-align: center\">BldgType</th>\n",
       "        <th style=\"padding-left: 1em; padding-right: 1em; text-align: center\">HouseStyle</th>\n",
       "        <th style=\"padding-left: 1em; padding-right: 1em; text-align: center\">OverallQual</th>\n",
       "        <th style=\"padding-left: 1em; padding-right: 1em; text-align: center\">OverallCond</th>\n",
       "        <th style=\"padding-left: 1em; padding-right: 1em; text-align: center\">YearBuilt</th>\n",
       "        <th style=\"padding-left: 1em; padding-right: 1em; text-align: center\">YearRemodAdd</th>\n",
       "    </tr>\n",
       "    <tr>\n",
       "        <td style=\"padding-left: 1em; padding-right: 1em; text-align: center; vertical-align: top\">NAmes</td>\n",
       "        <td style=\"padding-left: 1em; padding-right: 1em; text-align: center; vertical-align: top\">Feedr</td>\n",
       "        <td style=\"padding-left: 1em; padding-right: 1em; text-align: center; vertical-align: top\">Norm</td>\n",
       "        <td style=\"padding-left: 1em; padding-right: 1em; text-align: center; vertical-align: top\">1Fam</td>\n",
       "        <td style=\"padding-left: 1em; padding-right: 1em; text-align: center; vertical-align: top\">1Story</td>\n",
       "        <td style=\"padding-left: 1em; padding-right: 1em; text-align: center; vertical-align: top\">5</td>\n",
       "        <td style=\"padding-left: 1em; padding-right: 1em; text-align: center; vertical-align: top\">6</td>\n",
       "        <td style=\"padding-left: 1em; padding-right: 1em; text-align: center; vertical-align: top\">1961</td>\n",
       "        <td style=\"padding-left: 1em; padding-right: 1em; text-align: center; vertical-align: top\">1961</td>\n",
       "    </tr>\n",
       "    <tr>\n",
       "        <td style=\"padding-left: 1em; padding-right: 1em; text-align: center; vertical-align: top\">NAmes</td>\n",
       "        <td style=\"padding-left: 1em; padding-right: 1em; text-align: center; vertical-align: top\">Norm</td>\n",
       "        <td style=\"padding-left: 1em; padding-right: 1em; text-align: center; vertical-align: top\">Norm</td>\n",
       "        <td style=\"padding-left: 1em; padding-right: 1em; text-align: center; vertical-align: top\">1Fam</td>\n",
       "        <td style=\"padding-left: 1em; padding-right: 1em; text-align: center; vertical-align: top\">1Story</td>\n",
       "        <td style=\"padding-left: 1em; padding-right: 1em; text-align: center; vertical-align: top\">6</td>\n",
       "        <td style=\"padding-left: 1em; padding-right: 1em; text-align: center; vertical-align: top\">6</td>\n",
       "        <td style=\"padding-left: 1em; padding-right: 1em; text-align: center; vertical-align: top\">1958</td>\n",
       "        <td style=\"padding-left: 1em; padding-right: 1em; text-align: center; vertical-align: top\">1958</td>\n",
       "    </tr>\n",
       "    <tr>\n",
       "        <td style=\"padding-left: 1em; padding-right: 1em; text-align: center; vertical-align: top\">Gilbert</td>\n",
       "        <td style=\"padding-left: 1em; padding-right: 1em; text-align: center; vertical-align: top\">Norm</td>\n",
       "        <td style=\"padding-left: 1em; padding-right: 1em; text-align: center; vertical-align: top\">Norm</td>\n",
       "        <td style=\"padding-left: 1em; padding-right: 1em; text-align: center; vertical-align: top\">1Fam</td>\n",
       "        <td style=\"padding-left: 1em; padding-right: 1em; text-align: center; vertical-align: top\">2Story</td>\n",
       "        <td style=\"padding-left: 1em; padding-right: 1em; text-align: center; vertical-align: top\">5</td>\n",
       "        <td style=\"padding-left: 1em; padding-right: 1em; text-align: center; vertical-align: top\">5</td>\n",
       "        <td style=\"padding-left: 1em; padding-right: 1em; text-align: center; vertical-align: top\">1997</td>\n",
       "        <td style=\"padding-left: 1em; padding-right: 1em; text-align: center; vertical-align: top\">1998</td>\n",
       "    </tr>\n",
       "    <tr>\n",
       "        <td style=\"padding-left: 1em; padding-right: 1em; text-align: center; vertical-align: top\">Gilbert</td>\n",
       "        <td style=\"padding-left: 1em; padding-right: 1em; text-align: center; vertical-align: top\">Norm</td>\n",
       "        <td style=\"padding-left: 1em; padding-right: 1em; text-align: center; vertical-align: top\">Norm</td>\n",
       "        <td style=\"padding-left: 1em; padding-right: 1em; text-align: center; vertical-align: top\">1Fam</td>\n",
       "        <td style=\"padding-left: 1em; padding-right: 1em; text-align: center; vertical-align: top\">2Story</td>\n",
       "        <td style=\"padding-left: 1em; padding-right: 1em; text-align: center; vertical-align: top\">6</td>\n",
       "        <td style=\"padding-left: 1em; padding-right: 1em; text-align: center; vertical-align: top\">6</td>\n",
       "        <td style=\"padding-left: 1em; padding-right: 1em; text-align: center; vertical-align: top\">1998</td>\n",
       "        <td style=\"padding-left: 1em; padding-right: 1em; text-align: center; vertical-align: top\">1998</td>\n",
       "    </tr>\n",
       "    <tr>\n",
       "        <td style=\"padding-left: 1em; padding-right: 1em; text-align: center; vertical-align: top\">StoneBr</td>\n",
       "        <td style=\"padding-left: 1em; padding-right: 1em; text-align: center; vertical-align: top\">Norm</td>\n",
       "        <td style=\"padding-left: 1em; padding-right: 1em; text-align: center; vertical-align: top\">Norm</td>\n",
       "        <td style=\"padding-left: 1em; padding-right: 1em; text-align: center; vertical-align: top\">TwnhsE</td>\n",
       "        <td style=\"padding-left: 1em; padding-right: 1em; text-align: center; vertical-align: top\">1Story</td>\n",
       "        <td style=\"padding-left: 1em; padding-right: 1em; text-align: center; vertical-align: top\">8</td>\n",
       "        <td style=\"padding-left: 1em; padding-right: 1em; text-align: center; vertical-align: top\">5</td>\n",
       "        <td style=\"padding-left: 1em; padding-right: 1em; text-align: center; vertical-align: top\">1992</td>\n",
       "        <td style=\"padding-left: 1em; padding-right: 1em; text-align: center; vertical-align: top\">1992</td>\n",
       "    </tr>\n",
       "    <tr>\n",
       "        <td style=\"padding-left: 1em; padding-right: 1em; text-align: center; vertical-align: top\">Gilbert</td>\n",
       "        <td style=\"padding-left: 1em; padding-right: 1em; text-align: center; vertical-align: top\">Norm</td>\n",
       "        <td style=\"padding-left: 1em; padding-right: 1em; text-align: center; vertical-align: top\">Norm</td>\n",
       "        <td style=\"padding-left: 1em; padding-right: 1em; text-align: center; vertical-align: top\">1Fam</td>\n",
       "        <td style=\"padding-left: 1em; padding-right: 1em; text-align: center; vertical-align: top\">2Story</td>\n",
       "        <td style=\"padding-left: 1em; padding-right: 1em; text-align: center; vertical-align: top\">6</td>\n",
       "        <td style=\"padding-left: 1em; padding-right: 1em; text-align: center; vertical-align: top\">5</td>\n",
       "        <td style=\"padding-left: 1em; padding-right: 1em; text-align: center; vertical-align: top\">1993</td>\n",
       "        <td style=\"padding-left: 1em; padding-right: 1em; text-align: center; vertical-align: top\">1994</td>\n",
       "    </tr>\n",
       "    <tr>\n",
       "        <td style=\"padding-left: 1em; padding-right: 1em; text-align: center; vertical-align: top\">Gilbert</td>\n",
       "        <td style=\"padding-left: 1em; padding-right: 1em; text-align: center; vertical-align: top\">Norm</td>\n",
       "        <td style=\"padding-left: 1em; padding-right: 1em; text-align: center; vertical-align: top\">Norm</td>\n",
       "        <td style=\"padding-left: 1em; padding-right: 1em; text-align: center; vertical-align: top\">1Fam</td>\n",
       "        <td style=\"padding-left: 1em; padding-right: 1em; text-align: center; vertical-align: top\">1Story</td>\n",
       "        <td style=\"padding-left: 1em; padding-right: 1em; text-align: center; vertical-align: top\">6</td>\n",
       "        <td style=\"padding-left: 1em; padding-right: 1em; text-align: center; vertical-align: top\">7</td>\n",
       "        <td style=\"padding-left: 1em; padding-right: 1em; text-align: center; vertical-align: top\">1992</td>\n",
       "        <td style=\"padding-left: 1em; padding-right: 1em; text-align: center; vertical-align: top\">2007</td>\n",
       "    </tr>\n",
       "    <tr>\n",
       "        <td style=\"padding-left: 1em; padding-right: 1em; text-align: center; vertical-align: top\">Gilbert</td>\n",
       "        <td style=\"padding-left: 1em; padding-right: 1em; text-align: center; vertical-align: top\">Norm</td>\n",
       "        <td style=\"padding-left: 1em; padding-right: 1em; text-align: center; vertical-align: top\">Norm</td>\n",
       "        <td style=\"padding-left: 1em; padding-right: 1em; text-align: center; vertical-align: top\">1Fam</td>\n",
       "        <td style=\"padding-left: 1em; padding-right: 1em; text-align: center; vertical-align: top\">2Story</td>\n",
       "        <td style=\"padding-left: 1em; padding-right: 1em; text-align: center; vertical-align: top\">6</td>\n",
       "        <td style=\"padding-left: 1em; padding-right: 1em; text-align: center; vertical-align: top\">5</td>\n",
       "        <td style=\"padding-left: 1em; padding-right: 1em; text-align: center; vertical-align: top\">1998</td>\n",
       "        <td style=\"padding-left: 1em; padding-right: 1em; text-align: center; vertical-align: top\">1998</td>\n",
       "    </tr>\n",
       "    <tr>\n",
       "        <td style=\"padding-left: 1em; padding-right: 1em; text-align: center; vertical-align: top\">Gilbert</td>\n",
       "        <td style=\"padding-left: 1em; padding-right: 1em; text-align: center; vertical-align: top\">Norm</td>\n",
       "        <td style=\"padding-left: 1em; padding-right: 1em; text-align: center; vertical-align: top\">Norm</td>\n",
       "        <td style=\"padding-left: 1em; padding-right: 1em; text-align: center; vertical-align: top\">1Fam</td>\n",
       "        <td style=\"padding-left: 1em; padding-right: 1em; text-align: center; vertical-align: top\">1Story</td>\n",
       "        <td style=\"padding-left: 1em; padding-right: 1em; text-align: center; vertical-align: top\">7</td>\n",
       "        <td style=\"padding-left: 1em; padding-right: 1em; text-align: center; vertical-align: top\">5</td>\n",
       "        <td style=\"padding-left: 1em; padding-right: 1em; text-align: center; vertical-align: top\">1990</td>\n",
       "        <td style=\"padding-left: 1em; padding-right: 1em; text-align: center; vertical-align: top\">1990</td>\n",
       "    </tr>\n",
       "    <tr>\n",
       "        <td style=\"padding-left: 1em; padding-right: 1em; text-align: center; vertical-align: top\">NAmes</td>\n",
       "        <td style=\"padding-left: 1em; padding-right: 1em; text-align: center; vertical-align: top\">Norm</td>\n",
       "        <td style=\"padding-left: 1em; padding-right: 1em; text-align: center; vertical-align: top\">Norm</td>\n",
       "        <td style=\"padding-left: 1em; padding-right: 1em; text-align: center; vertical-align: top\">1Fam</td>\n",
       "        <td style=\"padding-left: 1em; padding-right: 1em; text-align: center; vertical-align: top\">1Story</td>\n",
       "        <td style=\"padding-left: 1em; padding-right: 1em; text-align: center; vertical-align: top\">4</td>\n",
       "        <td style=\"padding-left: 1em; padding-right: 1em; text-align: center; vertical-align: top\">5</td>\n",
       "        <td style=\"padding-left: 1em; padding-right: 1em; text-align: center; vertical-align: top\">1970</td>\n",
       "        <td style=\"padding-left: 1em; padding-right: 1em; text-align: center; vertical-align: top\">1970</td>\n",
       "    </tr>\n",
       "</table>\n",
       "<table frame=\"box\" rules=\"cols\">\n",
       "    <tr>\n",
       "        <th style=\"padding-left: 1em; padding-right: 1em; text-align: center\">RoofStyle</th>\n",
       "        <th style=\"padding-left: 1em; padding-right: 1em; text-align: center\">RoofMatl</th>\n",
       "        <th style=\"padding-left: 1em; padding-right: 1em; text-align: center\">Exterior1st</th>\n",
       "        <th style=\"padding-left: 1em; padding-right: 1em; text-align: center\">Exterior2nd</th>\n",
       "        <th style=\"padding-left: 1em; padding-right: 1em; text-align: center\">MasVnrType</th>\n",
       "        <th style=\"padding-left: 1em; padding-right: 1em; text-align: center\">ExterQual</th>\n",
       "        <th style=\"padding-left: 1em; padding-right: 1em; text-align: center\">ExterCond</th>\n",
       "        <th style=\"padding-left: 1em; padding-right: 1em; text-align: center\">Foundation</th>\n",
       "        <th style=\"padding-left: 1em; padding-right: 1em; text-align: center\">BsmtQual</th>\n",
       "        <th style=\"padding-left: 1em; padding-right: 1em; text-align: center\">BsmtCond</th>\n",
       "    </tr>\n",
       "    <tr>\n",
       "        <td style=\"padding-left: 1em; padding-right: 1em; text-align: center; vertical-align: top\">Gable</td>\n",
       "        <td style=\"padding-left: 1em; padding-right: 1em; text-align: center; vertical-align: top\">CompShg</td>\n",
       "        <td style=\"padding-left: 1em; padding-right: 1em; text-align: center; vertical-align: top\">VinylSd</td>\n",
       "        <td style=\"padding-left: 1em; padding-right: 1em; text-align: center; vertical-align: top\">VinylSd</td>\n",
       "        <td style=\"padding-left: 1em; padding-right: 1em; text-align: center; vertical-align: top\">None</td>\n",
       "        <td style=\"padding-left: 1em; padding-right: 1em; text-align: center; vertical-align: top\">TA</td>\n",
       "        <td style=\"padding-left: 1em; padding-right: 1em; text-align: center; vertical-align: top\">TA</td>\n",
       "        <td style=\"padding-left: 1em; padding-right: 1em; text-align: center; vertical-align: top\">CBlock</td>\n",
       "        <td style=\"padding-left: 1em; padding-right: 1em; text-align: center; vertical-align: top\">TA</td>\n",
       "        <td style=\"padding-left: 1em; padding-right: 1em; text-align: center; vertical-align: top\">TA</td>\n",
       "    </tr>\n",
       "    <tr>\n",
       "        <td style=\"padding-left: 1em; padding-right: 1em; text-align: center; vertical-align: top\">Hip</td>\n",
       "        <td style=\"padding-left: 1em; padding-right: 1em; text-align: center; vertical-align: top\">CompShg</td>\n",
       "        <td style=\"padding-left: 1em; padding-right: 1em; text-align: center; vertical-align: top\">Wd Sdng</td>\n",
       "        <td style=\"padding-left: 1em; padding-right: 1em; text-align: center; vertical-align: top\">Wd Sdng</td>\n",
       "        <td style=\"padding-left: 1em; padding-right: 1em; text-align: center; vertical-align: top\">BrkFace</td>\n",
       "        <td style=\"padding-left: 1em; padding-right: 1em; text-align: center; vertical-align: top\">TA</td>\n",
       "        <td style=\"padding-left: 1em; padding-right: 1em; text-align: center; vertical-align: top\">TA</td>\n",
       "        <td style=\"padding-left: 1em; padding-right: 1em; text-align: center; vertical-align: top\">CBlock</td>\n",
       "        <td style=\"padding-left: 1em; padding-right: 1em; text-align: center; vertical-align: top\">TA</td>\n",
       "        <td style=\"padding-left: 1em; padding-right: 1em; text-align: center; vertical-align: top\">TA</td>\n",
       "    </tr>\n",
       "    <tr>\n",
       "        <td style=\"padding-left: 1em; padding-right: 1em; text-align: center; vertical-align: top\">Gable</td>\n",
       "        <td style=\"padding-left: 1em; padding-right: 1em; text-align: center; vertical-align: top\">CompShg</td>\n",
       "        <td style=\"padding-left: 1em; padding-right: 1em; text-align: center; vertical-align: top\">VinylSd</td>\n",
       "        <td style=\"padding-left: 1em; padding-right: 1em; text-align: center; vertical-align: top\">VinylSd</td>\n",
       "        <td style=\"padding-left: 1em; padding-right: 1em; text-align: center; vertical-align: top\">None</td>\n",
       "        <td style=\"padding-left: 1em; padding-right: 1em; text-align: center; vertical-align: top\">TA</td>\n",
       "        <td style=\"padding-left: 1em; padding-right: 1em; text-align: center; vertical-align: top\">TA</td>\n",
       "        <td style=\"padding-left: 1em; padding-right: 1em; text-align: center; vertical-align: top\">PConc</td>\n",
       "        <td style=\"padding-left: 1em; padding-right: 1em; text-align: center; vertical-align: top\">Gd</td>\n",
       "        <td style=\"padding-left: 1em; padding-right: 1em; text-align: center; vertical-align: top\">TA</td>\n",
       "    </tr>\n",
       "    <tr>\n",
       "        <td style=\"padding-left: 1em; padding-right: 1em; text-align: center; vertical-align: top\">Gable</td>\n",
       "        <td style=\"padding-left: 1em; padding-right: 1em; text-align: center; vertical-align: top\">CompShg</td>\n",
       "        <td style=\"padding-left: 1em; padding-right: 1em; text-align: center; vertical-align: top\">VinylSd</td>\n",
       "        <td style=\"padding-left: 1em; padding-right: 1em; text-align: center; vertical-align: top\">VinylSd</td>\n",
       "        <td style=\"padding-left: 1em; padding-right: 1em; text-align: center; vertical-align: top\">BrkFace</td>\n",
       "        <td style=\"padding-left: 1em; padding-right: 1em; text-align: center; vertical-align: top\">TA</td>\n",
       "        <td style=\"padding-left: 1em; padding-right: 1em; text-align: center; vertical-align: top\">TA</td>\n",
       "        <td style=\"padding-left: 1em; padding-right: 1em; text-align: center; vertical-align: top\">PConc</td>\n",
       "        <td style=\"padding-left: 1em; padding-right: 1em; text-align: center; vertical-align: top\">TA</td>\n",
       "        <td style=\"padding-left: 1em; padding-right: 1em; text-align: center; vertical-align: top\">TA</td>\n",
       "    </tr>\n",
       "    <tr>\n",
       "        <td style=\"padding-left: 1em; padding-right: 1em; text-align: center; vertical-align: top\">Gable</td>\n",
       "        <td style=\"padding-left: 1em; padding-right: 1em; text-align: center; vertical-align: top\">CompShg</td>\n",
       "        <td style=\"padding-left: 1em; padding-right: 1em; text-align: center; vertical-align: top\">HdBoard</td>\n",
       "        <td style=\"padding-left: 1em; padding-right: 1em; text-align: center; vertical-align: top\">HdBoard</td>\n",
       "        <td style=\"padding-left: 1em; padding-right: 1em; text-align: center; vertical-align: top\">None</td>\n",
       "        <td style=\"padding-left: 1em; padding-right: 1em; text-align: center; vertical-align: top\">Gd</td>\n",
       "        <td style=\"padding-left: 1em; padding-right: 1em; text-align: center; vertical-align: top\">TA</td>\n",
       "        <td style=\"padding-left: 1em; padding-right: 1em; text-align: center; vertical-align: top\">PConc</td>\n",
       "        <td style=\"padding-left: 1em; padding-right: 1em; text-align: center; vertical-align: top\">Gd</td>\n",
       "        <td style=\"padding-left: 1em; padding-right: 1em; text-align: center; vertical-align: top\">TA</td>\n",
       "    </tr>\n",
       "    <tr>\n",
       "        <td style=\"padding-left: 1em; padding-right: 1em; text-align: center; vertical-align: top\">Gable</td>\n",
       "        <td style=\"padding-left: 1em; padding-right: 1em; text-align: center; vertical-align: top\">CompShg</td>\n",
       "        <td style=\"padding-left: 1em; padding-right: 1em; text-align: center; vertical-align: top\">HdBoard</td>\n",
       "        <td style=\"padding-left: 1em; padding-right: 1em; text-align: center; vertical-align: top\">HdBoard</td>\n",
       "        <td style=\"padding-left: 1em; padding-right: 1em; text-align: center; vertical-align: top\">None</td>\n",
       "        <td style=\"padding-left: 1em; padding-right: 1em; text-align: center; vertical-align: top\">TA</td>\n",
       "        <td style=\"padding-left: 1em; padding-right: 1em; text-align: center; vertical-align: top\">TA</td>\n",
       "        <td style=\"padding-left: 1em; padding-right: 1em; text-align: center; vertical-align: top\">PConc</td>\n",
       "        <td style=\"padding-left: 1em; padding-right: 1em; text-align: center; vertical-align: top\">Gd</td>\n",
       "        <td style=\"padding-left: 1em; padding-right: 1em; text-align: center; vertical-align: top\">TA</td>\n",
       "    </tr>\n",
       "    <tr>\n",
       "        <td style=\"padding-left: 1em; padding-right: 1em; text-align: center; vertical-align: top\">Gable</td>\n",
       "        <td style=\"padding-left: 1em; padding-right: 1em; text-align: center; vertical-align: top\">CompShg</td>\n",
       "        <td style=\"padding-left: 1em; padding-right: 1em; text-align: center; vertical-align: top\">HdBoard</td>\n",
       "        <td style=\"padding-left: 1em; padding-right: 1em; text-align: center; vertical-align: top\">HdBoard</td>\n",
       "        <td style=\"padding-left: 1em; padding-right: 1em; text-align: center; vertical-align: top\">None</td>\n",
       "        <td style=\"padding-left: 1em; padding-right: 1em; text-align: center; vertical-align: top\">TA</td>\n",
       "        <td style=\"padding-left: 1em; padding-right: 1em; text-align: center; vertical-align: top\">Gd</td>\n",
       "        <td style=\"padding-left: 1em; padding-right: 1em; text-align: center; vertical-align: top\">PConc</td>\n",
       "        <td style=\"padding-left: 1em; padding-right: 1em; text-align: center; vertical-align: top\">Gd</td>\n",
       "        <td style=\"padding-left: 1em; padding-right: 1em; text-align: center; vertical-align: top\">TA</td>\n",
       "    </tr>\n",
       "    <tr>\n",
       "        <td style=\"padding-left: 1em; padding-right: 1em; text-align: center; vertical-align: top\">Gable</td>\n",
       "        <td style=\"padding-left: 1em; padding-right: 1em; text-align: center; vertical-align: top\">CompShg</td>\n",
       "        <td style=\"padding-left: 1em; padding-right: 1em; text-align: center; vertical-align: top\">VinylSd</td>\n",
       "        <td style=\"padding-left: 1em; padding-right: 1em; text-align: center; vertical-align: top\">VinylSd</td>\n",
       "        <td style=\"padding-left: 1em; padding-right: 1em; text-align: center; vertical-align: top\">None</td>\n",
       "        <td style=\"padding-left: 1em; padding-right: 1em; text-align: center; vertical-align: top\">TA</td>\n",
       "        <td style=\"padding-left: 1em; padding-right: 1em; text-align: center; vertical-align: top\">TA</td>\n",
       "        <td style=\"padding-left: 1em; padding-right: 1em; text-align: center; vertical-align: top\">PConc</td>\n",
       "        <td style=\"padding-left: 1em; padding-right: 1em; text-align: center; vertical-align: top\">Gd</td>\n",
       "        <td style=\"padding-left: 1em; padding-right: 1em; text-align: center; vertical-align: top\">TA</td>\n",
       "    </tr>\n",
       "    <tr>\n",
       "        <td style=\"padding-left: 1em; padding-right: 1em; text-align: center; vertical-align: top\">Gable</td>\n",
       "        <td style=\"padding-left: 1em; padding-right: 1em; text-align: center; vertical-align: top\">CompShg</td>\n",
       "        <td style=\"padding-left: 1em; padding-right: 1em; text-align: center; vertical-align: top\">HdBoard</td>\n",
       "        <td style=\"padding-left: 1em; padding-right: 1em; text-align: center; vertical-align: top\">HdBoard</td>\n",
       "        <td style=\"padding-left: 1em; padding-right: 1em; text-align: center; vertical-align: top\">None</td>\n",
       "        <td style=\"padding-left: 1em; padding-right: 1em; text-align: center; vertical-align: top\">TA</td>\n",
       "        <td style=\"padding-left: 1em; padding-right: 1em; text-align: center; vertical-align: top\">TA</td>\n",
       "        <td style=\"padding-left: 1em; padding-right: 1em; text-align: center; vertical-align: top\">PConc</td>\n",
       "        <td style=\"padding-left: 1em; padding-right: 1em; text-align: center; vertical-align: top\">Gd</td>\n",
       "        <td style=\"padding-left: 1em; padding-right: 1em; text-align: center; vertical-align: top\">TA</td>\n",
       "    </tr>\n",
       "    <tr>\n",
       "        <td style=\"padding-left: 1em; padding-right: 1em; text-align: center; vertical-align: top\">Gable</td>\n",
       "        <td style=\"padding-left: 1em; padding-right: 1em; text-align: center; vertical-align: top\">CompShg</td>\n",
       "        <td style=\"padding-left: 1em; padding-right: 1em; text-align: center; vertical-align: top\">Plywood</td>\n",
       "        <td style=\"padding-left: 1em; padding-right: 1em; text-align: center; vertical-align: top\">Plywood</td>\n",
       "        <td style=\"padding-left: 1em; padding-right: 1em; text-align: center; vertical-align: top\">None</td>\n",
       "        <td style=\"padding-left: 1em; padding-right: 1em; text-align: center; vertical-align: top\">TA</td>\n",
       "        <td style=\"padding-left: 1em; padding-right: 1em; text-align: center; vertical-align: top\">TA</td>\n",
       "        <td style=\"padding-left: 1em; padding-right: 1em; text-align: center; vertical-align: top\">CBlock</td>\n",
       "        <td style=\"padding-left: 1em; padding-right: 1em; text-align: center; vertical-align: top\">TA</td>\n",
       "        <td style=\"padding-left: 1em; padding-right: 1em; text-align: center; vertical-align: top\">TA</td>\n",
       "    </tr>\n",
       "</table>\n",
       "<table frame=\"box\" rules=\"cols\">\n",
       "    <tr>\n",
       "        <th style=\"padding-left: 1em; padding-right: 1em; text-align: center\">BsmtExposure</th>\n",
       "        <th style=\"padding-left: 1em; padding-right: 1em; text-align: center\">BsmtFinType1</th>\n",
       "        <th style=\"padding-left: 1em; padding-right: 1em; text-align: center\">BsmtFinSF1</th>\n",
       "        <th style=\"padding-left: 1em; padding-right: 1em; text-align: center\">BsmtFinType2</th>\n",
       "        <th style=\"padding-left: 1em; padding-right: 1em; text-align: center\">BsmtFinSF2</th>\n",
       "        <th style=\"padding-left: 1em; padding-right: 1em; text-align: center\">BsmtUnfSF</th>\n",
       "        <th style=\"padding-left: 1em; padding-right: 1em; text-align: center\">TotalBsmtSF</th>\n",
       "        <th style=\"padding-left: 1em; padding-right: 1em; text-align: center\">Heating</th>\n",
       "        <th style=\"padding-left: 1em; padding-right: 1em; text-align: center\">HeatingQC</th>\n",
       "    </tr>\n",
       "    <tr>\n",
       "        <td style=\"padding-left: 1em; padding-right: 1em; text-align: center; vertical-align: top\">No</td>\n",
       "        <td style=\"padding-left: 1em; padding-right: 1em; text-align: center; vertical-align: top\">Rec</td>\n",
       "        <td style=\"padding-left: 1em; padding-right: 1em; text-align: center; vertical-align: top\">468</td>\n",
       "        <td style=\"padding-left: 1em; padding-right: 1em; text-align: center; vertical-align: top\">LwQ</td>\n",
       "        <td style=\"padding-left: 1em; padding-right: 1em; text-align: center; vertical-align: top\">144</td>\n",
       "        <td style=\"padding-left: 1em; padding-right: 1em; text-align: center; vertical-align: top\">270</td>\n",
       "        <td style=\"padding-left: 1em; padding-right: 1em; text-align: center; vertical-align: top\">882</td>\n",
       "        <td style=\"padding-left: 1em; padding-right: 1em; text-align: center; vertical-align: top\">GasA</td>\n",
       "        <td style=\"padding-left: 1em; padding-right: 1em; text-align: center; vertical-align: top\">TA</td>\n",
       "    </tr>\n",
       "    <tr>\n",
       "        <td style=\"padding-left: 1em; padding-right: 1em; text-align: center; vertical-align: top\">No</td>\n",
       "        <td style=\"padding-left: 1em; padding-right: 1em; text-align: center; vertical-align: top\">ALQ</td>\n",
       "        <td style=\"padding-left: 1em; padding-right: 1em; text-align: center; vertical-align: top\">923</td>\n",
       "        <td style=\"padding-left: 1em; padding-right: 1em; text-align: center; vertical-align: top\">Unf</td>\n",
       "        <td style=\"padding-left: 1em; padding-right: 1em; text-align: center; vertical-align: top\">0</td>\n",
       "        <td style=\"padding-left: 1em; padding-right: 1em; text-align: center; vertical-align: top\">406</td>\n",
       "        <td style=\"padding-left: 1em; padding-right: 1em; text-align: center; vertical-align: top\">1329</td>\n",
       "        <td style=\"padding-left: 1em; padding-right: 1em; text-align: center; vertical-align: top\">GasA</td>\n",
       "        <td style=\"padding-left: 1em; padding-right: 1em; text-align: center; vertical-align: top\">TA</td>\n",
       "    </tr>\n",
       "    <tr>\n",
       "        <td style=\"padding-left: 1em; padding-right: 1em; text-align: center; vertical-align: top\">No</td>\n",
       "        <td style=\"padding-left: 1em; padding-right: 1em; text-align: center; vertical-align: top\">GLQ</td>\n",
       "        <td style=\"padding-left: 1em; padding-right: 1em; text-align: center; vertical-align: top\">791</td>\n",
       "        <td style=\"padding-left: 1em; padding-right: 1em; text-align: center; vertical-align: top\">Unf</td>\n",
       "        <td style=\"padding-left: 1em; padding-right: 1em; text-align: center; vertical-align: top\">0</td>\n",
       "        <td style=\"padding-left: 1em; padding-right: 1em; text-align: center; vertical-align: top\">137</td>\n",
       "        <td style=\"padding-left: 1em; padding-right: 1em; text-align: center; vertical-align: top\">928</td>\n",
       "        <td style=\"padding-left: 1em; padding-right: 1em; text-align: center; vertical-align: top\">GasA</td>\n",
       "        <td style=\"padding-left: 1em; padding-right: 1em; text-align: center; vertical-align: top\">Gd</td>\n",
       "    </tr>\n",
       "    <tr>\n",
       "        <td style=\"padding-left: 1em; padding-right: 1em; text-align: center; vertical-align: top\">No</td>\n",
       "        <td style=\"padding-left: 1em; padding-right: 1em; text-align: center; vertical-align: top\">GLQ</td>\n",
       "        <td style=\"padding-left: 1em; padding-right: 1em; text-align: center; vertical-align: top\">602</td>\n",
       "        <td style=\"padding-left: 1em; padding-right: 1em; text-align: center; vertical-align: top\">Unf</td>\n",
       "        <td style=\"padding-left: 1em; padding-right: 1em; text-align: center; vertical-align: top\">0</td>\n",
       "        <td style=\"padding-left: 1em; padding-right: 1em; text-align: center; vertical-align: top\">324</td>\n",
       "        <td style=\"padding-left: 1em; padding-right: 1em; text-align: center; vertical-align: top\">926</td>\n",
       "        <td style=\"padding-left: 1em; padding-right: 1em; text-align: center; vertical-align: top\">GasA</td>\n",
       "        <td style=\"padding-left: 1em; padding-right: 1em; text-align: center; vertical-align: top\">Ex</td>\n",
       "    </tr>\n",
       "    <tr>\n",
       "        <td style=\"padding-left: 1em; padding-right: 1em; text-align: center; vertical-align: top\">No</td>\n",
       "        <td style=\"padding-left: 1em; padding-right: 1em; text-align: center; vertical-align: top\">ALQ</td>\n",
       "        <td style=\"padding-left: 1em; padding-right: 1em; text-align: center; vertical-align: top\">263</td>\n",
       "        <td style=\"padding-left: 1em; padding-right: 1em; text-align: center; vertical-align: top\">Unf</td>\n",
       "        <td style=\"padding-left: 1em; padding-right: 1em; text-align: center; vertical-align: top\">0</td>\n",
       "        <td style=\"padding-left: 1em; padding-right: 1em; text-align: center; vertical-align: top\">1017</td>\n",
       "        <td style=\"padding-left: 1em; padding-right: 1em; text-align: center; vertical-align: top\">1280</td>\n",
       "        <td style=\"padding-left: 1em; padding-right: 1em; text-align: center; vertical-align: top\">GasA</td>\n",
       "        <td style=\"padding-left: 1em; padding-right: 1em; text-align: center; vertical-align: top\">Ex</td>\n",
       "    </tr>\n",
       "    <tr>\n",
       "        <td style=\"padding-left: 1em; padding-right: 1em; text-align: center; vertical-align: top\">No</td>\n",
       "        <td style=\"padding-left: 1em; padding-right: 1em; text-align: center; vertical-align: top\">Unf</td>\n",
       "        <td style=\"padding-left: 1em; padding-right: 1em; text-align: center; vertical-align: top\">0</td>\n",
       "        <td style=\"padding-left: 1em; padding-right: 1em; text-align: center; vertical-align: top\">Unf</td>\n",
       "        <td style=\"padding-left: 1em; padding-right: 1em; text-align: center; vertical-align: top\">0</td>\n",
       "        <td style=\"padding-left: 1em; padding-right: 1em; text-align: center; vertical-align: top\">763</td>\n",
       "        <td style=\"padding-left: 1em; padding-right: 1em; text-align: center; vertical-align: top\">763</td>\n",
       "        <td style=\"padding-left: 1em; padding-right: 1em; text-align: center; vertical-align: top\">GasA</td>\n",
       "        <td style=\"padding-left: 1em; padding-right: 1em; text-align: center; vertical-align: top\">Gd</td>\n",
       "    </tr>\n",
       "    <tr>\n",
       "        <td style=\"padding-left: 1em; padding-right: 1em; text-align: center; vertical-align: top\">No</td>\n",
       "        <td style=\"padding-left: 1em; padding-right: 1em; text-align: center; vertical-align: top\">ALQ</td>\n",
       "        <td style=\"padding-left: 1em; padding-right: 1em; text-align: center; vertical-align: top\">935</td>\n",
       "        <td style=\"padding-left: 1em; padding-right: 1em; text-align: center; vertical-align: top\">Unf</td>\n",
       "        <td style=\"padding-left: 1em; padding-right: 1em; text-align: center; vertical-align: top\">0</td>\n",
       "        <td style=\"padding-left: 1em; padding-right: 1em; text-align: center; vertical-align: top\">233</td>\n",
       "        <td style=\"padding-left: 1em; padding-right: 1em; text-align: center; vertical-align: top\">1168</td>\n",
       "        <td style=\"padding-left: 1em; padding-right: 1em; text-align: center; vertical-align: top\">GasA</td>\n",
       "        <td style=\"padding-left: 1em; padding-right: 1em; text-align: center; vertical-align: top\">Ex</td>\n",
       "    </tr>\n",
       "    <tr>\n",
       "        <td style=\"padding-left: 1em; padding-right: 1em; text-align: center; vertical-align: top\">No</td>\n",
       "        <td style=\"padding-left: 1em; padding-right: 1em; text-align: center; vertical-align: top\">Unf</td>\n",
       "        <td style=\"padding-left: 1em; padding-right: 1em; text-align: center; vertical-align: top\">0</td>\n",
       "        <td style=\"padding-left: 1em; padding-right: 1em; text-align: center; vertical-align: top\">Unf</td>\n",
       "        <td style=\"padding-left: 1em; padding-right: 1em; text-align: center; vertical-align: top\">0</td>\n",
       "        <td style=\"padding-left: 1em; padding-right: 1em; text-align: center; vertical-align: top\">789</td>\n",
       "        <td style=\"padding-left: 1em; padding-right: 1em; text-align: center; vertical-align: top\">789</td>\n",
       "        <td style=\"padding-left: 1em; padding-right: 1em; text-align: center; vertical-align: top\">GasA</td>\n",
       "        <td style=\"padding-left: 1em; padding-right: 1em; text-align: center; vertical-align: top\">Gd</td>\n",
       "    </tr>\n",
       "    <tr>\n",
       "        <td style=\"padding-left: 1em; padding-right: 1em; text-align: center; vertical-align: top\">Gd</td>\n",
       "        <td style=\"padding-left: 1em; padding-right: 1em; text-align: center; vertical-align: top\">GLQ</td>\n",
       "        <td style=\"padding-left: 1em; padding-right: 1em; text-align: center; vertical-align: top\">637</td>\n",
       "        <td style=\"padding-left: 1em; padding-right: 1em; text-align: center; vertical-align: top\">Unf</td>\n",
       "        <td style=\"padding-left: 1em; padding-right: 1em; text-align: center; vertical-align: top\">0</td>\n",
       "        <td style=\"padding-left: 1em; padding-right: 1em; text-align: center; vertical-align: top\">663</td>\n",
       "        <td style=\"padding-left: 1em; padding-right: 1em; text-align: center; vertical-align: top\">1300</td>\n",
       "        <td style=\"padding-left: 1em; padding-right: 1em; text-align: center; vertical-align: top\">GasA</td>\n",
       "        <td style=\"padding-left: 1em; padding-right: 1em; text-align: center; vertical-align: top\">Gd</td>\n",
       "    </tr>\n",
       "    <tr>\n",
       "        <td style=\"padding-left: 1em; padding-right: 1em; text-align: center; vertical-align: top\">No</td>\n",
       "        <td style=\"padding-left: 1em; padding-right: 1em; text-align: center; vertical-align: top\">ALQ</td>\n",
       "        <td style=\"padding-left: 1em; padding-right: 1em; text-align: center; vertical-align: top\">804</td>\n",
       "        <td style=\"padding-left: 1em; padding-right: 1em; text-align: center; vertical-align: top\">Rec</td>\n",
       "        <td style=\"padding-left: 1em; padding-right: 1em; text-align: center; vertical-align: top\">78</td>\n",
       "        <td style=\"padding-left: 1em; padding-right: 1em; text-align: center; vertical-align: top\">0</td>\n",
       "        <td style=\"padding-left: 1em; padding-right: 1em; text-align: center; vertical-align: top\">882</td>\n",
       "        <td style=\"padding-left: 1em; padding-right: 1em; text-align: center; vertical-align: top\">GasA</td>\n",
       "        <td style=\"padding-left: 1em; padding-right: 1em; text-align: center; vertical-align: top\">TA</td>\n",
       "    </tr>\n",
       "</table>\n",
       "<table frame=\"box\" rules=\"cols\">\n",
       "    <tr>\n",
       "        <th style=\"padding-left: 1em; padding-right: 1em; text-align: center\">CentralAir</th>\n",
       "        <th style=\"padding-left: 1em; padding-right: 1em; text-align: center\">...</th>\n",
       "    </tr>\n",
       "    <tr>\n",
       "        <td style=\"padding-left: 1em; padding-right: 1em; text-align: center; vertical-align: top\">Y</td>\n",
       "        <td style=\"padding-left: 1em; padding-right: 1em; text-align: center; vertical-align: top\">...</td>\n",
       "    </tr>\n",
       "    <tr>\n",
       "        <td style=\"padding-left: 1em; padding-right: 1em; text-align: center; vertical-align: top\">Y</td>\n",
       "        <td style=\"padding-left: 1em; padding-right: 1em; text-align: center; vertical-align: top\">...</td>\n",
       "    </tr>\n",
       "    <tr>\n",
       "        <td style=\"padding-left: 1em; padding-right: 1em; text-align: center; vertical-align: top\">Y</td>\n",
       "        <td style=\"padding-left: 1em; padding-right: 1em; text-align: center; vertical-align: top\">...</td>\n",
       "    </tr>\n",
       "    <tr>\n",
       "        <td style=\"padding-left: 1em; padding-right: 1em; text-align: center; vertical-align: top\">Y</td>\n",
       "        <td style=\"padding-left: 1em; padding-right: 1em; text-align: center; vertical-align: top\">...</td>\n",
       "    </tr>\n",
       "    <tr>\n",
       "        <td style=\"padding-left: 1em; padding-right: 1em; text-align: center; vertical-align: top\">Y</td>\n",
       "        <td style=\"padding-left: 1em; padding-right: 1em; text-align: center; vertical-align: top\">...</td>\n",
       "    </tr>\n",
       "    <tr>\n",
       "        <td style=\"padding-left: 1em; padding-right: 1em; text-align: center; vertical-align: top\">Y</td>\n",
       "        <td style=\"padding-left: 1em; padding-right: 1em; text-align: center; vertical-align: top\">...</td>\n",
       "    </tr>\n",
       "    <tr>\n",
       "        <td style=\"padding-left: 1em; padding-right: 1em; text-align: center; vertical-align: top\">Y</td>\n",
       "        <td style=\"padding-left: 1em; padding-right: 1em; text-align: center; vertical-align: top\">...</td>\n",
       "    </tr>\n",
       "    <tr>\n",
       "        <td style=\"padding-left: 1em; padding-right: 1em; text-align: center; vertical-align: top\">Y</td>\n",
       "        <td style=\"padding-left: 1em; padding-right: 1em; text-align: center; vertical-align: top\">...</td>\n",
       "    </tr>\n",
       "    <tr>\n",
       "        <td style=\"padding-left: 1em; padding-right: 1em; text-align: center; vertical-align: top\">Y</td>\n",
       "        <td style=\"padding-left: 1em; padding-right: 1em; text-align: center; vertical-align: top\">...</td>\n",
       "    </tr>\n",
       "    <tr>\n",
       "        <td style=\"padding-left: 1em; padding-right: 1em; text-align: center; vertical-align: top\">Y</td>\n",
       "        <td style=\"padding-left: 1em; padding-right: 1em; text-align: center; vertical-align: top\">...</td>\n",
       "    </tr>\n",
       "</table>\n",
       "[1459 rows x 77 columns]<br/>Note: Only the head of the SFrame is printed.<br/>You can use print_rows(num_rows=m, num_columns=n) to print more rows and columns.\n",
       "</div>"
      ],
      "text/plain": [
       "Columns:\n",
       "\tId\tint\n",
       "\tMSSubClass\tint\n",
       "\tMSZoning\tstr\n",
       "\tLotArea\tint\n",
       "\tStreet\tstr\n",
       "\tAlley\tstr\n",
       "\tLotShape\tstr\n",
       "\tLandContour\tstr\n",
       "\tUtilities\tstr\n",
       "\tLotConfig\tstr\n",
       "\tLandSlope\tstr\n",
       "\tNeighborhood\tstr\n",
       "\tCondition1\tstr\n",
       "\tCondition2\tstr\n",
       "\tBldgType\tstr\n",
       "\tHouseStyle\tstr\n",
       "\tOverallQual\tint\n",
       "\tOverallCond\tint\n",
       "\tYearBuilt\tint\n",
       "\tYearRemodAdd\tint\n",
       "\tRoofStyle\tstr\n",
       "\tRoofMatl\tstr\n",
       "\tExterior1st\tstr\n",
       "\tExterior2nd\tstr\n",
       "\tMasVnrType\tstr\n",
       "\tExterQual\tstr\n",
       "\tExterCond\tstr\n",
       "\tFoundation\tstr\n",
       "\tBsmtQual\tstr\n",
       "\tBsmtCond\tstr\n",
       "\tBsmtExposure\tstr\n",
       "\tBsmtFinType1\tstr\n",
       "\tBsmtFinSF1\tint\n",
       "\tBsmtFinType2\tstr\n",
       "\tBsmtFinSF2\tint\n",
       "\tBsmtUnfSF\tint\n",
       "\tTotalBsmtSF\tint\n",
       "\tHeating\tstr\n",
       "\tHeatingQC\tstr\n",
       "\tCentralAir\tstr\n",
       "\tElectrical\tstr\n",
       "\t1stFlrSF\tint\n",
       "\t2ndFlrSF\tint\n",
       "\tLowQualFinSF\tint\n",
       "\tGrLivArea\tint\n",
       "\tBsmtFullBath\tint\n",
       "\tBsmtHalfBath\tint\n",
       "\tFullBath\tint\n",
       "\tHalfBath\tint\n",
       "\tBedroomAbvGr\tint\n",
       "\tKitchenAbvGr\tint\n",
       "\tKitchenQual\tstr\n",
       "\tTotRmsAbvGrd\tint\n",
       "\tFunctional\tstr\n",
       "\tFireplaces\tint\n",
       "\tFireplaceQu\tstr\n",
       "\tGarageType\tstr\n",
       "\tGarageFinish\tstr\n",
       "\tGarageCars\tint\n",
       "\tGarageArea\tint\n",
       "\tGarageQual\tstr\n",
       "\tGarageCond\tstr\n",
       "\tPavedDrive\tstr\n",
       "\tWoodDeckSF\tint\n",
       "\tOpenPorchSF\tint\n",
       "\tEnclosedPorch\tint\n",
       "\t3SsnPorch\tint\n",
       "\tScreenPorch\tint\n",
       "\tPoolArea\tint\n",
       "\tPoolQC\tstr\n",
       "\tFence\tstr\n",
       "\tMiscFeature\tstr\n",
       "\tMiscVal\tint\n",
       "\tMoSold\tint\n",
       "\tYrSold\tint\n",
       "\tSaleType\tstr\n",
       "\tSaleCondition\tstr\n",
       "\n",
       "Rows: 1459\n",
       "\n",
       "Data:\n",
       "+------+------------+----------+---------+--------+-------+----------+-------------+\n",
       "|  Id  | MSSubClass | MSZoning | LotArea | Street | Alley | LotShape | LandContour |\n",
       "+------+------------+----------+---------+--------+-------+----------+-------------+\n",
       "| 1461 |     20     |    RH    |  11622  |  Pave  |  None |   Reg    |     Lvl     |\n",
       "| 1462 |     20     |    RL    |  14267  |  Pave  |  None |   IR1    |     Lvl     |\n",
       "| 1463 |     60     |    RL    |  13830  |  Pave  |  None |   IR1    |     Lvl     |\n",
       "| 1464 |     60     |    RL    |   9978  |  Pave  |  None |   IR1    |     Lvl     |\n",
       "| 1465 |    120     |    RL    |   5005  |  Pave  |  None |   IR1    |     HLS     |\n",
       "| 1466 |     60     |    RL    |  10000  |  Pave  |  None |   IR1    |     Lvl     |\n",
       "| 1467 |     20     |    RL    |   7980  |  Pave  |  None |   IR1    |     Lvl     |\n",
       "| 1468 |     60     |    RL    |   8402  |  Pave  |  None |   IR1    |     Lvl     |\n",
       "| 1469 |     20     |    RL    |  10176  |  Pave  |  None |   Reg    |     Lvl     |\n",
       "| 1470 |     20     |    RL    |   8400  |  Pave  |  None |   Reg    |     Lvl     |\n",
       "+------+------------+----------+---------+--------+-------+----------+-------------+\n",
       "+-----------+-----------+-----------+--------------+------------+------------+\n",
       "| Utilities | LotConfig | LandSlope | Neighborhood | Condition1 | Condition2 |\n",
       "+-----------+-----------+-----------+--------------+------------+------------+\n",
       "|   AllPub  |   Inside  |    Gtl    |    NAmes     |   Feedr    |    Norm    |\n",
       "|   AllPub  |   Corner  |    Gtl    |    NAmes     |    Norm    |    Norm    |\n",
       "|   AllPub  |   Inside  |    Gtl    |   Gilbert    |    Norm    |    Norm    |\n",
       "|   AllPub  |   Inside  |    Gtl    |   Gilbert    |    Norm    |    Norm    |\n",
       "|   AllPub  |   Inside  |    Gtl    |   StoneBr    |    Norm    |    Norm    |\n",
       "|   AllPub  |   Corner  |    Gtl    |   Gilbert    |    Norm    |    Norm    |\n",
       "|   AllPub  |   Inside  |    Gtl    |   Gilbert    |    Norm    |    Norm    |\n",
       "|   AllPub  |   Inside  |    Gtl    |   Gilbert    |    Norm    |    Norm    |\n",
       "|   AllPub  |   Inside  |    Gtl    |   Gilbert    |    Norm    |    Norm    |\n",
       "|   AllPub  |   Corner  |    Gtl    |    NAmes     |    Norm    |    Norm    |\n",
       "+-----------+-----------+-----------+--------------+------------+------------+\n",
       "+----------+------------+-------------+-------------+-----------+--------------+-----+\n",
       "| BldgType | HouseStyle | OverallQual | OverallCond | YearBuilt | YearRemodAdd | ... |\n",
       "+----------+------------+-------------+-------------+-----------+--------------+-----+\n",
       "|   1Fam   |   1Story   |      5      |      6      |    1961   |     1961     | ... |\n",
       "|   1Fam   |   1Story   |      6      |      6      |    1958   |     1958     | ... |\n",
       "|   1Fam   |   2Story   |      5      |      5      |    1997   |     1998     | ... |\n",
       "|   1Fam   |   2Story   |      6      |      6      |    1998   |     1998     | ... |\n",
       "|  TwnhsE  |   1Story   |      8      |      5      |    1992   |     1992     | ... |\n",
       "|   1Fam   |   2Story   |      6      |      5      |    1993   |     1994     | ... |\n",
       "|   1Fam   |   1Story   |      6      |      7      |    1992   |     2007     | ... |\n",
       "|   1Fam   |   2Story   |      6      |      5      |    1998   |     1998     | ... |\n",
       "|   1Fam   |   1Story   |      7      |      5      |    1990   |     1990     | ... |\n",
       "|   1Fam   |   1Story   |      4      |      5      |    1970   |     1970     | ... |\n",
       "+----------+------------+-------------+-------------+-----------+--------------+-----+\n",
       "[1459 rows x 77 columns]\n",
       "Note: Only the head of the SFrame is printed.\n",
       "You can use print_rows(num_rows=m, num_columns=n) to print more rows and columns."
      ]
     },
     "execution_count": 6,
     "metadata": {},
     "output_type": "execute_result"
    }
   ],
   "source": [
    "sales = graphlab.SFrame('train.csv')\n",
    "final = graphlab.SFrame('test.csv')\n",
    "sales.remove_columns(['LotFrontage', 'GarageYrBlt', 'MasVnrArea'])\n",
    "final.remove_columns(['LotFrontage', 'GarageYrBlt', 'MasVnrArea'])"
   ]
  },
  {
   "cell_type": "code",
   "execution_count": 7,
   "metadata": {
    "collapsed": false,
    "scrolled": true
   },
   "outputs": [
    {
     "data": {
      "text/html": [
       "<div style=\"max-height:1000px;max-width:1500px;overflow:auto;\"><table frame=\"box\" rules=\"cols\">\n",
       "    <tr>\n",
       "        <th style=\"padding-left: 1em; padding-right: 1em; text-align: center\">Id</th>\n",
       "        <th style=\"padding-left: 1em; padding-right: 1em; text-align: center\">MSSubClass</th>\n",
       "        <th style=\"padding-left: 1em; padding-right: 1em; text-align: center\">MSZoning</th>\n",
       "        <th style=\"padding-left: 1em; padding-right: 1em; text-align: center\">LotArea</th>\n",
       "        <th style=\"padding-left: 1em; padding-right: 1em; text-align: center\">Street</th>\n",
       "        <th style=\"padding-left: 1em; padding-right: 1em; text-align: center\">Alley</th>\n",
       "        <th style=\"padding-left: 1em; padding-right: 1em; text-align: center\">LotShape</th>\n",
       "        <th style=\"padding-left: 1em; padding-right: 1em; text-align: center\">LandContour</th>\n",
       "        <th style=\"padding-left: 1em; padding-right: 1em; text-align: center\">Utilities</th>\n",
       "        <th style=\"padding-left: 1em; padding-right: 1em; text-align: center\">LotConfig</th>\n",
       "        <th style=\"padding-left: 1em; padding-right: 1em; text-align: center\">LandSlope</th>\n",
       "    </tr>\n",
       "    <tr>\n",
       "        <td style=\"padding-left: 1em; padding-right: 1em; text-align: center; vertical-align: top\">1</td>\n",
       "        <td style=\"padding-left: 1em; padding-right: 1em; text-align: center; vertical-align: top\">60</td>\n",
       "        <td style=\"padding-left: 1em; padding-right: 1em; text-align: center; vertical-align: top\">RL</td>\n",
       "        <td style=\"padding-left: 1em; padding-right: 1em; text-align: center; vertical-align: top\">8450</td>\n",
       "        <td style=\"padding-left: 1em; padding-right: 1em; text-align: center; vertical-align: top\">Pave</td>\n",
       "        <td style=\"padding-left: 1em; padding-right: 1em; text-align: center; vertical-align: top\">None</td>\n",
       "        <td style=\"padding-left: 1em; padding-right: 1em; text-align: center; vertical-align: top\">Reg</td>\n",
       "        <td style=\"padding-left: 1em; padding-right: 1em; text-align: center; vertical-align: top\">Lvl</td>\n",
       "        <td style=\"padding-left: 1em; padding-right: 1em; text-align: center; vertical-align: top\">AllPub</td>\n",
       "        <td style=\"padding-left: 1em; padding-right: 1em; text-align: center; vertical-align: top\">Inside</td>\n",
       "        <td style=\"padding-left: 1em; padding-right: 1em; text-align: center; vertical-align: top\">Gtl</td>\n",
       "    </tr>\n",
       "    <tr>\n",
       "        <td style=\"padding-left: 1em; padding-right: 1em; text-align: center; vertical-align: top\">2</td>\n",
       "        <td style=\"padding-left: 1em; padding-right: 1em; text-align: center; vertical-align: top\">20</td>\n",
       "        <td style=\"padding-left: 1em; padding-right: 1em; text-align: center; vertical-align: top\">RL</td>\n",
       "        <td style=\"padding-left: 1em; padding-right: 1em; text-align: center; vertical-align: top\">9600</td>\n",
       "        <td style=\"padding-left: 1em; padding-right: 1em; text-align: center; vertical-align: top\">Pave</td>\n",
       "        <td style=\"padding-left: 1em; padding-right: 1em; text-align: center; vertical-align: top\">None</td>\n",
       "        <td style=\"padding-left: 1em; padding-right: 1em; text-align: center; vertical-align: top\">Reg</td>\n",
       "        <td style=\"padding-left: 1em; padding-right: 1em; text-align: center; vertical-align: top\">Lvl</td>\n",
       "        <td style=\"padding-left: 1em; padding-right: 1em; text-align: center; vertical-align: top\">AllPub</td>\n",
       "        <td style=\"padding-left: 1em; padding-right: 1em; text-align: center; vertical-align: top\">FR2</td>\n",
       "        <td style=\"padding-left: 1em; padding-right: 1em; text-align: center; vertical-align: top\">Gtl</td>\n",
       "    </tr>\n",
       "    <tr>\n",
       "        <td style=\"padding-left: 1em; padding-right: 1em; text-align: center; vertical-align: top\">3</td>\n",
       "        <td style=\"padding-left: 1em; padding-right: 1em; text-align: center; vertical-align: top\">60</td>\n",
       "        <td style=\"padding-left: 1em; padding-right: 1em; text-align: center; vertical-align: top\">RL</td>\n",
       "        <td style=\"padding-left: 1em; padding-right: 1em; text-align: center; vertical-align: top\">11250</td>\n",
       "        <td style=\"padding-left: 1em; padding-right: 1em; text-align: center; vertical-align: top\">Pave</td>\n",
       "        <td style=\"padding-left: 1em; padding-right: 1em; text-align: center; vertical-align: top\">None</td>\n",
       "        <td style=\"padding-left: 1em; padding-right: 1em; text-align: center; vertical-align: top\">IR1</td>\n",
       "        <td style=\"padding-left: 1em; padding-right: 1em; text-align: center; vertical-align: top\">Lvl</td>\n",
       "        <td style=\"padding-left: 1em; padding-right: 1em; text-align: center; vertical-align: top\">AllPub</td>\n",
       "        <td style=\"padding-left: 1em; padding-right: 1em; text-align: center; vertical-align: top\">Inside</td>\n",
       "        <td style=\"padding-left: 1em; padding-right: 1em; text-align: center; vertical-align: top\">Gtl</td>\n",
       "    </tr>\n",
       "    <tr>\n",
       "        <td style=\"padding-left: 1em; padding-right: 1em; text-align: center; vertical-align: top\">4</td>\n",
       "        <td style=\"padding-left: 1em; padding-right: 1em; text-align: center; vertical-align: top\">70</td>\n",
       "        <td style=\"padding-left: 1em; padding-right: 1em; text-align: center; vertical-align: top\">RL</td>\n",
       "        <td style=\"padding-left: 1em; padding-right: 1em; text-align: center; vertical-align: top\">9550</td>\n",
       "        <td style=\"padding-left: 1em; padding-right: 1em; text-align: center; vertical-align: top\">Pave</td>\n",
       "        <td style=\"padding-left: 1em; padding-right: 1em; text-align: center; vertical-align: top\">None</td>\n",
       "        <td style=\"padding-left: 1em; padding-right: 1em; text-align: center; vertical-align: top\">IR1</td>\n",
       "        <td style=\"padding-left: 1em; padding-right: 1em; text-align: center; vertical-align: top\">Lvl</td>\n",
       "        <td style=\"padding-left: 1em; padding-right: 1em; text-align: center; vertical-align: top\">AllPub</td>\n",
       "        <td style=\"padding-left: 1em; padding-right: 1em; text-align: center; vertical-align: top\">Corner</td>\n",
       "        <td style=\"padding-left: 1em; padding-right: 1em; text-align: center; vertical-align: top\">Gtl</td>\n",
       "    </tr>\n",
       "    <tr>\n",
       "        <td style=\"padding-left: 1em; padding-right: 1em; text-align: center; vertical-align: top\">5</td>\n",
       "        <td style=\"padding-left: 1em; padding-right: 1em; text-align: center; vertical-align: top\">60</td>\n",
       "        <td style=\"padding-left: 1em; padding-right: 1em; text-align: center; vertical-align: top\">RL</td>\n",
       "        <td style=\"padding-left: 1em; padding-right: 1em; text-align: center; vertical-align: top\">14260</td>\n",
       "        <td style=\"padding-left: 1em; padding-right: 1em; text-align: center; vertical-align: top\">Pave</td>\n",
       "        <td style=\"padding-left: 1em; padding-right: 1em; text-align: center; vertical-align: top\">None</td>\n",
       "        <td style=\"padding-left: 1em; padding-right: 1em; text-align: center; vertical-align: top\">IR1</td>\n",
       "        <td style=\"padding-left: 1em; padding-right: 1em; text-align: center; vertical-align: top\">Lvl</td>\n",
       "        <td style=\"padding-left: 1em; padding-right: 1em; text-align: center; vertical-align: top\">AllPub</td>\n",
       "        <td style=\"padding-left: 1em; padding-right: 1em; text-align: center; vertical-align: top\">FR2</td>\n",
       "        <td style=\"padding-left: 1em; padding-right: 1em; text-align: center; vertical-align: top\">Gtl</td>\n",
       "    </tr>\n",
       "    <tr>\n",
       "        <td style=\"padding-left: 1em; padding-right: 1em; text-align: center; vertical-align: top\">6</td>\n",
       "        <td style=\"padding-left: 1em; padding-right: 1em; text-align: center; vertical-align: top\">50</td>\n",
       "        <td style=\"padding-left: 1em; padding-right: 1em; text-align: center; vertical-align: top\">RL</td>\n",
       "        <td style=\"padding-left: 1em; padding-right: 1em; text-align: center; vertical-align: top\">14115</td>\n",
       "        <td style=\"padding-left: 1em; padding-right: 1em; text-align: center; vertical-align: top\">Pave</td>\n",
       "        <td style=\"padding-left: 1em; padding-right: 1em; text-align: center; vertical-align: top\">None</td>\n",
       "        <td style=\"padding-left: 1em; padding-right: 1em; text-align: center; vertical-align: top\">IR1</td>\n",
       "        <td style=\"padding-left: 1em; padding-right: 1em; text-align: center; vertical-align: top\">Lvl</td>\n",
       "        <td style=\"padding-left: 1em; padding-right: 1em; text-align: center; vertical-align: top\">AllPub</td>\n",
       "        <td style=\"padding-left: 1em; padding-right: 1em; text-align: center; vertical-align: top\">Inside</td>\n",
       "        <td style=\"padding-left: 1em; padding-right: 1em; text-align: center; vertical-align: top\">Gtl</td>\n",
       "    </tr>\n",
       "    <tr>\n",
       "        <td style=\"padding-left: 1em; padding-right: 1em; text-align: center; vertical-align: top\">7</td>\n",
       "        <td style=\"padding-left: 1em; padding-right: 1em; text-align: center; vertical-align: top\">20</td>\n",
       "        <td style=\"padding-left: 1em; padding-right: 1em; text-align: center; vertical-align: top\">RL</td>\n",
       "        <td style=\"padding-left: 1em; padding-right: 1em; text-align: center; vertical-align: top\">10084</td>\n",
       "        <td style=\"padding-left: 1em; padding-right: 1em; text-align: center; vertical-align: top\">Pave</td>\n",
       "        <td style=\"padding-left: 1em; padding-right: 1em; text-align: center; vertical-align: top\">None</td>\n",
       "        <td style=\"padding-left: 1em; padding-right: 1em; text-align: center; vertical-align: top\">Reg</td>\n",
       "        <td style=\"padding-left: 1em; padding-right: 1em; text-align: center; vertical-align: top\">Lvl</td>\n",
       "        <td style=\"padding-left: 1em; padding-right: 1em; text-align: center; vertical-align: top\">AllPub</td>\n",
       "        <td style=\"padding-left: 1em; padding-right: 1em; text-align: center; vertical-align: top\">Inside</td>\n",
       "        <td style=\"padding-left: 1em; padding-right: 1em; text-align: center; vertical-align: top\">Gtl</td>\n",
       "    </tr>\n",
       "    <tr>\n",
       "        <td style=\"padding-left: 1em; padding-right: 1em; text-align: center; vertical-align: top\">8</td>\n",
       "        <td style=\"padding-left: 1em; padding-right: 1em; text-align: center; vertical-align: top\">60</td>\n",
       "        <td style=\"padding-left: 1em; padding-right: 1em; text-align: center; vertical-align: top\">RL</td>\n",
       "        <td style=\"padding-left: 1em; padding-right: 1em; text-align: center; vertical-align: top\">10382</td>\n",
       "        <td style=\"padding-left: 1em; padding-right: 1em; text-align: center; vertical-align: top\">Pave</td>\n",
       "        <td style=\"padding-left: 1em; padding-right: 1em; text-align: center; vertical-align: top\">None</td>\n",
       "        <td style=\"padding-left: 1em; padding-right: 1em; text-align: center; vertical-align: top\">IR1</td>\n",
       "        <td style=\"padding-left: 1em; padding-right: 1em; text-align: center; vertical-align: top\">Lvl</td>\n",
       "        <td style=\"padding-left: 1em; padding-right: 1em; text-align: center; vertical-align: top\">AllPub</td>\n",
       "        <td style=\"padding-left: 1em; padding-right: 1em; text-align: center; vertical-align: top\">Corner</td>\n",
       "        <td style=\"padding-left: 1em; padding-right: 1em; text-align: center; vertical-align: top\">Gtl</td>\n",
       "    </tr>\n",
       "    <tr>\n",
       "        <td style=\"padding-left: 1em; padding-right: 1em; text-align: center; vertical-align: top\">9</td>\n",
       "        <td style=\"padding-left: 1em; padding-right: 1em; text-align: center; vertical-align: top\">50</td>\n",
       "        <td style=\"padding-left: 1em; padding-right: 1em; text-align: center; vertical-align: top\">RM</td>\n",
       "        <td style=\"padding-left: 1em; padding-right: 1em; text-align: center; vertical-align: top\">6120</td>\n",
       "        <td style=\"padding-left: 1em; padding-right: 1em; text-align: center; vertical-align: top\">Pave</td>\n",
       "        <td style=\"padding-left: 1em; padding-right: 1em; text-align: center; vertical-align: top\">None</td>\n",
       "        <td style=\"padding-left: 1em; padding-right: 1em; text-align: center; vertical-align: top\">Reg</td>\n",
       "        <td style=\"padding-left: 1em; padding-right: 1em; text-align: center; vertical-align: top\">Lvl</td>\n",
       "        <td style=\"padding-left: 1em; padding-right: 1em; text-align: center; vertical-align: top\">AllPub</td>\n",
       "        <td style=\"padding-left: 1em; padding-right: 1em; text-align: center; vertical-align: top\">Inside</td>\n",
       "        <td style=\"padding-left: 1em; padding-right: 1em; text-align: center; vertical-align: top\">Gtl</td>\n",
       "    </tr>\n",
       "    <tr>\n",
       "        <td style=\"padding-left: 1em; padding-right: 1em; text-align: center; vertical-align: top\">10</td>\n",
       "        <td style=\"padding-left: 1em; padding-right: 1em; text-align: center; vertical-align: top\">190</td>\n",
       "        <td style=\"padding-left: 1em; padding-right: 1em; text-align: center; vertical-align: top\">RL</td>\n",
       "        <td style=\"padding-left: 1em; padding-right: 1em; text-align: center; vertical-align: top\">7420</td>\n",
       "        <td style=\"padding-left: 1em; padding-right: 1em; text-align: center; vertical-align: top\">Pave</td>\n",
       "        <td style=\"padding-left: 1em; padding-right: 1em; text-align: center; vertical-align: top\">None</td>\n",
       "        <td style=\"padding-left: 1em; padding-right: 1em; text-align: center; vertical-align: top\">Reg</td>\n",
       "        <td style=\"padding-left: 1em; padding-right: 1em; text-align: center; vertical-align: top\">Lvl</td>\n",
       "        <td style=\"padding-left: 1em; padding-right: 1em; text-align: center; vertical-align: top\">AllPub</td>\n",
       "        <td style=\"padding-left: 1em; padding-right: 1em; text-align: center; vertical-align: top\">Corner</td>\n",
       "        <td style=\"padding-left: 1em; padding-right: 1em; text-align: center; vertical-align: top\">Gtl</td>\n",
       "    </tr>\n",
       "</table>\n",
       "<table frame=\"box\" rules=\"cols\">\n",
       "    <tr>\n",
       "        <th style=\"padding-left: 1em; padding-right: 1em; text-align: center\">Neighborhood</th>\n",
       "        <th style=\"padding-left: 1em; padding-right: 1em; text-align: center\">Condition1</th>\n",
       "        <th style=\"padding-left: 1em; padding-right: 1em; text-align: center\">Condition2</th>\n",
       "        <th style=\"padding-left: 1em; padding-right: 1em; text-align: center\">BldgType</th>\n",
       "        <th style=\"padding-left: 1em; padding-right: 1em; text-align: center\">HouseStyle</th>\n",
       "        <th style=\"padding-left: 1em; padding-right: 1em; text-align: center\">OverallQual</th>\n",
       "        <th style=\"padding-left: 1em; padding-right: 1em; text-align: center\">OverallCond</th>\n",
       "        <th style=\"padding-left: 1em; padding-right: 1em; text-align: center\">YearBuilt</th>\n",
       "        <th style=\"padding-left: 1em; padding-right: 1em; text-align: center\">YearRemodAdd</th>\n",
       "    </tr>\n",
       "    <tr>\n",
       "        <td style=\"padding-left: 1em; padding-right: 1em; text-align: center; vertical-align: top\">CollgCr</td>\n",
       "        <td style=\"padding-left: 1em; padding-right: 1em; text-align: center; vertical-align: top\">Norm</td>\n",
       "        <td style=\"padding-left: 1em; padding-right: 1em; text-align: center; vertical-align: top\">Norm</td>\n",
       "        <td style=\"padding-left: 1em; padding-right: 1em; text-align: center; vertical-align: top\">1Fam</td>\n",
       "        <td style=\"padding-left: 1em; padding-right: 1em; text-align: center; vertical-align: top\">2Story</td>\n",
       "        <td style=\"padding-left: 1em; padding-right: 1em; text-align: center; vertical-align: top\">7</td>\n",
       "        <td style=\"padding-left: 1em; padding-right: 1em; text-align: center; vertical-align: top\">5</td>\n",
       "        <td style=\"padding-left: 1em; padding-right: 1em; text-align: center; vertical-align: top\">2003</td>\n",
       "        <td style=\"padding-left: 1em; padding-right: 1em; text-align: center; vertical-align: top\">2003</td>\n",
       "    </tr>\n",
       "    <tr>\n",
       "        <td style=\"padding-left: 1em; padding-right: 1em; text-align: center; vertical-align: top\">Veenker</td>\n",
       "        <td style=\"padding-left: 1em; padding-right: 1em; text-align: center; vertical-align: top\">Feedr</td>\n",
       "        <td style=\"padding-left: 1em; padding-right: 1em; text-align: center; vertical-align: top\">Norm</td>\n",
       "        <td style=\"padding-left: 1em; padding-right: 1em; text-align: center; vertical-align: top\">1Fam</td>\n",
       "        <td style=\"padding-left: 1em; padding-right: 1em; text-align: center; vertical-align: top\">1Story</td>\n",
       "        <td style=\"padding-left: 1em; padding-right: 1em; text-align: center; vertical-align: top\">6</td>\n",
       "        <td style=\"padding-left: 1em; padding-right: 1em; text-align: center; vertical-align: top\">8</td>\n",
       "        <td style=\"padding-left: 1em; padding-right: 1em; text-align: center; vertical-align: top\">1976</td>\n",
       "        <td style=\"padding-left: 1em; padding-right: 1em; text-align: center; vertical-align: top\">1976</td>\n",
       "    </tr>\n",
       "    <tr>\n",
       "        <td style=\"padding-left: 1em; padding-right: 1em; text-align: center; vertical-align: top\">CollgCr</td>\n",
       "        <td style=\"padding-left: 1em; padding-right: 1em; text-align: center; vertical-align: top\">Norm</td>\n",
       "        <td style=\"padding-left: 1em; padding-right: 1em; text-align: center; vertical-align: top\">Norm</td>\n",
       "        <td style=\"padding-left: 1em; padding-right: 1em; text-align: center; vertical-align: top\">1Fam</td>\n",
       "        <td style=\"padding-left: 1em; padding-right: 1em; text-align: center; vertical-align: top\">2Story</td>\n",
       "        <td style=\"padding-left: 1em; padding-right: 1em; text-align: center; vertical-align: top\">7</td>\n",
       "        <td style=\"padding-left: 1em; padding-right: 1em; text-align: center; vertical-align: top\">5</td>\n",
       "        <td style=\"padding-left: 1em; padding-right: 1em; text-align: center; vertical-align: top\">2001</td>\n",
       "        <td style=\"padding-left: 1em; padding-right: 1em; text-align: center; vertical-align: top\">2002</td>\n",
       "    </tr>\n",
       "    <tr>\n",
       "        <td style=\"padding-left: 1em; padding-right: 1em; text-align: center; vertical-align: top\">Crawfor</td>\n",
       "        <td style=\"padding-left: 1em; padding-right: 1em; text-align: center; vertical-align: top\">Norm</td>\n",
       "        <td style=\"padding-left: 1em; padding-right: 1em; text-align: center; vertical-align: top\">Norm</td>\n",
       "        <td style=\"padding-left: 1em; padding-right: 1em; text-align: center; vertical-align: top\">1Fam</td>\n",
       "        <td style=\"padding-left: 1em; padding-right: 1em; text-align: center; vertical-align: top\">2Story</td>\n",
       "        <td style=\"padding-left: 1em; padding-right: 1em; text-align: center; vertical-align: top\">7</td>\n",
       "        <td style=\"padding-left: 1em; padding-right: 1em; text-align: center; vertical-align: top\">5</td>\n",
       "        <td style=\"padding-left: 1em; padding-right: 1em; text-align: center; vertical-align: top\">1915</td>\n",
       "        <td style=\"padding-left: 1em; padding-right: 1em; text-align: center; vertical-align: top\">1970</td>\n",
       "    </tr>\n",
       "    <tr>\n",
       "        <td style=\"padding-left: 1em; padding-right: 1em; text-align: center; vertical-align: top\">NoRidge</td>\n",
       "        <td style=\"padding-left: 1em; padding-right: 1em; text-align: center; vertical-align: top\">Norm</td>\n",
       "        <td style=\"padding-left: 1em; padding-right: 1em; text-align: center; vertical-align: top\">Norm</td>\n",
       "        <td style=\"padding-left: 1em; padding-right: 1em; text-align: center; vertical-align: top\">1Fam</td>\n",
       "        <td style=\"padding-left: 1em; padding-right: 1em; text-align: center; vertical-align: top\">2Story</td>\n",
       "        <td style=\"padding-left: 1em; padding-right: 1em; text-align: center; vertical-align: top\">8</td>\n",
       "        <td style=\"padding-left: 1em; padding-right: 1em; text-align: center; vertical-align: top\">5</td>\n",
       "        <td style=\"padding-left: 1em; padding-right: 1em; text-align: center; vertical-align: top\">2000</td>\n",
       "        <td style=\"padding-left: 1em; padding-right: 1em; text-align: center; vertical-align: top\">2000</td>\n",
       "    </tr>\n",
       "    <tr>\n",
       "        <td style=\"padding-left: 1em; padding-right: 1em; text-align: center; vertical-align: top\">Mitchel</td>\n",
       "        <td style=\"padding-left: 1em; padding-right: 1em; text-align: center; vertical-align: top\">Norm</td>\n",
       "        <td style=\"padding-left: 1em; padding-right: 1em; text-align: center; vertical-align: top\">Norm</td>\n",
       "        <td style=\"padding-left: 1em; padding-right: 1em; text-align: center; vertical-align: top\">1Fam</td>\n",
       "        <td style=\"padding-left: 1em; padding-right: 1em; text-align: center; vertical-align: top\">1.5Fin</td>\n",
       "        <td style=\"padding-left: 1em; padding-right: 1em; text-align: center; vertical-align: top\">5</td>\n",
       "        <td style=\"padding-left: 1em; padding-right: 1em; text-align: center; vertical-align: top\">5</td>\n",
       "        <td style=\"padding-left: 1em; padding-right: 1em; text-align: center; vertical-align: top\">1993</td>\n",
       "        <td style=\"padding-left: 1em; padding-right: 1em; text-align: center; vertical-align: top\">1995</td>\n",
       "    </tr>\n",
       "    <tr>\n",
       "        <td style=\"padding-left: 1em; padding-right: 1em; text-align: center; vertical-align: top\">Somerst</td>\n",
       "        <td style=\"padding-left: 1em; padding-right: 1em; text-align: center; vertical-align: top\">Norm</td>\n",
       "        <td style=\"padding-left: 1em; padding-right: 1em; text-align: center; vertical-align: top\">Norm</td>\n",
       "        <td style=\"padding-left: 1em; padding-right: 1em; text-align: center; vertical-align: top\">1Fam</td>\n",
       "        <td style=\"padding-left: 1em; padding-right: 1em; text-align: center; vertical-align: top\">1Story</td>\n",
       "        <td style=\"padding-left: 1em; padding-right: 1em; text-align: center; vertical-align: top\">8</td>\n",
       "        <td style=\"padding-left: 1em; padding-right: 1em; text-align: center; vertical-align: top\">5</td>\n",
       "        <td style=\"padding-left: 1em; padding-right: 1em; text-align: center; vertical-align: top\">2004</td>\n",
       "        <td style=\"padding-left: 1em; padding-right: 1em; text-align: center; vertical-align: top\">2005</td>\n",
       "    </tr>\n",
       "    <tr>\n",
       "        <td style=\"padding-left: 1em; padding-right: 1em; text-align: center; vertical-align: top\">NWAmes</td>\n",
       "        <td style=\"padding-left: 1em; padding-right: 1em; text-align: center; vertical-align: top\">PosN</td>\n",
       "        <td style=\"padding-left: 1em; padding-right: 1em; text-align: center; vertical-align: top\">Norm</td>\n",
       "        <td style=\"padding-left: 1em; padding-right: 1em; text-align: center; vertical-align: top\">1Fam</td>\n",
       "        <td style=\"padding-left: 1em; padding-right: 1em; text-align: center; vertical-align: top\">2Story</td>\n",
       "        <td style=\"padding-left: 1em; padding-right: 1em; text-align: center; vertical-align: top\">7</td>\n",
       "        <td style=\"padding-left: 1em; padding-right: 1em; text-align: center; vertical-align: top\">6</td>\n",
       "        <td style=\"padding-left: 1em; padding-right: 1em; text-align: center; vertical-align: top\">1973</td>\n",
       "        <td style=\"padding-left: 1em; padding-right: 1em; text-align: center; vertical-align: top\">1973</td>\n",
       "    </tr>\n",
       "    <tr>\n",
       "        <td style=\"padding-left: 1em; padding-right: 1em; text-align: center; vertical-align: top\">OldTown</td>\n",
       "        <td style=\"padding-left: 1em; padding-right: 1em; text-align: center; vertical-align: top\">Artery</td>\n",
       "        <td style=\"padding-left: 1em; padding-right: 1em; text-align: center; vertical-align: top\">Norm</td>\n",
       "        <td style=\"padding-left: 1em; padding-right: 1em; text-align: center; vertical-align: top\">1Fam</td>\n",
       "        <td style=\"padding-left: 1em; padding-right: 1em; text-align: center; vertical-align: top\">1.5Fin</td>\n",
       "        <td style=\"padding-left: 1em; padding-right: 1em; text-align: center; vertical-align: top\">7</td>\n",
       "        <td style=\"padding-left: 1em; padding-right: 1em; text-align: center; vertical-align: top\">5</td>\n",
       "        <td style=\"padding-left: 1em; padding-right: 1em; text-align: center; vertical-align: top\">1931</td>\n",
       "        <td style=\"padding-left: 1em; padding-right: 1em; text-align: center; vertical-align: top\">1950</td>\n",
       "    </tr>\n",
       "    <tr>\n",
       "        <td style=\"padding-left: 1em; padding-right: 1em; text-align: center; vertical-align: top\">BrkSide</td>\n",
       "        <td style=\"padding-left: 1em; padding-right: 1em; text-align: center; vertical-align: top\">Artery</td>\n",
       "        <td style=\"padding-left: 1em; padding-right: 1em; text-align: center; vertical-align: top\">Artery</td>\n",
       "        <td style=\"padding-left: 1em; padding-right: 1em; text-align: center; vertical-align: top\">2fmCon</td>\n",
       "        <td style=\"padding-left: 1em; padding-right: 1em; text-align: center; vertical-align: top\">1.5Unf</td>\n",
       "        <td style=\"padding-left: 1em; padding-right: 1em; text-align: center; vertical-align: top\">5</td>\n",
       "        <td style=\"padding-left: 1em; padding-right: 1em; text-align: center; vertical-align: top\">6</td>\n",
       "        <td style=\"padding-left: 1em; padding-right: 1em; text-align: center; vertical-align: top\">1939</td>\n",
       "        <td style=\"padding-left: 1em; padding-right: 1em; text-align: center; vertical-align: top\">1950</td>\n",
       "    </tr>\n",
       "</table>\n",
       "<table frame=\"box\" rules=\"cols\">\n",
       "    <tr>\n",
       "        <th style=\"padding-left: 1em; padding-right: 1em; text-align: center\">RoofStyle</th>\n",
       "        <th style=\"padding-left: 1em; padding-right: 1em; text-align: center\">RoofMatl</th>\n",
       "        <th style=\"padding-left: 1em; padding-right: 1em; text-align: center\">Exterior1st</th>\n",
       "        <th style=\"padding-left: 1em; padding-right: 1em; text-align: center\">Exterior2nd</th>\n",
       "        <th style=\"padding-left: 1em; padding-right: 1em; text-align: center\">MasVnrType</th>\n",
       "        <th style=\"padding-left: 1em; padding-right: 1em; text-align: center\">ExterQual</th>\n",
       "        <th style=\"padding-left: 1em; padding-right: 1em; text-align: center\">ExterCond</th>\n",
       "        <th style=\"padding-left: 1em; padding-right: 1em; text-align: center\">Foundation</th>\n",
       "        <th style=\"padding-left: 1em; padding-right: 1em; text-align: center\">BsmtQual</th>\n",
       "        <th style=\"padding-left: 1em; padding-right: 1em; text-align: center\">BsmtCond</th>\n",
       "    </tr>\n",
       "    <tr>\n",
       "        <td style=\"padding-left: 1em; padding-right: 1em; text-align: center; vertical-align: top\">Gable</td>\n",
       "        <td style=\"padding-left: 1em; padding-right: 1em; text-align: center; vertical-align: top\">CompShg</td>\n",
       "        <td style=\"padding-left: 1em; padding-right: 1em; text-align: center; vertical-align: top\">VinylSd</td>\n",
       "        <td style=\"padding-left: 1em; padding-right: 1em; text-align: center; vertical-align: top\">VinylSd</td>\n",
       "        <td style=\"padding-left: 1em; padding-right: 1em; text-align: center; vertical-align: top\">BrkFace</td>\n",
       "        <td style=\"padding-left: 1em; padding-right: 1em; text-align: center; vertical-align: top\">Gd</td>\n",
       "        <td style=\"padding-left: 1em; padding-right: 1em; text-align: center; vertical-align: top\">TA</td>\n",
       "        <td style=\"padding-left: 1em; padding-right: 1em; text-align: center; vertical-align: top\">PConc</td>\n",
       "        <td style=\"padding-left: 1em; padding-right: 1em; text-align: center; vertical-align: top\">Gd</td>\n",
       "        <td style=\"padding-left: 1em; padding-right: 1em; text-align: center; vertical-align: top\">TA</td>\n",
       "    </tr>\n",
       "    <tr>\n",
       "        <td style=\"padding-left: 1em; padding-right: 1em; text-align: center; vertical-align: top\">Gable</td>\n",
       "        <td style=\"padding-left: 1em; padding-right: 1em; text-align: center; vertical-align: top\">CompShg</td>\n",
       "        <td style=\"padding-left: 1em; padding-right: 1em; text-align: center; vertical-align: top\">MetalSd</td>\n",
       "        <td style=\"padding-left: 1em; padding-right: 1em; text-align: center; vertical-align: top\">MetalSd</td>\n",
       "        <td style=\"padding-left: 1em; padding-right: 1em; text-align: center; vertical-align: top\">None</td>\n",
       "        <td style=\"padding-left: 1em; padding-right: 1em; text-align: center; vertical-align: top\">TA</td>\n",
       "        <td style=\"padding-left: 1em; padding-right: 1em; text-align: center; vertical-align: top\">TA</td>\n",
       "        <td style=\"padding-left: 1em; padding-right: 1em; text-align: center; vertical-align: top\">CBlock</td>\n",
       "        <td style=\"padding-left: 1em; padding-right: 1em; text-align: center; vertical-align: top\">Gd</td>\n",
       "        <td style=\"padding-left: 1em; padding-right: 1em; text-align: center; vertical-align: top\">TA</td>\n",
       "    </tr>\n",
       "    <tr>\n",
       "        <td style=\"padding-left: 1em; padding-right: 1em; text-align: center; vertical-align: top\">Gable</td>\n",
       "        <td style=\"padding-left: 1em; padding-right: 1em; text-align: center; vertical-align: top\">CompShg</td>\n",
       "        <td style=\"padding-left: 1em; padding-right: 1em; text-align: center; vertical-align: top\">VinylSd</td>\n",
       "        <td style=\"padding-left: 1em; padding-right: 1em; text-align: center; vertical-align: top\">VinylSd</td>\n",
       "        <td style=\"padding-left: 1em; padding-right: 1em; text-align: center; vertical-align: top\">BrkFace</td>\n",
       "        <td style=\"padding-left: 1em; padding-right: 1em; text-align: center; vertical-align: top\">Gd</td>\n",
       "        <td style=\"padding-left: 1em; padding-right: 1em; text-align: center; vertical-align: top\">TA</td>\n",
       "        <td style=\"padding-left: 1em; padding-right: 1em; text-align: center; vertical-align: top\">PConc</td>\n",
       "        <td style=\"padding-left: 1em; padding-right: 1em; text-align: center; vertical-align: top\">Gd</td>\n",
       "        <td style=\"padding-left: 1em; padding-right: 1em; text-align: center; vertical-align: top\">TA</td>\n",
       "    </tr>\n",
       "    <tr>\n",
       "        <td style=\"padding-left: 1em; padding-right: 1em; text-align: center; vertical-align: top\">Gable</td>\n",
       "        <td style=\"padding-left: 1em; padding-right: 1em; text-align: center; vertical-align: top\">CompShg</td>\n",
       "        <td style=\"padding-left: 1em; padding-right: 1em; text-align: center; vertical-align: top\">Wd Sdng</td>\n",
       "        <td style=\"padding-left: 1em; padding-right: 1em; text-align: center; vertical-align: top\">Wd Shng</td>\n",
       "        <td style=\"padding-left: 1em; padding-right: 1em; text-align: center; vertical-align: top\">None</td>\n",
       "        <td style=\"padding-left: 1em; padding-right: 1em; text-align: center; vertical-align: top\">TA</td>\n",
       "        <td style=\"padding-left: 1em; padding-right: 1em; text-align: center; vertical-align: top\">TA</td>\n",
       "        <td style=\"padding-left: 1em; padding-right: 1em; text-align: center; vertical-align: top\">BrkTil</td>\n",
       "        <td style=\"padding-left: 1em; padding-right: 1em; text-align: center; vertical-align: top\">TA</td>\n",
       "        <td style=\"padding-left: 1em; padding-right: 1em; text-align: center; vertical-align: top\">Gd</td>\n",
       "    </tr>\n",
       "    <tr>\n",
       "        <td style=\"padding-left: 1em; padding-right: 1em; text-align: center; vertical-align: top\">Gable</td>\n",
       "        <td style=\"padding-left: 1em; padding-right: 1em; text-align: center; vertical-align: top\">CompShg</td>\n",
       "        <td style=\"padding-left: 1em; padding-right: 1em; text-align: center; vertical-align: top\">VinylSd</td>\n",
       "        <td style=\"padding-left: 1em; padding-right: 1em; text-align: center; vertical-align: top\">VinylSd</td>\n",
       "        <td style=\"padding-left: 1em; padding-right: 1em; text-align: center; vertical-align: top\">BrkFace</td>\n",
       "        <td style=\"padding-left: 1em; padding-right: 1em; text-align: center; vertical-align: top\">Gd</td>\n",
       "        <td style=\"padding-left: 1em; padding-right: 1em; text-align: center; vertical-align: top\">TA</td>\n",
       "        <td style=\"padding-left: 1em; padding-right: 1em; text-align: center; vertical-align: top\">PConc</td>\n",
       "        <td style=\"padding-left: 1em; padding-right: 1em; text-align: center; vertical-align: top\">Gd</td>\n",
       "        <td style=\"padding-left: 1em; padding-right: 1em; text-align: center; vertical-align: top\">TA</td>\n",
       "    </tr>\n",
       "    <tr>\n",
       "        <td style=\"padding-left: 1em; padding-right: 1em; text-align: center; vertical-align: top\">Gable</td>\n",
       "        <td style=\"padding-left: 1em; padding-right: 1em; text-align: center; vertical-align: top\">CompShg</td>\n",
       "        <td style=\"padding-left: 1em; padding-right: 1em; text-align: center; vertical-align: top\">VinylSd</td>\n",
       "        <td style=\"padding-left: 1em; padding-right: 1em; text-align: center; vertical-align: top\">VinylSd</td>\n",
       "        <td style=\"padding-left: 1em; padding-right: 1em; text-align: center; vertical-align: top\">None</td>\n",
       "        <td style=\"padding-left: 1em; padding-right: 1em; text-align: center; vertical-align: top\">TA</td>\n",
       "        <td style=\"padding-left: 1em; padding-right: 1em; text-align: center; vertical-align: top\">TA</td>\n",
       "        <td style=\"padding-left: 1em; padding-right: 1em; text-align: center; vertical-align: top\">Wood</td>\n",
       "        <td style=\"padding-left: 1em; padding-right: 1em; text-align: center; vertical-align: top\">Gd</td>\n",
       "        <td style=\"padding-left: 1em; padding-right: 1em; text-align: center; vertical-align: top\">TA</td>\n",
       "    </tr>\n",
       "    <tr>\n",
       "        <td style=\"padding-left: 1em; padding-right: 1em; text-align: center; vertical-align: top\">Gable</td>\n",
       "        <td style=\"padding-left: 1em; padding-right: 1em; text-align: center; vertical-align: top\">CompShg</td>\n",
       "        <td style=\"padding-left: 1em; padding-right: 1em; text-align: center; vertical-align: top\">VinylSd</td>\n",
       "        <td style=\"padding-left: 1em; padding-right: 1em; text-align: center; vertical-align: top\">VinylSd</td>\n",
       "        <td style=\"padding-left: 1em; padding-right: 1em; text-align: center; vertical-align: top\">Stone</td>\n",
       "        <td style=\"padding-left: 1em; padding-right: 1em; text-align: center; vertical-align: top\">Gd</td>\n",
       "        <td style=\"padding-left: 1em; padding-right: 1em; text-align: center; vertical-align: top\">TA</td>\n",
       "        <td style=\"padding-left: 1em; padding-right: 1em; text-align: center; vertical-align: top\">PConc</td>\n",
       "        <td style=\"padding-left: 1em; padding-right: 1em; text-align: center; vertical-align: top\">Ex</td>\n",
       "        <td style=\"padding-left: 1em; padding-right: 1em; text-align: center; vertical-align: top\">TA</td>\n",
       "    </tr>\n",
       "    <tr>\n",
       "        <td style=\"padding-left: 1em; padding-right: 1em; text-align: center; vertical-align: top\">Gable</td>\n",
       "        <td style=\"padding-left: 1em; padding-right: 1em; text-align: center; vertical-align: top\">CompShg</td>\n",
       "        <td style=\"padding-left: 1em; padding-right: 1em; text-align: center; vertical-align: top\">HdBoard</td>\n",
       "        <td style=\"padding-left: 1em; padding-right: 1em; text-align: center; vertical-align: top\">HdBoard</td>\n",
       "        <td style=\"padding-left: 1em; padding-right: 1em; text-align: center; vertical-align: top\">Stone</td>\n",
       "        <td style=\"padding-left: 1em; padding-right: 1em; text-align: center; vertical-align: top\">TA</td>\n",
       "        <td style=\"padding-left: 1em; padding-right: 1em; text-align: center; vertical-align: top\">TA</td>\n",
       "        <td style=\"padding-left: 1em; padding-right: 1em; text-align: center; vertical-align: top\">CBlock</td>\n",
       "        <td style=\"padding-left: 1em; padding-right: 1em; text-align: center; vertical-align: top\">Gd</td>\n",
       "        <td style=\"padding-left: 1em; padding-right: 1em; text-align: center; vertical-align: top\">TA</td>\n",
       "    </tr>\n",
       "    <tr>\n",
       "        <td style=\"padding-left: 1em; padding-right: 1em; text-align: center; vertical-align: top\">Gable</td>\n",
       "        <td style=\"padding-left: 1em; padding-right: 1em; text-align: center; vertical-align: top\">CompShg</td>\n",
       "        <td style=\"padding-left: 1em; padding-right: 1em; text-align: center; vertical-align: top\">BrkFace</td>\n",
       "        <td style=\"padding-left: 1em; padding-right: 1em; text-align: center; vertical-align: top\">Wd Shng</td>\n",
       "        <td style=\"padding-left: 1em; padding-right: 1em; text-align: center; vertical-align: top\">None</td>\n",
       "        <td style=\"padding-left: 1em; padding-right: 1em; text-align: center; vertical-align: top\">TA</td>\n",
       "        <td style=\"padding-left: 1em; padding-right: 1em; text-align: center; vertical-align: top\">TA</td>\n",
       "        <td style=\"padding-left: 1em; padding-right: 1em; text-align: center; vertical-align: top\">BrkTil</td>\n",
       "        <td style=\"padding-left: 1em; padding-right: 1em; text-align: center; vertical-align: top\">TA</td>\n",
       "        <td style=\"padding-left: 1em; padding-right: 1em; text-align: center; vertical-align: top\">TA</td>\n",
       "    </tr>\n",
       "    <tr>\n",
       "        <td style=\"padding-left: 1em; padding-right: 1em; text-align: center; vertical-align: top\">Gable</td>\n",
       "        <td style=\"padding-left: 1em; padding-right: 1em; text-align: center; vertical-align: top\">CompShg</td>\n",
       "        <td style=\"padding-left: 1em; padding-right: 1em; text-align: center; vertical-align: top\">MetalSd</td>\n",
       "        <td style=\"padding-left: 1em; padding-right: 1em; text-align: center; vertical-align: top\">MetalSd</td>\n",
       "        <td style=\"padding-left: 1em; padding-right: 1em; text-align: center; vertical-align: top\">None</td>\n",
       "        <td style=\"padding-left: 1em; padding-right: 1em; text-align: center; vertical-align: top\">TA</td>\n",
       "        <td style=\"padding-left: 1em; padding-right: 1em; text-align: center; vertical-align: top\">TA</td>\n",
       "        <td style=\"padding-left: 1em; padding-right: 1em; text-align: center; vertical-align: top\">BrkTil</td>\n",
       "        <td style=\"padding-left: 1em; padding-right: 1em; text-align: center; vertical-align: top\">TA</td>\n",
       "        <td style=\"padding-left: 1em; padding-right: 1em; text-align: center; vertical-align: top\">TA</td>\n",
       "    </tr>\n",
       "</table>\n",
       "<table frame=\"box\" rules=\"cols\">\n",
       "    <tr>\n",
       "        <th style=\"padding-left: 1em; padding-right: 1em; text-align: center\">BsmtExposure</th>\n",
       "        <th style=\"padding-left: 1em; padding-right: 1em; text-align: center\">BsmtFinType1</th>\n",
       "        <th style=\"padding-left: 1em; padding-right: 1em; text-align: center\">BsmtFinSF1</th>\n",
       "        <th style=\"padding-left: 1em; padding-right: 1em; text-align: center\">BsmtFinType2</th>\n",
       "        <th style=\"padding-left: 1em; padding-right: 1em; text-align: center\">BsmtFinSF2</th>\n",
       "        <th style=\"padding-left: 1em; padding-right: 1em; text-align: center\">BsmtUnfSF</th>\n",
       "        <th style=\"padding-left: 1em; padding-right: 1em; text-align: center\">TotalBsmtSF</th>\n",
       "        <th style=\"padding-left: 1em; padding-right: 1em; text-align: center\">Heating</th>\n",
       "        <th style=\"padding-left: 1em; padding-right: 1em; text-align: center\">HeatingQC</th>\n",
       "    </tr>\n",
       "    <tr>\n",
       "        <td style=\"padding-left: 1em; padding-right: 1em; text-align: center; vertical-align: top\">No</td>\n",
       "        <td style=\"padding-left: 1em; padding-right: 1em; text-align: center; vertical-align: top\">GLQ</td>\n",
       "        <td style=\"padding-left: 1em; padding-right: 1em; text-align: center; vertical-align: top\">706</td>\n",
       "        <td style=\"padding-left: 1em; padding-right: 1em; text-align: center; vertical-align: top\">Unf</td>\n",
       "        <td style=\"padding-left: 1em; padding-right: 1em; text-align: center; vertical-align: top\">0</td>\n",
       "        <td style=\"padding-left: 1em; padding-right: 1em; text-align: center; vertical-align: top\">150</td>\n",
       "        <td style=\"padding-left: 1em; padding-right: 1em; text-align: center; vertical-align: top\">856</td>\n",
       "        <td style=\"padding-left: 1em; padding-right: 1em; text-align: center; vertical-align: top\">GasA</td>\n",
       "        <td style=\"padding-left: 1em; padding-right: 1em; text-align: center; vertical-align: top\">Ex</td>\n",
       "    </tr>\n",
       "    <tr>\n",
       "        <td style=\"padding-left: 1em; padding-right: 1em; text-align: center; vertical-align: top\">Gd</td>\n",
       "        <td style=\"padding-left: 1em; padding-right: 1em; text-align: center; vertical-align: top\">ALQ</td>\n",
       "        <td style=\"padding-left: 1em; padding-right: 1em; text-align: center; vertical-align: top\">978</td>\n",
       "        <td style=\"padding-left: 1em; padding-right: 1em; text-align: center; vertical-align: top\">Unf</td>\n",
       "        <td style=\"padding-left: 1em; padding-right: 1em; text-align: center; vertical-align: top\">0</td>\n",
       "        <td style=\"padding-left: 1em; padding-right: 1em; text-align: center; vertical-align: top\">284</td>\n",
       "        <td style=\"padding-left: 1em; padding-right: 1em; text-align: center; vertical-align: top\">1262</td>\n",
       "        <td style=\"padding-left: 1em; padding-right: 1em; text-align: center; vertical-align: top\">GasA</td>\n",
       "        <td style=\"padding-left: 1em; padding-right: 1em; text-align: center; vertical-align: top\">Ex</td>\n",
       "    </tr>\n",
       "    <tr>\n",
       "        <td style=\"padding-left: 1em; padding-right: 1em; text-align: center; vertical-align: top\">Mn</td>\n",
       "        <td style=\"padding-left: 1em; padding-right: 1em; text-align: center; vertical-align: top\">GLQ</td>\n",
       "        <td style=\"padding-left: 1em; padding-right: 1em; text-align: center; vertical-align: top\">486</td>\n",
       "        <td style=\"padding-left: 1em; padding-right: 1em; text-align: center; vertical-align: top\">Unf</td>\n",
       "        <td style=\"padding-left: 1em; padding-right: 1em; text-align: center; vertical-align: top\">0</td>\n",
       "        <td style=\"padding-left: 1em; padding-right: 1em; text-align: center; vertical-align: top\">434</td>\n",
       "        <td style=\"padding-left: 1em; padding-right: 1em; text-align: center; vertical-align: top\">920</td>\n",
       "        <td style=\"padding-left: 1em; padding-right: 1em; text-align: center; vertical-align: top\">GasA</td>\n",
       "        <td style=\"padding-left: 1em; padding-right: 1em; text-align: center; vertical-align: top\">Ex</td>\n",
       "    </tr>\n",
       "    <tr>\n",
       "        <td style=\"padding-left: 1em; padding-right: 1em; text-align: center; vertical-align: top\">No</td>\n",
       "        <td style=\"padding-left: 1em; padding-right: 1em; text-align: center; vertical-align: top\">ALQ</td>\n",
       "        <td style=\"padding-left: 1em; padding-right: 1em; text-align: center; vertical-align: top\">216</td>\n",
       "        <td style=\"padding-left: 1em; padding-right: 1em; text-align: center; vertical-align: top\">Unf</td>\n",
       "        <td style=\"padding-left: 1em; padding-right: 1em; text-align: center; vertical-align: top\">0</td>\n",
       "        <td style=\"padding-left: 1em; padding-right: 1em; text-align: center; vertical-align: top\">540</td>\n",
       "        <td style=\"padding-left: 1em; padding-right: 1em; text-align: center; vertical-align: top\">756</td>\n",
       "        <td style=\"padding-left: 1em; padding-right: 1em; text-align: center; vertical-align: top\">GasA</td>\n",
       "        <td style=\"padding-left: 1em; padding-right: 1em; text-align: center; vertical-align: top\">Gd</td>\n",
       "    </tr>\n",
       "    <tr>\n",
       "        <td style=\"padding-left: 1em; padding-right: 1em; text-align: center; vertical-align: top\">Av</td>\n",
       "        <td style=\"padding-left: 1em; padding-right: 1em; text-align: center; vertical-align: top\">GLQ</td>\n",
       "        <td style=\"padding-left: 1em; padding-right: 1em; text-align: center; vertical-align: top\">655</td>\n",
       "        <td style=\"padding-left: 1em; padding-right: 1em; text-align: center; vertical-align: top\">Unf</td>\n",
       "        <td style=\"padding-left: 1em; padding-right: 1em; text-align: center; vertical-align: top\">0</td>\n",
       "        <td style=\"padding-left: 1em; padding-right: 1em; text-align: center; vertical-align: top\">490</td>\n",
       "        <td style=\"padding-left: 1em; padding-right: 1em; text-align: center; vertical-align: top\">1145</td>\n",
       "        <td style=\"padding-left: 1em; padding-right: 1em; text-align: center; vertical-align: top\">GasA</td>\n",
       "        <td style=\"padding-left: 1em; padding-right: 1em; text-align: center; vertical-align: top\">Ex</td>\n",
       "    </tr>\n",
       "    <tr>\n",
       "        <td style=\"padding-left: 1em; padding-right: 1em; text-align: center; vertical-align: top\">No</td>\n",
       "        <td style=\"padding-left: 1em; padding-right: 1em; text-align: center; vertical-align: top\">GLQ</td>\n",
       "        <td style=\"padding-left: 1em; padding-right: 1em; text-align: center; vertical-align: top\">732</td>\n",
       "        <td style=\"padding-left: 1em; padding-right: 1em; text-align: center; vertical-align: top\">Unf</td>\n",
       "        <td style=\"padding-left: 1em; padding-right: 1em; text-align: center; vertical-align: top\">0</td>\n",
       "        <td style=\"padding-left: 1em; padding-right: 1em; text-align: center; vertical-align: top\">64</td>\n",
       "        <td style=\"padding-left: 1em; padding-right: 1em; text-align: center; vertical-align: top\">796</td>\n",
       "        <td style=\"padding-left: 1em; padding-right: 1em; text-align: center; vertical-align: top\">GasA</td>\n",
       "        <td style=\"padding-left: 1em; padding-right: 1em; text-align: center; vertical-align: top\">Ex</td>\n",
       "    </tr>\n",
       "    <tr>\n",
       "        <td style=\"padding-left: 1em; padding-right: 1em; text-align: center; vertical-align: top\">Av</td>\n",
       "        <td style=\"padding-left: 1em; padding-right: 1em; text-align: center; vertical-align: top\">GLQ</td>\n",
       "        <td style=\"padding-left: 1em; padding-right: 1em; text-align: center; vertical-align: top\">1369</td>\n",
       "        <td style=\"padding-left: 1em; padding-right: 1em; text-align: center; vertical-align: top\">Unf</td>\n",
       "        <td style=\"padding-left: 1em; padding-right: 1em; text-align: center; vertical-align: top\">0</td>\n",
       "        <td style=\"padding-left: 1em; padding-right: 1em; text-align: center; vertical-align: top\">317</td>\n",
       "        <td style=\"padding-left: 1em; padding-right: 1em; text-align: center; vertical-align: top\">1686</td>\n",
       "        <td style=\"padding-left: 1em; padding-right: 1em; text-align: center; vertical-align: top\">GasA</td>\n",
       "        <td style=\"padding-left: 1em; padding-right: 1em; text-align: center; vertical-align: top\">Ex</td>\n",
       "    </tr>\n",
       "    <tr>\n",
       "        <td style=\"padding-left: 1em; padding-right: 1em; text-align: center; vertical-align: top\">Mn</td>\n",
       "        <td style=\"padding-left: 1em; padding-right: 1em; text-align: center; vertical-align: top\">ALQ</td>\n",
       "        <td style=\"padding-left: 1em; padding-right: 1em; text-align: center; vertical-align: top\">859</td>\n",
       "        <td style=\"padding-left: 1em; padding-right: 1em; text-align: center; vertical-align: top\">BLQ</td>\n",
       "        <td style=\"padding-left: 1em; padding-right: 1em; text-align: center; vertical-align: top\">32</td>\n",
       "        <td style=\"padding-left: 1em; padding-right: 1em; text-align: center; vertical-align: top\">216</td>\n",
       "        <td style=\"padding-left: 1em; padding-right: 1em; text-align: center; vertical-align: top\">1107</td>\n",
       "        <td style=\"padding-left: 1em; padding-right: 1em; text-align: center; vertical-align: top\">GasA</td>\n",
       "        <td style=\"padding-left: 1em; padding-right: 1em; text-align: center; vertical-align: top\">Ex</td>\n",
       "    </tr>\n",
       "    <tr>\n",
       "        <td style=\"padding-left: 1em; padding-right: 1em; text-align: center; vertical-align: top\">No</td>\n",
       "        <td style=\"padding-left: 1em; padding-right: 1em; text-align: center; vertical-align: top\">Unf</td>\n",
       "        <td style=\"padding-left: 1em; padding-right: 1em; text-align: center; vertical-align: top\">0</td>\n",
       "        <td style=\"padding-left: 1em; padding-right: 1em; text-align: center; vertical-align: top\">Unf</td>\n",
       "        <td style=\"padding-left: 1em; padding-right: 1em; text-align: center; vertical-align: top\">0</td>\n",
       "        <td style=\"padding-left: 1em; padding-right: 1em; text-align: center; vertical-align: top\">952</td>\n",
       "        <td style=\"padding-left: 1em; padding-right: 1em; text-align: center; vertical-align: top\">952</td>\n",
       "        <td style=\"padding-left: 1em; padding-right: 1em; text-align: center; vertical-align: top\">GasA</td>\n",
       "        <td style=\"padding-left: 1em; padding-right: 1em; text-align: center; vertical-align: top\">Gd</td>\n",
       "    </tr>\n",
       "    <tr>\n",
       "        <td style=\"padding-left: 1em; padding-right: 1em; text-align: center; vertical-align: top\">No</td>\n",
       "        <td style=\"padding-left: 1em; padding-right: 1em; text-align: center; vertical-align: top\">GLQ</td>\n",
       "        <td style=\"padding-left: 1em; padding-right: 1em; text-align: center; vertical-align: top\">851</td>\n",
       "        <td style=\"padding-left: 1em; padding-right: 1em; text-align: center; vertical-align: top\">Unf</td>\n",
       "        <td style=\"padding-left: 1em; padding-right: 1em; text-align: center; vertical-align: top\">0</td>\n",
       "        <td style=\"padding-left: 1em; padding-right: 1em; text-align: center; vertical-align: top\">140</td>\n",
       "        <td style=\"padding-left: 1em; padding-right: 1em; text-align: center; vertical-align: top\">991</td>\n",
       "        <td style=\"padding-left: 1em; padding-right: 1em; text-align: center; vertical-align: top\">GasA</td>\n",
       "        <td style=\"padding-left: 1em; padding-right: 1em; text-align: center; vertical-align: top\">Ex</td>\n",
       "    </tr>\n",
       "</table>\n",
       "<table frame=\"box\" rules=\"cols\">\n",
       "    <tr>\n",
       "        <th style=\"padding-left: 1em; padding-right: 1em; text-align: center\">CentralAir</th>\n",
       "        <th style=\"padding-left: 1em; padding-right: 1em; text-align: center\">...</th>\n",
       "    </tr>\n",
       "    <tr>\n",
       "        <td style=\"padding-left: 1em; padding-right: 1em; text-align: center; vertical-align: top\">Y</td>\n",
       "        <td style=\"padding-left: 1em; padding-right: 1em; text-align: center; vertical-align: top\">...</td>\n",
       "    </tr>\n",
       "    <tr>\n",
       "        <td style=\"padding-left: 1em; padding-right: 1em; text-align: center; vertical-align: top\">Y</td>\n",
       "        <td style=\"padding-left: 1em; padding-right: 1em; text-align: center; vertical-align: top\">...</td>\n",
       "    </tr>\n",
       "    <tr>\n",
       "        <td style=\"padding-left: 1em; padding-right: 1em; text-align: center; vertical-align: top\">Y</td>\n",
       "        <td style=\"padding-left: 1em; padding-right: 1em; text-align: center; vertical-align: top\">...</td>\n",
       "    </tr>\n",
       "    <tr>\n",
       "        <td style=\"padding-left: 1em; padding-right: 1em; text-align: center; vertical-align: top\">Y</td>\n",
       "        <td style=\"padding-left: 1em; padding-right: 1em; text-align: center; vertical-align: top\">...</td>\n",
       "    </tr>\n",
       "    <tr>\n",
       "        <td style=\"padding-left: 1em; padding-right: 1em; text-align: center; vertical-align: top\">Y</td>\n",
       "        <td style=\"padding-left: 1em; padding-right: 1em; text-align: center; vertical-align: top\">...</td>\n",
       "    </tr>\n",
       "    <tr>\n",
       "        <td style=\"padding-left: 1em; padding-right: 1em; text-align: center; vertical-align: top\">Y</td>\n",
       "        <td style=\"padding-left: 1em; padding-right: 1em; text-align: center; vertical-align: top\">...</td>\n",
       "    </tr>\n",
       "    <tr>\n",
       "        <td style=\"padding-left: 1em; padding-right: 1em; text-align: center; vertical-align: top\">Y</td>\n",
       "        <td style=\"padding-left: 1em; padding-right: 1em; text-align: center; vertical-align: top\">...</td>\n",
       "    </tr>\n",
       "    <tr>\n",
       "        <td style=\"padding-left: 1em; padding-right: 1em; text-align: center; vertical-align: top\">Y</td>\n",
       "        <td style=\"padding-left: 1em; padding-right: 1em; text-align: center; vertical-align: top\">...</td>\n",
       "    </tr>\n",
       "    <tr>\n",
       "        <td style=\"padding-left: 1em; padding-right: 1em; text-align: center; vertical-align: top\">Y</td>\n",
       "        <td style=\"padding-left: 1em; padding-right: 1em; text-align: center; vertical-align: top\">...</td>\n",
       "    </tr>\n",
       "    <tr>\n",
       "        <td style=\"padding-left: 1em; padding-right: 1em; text-align: center; vertical-align: top\">Y</td>\n",
       "        <td style=\"padding-left: 1em; padding-right: 1em; text-align: center; vertical-align: top\">...</td>\n",
       "    </tr>\n",
       "</table>\n",
       "[1460 rows x 78 columns]<br/>Note: Only the head of the SFrame is printed.<br/>You can use print_rows(num_rows=m, num_columns=n) to print more rows and columns.\n",
       "</div>"
      ],
      "text/plain": [
       "Columns:\n",
       "\tId\tint\n",
       "\tMSSubClass\tint\n",
       "\tMSZoning\tstr\n",
       "\tLotArea\tint\n",
       "\tStreet\tstr\n",
       "\tAlley\tstr\n",
       "\tLotShape\tstr\n",
       "\tLandContour\tstr\n",
       "\tUtilities\tstr\n",
       "\tLotConfig\tstr\n",
       "\tLandSlope\tstr\n",
       "\tNeighborhood\tstr\n",
       "\tCondition1\tstr\n",
       "\tCondition2\tstr\n",
       "\tBldgType\tstr\n",
       "\tHouseStyle\tstr\n",
       "\tOverallQual\tint\n",
       "\tOverallCond\tint\n",
       "\tYearBuilt\tint\n",
       "\tYearRemodAdd\tint\n",
       "\tRoofStyle\tstr\n",
       "\tRoofMatl\tstr\n",
       "\tExterior1st\tstr\n",
       "\tExterior2nd\tstr\n",
       "\tMasVnrType\tstr\n",
       "\tExterQual\tstr\n",
       "\tExterCond\tstr\n",
       "\tFoundation\tstr\n",
       "\tBsmtQual\tstr\n",
       "\tBsmtCond\tstr\n",
       "\tBsmtExposure\tstr\n",
       "\tBsmtFinType1\tstr\n",
       "\tBsmtFinSF1\tint\n",
       "\tBsmtFinType2\tstr\n",
       "\tBsmtFinSF2\tint\n",
       "\tBsmtUnfSF\tint\n",
       "\tTotalBsmtSF\tint\n",
       "\tHeating\tstr\n",
       "\tHeatingQC\tstr\n",
       "\tCentralAir\tstr\n",
       "\tElectrical\tstr\n",
       "\t1stFlrSF\tint\n",
       "\t2ndFlrSF\tint\n",
       "\tLowQualFinSF\tint\n",
       "\tGrLivArea\tint\n",
       "\tBsmtFullBath\tint\n",
       "\tBsmtHalfBath\tint\n",
       "\tFullBath\tint\n",
       "\tHalfBath\tint\n",
       "\tBedroomAbvGr\tint\n",
       "\tKitchenAbvGr\tint\n",
       "\tKitchenQual\tstr\n",
       "\tTotRmsAbvGrd\tint\n",
       "\tFunctional\tstr\n",
       "\tFireplaces\tint\n",
       "\tFireplaceQu\tstr\n",
       "\tGarageType\tstr\n",
       "\tGarageFinish\tstr\n",
       "\tGarageCars\tint\n",
       "\tGarageArea\tint\n",
       "\tGarageQual\tstr\n",
       "\tGarageCond\tstr\n",
       "\tPavedDrive\tstr\n",
       "\tWoodDeckSF\tint\n",
       "\tOpenPorchSF\tint\n",
       "\tEnclosedPorch\tint\n",
       "\t3SsnPorch\tint\n",
       "\tScreenPorch\tint\n",
       "\tPoolArea\tint\n",
       "\tPoolQC\tstr\n",
       "\tFence\tstr\n",
       "\tMiscFeature\tstr\n",
       "\tMiscVal\tint\n",
       "\tMoSold\tint\n",
       "\tYrSold\tint\n",
       "\tSaleType\tstr\n",
       "\tSaleCondition\tstr\n",
       "\tSalePrice\tint\n",
       "\n",
       "Rows: 1460\n",
       "\n",
       "Data:\n",
       "+----+------------+----------+---------+--------+-------+----------+-------------+\n",
       "| Id | MSSubClass | MSZoning | LotArea | Street | Alley | LotShape | LandContour |\n",
       "+----+------------+----------+---------+--------+-------+----------+-------------+\n",
       "| 1  |     60     |    RL    |   8450  |  Pave  |  None |   Reg    |     Lvl     |\n",
       "| 2  |     20     |    RL    |   9600  |  Pave  |  None |   Reg    |     Lvl     |\n",
       "| 3  |     60     |    RL    |  11250  |  Pave  |  None |   IR1    |     Lvl     |\n",
       "| 4  |     70     |    RL    |   9550  |  Pave  |  None |   IR1    |     Lvl     |\n",
       "| 5  |     60     |    RL    |  14260  |  Pave  |  None |   IR1    |     Lvl     |\n",
       "| 6  |     50     |    RL    |  14115  |  Pave  |  None |   IR1    |     Lvl     |\n",
       "| 7  |     20     |    RL    |  10084  |  Pave  |  None |   Reg    |     Lvl     |\n",
       "| 8  |     60     |    RL    |  10382  |  Pave  |  None |   IR1    |     Lvl     |\n",
       "| 9  |     50     |    RM    |   6120  |  Pave  |  None |   Reg    |     Lvl     |\n",
       "| 10 |    190     |    RL    |   7420  |  Pave  |  None |   Reg    |     Lvl     |\n",
       "+----+------------+----------+---------+--------+-------+----------+-------------+\n",
       "+-----------+-----------+-----------+--------------+------------+------------+\n",
       "| Utilities | LotConfig | LandSlope | Neighborhood | Condition1 | Condition2 |\n",
       "+-----------+-----------+-----------+--------------+------------+------------+\n",
       "|   AllPub  |   Inside  |    Gtl    |   CollgCr    |    Norm    |    Norm    |\n",
       "|   AllPub  |    FR2    |    Gtl    |   Veenker    |   Feedr    |    Norm    |\n",
       "|   AllPub  |   Inside  |    Gtl    |   CollgCr    |    Norm    |    Norm    |\n",
       "|   AllPub  |   Corner  |    Gtl    |   Crawfor    |    Norm    |    Norm    |\n",
       "|   AllPub  |    FR2    |    Gtl    |   NoRidge    |    Norm    |    Norm    |\n",
       "|   AllPub  |   Inside  |    Gtl    |   Mitchel    |    Norm    |    Norm    |\n",
       "|   AllPub  |   Inside  |    Gtl    |   Somerst    |    Norm    |    Norm    |\n",
       "|   AllPub  |   Corner  |    Gtl    |    NWAmes    |    PosN    |    Norm    |\n",
       "|   AllPub  |   Inside  |    Gtl    |   OldTown    |   Artery   |    Norm    |\n",
       "|   AllPub  |   Corner  |    Gtl    |   BrkSide    |   Artery   |   Artery   |\n",
       "+-----------+-----------+-----------+--------------+------------+------------+\n",
       "+----------+------------+-------------+-------------+-----------+--------------+-----+\n",
       "| BldgType | HouseStyle | OverallQual | OverallCond | YearBuilt | YearRemodAdd | ... |\n",
       "+----------+------------+-------------+-------------+-----------+--------------+-----+\n",
       "|   1Fam   |   2Story   |      7      |      5      |    2003   |     2003     | ... |\n",
       "|   1Fam   |   1Story   |      6      |      8      |    1976   |     1976     | ... |\n",
       "|   1Fam   |   2Story   |      7      |      5      |    2001   |     2002     | ... |\n",
       "|   1Fam   |   2Story   |      7      |      5      |    1915   |     1970     | ... |\n",
       "|   1Fam   |   2Story   |      8      |      5      |    2000   |     2000     | ... |\n",
       "|   1Fam   |   1.5Fin   |      5      |      5      |    1993   |     1995     | ... |\n",
       "|   1Fam   |   1Story   |      8      |      5      |    2004   |     2005     | ... |\n",
       "|   1Fam   |   2Story   |      7      |      6      |    1973   |     1973     | ... |\n",
       "|   1Fam   |   1.5Fin   |      7      |      5      |    1931   |     1950     | ... |\n",
       "|  2fmCon  |   1.5Unf   |      5      |      6      |    1939   |     1950     | ... |\n",
       "+----------+------------+-------------+-------------+-----------+--------------+-----+\n",
       "[1460 rows x 78 columns]\n",
       "Note: Only the head of the SFrame is printed.\n",
       "You can use print_rows(num_rows=m, num_columns=n) to print more rows and columns."
      ]
     },
     "execution_count": 7,
     "metadata": {},
     "output_type": "execute_result"
    }
   ],
   "source": [
    "sales"
   ]
  },
  {
   "cell_type": "markdown",
   "metadata": {},
   "source": [
    "# Exploring data"
   ]
  },
  {
   "cell_type": "code",
   "execution_count": 8,
   "metadata": {
    "collapsed": false
   },
   "outputs": [
    {
     "data": {
      "application/javascript": [
       "$(\"head\").append($(\"<link/>\").attr({\n",
       "  rel:  \"stylesheet\",\n",
       "  type: \"text/css\",\n",
       "  href: \"//cdnjs.cloudflare.com/ajax/libs/font-awesome/4.1.0/css/font-awesome.min.css\"\n",
       "}));\n",
       "$(\"head\").append($(\"<link/>\").attr({\n",
       "  rel:  \"stylesheet\",\n",
       "  type: \"text/css\",\n",
       "  href: \"https://static.turi.com/products/graphlab-create/2.1/canvas/css/canvas.css\"\n",
       "}));\n",
       "\n",
       "            (function(){\n",
       "\n",
       "                var e = null;\n",
       "                if (typeof element == 'undefined') {\n",
       "                    var scripts = document.getElementsByTagName('script');\n",
       "                    var thisScriptTag = scripts[scripts.length-1];\n",
       "                    var parentDiv = thisScriptTag.parentNode;\n",
       "                    e = document.createElement('div');\n",
       "                    parentDiv.appendChild(e);\n",
       "                } else {\n",
       "                    e = element[0];\n",
       "                }\n",
       "\n",
       "                if (typeof requirejs !== 'undefined') {\n",
       "                    // disable load timeout; ipython_app.js is large and can take a while to load.\n",
       "                    requirejs.config({waitSeconds: 0});\n",
       "                }\n",
       "\n",
       "                require(['https://static.turi.com/products/graphlab-create/2.1/canvas/js/ipython_app.js'], function(IPythonApp){\n",
       "                    var app = new IPythonApp();\n",
       "                    app.attachView('sframe','Plots', {\"selected_variable\": {\"name\": [\"sales\"], \"descriptives\": {\"rows\": 1460, \"columns\": 78}, \"view_component\": \"Plots\", \"view_file\": \"sframe\", \"view_params\": {\"y\": \"SalePrice\", \"x\": \"GrLivArea\", \"columns\": [\"Id\", \"MSSubClass\", \"MSZoning\", \"LotArea\", \"Street\", \"Alley\", \"LotShape\", \"LandContour\", \"Utilities\", \"LotConfig\", \"LandSlope\", \"Neighborhood\", \"Condition1\", \"Condition2\", \"BldgType\", \"HouseStyle\", \"OverallQual\", \"OverallCond\", \"YearBuilt\", \"YearRemodAdd\", \"RoofStyle\", \"RoofMatl\", \"Exterior1st\", \"Exterior2nd\", \"MasVnrType\", \"ExterQual\", \"ExterCond\", \"Foundation\", \"BsmtQual\", \"BsmtCond\", \"BsmtExposure\", \"BsmtFinType1\", \"BsmtFinSF1\", \"BsmtFinType2\", \"BsmtFinSF2\", \"BsmtUnfSF\", \"TotalBsmtSF\", \"Heating\", \"HeatingQC\", \"CentralAir\", \"Electrical\", \"1stFlrSF\", \"2ndFlrSF\", \"LowQualFinSF\", \"GrLivArea\", \"BsmtFullBath\", \"BsmtHalfBath\", \"FullBath\", \"HalfBath\", \"BedroomAbvGr\", \"KitchenAbvGr\", \"KitchenQual\", \"TotRmsAbvGrd\", \"Functional\", \"Fireplaces\", \"FireplaceQu\", \"GarageType\", \"GarageFinish\", \"GarageCars\", \"GarageArea\", \"GarageQual\", \"GarageCond\", \"PavedDrive\", \"WoodDeckSF\", \"OpenPorchSF\", \"EnclosedPorch\", \"3SsnPorch\", \"ScreenPorch\", \"PoolArea\", \"PoolQC\", \"Fence\", \"MiscFeature\", \"MiscVal\", \"MoSold\", \"YrSold\", \"SaleType\", \"SaleCondition\", \"SalePrice\"], \"view\": \"Scatter Plot\"}, \"view_components\": [\"Summary\", \"Table\", \"Bar Chart\", \"BoxWhisker Plot\", \"Line Chart\", \"Scatter Plot\", \"Heat Map\", \"Plots\"], \"type\": \"SFrame\", \"columns\": [{\"dtype\": \"int\", \"name\": \"Id\"}, {\"dtype\": \"int\", \"name\": \"MSSubClass\"}, {\"dtype\": \"str\", \"name\": \"MSZoning\"}, {\"dtype\": \"int\", \"name\": \"LotArea\"}, {\"dtype\": \"str\", \"name\": \"Street\"}, {\"dtype\": \"str\", \"name\": \"Alley\"}, {\"dtype\": \"str\", \"name\": \"LotShape\"}, {\"dtype\": \"str\", \"name\": \"LandContour\"}, {\"dtype\": \"str\", \"name\": \"Utilities\"}, {\"dtype\": \"str\", \"name\": \"LotConfig\"}, {\"dtype\": \"str\", \"name\": \"LandSlope\"}, {\"dtype\": \"str\", \"name\": \"Neighborhood\"}, {\"dtype\": \"str\", \"name\": \"Condition1\"}, {\"dtype\": \"str\", \"name\": \"Condition2\"}, {\"dtype\": \"str\", \"name\": \"BldgType\"}, {\"dtype\": \"str\", \"name\": \"HouseStyle\"}, {\"dtype\": \"int\", \"name\": \"OverallQual\"}, {\"dtype\": \"int\", \"name\": \"OverallCond\"}, {\"dtype\": \"int\", \"name\": \"YearBuilt\"}, {\"dtype\": \"int\", \"name\": \"YearRemodAdd\"}, {\"dtype\": \"str\", \"name\": \"RoofStyle\"}, {\"dtype\": \"str\", \"name\": \"RoofMatl\"}, {\"dtype\": \"str\", \"name\": \"Exterior1st\"}, {\"dtype\": \"str\", \"name\": \"Exterior2nd\"}, {\"dtype\": \"str\", \"name\": \"MasVnrType\"}, {\"dtype\": \"str\", \"name\": \"ExterQual\"}, {\"dtype\": \"str\", \"name\": \"ExterCond\"}, {\"dtype\": \"str\", \"name\": \"Foundation\"}, {\"dtype\": \"str\", \"name\": \"BsmtQual\"}, {\"dtype\": \"str\", \"name\": \"BsmtCond\"}, {\"dtype\": \"str\", \"name\": \"BsmtExposure\"}, {\"dtype\": \"str\", \"name\": \"BsmtFinType1\"}, {\"dtype\": \"int\", \"name\": \"BsmtFinSF1\"}, {\"dtype\": \"str\", \"name\": \"BsmtFinType2\"}, {\"dtype\": \"int\", \"name\": \"BsmtFinSF2\"}, {\"dtype\": \"int\", \"name\": \"BsmtUnfSF\"}, {\"dtype\": \"int\", \"name\": \"TotalBsmtSF\"}, {\"dtype\": \"str\", \"name\": \"Heating\"}, {\"dtype\": \"str\", \"name\": \"HeatingQC\"}, {\"dtype\": \"str\", \"name\": \"CentralAir\"}, {\"dtype\": \"str\", \"name\": \"Electrical\"}, {\"dtype\": \"int\", \"name\": \"1stFlrSF\"}, {\"dtype\": \"int\", \"name\": \"2ndFlrSF\"}, {\"dtype\": \"int\", \"name\": \"LowQualFinSF\"}, {\"dtype\": \"int\", \"name\": \"GrLivArea\"}, {\"dtype\": \"int\", \"name\": \"BsmtFullBath\"}, {\"dtype\": \"int\", \"name\": \"BsmtHalfBath\"}, {\"dtype\": \"int\", \"name\": \"FullBath\"}, {\"dtype\": \"int\", \"name\": \"HalfBath\"}, {\"dtype\": \"int\", \"name\": \"BedroomAbvGr\"}, {\"dtype\": \"int\", \"name\": \"KitchenAbvGr\"}, {\"dtype\": \"str\", \"name\": \"KitchenQual\"}, {\"dtype\": \"int\", \"name\": \"TotRmsAbvGrd\"}, {\"dtype\": \"str\", \"name\": \"Functional\"}, {\"dtype\": \"int\", \"name\": \"Fireplaces\"}, {\"dtype\": \"str\", \"name\": \"FireplaceQu\"}, {\"dtype\": \"str\", \"name\": \"GarageType\"}, {\"dtype\": \"str\", \"name\": \"GarageFinish\"}, {\"dtype\": \"int\", \"name\": \"GarageCars\"}, {\"dtype\": \"int\", \"name\": \"GarageArea\"}, {\"dtype\": \"str\", \"name\": \"GarageQual\"}, {\"dtype\": \"str\", \"name\": \"GarageCond\"}, {\"dtype\": \"str\", \"name\": \"PavedDrive\"}, {\"dtype\": \"int\", \"name\": \"WoodDeckSF\"}, {\"dtype\": \"int\", \"name\": \"OpenPorchSF\"}, {\"dtype\": \"int\", \"name\": \"EnclosedPorch\"}, {\"dtype\": \"int\", \"name\": \"3SsnPorch\"}, {\"dtype\": \"int\", \"name\": \"ScreenPorch\"}, {\"dtype\": \"int\", \"name\": \"PoolArea\"}, {\"dtype\": \"str\", \"name\": \"PoolQC\"}, {\"dtype\": \"str\", \"name\": \"Fence\"}, {\"dtype\": \"str\", \"name\": \"MiscFeature\"}, {\"dtype\": \"int\", \"name\": \"MiscVal\"}, {\"dtype\": \"int\", \"name\": \"MoSold\"}, {\"dtype\": \"int\", \"name\": \"YrSold\"}, {\"dtype\": \"str\", \"name\": \"SaleType\"}, {\"dtype\": \"str\", \"name\": \"SaleCondition\"}, {\"dtype\": \"int\", \"name\": \"SalePrice\"}], \"column_identifiers\": [\"3SsnPorch\", \"MasVnrType\", \"LotConfig\", \"LandSlope\", \"GarageQual\", \"Exterior1st\", \"GarageFinish\", \"2ndFlrSF\", \"HalfBath\", \"OverallQual\", \"OverallCond\", \"LotArea\", \"Electrical\", \"SalePrice\", \"BsmtQual\", \"HouseStyle\", \"GrLivArea\", \"YearRemodAdd\", \"EnclosedPorch\", \"Foundation\", \"1stFlrSF\", \"GarageCond\", \"BsmtCond\", \"HeatingQC\", \"RoofStyle\", \"MiscVal\", \"CentralAir\", \"BsmtExposure\", \"Utilities\", \"KitchenAbvGr\", \"WoodDeckSF\", \"LotShape\", \"BsmtFullBath\", \"TotalBsmtSF\", \"Condition1\", \"Condition2\", \"TotRmsAbvGrd\", \"MiscFeature\", \"YrSold\", \"PavedDrive\", \"OpenPorchSF\", \"LowQualFinSF\", \"BsmtUnfSF\", \"BsmtHalfBath\", \"FullBath\", \"SaleType\", \"MSZoning\", \"Exterior2nd\", \"Heating\", \"MSSubClass\", \"GarageCars\", \"YearBuilt\", \"KitchenQual\", \"BldgType\", \"BsmtFinType2\", \"BsmtFinType1\", \"BsmtFinSF1\", \"BsmtFinSF2\", \"GarageType\", \"LandContour\", \"PoolArea\", \"Neighborhood\", \"ScreenPorch\", \"Fence\", \"MoSold\", \"SaleCondition\", \"ExterQual\", \"Functional\", \"Alley\", \"Street\", \"Fireplaces\", \"GarageArea\", \"ExterCond\", \"PoolQC\", \"FireplaceQu\", \"RoofMatl\", \"Id\", \"BedroomAbvGr\"]}, \"complete\": 1, \"ipython\": true, \"progress\": 1.0, \"data\": [[1710, 208500], [1405, 171750], [1786, 223500], [1694, 245350], [1221, 104900], [1362, 143000], [1694, 307000], [2090, 200000], [1774, 129900], [1077, 118000], [1040, 129500], [1844, 223000], [2622, 325000], [1422, 179600], [1253, 157000], [854, 132000], [1779, 197900], [1296, 90000], [1114, 159000], [2898, 287000], [2376, 325300], [1108, 139400], [1848, 207000], [1060, 129900], [1111, 116900], [1600, 256300], [900, 134800], [1704, 306000], [1600, 207500], [520, 68500], [1699, 95000], [1593, 193000], [1234, 179900], [1700, 165500], [2007, 310000], [2452, 309000], [1459, 192000], [1297, 153000], [1057, 109000], [1152, 82000], [1776, 283463], [1328, 170000], [884, 144000], [938, 130250], [1657, 163500], [1752, 319900], [2149, 239686], [1656, 249700], [1452, 113000], [955, 127000], [1470, 177000], [1176, 114500], [816, 110000], [698, 118000], [1360, 130000], [968, 64500], [1739, 172500], [1720, 196500], [1368, 202500], [1500, 246578], [1158, 158000], [1111, 101000], [1370, 202500], [1710, 140000], [2034, 219500], [2473, 317000], [2207, 180000], [1479, 226000], [2093, 215000], [2287, 225000], [2223, 244000], [1588, 227000], [1314, 229456], [1086, 144900], [1605, 107400], [988, 91000], [952, 135750], [1285, 127000], [1768, 136500], [1230, 110000], [2142, 193500], [1337, 153500], [1563, 245000], [1065, 126500], [1474, 168500], [2417, 260000], [1560, 174000], [848, 149300], [1526, 85000], [990, 123600], [1040, 109900], [1235, 98600], [964, 163500], [2291, 133900], [1786, 204750], [1440, 182900], [1588, 214000], [930, 84900], [1200, 144152], [1225, 128950], [1610, 205000], [894, 125000], [892, 110000], [1226, 198900], [1818, 169500], [1114, 155000], [1047, 100000], [1482, 143000], [1517, 115000], [1844, 190000], [1190, 132500], [1523, 180000], [936, 129000], [1572, 186700], [1920, 170000], [1458, 176000], [1092, 139000], [1125, 155000], [3222, 320000], [1456, 163990], [1258, 108959], [2090, 240000], [1080, 136000], [1247, 197000], [1571, 239000], [754, 84500], [958, 128000], [691, 86000], [1348, 155000], [1053, 150000], [1364, 185850], [1868, 197500], [1327, 150750], [1296, 220000], [1721, 180000], [1682, 174000], [2167, 294000], [1959, 171000], [1852, 230000], [948, 119000], [864, 115000], [1734, 260000], [1385, 166000], [1501, 204000], [1728, 125000], [1709, 130000], [1668, 140000], [833, 117000], [1080, 141000], [1344, 115000], [969, 122000], [1710, 372402], [1124, 93000], [1252, 235000], [1200, 125000], [1096, 79000], [1889, 122000], [1968, 269500], [1947, 254900], [2462, 320000], [1232, 162500], [1584, 124000], [1664, 100000], [882, 103200], [1616, 152000], [1355, 127500], [1867, 190000], [2161, 325624], [1690, 144000], [1932, 394617], [1734, 318000], [1656, 215000], [2097, 274300], [864, 58500], [1651, 184000], [2158, 243000], [2060, 211000], [923, 119500], [2234, 501837], [968, 100000], [1357, 177000], [774, 79000], [1340, 120000], [2082, 200000], [1252, 127000], [1687, 160000], [1217, 173000], [1656, 135000], [1224, 153337], [1593, 286000], [2727, 315000], [1479, 184000], [1431, 192000], [2340, 266500], [986, 102000], [1466, 149900], [1122, 147000], [2810, 302000], [1530, 259000], [1656, 135000], [1121, 140000], [1279, 171500], [1310, 112000], [848, 149000], [1284, 110000], [1442, 180500], [1696, 143900], [848, 136500], [2062, 277000], [1092, 145000], [864, 98000], [1212, 186000], [1852, 252678], [1218, 91500], [1344, 144000], [1236, 134450], [1436, 210000], [1328, 107000], [1954, 311500], [1248, 167240], [1498, 204900], [2267, 200000], [1552, 179900], [864, 97000], [1600, 169000], [1302, 112000], [2520, 290000], [845, 84000], [912, 125000], [1555, 192500], [1194, 148000], [1265, 179900], [987, 94500], [894, 128200], [1960, 216500], [987, 89500], [2337, 90000], [1744, 194500], [1694, 318000], [1487, 113000], [1426, 159500], [866, 110500], [1440, 79000], [1217, 120000], [2110, 205000], [1367, 127500], [1928, 137000], [1274, 203000], [932, 124000], [1167, 144000], [2156, 262500], [1625, 235000], [882, 112500], [2599, 333168], [1738, 104900], [2291, 230000], [1728, 207500], [1604, 220000], [1792, 231500], [882, 97000], [2358, 122000], [2574, 276000], [985, 149900], [1506, 213490], [764, 73000], [1422, 175500], [1733, 139600], [2192, 179500], [1977, 165000], [1113, 148000], [1923, 190000], [1363, 241500], [913, 129000], [1632, 139000], [816, 124500], [1548, 205000], [1560, 201000], [864, 141000], [2121, 415298], [2022, 192000], [912, 80500], [1991, 220000], [1348, 117000], [1811, 230000], [1490, 184000], [1250, 164700], [1734, 159000], [858, 88000], [900, 122000], [1396, 153575], [1919, 233230], [1716, 135900], [1716, 131000], [2263, 235000], [1850, 248000], [1003, 142500], [2792, 256000], [1130, 120000], [1743, 175000], [2555, 191000], [1336, 157000], [2452, 267000], [1334, 167900], [894, 149900], [3493, 295000], [2000, 305900], [2243, 225000], [1406, 89500], [861, 82500], [1944, 360000], [944, 82000], [972, 132000], [1118, 119900], [2036, 375000], [1641, 178000], [1432, 188500], [2353, 260000], [1959, 270000], [2646, 260000], [1601, 140000], [2596, 342643], [2468, 354000], [2730, 301000], [1163, 126175], [2978, 242000], [803, 87000], [1719, 324000], [1383, 145250], [2134, 214500], [1192, 78000], [1728, 119000], [1970, 281000], [1629, 284000], [1358, 207000], [1638, 192000], [1786, 228950], [893, 135000], [1536, 214000], [1621, 202500], [1524, 260000], [1908, 202900], [841, 82000], [974, 93500], [1684, 266000], [1112, 85000], [1224, 101800], [958, 151500], [1251, 160000], [1646, 293077], [2728, 437154], [1869, 318061], [1453, 190000], [1111, 95000], [720, 105900], [1224, 115000], [1553, 186500], [1167, 173000], [1647, 175000], [1352, 130000], [1924, 280000], [2345, 239000], [1505, 145000], [1294, 193879], [987, 118000], [1258, 105000], [1344, 147000], [1394, 159000], [2784, 250000], [1268, 132000], [1287, 162000], [1664, 172400], [1588, 134432], [752, 125000], [1319, 123000], [1708, 130000], [904, 61000], [1845, 189000], [2466, 340000], [1856, 394432], [1800, 179000], [1691, 127000], [1301, 187750], [1797, 213500], [784, 76000], [1740, 219500], [1269, 192000], [1184, 81000], [1246, 154000], [1479, 191000], [2332, 426000], [1367, 119000], [1961, 215000], [882, 106500], [788, 100000], [1694, 136500], [2201, 274970], [894, 123000], [768, 133000], [1846, 143000], [1344, 97000], [1288, 245500], [1310, 164990], [1472, 160000], [2263, 258000], [1572, 168000], [1620, 150000], [1639, 115000], [1680, 177000], [2172, 280000], [2078, 339750], [1981, 135000], [1056, 145000], [1478, 222000], [1660, 290000], [2097, 228000], [1340, 181134], [1400, 149500], [2624, 239000], [1324, 128000], [1056, 142000], [1787, 275000], [960, 145000], [988, 113000], [2630, 315000], [1196, 139000], [1389, 135000], [1302, 119500], [907, 109008], [1208, 195400], [1412, 175000], [1665, 227000], [1959, 215000], [1365, 122500], [2526, 290000], [2260, 328000], [1661, 212000], [1118, 116000], [904, 119000], [950, 119500], [1196, 110000], [2402, 555000], [1630, 295493], [1573, 162900], [1258, 172500], [1908, 210000], [1689, 127500], [1888, 190000], [1886, 199900], [1646, 275000], [1183, 120000], [813, 110000], [894, 130000], [1072, 140000], [1590, 210000], [1728, 188000], [1242, 175500], [1344, 98000], [1478, 156500], [1220, 194000], [3086, 200500], [1339, 180000], [1135, 155000], [864, 62383], [1660, 188700], [1040, 124000], [1414, 178740], [816, 120500], [1644, 146500], [1218, 131000], [1710, 187000], [1482, 163900], [1969, 190000], [1072, 148000], [1863, 219210], [1652, 251000], [970, 132500], [1493, 208900], [2018, 378500], [987, 83000], [1050, 128900], [2520, 310000], [1792, 374000], [1826, 155000], [1216, 164000], [1176, 134900], [1113, 147000], [1576, 149000], [1484, 175000], [2868, 556581], [630, 86000], [1304, 115000], [1578, 133000], [948, 111000], [1269, 155000], [886, 91300], [1709, 137500], [3228, 430000], [1820, 184000], [899, 130000], [912, 120000], [990, 145000], [1768, 226700], [1214, 140000], [1801, 289000], [1322, 147000], [1960, 124500], [1911, 215000], [1152, 180500], [1378, 161000], [1022, 85000], [1795, 147000], [1368, 202665], [864, 129900], [1080, 134000], [789, 96500], [2020, 402861], [2119, 158000], [2344, 265000], [1188, 157900], [2080, 234000], [1294, 106250], [1244, 150000], [988, 119000], [4676, 184750], [2398, 315750], [1266, 176000], [928, 132000], [1668, 232000], [605, 86000], [2020, 239500], [1509, 175000], [1362, 128000], [827, 107500], [334, 39300], [1414, 178000], [1347, 107500], [1724, 188000], [864, 111250], [1552, 212900], [1611, 167900], [1710, 240000], [2285, 248000], [2329, 262280], [1412, 132500], [1496, 179665], [2183, 229000], [1635, 210000], [768, 129500], [825, 125000], [2263, 287000], [1069, 140000], [1601, 157000], [1717, 255500], [1126, 108000], [1456, 146000], [1654, 230000], [1746, 377500], [1336, 108000], [1446, 175000], [1250, 139000], [1574, 232000], [804, 119000], [996, 108000], [1674, 185000], [2295, 268000], [1302, 176485], [2504, 325000], [1535, 214000], [2132, 316600], [943, 135960], [1728, 142600], [864, 120000], [1082, 119200], [1430, 170000], [1456, 176000], [1216, 118500], [1656, 165400], [1320, 164500], [1392, 146000], [1012, 118400], [1429, 181900], [1218, 118000], [438, 60000], [1803, 155000], [1573, 133000], [2028, 369900], [1395, 162000], [848, 155900], [1473, 143000], [935, 79500], [1582, 185900], [2296, 451950], [816, 138000], [848, 140000], [924, 110000], [1826, 319000], [1240, 194000], [1154, 125500], [1660, 195000], [1556, 151000], [1904, 275000], [1375, 141000], [1915, 220000], [1212, 178000], [1725, 197000], [1986, 205000], [630, 92000], [2008, 225000], [3194, 359100], [1029, 118500], [2153, 313000], [5642, 160000], [1872, 261500], [1211, 134000], [630, 75500], [1632, 176500], [1920, 137000], [832, 105500], [1828, 314813], [2262, 305000], [864, 67000], [2614, 240000], [980, 135000], [1608, 137450], [1790, 165150], [1116, 160000], [1567, 196000], [1416, 179900], [2080, 135000], [1350, 168500], [1750, 124000], [1554, 209500], [1411, 82500], [1056, 139400], [1716, 171000], [3395, 200000], [800, 60000], [1387, 93000], [796, 85000], [1983, 225000], [816, 130500], [1929, 226000], [796, 55000], [1158, 120000], [1494, 177500], [981, 143250], [1048, 98300], [1094, 155000], [1839, 155000], [630, 84500], [1665, 205950], [1510, 108000], [1484, 265900], [1502, 165000], [2113, 350000], [1092, 88000], [1053, 145500], [1502, 149000], [1458, 97500], [1486, 167000], [1935, 197900], [2448, 402000], [1392, 110000], [816, 129900], [2097, 423000], [1365, 125000], [2380, 129000], [1679, 193500], [1437, 168000], [1180, 137500], [1476, 173500], [1252, 119000], [1208, 165000], [1839, 257500], [1136, 140000], [2601, 189000], [1774, 87000], [1652, 325000], [2046, 372500], [988, 128500], [923, 143000], [1520, 159434], [1291, 173000], [1668, 285000], [1839, 221000], [2090, 207500], [1761, 227875], [1102, 148800], [1419, 392000], [1362, 194700], [848, 141000], [1504, 191000], [2519, 335000], [1073, 108480], [1539, 141500], [1137, 176000], [2110, 244000], [2447, 169000], [1128, 155000], [1391, 196000], [1800, 312500], [1164, 140000], [2576, 361919], [1812, 140000], [1484, 213000], [1092, 55000], [1824, 302000], [1092, 83500], [1456, 179540], [864, 115000], [729, 52000], [1178, 102776], [1228, 189000], [1620, 315500], [1479, 130500], [1868, 178000], [2554, 159500], [1178, 157000], [2418, 341000], [971, 128500], [960, 112000], [1502, 233170], [864, 124500], [1470, 135000], [1698, 320000], [864, 120500], [1006, 80000], [894, 129000], [1776, 110000], [1208, 103000], [1616, 236500], [1146, 187500], [2031, 222500], [1804, 189000], [948, 108000], [1768, 163000], [1040, 93500], [872, 123000], [1200, 179000], [1728, 190000], [1526, 144500], [1466, 170000], [1349, 179000], [1464, 175000], [1337, 180000], [952, 121000], [2256, 236000], [1271, 135000], [1720, 260400], [1132, 176000], [2450, 340000], [1320, 162000], [1494, 217000], [2098, 275500], [1026, 156000], [1471, 172500], [1768, 212000], [1386, 158900], [958, 143750], [2531, 290000], [952, 139000], [1788, 161500], [1547, 215200], [2365, 337000], [1494, 270000], [1824, 139000], [1714, 196500], [1750, 160000], [1836, 216837], [3279, 538000], [858, 134900], [1220, 102000], [1117, 107000], [912, 114500], [1416, 112000], [1092, 88000], [1614, 221500], [1489, 185750], [2020, 144000], [1004, 135000], [1256, 147500], [1603, 175900], [1430, 187100], [936, 140000], [1604, 117000], [1342, 161500], [1652, 139000], [2084, 233000], [2620, 190000], [1078, 149900], [864, 120500], [1472, 125000], [2013, 269790], [2108, 235000], [1895, 194500], [1564, 171000], [1285, 143500], [773, 110000], [3140, 485000], [1768, 175000], [1688, 200000], [1196, 109900], [1456, 189000], [3238, 410000], [1724, 197900], [3082, 197000], [980, 135500], [1576, 223500], [1086, 159950], [2138, 106000], [1309, 181000], [848, 144500], [1044, 55993], [1442, 157900], [1250, 116000], [1661, 224900], [1008, 137000], [1689, 271000], [1052, 155000], [1358, 224000], [1640, 183000], [1675, 181000], [1733, 225000], [1580, 235128], [1792, 136000], [2084, 385000], [2521, 151400], [1314, 230000], [1040, 150500], [1674, 216000], [1392, 166000], [1200, 151000], [1689, 248328], [1516, 167000], [1144, 139950], [3627, 625000], [1559, 153500], [987, 100000], [1099, 144000], [1200, 130500], [1482, 140000], [1539, 157500], [1165, 174900], [1564, 174500], [1416, 153900], [2169, 228500], [1775, 213000], [864, 133500], [1316, 200141], [1250, 171900], [848, 131500], [1555, 174000], [1646, 164000], [1445, 158000], [954, 119750], [1040, 127000], [1026, 147000], [1481, 174000], [1370, 152000], [2654, 250000], [1522, 102000], [1039, 131500], [1558, 140000], [1844, 257000], [1372, 250580], [1002, 148500], [1646, 248900], [1120, 129000], [2320, 169000], [1987, 301500], [894, 109500], [1682, 200500], [910, 116000], [1268, 133000], [1328, 143000], [990, 126000], [1040, 132250], [1360, 187500], [1155, 148000], [864, 136500], [1090, 157000], [1382, 148000], [1593, 178000], [1700, 200000], [892, 100000], [1709, 328900], [1712, 145000], [990, 138000], [1141, 142500], [1505, 149500], [924, 122900], [1683, 172500], [2290, 122500], [1383, 165000], [1964, 205000], [1796, 140000], [951, 106500], [2240, 142953], [1980, 315000], [1236, 135000], [858, 110000], [1306, 153000], [1509, 180000], [1670, 240000], [1264, 167500], [1063, 128000], [2196, 271900], [2057, 250000], [1578, 287090], [1484, 174000], [2274, 154300], [1268, 143500], [1015, 88000], [2526, 136000], [1224, 173733], [1092, 75000], [480, 35311], [935, 137000], [2127, 238000], [1054, 151000], [1173, 170000], [2200, 145900], [999, 134500], [1617, 193000], [1686, 207500], [1513, 137500], [2374, 285000], [1978, 176000], [1820, 201800], [2236, 222000], [1466, 201000], [925, 117500], [1905, 320000], [1500, 190000], [2069, 242000], [747, 79900], [1200, 184900], [1971, 253000], [1962, 239799], [1432, 194000], [1728, 150900], [2060, 214000], [1440, 150000], [1632, 143000], [1344, 137500], [1869, 124900], [1144, 143000], [1629, 270000], [1776, 192500], [1953, 252000], [1144, 124000], [965, 119900], [768, 133900], [1968, 172000], [980, 127500], [1261, 163000], [1229, 124000], [2633, 466500], [1337, 185000], [1416, 155000], [1056, 107000], [2872, 272000], [1548, 155000], [1537, 174000], [1894, 214900], [1484, 178900], [1452, 183900], [1020, 94000], [968, 37900], [1248, 87000], [1192, 135000], [1464, 282922], [1573, 177500], [1428, 182000], [1283, 140000], [1382, 165000], [869, 85500], [1241, 199900], [1252, 142000], [1121, 139000], [999, 178400], [2612, 336000], [1266, 159895], [1040, 92900], [2031, 237000], [1164, 125000], [1556, 154000], [1940, 395192], [2030, 195000], [1904, 138000], [2392, 348000], [1742, 168000], [1851, 187000], [1040, 133000], [1948, 195000], [1792, 186500], [1050, 136500], [1441, 174000], [1077, 91000], [1840, 230000]], \"columns\": [{\"dtype\": \"int\", \"name\": \"Id\"}, {\"dtype\": \"int\", \"name\": \"MSSubClass\"}, {\"dtype\": \"str\", \"name\": \"MSZoning\"}, {\"dtype\": \"int\", \"name\": \"LotArea\"}, {\"dtype\": \"str\", \"name\": \"Street\"}, {\"dtype\": \"str\", \"name\": \"Alley\"}, {\"dtype\": \"str\", \"name\": \"LotShape\"}, {\"dtype\": \"str\", \"name\": \"LandContour\"}, {\"dtype\": \"str\", \"name\": \"Utilities\"}, {\"dtype\": \"str\", \"name\": \"LotConfig\"}, {\"dtype\": \"str\", \"name\": \"LandSlope\"}, {\"dtype\": \"str\", \"name\": \"Neighborhood\"}, {\"dtype\": \"str\", \"name\": \"Condition1\"}, {\"dtype\": \"str\", \"name\": \"Condition2\"}, {\"dtype\": \"str\", \"name\": \"BldgType\"}, {\"dtype\": \"str\", \"name\": \"HouseStyle\"}, {\"dtype\": \"int\", \"name\": \"OverallQual\"}, {\"dtype\": \"int\", \"name\": \"OverallCond\"}, {\"dtype\": \"int\", \"name\": \"YearBuilt\"}, {\"dtype\": \"int\", \"name\": \"YearRemodAdd\"}, {\"dtype\": \"str\", \"name\": \"RoofStyle\"}, {\"dtype\": \"str\", \"name\": \"RoofMatl\"}, {\"dtype\": \"str\", \"name\": \"Exterior1st\"}, {\"dtype\": \"str\", \"name\": \"Exterior2nd\"}, {\"dtype\": \"str\", \"name\": \"MasVnrType\"}, {\"dtype\": \"str\", \"name\": \"ExterQual\"}, {\"dtype\": \"str\", \"name\": \"ExterCond\"}, {\"dtype\": \"str\", \"name\": \"Foundation\"}, {\"dtype\": \"str\", \"name\": \"BsmtQual\"}, {\"dtype\": \"str\", \"name\": \"BsmtCond\"}, {\"dtype\": \"str\", \"name\": \"BsmtExposure\"}, {\"dtype\": \"str\", \"name\": \"BsmtFinType1\"}, {\"dtype\": \"int\", \"name\": \"BsmtFinSF1\"}, {\"dtype\": \"str\", \"name\": \"BsmtFinType2\"}, {\"dtype\": \"int\", \"name\": \"BsmtFinSF2\"}, {\"dtype\": \"int\", \"name\": \"BsmtUnfSF\"}, {\"dtype\": \"int\", \"name\": \"TotalBsmtSF\"}, {\"dtype\": \"str\", \"name\": \"Heating\"}, {\"dtype\": \"str\", \"name\": \"HeatingQC\"}, {\"dtype\": \"str\", \"name\": \"CentralAir\"}, {\"dtype\": \"str\", \"name\": \"Electrical\"}, {\"dtype\": \"int\", \"name\": \"1stFlrSF\"}, {\"dtype\": \"int\", \"name\": \"2ndFlrSF\"}, {\"dtype\": \"int\", \"name\": \"LowQualFinSF\"}, {\"dtype\": \"int\", \"name\": \"GrLivArea\"}, {\"dtype\": \"int\", \"name\": \"BsmtFullBath\"}, {\"dtype\": \"int\", \"name\": \"BsmtHalfBath\"}, {\"dtype\": \"int\", \"name\": \"FullBath\"}, {\"dtype\": \"int\", \"name\": \"HalfBath\"}, {\"dtype\": \"int\", \"name\": \"BedroomAbvGr\"}, {\"dtype\": \"int\", \"name\": \"KitchenAbvGr\"}, {\"dtype\": \"str\", \"name\": \"KitchenQual\"}, {\"dtype\": \"int\", \"name\": \"TotRmsAbvGrd\"}, {\"dtype\": \"str\", \"name\": \"Functional\"}, {\"dtype\": \"int\", \"name\": \"Fireplaces\"}, {\"dtype\": \"str\", \"name\": \"FireplaceQu\"}, {\"dtype\": \"str\", \"name\": \"GarageType\"}, {\"dtype\": \"str\", \"name\": \"GarageFinish\"}, {\"dtype\": \"int\", \"name\": \"GarageCars\"}, {\"dtype\": \"int\", \"name\": \"GarageArea\"}, {\"dtype\": \"str\", \"name\": \"GarageQual\"}, {\"dtype\": \"str\", \"name\": \"GarageCond\"}, {\"dtype\": \"str\", \"name\": \"PavedDrive\"}, {\"dtype\": \"int\", \"name\": \"WoodDeckSF\"}, {\"dtype\": \"int\", \"name\": \"OpenPorchSF\"}, {\"dtype\": \"int\", \"name\": \"EnclosedPorch\"}, {\"dtype\": \"int\", \"name\": \"3SsnPorch\"}, {\"dtype\": \"int\", \"name\": \"ScreenPorch\"}, {\"dtype\": \"int\", \"name\": \"PoolArea\"}, {\"dtype\": \"str\", \"name\": \"PoolQC\"}, {\"dtype\": \"str\", \"name\": \"Fence\"}, {\"dtype\": \"str\", \"name\": \"MiscFeature\"}, {\"dtype\": \"int\", \"name\": \"MiscVal\"}, {\"dtype\": \"int\", \"name\": \"MoSold\"}, {\"dtype\": \"int\", \"name\": \"YrSold\"}, {\"dtype\": \"str\", \"name\": \"SaleType\"}, {\"dtype\": \"str\", \"name\": \"SaleCondition\"}, {\"dtype\": \"int\", \"name\": \"SalePrice\"}]}, e);\n",
       "                });\n",
       "            })();\n",
       "        "
      ]
     },
     "metadata": {},
     "output_type": "display_data"
    }
   ],
   "source": [
    "graphlab.canvas.set_target('ipynb')\n",
    "sales.show(view=\"Scatter Plot\", x=\"GrLivArea\", y=\"SalePrice\")"
   ]
  },
  {
   "cell_type": "code",
   "execution_count": 9,
   "metadata": {
    "collapsed": false,
    "scrolled": true
   },
   "outputs": [
    {
     "data": {
      "application/javascript": [
       "$(\"head\").append($(\"<link/>\").attr({\n",
       "  rel:  \"stylesheet\",\n",
       "  type: \"text/css\",\n",
       "  href: \"//cdnjs.cloudflare.com/ajax/libs/font-awesome/4.1.0/css/font-awesome.min.css\"\n",
       "}));\n",
       "$(\"head\").append($(\"<link/>\").attr({\n",
       "  rel:  \"stylesheet\",\n",
       "  type: \"text/css\",\n",
       "  href: \"https://static.turi.com/products/graphlab-create/2.1/canvas/css/canvas.css\"\n",
       "}));\n",
       "\n",
       "            (function(){\n",
       "\n",
       "                var e = null;\n",
       "                if (typeof element == 'undefined') {\n",
       "                    var scripts = document.getElementsByTagName('script');\n",
       "                    var thisScriptTag = scripts[scripts.length-1];\n",
       "                    var parentDiv = thisScriptTag.parentNode;\n",
       "                    e = document.createElement('div');\n",
       "                    parentDiv.appendChild(e);\n",
       "                } else {\n",
       "                    e = element[0];\n",
       "                }\n",
       "\n",
       "                if (typeof requirejs !== 'undefined') {\n",
       "                    // disable load timeout; ipython_app.js is large and can take a while to load.\n",
       "                    requirejs.config({waitSeconds: 0});\n",
       "                }\n",
       "\n",
       "                require(['https://static.turi.com/products/graphlab-create/2.1/canvas/js/ipython_app.js'], function(IPythonApp){\n",
       "                    var app = new IPythonApp();\n",
       "                    app.attachView('sframe','Plots', {\"selected_variable\": {\"name\": [\"sales\"], \"descriptives\": {\"rows\": 1460, \"columns\": 78}, \"view_component\": \"Plots\", \"view_file\": \"sframe\", \"view_params\": {\"y\": \"SalePrice\", \"x\": \"LotArea\", \"columns\": [\"Id\", \"MSSubClass\", \"MSZoning\", \"LotArea\", \"Street\", \"Alley\", \"LotShape\", \"LandContour\", \"Utilities\", \"LotConfig\", \"LandSlope\", \"Neighborhood\", \"Condition1\", \"Condition2\", \"BldgType\", \"HouseStyle\", \"OverallQual\", \"OverallCond\", \"YearBuilt\", \"YearRemodAdd\", \"RoofStyle\", \"RoofMatl\", \"Exterior1st\", \"Exterior2nd\", \"MasVnrType\", \"ExterQual\", \"ExterCond\", \"Foundation\", \"BsmtQual\", \"BsmtCond\", \"BsmtExposure\", \"BsmtFinType1\", \"BsmtFinSF1\", \"BsmtFinType2\", \"BsmtFinSF2\", \"BsmtUnfSF\", \"TotalBsmtSF\", \"Heating\", \"HeatingQC\", \"CentralAir\", \"Electrical\", \"1stFlrSF\", \"2ndFlrSF\", \"LowQualFinSF\", \"GrLivArea\", \"BsmtFullBath\", \"BsmtHalfBath\", \"FullBath\", \"HalfBath\", \"BedroomAbvGr\", \"KitchenAbvGr\", \"KitchenQual\", \"TotRmsAbvGrd\", \"Functional\", \"Fireplaces\", \"FireplaceQu\", \"GarageType\", \"GarageFinish\", \"GarageCars\", \"GarageArea\", \"GarageQual\", \"GarageCond\", \"PavedDrive\", \"WoodDeckSF\", \"OpenPorchSF\", \"EnclosedPorch\", \"3SsnPorch\", \"ScreenPorch\", \"PoolArea\", \"PoolQC\", \"Fence\", \"MiscFeature\", \"MiscVal\", \"MoSold\", \"YrSold\", \"SaleType\", \"SaleCondition\", \"SalePrice\"], \"view\": \"Scatter Plot\"}, \"view_components\": [\"Summary\", \"Table\", \"Bar Chart\", \"BoxWhisker Plot\", \"Line Chart\", \"Scatter Plot\", \"Heat Map\", \"Plots\"], \"type\": \"SFrame\", \"columns\": [{\"dtype\": \"int\", \"name\": \"Id\"}, {\"dtype\": \"int\", \"name\": \"MSSubClass\"}, {\"dtype\": \"str\", \"name\": \"MSZoning\"}, {\"dtype\": \"int\", \"name\": \"LotArea\"}, {\"dtype\": \"str\", \"name\": \"Street\"}, {\"dtype\": \"str\", \"name\": \"Alley\"}, {\"dtype\": \"str\", \"name\": \"LotShape\"}, {\"dtype\": \"str\", \"name\": \"LandContour\"}, {\"dtype\": \"str\", \"name\": \"Utilities\"}, {\"dtype\": \"str\", \"name\": \"LotConfig\"}, {\"dtype\": \"str\", \"name\": \"LandSlope\"}, {\"dtype\": \"str\", \"name\": \"Neighborhood\"}, {\"dtype\": \"str\", \"name\": \"Condition1\"}, {\"dtype\": \"str\", \"name\": \"Condition2\"}, {\"dtype\": \"str\", \"name\": \"BldgType\"}, {\"dtype\": \"str\", \"name\": \"HouseStyle\"}, {\"dtype\": \"int\", \"name\": \"OverallQual\"}, {\"dtype\": \"int\", \"name\": \"OverallCond\"}, {\"dtype\": \"int\", \"name\": \"YearBuilt\"}, {\"dtype\": \"int\", \"name\": \"YearRemodAdd\"}, {\"dtype\": \"str\", \"name\": \"RoofStyle\"}, {\"dtype\": \"str\", \"name\": \"RoofMatl\"}, {\"dtype\": \"str\", \"name\": \"Exterior1st\"}, {\"dtype\": \"str\", \"name\": \"Exterior2nd\"}, {\"dtype\": \"str\", \"name\": \"MasVnrType\"}, {\"dtype\": \"str\", \"name\": \"ExterQual\"}, {\"dtype\": \"str\", \"name\": \"ExterCond\"}, {\"dtype\": \"str\", \"name\": \"Foundation\"}, {\"dtype\": \"str\", \"name\": \"BsmtQual\"}, {\"dtype\": \"str\", \"name\": \"BsmtCond\"}, {\"dtype\": \"str\", \"name\": \"BsmtExposure\"}, {\"dtype\": \"str\", \"name\": \"BsmtFinType1\"}, {\"dtype\": \"int\", \"name\": \"BsmtFinSF1\"}, {\"dtype\": \"str\", \"name\": \"BsmtFinType2\"}, {\"dtype\": \"int\", \"name\": \"BsmtFinSF2\"}, {\"dtype\": \"int\", \"name\": \"BsmtUnfSF\"}, {\"dtype\": \"int\", \"name\": \"TotalBsmtSF\"}, {\"dtype\": \"str\", \"name\": \"Heating\"}, {\"dtype\": \"str\", \"name\": \"HeatingQC\"}, {\"dtype\": \"str\", \"name\": \"CentralAir\"}, {\"dtype\": \"str\", \"name\": \"Electrical\"}, {\"dtype\": \"int\", \"name\": \"1stFlrSF\"}, {\"dtype\": \"int\", \"name\": \"2ndFlrSF\"}, {\"dtype\": \"int\", \"name\": \"LowQualFinSF\"}, {\"dtype\": \"int\", \"name\": \"GrLivArea\"}, {\"dtype\": \"int\", \"name\": \"BsmtFullBath\"}, {\"dtype\": \"int\", \"name\": \"BsmtHalfBath\"}, {\"dtype\": \"int\", \"name\": \"FullBath\"}, {\"dtype\": \"int\", \"name\": \"HalfBath\"}, {\"dtype\": \"int\", \"name\": \"BedroomAbvGr\"}, {\"dtype\": \"int\", \"name\": \"KitchenAbvGr\"}, {\"dtype\": \"str\", \"name\": \"KitchenQual\"}, {\"dtype\": \"int\", \"name\": \"TotRmsAbvGrd\"}, {\"dtype\": \"str\", \"name\": \"Functional\"}, {\"dtype\": \"int\", \"name\": \"Fireplaces\"}, {\"dtype\": \"str\", \"name\": \"FireplaceQu\"}, {\"dtype\": \"str\", \"name\": \"GarageType\"}, {\"dtype\": \"str\", \"name\": \"GarageFinish\"}, {\"dtype\": \"int\", \"name\": \"GarageCars\"}, {\"dtype\": \"int\", \"name\": \"GarageArea\"}, {\"dtype\": \"str\", \"name\": \"GarageQual\"}, {\"dtype\": \"str\", \"name\": \"GarageCond\"}, {\"dtype\": \"str\", \"name\": \"PavedDrive\"}, {\"dtype\": \"int\", \"name\": \"WoodDeckSF\"}, {\"dtype\": \"int\", \"name\": \"OpenPorchSF\"}, {\"dtype\": \"int\", \"name\": \"EnclosedPorch\"}, {\"dtype\": \"int\", \"name\": \"3SsnPorch\"}, {\"dtype\": \"int\", \"name\": \"ScreenPorch\"}, {\"dtype\": \"int\", \"name\": \"PoolArea\"}, {\"dtype\": \"str\", \"name\": \"PoolQC\"}, {\"dtype\": \"str\", \"name\": \"Fence\"}, {\"dtype\": \"str\", \"name\": \"MiscFeature\"}, {\"dtype\": \"int\", \"name\": \"MiscVal\"}, {\"dtype\": \"int\", \"name\": \"MoSold\"}, {\"dtype\": \"int\", \"name\": \"YrSold\"}, {\"dtype\": \"str\", \"name\": \"SaleType\"}, {\"dtype\": \"str\", \"name\": \"SaleCondition\"}, {\"dtype\": \"int\", \"name\": \"SalePrice\"}], \"column_identifiers\": [\"3SsnPorch\", \"MasVnrType\", \"LotConfig\", \"LandSlope\", \"GarageQual\", \"Exterior1st\", \"GarageFinish\", \"2ndFlrSF\", \"HalfBath\", \"OverallQual\", \"OverallCond\", \"LotArea\", \"Electrical\", \"SalePrice\", \"BsmtQual\", \"HouseStyle\", \"GrLivArea\", \"YearRemodAdd\", \"EnclosedPorch\", \"Foundation\", \"1stFlrSF\", \"GarageCond\", \"BsmtCond\", \"HeatingQC\", \"RoofStyle\", \"MiscVal\", \"CentralAir\", \"BsmtExposure\", \"Utilities\", \"KitchenAbvGr\", \"WoodDeckSF\", \"LotShape\", \"BsmtFullBath\", \"TotalBsmtSF\", \"Condition1\", \"Condition2\", \"TotRmsAbvGrd\", \"MiscFeature\", \"YrSold\", \"PavedDrive\", \"OpenPorchSF\", \"LowQualFinSF\", \"BsmtUnfSF\", \"BsmtHalfBath\", \"FullBath\", \"SaleType\", \"MSZoning\", \"Exterior2nd\", \"Heating\", \"MSSubClass\", \"GarageCars\", \"YearBuilt\", \"KitchenQual\", \"BldgType\", \"BsmtFinType2\", \"BsmtFinType1\", \"BsmtFinSF1\", \"BsmtFinSF2\", \"GarageType\", \"LandContour\", \"PoolArea\", \"Neighborhood\", \"ScreenPorch\", \"Fence\", \"MoSold\", \"SaleCondition\", \"ExterQual\", \"Functional\", \"Alley\", \"Street\", \"Fireplaces\", \"GarageArea\", \"ExterCond\", \"PoolQC\", \"FireplaceQu\", \"RoofMatl\", \"Id\", \"BedroomAbvGr\"]}, \"complete\": 1, \"ipython\": true, \"progress\": 1.0, \"data\": [[8450, 208500], [9600, 181500], [11250, 223500], [9550, 140000], [14260, 250000], [10226, 295493], [10784, 160000], [10382, 200000], [6120, 129900], [7420, 118000], [11200, 129500], [11924, 345000], [12968, 144000], [9638, 169000], [10920, 157000], [10000, 240000], [11241, 149000], [14598, 214000], [13695, 159000], [7560, 139000], [6240, 149000], [7449, 139400], [9742, 230000], [4224, 129900], [8246, 154000], [14230, 256300], [7200, 134800], [11478, 306000], [16321, 207500], [6324, 68500], [8500, 40000], [8544, 149350], [11049, 179900], [10800, 120000], [7313, 277500], [13418, 309000], [10859, 145000], [8532, 153000], [7922, 109000], [6040, 82000], [8658, 160000], [16905, 170000], [13125, 155000], [9200, 130250], [7945, 141000], [10440, 256000], [12822, 239686], [9350, 179900], [4456, 113000], [7742, 127000], [13869, 177000], [6240, 114500], [8472, 110000], [5250, 122000], [7134, 130000], [13450, 200000], [16692, 250000], [11645, 196500], [7500, 68400], [7200, 124900], [13072, 158000], [7200, 101000], [9842, 189000], [10300, 140000], [6240, 80500], [9591, 317000], [19900, 180000], [10665, 226000], [9760, 167900], [15593, 225000], [9965, 424870], [7599, 129500], [10141, 185000], [10215, 111000], [5790, 107400], [8400, 129000], [8475, 135750], [9600, 278000], [10778, 136500], [10440, 110000], [13000, 193500], [4500, 153500], [10152, 135000], [8892, 126500], [8530, 168500], [16059, 260000], [11911, 174000], [10482, 145000], [10998, 117000], [8070, 123600], [7200, 109900], [8500, 98600], [13360, 163500], [17500, 335000], [9337, 204750], [9765, 185000], [10264, 214000], [10921, 94750], [10261, 186500], [7200, 90000], [3316, 197000], [8993, 176485], [7200, 140000], [10402, 198900], [7758, 169500], [9375, 250000], [10800, 100000], [6000, 115000], [8500, 115000], [8773, 169000], [9525, 136900], [7750, 180000], [9965, 383970], [21000, 217000], [7259, 259500], [3230, 176000], [11616, 139000], [8536, 155000], [8400, 138500], [8461, 163990], [21453, 180000], [6060, 100000], [9750, 213000], [7892, 153900], [17043, 181000], [6780, 84500], [4928, 128000], [4388, 87000], [10991, 239000], [8973, 150000], [14200, 226000], [12224, 244000], [15863, 197000], [6853, 220000], [12898, 315500], [10400, 174000], [10355, 143000], [11070, 171000], [9066, 230000], [10574, 252000], [10500, 115000], [11645, 260000], [8520, 166000], [24682, 181000], [9100, 125000], [2522, 130000], [6120, 105000], [2016, 106000], [7804, 135000], [6240, 115000], [10356, 122000], [13891, 372402], [14803, 190000], [7950, 159500], [11340, 125000], [9600, 79000], [4435, 136500], [12003, 269500], [12552, 254900], [19378, 320000], [11767, 112000], [13688, 412500], [12182, 220000], [5500, 103200], [5400, 152000], [8400, 156500], [10708, 190000], [10562, 325624], [8244, 183500], [16669, 228000], [12358, 128500], [31770, 215000], [5306, 239000], [10197, 163000], [12416, 184000], [12615, 243000], [10029, 211000], [13650, 172500], [17423, 501837], [8520, 100000], [2117, 177000], [7588, 200100], [9060, 120000], [8775, 126000], [7438, 127000], [10678, 285000], [8072, 138000], [3013, 213490], [7018, 153337], [4923, 286000], [10570, 315000], [7472, 184000], [9017, 192000], [2522, 130000], [7180, 127000], [2280, 148500], [9416, 311872], [25419, 235000], [5520, 104000], [12160, 142000], [8546, 140000], [1680, 118000], [7000, 112000], [11584, 197000], [18000, 81000], [11851, 180500], [13673, 143900], [12493, 141000], [14364, 277000], [8250, 145000], [5604, 98000], [10480, 205000], [8640, 252678], [13568, 156000], [10900, 161750], [10011, 134450], [8800, 160000], [9906, 107000], [2645, 174000], [3010, 167240], [9477, 110000], [9000, 80000], [2217, 88000], [10500, 97000], [10246, 145000], [1680, 112000], [9950, 290000], [1869, 106000], [11200, 180000], [3182, 192500], [8760, 148000], [5664, 278000], [6342, 94000], [10650, 128200], [7851, 216500], [1680, 89500], [8773, 185500], [9453, 194500], [12030, 318000], [12256, 325000], [9000, 262500], [3880, 110500], [12134, 164000], [10762, 120000], [13891, 465000], [10400, 241500], [9142, 137000], [21750, 115000], [10186, 190000], [3636, 55000], [5350, 76500], [7800, 115000], [8366, 173000], [8158, 224900], [7407, 149700], [6762, 193879], [8791, 207500], [8814, 220000], [12435, 231500], [12702, 97000], [19296, 176000], [9588, 276000], [6171, 137450], [5500, 130000], [5232, 73000], [8294, 123000], [11207, 185000], [8400, 179500], [13125, 219500], [17871, 197900], [10728, 266000], [39104, 241500], [11764, 290000], [9084, 176500], [9000, 120500], [7264, 205000], [9100, 178000], [19138, 141000], [9492, 105000], [10005, 192000], [8385, 149900], [7200, 185000], [12420, 230000], [9612, 244600], [10680, 137900], [4251, 164700], [9786, 159000], [8125, 88000], [9819, 122000], [8730, 153575], [15611, 233230], [5687, 135900], [11409, 131000], [16659, 235000], [9600, 167000], [7937, 142500], [13710, 152000], [9069, 147000], [11700, 175000], [14000, 158500], [10400, 197900], [16226, 267000], [13704, 205000], [9800, 149900], [18386, 295000], [10386, 305900], [7415, 193000], [7920, 89500], [12342, 82500], [8910, 159500], [7685, 165600], [11500, 84000], [7800, 119900], [215245, 375000], [9600, 178000], [2117, 177500], [13005, 260000], [9000, 270000], [9900, 260000], [14115, 187500], [16259, 342643], [12099, 354000], [10380, 301000], [5820, 126175], [11400, 466500], [5000, 87000], [10846, 324000], [16158, 260000], [9439, 87000], [5400, 105000], [10624, 119000], [8176, 139000], [10655, 284000], [8198, 207000], [9204, 124000], [10434, 115000], [15498, 287000], [12900, 108959], [26142, 157900], [12400, 155000], [1533, 92000], [8400, 82000], [8544, 87500], [8849, 266000], [14054, 219210], [6435, 140200], [12772, 151500], [13173, 325000], [11100, 84900], [20431, 437154], [11664, 119200], [5271, 190000], [3696, 170000], [8520, 105900], [8400, 140000], [11249, 177500], [9248, 173000], [7052, 185850], [6930, 130000], [12011, 280000], [7540, 156000], [9144, 145000], [9130, 173000], [8731, 144000], [18800, 190000], [6000, 102000], [9500, 159000], [14115, 230000], [1680, 119500], [17542, 294000], [8121, 172400], [17120, 134432], [7175, 125000], [10634, 123000], [8200, 219500], [10800, 64500], [10944, 271000], [11143, 340000], [11700, 154000], [8123, 179000], [7094, 125000], [7200, 187750], [9245, 213500], [25339, 112000], [8562, 144500], [3182, 192000], [8410, 81000], [1953, 83000], [9382, 191000], [12474, 426000], [8405, 119000], [10592, 165000], [8339, 106500], [7446, 100000], [10134, 109000], [9571, 129000], [7200, 123000], [7590, 169500], [8967, 67000], [11932, 235128], [9825, 100000], [8767, 164990], [10200, 108000], [8800, 150500], [10496, 143000], [9991, 150000], [10480, 115000], [13700, 201800], [14154, 280000], [10800, 339750], [11957, 232000], [34650, 145000], [3964, 151400], [14303, 301500], [11228, 228000], [8400, 227000], [7844, 149500], [22420, 239000], [14720, 410000], [17755, 149900], [4435, 144000], [36500, 190000], [5868, 129000], [9200, 315000], [9587, 190000], [3378, 135000], [12800, 275000], [8172, 115000], [6762, 195400], [11457, 175000], [1680, 85400], [8923, 134500], [4928, 143750], [10839, 181000], [6000, 117000], [9125, 163900], [7200, 119000], [8400, 136500], [12513, 104900], [10800, 170000], [15431, 555000], [9100, 235000], [6240, 162900], [3136, 171750], [8750, 210000], [9855, 127500], [8854, 121000], [8063, 181000], [9042, 266500], [6000, 120000], [5684, 110000], [70761, 280000], [9303, 204000], [9000, 210000], [9297, 188000], [9600, 175500], [4571, 98000], [53227, 256000], [5100, 161000], [7015, 110000], [8004, 263435], [7200, 155000], [8281, 62383], [11988, 188700], [8430, 124000], [3072, 178740], [10628, 167000], [4426, 149300], [7200, 157000], [9291, 187000], [6820, 212000], [11952, 190000], [7500, 154000], [6000, 132500], [5330, 251000], [8480, 132500], [7838, 123000], [14684, 271900], [11065, 281000], [1680, 91500], [16033, 326000], [11846, 374000], [2500, 155000], [4500, 164000], [7758, 132500], [9600, 147000], [10289, 156000], [12243, 175000], [10800, 160000], [1526, 86000], [2665, 115000], [9490, 133000], [19690, 274970], [7931, 155000], [5784, 91300], [7837, 178000], [12692, 430000], [9120, 184000], [7800, 130000], [7535, 120000], [1890, 113000], [1477, 80000], [10182, 290000], [5001, 230000], [2308, 147000], [7596, 124500], [9554, 215000], [9758, 119500], [9600, 161000], [9600, 124500], [14559, 164900], [6792, 202665], [9600, 165500], [9187, 134000], [10594, 96500], [12220, 402861], [10448, 158000], [10208, 265000], [9531, 211000], [3182, 181000], [9120, 185000], [11988, 150000], [5000, 159000], [40094, 184750], [11787, 315750], [7500, 176000], [13300, 132000], [14948, 446261], [9098, 86000], [3182, 191000], [10200, 175000], [6155, 128000], [10192, 170000], [5000, 39300], [9056, 178000], [7000, 107500], [8924, 188000], [12735, 111250], [11880, 157000], [7153, 179200], [14601, 315000], [5890, 120500], [18890, 190000], [4058, 133000], [17104, 179665], [13837, 229000], [8737, 210000], [7917, 175000], [13600, 90000], [11160, 244000], [4043, 140000], [6000, 112500], [10084, 212900], [13515, 180500], [20781, 262500], [6380, 113000], [13695, 155000], [15623, 745000], [21872, 175000], [9179, 193000], [11341, 121500], [11040, 145000], [13907, 108000], [21780, 185000], [14892, 377500], [6858, 128000], [11198, 325000], [10171, 214000], [12327, 316600], [7032, 135960], [8749, 192000], [10712, 93500], [13159, 224500], [9967, 170000], [14541, 310000], [10120, 290000], [16196, 215000], [11777, 164500], [3604, 146000], [12150, 131500], [14585, 181900], [3950, 115000], [8850, 144000], [14778, 224000], [6120, 133000], [23595, 260000], [10267, 130000], [8740, 137000], [25095, 143000], [9100, 79500], [12925, 237500], [7082, 160000], [5436, 125500], [10852, 173000], [7990, 110000], [11302, 319000], [3600, 114504], [3922, 194201], [12665, 281213], [1950, 151000], [10927, 275000], [9000, 141000], [8935, 195000], [3182, 151000], [12803, 221000], [13600, 205000], [12464, 152000], [8499, 156932], [12168, 359100], [7943, 118500], [12393, 195000], [1974, 83500], [11885, 261500], [8402, 147000], [1491, 75500], [6600, 107500], [7861, 183200], [7227, 105500], [7500, 216000], [11839, 262280], [8248, 67000], [10800, 240000], [7064, 135000], [2117, 168500], [10400, 165150], [10410, 105000], [12342, 139900], [9600, 153000], [11606, 135000], [9020, 168500], [9000, 124000], [4590, 209500], [11900, 82500], [9250, 139400], [11103, 155835], [10896, 200000], [6120, 60000], [6000, 93000], [8777, 85000], [3982, 264561], [8688, 232000], [7050, 226000], [3180, 144152], [10793, 152000], [9187, 370878], [10530, 143250], [7200, 98300], [10452, 155000], [7700, 155000], [1936, 84500], [8125, 205950], [9084, 108000], [8750, 191000], [10320, 135000], [10437, 350000], [1680, 88000], [10007, 145500], [7200, 149000], [17503, 97500], [9937, 167000], [9375, 228500], [46589, 402000], [57200, 160000], [5400, 117000], [20896, 423000], [11194, 230500], [18450, 129000], [8125, 193500], [14175, 168000], [11600, 137500], [8633, 173500], [6629, 103600], [11250, 165000], [14442, 257500], [9200, 140000], [2289, 148500], [11526, 191000], [9022, 109500], [3675, 145000], [9945, 128500], [8012, 143000], [9245, 145000], [2887, 173000], [7740, 125500], [16770, 221000], [6180, 102000], [10207, 227875], [5105, 148800], [8089, 392000], [7577, 194700], [4426, 141000], [9473, 237000], [26178, 335000], [14774, 333168], [6120, 141500], [13811, 176000], [12118, 240000], [6420, 123500], [8450, 138500], [7500, 185000], [6955, 202500], [9600, 140000], [9135, 200000], [7630, 140000], [15256, 282922], [5600, 55000], [115149, 302000], [6240, 254000], [9018, 179540], [4060, 181000], [5330, 82500], [8712, 102776], [4671, 189000], [13132, 138887], [2368, 125000], [10140, 165000], [10800, 159500], [8520, 136000], [10542, 341000], [9920, 128500], [4043, 127500], [4426, 143000], [8120, 124500], [4118, 52500], [13286, 320000], [6960, 120500], [21695, 222000], [7314, 194500], [11475, 110000], [6240, 103000], [21930, 192140], [9590, 187500], [11404, 222500], [10000, 131400], [8978, 108000], [10800, 163000], [8544, 93500], [10463, 239900], [13214, 378500], [9313, 190000], [9600, 132000], [11367, 255000], [8450, 179000], [12886, 175000], [8125, 186500], [6000, 134900], [11512, 177000], [7200, 119000], [10206, 82000], [8405, 98000], [9842, 101800], [8724, 129000], [9236, 217000], [10120, 122000], [7930, 156000], [3230, 172500], [6951, 119500], [11616, 158900], [2280, 179400], [12257, 290000], [11643, 200000], [6911, 100000], [12000, 174500], [9430, 337000], [8877, 100000], [14587, 264132], [10421, 196500], [12508, 160000], [6305, 119750], [53504, 538000], [7252, 134900], [9717, 142125], [7681, 154900], [16381, 223000], [14226, 395000], [4500, 162000], [9060, 105000], [13350, 142500], [8400, 144000], [10530, 135000], [13053, 207000], [7153, 175900], [7000, 135000], [9101, 165500], [6300, 128000], [9790, 161500], [10800, 139000], [10142, 233000], [6000, 107900], [12205, 187500], [8544, 92900], [11003, 310000], [9920, 269790], [10721, 142000], [10832, 194500], [8400, 171000], [8197, 143500], [7677, 110000], [13518, 485000], [9849, 248328], [12798, 200000], [4800, 109900], [9828, 239500], [13891, 582933], [9000, 118000], [9750, 151000], [9750, 135500], [11345, 137000], [13400, 159950], [8100, 106000], [10140, 181000], [4438, 144500], [8712, 55993], [6000, 110500], [9353, 116050], [12137, 224900], [11425, 137000], [13265, 271000], [8816, 155000], [6371, 224000], [7226, 183000], [6000, 93000], [12394, 225000], [9900, 139500], [11216, 232600], [8500, 179600], [6130, 109500], [8529, 189000], [28698, 185000], [2544, 147400], [12085, 318000], [20544, 215000], [9548, 237000], [10004, 167000], [7875, 139950], [9600, 128000], [8100, 153500], [1680, 100000], [9525, 144000], [7200, 125500], [12155, 140000], [10440, 157500], [9020, 174900], [8000, 141000], [12665, 153900], [16647, 171000], [9317, 213000], [15523, 133500], [11883, 203000], [2280, 146000], [4435, 131500], [3196, 215000], [7128, 164000], [12095, 158000], [14112, 180500], [9300, 167500], [8525, 130000], [7500, 189000], [10400, 152000], [11344, 144000], [7642, 189950], [11625, 131500], [9672, 152000], [7931, 132500], [8640, 250580], [29959, 248000], [10656, 248900], [15384, 184000], [14762, 169000], [9938, 236000], [6600, 109500], [8750, 200500], [10625, 170000], [12328, 169900], [10800, 163000], [9000, 303477], [9880, 171000], [8834, 350000], [12461, 262000], [7000, 136500], [7024, 157000], [7500, 133000], [9262, 287090], [6204, 118500], [8926, 112000], [5119, 328900], [8393, 145000], [16466, 135500], [15865, 268000], [12160, 149500], [8064, 122900], [11184, 172500], [8414, 154500], [13284, 165000], [7018, 118858], [10475, 245350], [8765, 106500], [7018, 142953], [12919, 611657], [6993, 135000], [6000, 128000], [5362, 139000], [7875, 180000], [7558, 177000], [6173, 125500], [5700, 116900], [9600, 135000], [11500, 250000], [8885, 131000], [12589, 174000], [9600, 128900], [9286, 143500], [6627, 72500], [9808, 227000], [3000, 173733], [2001, 75000], [9000, 35311], [17140, 135000], [13125, 238000], [11029, 176500], [8462, 201000], [8777, 145900], [10237, 169990], [8012, 193000], [10240, 207500], [15611, 175000], [11999, 285000], [9900, 176000], [11838, 236500], [63887, 160000], [8925, 201000], [11362, 280000], [11670, 320000], [8487, 190000], [8556, 194000], [5825, 79900], [10083, 184900], [9675, 253000], [8760, 239799], [24090, 244400], [7585, 91500], [8755, 214000], [7711, 150000], [25000, 143000], [14375, 137500], [8820, 124900], [8163, 143000], [14536, 270000], [16056, 556581], [9360, 197500], [7200, 129000], [7800, 119900], [10000, 227000], [3635, 175900], [4270, 79000], [8814, 203000], [1300, 124000], [7420, 132000], [10930, 140000], [5814, 187500], [7207, 116500], [12227, 272000], [2308, 155000], [9400, 139000], [11316, 214900], [10237, 178900], [9600, 160000], [7390, 135000], [5925, 37900], [10382, 140000], [10800, 135000], [2268, 173000], [2522, 137500], [11639, 182000], [11414, 167500], [9405, 118000], [5900, 85500], [12537, 149900], [9450, 110000], [8816, 139000], [7560, 133700], [12203, 336000], [3182, 159895], [9000, 136000], [10125, 126000], [10880, 125000], [10357, 179900], [10159, 395192], [12046, 195000], [8125, 197000], [9452, 348000], [15306, 283463], [10316, 235000], [8846, 173900], [12456, 337500], [4712, 121600], [10659, 136500], [9764, 130000], [9786, 91000], [6762, 206000]], \"columns\": [{\"dtype\": \"int\", \"name\": \"Id\"}, {\"dtype\": \"int\", \"name\": \"MSSubClass\"}, {\"dtype\": \"str\", \"name\": \"MSZoning\"}, {\"dtype\": \"int\", \"name\": \"LotArea\"}, {\"dtype\": \"str\", \"name\": \"Street\"}, {\"dtype\": \"str\", \"name\": \"Alley\"}, {\"dtype\": \"str\", \"name\": \"LotShape\"}, {\"dtype\": \"str\", \"name\": \"LandContour\"}, {\"dtype\": \"str\", \"name\": \"Utilities\"}, {\"dtype\": \"str\", \"name\": \"LotConfig\"}, {\"dtype\": \"str\", \"name\": \"LandSlope\"}, {\"dtype\": \"str\", \"name\": \"Neighborhood\"}, {\"dtype\": \"str\", \"name\": \"Condition1\"}, {\"dtype\": \"str\", \"name\": \"Condition2\"}, {\"dtype\": \"str\", \"name\": \"BldgType\"}, {\"dtype\": \"str\", \"name\": \"HouseStyle\"}, {\"dtype\": \"int\", \"name\": \"OverallQual\"}, {\"dtype\": \"int\", \"name\": \"OverallCond\"}, {\"dtype\": \"int\", \"name\": \"YearBuilt\"}, {\"dtype\": \"int\", \"name\": \"YearRemodAdd\"}, {\"dtype\": \"str\", \"name\": \"RoofStyle\"}, {\"dtype\": \"str\", \"name\": \"RoofMatl\"}, {\"dtype\": \"str\", \"name\": \"Exterior1st\"}, {\"dtype\": \"str\", \"name\": \"Exterior2nd\"}, {\"dtype\": \"str\", \"name\": \"MasVnrType\"}, {\"dtype\": \"str\", \"name\": \"ExterQual\"}, {\"dtype\": \"str\", \"name\": \"ExterCond\"}, {\"dtype\": \"str\", \"name\": \"Foundation\"}, {\"dtype\": \"str\", \"name\": \"BsmtQual\"}, {\"dtype\": \"str\", \"name\": \"BsmtCond\"}, {\"dtype\": \"str\", \"name\": \"BsmtExposure\"}, {\"dtype\": \"str\", \"name\": \"BsmtFinType1\"}, {\"dtype\": \"int\", \"name\": \"BsmtFinSF1\"}, {\"dtype\": \"str\", \"name\": \"BsmtFinType2\"}, {\"dtype\": \"int\", \"name\": \"BsmtFinSF2\"}, {\"dtype\": \"int\", \"name\": \"BsmtUnfSF\"}, {\"dtype\": \"int\", \"name\": \"TotalBsmtSF\"}, {\"dtype\": \"str\", \"name\": \"Heating\"}, {\"dtype\": \"str\", \"name\": \"HeatingQC\"}, {\"dtype\": \"str\", \"name\": \"CentralAir\"}, {\"dtype\": \"str\", \"name\": \"Electrical\"}, {\"dtype\": \"int\", \"name\": \"1stFlrSF\"}, {\"dtype\": \"int\", \"name\": \"2ndFlrSF\"}, {\"dtype\": \"int\", \"name\": \"LowQualFinSF\"}, {\"dtype\": \"int\", \"name\": \"GrLivArea\"}, {\"dtype\": \"int\", \"name\": \"BsmtFullBath\"}, {\"dtype\": \"int\", \"name\": \"BsmtHalfBath\"}, {\"dtype\": \"int\", \"name\": \"FullBath\"}, {\"dtype\": \"int\", \"name\": \"HalfBath\"}, {\"dtype\": \"int\", \"name\": \"BedroomAbvGr\"}, {\"dtype\": \"int\", \"name\": \"KitchenAbvGr\"}, {\"dtype\": \"str\", \"name\": \"KitchenQual\"}, {\"dtype\": \"int\", \"name\": \"TotRmsAbvGrd\"}, {\"dtype\": \"str\", \"name\": \"Functional\"}, {\"dtype\": \"int\", \"name\": \"Fireplaces\"}, {\"dtype\": \"str\", \"name\": \"FireplaceQu\"}, {\"dtype\": \"str\", \"name\": \"GarageType\"}, {\"dtype\": \"str\", \"name\": \"GarageFinish\"}, {\"dtype\": \"int\", \"name\": \"GarageCars\"}, {\"dtype\": \"int\", \"name\": \"GarageArea\"}, {\"dtype\": \"str\", \"name\": \"GarageQual\"}, {\"dtype\": \"str\", \"name\": \"GarageCond\"}, {\"dtype\": \"str\", \"name\": \"PavedDrive\"}, {\"dtype\": \"int\", \"name\": \"WoodDeckSF\"}, {\"dtype\": \"int\", \"name\": \"OpenPorchSF\"}, {\"dtype\": \"int\", \"name\": \"EnclosedPorch\"}, {\"dtype\": \"int\", \"name\": \"3SsnPorch\"}, {\"dtype\": \"int\", \"name\": \"ScreenPorch\"}, {\"dtype\": \"int\", \"name\": \"PoolArea\"}, {\"dtype\": \"str\", \"name\": \"PoolQC\"}, {\"dtype\": \"str\", \"name\": \"Fence\"}, {\"dtype\": \"str\", \"name\": \"MiscFeature\"}, {\"dtype\": \"int\", \"name\": \"MiscVal\"}, {\"dtype\": \"int\", \"name\": \"MoSold\"}, {\"dtype\": \"int\", \"name\": \"YrSold\"}, {\"dtype\": \"str\", \"name\": \"SaleType\"}, {\"dtype\": \"str\", \"name\": \"SaleCondition\"}, {\"dtype\": \"int\", \"name\": \"SalePrice\"}]}, e);\n",
       "                });\n",
       "            })();\n",
       "        "
      ]
     },
     "metadata": {},
     "output_type": "display_data"
    }
   ],
   "source": [
    "graphlab.canvas.set_target('ipynb')\n",
    "sales.show(view=\"Scatter Plot\", x=\"LotArea\", y=\"SalePrice\")"
   ]
  },
  {
   "cell_type": "markdown",
   "metadata": {},
   "source": [
    "# Create simple regression model of GrArea to SalesPrice"
   ]
  },
  {
   "cell_type": "code",
   "execution_count": 10,
   "metadata": {
    "collapsed": true
   },
   "outputs": [],
   "source": [
    "train_data, test_data = sales.random_split(.8, seed=0)"
   ]
  },
  {
   "cell_type": "markdown",
   "metadata": {},
   "source": [
    "## build regression model"
   ]
  },
  {
   "cell_type": "code",
   "execution_count": 11,
   "metadata": {
    "collapsed": false
   },
   "outputs": [
    {
     "name": "stdout",
     "output_type": "stream",
     "text": [
      "PROGRESS: Creating a validation set from 5 percent of training data. This may take a while.\n",
      "          You can set ``validation_set=None`` to disable validation tracking.\n",
      "\n"
     ]
    },
    {
     "data": {
      "text/html": [
       "<pre>Linear regression:</pre>"
      ],
      "text/plain": [
       "Linear regression:"
      ]
     },
     "metadata": {},
     "output_type": "display_data"
    },
    {
     "data": {
      "text/html": [
       "<pre>--------------------------------------------------------</pre>"
      ],
      "text/plain": [
       "--------------------------------------------------------"
      ]
     },
     "metadata": {},
     "output_type": "display_data"
    },
    {
     "data": {
      "text/html": [
       "<pre>Number of examples          : 1099</pre>"
      ],
      "text/plain": [
       "Number of examples          : 1099"
      ]
     },
     "metadata": {},
     "output_type": "display_data"
    },
    {
     "data": {
      "text/html": [
       "<pre>Number of features          : 1</pre>"
      ],
      "text/plain": [
       "Number of features          : 1"
      ]
     },
     "metadata": {},
     "output_type": "display_data"
    },
    {
     "data": {
      "text/html": [
       "<pre>Number of unpacked features : 1</pre>"
      ],
      "text/plain": [
       "Number of unpacked features : 1"
      ]
     },
     "metadata": {},
     "output_type": "display_data"
    },
    {
     "data": {
      "text/html": [
       "<pre>Number of coefficients    : 2</pre>"
      ],
      "text/plain": [
       "Number of coefficients    : 2"
      ]
     },
     "metadata": {},
     "output_type": "display_data"
    },
    {
     "data": {
      "text/html": [
       "<pre>Starting Newton Method</pre>"
      ],
      "text/plain": [
       "Starting Newton Method"
      ]
     },
     "metadata": {},
     "output_type": "display_data"
    },
    {
     "data": {
      "text/html": [
       "<pre>--------------------------------------------------------</pre>"
      ],
      "text/plain": [
       "--------------------------------------------------------"
      ]
     },
     "metadata": {},
     "output_type": "display_data"
    },
    {
     "data": {
      "text/html": [
       "<pre>+-----------+----------+--------------+--------------------+----------------------+---------------+-----------------+</pre>"
      ],
      "text/plain": [
       "+-----------+----------+--------------+--------------------+----------------------+---------------+-----------------+"
      ]
     },
     "metadata": {},
     "output_type": "display_data"
    },
    {
     "data": {
      "text/html": [
       "<pre>| Iteration | Passes   | Elapsed Time | Training-max_error | Validation-max_error | Training-rmse | Validation-rmse |</pre>"
      ],
      "text/plain": [
       "| Iteration | Passes   | Elapsed Time | Training-max_error | Validation-max_error | Training-rmse | Validation-rmse |"
      ]
     },
     "metadata": {},
     "output_type": "display_data"
    },
    {
     "data": {
      "text/html": [
       "<pre>+-----------+----------+--------------+--------------------+----------------------+---------------+-----------------+</pre>"
      ],
      "text/plain": [
       "+-----------+----------+--------------+--------------------+----------------------+---------------+-----------------+"
      ]
     },
     "metadata": {},
     "output_type": "display_data"
    },
    {
     "data": {
      "text/html": [
       "<pre>| 1         | 2        | 1.002003     | 458857.216956      | 176629.673003        | 56464.026128  | 61095.849056    |</pre>"
      ],
      "text/plain": [
       "| 1         | 2        | 1.002003     | 458857.216956      | 176629.673003        | 56464.026128  | 61095.849056    |"
      ]
     },
     "metadata": {},
     "output_type": "display_data"
    },
    {
     "data": {
      "text/html": [
       "<pre>+-----------+----------+--------------+--------------------+----------------------+---------------+-----------------+</pre>"
      ],
      "text/plain": [
       "+-----------+----------+--------------+--------------------+----------------------+---------------+-----------------+"
      ]
     },
     "metadata": {},
     "output_type": "display_data"
    }
   ],
   "source": [
    "GrLivArea_model = graphlab.linear_regression.create(train_data, target='SalePrice', features=['GrLivArea'])"
   ]
  },
  {
   "cell_type": "markdown",
   "metadata": {},
   "source": [
    "# Evaluate Simple Model"
   ]
  },
  {
   "cell_type": "code",
   "execution_count": 12,
   "metadata": {
    "collapsed": false
   },
   "outputs": [
    {
     "data": {
      "text/html": [
       "<pre>SUCCESS: Optimal solution found.</pre>"
      ],
      "text/plain": [
       "SUCCESS: Optimal solution found."
      ]
     },
     "metadata": {},
     "output_type": "display_data"
    },
    {
     "data": {
      "text/html": [
       "<pre></pre>"
      ],
      "text/plain": []
     },
     "metadata": {},
     "output_type": "display_data"
    },
    {
     "name": "stdout",
     "output_type": "stream",
     "text": [
      "180921.19589\n"
     ]
    }
   ],
   "source": [
    "print sales['SalePrice'].mean()"
   ]
  },
  {
   "cell_type": "code",
   "execution_count": 13,
   "metadata": {
    "collapsed": false
   },
   "outputs": [
    {
     "name": "stdout",
     "output_type": "stream",
     "text": [
      "{'max_error': 262801.29537471815, 'rmse': 53442.22885525324}\n"
     ]
    }
   ],
   "source": [
    "results1 = GrLivArea_model.evaluate(test_data)\n",
    "print GrLivArea_model.evaluate(test_data)"
   ]
  },
  {
   "cell_type": "markdown",
   "metadata": {},
   "source": [
    "# Build Lotarea vs Saleprice"
   ]
  },
  {
   "cell_type": "code",
   "execution_count": 14,
   "metadata": {
    "collapsed": false
   },
   "outputs": [
    {
     "name": "stdout",
     "output_type": "stream",
     "text": [
      "PROGRESS: Creating a validation set from 5 percent of training data. This may take a while.\n",
      "          You can set ``validation_set=None`` to disable validation tracking.\n",
      "\n"
     ]
    },
    {
     "data": {
      "text/html": [
       "<pre>Linear regression:</pre>"
      ],
      "text/plain": [
       "Linear regression:"
      ]
     },
     "metadata": {},
     "output_type": "display_data"
    },
    {
     "data": {
      "text/html": [
       "<pre>--------------------------------------------------------</pre>"
      ],
      "text/plain": [
       "--------------------------------------------------------"
      ]
     },
     "metadata": {},
     "output_type": "display_data"
    },
    {
     "data": {
      "text/html": [
       "<pre>Number of examples          : 1109</pre>"
      ],
      "text/plain": [
       "Number of examples          : 1109"
      ]
     },
     "metadata": {},
     "output_type": "display_data"
    },
    {
     "data": {
      "text/html": [
       "<pre>Number of features          : 1</pre>"
      ],
      "text/plain": [
       "Number of features          : 1"
      ]
     },
     "metadata": {},
     "output_type": "display_data"
    },
    {
     "data": {
      "text/html": [
       "<pre>Number of unpacked features : 1</pre>"
      ],
      "text/plain": [
       "Number of unpacked features : 1"
      ]
     },
     "metadata": {},
     "output_type": "display_data"
    }
   ],
   "source": [
    "LotArea_model = graphlab.linear_regression.create(train_data, target='SalePrice', features=['LotArea'])"
   ]
  },
  {
   "cell_type": "code",
   "execution_count": 15,
   "metadata": {
    "collapsed": false
   },
   "outputs": [
    {
     "data": {
      "text/html": [
       "<pre>Number of coefficients    : 2</pre>"
      ],
      "text/plain": [
       "Number of coefficients    : 2"
      ]
     },
     "metadata": {},
     "output_type": "display_data"
    },
    {
     "data": {
      "text/html": [
       "<pre>Starting Newton Method</pre>"
      ],
      "text/plain": [
       "Starting Newton Method"
      ]
     },
     "metadata": {},
     "output_type": "display_data"
    },
    {
     "name": "stdout",
     "output_type": "stream",
     "text": [
      "180921.19589\n"
     ]
    },
    {
     "data": {
      "text/html": [
       "<pre>--------------------------------------------------------</pre>"
      ],
      "text/plain": [
       "--------------------------------------------------------"
      ]
     },
     "metadata": {},
     "output_type": "display_data"
    },
    {
     "data": {
      "text/html": [
       "<pre>+-----------+----------+--------------+--------------------+----------------------+---------------+-----------------+</pre>"
      ],
      "text/plain": [
       "+-----------+----------+--------------+--------------------+----------------------+---------------+-----------------+"
      ]
     },
     "metadata": {},
     "output_type": "display_data"
    }
   ],
   "source": [
    "print sales['SalePrice'].mean()"
   ]
  },
  {
   "cell_type": "code",
   "execution_count": 16,
   "metadata": {
    "collapsed": false
   },
   "outputs": [
    {
     "data": {
      "text/html": [
       "<pre>| Iteration | Passes   | Elapsed Time | Training-max_error | Validation-max_error | Training-rmse | Validation-rmse |</pre>"
      ],
      "text/plain": [
       "| Iteration | Passes   | Elapsed Time | Training-max_error | Validation-max_error | Training-rmse | Validation-rmse |"
      ]
     },
     "metadata": {},
     "output_type": "display_data"
    },
    {
     "data": {
      "text/html": [
       "<pre>+-----------+----------+--------------+--------------------+----------------------+---------------+-----------------+</pre>"
      ],
      "text/plain": [
       "+-----------+----------+--------------+--------------------+----------------------+---------------+-----------------+"
      ]
     },
     "metadata": {},
     "output_type": "display_data"
    },
    {
     "data": {
      "text/html": [
       "<pre>| 1         | 2        | 0.001229     | 551939.369833      | 191066.386804        | 78015.056624  | 64362.915023    |</pre>"
      ],
      "text/plain": [
       "| 1         | 2        | 0.001229     | 551939.369833      | 191066.386804        | 78015.056624  | 64362.915023    |"
      ]
     },
     "metadata": {},
     "output_type": "display_data"
    },
    {
     "name": "stdout",
     "output_type": "stream",
     "text": [
      "{'max_error': 393918.0291912386, 'rmse': 73265.75056663538}\n"
     ]
    },
    {
     "data": {
      "text/html": [
       "<pre>+-----------+----------+--------------+--------------------+----------------------+---------------+-----------------+</pre>"
      ],
      "text/plain": [
       "+-----------+----------+--------------+--------------------+----------------------+---------------+-----------------+"
      ]
     },
     "metadata": {},
     "output_type": "display_data"
    },
    {
     "data": {
      "text/html": [
       "<pre>SUCCESS: Optimal solution found.</pre>"
      ],
      "text/plain": [
       "SUCCESS: Optimal solution found."
      ]
     },
     "metadata": {},
     "output_type": "display_data"
    },
    {
     "data": {
      "text/html": [
       "<pre></pre>"
      ],
      "text/plain": []
     },
     "metadata": {},
     "output_type": "display_data"
    }
   ],
   "source": [
    "print LotArea_model.evaluate(test_data)"
   ]
  },
  {
   "cell_type": "markdown",
   "metadata": {},
   "source": [
    "# Visualize predictions"
   ]
  },
  {
   "cell_type": "code",
   "execution_count": 17,
   "metadata": {
    "collapsed": false
   },
   "outputs": [],
   "source": [
    "import matplotlib.pyplot as plt\n",
    "%matplotlib inline"
   ]
  },
  {
   "cell_type": "code",
   "execution_count": 18,
   "metadata": {
    "collapsed": false
   },
   "outputs": [
    {
     "data": {
      "text/plain": [
       "[<matplotlib.lines.Line2D at 0x11c5cb1d0>,\n",
       " <matplotlib.lines.Line2D at 0x11c5cb290>]"
      ]
     },
     "execution_count": 18,
     "metadata": {},
     "output_type": "execute_result"
    },
    {
     "data": {
      "image/png": "[encoded data removed]",
      "text/plain": [
       "<matplotlib.figure.Figure at 0x11c27fa90>"
      ]
     },
     "metadata": {},
     "output_type": "display_data"
    }
   ],
   "source": [
    "plt.plot(test_data['GrLivArea'],test_data['SalePrice'],'.', test_data['GrLivArea'],GrLivArea_model.predict(test_data),'-' )"
   ]
  },
  {
   "cell_type": "code",
   "execution_count": 19,
   "metadata": {
    "collapsed": false
   },
   "outputs": [
    {
     "data": {
      "text/plain": [
       "[<matplotlib.lines.Line2D at 0x11cf3b610>,\n",
       " <matplotlib.lines.Line2D at 0x11cf3b6d0>]"
      ]
     },
     "execution_count": 19,
     "metadata": {},
     "output_type": "execute_result"
    },
    {
     "data": {
      "image/png": "[encoded data removed]",
      "text/plain": [
       "<matplotlib.figure.Figure at 0x11c2b3150>"
      ]
     },
     "metadata": {},
     "output_type": "display_data"
    }
   ],
   "source": [
    "plt.plot(test_data['LotArea'],test_data['SalePrice'],'.', test_data['LotArea'],LotArea_model.predict(test_data),'-' )"
   ]
  },
  {
   "cell_type": "code",
   "execution_count": 20,
   "metadata": {
    "collapsed": false
   },
   "outputs": [
    {
     "data": {
      "text/html": [
       "<div style=\"max-height:1000px;max-width:1500px;overflow:auto;\"><table frame=\"box\" rules=\"cols\">\n",
       "    <tr>\n",
       "        <th style=\"padding-left: 1em; padding-right: 1em; text-align: center\">name</th>\n",
       "        <th style=\"padding-left: 1em; padding-right: 1em; text-align: center\">index</th>\n",
       "        <th style=\"padding-left: 1em; padding-right: 1em; text-align: center\">value</th>\n",
       "        <th style=\"padding-left: 1em; padding-right: 1em; text-align: center\">stderr</th>\n",
       "    </tr>\n",
       "    <tr>\n",
       "        <td style=\"padding-left: 1em; padding-right: 1em; text-align: center; vertical-align: top\">(intercept)</td>\n",
       "        <td style=\"padding-left: 1em; padding-right: 1em; text-align: center; vertical-align: top\">None</td>\n",
       "        <td style=\"padding-left: 1em; padding-right: 1em; text-align: center; vertical-align: top\">156567.941855</td>\n",
       "        <td style=\"padding-left: 1em; padding-right: 1em; text-align: center; vertical-align: top\">3593.01172863</td>\n",
       "    </tr>\n",
       "    <tr>\n",
       "        <td style=\"padding-left: 1em; padding-right: 1em; text-align: center; vertical-align: top\">LotArea</td>\n",
       "        <td style=\"padding-left: 1em; padding-right: 1em; text-align: center; vertical-align: top\">None</td>\n",
       "        <td style=\"padding-left: 1em; padding-right: 1em; text-align: center; vertical-align: top\">2.33583103839</td>\n",
       "        <td style=\"padding-left: 1em; padding-right: 1em; text-align: center; vertical-align: top\">0.259670190145</td>\n",
       "    </tr>\n",
       "</table>\n",
       "[2 rows x 4 columns]<br/>\n",
       "</div>"
      ],
      "text/plain": [
       "Columns:\n",
       "\tname\tstr\n",
       "\tindex\tstr\n",
       "\tvalue\tfloat\n",
       "\tstderr\tfloat\n",
       "\n",
       "Rows: 2\n",
       "\n",
       "Data:\n",
       "+-------------+-------+---------------+----------------+\n",
       "|     name    | index |     value     |     stderr     |\n",
       "+-------------+-------+---------------+----------------+\n",
       "| (intercept) |  None | 156567.941855 | 3593.01172863  |\n",
       "|   LotArea   |  None | 2.33583103839 | 0.259670190145 |\n",
       "+-------------+-------+---------------+----------------+\n",
       "[2 rows x 4 columns]"
      ]
     },
     "execution_count": 20,
     "metadata": {},
     "output_type": "execute_result"
    }
   ],
   "source": [
    "LotArea_model.get('coefficients')"
   ]
  },
  {
   "cell_type": "code",
   "execution_count": 21,
   "metadata": {
    "collapsed": false
   },
   "outputs": [
    {
     "data": {
      "text/html": [
       "<div style=\"max-height:1000px;max-width:1500px;overflow:auto;\"><table frame=\"box\" rules=\"cols\">\n",
       "    <tr>\n",
       "        <th style=\"padding-left: 1em; padding-right: 1em; text-align: center\">name</th>\n",
       "        <th style=\"padding-left: 1em; padding-right: 1em; text-align: center\">index</th>\n",
       "        <th style=\"padding-left: 1em; padding-right: 1em; text-align: center\">value</th>\n",
       "        <th style=\"padding-left: 1em; padding-right: 1em; text-align: center\">stderr</th>\n",
       "    </tr>\n",
       "    <tr>\n",
       "        <td style=\"padding-left: 1em; padding-right: 1em; text-align: center; vertical-align: top\">(intercept)</td>\n",
       "        <td style=\"padding-left: 1em; padding-right: 1em; text-align: center; vertical-align: top\">None</td>\n",
       "        <td style=\"padding-left: 1em; padding-right: 1em; text-align: center; vertical-align: top\">21194.3302288</td>\n",
       "        <td style=\"padding-left: 1em; padding-right: 1em; text-align: center; vertical-align: top\">5094.83271044</td>\n",
       "    </tr>\n",
       "    <tr>\n",
       "        <td style=\"padding-left: 1em; padding-right: 1em; text-align: center; vertical-align: top\">GrLivArea</td>\n",
       "        <td style=\"padding-left: 1em; padding-right: 1em; text-align: center; vertical-align: top\">None</td>\n",
       "        <td style=\"padding-left: 1em; padding-right: 1em; text-align: center; vertical-align: top\">105.931032741</td>\n",
       "        <td style=\"padding-left: 1em; padding-right: 1em; text-align: center; vertical-align: top\">3.18247695221</td>\n",
       "    </tr>\n",
       "</table>\n",
       "[2 rows x 4 columns]<br/>\n",
       "</div>"
      ],
      "text/plain": [
       "Columns:\n",
       "\tname\tstr\n",
       "\tindex\tstr\n",
       "\tvalue\tfloat\n",
       "\tstderr\tfloat\n",
       "\n",
       "Rows: 2\n",
       "\n",
       "Data:\n",
       "+-------------+-------+---------------+---------------+\n",
       "|     name    | index |     value     |     stderr    |\n",
       "+-------------+-------+---------------+---------------+\n",
       "| (intercept) |  None | 21194.3302288 | 5094.83271044 |\n",
       "|  GrLivArea  |  None | 105.931032741 | 3.18247695221 |\n",
       "+-------------+-------+---------------+---------------+\n",
       "[2 rows x 4 columns]"
      ]
     },
     "execution_count": 21,
     "metadata": {},
     "output_type": "execute_result"
    }
   ],
   "source": [
    "GrLivArea_model.get('coefficients')"
   ]
  },
  {
   "cell_type": "markdown",
   "metadata": {},
   "source": [
    "# Explore other features of the data"
   ]
  },
  {
   "cell_type": "code",
   "execution_count": 22,
   "metadata": {
    "collapsed": false
   },
   "outputs": [],
   "source": [
    "my_features = ['Street', 'LotConfig', 'Neighborhood', 'LotArea', 'GrLivArea', 'OverallQual', 'MSSubClass', 'OverallCond', 'YearBuilt', 'BsmtFinSF1', 'BsmtFinSF2', 'BsmtUnfSF', 'TotalBsmtSF', '1stFlrSF', '2ndFlrSF']"
   ]
  },
  {
   "cell_type": "code",
   "execution_count": 23,
   "metadata": {
    "collapsed": false
   },
   "outputs": [
    {
     "data": {
      "application/javascript": [
       "$(\"head\").append($(\"<link/>\").attr({\n",
       "  rel:  \"stylesheet\",\n",
       "  type: \"text/css\",\n",
       "  href: \"//cdnjs.cloudflare.com/ajax/libs/font-awesome/4.1.0/css/font-awesome.min.css\"\n",
       "}));\n",
       "$(\"head\").append($(\"<link/>\").attr({\n",
       "  rel:  \"stylesheet\",\n",
       "  type: \"text/css\",\n",
       "  href: \"https://static.turi.com/products/graphlab-create/2.1/canvas/css/canvas.css\"\n",
       "}));\n",
       "\n",
       "            (function(){\n",
       "\n",
       "                var e = null;\n",
       "                if (typeof element == 'undefined') {\n",
       "                    var scripts = document.getElementsByTagName('script');\n",
       "                    var thisScriptTag = scripts[scripts.length-1];\n",
       "                    var parentDiv = thisScriptTag.parentNode;\n",
       "                    e = document.createElement('div');\n",
       "                    parentDiv.appendChild(e);\n",
       "                } else {\n",
       "                    e = element[0];\n",
       "                }\n",
       "\n",
       "                if (typeof requirejs !== 'undefined') {\n",
       "                    // disable load timeout; ipython_app.js is large and can take a while to load.\n",
       "                    requirejs.config({waitSeconds: 0});\n",
       "                }\n",
       "\n",
       "                require(['https://static.turi.com/products/graphlab-create/2.1/canvas/js/ipython_app.js'], function(IPythonApp){\n",
       "                    var app = new IPythonApp();\n",
       "                    app.attachView('sframe','Summary', {\"ipython\": true, \"sketch\": {\"BsmtUnfSF\": {\"std\": 441.71560507210376, \"complete\": true, \"min\": 0.0, \"max\": 2336.0, \"quantile\": [0.0, 0.0, 0.0, 0.0, 0.0, 0.0, 0.0, 0.0, 0.0, 36.0, 75.0, 81.0, 92.0, 103.0, 112.0, 122.0, 132.0, 140.0, 153.0, 163.0, 172.0, 179.0, 190.0, 197.0, 210.0, 223.0, 238.0, 248.0, 257.0, 270.0, 280.0, 288.0, 298.0, 304.0, 316.0, 321.0, 328.0, 342.0, 352.0, 363.0, 375.0, 384.0, 392.0, 402.0, 410.0, 420.0, 428.0, 440.0, 449.0, 464.0, 479.0, 490.0, 504.0, 520.0, 536.0, 544.0, 556.0, 572.0, 586.0, 598.0, 605.0, 624.0, 630.0, 650.0, 662.0, 676.0, 692.0, 702.0, 715.0, 728.0, 736.0, 748.0, 765.0, 780.0, 794.0, 808.0, 816.0, 844.0, 864.0, 880.0, 896.0, 916.0, 936.0, 964.0, 982.0, 1012.0, 1055.0, 1092.0, 1125.0, 1176.0, 1232.0, 1273.0, 1316.0, 1362.0, 1406.0, 1468.0, 1528.0, 1594.0, 1680.0, 1800.0, 2336.0], \"median\": 479.0, \"numeric\": true, \"num_unique\": 775, \"num_undefined\": 0, \"var\": 195112.6757642147, \"progress\": 1.0, \"size\": 1460, \"frequent_items\": {\"0\": {\"frequency\": 118, \"value\": 0}, \"14\": {\"frequency\": 1, \"value\": 14}, \"15\": {\"frequency\": 1, \"value\": 15}, \"23\": {\"frequency\": 2, \"value\": 23}, \"26\": {\"frequency\": 1, \"value\": 26}, \"29\": {\"frequency\": 1, \"value\": 29}, \"30\": {\"frequency\": 1, \"value\": 30}, \"32\": {\"frequency\": 2, \"value\": 32}, \"35\": {\"frequency\": 1, \"value\": 35}, \"36\": {\"frequency\": 4, \"value\": 36}, \"38\": {\"frequency\": 1, \"value\": 38}, \"39\": {\"frequency\": 1, \"value\": 39}, \"40\": {\"frequency\": 1, \"value\": 40}, \"50\": {\"frequency\": 1, \"value\": 50}, \"55\": {\"frequency\": 2, \"value\": 55}, \"60\": {\"frequency\": 1, \"value\": 60}, \"61\": {\"frequency\": 1, \"value\": 61}, \"64\": {\"frequency\": 2, \"value\": 64}, \"70\": {\"frequency\": 2, \"value\": 70}, \"72\": {\"frequency\": 1, \"value\": 72}, \"2121\": {\"frequency\": 1, \"value\": 2121}, \"74\": {\"frequency\": 1, \"value\": 74}, \"75\": {\"frequency\": 3, \"value\": 75}, \"76\": {\"frequency\": 2, \"value\": 76}, \"77\": {\"frequency\": 2, \"value\": 77}, \"78\": {\"frequency\": 2, \"value\": 78}, \"80\": {\"frequency\": 5, \"value\": 80}, \"81\": {\"frequency\": 1, \"value\": 81}, \"82\": {\"frequency\": 1, \"value\": 82}, \"83\": {\"frequency\": 1, \"value\": 83}, \"84\": {\"frequency\": 2, \"value\": 84}, \"88\": {\"frequency\": 4, \"value\": 88}, \"89\": {\"frequency\": 1, \"value\": 89}, \"90\": {\"frequency\": 3, \"value\": 90}, \"92\": {\"frequency\": 4, \"value\": 92}, \"93\": {\"frequency\": 1, \"value\": 93}, \"95\": {\"frequency\": 1, \"value\": 95}, \"96\": {\"frequency\": 2, \"value\": 96}, \"99\": {\"frequency\": 2, \"value\": 99}, \"100\": {\"frequency\": 4, \"value\": 100}, \"102\": {\"frequency\": 2, \"value\": 102}, \"103\": {\"frequency\": 2, \"value\": 103}, \"104\": {\"frequency\": 1, \"value\": 104}, \"2153\": {\"frequency\": 1, \"value\": 2153}, \"107\": {\"frequency\": 1, \"value\": 107}, \"108\": {\"frequency\": 5, \"value\": 108}, \"110\": {\"frequency\": 1, \"value\": 110}, \"111\": {\"frequency\": 1, \"value\": 111}, \"112\": {\"frequency\": 2, \"value\": 112}, \"113\": {\"frequency\": 1, \"value\": 113}, \"114\": {\"frequency\": 3, \"value\": 114}, \"115\": {\"frequency\": 4, \"value\": 115}, \"117\": {\"frequency\": 1, \"value\": 117}, \"119\": {\"frequency\": 1, \"value\": 119}, \"120\": {\"frequency\": 1, \"value\": 120}, \"121\": {\"frequency\": 3, \"value\": 121}, \"122\": {\"frequency\": 2, \"value\": 122}, \"124\": {\"frequency\": 2, \"value\": 124}, \"125\": {\"frequency\": 4, \"value\": 125}, \"126\": {\"frequency\": 2, \"value\": 126}, \"130\": {\"frequency\": 3, \"value\": 130}, \"131\": {\"frequency\": 1, \"value\": 131}, \"132\": {\"frequency\": 3, \"value\": 132}, \"133\": {\"frequency\": 3, \"value\": 133}, \"134\": {\"frequency\": 2, \"value\": 134}, \"135\": {\"frequency\": 3, \"value\": 135}, \"136\": {\"frequency\": 1, \"value\": 136}, \"138\": {\"frequency\": 2, \"value\": 138}, \"140\": {\"frequency\": 3, \"value\": 140}, \"141\": {\"frequency\": 2, \"value\": 141}, \"142\": {\"frequency\": 1, \"value\": 142}, \"143\": {\"frequency\": 1, \"value\": 143}, \"148\": {\"frequency\": 3, \"value\": 148}, \"149\": {\"frequency\": 1, \"value\": 149}, \"150\": {\"frequency\": 1, \"value\": 150}, \"151\": {\"frequency\": 2, \"value\": 151}, \"153\": {\"frequency\": 2, \"value\": 153}, \"154\": {\"frequency\": 1, \"value\": 154}, \"155\": {\"frequency\": 1, \"value\": 155}, \"156\": {\"frequency\": 1, \"value\": 156}, \"160\": {\"frequency\": 2, \"value\": 160}, \"161\": {\"frequency\": 2, \"value\": 161}, \"162\": {\"frequency\": 5, \"value\": 162}, \"163\": {\"frequency\": 4, \"value\": 163}, \"165\": {\"frequency\": 1, \"value\": 165}, \"166\": {\"frequency\": 1, \"value\": 166}, \"167\": {\"frequency\": 2, \"value\": 167}, \"168\": {\"frequency\": 4, \"value\": 168}, \"169\": {\"frequency\": 2, \"value\": 169}, \"170\": {\"frequency\": 1, \"value\": 170}, \"171\": {\"frequency\": 1, \"value\": 171}, \"172\": {\"frequency\": 2, \"value\": 172}, \"173\": {\"frequency\": 3, \"value\": 173}, \"174\": {\"frequency\": 2, \"value\": 174}, \"175\": {\"frequency\": 3, \"value\": 175}, \"176\": {\"frequency\": 2, \"value\": 176}, \"177\": {\"frequency\": 1, \"value\": 177}, \"178\": {\"frequency\": 1, \"value\": 178}, \"179\": {\"frequency\": 2, \"value\": 179}, \"180\": {\"frequency\": 3, \"value\": 180}, \"184\": {\"frequency\": 3, \"value\": 184}, \"186\": {\"frequency\": 4, \"value\": 186}, \"187\": {\"frequency\": 1, \"value\": 187}, \"188\": {\"frequency\": 2, \"value\": 188}, \"189\": {\"frequency\": 2, \"value\": 189}, \"190\": {\"frequency\": 2, \"value\": 190}, \"191\": {\"frequency\": 1, \"value\": 191}, \"192\": {\"frequency\": 4, \"value\": 192}, \"193\": {\"frequency\": 2, \"value\": 193}, \"195\": {\"frequency\": 2, \"value\": 195}, \"196\": {\"frequency\": 1, \"value\": 196}, \"197\": {\"frequency\": 2, \"value\": 197}, \"198\": {\"frequency\": 1, \"value\": 198}, \"200\": {\"frequency\": 2, \"value\": 200}, \"201\": {\"frequency\": 1, \"value\": 201}, \"203\": {\"frequency\": 3, \"value\": 203}, \"204\": {\"frequency\": 1, \"value\": 204}, \"207\": {\"frequency\": 1, \"value\": 207}, \"208\": {\"frequency\": 3, \"value\": 208}, \"210\": {\"frequency\": 3, \"value\": 210}, \"212\": {\"frequency\": 2, \"value\": 212}, \"216\": {\"frequency\": 5, \"value\": 216}, \"217\": {\"frequency\": 1, \"value\": 217}, \"218\": {\"frequency\": 2, \"value\": 218}, \"219\": {\"frequency\": 1, \"value\": 219}, \"220\": {\"frequency\": 1, \"value\": 220}, \"221\": {\"frequency\": 1, \"value\": 221}, \"223\": {\"frequency\": 2, \"value\": 223}, \"224\": {\"frequency\": 2, \"value\": 224}, \"225\": {\"frequency\": 2, \"value\": 225}, \"227\": {\"frequency\": 1, \"value\": 227}, \"229\": {\"frequency\": 1, \"value\": 229}, \"230\": {\"frequency\": 3, \"value\": 230}, \"234\": {\"frequency\": 2, \"value\": 234}, \"235\": {\"frequency\": 1, \"value\": 235}, \"237\": {\"frequency\": 1, \"value\": 237}, \"238\": {\"frequency\": 1, \"value\": 238}, \"239\": {\"frequency\": 1, \"value\": 239}, \"240\": {\"frequency\": 1, \"value\": 240}, \"241\": {\"frequency\": 1, \"value\": 241}, \"242\": {\"frequency\": 1, \"value\": 242}, \"244\": {\"frequency\": 3, \"value\": 244}, \"245\": {\"frequency\": 3, \"value\": 245}, \"246\": {\"frequency\": 1, \"value\": 246}, \"247\": {\"frequency\": 2, \"value\": 247}, \"248\": {\"frequency\": 3, \"value\": 248}, \"250\": {\"frequency\": 1, \"value\": 250}, \"251\": {\"frequency\": 1, \"value\": 251}, \"252\": {\"frequency\": 3, \"value\": 252}, \"253\": {\"frequency\": 2, \"value\": 253}, \"254\": {\"frequency\": 2, \"value\": 254}, \"255\": {\"frequency\": 1, \"value\": 255}, \"256\": {\"frequency\": 2, \"value\": 256}, \"257\": {\"frequency\": 1, \"value\": 257}, \"261\": {\"frequency\": 1, \"value\": 261}, \"262\": {\"frequency\": 1, \"value\": 262}, \"264\": {\"frequency\": 5, \"value\": 264}, \"266\": {\"frequency\": 1, \"value\": 266}, \"268\": {\"frequency\": 2, \"value\": 268}, \"270\": {\"frequency\": 6, \"value\": 270}, \"273\": {\"frequency\": 1, \"value\": 273}, \"274\": {\"frequency\": 1, \"value\": 274}, \"276\": {\"frequency\": 4, \"value\": 276}, \"277\": {\"frequency\": 1, \"value\": 277}, \"278\": {\"frequency\": 3, \"value\": 278}, \"279\": {\"frequency\": 2, \"value\": 279}, \"280\": {\"frequency\": 6, \"value\": 280}, \"281\": {\"frequency\": 2, \"value\": 281}, \"284\": {\"frequency\": 4, \"value\": 284}, \"285\": {\"frequency\": 1, \"value\": 285}, \"286\": {\"frequency\": 2, \"value\": 286}, \"2336\": {\"frequency\": 1, \"value\": 2336}, \"289\": {\"frequency\": 2, \"value\": 289}, \"290\": {\"frequency\": 1, \"value\": 290}, \"291\": {\"frequency\": 2, \"value\": 291}, \"292\": {\"frequency\": 3, \"value\": 292}, \"293\": {\"frequency\": 1, \"value\": 293}, \"294\": {\"frequency\": 2, \"value\": 294}, \"295\": {\"frequency\": 1, \"value\": 295}, \"297\": {\"frequency\": 1, \"value\": 297}, \"298\": {\"frequency\": 1, \"value\": 298}, \"299\": {\"frequency\": 2, \"value\": 299}, \"300\": {\"frequency\": 7, \"value\": 300}, \"301\": {\"frequency\": 1, \"value\": 301}, \"303\": {\"frequency\": 1, \"value\": 303}, \"304\": {\"frequency\": 2, \"value\": 304}, \"305\": {\"frequency\": 1, \"value\": 305}, \"308\": {\"frequency\": 1, \"value\": 308}, \"309\": {\"frequency\": 1, \"value\": 309}, \"310\": {\"frequency\": 3, \"value\": 310}, \"311\": {\"frequency\": 1, \"value\": 311}, \"312\": {\"frequency\": 4, \"value\": 312}, \"314\": {\"frequency\": 1, \"value\": 314}, \"315\": {\"frequency\": 1, \"value\": 315}, \"316\": {\"frequency\": 3, \"value\": 316}, \"317\": {\"frequency\": 3, \"value\": 317}, \"318\": {\"frequency\": 3, \"value\": 318}, \"319\": {\"frequency\": 5, \"value\": 319}, \"320\": {\"frequency\": 2, \"value\": 320}, \"321\": {\"frequency\": 2, \"value\": 321}, \"322\": {\"frequency\": 2, \"value\": 322}, \"323\": {\"frequency\": 1, \"value\": 323}, \"324\": {\"frequency\": 4, \"value\": 324}, \"326\": {\"frequency\": 5, \"value\": 326}, \"328\": {\"frequency\": 1, \"value\": 328}, \"331\": {\"frequency\": 1, \"value\": 331}, \"333\": {\"frequency\": 2, \"value\": 333}, \"334\": {\"frequency\": 1, \"value\": 334}, \"336\": {\"frequency\": 4, \"value\": 336}, \"338\": {\"frequency\": 1, \"value\": 338}, \"340\": {\"frequency\": 4, \"value\": 340}, \"341\": {\"frequency\": 1, \"value\": 341}, \"342\": {\"frequency\": 3, \"value\": 342}, \"343\": {\"frequency\": 3, \"value\": 343}, \"344\": {\"frequency\": 2, \"value\": 344}, \"348\": {\"frequency\": 1, \"value\": 348}, \"349\": {\"frequency\": 1, \"value\": 349}, \"350\": {\"frequency\": 4, \"value\": 350}, \"352\": {\"frequency\": 1, \"value\": 352}, \"354\": {\"frequency\": 3, \"value\": 354}, \"355\": {\"frequency\": 1, \"value\": 355}, \"356\": {\"frequency\": 3, \"value\": 356}, \"357\": {\"frequency\": 2, \"value\": 357}, \"359\": {\"frequency\": 1, \"value\": 359}, \"360\": {\"frequency\": 4, \"value\": 360}, \"361\": {\"frequency\": 1, \"value\": 361}, \"363\": {\"frequency\": 2, \"value\": 363}, \"364\": {\"frequency\": 2, \"value\": 364}, \"365\": {\"frequency\": 1, \"value\": 365}, \"366\": {\"frequency\": 1, \"value\": 366}, \"367\": {\"frequency\": 1, \"value\": 367}, \"370\": {\"frequency\": 1, \"value\": 370}, \"371\": {\"frequency\": 2, \"value\": 371}, \"372\": {\"frequency\": 2, \"value\": 372}, \"374\": {\"frequency\": 2, \"value\": 374}, \"375\": {\"frequency\": 1, \"value\": 375}, \"378\": {\"frequency\": 3, \"value\": 378}, \"379\": {\"frequency\": 1, \"value\": 379}, \"380\": {\"frequency\": 3, \"value\": 380}, \"381\": {\"frequency\": 2, \"value\": 381}, \"383\": {\"frequency\": 1, \"value\": 383}, \"384\": {\"frequency\": 8, \"value\": 384}, \"386\": {\"frequency\": 1, \"value\": 386}, \"387\": {\"frequency\": 1, \"value\": 387}, \"389\": {\"frequency\": 1, \"value\": 389}, \"390\": {\"frequency\": 5, \"value\": 390}, \"392\": {\"frequency\": 4, \"value\": 392}, \"396\": {\"frequency\": 4, \"value\": 396}, \"397\": {\"frequency\": 1, \"value\": 397}, \"398\": {\"frequency\": 1, \"value\": 398}, \"399\": {\"frequency\": 2, \"value\": 399}, \"400\": {\"frequency\": 2, \"value\": 400}, \"402\": {\"frequency\": 3, \"value\": 402}, \"403\": {\"frequency\": 1, \"value\": 403}, \"404\": {\"frequency\": 2, \"value\": 404}, \"405\": {\"frequency\": 1, \"value\": 405}, \"406\": {\"frequency\": 2, \"value\": 406}, \"408\": {\"frequency\": 3, \"value\": 408}, \"409\": {\"frequency\": 2, \"value\": 409}, \"410\": {\"frequency\": 5, \"value\": 410}, \"411\": {\"frequency\": 2, \"value\": 411}, \"412\": {\"frequency\": 1, \"value\": 412}, \"413\": {\"frequency\": 3, \"value\": 413}, \"414\": {\"frequency\": 2, \"value\": 414}, \"415\": {\"frequency\": 1, \"value\": 415}, \"416\": {\"frequency\": 2, \"value\": 416}, \"417\": {\"frequency\": 1, \"value\": 417}, \"418\": {\"frequency\": 1, \"value\": 418}, \"420\": {\"frequency\": 4, \"value\": 420}, \"422\": {\"frequency\": 2, \"value\": 422}, \"424\": {\"frequency\": 2, \"value\": 424}, \"425\": {\"frequency\": 2, \"value\": 425}, \"426\": {\"frequency\": 3, \"value\": 426}, \"427\": {\"frequency\": 1, \"value\": 427}, \"428\": {\"frequency\": 1, \"value\": 428}, \"429\": {\"frequency\": 2, \"value\": 429}, \"430\": {\"frequency\": 1, \"value\": 430}, \"431\": {\"frequency\": 2, \"value\": 431}, \"432\": {\"frequency\": 2, \"value\": 432}, \"434\": {\"frequency\": 3, \"value\": 434}, \"435\": {\"frequency\": 1, \"value\": 435}, \"438\": {\"frequency\": 1, \"value\": 438}, \"440\": {\"frequency\": 6, \"value\": 440}, \"441\": {\"frequency\": 3, \"value\": 441}, \"442\": {\"frequency\": 1, \"value\": 442}, \"444\": {\"frequency\": 1, \"value\": 444}, \"445\": {\"frequency\": 1, \"value\": 445}, \"447\": {\"frequency\": 1, \"value\": 447}, \"448\": {\"frequency\": 3, \"value\": 448}, \"449\": {\"frequency\": 1, \"value\": 449}, \"450\": {\"frequency\": 1, \"value\": 450}, \"452\": {\"frequency\": 1, \"value\": 452}, \"456\": {\"frequency\": 1, \"value\": 456}, \"457\": {\"frequency\": 2, \"value\": 457}, \"458\": {\"frequency\": 1, \"value\": 458}, \"459\": {\"frequency\": 2, \"value\": 459}, \"460\": {\"frequency\": 3, \"value\": 460}, \"461\": {\"frequency\": 2, \"value\": 461}, \"462\": {\"frequency\": 1, \"value\": 462}, \"463\": {\"frequency\": 1, \"value\": 463}, \"464\": {\"frequency\": 1, \"value\": 464}, \"465\": {\"frequency\": 1, \"value\": 465}, \"466\": {\"frequency\": 2, \"value\": 466}, \"467\": {\"frequency\": 1, \"value\": 467}, \"468\": {\"frequency\": 2, \"value\": 468}, \"470\": {\"frequency\": 2, \"value\": 470}, \"473\": {\"frequency\": 1, \"value\": 473}, \"474\": {\"frequency\": 3, \"value\": 474}, \"476\": {\"frequency\": 1, \"value\": 476}, \"479\": {\"frequency\": 1, \"value\": 479}, \"480\": {\"frequency\": 1, \"value\": 480}, \"481\": {\"frequency\": 1, \"value\": 481}, \"482\": {\"frequency\": 1, \"value\": 482}, \"483\": {\"frequency\": 1, \"value\": 483}, \"484\": {\"frequency\": 3, \"value\": 484}, \"485\": {\"frequency\": 2, \"value\": 485}, \"486\": {\"frequency\": 2, \"value\": 486}, \"487\": {\"frequency\": 1, \"value\": 487}, \"488\": {\"frequency\": 1, \"value\": 488}, \"490\": {\"frequency\": 5, \"value\": 490}, \"491\": {\"frequency\": 1, \"value\": 491}, \"495\": {\"frequency\": 2, \"value\": 495}, \"496\": {\"frequency\": 1, \"value\": 496}, \"499\": {\"frequency\": 2, \"value\": 499}, \"500\": {\"frequency\": 1, \"value\": 500}, \"501\": {\"frequency\": 2, \"value\": 501}, \"503\": {\"frequency\": 1, \"value\": 503}, \"504\": {\"frequency\": 3, \"value\": 504}, \"506\": {\"frequency\": 3, \"value\": 506}, \"508\": {\"frequency\": 1, \"value\": 508}, \"510\": {\"frequency\": 2, \"value\": 510}, \"512\": {\"frequency\": 1, \"value\": 512}, \"515\": {\"frequency\": 1, \"value\": 515}, \"516\": {\"frequency\": 2, \"value\": 516}, \"519\": {\"frequency\": 1, \"value\": 519}, \"520\": {\"frequency\": 2, \"value\": 520}, \"522\": {\"frequency\": 3, \"value\": 522}, \"524\": {\"frequency\": 2, \"value\": 524}, \"525\": {\"frequency\": 2, \"value\": 525}, \"526\": {\"frequency\": 1, \"value\": 526}, \"528\": {\"frequency\": 2, \"value\": 528}, \"530\": {\"frequency\": 1, \"value\": 530}, \"533\": {\"frequency\": 2, \"value\": 533}, \"536\": {\"frequency\": 4, \"value\": 536}, \"537\": {\"frequency\": 1, \"value\": 537}, \"538\": {\"frequency\": 1, \"value\": 538}, \"539\": {\"frequency\": 1, \"value\": 539}, \"540\": {\"frequency\": 3, \"value\": 540}, \"542\": {\"frequency\": 1, \"value\": 542}, \"543\": {\"frequency\": 1, \"value\": 543}, \"544\": {\"frequency\": 4, \"value\": 544}, \"545\": {\"frequency\": 1, \"value\": 545}, \"546\": {\"frequency\": 3, \"value\": 546}, \"548\": {\"frequency\": 1, \"value\": 548}, \"549\": {\"frequency\": 1, \"value\": 549}, \"550\": {\"frequency\": 1, \"value\": 550}, \"551\": {\"frequency\": 1, \"value\": 551}, \"552\": {\"frequency\": 1, \"value\": 552}, \"554\": {\"frequency\": 3, \"value\": 554}, \"556\": {\"frequency\": 4, \"value\": 556}, \"557\": {\"frequency\": 1, \"value\": 557}, \"560\": {\"frequency\": 1, \"value\": 560}, \"563\": {\"frequency\": 1, \"value\": 563}, \"564\": {\"frequency\": 1, \"value\": 564}, \"567\": {\"frequency\": 2, \"value\": 567}, \"568\": {\"frequency\": 1, \"value\": 568}, \"570\": {\"frequency\": 3, \"value\": 570}, \"571\": {\"frequency\": 1, \"value\": 571}, \"572\": {\"frequency\": 7, \"value\": 572}, \"574\": {\"frequency\": 1, \"value\": 574}, \"576\": {\"frequency\": 2, \"value\": 576}, \"577\": {\"frequency\": 1, \"value\": 577}, \"578\": {\"frequency\": 1, \"value\": 578}, \"580\": {\"frequency\": 1, \"value\": 580}, \"585\": {\"frequency\": 1, \"value\": 585}, \"586\": {\"frequency\": 2, \"value\": 586}, \"588\": {\"frequency\": 3, \"value\": 588}, \"589\": {\"frequency\": 1, \"value\": 589}, \"594\": {\"frequency\": 3, \"value\": 594}, \"595\": {\"frequency\": 2, \"value\": 595}, \"596\": {\"frequency\": 3, \"value\": 596}, \"598\": {\"frequency\": 3, \"value\": 598}, \"599\": {\"frequency\": 2, \"value\": 599}, \"600\": {\"frequency\": 7, \"value\": 600}, \"602\": {\"frequency\": 3, \"value\": 602}, \"604\": {\"frequency\": 2, \"value\": 604}, \"605\": {\"frequency\": 1, \"value\": 605}, \"606\": {\"frequency\": 1, \"value\": 606}, \"611\": {\"frequency\": 4, \"value\": 611}, \"612\": {\"frequency\": 3, \"value\": 612}, \"616\": {\"frequency\": 1, \"value\": 616}, \"619\": {\"frequency\": 1, \"value\": 619}, \"620\": {\"frequency\": 1, \"value\": 620}, \"622\": {\"frequency\": 2, \"value\": 622}, \"624\": {\"frequency\": 2, \"value\": 624}, \"625\": {\"frequency\": 6, \"value\": 625}, \"626\": {\"frequency\": 2, \"value\": 626}, \"628\": {\"frequency\": 3, \"value\": 628}, \"630\": {\"frequency\": 3, \"value\": 630}, \"105\": {\"frequency\": 3, \"value\": 105}, \"635\": {\"frequency\": 1, \"value\": 635}, \"636\": {\"frequency\": 1, \"value\": 636}, \"637\": {\"frequency\": 1, \"value\": 637}, \"638\": {\"frequency\": 4, \"value\": 638}, \"640\": {\"frequency\": 1, \"value\": 640}, \"641\": {\"frequency\": 2, \"value\": 641}, \"645\": {\"frequency\": 1, \"value\": 645}, \"648\": {\"frequency\": 1, \"value\": 648}, \"649\": {\"frequency\": 1, \"value\": 649}, \"650\": {\"frequency\": 2, \"value\": 650}, \"651\": {\"frequency\": 1, \"value\": 651}, \"652\": {\"frequency\": 2, \"value\": 652}, \"656\": {\"frequency\": 1, \"value\": 656}, \"658\": {\"frequency\": 2, \"value\": 658}, \"660\": {\"frequency\": 4, \"value\": 660}, \"661\": {\"frequency\": 2, \"value\": 661}, \"662\": {\"frequency\": 2, \"value\": 662}, \"664\": {\"frequency\": 2, \"value\": 664}, \"666\": {\"frequency\": 1, \"value\": 666}, \"668\": {\"frequency\": 1, \"value\": 668}, \"671\": {\"frequency\": 1, \"value\": 671}, \"672\": {\"frequency\": 6, \"value\": 672}, \"673\": {\"frequency\": 2, \"value\": 673}, \"676\": {\"frequency\": 2, \"value\": 676}, \"678\": {\"frequency\": 2, \"value\": 678}, \"680\": {\"frequency\": 1, \"value\": 680}, \"684\": {\"frequency\": 4, \"value\": 684}, \"686\": {\"frequency\": 3, \"value\": 686}, \"689\": {\"frequency\": 2, \"value\": 689}, \"690\": {\"frequency\": 1, \"value\": 690}, \"691\": {\"frequency\": 1, \"value\": 691}, \"692\": {\"frequency\": 1, \"value\": 692}, \"693\": {\"frequency\": 1, \"value\": 693}, \"697\": {\"frequency\": 3, \"value\": 697}, \"698\": {\"frequency\": 5, \"value\": 698}, \"700\": {\"frequency\": 3, \"value\": 700}, \"701\": {\"frequency\": 1, \"value\": 701}, \"702\": {\"frequency\": 3, \"value\": 702}, \"705\": {\"frequency\": 1, \"value\": 705}, \"706\": {\"frequency\": 2, \"value\": 706}, \"707\": {\"frequency\": 1, \"value\": 707}, \"708\": {\"frequency\": 1, \"value\": 708}, \"709\": {\"frequency\": 1, \"value\": 709}, \"710\": {\"frequency\": 3, \"value\": 710}, \"712\": {\"frequency\": 3, \"value\": 712}, \"715\": {\"frequency\": 1, \"value\": 715}, \"717\": {\"frequency\": 1, \"value\": 717}, \"718\": {\"frequency\": 2, \"value\": 718}, \"720\": {\"frequency\": 2, \"value\": 720}, \"721\": {\"frequency\": 1, \"value\": 721}, \"722\": {\"frequency\": 1, \"value\": 722}, \"724\": {\"frequency\": 1, \"value\": 724}, \"725\": {\"frequency\": 1, \"value\": 725}, \"726\": {\"frequency\": 1, \"value\": 726}, \"728\": {\"frequency\": 9, \"value\": 728}, \"730\": {\"frequency\": 1, \"value\": 730}, \"731\": {\"frequency\": 1, \"value\": 731}, \"732\": {\"frequency\": 3, \"value\": 732}, \"733\": {\"frequency\": 1, \"value\": 733}, \"734\": {\"frequency\": 1, \"value\": 734}, \"735\": {\"frequency\": 1, \"value\": 735}, \"736\": {\"frequency\": 2, \"value\": 736}, \"739\": {\"frequency\": 1, \"value\": 739}, \"740\": {\"frequency\": 1, \"value\": 740}, \"741\": {\"frequency\": 1, \"value\": 741}, \"742\": {\"frequency\": 3, \"value\": 742}, \"744\": {\"frequency\": 1, \"value\": 744}, \"746\": {\"frequency\": 2, \"value\": 746}, \"747\": {\"frequency\": 4, \"value\": 747}, \"748\": {\"frequency\": 2, \"value\": 748}, \"750\": {\"frequency\": 1, \"value\": 750}, \"752\": {\"frequency\": 1, \"value\": 752}, \"755\": {\"frequency\": 2, \"value\": 755}, \"756\": {\"frequency\": 3, \"value\": 756}, \"758\": {\"frequency\": 1, \"value\": 758}, \"761\": {\"frequency\": 1, \"value\": 761}, \"762\": {\"frequency\": 2, \"value\": 762}, \"764\": {\"frequency\": 2, \"value\": 764}, \"765\": {\"frequency\": 1, \"value\": 765}, \"768\": {\"frequency\": 4, \"value\": 768}, \"769\": {\"frequency\": 1, \"value\": 769}, \"770\": {\"frequency\": 1, \"value\": 770}, \"772\": {\"frequency\": 1, \"value\": 772}, \"773\": {\"frequency\": 1, \"value\": 773}, \"774\": {\"frequency\": 1, \"value\": 774}, \"776\": {\"frequency\": 2, \"value\": 776}, \"777\": {\"frequency\": 1, \"value\": 777}, \"778\": {\"frequency\": 1, \"value\": 778}, \"779\": {\"frequency\": 1, \"value\": 779}, \"780\": {\"frequency\": 4, \"value\": 780}, \"783\": {\"frequency\": 2, \"value\": 783}, \"784\": {\"frequency\": 1, \"value\": 784}, \"785\": {\"frequency\": 2, \"value\": 785}, \"788\": {\"frequency\": 1, \"value\": 788}, \"791\": {\"frequency\": 1, \"value\": 791}, \"792\": {\"frequency\": 1, \"value\": 792}, \"793\": {\"frequency\": 2, \"value\": 793}, \"794\": {\"frequency\": 1, \"value\": 794}, \"795\": {\"frequency\": 1, \"value\": 795}, \"796\": {\"frequency\": 2, \"value\": 796}, \"797\": {\"frequency\": 1, \"value\": 797}, \"798\": {\"frequency\": 2, \"value\": 798}, \"799\": {\"frequency\": 1, \"value\": 799}, \"801\": {\"frequency\": 1, \"value\": 801}, \"803\": {\"frequency\": 1, \"value\": 803}, \"804\": {\"frequency\": 1, \"value\": 804}, \"806\": {\"frequency\": 2, \"value\": 806}, \"808\": {\"frequency\": 3, \"value\": 808}, \"810\": {\"frequency\": 1, \"value\": 810}, \"811\": {\"frequency\": 3, \"value\": 811}, \"812\": {\"frequency\": 1, \"value\": 812}, \"813\": {\"frequency\": 2, \"value\": 813}, \"814\": {\"frequency\": 1, \"value\": 814}, \"815\": {\"frequency\": 1, \"value\": 815}, \"816\": {\"frequency\": 5, \"value\": 816}, \"818\": {\"frequency\": 1, \"value\": 818}, \"823\": {\"frequency\": 1, \"value\": 823}, \"831\": {\"frequency\": 1, \"value\": 831}, \"832\": {\"frequency\": 3, \"value\": 832}, \"833\": {\"frequency\": 2, \"value\": 833}, \"834\": {\"frequency\": 1, \"value\": 834}, \"840\": {\"frequency\": 4, \"value\": 840}, \"841\": {\"frequency\": 1, \"value\": 841}, \"844\": {\"frequency\": 2, \"value\": 844}, \"846\": {\"frequency\": 2, \"value\": 846}, \"847\": {\"frequency\": 4, \"value\": 847}, \"849\": {\"frequency\": 2, \"value\": 849}, \"858\": {\"frequency\": 1, \"value\": 858}, \"859\": {\"frequency\": 1, \"value\": 859}, \"860\": {\"frequency\": 1, \"value\": 860}, \"861\": {\"frequency\": 1, \"value\": 861}, \"862\": {\"frequency\": 1, \"value\": 862}, \"864\": {\"frequency\": 3, \"value\": 864}, \"866\": {\"frequency\": 1, \"value\": 866}, \"868\": {\"frequency\": 2, \"value\": 868}, \"871\": {\"frequency\": 1, \"value\": 871}, \"874\": {\"frequency\": 1, \"value\": 874}, \"876\": {\"frequency\": 2, \"value\": 876}, \"877\": {\"frequency\": 1, \"value\": 877}, \"878\": {\"frequency\": 2, \"value\": 878}, \"879\": {\"frequency\": 1, \"value\": 879}, \"880\": {\"frequency\": 2, \"value\": 880}, \"882\": {\"frequency\": 1, \"value\": 882}, \"884\": {\"frequency\": 4, \"value\": 884}, \"891\": {\"frequency\": 1, \"value\": 891}, \"892\": {\"frequency\": 1, \"value\": 892}, \"893\": {\"frequency\": 1, \"value\": 893}, \"894\": {\"frequency\": 3, \"value\": 894}, \"896\": {\"frequency\": 3, \"value\": 896}, \"899\": {\"frequency\": 1, \"value\": 899}, \"901\": {\"frequency\": 3, \"value\": 901}, \"905\": {\"frequency\": 1, \"value\": 905}, \"906\": {\"frequency\": 1, \"value\": 906}, \"907\": {\"frequency\": 1, \"value\": 907}, \"912\": {\"frequency\": 4, \"value\": 912}, \"914\": {\"frequency\": 1, \"value\": 914}, \"916\": {\"frequency\": 2, \"value\": 916}, \"918\": {\"frequency\": 1, \"value\": 918}, \"920\": {\"frequency\": 1, \"value\": 920}, \"924\": {\"frequency\": 2, \"value\": 924}, \"925\": {\"frequency\": 1, \"value\": 925}, \"926\": {\"frequency\": 1, \"value\": 926}, \"927\": {\"frequency\": 2, \"value\": 927}, \"930\": {\"frequency\": 1, \"value\": 930}, \"932\": {\"frequency\": 1, \"value\": 932}, \"935\": {\"frequency\": 2, \"value\": 935}, \"936\": {\"frequency\": 3, \"value\": 936}, \"939\": {\"frequency\": 2, \"value\": 939}, \"940\": {\"frequency\": 1, \"value\": 940}, \"941\": {\"frequency\": 1, \"value\": 941}, \"948\": {\"frequency\": 1, \"value\": 948}, \"952\": {\"frequency\": 3, \"value\": 952}, \"953\": {\"frequency\": 2, \"value\": 953}, \"958\": {\"frequency\": 1, \"value\": 958}, \"960\": {\"frequency\": 2, \"value\": 960}, \"961\": {\"frequency\": 1, \"value\": 961}, \"964\": {\"frequency\": 1, \"value\": 964}, \"967\": {\"frequency\": 1, \"value\": 967}, \"968\": {\"frequency\": 1, \"value\": 968}, \"969\": {\"frequency\": 1, \"value\": 969}, \"970\": {\"frequency\": 3, \"value\": 970}, \"971\": {\"frequency\": 1, \"value\": 971}, \"972\": {\"frequency\": 1, \"value\": 972}, \"975\": {\"frequency\": 2, \"value\": 975}, \"976\": {\"frequency\": 1, \"value\": 976}, \"977\": {\"frequency\": 1, \"value\": 977}, \"978\": {\"frequency\": 1, \"value\": 978}, \"982\": {\"frequency\": 1, \"value\": 982}, \"983\": {\"frequency\": 1, \"value\": 983}, \"988\": {\"frequency\": 1, \"value\": 988}, \"989\": {\"frequency\": 1, \"value\": 989}, \"993\": {\"frequency\": 1, \"value\": 993}, \"994\": {\"frequency\": 2, \"value\": 994}, \"995\": {\"frequency\": 1, \"value\": 995}, \"999\": {\"frequency\": 1, \"value\": 999}, \"1005\": {\"frequency\": 1, \"value\": 1005}, \"1007\": {\"frequency\": 1, \"value\": 1007}, \"1008\": {\"frequency\": 3, \"value\": 1008}, \"1010\": {\"frequency\": 1, \"value\": 1010}, \"1012\": {\"frequency\": 1, \"value\": 1012}, \"1013\": {\"frequency\": 1, \"value\": 1013}, \"1017\": {\"frequency\": 1, \"value\": 1017}, \"1020\": {\"frequency\": 1, \"value\": 1020}, \"1026\": {\"frequency\": 1, \"value\": 1026}, \"1030\": {\"frequency\": 1, \"value\": 1030}, \"1032\": {\"frequency\": 1, \"value\": 1032}, \"1035\": {\"frequency\": 1, \"value\": 1035}, \"1042\": {\"frequency\": 1, \"value\": 1042}, \"1043\": {\"frequency\": 1, \"value\": 1043}, \"1045\": {\"frequency\": 1, \"value\": 1045}, \"1048\": {\"frequency\": 1, \"value\": 1048}, \"1050\": {\"frequency\": 1, \"value\": 1050}, \"1053\": {\"frequency\": 1, \"value\": 1053}, \"1055\": {\"frequency\": 2, \"value\": 1055}, \"1063\": {\"frequency\": 1, \"value\": 1063}, \"1064\": {\"frequency\": 2, \"value\": 1064}, \"1065\": {\"frequency\": 1, \"value\": 1065}, \"1072\": {\"frequency\": 1, \"value\": 1072}, \"1073\": {\"frequency\": 1, \"value\": 1073}, \"1074\": {\"frequency\": 1, \"value\": 1074}, \"1078\": {\"frequency\": 1, \"value\": 1078}, \"1079\": {\"frequency\": 1, \"value\": 1079}, \"1082\": {\"frequency\": 1, \"value\": 1082}, \"1085\": {\"frequency\": 1, \"value\": 1085}, \"1088\": {\"frequency\": 1, \"value\": 1088}, \"1090\": {\"frequency\": 1, \"value\": 1090}, \"1092\": {\"frequency\": 1, \"value\": 1092}, \"1094\": {\"frequency\": 1, \"value\": 1094}, \"1095\": {\"frequency\": 2, \"value\": 1095}, \"1097\": {\"frequency\": 1, \"value\": 1097}, \"1098\": {\"frequency\": 1, \"value\": 1098}, \"1099\": {\"frequency\": 1, \"value\": 1099}, \"1104\": {\"frequency\": 1, \"value\": 1104}, \"1107\": {\"frequency\": 1, \"value\": 1107}, \"1116\": {\"frequency\": 1, \"value\": 1116}, \"1117\": {\"frequency\": 1, \"value\": 1117}, \"1120\": {\"frequency\": 1, \"value\": 1120}, \"1121\": {\"frequency\": 1, \"value\": 1121}, \"1122\": {\"frequency\": 1, \"value\": 1122}, \"1125\": {\"frequency\": 1, \"value\": 1125}, \"1128\": {\"frequency\": 1, \"value\": 1128}, \"1129\": {\"frequency\": 1, \"value\": 1129}, \"1139\": {\"frequency\": 2, \"value\": 1139}, \"1140\": {\"frequency\": 2, \"value\": 1140}, \"1141\": {\"frequency\": 2, \"value\": 1141}, \"1143\": {\"frequency\": 1, \"value\": 1143}, \"1145\": {\"frequency\": 1, \"value\": 1145}, \"1152\": {\"frequency\": 1, \"value\": 1152}, \"1158\": {\"frequency\": 1, \"value\": 1158}, \"1163\": {\"frequency\": 1, \"value\": 1163}, \"1164\": {\"frequency\": 1, \"value\": 1164}, \"1176\": {\"frequency\": 1, \"value\": 1176}, \"1181\": {\"frequency\": 1, \"value\": 1181}, \"1184\": {\"frequency\": 1, \"value\": 1184}, \"1191\": {\"frequency\": 1, \"value\": 1191}, \"1194\": {\"frequency\": 1, \"value\": 1194}, \"1195\": {\"frequency\": 1, \"value\": 1195}, \"1198\": {\"frequency\": 1, \"value\": 1198}, \"1200\": {\"frequency\": 1, \"value\": 1200}, \"1203\": {\"frequency\": 1, \"value\": 1203}, \"1212\": {\"frequency\": 1, \"value\": 1212}, \"1217\": {\"frequency\": 1, \"value\": 1217}, \"1221\": {\"frequency\": 1, \"value\": 1221}, \"1226\": {\"frequency\": 1, \"value\": 1226}, \"1228\": {\"frequency\": 1, \"value\": 1228}, \"1232\": {\"frequency\": 2, \"value\": 1232}, \"1234\": {\"frequency\": 2, \"value\": 1234}, \"1237\": {\"frequency\": 2, \"value\": 1237}, \"1240\": {\"frequency\": 2, \"value\": 1240}, \"1249\": {\"frequency\": 1, \"value\": 1249}, \"1252\": {\"frequency\": 1, \"value\": 1252}, \"1257\": {\"frequency\": 1, \"value\": 1257}, \"1258\": {\"frequency\": 2, \"value\": 1258}, \"1264\": {\"frequency\": 1, \"value\": 1264}, \"1266\": {\"frequency\": 1, \"value\": 1266}, \"1273\": {\"frequency\": 1, \"value\": 1273}, \"1276\": {\"frequency\": 2, \"value\": 1276}, \"1284\": {\"frequency\": 1, \"value\": 1284}, \"1286\": {\"frequency\": 2, \"value\": 1286}, \"1288\": {\"frequency\": 2, \"value\": 1288}, \"1290\": {\"frequency\": 2, \"value\": 1290}, \"1293\": {\"frequency\": 1, \"value\": 1293}, \"1296\": {\"frequency\": 1, \"value\": 1296}, \"1302\": {\"frequency\": 1, \"value\": 1302}, \"1304\": {\"frequency\": 1, \"value\": 1304}, \"1307\": {\"frequency\": 1, \"value\": 1307}, \"1316\": {\"frequency\": 2, \"value\": 1316}, \"1319\": {\"frequency\": 1, \"value\": 1319}, \"1330\": {\"frequency\": 2, \"value\": 1330}, \"1335\": {\"frequency\": 1, \"value\": 1335}, \"1342\": {\"frequency\": 2, \"value\": 1342}, \"1346\": {\"frequency\": 2, \"value\": 1346}, \"1349\": {\"frequency\": 1, \"value\": 1349}, \"1351\": {\"frequency\": 1, \"value\": 1351}, \"1352\": {\"frequency\": 1, \"value\": 1352}, \"1357\": {\"frequency\": 1, \"value\": 1357}, \"1362\": {\"frequency\": 2, \"value\": 1362}, \"1367\": {\"frequency\": 1, \"value\": 1367}, \"1368\": {\"frequency\": 2, \"value\": 1368}, \"1372\": {\"frequency\": 1, \"value\": 1372}, \"1373\": {\"frequency\": 1, \"value\": 1373}, \"1374\": {\"frequency\": 1, \"value\": 1374}, \"1375\": {\"frequency\": 2, \"value\": 1375}, \"1380\": {\"frequency\": 1, \"value\": 1380}, \"1390\": {\"frequency\": 1, \"value\": 1390}, \"1392\": {\"frequency\": 1, \"value\": 1392}, \"1393\": {\"frequency\": 1, \"value\": 1393}, \"1405\": {\"frequency\": 1, \"value\": 1405}, \"1406\": {\"frequency\": 1, \"value\": 1406}, \"1410\": {\"frequency\": 1, \"value\": 1410}, \"1413\": {\"frequency\": 1, \"value\": 1413}, \"1417\": {\"frequency\": 1, \"value\": 1417}, \"1420\": {\"frequency\": 1, \"value\": 1420}, \"1422\": {\"frequency\": 1, \"value\": 1422}, \"1424\": {\"frequency\": 2, \"value\": 1424}, \"1428\": {\"frequency\": 1, \"value\": 1428}, \"1434\": {\"frequency\": 1, \"value\": 1434}, \"1436\": {\"frequency\": 1, \"value\": 1436}, \"1442\": {\"frequency\": 1, \"value\": 1442}, \"1450\": {\"frequency\": 1, \"value\": 1450}, \"1459\": {\"frequency\": 1, \"value\": 1459}, \"1468\": {\"frequency\": 2, \"value\": 1468}, \"1470\": {\"frequency\": 1, \"value\": 1470}, \"1480\": {\"frequency\": 1, \"value\": 1480}, \"1482\": {\"frequency\": 1, \"value\": 1482}, \"1489\": {\"frequency\": 2, \"value\": 1489}, \"1494\": {\"frequency\": 1, \"value\": 1494}, \"1496\": {\"frequency\": 2, \"value\": 1496}, \"1497\": {\"frequency\": 1, \"value\": 1497}, \"1498\": {\"frequency\": 2, \"value\": 1498}, \"1502\": {\"frequency\": 1, \"value\": 1502}, \"1515\": {\"frequency\": 1, \"value\": 1515}, \"1528\": {\"frequency\": 1, \"value\": 1528}, \"1530\": {\"frequency\": 2, \"value\": 1530}, \"1541\": {\"frequency\": 1, \"value\": 1541}, \"1550\": {\"frequency\": 1, \"value\": 1550}, \"1560\": {\"frequency\": 2, \"value\": 1560}, \"1566\": {\"frequency\": 1, \"value\": 1566}, \"1571\": {\"frequency\": 1, \"value\": 1571}, \"1573\": {\"frequency\": 1, \"value\": 1573}, \"1580\": {\"frequency\": 2, \"value\": 1580}, \"1584\": {\"frequency\": 2, \"value\": 1584}, \"1588\": {\"frequency\": 1, \"value\": 1588}, \"1594\": {\"frequency\": 1, \"value\": 1594}, \"1603\": {\"frequency\": 1, \"value\": 1603}, \"1616\": {\"frequency\": 1, \"value\": 1616}, \"1622\": {\"frequency\": 1, \"value\": 1622}, \"1626\": {\"frequency\": 1, \"value\": 1626}, \"1630\": {\"frequency\": 1, \"value\": 1630}, \"1632\": {\"frequency\": 2, \"value\": 1632}, \"1638\": {\"frequency\": 1, \"value\": 1638}, \"1649\": {\"frequency\": 1, \"value\": 1649}, \"1652\": {\"frequency\": 1, \"value\": 1652}, \"1656\": {\"frequency\": 2, \"value\": 1656}, \"1670\": {\"frequency\": 1, \"value\": 1670}, \"1680\": {\"frequency\": 1, \"value\": 1680}, \"1686\": {\"frequency\": 1, \"value\": 1686}, \"1689\": {\"frequency\": 1, \"value\": 1689}, \"1694\": {\"frequency\": 2, \"value\": 1694}, \"1709\": {\"frequency\": 1, \"value\": 1709}, \"1710\": {\"frequency\": 1, \"value\": 1710}, \"288\": {\"frequency\": 3, \"value\": 288}, \"1734\": {\"frequency\": 1, \"value\": 1734}, \"1752\": {\"frequency\": 1, \"value\": 1752}, \"1753\": {\"frequency\": 2, \"value\": 1753}, \"1768\": {\"frequency\": 1, \"value\": 1768}, \"1774\": {\"frequency\": 1, \"value\": 1774}, \"1777\": {\"frequency\": 1, \"value\": 1777}, \"1795\": {\"frequency\": 1, \"value\": 1795}, \"1800\": {\"frequency\": 2, \"value\": 1800}, \"1836\": {\"frequency\": 1, \"value\": 1836}, \"1869\": {\"frequency\": 1, \"value\": 1869}, \"1905\": {\"frequency\": 1, \"value\": 1905}, \"1907\": {\"frequency\": 1, \"value\": 1907}, \"1926\": {\"frequency\": 1, \"value\": 1926}, \"1935\": {\"frequency\": 1, \"value\": 1935}, \"1969\": {\"frequency\": 1, \"value\": 1969}, \"2002\": {\"frequency\": 1, \"value\": 2002}, \"2042\": {\"frequency\": 1, \"value\": 2042}, \"2046\": {\"frequency\": 1, \"value\": 2046}}, \"mean\": 567.2404109589039}, \"1stFlrSF\": {\"std\": 386.4553223022896, \"complete\": true, \"min\": 334.0, \"max\": 4692.0, \"quantile\": [334.0, 520.0, 581.0, 625.0, 660.0, 676.0, 694.0, 708.0, 728.0, 742.0, 757.0, 768.0, 778.0, 788.0, 796.0, 804.0, 811.0, 820.0, 832.0, 841.0, 848.0, 856.0, 864.0, 864.0, 872.0, 882.0, 892.0, 894.0, 902.0, 912.0, 916.0, 926.0, 936.0, 944.0, 954.0, 960.0, 966.0, 976.0, 983.0, 990.0, 1001.0, 1006.0, 1022.0, 1032.0, 1040.0, 1048.0, 1054.0, 1060.0, 1069.0, 1079.0, 1088.0, 1095.0, 1104.0, 1116.0, 1125.0, 1133.0, 1142.0, 1148.0, 1159.0, 1167.0, 1182.0, 1196.0, 1211.0, 1220.0, 1229.0, 1244.0, 1258.0, 1269.0, 1288.0, 1302.0, 1314.0, 1328.0, 1342.0, 1360.0, 1372.0, 1392.0, 1416.0, 1431.0, 1444.0, 1466.0, 1484.0, 1496.0, 1509.0, 1533.0, 1554.0, 1573.0, 1593.0, 1620.0, 1640.0, 1657.0, 1680.0, 1696.0, 1717.0, 1733.0, 1787.0, 1836.0, 1888.0, 1987.0, 2073.0, 2223.0, 4692.0], \"median\": 1088.0, \"numeric\": true, \"num_unique\": 755, \"num_undefined\": 0, \"var\": 149347.71613576653, \"progress\": 1.0, \"size\": 1460, \"frequent_items\": {\"2053\": {\"frequency\": 1, \"value\": 2053}, \"2069\": {\"frequency\": 2, \"value\": 2069}, \"2073\": {\"frequency\": 1, \"value\": 2073}, \"2076\": {\"frequency\": 1, \"value\": 2076}, \"2084\": {\"frequency\": 1, \"value\": 2084}, \"2097\": {\"frequency\": 1, \"value\": 2097}, \"2110\": {\"frequency\": 1, \"value\": 2110}, \"2113\": {\"frequency\": 1, \"value\": 2113}, \"2117\": {\"frequency\": 1, \"value\": 2117}, \"2121\": {\"frequency\": 1, \"value\": 2121}, \"2129\": {\"frequency\": 1, \"value\": 2129}, \"2136\": {\"frequency\": 1, \"value\": 2136}, \"2156\": {\"frequency\": 1, \"value\": 2156}, \"2158\": {\"frequency\": 1, \"value\": 2158}, \"2196\": {\"frequency\": 1, \"value\": 2196}, \"2207\": {\"frequency\": 1, \"value\": 2207}, \"2217\": {\"frequency\": 1, \"value\": 2217}, \"2223\": {\"frequency\": 1, \"value\": 2223}, \"2234\": {\"frequency\": 1, \"value\": 2234}, \"2259\": {\"frequency\": 1, \"value\": 2259}, \"2364\": {\"frequency\": 1, \"value\": 2364}, \"334\": {\"frequency\": 1, \"value\": 334}, \"2392\": {\"frequency\": 1, \"value\": 2392}, \"2402\": {\"frequency\": 1, \"value\": 2402}, \"2411\": {\"frequency\": 1, \"value\": 2411}, \"372\": {\"frequency\": 1, \"value\": 372}, \"2444\": {\"frequency\": 1, \"value\": 2444}, \"1090\": {\"frequency\": 1, \"value\": 1090}, \"438\": {\"frequency\": 1, \"value\": 438}, \"2515\": {\"frequency\": 1, \"value\": 2515}, \"2524\": {\"frequency\": 1, \"value\": 2524}, \"480\": {\"frequency\": 1, \"value\": 480}, \"483\": {\"frequency\": 7, \"value\": 483}, \"495\": {\"frequency\": 1, \"value\": 495}, \"520\": {\"frequency\": 5, \"value\": 520}, \"525\": {\"frequency\": 1, \"value\": 525}, \"526\": {\"frequency\": 1, \"value\": 526}, \"536\": {\"frequency\": 1, \"value\": 536}, \"546\": {\"frequency\": 3, \"value\": 546}, \"551\": {\"frequency\": 1, \"value\": 551}, \"561\": {\"frequency\": 1, \"value\": 561}, \"572\": {\"frequency\": 2, \"value\": 572}, \"575\": {\"frequency\": 1, \"value\": 575}, \"576\": {\"frequency\": 1, \"value\": 576}, \"581\": {\"frequency\": 1, \"value\": 581}, \"2633\": {\"frequency\": 1, \"value\": 2633}, \"596\": {\"frequency\": 1, \"value\": 596}, \"600\": {\"frequency\": 2, \"value\": 600}, \"605\": {\"frequency\": 1, \"value\": 605}, \"612\": {\"frequency\": 2, \"value\": 612}, \"616\": {\"frequency\": 5, \"value\": 616}, \"624\": {\"frequency\": 2, \"value\": 624}, \"625\": {\"frequency\": 2, \"value\": 625}, \"626\": {\"frequency\": 1, \"value\": 626}, \"630\": {\"frequency\": 9, \"value\": 630}, \"649\": {\"frequency\": 1, \"value\": 649}, \"658\": {\"frequency\": 1, \"value\": 658}, \"660\": {\"frequency\": 2, \"value\": 660}, \"661\": {\"frequency\": 1, \"value\": 661}, \"663\": {\"frequency\": 1, \"value\": 663}, \"664\": {\"frequency\": 1, \"value\": 664}, \"672\": {\"frequency\": 11, \"value\": 672}, \"673\": {\"frequency\": 1, \"value\": 673}, \"676\": {\"frequency\": 1, \"value\": 676}, \"679\": {\"frequency\": 1, \"value\": 679}, \"680\": {\"frequency\": 1, \"value\": 680}, \"682\": {\"frequency\": 1, \"value\": 682}, \"684\": {\"frequency\": 3, \"value\": 684}, \"686\": {\"frequency\": 1, \"value\": 686}, \"689\": {\"frequency\": 2, \"value\": 689}, \"691\": {\"frequency\": 2, \"value\": 691}, \"693\": {\"frequency\": 1, \"value\": 693}, \"694\": {\"frequency\": 3, \"value\": 694}, \"696\": {\"frequency\": 1, \"value\": 696}, \"697\": {\"frequency\": 2, \"value\": 697}, \"698\": {\"frequency\": 5, \"value\": 698}, \"702\": {\"frequency\": 1, \"value\": 702}, \"703\": {\"frequency\": 1, \"value\": 703}, \"707\": {\"frequency\": 2, \"value\": 707}, \"708\": {\"frequency\": 2, \"value\": 708}, \"713\": {\"frequency\": 1, \"value\": 713}, \"716\": {\"frequency\": 2, \"value\": 716}, \"720\": {\"frequency\": 6, \"value\": 720}, \"725\": {\"frequency\": 2, \"value\": 725}, \"728\": {\"frequency\": 6, \"value\": 728}, \"729\": {\"frequency\": 3, \"value\": 729}, \"734\": {\"frequency\": 2, \"value\": 734}, \"735\": {\"frequency\": 2, \"value\": 735}, \"736\": {\"frequency\": 1, \"value\": 736}, \"738\": {\"frequency\": 1, \"value\": 738}, \"741\": {\"frequency\": 1, \"value\": 741}, \"742\": {\"frequency\": 3, \"value\": 742}, \"747\": {\"frequency\": 2, \"value\": 747}, \"750\": {\"frequency\": 1, \"value\": 750}, \"751\": {\"frequency\": 1, \"value\": 751}, \"752\": {\"frequency\": 1, \"value\": 752}, \"753\": {\"frequency\": 1, \"value\": 753}, \"754\": {\"frequency\": 1, \"value\": 754}, \"755\": {\"frequency\": 1, \"value\": 755}, \"756\": {\"frequency\": 4, \"value\": 756}, \"757\": {\"frequency\": 2, \"value\": 757}, \"760\": {\"frequency\": 1, \"value\": 760}, \"764\": {\"frequency\": 6, \"value\": 764}, \"765\": {\"frequency\": 2, \"value\": 765}, \"767\": {\"frequency\": 1, \"value\": 767}, \"768\": {\"frequency\": 5, \"value\": 768}, \"769\": {\"frequency\": 2, \"value\": 769}, \"770\": {\"frequency\": 1, \"value\": 770}, \"772\": {\"frequency\": 1, \"value\": 772}, \"773\": {\"frequency\": 3, \"value\": 773}, \"774\": {\"frequency\": 5, \"value\": 774}, \"778\": {\"frequency\": 2, \"value\": 778}, \"779\": {\"frequency\": 2, \"value\": 779}, \"780\": {\"frequency\": 5, \"value\": 780}, \"783\": {\"frequency\": 1, \"value\": 783}, \"784\": {\"frequency\": 2, \"value\": 784}, \"786\": {\"frequency\": 2, \"value\": 786}, \"788\": {\"frequency\": 2, \"value\": 788}, \"789\": {\"frequency\": 2, \"value\": 789}, \"790\": {\"frequency\": 2, \"value\": 790}, \"792\": {\"frequency\": 3, \"value\": 792}, \"793\": {\"frequency\": 1, \"value\": 793}, \"794\": {\"frequency\": 1, \"value\": 794}, \"796\": {\"frequency\": 5, \"value\": 796}, \"798\": {\"frequency\": 5, \"value\": 798}, \"799\": {\"frequency\": 1, \"value\": 799}, \"800\": {\"frequency\": 2, \"value\": 800}, \"802\": {\"frequency\": 2, \"value\": 802}, \"803\": {\"frequency\": 2, \"value\": 803}, \"804\": {\"frequency\": 5, \"value\": 804}, \"806\": {\"frequency\": 1, \"value\": 806}, \"807\": {\"frequency\": 2, \"value\": 807}, \"808\": {\"frequency\": 3, \"value\": 808}, \"810\": {\"frequency\": 4, \"value\": 810}, \"811\": {\"frequency\": 2, \"value\": 811}, \"812\": {\"frequency\": 1, \"value\": 812}, \"813\": {\"frequency\": 1, \"value\": 813}, \"814\": {\"frequency\": 1, \"value\": 814}, \"815\": {\"frequency\": 1, \"value\": 815}, \"816\": {\"frequency\": 9, \"value\": 816}, \"818\": {\"frequency\": 1, \"value\": 818}, \"820\": {\"frequency\": 2, \"value\": 820}, \"822\": {\"frequency\": 1, \"value\": 822}, \"824\": {\"frequency\": 1, \"value\": 824}, \"825\": {\"frequency\": 2, \"value\": 825}, \"827\": {\"frequency\": 2, \"value\": 827}, \"829\": {\"frequency\": 1, \"value\": 829}, \"831\": {\"frequency\": 1, \"value\": 831}, \"832\": {\"frequency\": 7, \"value\": 832}, \"833\": {\"frequency\": 3, \"value\": 833}, \"835\": {\"frequency\": 1, \"value\": 835}, \"838\": {\"frequency\": 1, \"value\": 838}, \"840\": {\"frequency\": 6, \"value\": 840}, \"841\": {\"frequency\": 2, \"value\": 841}, \"842\": {\"frequency\": 1, \"value\": 842}, \"845\": {\"frequency\": 2, \"value\": 845}, \"846\": {\"frequency\": 1, \"value\": 846}, \"847\": {\"frequency\": 4, \"value\": 847}, \"848\": {\"frequency\": 12, \"value\": 848}, \"849\": {\"frequency\": 1, \"value\": 849}, \"2898\": {\"frequency\": 1, \"value\": 2898}, \"851\": {\"frequency\": 1, \"value\": 851}, \"854\": {\"frequency\": 2, \"value\": 854}, \"855\": {\"frequency\": 4, \"value\": 855}, \"856\": {\"frequency\": 1, \"value\": 856}, \"858\": {\"frequency\": 5, \"value\": 858}, \"859\": {\"frequency\": 1, \"value\": 859}, \"860\": {\"frequency\": 4, \"value\": 860}, \"861\": {\"frequency\": 1, \"value\": 861}, \"864\": {\"frequency\": 25, \"value\": 864}, \"865\": {\"frequency\": 1, \"value\": 865}, \"866\": {\"frequency\": 4, \"value\": 866}, \"869\": {\"frequency\": 2, \"value\": 869}, \"872\": {\"frequency\": 2, \"value\": 872}, \"874\": {\"frequency\": 3, \"value\": 874}, \"875\": {\"frequency\": 1, \"value\": 875}, \"876\": {\"frequency\": 2, \"value\": 876}, \"877\": {\"frequency\": 1, \"value\": 877}, \"879\": {\"frequency\": 1, \"value\": 879}, \"880\": {\"frequency\": 2, \"value\": 880}, \"882\": {\"frequency\": 6, \"value\": 882}, \"884\": {\"frequency\": 4, \"value\": 884}, \"885\": {\"frequency\": 1, \"value\": 885}, \"886\": {\"frequency\": 1, \"value\": 886}, \"887\": {\"frequency\": 1, \"value\": 887}, \"888\": {\"frequency\": 3, \"value\": 888}, \"889\": {\"frequency\": 1, \"value\": 889}, \"892\": {\"frequency\": 4, \"value\": 892}, \"893\": {\"frequency\": 1, \"value\": 893}, \"894\": {\"frequency\": 12, \"value\": 894}, \"896\": {\"frequency\": 2, \"value\": 896}, \"897\": {\"frequency\": 1, \"value\": 897}, \"899\": {\"frequency\": 1, \"value\": 899}, \"900\": {\"frequency\": 4, \"value\": 900}, \"901\": {\"frequency\": 3, \"value\": 901}, \"902\": {\"frequency\": 4, \"value\": 902}, \"904\": {\"frequency\": 3, \"value\": 904}, \"905\": {\"frequency\": 1, \"value\": 905}, \"907\": {\"frequency\": 1, \"value\": 907}, \"908\": {\"frequency\": 1, \"value\": 908}, \"909\": {\"frequency\": 1, \"value\": 909}, \"910\": {\"frequency\": 3, \"value\": 910}, \"912\": {\"frequency\": 14, \"value\": 912}, \"913\": {\"frequency\": 1, \"value\": 913}, \"914\": {\"frequency\": 1, \"value\": 914}, \"915\": {\"frequency\": 1, \"value\": 915}, \"916\": {\"frequency\": 3, \"value\": 916}, \"918\": {\"frequency\": 3, \"value\": 918}, \"920\": {\"frequency\": 2, \"value\": 920}, \"923\": {\"frequency\": 2, \"value\": 923}, \"924\": {\"frequency\": 1, \"value\": 924}, \"925\": {\"frequency\": 2, \"value\": 925}, \"926\": {\"frequency\": 2, \"value\": 926}, \"927\": {\"frequency\": 1, \"value\": 927}, \"928\": {\"frequency\": 4, \"value\": 928}, \"929\": {\"frequency\": 1, \"value\": 929}, \"930\": {\"frequency\": 1, \"value\": 930}, \"932\": {\"frequency\": 2, \"value\": 932}, \"933\": {\"frequency\": 1, \"value\": 933}, \"935\": {\"frequency\": 1, \"value\": 935}, \"936\": {\"frequency\": 7, \"value\": 936}, \"3228\": {\"frequency\": 1, \"value\": 3228}, \"938\": {\"frequency\": 2, \"value\": 938}, \"939\": {\"frequency\": 2, \"value\": 939}, \"941\": {\"frequency\": 1, \"value\": 941}, \"943\": {\"frequency\": 3, \"value\": 943}, \"944\": {\"frequency\": 3, \"value\": 944}, \"948\": {\"frequency\": 5, \"value\": 948}, \"949\": {\"frequency\": 1, \"value\": 949}, \"950\": {\"frequency\": 2, \"value\": 950}, \"951\": {\"frequency\": 1, \"value\": 951}, \"952\": {\"frequency\": 4, \"value\": 952}, \"953\": {\"frequency\": 2, \"value\": 953}, \"954\": {\"frequency\": 3, \"value\": 954}, \"955\": {\"frequency\": 2, \"value\": 955}, \"956\": {\"frequency\": 2, \"value\": 956}, \"958\": {\"frequency\": 5, \"value\": 958}, \"959\": {\"frequency\": 2, \"value\": 959}, \"960\": {\"frequency\": 7, \"value\": 960}, \"961\": {\"frequency\": 2, \"value\": 961}, \"962\": {\"frequency\": 1, \"value\": 962}, \"963\": {\"frequency\": 1, \"value\": 963}, \"964\": {\"frequency\": 2, \"value\": 964}, \"965\": {\"frequency\": 1, \"value\": 965}, \"966\": {\"frequency\": 1, \"value\": 966}, \"968\": {\"frequency\": 3, \"value\": 968}, \"969\": {\"frequency\": 1, \"value\": 969}, \"970\": {\"frequency\": 4, \"value\": 970}, \"971\": {\"frequency\": 1, \"value\": 971}, \"972\": {\"frequency\": 2, \"value\": 972}, \"974\": {\"frequency\": 1, \"value\": 974}, \"975\": {\"frequency\": 1, \"value\": 975}, \"976\": {\"frequency\": 3, \"value\": 976}, \"977\": {\"frequency\": 1, \"value\": 977}, \"979\": {\"frequency\": 3, \"value\": 979}, \"980\": {\"frequency\": 5, \"value\": 980}, \"981\": {\"frequency\": 2, \"value\": 981}, \"983\": {\"frequency\": 3, \"value\": 983}, \"984\": {\"frequency\": 1, \"value\": 984}, \"985\": {\"frequency\": 1, \"value\": 985}, \"986\": {\"frequency\": 1, \"value\": 986}, \"988\": {\"frequency\": 5, \"value\": 988}, \"989\": {\"frequency\": 1, \"value\": 989}, \"990\": {\"frequency\": 6, \"value\": 990}, \"991\": {\"frequency\": 1, \"value\": 991}, \"992\": {\"frequency\": 1, \"value\": 992}, \"993\": {\"frequency\": 2, \"value\": 993}, \"996\": {\"frequency\": 2, \"value\": 996}, \"997\": {\"frequency\": 3, \"value\": 997}, \"998\": {\"frequency\": 1, \"value\": 998}, \"999\": {\"frequency\": 3, \"value\": 999}, \"1001\": {\"frequency\": 2, \"value\": 1001}, \"1002\": {\"frequency\": 2, \"value\": 1002}, \"1003\": {\"frequency\": 1, \"value\": 1003}, \"1004\": {\"frequency\": 4, \"value\": 1004}, \"1005\": {\"frequency\": 3, \"value\": 1005}, \"1006\": {\"frequency\": 3, \"value\": 1006}, \"1007\": {\"frequency\": 1, \"value\": 1007}, \"1008\": {\"frequency\": 3, \"value\": 1008}, \"1010\": {\"frequency\": 1, \"value\": 1010}, \"1012\": {\"frequency\": 2, \"value\": 1012}, \"1013\": {\"frequency\": 1, \"value\": 1013}, \"1014\": {\"frequency\": 2, \"value\": 1014}, \"1015\": {\"frequency\": 1, \"value\": 1015}, \"1020\": {\"frequency\": 2, \"value\": 1020}, \"1021\": {\"frequency\": 1, \"value\": 1021}, \"1022\": {\"frequency\": 4, \"value\": 1022}, \"1024\": {\"frequency\": 1, \"value\": 1024}, \"1026\": {\"frequency\": 5, \"value\": 1026}, \"1028\": {\"frequency\": 2, \"value\": 1028}, \"1029\": {\"frequency\": 1, \"value\": 1029}, \"1032\": {\"frequency\": 3, \"value\": 1032}, \"1034\": {\"frequency\": 1, \"value\": 1034}, \"1035\": {\"frequency\": 1, \"value\": 1035}, \"1036\": {\"frequency\": 1, \"value\": 1036}, \"1038\": {\"frequency\": 1, \"value\": 1038}, \"1039\": {\"frequency\": 1, \"value\": 1039}, \"1040\": {\"frequency\": 16, \"value\": 1040}, \"1041\": {\"frequency\": 2, \"value\": 1041}, \"1042\": {\"frequency\": 1, \"value\": 1042}, \"1044\": {\"frequency\": 1, \"value\": 1044}, \"1047\": {\"frequency\": 1, \"value\": 1047}, \"1048\": {\"frequency\": 4, \"value\": 1048}, \"1050\": {\"frequency\": 4, \"value\": 1050}, \"1051\": {\"frequency\": 1, \"value\": 1051}, \"1052\": {\"frequency\": 3, \"value\": 1052}, \"1053\": {\"frequency\": 4, \"value\": 1053}, \"1054\": {\"frequency\": 2, \"value\": 1054}, \"1055\": {\"frequency\": 2, \"value\": 1055}, \"1056\": {\"frequency\": 6, \"value\": 1056}, \"1057\": {\"frequency\": 4, \"value\": 1057}, \"1058\": {\"frequency\": 1, \"value\": 1058}, \"1060\": {\"frequency\": 3, \"value\": 1060}, \"1061\": {\"frequency\": 1, \"value\": 1061}, \"1062\": {\"frequency\": 2, \"value\": 1062}, \"1063\": {\"frequency\": 1, \"value\": 1063}, \"1064\": {\"frequency\": 1, \"value\": 1064}, \"1065\": {\"frequency\": 2, \"value\": 1065}, \"1067\": {\"frequency\": 2, \"value\": 1067}, \"1068\": {\"frequency\": 1, \"value\": 1068}, \"1069\": {\"frequency\": 2, \"value\": 1069}, \"1071\": {\"frequency\": 1, \"value\": 1071}, \"1072\": {\"frequency\": 5, \"value\": 1072}, \"1073\": {\"frequency\": 2, \"value\": 1073}, \"1074\": {\"frequency\": 1, \"value\": 1074}, \"1075\": {\"frequency\": 1, \"value\": 1075}, \"1077\": {\"frequency\": 3, \"value\": 1077}, \"1078\": {\"frequency\": 2, \"value\": 1078}, \"1079\": {\"frequency\": 2, \"value\": 1079}, \"1080\": {\"frequency\": 5, \"value\": 1080}, \"1082\": {\"frequency\": 2, \"value\": 1082}, \"1085\": {\"frequency\": 1, \"value\": 1085}, \"1086\": {\"frequency\": 4, \"value\": 1086}, \"1088\": {\"frequency\": 5, \"value\": 1088}, \"1089\": {\"frequency\": 1, \"value\": 1089}, \"3138\": {\"frequency\": 1, \"value\": 3138}, \"1091\": {\"frequency\": 1, \"value\": 1091}, \"1092\": {\"frequency\": 4, \"value\": 1092}, \"1094\": {\"frequency\": 2, \"value\": 1094}, \"1095\": {\"frequency\": 3, \"value\": 1095}, \"1096\": {\"frequency\": 3, \"value\": 1096}, \"1097\": {\"frequency\": 3, \"value\": 1097}, \"1098\": {\"frequency\": 3, \"value\": 1098}, \"1099\": {\"frequency\": 1, \"value\": 1099}, \"1100\": {\"frequency\": 1, \"value\": 1100}, \"1103\": {\"frequency\": 1, \"value\": 1103}, \"1104\": {\"frequency\": 1, \"value\": 1104}, \"1105\": {\"frequency\": 1, \"value\": 1105}, \"1107\": {\"frequency\": 1, \"value\": 1107}, \"1108\": {\"frequency\": 2, \"value\": 1108}, \"1110\": {\"frequency\": 1, \"value\": 1110}, \"1112\": {\"frequency\": 3, \"value\": 1112}, \"1113\": {\"frequency\": 3, \"value\": 1113}, \"1114\": {\"frequency\": 2, \"value\": 1114}, \"1116\": {\"frequency\": 1, \"value\": 1116}, \"1117\": {\"frequency\": 1, \"value\": 1117}, \"1118\": {\"frequency\": 2, \"value\": 1118}, \"1120\": {\"frequency\": 5, \"value\": 1120}, \"1121\": {\"frequency\": 2, \"value\": 1121}, \"1122\": {\"frequency\": 2, \"value\": 1122}, \"1124\": {\"frequency\": 1, \"value\": 1124}, \"1125\": {\"frequency\": 2, \"value\": 1125}, \"1126\": {\"frequency\": 3, \"value\": 1126}, \"1127\": {\"frequency\": 2, \"value\": 1127}, \"1128\": {\"frequency\": 4, \"value\": 1128}, \"1130\": {\"frequency\": 2, \"value\": 1130}, \"1131\": {\"frequency\": 1, \"value\": 1131}, \"1132\": {\"frequency\": 2, \"value\": 1132}, \"1133\": {\"frequency\": 2, \"value\": 1133}, \"1134\": {\"frequency\": 3, \"value\": 1134}, \"1136\": {\"frequency\": 4, \"value\": 1136}, \"1137\": {\"frequency\": 2, \"value\": 1137}, \"1138\": {\"frequency\": 1, \"value\": 1138}, \"1140\": {\"frequency\": 2, \"value\": 1140}, \"1141\": {\"frequency\": 1, \"value\": 1141}, \"1142\": {\"frequency\": 3, \"value\": 1142}, \"1143\": {\"frequency\": 1, \"value\": 1143}, \"1144\": {\"frequency\": 5, \"value\": 1144}, \"1145\": {\"frequency\": 2, \"value\": 1145}, \"1146\": {\"frequency\": 1, \"value\": 1146}, \"1148\": {\"frequency\": 3, \"value\": 1148}, \"1149\": {\"frequency\": 2, \"value\": 1149}, \"1150\": {\"frequency\": 1, \"value\": 1150}, \"1152\": {\"frequency\": 3, \"value\": 1152}, \"1153\": {\"frequency\": 2, \"value\": 1153}, \"1154\": {\"frequency\": 1, \"value\": 1154}, \"1155\": {\"frequency\": 1, \"value\": 1155}, \"1156\": {\"frequency\": 1, \"value\": 1156}, \"1158\": {\"frequency\": 2, \"value\": 1158}, \"1159\": {\"frequency\": 1, \"value\": 1159}, \"1160\": {\"frequency\": 2, \"value\": 1160}, \"1161\": {\"frequency\": 1, \"value\": 1161}, \"1163\": {\"frequency\": 2, \"value\": 1163}, \"1164\": {\"frequency\": 4, \"value\": 1164}, \"1165\": {\"frequency\": 2, \"value\": 1165}, \"1166\": {\"frequency\": 3, \"value\": 1166}, \"1167\": {\"frequency\": 2, \"value\": 1167}, \"1168\": {\"frequency\": 2, \"value\": 1168}, \"1170\": {\"frequency\": 1, \"value\": 1170}, \"1172\": {\"frequency\": 1, \"value\": 1172}, \"1173\": {\"frequency\": 1, \"value\": 1173}, \"1175\": {\"frequency\": 2, \"value\": 1175}, \"1178\": {\"frequency\": 2, \"value\": 1178}, \"1180\": {\"frequency\": 2, \"value\": 1180}, \"1181\": {\"frequency\": 1, \"value\": 1181}, \"1182\": {\"frequency\": 2, \"value\": 1182}, \"1184\": {\"frequency\": 1, \"value\": 1184}, \"1186\": {\"frequency\": 1, \"value\": 1186}, \"1187\": {\"frequency\": 1, \"value\": 1187}, \"1188\": {\"frequency\": 4, \"value\": 1188}, \"1190\": {\"frequency\": 2, \"value\": 1190}, \"1192\": {\"frequency\": 1, \"value\": 1192}, \"1194\": {\"frequency\": 2, \"value\": 1194}, \"1195\": {\"frequency\": 1, \"value\": 1195}, \"1196\": {\"frequency\": 2, \"value\": 1196}, \"1199\": {\"frequency\": 1, \"value\": 1199}, \"1200\": {\"frequency\": 5, \"value\": 1200}, \"1203\": {\"frequency\": 1, \"value\": 1203}, \"1204\": {\"frequency\": 1, \"value\": 1204}, \"1207\": {\"frequency\": 1, \"value\": 1207}, \"1208\": {\"frequency\": 3, \"value\": 1208}, \"1210\": {\"frequency\": 1, \"value\": 1210}, \"1211\": {\"frequency\": 1, \"value\": 1211}, \"1212\": {\"frequency\": 3, \"value\": 1212}, \"1214\": {\"frequency\": 3, \"value\": 1214}, \"1215\": {\"frequency\": 1, \"value\": 1215}, \"1216\": {\"frequency\": 3, \"value\": 1216}, \"1217\": {\"frequency\": 1, \"value\": 1217}, \"1218\": {\"frequency\": 1, \"value\": 1218}, \"1220\": {\"frequency\": 3, \"value\": 1220}, \"1221\": {\"frequency\": 2, \"value\": 1221}, \"1222\": {\"frequency\": 2, \"value\": 1222}, \"1223\": {\"frequency\": 1, \"value\": 1223}, \"1224\": {\"frequency\": 3, \"value\": 1224}, \"1225\": {\"frequency\": 1, \"value\": 1225}, \"1226\": {\"frequency\": 2, \"value\": 1226}, \"1228\": {\"frequency\": 2, \"value\": 1228}, \"1229\": {\"frequency\": 1, \"value\": 1229}, \"1232\": {\"frequency\": 2, \"value\": 1232}, \"1234\": {\"frequency\": 2, \"value\": 1234}, \"1235\": {\"frequency\": 1, \"value\": 1235}, \"1236\": {\"frequency\": 5, \"value\": 1236}, \"1238\": {\"frequency\": 1, \"value\": 1238}, \"1240\": {\"frequency\": 1, \"value\": 1240}, \"1241\": {\"frequency\": 1, \"value\": 1241}, \"1242\": {\"frequency\": 1, \"value\": 1242}, \"1244\": {\"frequency\": 1, \"value\": 1244}, \"1246\": {\"frequency\": 2, \"value\": 1246}, \"1247\": {\"frequency\": 1, \"value\": 1247}, \"1248\": {\"frequency\": 1, \"value\": 1248}, \"1249\": {\"frequency\": 1, \"value\": 1249}, \"1251\": {\"frequency\": 1, \"value\": 1251}, \"1252\": {\"frequency\": 3, \"value\": 1252}, \"1253\": {\"frequency\": 2, \"value\": 1253}, \"1256\": {\"frequency\": 1, \"value\": 1256}, \"1258\": {\"frequency\": 3, \"value\": 1258}, \"1260\": {\"frequency\": 1, \"value\": 1260}, \"1261\": {\"frequency\": 1, \"value\": 1261}, \"1262\": {\"frequency\": 2, \"value\": 1262}, \"1264\": {\"frequency\": 2, \"value\": 1264}, \"1265\": {\"frequency\": 1, \"value\": 1265}, \"1266\": {\"frequency\": 2, \"value\": 1266}, \"1268\": {\"frequency\": 3, \"value\": 1268}, \"1269\": {\"frequency\": 2, \"value\": 1269}, \"1272\": {\"frequency\": 1, \"value\": 1272}, \"1274\": {\"frequency\": 1, \"value\": 1274}, \"1276\": {\"frequency\": 3, \"value\": 1276}, \"1277\": {\"frequency\": 2, \"value\": 1277}, \"1279\": {\"frequency\": 1, \"value\": 1279}, \"1281\": {\"frequency\": 1, \"value\": 1281}, \"1282\": {\"frequency\": 1, \"value\": 1282}, \"1283\": {\"frequency\": 1, \"value\": 1283}, \"1284\": {\"frequency\": 1, \"value\": 1284}, \"1285\": {\"frequency\": 1, \"value\": 1285}, \"1287\": {\"frequency\": 1, \"value\": 1287}, \"1288\": {\"frequency\": 1, \"value\": 1288}, \"1291\": {\"frequency\": 2, \"value\": 1291}, \"1294\": {\"frequency\": 2, \"value\": 1294}, \"1296\": {\"frequency\": 2, \"value\": 1296}, \"1297\": {\"frequency\": 1, \"value\": 1297}, \"1298\": {\"frequency\": 2, \"value\": 1298}, \"1299\": {\"frequency\": 1, \"value\": 1299}, \"1301\": {\"frequency\": 3, \"value\": 1301}, \"1302\": {\"frequency\": 3, \"value\": 1302}, \"1304\": {\"frequency\": 1, \"value\": 1304}, \"1306\": {\"frequency\": 4, \"value\": 1306}, \"1307\": {\"frequency\": 1, \"value\": 1307}, \"1309\": {\"frequency\": 1, \"value\": 1309}, \"1310\": {\"frequency\": 2, \"value\": 1310}, \"1314\": {\"frequency\": 5, \"value\": 1314}, \"1316\": {\"frequency\": 2, \"value\": 1316}, \"1318\": {\"frequency\": 1, \"value\": 1318}, \"1319\": {\"frequency\": 1, \"value\": 1319}, \"1320\": {\"frequency\": 2, \"value\": 1320}, \"1324\": {\"frequency\": 2, \"value\": 1324}, \"1325\": {\"frequency\": 1, \"value\": 1325}, \"1327\": {\"frequency\": 1, \"value\": 1327}, \"1328\": {\"frequency\": 4, \"value\": 1328}, \"1332\": {\"frequency\": 1, \"value\": 1332}, \"1334\": {\"frequency\": 1, \"value\": 1334}, \"1336\": {\"frequency\": 1, \"value\": 1336}, \"1337\": {\"frequency\": 4, \"value\": 1337}, \"1338\": {\"frequency\": 2, \"value\": 1338}, \"1339\": {\"frequency\": 2, \"value\": 1339}, \"1340\": {\"frequency\": 2, \"value\": 1340}, \"1342\": {\"frequency\": 1, \"value\": 1342}, \"1344\": {\"frequency\": 3, \"value\": 1344}, \"1349\": {\"frequency\": 1, \"value\": 1349}, \"1350\": {\"frequency\": 2, \"value\": 1350}, \"1352\": {\"frequency\": 3, \"value\": 1352}, \"1357\": {\"frequency\": 1, \"value\": 1357}, \"1358\": {\"frequency\": 2, \"value\": 1358}, \"1360\": {\"frequency\": 3, \"value\": 1360}, \"1361\": {\"frequency\": 1, \"value\": 1361}, \"1362\": {\"frequency\": 3, \"value\": 1362}, \"1363\": {\"frequency\": 2, \"value\": 1363}, \"1364\": {\"frequency\": 1, \"value\": 1364}, \"1368\": {\"frequency\": 2, \"value\": 1368}, \"1370\": {\"frequency\": 3, \"value\": 1370}, \"1372\": {\"frequency\": 2, \"value\": 1372}, \"1375\": {\"frequency\": 1, \"value\": 1375}, \"1377\": {\"frequency\": 1, \"value\": 1377}, \"1378\": {\"frequency\": 2, \"value\": 1378}, \"1381\": {\"frequency\": 1, \"value\": 1381}, \"1382\": {\"frequency\": 2, \"value\": 1382}, \"1383\": {\"frequency\": 3, \"value\": 1383}, \"1389\": {\"frequency\": 1, \"value\": 1389}, \"1390\": {\"frequency\": 1, \"value\": 1390}, \"1391\": {\"frequency\": 2, \"value\": 1391}, \"1392\": {\"frequency\": 5, \"value\": 1392}, \"1394\": {\"frequency\": 1, \"value\": 1394}, \"1402\": {\"frequency\": 1, \"value\": 1402}, \"1405\": {\"frequency\": 1, \"value\": 1405}, \"1407\": {\"frequency\": 1, \"value\": 1407}, \"1411\": {\"frequency\": 1, \"value\": 1411}, \"1412\": {\"frequency\": 1, \"value\": 1412}, \"1414\": {\"frequency\": 3, \"value\": 1414}, \"1416\": {\"frequency\": 1, \"value\": 1416}, \"1419\": {\"frequency\": 1, \"value\": 1419}, \"1422\": {\"frequency\": 5, \"value\": 1422}, \"1423\": {\"frequency\": 1, \"value\": 1423}, \"1425\": {\"frequency\": 1, \"value\": 1425}, \"1426\": {\"frequency\": 1, \"value\": 1426}, \"1428\": {\"frequency\": 2, \"value\": 1428}, \"1429\": {\"frequency\": 1, \"value\": 1429}, \"1430\": {\"frequency\": 1, \"value\": 1430}, \"1431\": {\"frequency\": 2, \"value\": 1431}, \"1432\": {\"frequency\": 1, \"value\": 1432}, \"1434\": {\"frequency\": 1, \"value\": 1434}, \"1436\": {\"frequency\": 2, \"value\": 1436}, \"1437\": {\"frequency\": 2, \"value\": 1437}, \"1440\": {\"frequency\": 4, \"value\": 1440}, \"1442\": {\"frequency\": 4, \"value\": 1442}, \"1444\": {\"frequency\": 1, \"value\": 1444}, \"1445\": {\"frequency\": 2, \"value\": 1445}, \"1453\": {\"frequency\": 2, \"value\": 1453}, \"1454\": {\"frequency\": 1, \"value\": 1454}, \"1456\": {\"frequency\": 1, \"value\": 1456}, \"1459\": {\"frequency\": 1, \"value\": 1459}, \"1462\": {\"frequency\": 1, \"value\": 1462}, \"1464\": {\"frequency\": 2, \"value\": 1464}, \"1465\": {\"frequency\": 1, \"value\": 1465}, \"1466\": {\"frequency\": 3, \"value\": 1466}, \"1468\": {\"frequency\": 2, \"value\": 1468}, \"1470\": {\"frequency\": 1, \"value\": 1470}, \"1472\": {\"frequency\": 1, \"value\": 1472}, \"1473\": {\"frequency\": 1, \"value\": 1473}, \"1476\": {\"frequency\": 2, \"value\": 1476}, \"1478\": {\"frequency\": 3, \"value\": 1478}, \"1479\": {\"frequency\": 2, \"value\": 1479}, \"1482\": {\"frequency\": 2, \"value\": 1482}, \"1484\": {\"frequency\": 3, \"value\": 1484}, \"1486\": {\"frequency\": 1, \"value\": 1486}, \"1489\": {\"frequency\": 2, \"value\": 1489}, \"1490\": {\"frequency\": 1, \"value\": 1490}, \"1493\": {\"frequency\": 1, \"value\": 1493}, \"1494\": {\"frequency\": 5, \"value\": 1494}, \"1496\": {\"frequency\": 2, \"value\": 1496}, \"1498\": {\"frequency\": 1, \"value\": 1498}, \"1500\": {\"frequency\": 3, \"value\": 1500}, \"1501\": {\"frequency\": 1, \"value\": 1501}, \"1502\": {\"frequency\": 2, \"value\": 1502}, \"1504\": {\"frequency\": 3, \"value\": 1504}, \"1505\": {\"frequency\": 1, \"value\": 1505}, \"1506\": {\"frequency\": 2, \"value\": 1506}, \"1507\": {\"frequency\": 1, \"value\": 1507}, \"1509\": {\"frequency\": 1, \"value\": 1509}, \"1512\": {\"frequency\": 1, \"value\": 1512}, \"1516\": {\"frequency\": 2, \"value\": 1516}, \"1518\": {\"frequency\": 3, \"value\": 1518}, \"1520\": {\"frequency\": 1, \"value\": 1520}, \"1521\": {\"frequency\": 1, \"value\": 1521}, \"1523\": {\"frequency\": 1, \"value\": 1523}, \"1525\": {\"frequency\": 1, \"value\": 1525}, \"1526\": {\"frequency\": 1, \"value\": 1526}, \"4692\": {\"frequency\": 1, \"value\": 4692}, \"1530\": {\"frequency\": 2, \"value\": 1530}, \"1532\": {\"frequency\": 1, \"value\": 1532}, \"1533\": {\"frequency\": 1, \"value\": 1533}, \"1535\": {\"frequency\": 3, \"value\": 1535}, \"1536\": {\"frequency\": 1, \"value\": 1536}, \"1537\": {\"frequency\": 1, \"value\": 1537}, \"1541\": {\"frequency\": 2, \"value\": 1541}, \"1542\": {\"frequency\": 1, \"value\": 1542}, \"1547\": {\"frequency\": 1, \"value\": 1547}, \"1548\": {\"frequency\": 1, \"value\": 1548}, \"1549\": {\"frequency\": 1, \"value\": 1549}, \"1552\": {\"frequency\": 1, \"value\": 1552}, \"1553\": {\"frequency\": 1, \"value\": 1553}, \"1554\": {\"frequency\": 1, \"value\": 1554}, \"1555\": {\"frequency\": 2, \"value\": 1555}, \"1557\": {\"frequency\": 1, \"value\": 1557}, \"1559\": {\"frequency\": 1, \"value\": 1559}, \"1560\": {\"frequency\": 1, \"value\": 1560}, \"1561\": {\"frequency\": 1, \"value\": 1561}, \"1563\": {\"frequency\": 1, \"value\": 1563}, \"1566\": {\"frequency\": 1, \"value\": 1566}, \"1567\": {\"frequency\": 2, \"value\": 1567}, \"1569\": {\"frequency\": 1, \"value\": 1569}, \"1571\": {\"frequency\": 1, \"value\": 1571}, \"1572\": {\"frequency\": 2, \"value\": 1572}, \"1573\": {\"frequency\": 1, \"value\": 1573}, \"1574\": {\"frequency\": 1, \"value\": 1574}, \"1575\": {\"frequency\": 2, \"value\": 1575}, \"1576\": {\"frequency\": 1, \"value\": 1576}, \"1578\": {\"frequency\": 1, \"value\": 1578}, \"1580\": {\"frequency\": 2, \"value\": 1580}, \"1582\": {\"frequency\": 1, \"value\": 1582}, \"1584\": {\"frequency\": 2, \"value\": 1584}, \"1586\": {\"frequency\": 1, \"value\": 1586}, \"1588\": {\"frequency\": 2, \"value\": 1588}, \"1593\": {\"frequency\": 1, \"value\": 1593}, \"1600\": {\"frequency\": 2, \"value\": 1600}, \"1601\": {\"frequency\": 2, \"value\": 1601}, \"1602\": {\"frequency\": 1, \"value\": 1602}, \"1604\": {\"frequency\": 1, \"value\": 1604}, \"1610\": {\"frequency\": 2, \"value\": 1610}, \"1614\": {\"frequency\": 1, \"value\": 1614}, \"1616\": {\"frequency\": 2, \"value\": 1616}, \"1617\": {\"frequency\": 1, \"value\": 1617}, \"1619\": {\"frequency\": 1, \"value\": 1619}, \"1620\": {\"frequency\": 2, \"value\": 1620}, \"1621\": {\"frequency\": 1, \"value\": 1621}, \"1622\": {\"frequency\": 1, \"value\": 1622}, \"1624\": {\"frequency\": 1, \"value\": 1624}, \"1625\": {\"frequency\": 1, \"value\": 1625}, \"1629\": {\"frequency\": 2, \"value\": 1629}, \"1630\": {\"frequency\": 2, \"value\": 1630}, \"1632\": {\"frequency\": 2, \"value\": 1632}, \"1634\": {\"frequency\": 1, \"value\": 1634}, \"1636\": {\"frequency\": 2, \"value\": 1636}, \"1640\": {\"frequency\": 1, \"value\": 1640}, \"1644\": {\"frequency\": 2, \"value\": 1644}, \"1646\": {\"frequency\": 3, \"value\": 1646}, \"1647\": {\"frequency\": 1, \"value\": 1647}, \"1651\": {\"frequency\": 1, \"value\": 1651}, \"1652\": {\"frequency\": 3, \"value\": 1652}, \"1654\": {\"frequency\": 1, \"value\": 1654}, \"1656\": {\"frequency\": 3, \"value\": 1656}, \"1657\": {\"frequency\": 1, \"value\": 1657}, \"1659\": {\"frequency\": 1, \"value\": 1659}, \"1660\": {\"frequency\": 1, \"value\": 1660}, \"1661\": {\"frequency\": 2, \"value\": 1661}, \"1663\": {\"frequency\": 1, \"value\": 1663}, \"1664\": {\"frequency\": 2, \"value\": 1664}, \"1668\": {\"frequency\": 2, \"value\": 1668}, \"1670\": {\"frequency\": 1, \"value\": 1670}, \"1675\": {\"frequency\": 1, \"value\": 1675}, \"1679\": {\"frequency\": 1, \"value\": 1679}, \"1680\": {\"frequency\": 3, \"value\": 1680}, \"1682\": {\"frequency\": 1, \"value\": 1682}, \"1684\": {\"frequency\": 1, \"value\": 1684}, \"1686\": {\"frequency\": 2, \"value\": 1686}, \"1687\": {\"frequency\": 2, \"value\": 1687}, \"1689\": {\"frequency\": 3, \"value\": 1689}, \"1690\": {\"frequency\": 1, \"value\": 1690}, \"1694\": {\"frequency\": 3, \"value\": 1694}, \"1696\": {\"frequency\": 1, \"value\": 1696}, \"1698\": {\"frequency\": 1, \"value\": 1698}, \"1699\": {\"frequency\": 2, \"value\": 1699}, \"1700\": {\"frequency\": 2, \"value\": 1700}, \"1701\": {\"frequency\": 1, \"value\": 1701}, \"1702\": {\"frequency\": 1, \"value\": 1702}, \"1704\": {\"frequency\": 1, \"value\": 1704}, \"1707\": {\"frequency\": 1, \"value\": 1707}, \"1709\": {\"frequency\": 1, \"value\": 1709}, \"1710\": {\"frequency\": 2, \"value\": 1710}, \"1712\": {\"frequency\": 1, \"value\": 1712}, \"1713\": {\"frequency\": 1, \"value\": 1713}, \"1717\": {\"frequency\": 1, \"value\": 1717}, \"1718\": {\"frequency\": 2, \"value\": 1718}, \"1719\": {\"frequency\": 1, \"value\": 1719}, \"1720\": {\"frequency\": 1, \"value\": 1720}, \"1721\": {\"frequency\": 1, \"value\": 1721}, \"1724\": {\"frequency\": 1, \"value\": 1724}, \"1726\": {\"frequency\": 1, \"value\": 1726}, \"1728\": {\"frequency\": 6, \"value\": 1728}, \"1733\": {\"frequency\": 1, \"value\": 1733}, \"1734\": {\"frequency\": 3, \"value\": 1734}, \"1742\": {\"frequency\": 2, \"value\": 1742}, \"1746\": {\"frequency\": 1, \"value\": 1746}, \"1752\": {\"frequency\": 1, \"value\": 1752}, \"1766\": {\"frequency\": 2, \"value\": 1766}, \"1768\": {\"frequency\": 1, \"value\": 1768}, \"1771\": {\"frequency\": 1, \"value\": 1771}, \"1776\": {\"frequency\": 2, \"value\": 1776}, \"1779\": {\"frequency\": 1, \"value\": 1779}, \"1787\": {\"frequency\": 1, \"value\": 1787}, \"1788\": {\"frequency\": 1, \"value\": 1788}, \"1792\": {\"frequency\": 1, \"value\": 1792}, \"1795\": {\"frequency\": 2, \"value\": 1795}, \"1800\": {\"frequency\": 3, \"value\": 1800}, \"1801\": {\"frequency\": 1, \"value\": 1801}, \"1803\": {\"frequency\": 1, \"value\": 1803}, \"1811\": {\"frequency\": 1, \"value\": 1811}, \"1824\": {\"frequency\": 1, \"value\": 1824}, \"1826\": {\"frequency\": 1, \"value\": 1826}, \"1828\": {\"frequency\": 1, \"value\": 1828}, \"1831\": {\"frequency\": 1, \"value\": 1831}, \"1836\": {\"frequency\": 2, \"value\": 1836}, \"1838\": {\"frequency\": 1, \"value\": 1838}, \"1839\": {\"frequency\": 1, \"value\": 1839}, \"1842\": {\"frequency\": 1, \"value\": 1842}, \"1844\": {\"frequency\": 3, \"value\": 1844}, \"1848\": {\"frequency\": 1, \"value\": 1848}, \"1850\": {\"frequency\": 1, \"value\": 1850}, \"1856\": {\"frequency\": 1, \"value\": 1856}, \"1867\": {\"frequency\": 1, \"value\": 1867}, \"1869\": {\"frequency\": 1, \"value\": 1869}, \"1872\": {\"frequency\": 1, \"value\": 1872}, \"1888\": {\"frequency\": 1, \"value\": 1888}, \"1898\": {\"frequency\": 1, \"value\": 1898}, \"1902\": {\"frequency\": 1, \"value\": 1902}, \"1905\": {\"frequency\": 1, \"value\": 1905}, \"1922\": {\"frequency\": 1, \"value\": 1922}, \"1932\": {\"frequency\": 1, \"value\": 1932}, \"1940\": {\"frequency\": 2, \"value\": 1940}, \"1944\": {\"frequency\": 1, \"value\": 1944}, \"1959\": {\"frequency\": 1, \"value\": 1959}, \"1966\": {\"frequency\": 1, \"value\": 1966}, \"1968\": {\"frequency\": 1, \"value\": 1968}, \"1973\": {\"frequency\": 1, \"value\": 1973}, \"1976\": {\"frequency\": 1, \"value\": 1976}, \"1980\": {\"frequency\": 1, \"value\": 1980}, \"1987\": {\"frequency\": 1, \"value\": 1987}, \"1992\": {\"frequency\": 1, \"value\": 1992}, \"2000\": {\"frequency\": 2, \"value\": 2000}, \"2018\": {\"frequency\": 1, \"value\": 2018}, \"2020\": {\"frequency\": 2, \"value\": 2020}, \"2028\": {\"frequency\": 1, \"value\": 2028}, \"2036\": {\"frequency\": 1, \"value\": 2036}, \"2042\": {\"frequency\": 1, \"value\": 2042}, \"2046\": {\"frequency\": 1, \"value\": 2046}}, \"mean\": 1162.626712328767}, \"Neighborhood\": {\"complete\": true, \"numeric\": false, \"num_unique\": 25, \"num_undefined\": 0, \"progress\": 1.0, \"frequent_items\": {\"IDOTRR\": {\"frequency\": 37, \"value\": \"IDOTRR\"}, \"Edwards\": {\"frequency\": 100, \"value\": \"Edwards\"}, \"BrkSide\": {\"frequency\": 58, \"value\": \"BrkSide\"}, \"OldTown\": {\"frequency\": 113, \"value\": \"OldTown\"}, \"NoRidge\": {\"frequency\": 41, \"value\": \"NoRidge\"}, \"Veenker\": {\"frequency\": 11, \"value\": \"Veenker\"}, \"NAmes\": {\"frequency\": 225, \"value\": \"NAmes\"}, \"Gilbert\": {\"frequency\": 79, \"value\": \"Gilbert\"}, \"SWISU\": {\"frequency\": 25, \"value\": \"SWISU\"}, \"Blmngtn\": {\"frequency\": 17, \"value\": \"Blmngtn\"}, \"NridgHt\": {\"frequency\": 77, \"value\": \"NridgHt\"}, \"NWAmes\": {\"frequency\": 73, \"value\": \"NWAmes\"}, \"StoneBr\": {\"frequency\": 25, \"value\": \"StoneBr\"}, \"Somerst\": {\"frequency\": 86, \"value\": \"Somerst\"}, \"MeadowV\": {\"frequency\": 17, \"value\": \"MeadowV\"}, \"ClearCr\": {\"frequency\": 28, \"value\": \"ClearCr\"}, \"SawyerW\": {\"frequency\": 59, \"value\": \"SawyerW\"}, \"Sawyer\": {\"frequency\": 74, \"value\": \"Sawyer\"}, \"CollgCr\": {\"frequency\": 150, \"value\": \"CollgCr\"}, \"Crawfor\": {\"frequency\": 51, \"value\": \"Crawfor\"}, \"BrDale\": {\"frequency\": 16, \"value\": \"BrDale\"}, \"Mitchel\": {\"frequency\": 49, \"value\": \"Mitchel\"}, \"NPkVill\": {\"frequency\": 9, \"value\": \"NPkVill\"}, \"Blueste\": {\"frequency\": 2, \"value\": \"Blueste\"}, \"Timber\": {\"frequency\": 38, \"value\": \"Timber\"}}, \"size\": 1460}, \"LotConfig\": {\"complete\": true, \"numeric\": false, \"num_unique\": 5, \"num_undefined\": 0, \"progress\": 1.0, \"frequent_items\": {\"CulDSac\": {\"frequency\": 94, \"value\": \"CulDSac\"}, \"FR2\": {\"frequency\": 47, \"value\": \"FR2\"}, \"Inside\": {\"frequency\": 1052, \"value\": \"Inside\"}, \"FR3\": {\"frequency\": 4, \"value\": \"FR3\"}, \"Corner\": {\"frequency\": 263, \"value\": \"Corner\"}}, \"size\": 1460}, \"MSSubClass\": {\"std\": 42.286082015480325, \"complete\": true, \"min\": 20.0, \"max\": 190.0, \"quantile\": [20.0, 20.0, 20.0, 20.0, 20.0, 20.0, 20.0, 20.0, 20.0, 20.0, 20.0, 20.0, 20.0, 20.0, 20.0, 20.0, 20.0, 20.0, 20.0, 20.0, 20.0, 20.0, 20.0, 20.0, 20.0, 20.0, 20.0, 20.0, 20.0, 20.0, 20.0, 20.0, 20.0, 20.0, 20.0, 20.0, 20.0, 30.0, 30.0, 30.0, 30.0, 30.0, 45.0, 50.0, 50.0, 50.0, 50.0, 50.0, 50.0, 50.0, 50.0, 50.0, 50.0, 60.0, 60.0, 60.0, 60.0, 60.0, 60.0, 60.0, 60.0, 60.0, 60.0, 60.0, 60.0, 60.0, 60.0, 60.0, 60.0, 60.0, 60.0, 60.0, 60.0, 70.0, 70.0, 70.0, 70.0, 75.0, 75.0, 80.0, 80.0, 80.0, 80.0, 85.0, 90.0, 90.0, 90.0, 120.0, 120.0, 120.0, 120.0, 120.0, 120.0, 160.0, 160.0, 160.0, 160.0, 160.0, 190.0, 190.0, 190.0], \"median\": 50.0, \"numeric\": true, \"num_unique\": 15, \"num_undefined\": 0, \"var\": 1788.1127322199288, \"progress\": 1.0, \"size\": 1460, \"frequent_items\": {\"160\": {\"frequency\": 63, \"value\": 160}, \"70\": {\"frequency\": 60, \"value\": 70}, \"40\": {\"frequency\": 4, \"value\": 40}, \"75\": {\"frequency\": 16, \"value\": 75}, \"45\": {\"frequency\": 12, \"value\": 45}, \"80\": {\"frequency\": 58, \"value\": 80}, \"50\": {\"frequency\": 144, \"value\": 50}, \"20\": {\"frequency\": 536, \"value\": 20}, \"30\": {\"frequency\": 69, \"value\": 30}, \"120\": {\"frequency\": 87, \"value\": 120}, \"180\": {\"frequency\": 10, \"value\": 180}, \"90\": {\"frequency\": 52, \"value\": 90}, \"60\": {\"frequency\": 299, \"value\": 60}, \"190\": {\"frequency\": 30, \"value\": 190}, \"85\": {\"frequency\": 20, \"value\": 85}}, \"mean\": 56.897260273972606}, \"2ndFlrSF\": {\"std\": 436.3789142391623, \"complete\": true, \"min\": 0.0, \"max\": 2065.0, \"quantile\": [0.0, 0.0, 0.0, 0.0, 0.0, 0.0, 0.0, 0.0, 0.0, 0.0, 0.0, 0.0, 0.0, 0.0, 0.0, 0.0, 0.0, 0.0, 0.0, 0.0, 0.0, 0.0, 0.0, 0.0, 0.0, 0.0, 0.0, 0.0, 0.0, 0.0, 0.0, 0.0, 0.0, 0.0, 0.0, 0.0, 0.0, 0.0, 0.0, 0.0, 0.0, 0.0, 0.0, 0.0, 0.0, 0.0, 0.0, 0.0, 0.0, 0.0, 0.0, 0.0, 0.0, 0.0, 0.0, 0.0, 0.0, 208.0, 332.0, 406.0, 456.0, 504.0, 520.0, 546.0, 551.0, 574.0, 595.0, 605.0, 636.0, 656.0, 672.0, 682.0, 691.0, 704.0, 720.0, 728.0, 741.0, 754.0, 766.0, 783.0, 797.0, 808.0, 832.0, 843.0, 858.0, 871.0, 880.0, 888.0, 901.0, 920.0, 956.0, 984.0, 1032.0, 1067.0, 1103.0, 1142.0, 1185.0, 1254.0, 1320.0, 1426.0, 2065.0], \"median\": 0.0, \"numeric\": true, \"num_unique\": 412, \"num_undefined\": 0, \"var\": 190426.55679255017, \"progress\": 1.0, \"size\": 1460, \"frequent_items\": {\"0\": {\"frequency\": 829, \"value\": 0}, \"2065\": {\"frequency\": 1, \"value\": 2065}, \"110\": {\"frequency\": 1, \"value\": 110}, \"167\": {\"frequency\": 1, \"value\": 167}, \"192\": {\"frequency\": 1, \"value\": 192}, \"208\": {\"frequency\": 1, \"value\": 208}, \"213\": {\"frequency\": 1, \"value\": 213}, \"220\": {\"frequency\": 1, \"value\": 220}, \"224\": {\"frequency\": 1, \"value\": 224}, \"240\": {\"frequency\": 2, \"value\": 240}, \"252\": {\"frequency\": 2, \"value\": 252}, \"272\": {\"frequency\": 1, \"value\": 272}, \"299\": {\"frequency\": 1, \"value\": 299}, \"304\": {\"frequency\": 1, \"value\": 304}, \"316\": {\"frequency\": 1, \"value\": 316}, \"319\": {\"frequency\": 1, \"value\": 319}, \"325\": {\"frequency\": 1, \"value\": 325}, \"332\": {\"frequency\": 1, \"value\": 332}, \"336\": {\"frequency\": 1, \"value\": 336}, \"348\": {\"frequency\": 1, \"value\": 348}, \"349\": {\"frequency\": 1, \"value\": 349}, \"351\": {\"frequency\": 1, \"value\": 351}, \"358\": {\"frequency\": 1, \"value\": 358}, \"368\": {\"frequency\": 1, \"value\": 368}, \"370\": {\"frequency\": 1, \"value\": 370}, \"371\": {\"frequency\": 1, \"value\": 371}, \"378\": {\"frequency\": 1, \"value\": 378}, \"384\": {\"frequency\": 2, \"value\": 384}, \"390\": {\"frequency\": 1, \"value\": 390}, \"403\": {\"frequency\": 1, \"value\": 403}, \"406\": {\"frequency\": 2, \"value\": 406}, \"408\": {\"frequency\": 2, \"value\": 408}, \"430\": {\"frequency\": 1, \"value\": 430}, \"432\": {\"frequency\": 2, \"value\": 432}, \"438\": {\"frequency\": 1, \"value\": 438}, \"439\": {\"frequency\": 1, \"value\": 439}, \"441\": {\"frequency\": 1, \"value\": 441}, \"445\": {\"frequency\": 2, \"value\": 445}, \"448\": {\"frequency\": 2, \"value\": 448}, \"454\": {\"frequency\": 1, \"value\": 454}, \"455\": {\"frequency\": 1, \"value\": 455}, \"456\": {\"frequency\": 1, \"value\": 456}, \"457\": {\"frequency\": 1, \"value\": 457}, \"462\": {\"frequency\": 1, \"value\": 462}, \"464\": {\"frequency\": 1, \"value\": 464}, \"467\": {\"frequency\": 2, \"value\": 467}, \"468\": {\"frequency\": 1, \"value\": 468}, \"472\": {\"frequency\": 2, \"value\": 472}, \"473\": {\"frequency\": 1, \"value\": 473}, \"475\": {\"frequency\": 1, \"value\": 475}, \"482\": {\"frequency\": 1, \"value\": 482}, \"495\": {\"frequency\": 1, \"value\": 495}, \"504\": {\"frequency\": 9, \"value\": 504}, \"510\": {\"frequency\": 1, \"value\": 510}, \"511\": {\"frequency\": 1, \"value\": 511}, \"512\": {\"frequency\": 1, \"value\": 512}, \"514\": {\"frequency\": 1, \"value\": 514}, \"517\": {\"frequency\": 1, \"value\": 517}, \"518\": {\"frequency\": 1, \"value\": 518}, \"520\": {\"frequency\": 2, \"value\": 520}, \"521\": {\"frequency\": 1, \"value\": 521}, \"523\": {\"frequency\": 1, \"value\": 523}, \"524\": {\"frequency\": 1, \"value\": 524}, \"526\": {\"frequency\": 1, \"value\": 526}, \"527\": {\"frequency\": 1, \"value\": 527}, \"530\": {\"frequency\": 2, \"value\": 530}, \"533\": {\"frequency\": 1, \"value\": 533}, \"534\": {\"frequency\": 2, \"value\": 534}, \"539\": {\"frequency\": 1, \"value\": 539}, \"540\": {\"frequency\": 1, \"value\": 540}, \"545\": {\"frequency\": 1, \"value\": 545}, \"546\": {\"frequency\": 8, \"value\": 546}, \"547\": {\"frequency\": 1, \"value\": 547}, \"548\": {\"frequency\": 1, \"value\": 548}, \"550\": {\"frequency\": 2, \"value\": 550}, \"551\": {\"frequency\": 4, \"value\": 551}, \"556\": {\"frequency\": 1, \"value\": 556}, \"557\": {\"frequency\": 1, \"value\": 557}, \"560\": {\"frequency\": 2, \"value\": 560}, \"561\": {\"frequency\": 1, \"value\": 561}, \"564\": {\"frequency\": 2, \"value\": 564}, \"566\": {\"frequency\": 1, \"value\": 566}, \"567\": {\"frequency\": 2, \"value\": 567}, \"568\": {\"frequency\": 2, \"value\": 568}, \"571\": {\"frequency\": 1, \"value\": 571}, \"573\": {\"frequency\": 1, \"value\": 573}, \"574\": {\"frequency\": 2, \"value\": 574}, \"576\": {\"frequency\": 2, \"value\": 576}, \"580\": {\"frequency\": 1, \"value\": 580}, \"581\": {\"frequency\": 1, \"value\": 581}, \"582\": {\"frequency\": 1, \"value\": 582}, \"584\": {\"frequency\": 2, \"value\": 584}, \"586\": {\"frequency\": 1, \"value\": 586}, \"587\": {\"frequency\": 1, \"value\": 587}, \"589\": {\"frequency\": 1, \"value\": 589}, \"590\": {\"frequency\": 1, \"value\": 590}, \"591\": {\"frequency\": 1, \"value\": 591}, \"592\": {\"frequency\": 1, \"value\": 592}, \"595\": {\"frequency\": 1, \"value\": 595}, \"596\": {\"frequency\": 3, \"value\": 596}, \"600\": {\"frequency\": 7, \"value\": 600}, \"601\": {\"frequency\": 2, \"value\": 601}, \"602\": {\"frequency\": 1, \"value\": 602}, \"605\": {\"frequency\": 1, \"value\": 605}, \"611\": {\"frequency\": 1, \"value\": 611}, \"612\": {\"frequency\": 2, \"value\": 612}, \"620\": {\"frequency\": 2, \"value\": 620}, \"622\": {\"frequency\": 1, \"value\": 622}, \"623\": {\"frequency\": 1, \"value\": 623}, \"625\": {\"frequency\": 2, \"value\": 625}, \"626\": {\"frequency\": 1, \"value\": 626}, \"628\": {\"frequency\": 1, \"value\": 628}, \"630\": {\"frequency\": 1, \"value\": 630}, \"631\": {\"frequency\": 1, \"value\": 631}, \"634\": {\"frequency\": 1, \"value\": 634}, \"636\": {\"frequency\": 1, \"value\": 636}, \"639\": {\"frequency\": 1, \"value\": 639}, \"640\": {\"frequency\": 2, \"value\": 640}, \"644\": {\"frequency\": 1, \"value\": 644}, \"648\": {\"frequency\": 2, \"value\": 648}, \"649\": {\"frequency\": 1, \"value\": 649}, \"650\": {\"frequency\": 2, \"value\": 650}, \"651\": {\"frequency\": 2, \"value\": 651}, \"653\": {\"frequency\": 1, \"value\": 653}, \"656\": {\"frequency\": 2, \"value\": 656}, \"660\": {\"frequency\": 3, \"value\": 660}, \"661\": {\"frequency\": 1, \"value\": 661}, \"664\": {\"frequency\": 1, \"value\": 664}, \"665\": {\"frequency\": 1, \"value\": 665}, \"668\": {\"frequency\": 3, \"value\": 668}, \"670\": {\"frequency\": 3, \"value\": 670}, \"672\": {\"frequency\": 8, \"value\": 672}, \"676\": {\"frequency\": 2, \"value\": 676}, \"677\": {\"frequency\": 3, \"value\": 677}, \"678\": {\"frequency\": 2, \"value\": 678}, \"679\": {\"frequency\": 1, \"value\": 679}, \"682\": {\"frequency\": 1, \"value\": 682}, \"684\": {\"frequency\": 3, \"value\": 684}, \"685\": {\"frequency\": 2, \"value\": 685}, \"686\": {\"frequency\": 1, \"value\": 686}, \"687\": {\"frequency\": 1, \"value\": 687}, \"688\": {\"frequency\": 2, \"value\": 688}, \"689\": {\"frequency\": 5, \"value\": 689}, \"691\": {\"frequency\": 1, \"value\": 691}, \"694\": {\"frequency\": 1, \"value\": 694}, \"695\": {\"frequency\": 1, \"value\": 695}, \"698\": {\"frequency\": 2, \"value\": 698}, \"700\": {\"frequency\": 1, \"value\": 700}, \"701\": {\"frequency\": 1, \"value\": 701}, \"702\": {\"frequency\": 4, \"value\": 702}, \"703\": {\"frequency\": 2, \"value\": 703}, \"704\": {\"frequency\": 3, \"value\": 704}, \"707\": {\"frequency\": 1, \"value\": 707}, \"708\": {\"frequency\": 1, \"value\": 708}, \"709\": {\"frequency\": 2, \"value\": 709}, \"711\": {\"frequency\": 1, \"value\": 711}, \"712\": {\"frequency\": 1, \"value\": 712}, \"713\": {\"frequency\": 1, \"value\": 713}, \"714\": {\"frequency\": 1, \"value\": 714}, \"716\": {\"frequency\": 2, \"value\": 716}, \"717\": {\"frequency\": 1, \"value\": 717}, \"720\": {\"frequency\": 7, \"value\": 720}, \"725\": {\"frequency\": 1, \"value\": 725}, \"727\": {\"frequency\": 1, \"value\": 727}, \"728\": {\"frequency\": 10, \"value\": 728}, \"729\": {\"frequency\": 3, \"value\": 729}, \"730\": {\"frequency\": 1, \"value\": 730}, \"732\": {\"frequency\": 1, \"value\": 732}, \"734\": {\"frequency\": 1, \"value\": 734}, \"738\": {\"frequency\": 1, \"value\": 738}, \"739\": {\"frequency\": 4, \"value\": 739}, \"741\": {\"frequency\": 4, \"value\": 741}, \"742\": {\"frequency\": 3, \"value\": 742}, \"743\": {\"frequency\": 1, \"value\": 743}, \"744\": {\"frequency\": 2, \"value\": 744}, \"745\": {\"frequency\": 1, \"value\": 745}, \"748\": {\"frequency\": 2, \"value\": 748}, \"750\": {\"frequency\": 1, \"value\": 750}, \"752\": {\"frequency\": 1, \"value\": 752}, \"754\": {\"frequency\": 2, \"value\": 754}, \"755\": {\"frequency\": 2, \"value\": 755}, \"756\": {\"frequency\": 5, \"value\": 756}, \"761\": {\"frequency\": 1, \"value\": 761}, \"762\": {\"frequency\": 2, \"value\": 762}, \"764\": {\"frequency\": 2, \"value\": 764}, \"765\": {\"frequency\": 2, \"value\": 765}, \"766\": {\"frequency\": 1, \"value\": 766}, \"767\": {\"frequency\": 1, \"value\": 767}, \"768\": {\"frequency\": 1, \"value\": 768}, \"769\": {\"frequency\": 1, \"value\": 769}, \"772\": {\"frequency\": 1, \"value\": 772}, \"776\": {\"frequency\": 1, \"value\": 776}, \"778\": {\"frequency\": 1, \"value\": 778}, \"779\": {\"frequency\": 1, \"value\": 779}, \"780\": {\"frequency\": 5, \"value\": 780}, \"783\": {\"frequency\": 2, \"value\": 783}, \"784\": {\"frequency\": 1, \"value\": 784}, \"785\": {\"frequency\": 2, \"value\": 785}, \"787\": {\"frequency\": 1, \"value\": 787}, \"788\": {\"frequency\": 1, \"value\": 788}, \"790\": {\"frequency\": 2, \"value\": 790}, \"793\": {\"frequency\": 3, \"value\": 793}, \"795\": {\"frequency\": 3, \"value\": 795}, \"796\": {\"frequency\": 1, \"value\": 796}, \"797\": {\"frequency\": 2, \"value\": 797}, \"798\": {\"frequency\": 1, \"value\": 798}, \"800\": {\"frequency\": 2, \"value\": 800}, \"804\": {\"frequency\": 4, \"value\": 804}, \"806\": {\"frequency\": 2, \"value\": 806}, \"807\": {\"frequency\": 3, \"value\": 807}, \"808\": {\"frequency\": 2, \"value\": 808}, \"809\": {\"frequency\": 2, \"value\": 809}, \"811\": {\"frequency\": 1, \"value\": 811}, \"812\": {\"frequency\": 1, \"value\": 812}, \"813\": {\"frequency\": 2, \"value\": 813}, \"817\": {\"frequency\": 1, \"value\": 817}, \"826\": {\"frequency\": 1, \"value\": 826}, \"828\": {\"frequency\": 1, \"value\": 828}, \"829\": {\"frequency\": 2, \"value\": 829}, \"830\": {\"frequency\": 1, \"value\": 830}, \"831\": {\"frequency\": 1, \"value\": 831}, \"832\": {\"frequency\": 3, \"value\": 832}, \"833\": {\"frequency\": 2, \"value\": 833}, \"834\": {\"frequency\": 1, \"value\": 834}, \"836\": {\"frequency\": 1, \"value\": 836}, \"838\": {\"frequency\": 1, \"value\": 838}, \"840\": {\"frequency\": 5, \"value\": 840}, \"842\": {\"frequency\": 2, \"value\": 842}, \"843\": {\"frequency\": 1, \"value\": 843}, \"844\": {\"frequency\": 2, \"value\": 844}, \"846\": {\"frequency\": 3, \"value\": 846}, \"848\": {\"frequency\": 1, \"value\": 848}, \"850\": {\"frequency\": 2, \"value\": 850}, \"854\": {\"frequency\": 1, \"value\": 854}, \"855\": {\"frequency\": 1, \"value\": 855}, \"857\": {\"frequency\": 1, \"value\": 857}, \"858\": {\"frequency\": 3, \"value\": 858}, \"860\": {\"frequency\": 2, \"value\": 860}, \"862\": {\"frequency\": 5, \"value\": 862}, \"864\": {\"frequency\": 2, \"value\": 864}, \"866\": {\"frequency\": 3, \"value\": 866}, \"868\": {\"frequency\": 1, \"value\": 868}, \"870\": {\"frequency\": 1, \"value\": 870}, \"871\": {\"frequency\": 3, \"value\": 871}, \"872\": {\"frequency\": 2, \"value\": 872}, \"873\": {\"frequency\": 1, \"value\": 873}, \"874\": {\"frequency\": 1, \"value\": 874}, \"875\": {\"frequency\": 1, \"value\": 875}, \"876\": {\"frequency\": 2, \"value\": 876}, \"878\": {\"frequency\": 4, \"value\": 878}, \"880\": {\"frequency\": 3, \"value\": 880}, \"881\": {\"frequency\": 1, \"value\": 881}, \"882\": {\"frequency\": 1, \"value\": 882}, \"883\": {\"frequency\": 1, \"value\": 883}, \"884\": {\"frequency\": 2, \"value\": 884}, \"885\": {\"frequency\": 2, \"value\": 885}, \"886\": {\"frequency\": 3, \"value\": 886}, \"887\": {\"frequency\": 2, \"value\": 887}, \"888\": {\"frequency\": 3, \"value\": 888}, \"892\": {\"frequency\": 1, \"value\": 892}, \"895\": {\"frequency\": 1, \"value\": 895}, \"896\": {\"frequency\": 6, \"value\": 896}, \"898\": {\"frequency\": 1, \"value\": 898}, \"900\": {\"frequency\": 2, \"value\": 900}, \"901\": {\"frequency\": 1, \"value\": 901}, \"902\": {\"frequency\": 2, \"value\": 902}, \"903\": {\"frequency\": 1, \"value\": 903}, \"904\": {\"frequency\": 1, \"value\": 904}, \"908\": {\"frequency\": 1, \"value\": 908}, \"910\": {\"frequency\": 1, \"value\": 910}, \"912\": {\"frequency\": 2, \"value\": 912}, \"913\": {\"frequency\": 1, \"value\": 913}, \"914\": {\"frequency\": 1, \"value\": 914}, \"915\": {\"frequency\": 3, \"value\": 915}, \"918\": {\"frequency\": 1, \"value\": 918}, \"920\": {\"frequency\": 1, \"value\": 920}, \"924\": {\"frequency\": 1, \"value\": 924}, \"925\": {\"frequency\": 1, \"value\": 925}, \"928\": {\"frequency\": 1, \"value\": 928}, \"929\": {\"frequency\": 1, \"value\": 929}, \"930\": {\"frequency\": 1, \"value\": 930}, \"932\": {\"frequency\": 1, \"value\": 932}, \"933\": {\"frequency\": 1, \"value\": 933}, \"936\": {\"frequency\": 1, \"value\": 936}, \"939\": {\"frequency\": 1, \"value\": 939}, \"940\": {\"frequency\": 1, \"value\": 940}, \"941\": {\"frequency\": 2, \"value\": 941}, \"950\": {\"frequency\": 1, \"value\": 950}, \"954\": {\"frequency\": 1, \"value\": 954}, \"956\": {\"frequency\": 1, \"value\": 956}, \"960\": {\"frequency\": 1, \"value\": 960}, \"966\": {\"frequency\": 1, \"value\": 966}, \"971\": {\"frequency\": 1, \"value\": 971}, \"975\": {\"frequency\": 2, \"value\": 975}, \"977\": {\"frequency\": 1, \"value\": 977}, \"978\": {\"frequency\": 2, \"value\": 978}, \"979\": {\"frequency\": 1, \"value\": 979}, \"980\": {\"frequency\": 1, \"value\": 980}, \"981\": {\"frequency\": 1, \"value\": 981}, \"983\": {\"frequency\": 2, \"value\": 983}, \"984\": {\"frequency\": 1, \"value\": 984}, \"985\": {\"frequency\": 1, \"value\": 985}, \"988\": {\"frequency\": 1, \"value\": 988}, \"989\": {\"frequency\": 1, \"value\": 989}, \"992\": {\"frequency\": 1, \"value\": 992}, \"994\": {\"frequency\": 1, \"value\": 994}, \"998\": {\"frequency\": 1, \"value\": 998}, \"1000\": {\"frequency\": 1, \"value\": 1000}, \"1001\": {\"frequency\": 1, \"value\": 1001}, \"1015\": {\"frequency\": 1, \"value\": 1015}, \"1017\": {\"frequency\": 1, \"value\": 1017}, \"1020\": {\"frequency\": 2, \"value\": 1020}, \"1028\": {\"frequency\": 1, \"value\": 1028}, \"1031\": {\"frequency\": 1, \"value\": 1031}, \"1032\": {\"frequency\": 2, \"value\": 1032}, \"1037\": {\"frequency\": 1, \"value\": 1037}, \"1038\": {\"frequency\": 1, \"value\": 1038}, \"1039\": {\"frequency\": 1, \"value\": 1039}, \"1040\": {\"frequency\": 2, \"value\": 1040}, \"1044\": {\"frequency\": 1, \"value\": 1044}, \"1051\": {\"frequency\": 1, \"value\": 1051}, \"1053\": {\"frequency\": 1, \"value\": 1053}, \"1054\": {\"frequency\": 1, \"value\": 1054}, \"1060\": {\"frequency\": 1, \"value\": 1060}, \"1063\": {\"frequency\": 1, \"value\": 1063}, \"1066\": {\"frequency\": 1, \"value\": 1066}, \"1067\": {\"frequency\": 1, \"value\": 1067}, \"1070\": {\"frequency\": 2, \"value\": 1070}, \"1072\": {\"frequency\": 1, \"value\": 1072}, \"1080\": {\"frequency\": 1, \"value\": 1080}, \"1081\": {\"frequency\": 1, \"value\": 1081}, \"1088\": {\"frequency\": 1, \"value\": 1088}, \"1092\": {\"frequency\": 1, \"value\": 1092}, \"1093\": {\"frequency\": 1, \"value\": 1093}, \"1096\": {\"frequency\": 1, \"value\": 1096}, \"1097\": {\"frequency\": 1, \"value\": 1097}, \"1098\": {\"frequency\": 1, \"value\": 1098}, \"1100\": {\"frequency\": 1, \"value\": 1100}, \"1101\": {\"frequency\": 2, \"value\": 1101}, \"1103\": {\"frequency\": 1, \"value\": 1103}, \"1104\": {\"frequency\": 1, \"value\": 1104}, \"1106\": {\"frequency\": 1, \"value\": 1106}, \"1111\": {\"frequency\": 1, \"value\": 1111}, \"1112\": {\"frequency\": 1, \"value\": 1112}, \"1116\": {\"frequency\": 1, \"value\": 1116}, \"1120\": {\"frequency\": 1, \"value\": 1120}, \"1121\": {\"frequency\": 1, \"value\": 1121}, \"1122\": {\"frequency\": 1, \"value\": 1122}, \"1128\": {\"frequency\": 1, \"value\": 1128}, \"1129\": {\"frequency\": 1, \"value\": 1129}, \"1134\": {\"frequency\": 1, \"value\": 1134}, \"1140\": {\"frequency\": 2, \"value\": 1140}, \"1141\": {\"frequency\": 1, \"value\": 1141}, \"1142\": {\"frequency\": 2, \"value\": 1142}, \"1151\": {\"frequency\": 1, \"value\": 1151}, \"1152\": {\"frequency\": 1, \"value\": 1152}, \"1157\": {\"frequency\": 1, \"value\": 1157}, \"1160\": {\"frequency\": 1, \"value\": 1160}, \"1168\": {\"frequency\": 1, \"value\": 1168}, \"1169\": {\"frequency\": 1, \"value\": 1169}, \"1174\": {\"frequency\": 1, \"value\": 1174}, \"1175\": {\"frequency\": 1, \"value\": 1175}, \"1177\": {\"frequency\": 2, \"value\": 1177}, \"1178\": {\"frequency\": 1, \"value\": 1178}, \"1182\": {\"frequency\": 1, \"value\": 1182}, \"1185\": {\"frequency\": 1, \"value\": 1185}, \"1194\": {\"frequency\": 1, \"value\": 1194}, \"1196\": {\"frequency\": 1, \"value\": 1196}, \"1200\": {\"frequency\": 1, \"value\": 1200}, \"1203\": {\"frequency\": 1, \"value\": 1203}, \"1208\": {\"frequency\": 2, \"value\": 1208}, \"1215\": {\"frequency\": 2, \"value\": 1215}, \"1216\": {\"frequency\": 1, \"value\": 1216}, \"1218\": {\"frequency\": 1, \"value\": 1218}, \"1230\": {\"frequency\": 1, \"value\": 1230}, \"1237\": {\"frequency\": 1, \"value\": 1237}, \"1242\": {\"frequency\": 1, \"value\": 1242}, \"1243\": {\"frequency\": 1, \"value\": 1243}, \"1254\": {\"frequency\": 3, \"value\": 1254}, \"1257\": {\"frequency\": 1, \"value\": 1257}, \"1259\": {\"frequency\": 1, \"value\": 1259}, \"1274\": {\"frequency\": 1, \"value\": 1274}, \"1276\": {\"frequency\": 1, \"value\": 1276}, \"1281\": {\"frequency\": 1, \"value\": 1281}, \"1286\": {\"frequency\": 1, \"value\": 1286}, \"1288\": {\"frequency\": 1, \"value\": 1288}, \"1296\": {\"frequency\": 1, \"value\": 1296}, \"1304\": {\"frequency\": 1, \"value\": 1304}, \"1306\": {\"frequency\": 1, \"value\": 1306}, \"1312\": {\"frequency\": 1, \"value\": 1312}, \"1320\": {\"frequency\": 2, \"value\": 1320}, \"1323\": {\"frequency\": 1, \"value\": 1323}, \"1330\": {\"frequency\": 2, \"value\": 1330}, \"1332\": {\"frequency\": 1, \"value\": 1332}, \"1336\": {\"frequency\": 1, \"value\": 1336}, \"1347\": {\"frequency\": 1, \"value\": 1347}, \"1349\": {\"frequency\": 1, \"value\": 1349}, \"1357\": {\"frequency\": 1, \"value\": 1357}, \"1360\": {\"frequency\": 1, \"value\": 1360}, \"1362\": {\"frequency\": 1, \"value\": 1362}, \"1370\": {\"frequency\": 1, \"value\": 1370}, \"1392\": {\"frequency\": 1, \"value\": 1392}, \"1414\": {\"frequency\": 1, \"value\": 1414}, \"1426\": {\"frequency\": 1, \"value\": 1426}, \"1427\": {\"frequency\": 1, \"value\": 1427}, \"1440\": {\"frequency\": 1, \"value\": 1440}, \"1479\": {\"frequency\": 1, \"value\": 1479}, \"1518\": {\"frequency\": 1, \"value\": 1518}, \"1519\": {\"frequency\": 1, \"value\": 1519}, \"1523\": {\"frequency\": 1, \"value\": 1523}, \"1538\": {\"frequency\": 1, \"value\": 1538}, \"1540\": {\"frequency\": 1, \"value\": 1540}, \"1589\": {\"frequency\": 1, \"value\": 1589}, \"1611\": {\"frequency\": 1, \"value\": 1611}, \"1796\": {\"frequency\": 1, \"value\": 1796}, \"1818\": {\"frequency\": 1, \"value\": 1818}, \"1872\": {\"frequency\": 1, \"value\": 1872}}, \"mean\": 346.9924657534247}, \"OverallQual\": {\"std\": 1.3825228366585958, \"complete\": true, \"min\": 1.0, \"max\": 10.0, \"quantile\": [1.0, 3.0, 4.0, 4.0, 4.0, 4.0, 4.0, 4.0, 4.0, 4.0, 5.0, 5.0, 5.0, 5.0, 5.0, 5.0, 5.0, 5.0, 5.0, 5.0, 5.0, 5.0, 5.0, 5.0, 5.0, 5.0, 5.0, 5.0, 5.0, 5.0, 5.0, 5.0, 5.0, 5.0, 5.0, 5.0, 5.0, 6.0, 6.0, 6.0, 6.0, 6.0, 6.0, 6.0, 6.0, 6.0, 6.0, 6.0, 6.0, 6.0, 6.0, 6.0, 6.0, 6.0, 6.0, 6.0, 6.0, 6.0, 6.0, 6.0, 6.0, 6.0, 6.0, 7.0, 7.0, 7.0, 7.0, 7.0, 7.0, 7.0, 7.0, 7.0, 7.0, 7.0, 7.0, 7.0, 7.0, 7.0, 7.0, 7.0, 7.0, 7.0, 7.0, 7.0, 7.0, 8.0, 8.0, 8.0, 8.0, 8.0, 8.0, 8.0, 8.0, 8.0, 8.0, 8.0, 9.0, 9.0, 9.0, 10.0, 10.0], \"median\": 6.0, \"numeric\": true, \"num_unique\": 10, \"num_undefined\": 0, \"var\": 1.91136939388253, \"progress\": 1.0, \"size\": 1460, \"frequent_items\": {\"1\": {\"frequency\": 2, \"value\": 1}, \"2\": {\"frequency\": 3, \"value\": 2}, \"3\": {\"frequency\": 20, \"value\": 3}, \"4\": {\"frequency\": 116, \"value\": 4}, \"5\": {\"frequency\": 397, \"value\": 5}, \"6\": {\"frequency\": 374, \"value\": 6}, \"7\": {\"frequency\": 319, \"value\": 7}, \"8\": {\"frequency\": 168, \"value\": 8}, \"9\": {\"frequency\": 43, \"value\": 9}, \"10\": {\"frequency\": 18, \"value\": 10}}, \"mean\": 6.099315068493151}, \"OverallCond\": {\"std\": 1.1124181757710094, \"complete\": true, \"min\": 1.0, \"max\": 9.0, \"quantile\": [1.0, 3.0, 3.0, 4.0, 4.0, 4.0, 4.0, 5.0, 5.0, 5.0, 5.0, 5.0, 5.0, 5.0, 5.0, 5.0, 5.0, 5.0, 5.0, 5.0, 5.0, 5.0, 5.0, 5.0, 5.0, 5.0, 5.0, 5.0, 5.0, 5.0, 5.0, 5.0, 5.0, 5.0, 5.0, 5.0, 5.0, 5.0, 5.0, 5.0, 5.0, 5.0, 5.0, 5.0, 5.0, 5.0, 5.0, 5.0, 5.0, 5.0, 5.0, 5.0, 5.0, 5.0, 5.0, 5.0, 5.0, 5.0, 5.0, 5.0, 5.0, 5.0, 5.0, 6.0, 6.0, 6.0, 6.0, 6.0, 6.0, 6.0, 6.0, 6.0, 6.0, 6.0, 6.0, 6.0, 6.0, 6.0, 6.0, 6.0, 7.0, 7.0, 7.0, 7.0, 7.0, 7.0, 7.0, 7.0, 7.0, 7.0, 7.0, 7.0, 7.0, 7.0, 8.0, 8.0, 8.0, 8.0, 8.0, 9.0, 9.0], \"median\": 5.0, \"numeric\": true, \"num_unique\": 9, \"num_undefined\": 0, \"var\": 1.2374741977857007, \"progress\": 1.0, \"size\": 1460, \"frequent_items\": {\"1\": {\"frequency\": 1, \"value\": 1}, \"2\": {\"frequency\": 5, \"value\": 2}, \"3\": {\"frequency\": 25, \"value\": 3}, \"4\": {\"frequency\": 57, \"value\": 4}, \"5\": {\"frequency\": 821, \"value\": 5}, \"6\": {\"frequency\": 252, \"value\": 6}, \"7\": {\"frequency\": 205, \"value\": 7}, \"8\": {\"frequency\": 72, \"value\": 8}, \"9\": {\"frequency\": 22, \"value\": 9}}, \"mean\": 5.575342465753425}, \"LotArea\": {\"std\": 9977.846105448107, \"complete\": true, \"min\": 1300.0, \"max\": 215245.0, \"quantile\": [1300.0, 1680.0, 2117.0, 2522.0, 3072.0, 3363.0, 3842.0, 4118.0, 4426.0, 4571.0, 5001.0, 5350.0, 5587.0, 5890.0, 6000.0, 6130.0, 6240.0, 6600.0, 6858.0, 7000.0, 7082.0, 7200.0, 7200.0, 7264.0, 7438.0, 7558.0, 7681.0, 7800.0, 7862.0, 7937.0, 8064.0, 8125.0, 8235.0, 8335.0, 8400.0, 8450.0, 8500.0, 8544.0, 8700.0, 8755.0, 8795.0, 8850.0, 8926.0, 9000.0, 9037.0, 9100.0, 9142.0, 9206.0, 9300.0, 9375.0, 9480.0, 9554.0, 9600.0, 9600.0, 9742.0, 9800.0, 9900.0, 9965.0, 10011.0, 10140.0, 10200.0, 10261.0, 10380.0, 10421.0, 10500.0, 10625.0, 10678.0, 10791.0, 10800.0, 10944.0, 11070.0, 11198.0, 11250.0, 11345.0, 11443.0, 11606.0, 11700.0, 11851.0, 11999.0, 12118.0, 12209.0, 12358.0, 12474.0, 12704.0, 12984.0, 13173.0, 13474.0, 13673.0, 13837.0, 14115.0, 14442.0, 14778.0, 15431.0, 15870.0, 16560.0, 17423.0, 18890.0, 21695.0, 25286.0, 39104.0, 215245.0], \"median\": 9480.0, \"numeric\": true, \"num_unique\": 1072, \"num_undefined\": 0, \"var\": 99557412.90400596, \"progress\": 1.0, \"size\": 1460, \"frequent_items\": {\"10240\": {\"frequency\": 2, \"value\": 10240}, \"10120\": {\"frequency\": 2, \"value\": 10120}, \"8197\": {\"frequency\": 1, \"value\": 8197}, \"8198\": {\"frequency\": 1, \"value\": 8198}, \"8199\": {\"frequency\": 1, \"value\": 8199}, \"8200\": {\"frequency\": 1, \"value\": 8200}, \"8450\": {\"frequency\": 6, \"value\": 8450}, \"6155\": {\"frequency\": 1, \"value\": 6155}, \"18450\": {\"frequency\": 1, \"value\": 18450}, \"8212\": {\"frequency\": 1, \"value\": 8212}, \"10261\": {\"frequency\": 1, \"value\": 10261}, \"4118\": {\"frequency\": 1, \"value\": 4118}, \"10264\": {\"frequency\": 1, \"value\": 10264}, \"28698\": {\"frequency\": 1, \"value\": 28698}, \"10267\": {\"frequency\": 1, \"value\": 10267}, \"14364\": {\"frequency\": 1, \"value\": 14364}, \"6173\": {\"frequency\": 1, \"value\": 6173}, \"11952\": {\"frequency\": 1, \"value\": 11952}, \"4130\": {\"frequency\": 1, \"value\": 4130}, \"6180\": {\"frequency\": 1, \"value\": 6180}, \"10246\": {\"frequency\": 1, \"value\": 10246}, \"12327\": {\"frequency\": 1, \"value\": 12327}, \"12328\": {\"frequency\": 1, \"value\": 12328}, \"8235\": {\"frequency\": 1, \"value\": 8235}, \"8935\": {\"frequency\": 1, \"value\": 8935}, \"10289\": {\"frequency\": 1, \"value\": 10289}, \"8244\": {\"frequency\": 1, \"value\": 8244}, \"8246\": {\"frequency\": 1, \"value\": 8246}, \"8248\": {\"frequency\": 2, \"value\": 8248}, \"8250\": {\"frequency\": 2, \"value\": 8250}, \"10300\": {\"frequency\": 1, \"value\": 10300}, \"11957\": {\"frequency\": 1, \"value\": 11957}, \"10304\": {\"frequency\": 1, \"value\": 10304}, \"12640\": {\"frequency\": 1, \"value\": 12640}, \"12354\": {\"frequency\": 1, \"value\": 12354}, \"2117\": {\"frequency\": 3, \"value\": 2117}, \"12358\": {\"frequency\": 1, \"value\": 12358}, \"8263\": {\"frequency\": 1, \"value\": 8263}, \"10316\": {\"frequency\": 1, \"value\": 10316}, \"10594\": {\"frequency\": 1, \"value\": 10594}, \"10320\": {\"frequency\": 1, \"value\": 10320}, \"16466\": {\"frequency\": 1, \"value\": 16466}, \"12376\": {\"frequency\": 1, \"value\": 12376}, \"8281\": {\"frequency\": 1, \"value\": 8281}, \"12378\": {\"frequency\": 1, \"value\": 12378}, \"10335\": {\"frequency\": 2, \"value\": 10335}, \"6240\": {\"frequency\": 8, \"value\": 6240}, \"8294\": {\"frequency\": 1, \"value\": 8294}, \"12393\": {\"frequency\": 1, \"value\": 12393}, \"14442\": {\"frequency\": 1, \"value\": 14442}, \"16492\": {\"frequency\": 1, \"value\": 16492}, \"12400\": {\"frequency\": 1, \"value\": 12400}, \"14450\": {\"frequency\": 1, \"value\": 14450}, \"10355\": {\"frequency\": 1, \"value\": 10355}, \"10356\": {\"frequency\": 1, \"value\": 10356}, \"10357\": {\"frequency\": 1, \"value\": 10357}, \"11625\": {\"frequency\": 1, \"value\": 11625}, \"16285\": {\"frequency\": 1, \"value\": 16285}, \"8314\": {\"frequency\": 1, \"value\": 8314}, \"10364\": {\"frequency\": 1, \"value\": 10364}, \"6270\": {\"frequency\": 1, \"value\": 6270}, \"8320\": {\"frequency\": 1, \"value\": 8320}, \"10944\": {\"frequency\": 1, \"value\": 10944}, \"12420\": {\"frequency\": 1, \"value\": 12420}, \"4230\": {\"frequency\": 1, \"value\": 4230}, \"10380\": {\"frequency\": 1, \"value\": 10380}, \"10382\": {\"frequency\": 2, \"value\": 10382}, \"8335\": {\"frequency\": 1, \"value\": 8335}, \"15384\": {\"frequency\": 1, \"value\": 15384}, \"10386\": {\"frequency\": 1, \"value\": 10386}, \"12435\": {\"frequency\": 1, \"value\": 12435}, \"6292\": {\"frequency\": 2, \"value\": 6292}, \"12438\": {\"frequency\": 1, \"value\": 12438}, \"4251\": {\"frequency\": 1, \"value\": 4251}, \"6300\": {\"frequency\": 1, \"value\": 6300}, \"10400\": {\"frequency\": 5, \"value\": 10400}, \"16545\": {\"frequency\": 1, \"value\": 16545}, \"10402\": {\"frequency\": 1, \"value\": 10402}, \"6171\": {\"frequency\": 1, \"value\": 6171}, \"9531\": {\"frequency\": 1, \"value\": 9531}, \"12456\": {\"frequency\": 1, \"value\": 12456}, \"2217\": {\"frequency\": 1, \"value\": 2217}, \"10410\": {\"frequency\": 2, \"value\": 10410}, \"12461\": {\"frequency\": 1, \"value\": 12461}, \"8366\": {\"frequency\": 1, \"value\": 8366}, \"12464\": {\"frequency\": 1, \"value\": 12464}, \"4274\": {\"frequency\": 1, \"value\": 4274}, \"10420\": {\"frequency\": 1, \"value\": 10420}, \"10421\": {\"frequency\": 1, \"value\": 10421}, \"4280\": {\"frequency\": 1, \"value\": 4280}, \"9588\": {\"frequency\": 1, \"value\": 9588}, \"12474\": {\"frequency\": 1, \"value\": 12474}, \"9247\": {\"frequency\": 1, \"value\": 9247}, \"13560\": {\"frequency\": 1, \"value\": 13560}, \"39104\": {\"frequency\": 1, \"value\": 39104}, \"8280\": {\"frequency\": 1, \"value\": 8280}, \"10434\": {\"frequency\": 1, \"value\": 10434}, \"10437\": {\"frequency\": 1, \"value\": 10437}, \"6342\": {\"frequency\": 1, \"value\": 6342}, \"10440\": {\"frequency\": 3, \"value\": 10440}, \"8393\": {\"frequency\": 1, \"value\": 8393}, \"11639\": {\"frequency\": 1, \"value\": 11639}, \"12493\": {\"frequency\": 1, \"value\": 12493}, \"8400\": {\"frequency\": 14, \"value\": 8400}, \"8402\": {\"frequency\": 1, \"value\": 8402}, \"10452\": {\"frequency\": 1, \"value\": 10452}, \"8405\": {\"frequency\": 2, \"value\": 8405}, \"8410\": {\"frequency\": 1, \"value\": 8410}, \"32463\": {\"frequency\": 1, \"value\": 32463}, \"12508\": {\"frequency\": 1, \"value\": 12508}, \"8414\": {\"frequency\": 1, \"value\": 8414}, \"14559\": {\"frequency\": 1, \"value\": 14559}, \"12513\": {\"frequency\": 1, \"value\": 12513}, \"6371\": {\"frequency\": 1, \"value\": 6371}, \"13350\": {\"frequency\": 1, \"value\": 13350}, \"2280\": {\"frequency\": 3, \"value\": 2280}, \"14375\": {\"frequency\": 1, \"value\": 14375}, \"6380\": {\"frequency\": 1, \"value\": 6380}, \"8430\": {\"frequency\": 1, \"value\": 8430}, \"13693\": {\"frequency\": 1, \"value\": 13693}, \"10480\": {\"frequency\": 2, \"value\": 10480}, \"2289\": {\"frequency\": 1, \"value\": 2289}, \"10482\": {\"frequency\": 1, \"value\": 10482}, \"12537\": {\"frequency\": 1, \"value\": 12537}, \"16635\": {\"frequency\": 1, \"value\": 16635}, \"8445\": {\"frequency\": 1, \"value\": 8445}, \"53504\": {\"frequency\": 1, \"value\": 53504}, \"10624\": {\"frequency\": 1, \"value\": 10624}, \"6402\": {\"frequency\": 1, \"value\": 6402}, \"9965\": {\"frequency\": 2, \"value\": 9965}, \"10500\": {\"frequency\": 3, \"value\": 10500}, \"14598\": {\"frequency\": 1, \"value\": 14598}, \"16647\": {\"frequency\": 1, \"value\": 16647}, \"12552\": {\"frequency\": 1, \"value\": 12552}, \"14601\": {\"frequency\": 1, \"value\": 14601}, \"8461\": {\"frequency\": 1, \"value\": 8461}, \"8462\": {\"frequency\": 1, \"value\": 8462}, \"16659\": {\"frequency\": 1, \"value\": 16659}, \"6420\": {\"frequency\": 1, \"value\": 6420}, \"9262\": {\"frequency\": 1, \"value\": 9262}, \"8470\": {\"frequency\": 1, \"value\": 8470}, \"8471\": {\"frequency\": 1, \"value\": 8471}, \"8472\": {\"frequency\": 1, \"value\": 8472}, \"10134\": {\"frequency\": 1, \"value\": 10134}, \"8475\": {\"frequency\": 1, \"value\": 8475}, \"16669\": {\"frequency\": 1, \"value\": 16669}, \"8480\": {\"frequency\": 2, \"value\": 8480}, \"10530\": {\"frequency\": 2, \"value\": 10530}, \"6435\": {\"frequency\": 1, \"value\": 6435}, \"4388\": {\"frequency\": 1, \"value\": 4388}, \"7558\": {\"frequency\": 1, \"value\": 7558}, \"8487\": {\"frequency\": 1, \"value\": 8487}, \"14541\": {\"frequency\": 1, \"value\": 14541}, \"6442\": {\"frequency\": 1, \"value\": 6442}, \"12589\": {\"frequency\": 1, \"value\": 12589}, \"10542\": {\"frequency\": 1, \"value\": 10542}, \"4400\": {\"frequency\": 1, \"value\": 4400}, \"7560\": {\"frequency\": 2, \"value\": 7560}, \"4403\": {\"frequency\": 1, \"value\": 4403}, \"8500\": {\"frequency\": 4, \"value\": 8500}, \"10552\": {\"frequency\": 1, \"value\": 10552}, \"35133\": {\"frequency\": 1, \"value\": 35133}, \"2368\": {\"frequency\": 1, \"value\": 2368}, \"10562\": {\"frequency\": 1, \"value\": 10562}, \"12342\": {\"frequency\": 2, \"value\": 12342}, \"12615\": {\"frequency\": 1, \"value\": 12615}, \"8520\": {\"frequency\": 4, \"value\": 8520}, \"8521\": {\"frequency\": 1, \"value\": 8521}, \"10570\": {\"frequency\": 1, \"value\": 10570}, \"8525\": {\"frequency\": 1, \"value\": 8525}, \"10574\": {\"frequency\": 1, \"value\": 10574}, \"8529\": {\"frequency\": 1, \"value\": 8529}, \"8530\": {\"frequency\": 1, \"value\": 8530}, \"4435\": {\"frequency\": 5, \"value\": 4435}, \"8532\": {\"frequency\": 1, \"value\": 8532}, \"4438\": {\"frequency\": 2, \"value\": 4438}, \"8536\": {\"frequency\": 1, \"value\": 8536}, \"14684\": {\"frequency\": 1, \"value\": 14684}, \"8544\": {\"frequency\": 4, \"value\": 8544}, \"10593\": {\"frequency\": 1, \"value\": 10593}, \"8546\": {\"frequency\": 1, \"value\": 8546}, \"7910\": {\"frequency\": 1, \"value\": 7910}, \"4456\": {\"frequency\": 1, \"value\": 4456}, \"6204\": {\"frequency\": 1, \"value\": 6204}, \"10603\": {\"frequency\": 1, \"value\": 10603}, \"8556\": {\"frequency\": 1, \"value\": 8556}, \"18800\": {\"frequency\": 1, \"value\": 18800}, \"8562\": {\"frequency\": 1, \"value\": 8562}, \"6768\": {\"frequency\": 1, \"value\": 6768}, \"10615\": {\"frequency\": 1, \"value\": 10615}, \"12665\": {\"frequency\": 2, \"value\": 12665}, \"14720\": {\"frequency\": 1, \"value\": 14720}, \"10625\": {\"frequency\": 4, \"value\": 10625}, \"16770\": {\"frequency\": 1, \"value\": 16770}, \"10628\": {\"frequency\": 1, \"value\": 10628}, \"12677\": {\"frequency\": 1, \"value\": 12677}, \"10634\": {\"frequency\": 1, \"value\": 10634}, \"10635\": {\"frequency\": 1, \"value\": 10635}, \"10637\": {\"frequency\": 1, \"value\": 10637}, \"63887\": {\"frequency\": 1, \"value\": 63887}, \"2448\": {\"frequency\": 1, \"value\": 2448}, \"8593\": {\"frequency\": 1, \"value\": 8593}, \"12692\": {\"frequency\": 1, \"value\": 12692}, \"8600\": {\"frequency\": 1, \"value\": 8600}, \"10650\": {\"frequency\": 1, \"value\": 10650}, \"10652\": {\"frequency\": 1, \"value\": 10652}, \"12702\": {\"frequency\": 1, \"value\": 12702}, \"10655\": {\"frequency\": 1, \"value\": 10655}, \"10656\": {\"frequency\": 1, \"value\": 10656}, \"6563\": {\"frequency\": 1, \"value\": 6563}, \"22950\": {\"frequency\": 1, \"value\": 22950}, \"25000\": {\"frequency\": 1, \"value\": 25000}, \"10665\": {\"frequency\": 1, \"value\": 10665}, \"14762\": {\"frequency\": 1, \"value\": 14762}, \"10667\": {\"frequency\": 1, \"value\": 10667}, \"11478\": {\"frequency\": 1, \"value\": 11478}, \"10678\": {\"frequency\": 1, \"value\": 10678}, \"10680\": {\"frequency\": 1, \"value\": 10680}, \"8633\": {\"frequency\": 1, \"value\": 8633}, \"14778\": {\"frequency\": 1, \"value\": 14778}, \"8635\": {\"frequency\": 1, \"value\": 8635}, \"14781\": {\"frequency\": 1, \"value\": 14781}, \"12735\": {\"frequency\": 1, \"value\": 12735}, \"8640\": {\"frequency\": 4, \"value\": 8640}, \"12704\": {\"frequency\": 1, \"value\": 12704}, \"10690\": {\"frequency\": 1, \"value\": 10690}, \"2500\": {\"frequency\": 1, \"value\": 2500}, \"6600\": {\"frequency\": 4, \"value\": 6600}, \"7244\": {\"frequency\": 1, \"value\": 7244}, \"18890\": {\"frequency\": 1, \"value\": 18890}, \"115149\": {\"frequency\": 1, \"value\": 115149}, \"8658\": {\"frequency\": 1, \"value\": 8658}, \"14803\": {\"frequency\": 2, \"value\": 14803}, \"10708\": {\"frequency\": 1, \"value\": 10708}, \"10712\": {\"frequency\": 1, \"value\": 10712}, \"9636\": {\"frequency\": 1, \"value\": 9636}, \"2522\": {\"frequency\": 3, \"value\": 2522}, \"4571\": {\"frequency\": 1, \"value\": 4571}, \"10721\": {\"frequency\": 1, \"value\": 10721}, \"6627\": {\"frequency\": 1, \"value\": 6627}, \"12772\": {\"frequency\": 1, \"value\": 12772}, \"6629\": {\"frequency\": 1, \"value\": 6629}, \"11345\": {\"frequency\": 1, \"value\": 11345}, \"10728\": {\"frequency\": 1, \"value\": 10728}, \"4590\": {\"frequency\": 1, \"value\": 4590}, \"2544\": {\"frequency\": 1, \"value\": 2544}, \"5063\": {\"frequency\": 1, \"value\": 5063}, \"9300\": {\"frequency\": 1, \"value\": 9300}, \"8700\": {\"frequency\": 1, \"value\": 8700}, \"12798\": {\"frequency\": 1, \"value\": 12798}, \"4608\": {\"frequency\": 1, \"value\": 4608}, \"14850\": {\"frequency\": 1, \"value\": 14850}, \"12803\": {\"frequency\": 1, \"value\": 12803}, \"25095\": {\"frequency\": 1, \"value\": 25095}, \"21000\": {\"frequency\": 1, \"value\": 21000}, \"16905\": {\"frequency\": 1, \"value\": 16905}, \"10762\": {\"frequency\": 2, \"value\": 10762}, \"14859\": {\"frequency\": 1, \"value\": 14859}, \"2572\": {\"frequency\": 1, \"value\": 2572}, \"9986\": {\"frequency\": 1, \"value\": 9986}, \"5814\": {\"frequency\": 1, \"value\": 5814}, \"10768\": {\"frequency\": 1, \"value\": 10768}, \"10769\": {\"frequency\": 1, \"value\": 10769}, \"8064\": {\"frequency\": 1, \"value\": 8064}, \"8724\": {\"frequency\": 1, \"value\": 8724}, \"12822\": {\"frequency\": 1, \"value\": 12822}, \"14572\": {\"frequency\": 1, \"value\": 14572}, \"10778\": {\"frequency\": 1, \"value\": 10778}, \"8731\": {\"frequency\": 1, \"value\": 8731}, \"10780\": {\"frequency\": 1, \"value\": 10780}, \"2592\": {\"frequency\": 1, \"value\": 2592}, \"8737\": {\"frequency\": 1, \"value\": 8737}, \"8738\": {\"frequency\": 1, \"value\": 8738}, \"8740\": {\"frequency\": 1, \"value\": 8740}, \"8741\": {\"frequency\": 1, \"value\": 8741}, \"10791\": {\"frequency\": 1, \"value\": 10791}, \"10793\": {\"frequency\": 1, \"value\": 10793}, \"7943\": {\"frequency\": 1, \"value\": 7943}, \"14892\": {\"frequency\": 1, \"value\": 14892}, \"8749\": {\"frequency\": 1, \"value\": 8749}, \"8750\": {\"frequency\": 4, \"value\": 8750}, \"10800\": {\"frequency\": 14, \"value\": 10800}, \"8755\": {\"frequency\": 1, \"value\": 8755}, \"8760\": {\"frequency\": 2, \"value\": 8760}, \"17503\": {\"frequency\": 1, \"value\": 17503}, \"8765\": {\"frequency\": 1, \"value\": 8765}, \"8767\": {\"frequency\": 1, \"value\": 8767}, \"12384\": {\"frequency\": 1, \"value\": 12384}, \"2628\": {\"frequency\": 1, \"value\": 2628}, \"8773\": {\"frequency\": 2, \"value\": 8773}, \"11361\": {\"frequency\": 1, \"value\": 11361}, \"8777\": {\"frequency\": 3, \"value\": 8777}, \"8780\": {\"frequency\": 1, \"value\": 8780}, \"10832\": {\"frequency\": 1, \"value\": 10832}, \"2645\": {\"frequency\": 2, \"value\": 2645}, \"12886\": {\"frequency\": 1, \"value\": 12886}, \"8791\": {\"frequency\": 1, \"value\": 8791}, \"5664\": {\"frequency\": 1, \"value\": 5664}, \"8795\": {\"frequency\": 1, \"value\": 8795}, \"10846\": {\"frequency\": 1, \"value\": 10846}, \"8800\": {\"frequency\": 4, \"value\": 8800}, \"12898\": {\"frequency\": 1, \"value\": 12898}, \"10852\": {\"frequency\": 1, \"value\": 10852}, \"4712\": {\"frequency\": 1, \"value\": 4712}, \"2665\": {\"frequency\": 2, \"value\": 2665}, \"6762\": {\"frequency\": 3, \"value\": 6762}, \"10859\": {\"frequency\": 1, \"value\": 10859}, \"8978\": {\"frequency\": 1, \"value\": 8978}, \"8814\": {\"frequency\": 2, \"value\": 8814}, \"8816\": {\"frequency\": 2, \"value\": 8816}, \"14963\": {\"frequency\": 1, \"value\": 14963}, \"8820\": {\"frequency\": 1, \"value\": 8820}, \"12919\": {\"frequency\": 1, \"value\": 12919}, \"14100\": {\"frequency\": 1, \"value\": 14100}, \"6780\": {\"frequency\": 1, \"value\": 6780}, \"12394\": {\"frequency\": 1, \"value\": 12394}, \"10880\": {\"frequency\": 1, \"value\": 10880}, \"14977\": {\"frequency\": 1, \"value\": 14977}, \"8834\": {\"frequency\": 1, \"value\": 8834}, \"6792\": {\"frequency\": 1, \"value\": 6792}, \"8846\": {\"frequency\": 2, \"value\": 8846}, \"10896\": {\"frequency\": 1, \"value\": 10896}, \"8849\": {\"frequency\": 1, \"value\": 8849}, \"8850\": {\"frequency\": 1, \"value\": 8850}, \"17043\": {\"frequency\": 1, \"value\": 17043}, \"10900\": {\"frequency\": 1, \"value\": 10900}, \"8854\": {\"frequency\": 1, \"value\": 8854}, \"1477\": {\"frequency\": 1, \"value\": 1477}, \"2160\": {\"frequency\": 1, \"value\": 2160}, \"6820\": {\"frequency\": 1, \"value\": 6820}, \"10918\": {\"frequency\": 1, \"value\": 10918}, \"9638\": {\"frequency\": 1, \"value\": 9638}, \"10920\": {\"frequency\": 1, \"value\": 10920}, \"10921\": {\"frequency\": 1, \"value\": 10921}, \"8877\": {\"frequency\": 2, \"value\": 8877}, \"10927\": {\"frequency\": 1, \"value\": 10927}, \"8880\": {\"frequency\": 1, \"value\": 8880}, \"10930\": {\"frequency\": 1, \"value\": 10930}, \"8885\": {\"frequency\": 1, \"value\": 8885}, \"11207\": {\"frequency\": 1, \"value\": 11207}, \"12984\": {\"frequency\": 1, \"value\": 12984}, \"8892\": {\"frequency\": 2, \"value\": 8892}, \"4800\": {\"frequency\": 1, \"value\": 4800}, \"19138\": {\"frequency\": 1, \"value\": 19138}, \"8899\": {\"frequency\": 1, \"value\": 8899}, \"8900\": {\"frequency\": 1, \"value\": 8900}, \"6853\": {\"frequency\": 1, \"value\": 6853}, \"25286\": {\"frequency\": 1, \"value\": 25286}, \"13000\": {\"frequency\": 1, \"value\": 13000}, \"6858\": {\"frequency\": 1, \"value\": 6858}, \"13005\": {\"frequency\": 1, \"value\": 13005}, \"13006\": {\"frequency\": 1, \"value\": 13006}, \"17104\": {\"frequency\": 1, \"value\": 17104}, \"7630\": {\"frequency\": 1, \"value\": 7630}, \"23257\": {\"frequency\": 1, \"value\": 23257}, \"10970\": {\"frequency\": 1, \"value\": 10970}, \"8923\": {\"frequency\": 1, \"value\": 8923}, \"8924\": {\"frequency\": 1, \"value\": 8924}, \"8925\": {\"frequency\": 1, \"value\": 8925}, \"8926\": {\"frequency\": 1, \"value\": 8926}, \"17120\": {\"frequency\": 1, \"value\": 17120}, \"8930\": {\"frequency\": 1, \"value\": 8930}, \"13031\": {\"frequency\": 1, \"value\": 13031}, \"9340\": {\"frequency\": 1, \"value\": 9340}, \"10991\": {\"frequency\": 1, \"value\": 10991}, \"8944\": {\"frequency\": 1, \"value\": 8944}, \"6897\": {\"frequency\": 1, \"value\": 6897}, \"10994\": {\"frequency\": 1, \"value\": 10994}, \"5587\": {\"frequency\": 1, \"value\": 5587}, \"6900\": {\"frequency\": 1, \"value\": 6900}, \"10998\": {\"frequency\": 1, \"value\": 10998}, \"11000\": {\"frequency\": 2, \"value\": 11000}, \"5890\": {\"frequency\": 1, \"value\": 5890}, \"11003\": {\"frequency\": 1, \"value\": 11003}, \"13053\": {\"frequency\": 1, \"value\": 13053}, \"6911\": {\"frequency\": 1, \"value\": 6911}, \"8960\": {\"frequency\": 1, \"value\": 8960}, \"12416\": {\"frequency\": 1, \"value\": 12416}, \"8963\": {\"frequency\": 1, \"value\": 8963}, \"21780\": {\"frequency\": 1, \"value\": 21780}, \"8967\": {\"frequency\": 1, \"value\": 8967}, \"8973\": {\"frequency\": 1, \"value\": 8973}, \"14006\": {\"frequency\": 1, \"value\": 14006}, \"13072\": {\"frequency\": 2, \"value\": 13072}, \"6930\": {\"frequency\": 1, \"value\": 6930}, \"6931\": {\"frequency\": 1, \"value\": 6931}, \"11029\": {\"frequency\": 2, \"value\": 11029}, \"7596\": {\"frequency\": 1, \"value\": 7596}, \"8990\": {\"frequency\": 1, \"value\": 8990}, \"11040\": {\"frequency\": 2, \"value\": 11040}, \"8993\": {\"frequency\": 1, \"value\": 8993}, \"15138\": {\"frequency\": 1, \"value\": 15138}, \"17542\": {\"frequency\": 1, \"value\": 17542}, \"21286\": {\"frequency\": 1, \"value\": 21286}, \"6951\": {\"frequency\": 1, \"value\": 6951}, \"9000\": {\"frequency\": 14, \"value\": 9000}, \"11049\": {\"frequency\": 1, \"value\": 11049}, \"11050\": {\"frequency\": 1, \"value\": 11050}, \"6955\": {\"frequency\": 1, \"value\": 6955}, \"13101\": {\"frequency\": 1, \"value\": 13101}, \"6960\": {\"frequency\": 1, \"value\": 6960}, \"12144\": {\"frequency\": 1, \"value\": 12144}, \"20544\": {\"frequency\": 1, \"value\": 20544}, \"164660\": {\"frequency\": 1, \"value\": 164660}, \"4920\": {\"frequency\": 1, \"value\": 4920}, \"9017\": {\"frequency\": 1, \"value\": 9017}, \"9018\": {\"frequency\": 1, \"value\": 9018}, \"4923\": {\"frequency\": 1, \"value\": 4923}, \"9020\": {\"frequency\": 2, \"value\": 9020}, \"13450\": {\"frequency\": 1, \"value\": 13450}, \"9022\": {\"frequency\": 1, \"value\": 9022}, \"4928\": {\"frequency\": 2, \"value\": 4928}, \"17217\": {\"frequency\": 1, \"value\": 17217}, \"6979\": {\"frequency\": 1, \"value\": 6979}, \"13125\": {\"frequency\": 4, \"value\": 13125}, \"2887\": {\"frequency\": 1, \"value\": 2887}, \"1533\": {\"frequency\": 2, \"value\": 1533}, \"25419\": {\"frequency\": 1, \"value\": 25419}, \"13132\": {\"frequency\": 1, \"value\": 13132}, \"9037\": {\"frequency\": 1, \"value\": 9037}, \"9098\": {\"frequency\": 1, \"value\": 9098}, \"6993\": {\"frequency\": 1, \"value\": 6993}, \"9042\": {\"frequency\": 2, \"value\": 9042}, \"20896\": {\"frequency\": 1, \"value\": 20896}, \"11065\": {\"frequency\": 1, \"value\": 11065}, \"7000\": {\"frequency\": 4, \"value\": 7000}, \"11100\": {\"frequency\": 1, \"value\": 11100}, \"6970\": {\"frequency\": 1, \"value\": 6970}, \"11103\": {\"frequency\": 1, \"value\": 11103}, \"19296\": {\"frequency\": 1, \"value\": 19296}, \"9060\": {\"frequency\": 2, \"value\": 9060}, \"7015\": {\"frequency\": 1, \"value\": 7015}, \"9066\": {\"frequency\": 1, \"value\": 9066}, \"9069\": {\"frequency\": 1, \"value\": 9069}, \"16737\": {\"frequency\": 1, \"value\": 16737}, \"7024\": {\"frequency\": 2, \"value\": 7024}, \"8339\": {\"frequency\": 1, \"value\": 8339}, \"29959\": {\"frequency\": 1, \"value\": 29959}, \"11070\": {\"frequency\": 1, \"value\": 11070}, \"13175\": {\"frequency\": 1, \"value\": 13175}, \"7032\": {\"frequency\": 1, \"value\": 7032}, \"9084\": {\"frequency\": 3, \"value\": 9084}, \"11143\": {\"frequency\": 1, \"value\": 11143}, \"21384\": {\"frequency\": 1, \"value\": 21384}, \"5001\": {\"frequency\": 1, \"value\": 5001}, \"7050\": {\"frequency\": 1, \"value\": 7050}, \"9100\": {\"frequency\": 8, \"value\": 9100}, \"9101\": {\"frequency\": 1, \"value\": 9101}, \"7056\": {\"frequency\": 1, \"value\": 7056}, \"11075\": {\"frequency\": 2, \"value\": 11075}, \"7060\": {\"frequency\": 1, \"value\": 7060}, \"7064\": {\"frequency\": 1, \"value\": 7064}, \"16196\": {\"frequency\": 1, \"value\": 16196}, \"13214\": {\"frequency\": 1, \"value\": 13214}, \"9120\": {\"frequency\": 3, \"value\": 9120}, \"8688\": {\"frequency\": 1, \"value\": 8688}, \"11170\": {\"frequency\": 1, \"value\": 11170}, \"10395\": {\"frequency\": 1, \"value\": 10395}, \"9125\": {\"frequency\": 1, \"value\": 9125}, \"11175\": {\"frequency\": 1, \"value\": 11175}, \"12444\": {\"frequency\": 1, \"value\": 12444}, \"9130\": {\"frequency\": 1, \"value\": 9130}, \"6130\": {\"frequency\": 1, \"value\": 6130}, \"9135\": {\"frequency\": 2, \"value\": 9135}, \"11184\": {\"frequency\": 1, \"value\": 11184}, \"19378\": {\"frequency\": 1, \"value\": 19378}, \"40094\": {\"frequency\": 1, \"value\": 40094}, \"9142\": {\"frequency\": 1, \"value\": 9142}, \"9144\": {\"frequency\": 1, \"value\": 9144}, \"11194\": {\"frequency\": 1, \"value\": 11194}, \"11423\": {\"frequency\": 1, \"value\": 11423}, \"7100\": {\"frequency\": 1, \"value\": 7100}, \"9150\": {\"frequency\": 1, \"value\": 9150}, \"11200\": {\"frequency\": 2, \"value\": 11200}, \"3010\": {\"frequency\": 1, \"value\": 3010}, \"9156\": {\"frequency\": 1, \"value\": 9156}, \"3013\": {\"frequency\": 1, \"value\": 3013}, \"5062\": {\"frequency\": 1, \"value\": 5062}, \"6305\": {\"frequency\": 1, \"value\": 6305}, \"12108\": {\"frequency\": 1, \"value\": 12108}, \"15306\": {\"frequency\": 1, \"value\": 15306}, \"15863\": {\"frequency\": 1, \"value\": 15863}, \"13474\": {\"frequency\": 1, \"value\": 13474}, \"11214\": {\"frequency\": 1, \"value\": 11214}, \"1869\": {\"frequency\": 1, \"value\": 1869}, \"11216\": {\"frequency\": 1, \"value\": 11216}, \"13265\": {\"frequency\": 1, \"value\": 13265}, \"9170\": {\"frequency\": 1, \"value\": 9170}, \"7128\": {\"frequency\": 1, \"value\": 7128}, \"7332\": {\"frequency\": 1, \"value\": 7332}, \"9179\": {\"frequency\": 1, \"value\": 9179}, \"9180\": {\"frequency\": 1, \"value\": 9180}, \"7134\": {\"frequency\": 1, \"value\": 7134}, \"7136\": {\"frequency\": 1, \"value\": 7136}, \"9187\": {\"frequency\": 2, \"value\": 9187}, \"13284\": {\"frequency\": 1, \"value\": 13284}, \"13478\": {\"frequency\": 1, \"value\": 13478}, \"13286\": {\"frequency\": 1, \"value\": 13286}, \"11241\": {\"frequency\": 1, \"value\": 11241}, \"9196\": {\"frequency\": 1, \"value\": 9196}, \"7150\": {\"frequency\": 1, \"value\": 7150}, \"7677\": {\"frequency\": 1, \"value\": 7677}, \"9200\": {\"frequency\": 3, \"value\": 9200}, \"7153\": {\"frequency\": 2, \"value\": 7153}, \"11250\": {\"frequency\": 4, \"value\": 11250}, \"13300\": {\"frequency\": 1, \"value\": 13300}, \"9206\": {\"frequency\": 1, \"value\": 9206}, \"17400\": {\"frequency\": 1, \"value\": 17400}, \"7162\": {\"frequency\": 1, \"value\": 7162}, \"5119\": {\"frequency\": 1, \"value\": 5119}, \"3072\": {\"frequency\": 1, \"value\": 3072}, \"12800\": {\"frequency\": 1, \"value\": 12800}, \"27650\": {\"frequency\": 1, \"value\": 27650}, \"7740\": {\"frequency\": 1, \"value\": 7740}, \"8872\": {\"frequency\": 1, \"value\": 8872}, \"7175\": {\"frequency\": 1, \"value\": 7175}, \"11275\": {\"frequency\": 2, \"value\": 11275}, \"7180\": {\"frequency\": 1, \"value\": 7180}, \"9230\": {\"frequency\": 1, \"value\": 9230}, \"17423\": {\"frequency\": 1, \"value\": 17423}, \"11096\": {\"frequency\": 1, \"value\": 11096}, \"9236\": {\"frequency\": 1, \"value\": 9236}, \"4270\": {\"frequency\": 1, \"value\": 4270}, \"11287\": {\"frequency\": 1, \"value\": 11287}, \"9240\": {\"frequency\": 1, \"value\": 9240}, \"31770\": {\"frequency\": 1, \"value\": 31770}, \"9245\": {\"frequency\": 2, \"value\": 9245}, \"9246\": {\"frequency\": 1, \"value\": 9246}, \"21535\": {\"frequency\": 1, \"value\": 21535}, \"7200\": {\"frequency\": 25, \"value\": 7200}, \"16560\": {\"frequency\": 1, \"value\": 16560}, \"13346\": {\"frequency\": 1, \"value\": 13346}, \"11302\": {\"frequency\": 1, \"value\": 11302}, \"7207\": {\"frequency\": 1, \"value\": 7207}, \"23595\": {\"frequency\": 1, \"value\": 23595}, \"10659\": {\"frequency\": 1, \"value\": 10659}, \"11310\": {\"frequency\": 1, \"value\": 11310}, \"13360\": {\"frequency\": 1, \"value\": 13360}, \"8712\": {\"frequency\": 3, \"value\": 8712}, \"11316\": {\"frequency\": 1, \"value\": 11316}, \"11317\": {\"frequency\": 1, \"value\": 11317}, \"11218\": {\"frequency\": 1, \"value\": 11218}, \"6324\": {\"frequency\": 1, \"value\": 6324}, \"7226\": {\"frequency\": 1, \"value\": 7226}, \"7227\": {\"frequency\": 1, \"value\": 7227}, \"12925\": {\"frequency\": 1, \"value\": 12925}, \"3136\": {\"frequency\": 1, \"value\": 3136}, \"9056\": {\"frequency\": 1, \"value\": 9056}, \"15426\": {\"frequency\": 1, \"value\": 15426}, \"11333\": {\"frequency\": 1, \"value\": 11333}, \"9286\": {\"frequency\": 1, \"value\": 9286}, \"15431\": {\"frequency\": 1, \"value\": 15431}, \"4017\": {\"frequency\": 1, \"value\": 4017}, \"9291\": {\"frequency\": 1, \"value\": 9291}, \"11340\": {\"frequency\": 2, \"value\": 11340}, \"11341\": {\"frequency\": 1, \"value\": 11341}, \"11344\": {\"frequency\": 1, \"value\": 11344}, \"9297\": {\"frequency\": 1, \"value\": 9297}, \"7252\": {\"frequency\": 1, \"value\": 7252}, \"9303\": {\"frequency\": 1, \"value\": 9303}, \"13400\": {\"frequency\": 1, \"value\": 13400}, \"10084\": {\"frequency\": 2, \"value\": 10084}, \"7259\": {\"frequency\": 1, \"value\": 7259}, \"17500\": {\"frequency\": 1, \"value\": 17500}, \"4282\": {\"frequency\": 1, \"value\": 4282}, \"50271\": {\"frequency\": 1, \"value\": 50271}, \"7264\": {\"frequency\": 1, \"value\": 7264}, \"9313\": {\"frequency\": 1, \"value\": 9313}, \"11362\": {\"frequency\": 1, \"value\": 11362}, \"9317\": {\"frequency\": 2, \"value\": 9317}, \"11367\": {\"frequency\": 1, \"value\": 11367}, \"9320\": {\"frequency\": 1, \"value\": 9320}, \"70761\": {\"frequency\": 1, \"value\": 70761}, \"13418\": {\"frequency\": 1, \"value\": 13418}, \"13159\": {\"frequency\": 1, \"value\": 13159}, \"3180\": {\"frequency\": 2, \"value\": 3180}, \"3182\": {\"frequency\": 7, \"value\": 3182}, \"9405\": {\"frequency\": 1, \"value\": 9405}, \"5232\": {\"frequency\": 1, \"value\": 5232}, \"9337\": {\"frequency\": 1, \"value\": 9337}, \"21695\": {\"frequency\": 1, \"value\": 21695}, \"3196\": {\"frequency\": 2, \"value\": 3196}, \"7018\": {\"frequency\": 4, \"value\": 7018}, \"11394\": {\"frequency\": 1, \"value\": 11394}, \"7301\": {\"frequency\": 1, \"value\": 7301}, \"9350\": {\"frequency\": 2, \"value\": 9350}, \"25339\": {\"frequency\": 1, \"value\": 25339}, \"11400\": {\"frequency\": 1, \"value\": 11400}, \"9353\": {\"frequency\": 1, \"value\": 9353}, \"15498\": {\"frequency\": 1, \"value\": 15498}, \"11404\": {\"frequency\": 1, \"value\": 11404}, \"9360\": {\"frequency\": 1, \"value\": 9360}, \"11409\": {\"frequency\": 1, \"value\": 11409}, \"7314\": {\"frequency\": 1, \"value\": 7314}, \"9364\": {\"frequency\": 1, \"value\": 9364}, \"11414\": {\"frequency\": 1, \"value\": 11414}, \"5271\": {\"frequency\": 1, \"value\": 5271}, \"14191\": {\"frequency\": 1, \"value\": 14191}, \"8730\": {\"frequency\": 1, \"value\": 8730}, \"3230\": {\"frequency\": 2, \"value\": 3230}, \"9375\": {\"frequency\": 4, \"value\": 9375}, \"13472\": {\"frequency\": 1, \"value\": 13472}, \"11425\": {\"frequency\": 1, \"value\": 11425}, \"11426\": {\"frequency\": 1, \"value\": 11426}, \"15523\": {\"frequency\": 1, \"value\": 15523}, \"11428\": {\"frequency\": 1, \"value\": 11428}, \"9382\": {\"frequency\": 1, \"value\": 9382}, \"21453\": {\"frequency\": 1, \"value\": 21453}, \"11435\": {\"frequency\": 1, \"value\": 11435}, \"7340\": {\"frequency\": 1, \"value\": 7340}, \"5700\": {\"frequency\": 1, \"value\": 5700}, \"14536\": {\"frequency\": 1, \"value\": 14536}, \"11443\": {\"frequency\": 1, \"value\": 11443}, \"26142\": {\"frequency\": 1, \"value\": 26142}, \"7350\": {\"frequency\": 1, \"value\": 7350}, \"9400\": {\"frequency\": 2, \"value\": 9400}, \"5306\": {\"frequency\": 1, \"value\": 5306}, \"7711\": {\"frequency\": 1, \"value\": 7711}, \"13500\": {\"frequency\": 2, \"value\": 13500}, \"13501\": {\"frequency\": 1, \"value\": 13501}, \"5310\": {\"frequency\": 1, \"value\": 5310}, \"13173\": {\"frequency\": 1, \"value\": 13173}, \"17600\": {\"frequency\": 1, \"value\": 17600}, \"11457\": {\"frequency\": 1, \"value\": 11457}, \"9416\": {\"frequency\": 1, \"value\": 9416}, \"13515\": {\"frequency\": 1, \"value\": 13515}, \"13517\": {\"frequency\": 1, \"value\": 13517}, \"13518\": {\"frequency\": 1, \"value\": 13518}, \"215245\": {\"frequency\": 1, \"value\": 215245}, \"11120\": {\"frequency\": 1, \"value\": 11120}, \"5330\": {\"frequency\": 2, \"value\": 5330}, \"11475\": {\"frequency\": 2, \"value\": 11475}, \"9430\": {\"frequency\": 1, \"value\": 9430}, \"15576\": {\"frequency\": 1, \"value\": 15576}, \"9764\": {\"frequency\": 1, \"value\": 9764}, \"15578\": {\"frequency\": 1, \"value\": 15578}, \"7388\": {\"frequency\": 1, \"value\": 7388}, \"7390\": {\"frequency\": 1, \"value\": 7390}, \"9439\": {\"frequency\": 1, \"value\": 9439}, \"10592\": {\"frequency\": 1, \"value\": 10592}, \"10448\": {\"frequency\": 1, \"value\": 10448}, \"12256\": {\"frequency\": 1, \"value\": 12256}, \"5350\": {\"frequency\": 1, \"value\": 5350}, \"9248\": {\"frequency\": 1, \"value\": 9248}, \"15593\": {\"frequency\": 1, \"value\": 15593}, \"9450\": {\"frequency\": 1, \"value\": 9450}, \"9452\": {\"frequency\": 1, \"value\": 9452}, \"9453\": {\"frequency\": 1, \"value\": 9453}, \"7406\": {\"frequency\": 1, \"value\": 7406}, \"7407\": {\"frequency\": 1, \"value\": 7407}, \"15602\": {\"frequency\": 1, \"value\": 15602}, \"3316\": {\"frequency\": 1, \"value\": 3316}, \"21750\": {\"frequency\": 2, \"value\": 21750}, \"7415\": {\"frequency\": 1, \"value\": 7415}, \"9464\": {\"frequency\": 1, \"value\": 9464}, \"15611\": {\"frequency\": 2, \"value\": 15611}, \"7420\": {\"frequency\": 2, \"value\": 7420}, \"13568\": {\"frequency\": 1, \"value\": 13568}, \"9473\": {\"frequency\": 1, \"value\": 9473}, \"9477\": {\"frequency\": 1, \"value\": 9477}, \"11526\": {\"frequency\": 1, \"value\": 11526}, \"15623\": {\"frequency\": 1, \"value\": 15623}, \"9480\": {\"frequency\": 1, \"value\": 9480}, \"5389\": {\"frequency\": 1, \"value\": 5389}, \"7438\": {\"frequency\": 1, \"value\": 7438}, \"9490\": {\"frequency\": 1, \"value\": 9490}, \"5395\": {\"frequency\": 1, \"value\": 5395}, \"1300\": {\"frequency\": 1, \"value\": 1300}, \"7446\": {\"frequency\": 1, \"value\": 7446}, \"159000\": {\"frequency\": 1, \"value\": 159000}, \"7449\": {\"frequency\": 1, \"value\": 7449}, \"9500\": {\"frequency\": 2, \"value\": 9500}, \"9503\": {\"frequency\": 1, \"value\": 9503}, \"13600\": {\"frequency\": 2, \"value\": 13600}, \"11553\": {\"frequency\": 1, \"value\": 11553}, \"9250\": {\"frequency\": 1, \"value\": 9250}, \"14774\": {\"frequency\": 1, \"value\": 14774}, \"2268\": {\"frequency\": 1, \"value\": 2268}, \"15660\": {\"frequency\": 1, \"value\": 15660}, \"9520\": {\"frequency\": 1, \"value\": 9520}, \"5000\": {\"frequency\": 5, \"value\": 5000}, \"3378\": {\"frequency\": 1, \"value\": 3378}, \"9525\": {\"frequency\": 2, \"value\": 9525}, \"3636\": {\"frequency\": 1, \"value\": 3636}, \"10463\": {\"frequency\": 1, \"value\": 10463}, \"5436\": {\"frequency\": 1, \"value\": 5436}, \"11146\": {\"frequency\": 1, \"value\": 11146}, \"8910\": {\"frequency\": 1, \"value\": 8910}, \"9541\": {\"frequency\": 1, \"value\": 9541}, \"7052\": {\"frequency\": 1, \"value\": 7052}, \"7500\": {\"frequency\": 9, \"value\": 7500}, \"9549\": {\"frequency\": 1, \"value\": 9549}, \"9550\": {\"frequency\": 1, \"value\": 9550}, \"11600\": {\"frequency\": 3, \"value\": 11600}, \"13650\": {\"frequency\": 1, \"value\": 13650}, \"13651\": {\"frequency\": 1, \"value\": 13651}, \"11606\": {\"frequency\": 1, \"value\": 11606}, \"45600\": {\"frequency\": 1, \"value\": 45600}, \"9560\": {\"frequency\": 1, \"value\": 9560}, \"17755\": {\"frequency\": 1, \"value\": 17755}, \"11616\": {\"frequency\": 2, \"value\": 11616}, \"5520\": {\"frequency\": 1, \"value\": 5520}, \"9571\": {\"frequency\": 2, \"value\": 9571}, \"9572\": {\"frequency\": 1, \"value\": 9572}, \"13673\": {\"frequency\": 1, \"value\": 13673}, \"7399\": {\"frequency\": 1, \"value\": 7399}, \"7535\": {\"frequency\": 1, \"value\": 7535}, \"13680\": {\"frequency\": 1, \"value\": 13680}, \"13682\": {\"frequency\": 1, \"value\": 13682}, \"9587\": {\"frequency\": 1, \"value\": 9587}, \"7540\": {\"frequency\": 1, \"value\": 7540}, \"9790\": {\"frequency\": 2, \"value\": 9790}, \"9590\": {\"frequency\": 1, \"value\": 9590}, \"9591\": {\"frequency\": 2, \"value\": 9591}, \"13688\": {\"frequency\": 1, \"value\": 13688}, \"12180\": {\"frequency\": 1, \"value\": 12180}, \"4671\": {\"frequency\": 1, \"value\": 4671}, \"5500\": {\"frequency\": 2, \"value\": 5500}, \"11645\": {\"frequency\": 2, \"value\": 11645}, \"10784\": {\"frequency\": 1, \"value\": 10784}, \"13695\": {\"frequency\": 2, \"value\": 13695}, \"9600\": {\"frequency\": 24, \"value\": 9600}, \"10475\": {\"frequency\": 1, \"value\": 10475}, \"13700\": {\"frequency\": 1, \"value\": 13700}, \"14230\": {\"frequency\": 1, \"value\": 14230}, \"15750\": {\"frequency\": 1, \"value\": 15750}, \"8769\": {\"frequency\": 1, \"value\": 8769}, \"13704\": {\"frequency\": 1, \"value\": 13704}, \"11500\": {\"frequency\": 3, \"value\": 11500}, \"9612\": {\"frequency\": 1, \"value\": 9612}, \"13710\": {\"frequency\": 1, \"value\": 13710}, \"11664\": {\"frequency\": 1, \"value\": 11664}, \"11160\": {\"frequency\": 1, \"value\": 11160}, \"11670\": {\"frequency\": 1, \"value\": 11670}, \"7577\": {\"frequency\": 1, \"value\": 7577}, \"17140\": {\"frequency\": 1, \"value\": 17140}, \"13728\": {\"frequency\": 1, \"value\": 13728}, \"7585\": {\"frequency\": 1, \"value\": 7585}, \"7588\": {\"frequency\": 1, \"value\": 7588}, \"11846\": {\"frequency\": 1, \"value\": 11846}, \"7590\": {\"frequency\": 2, \"value\": 7590}, \"10140\": {\"frequency\": 5, \"value\": 10140}, \"21930\": {\"frequency\": 1, \"value\": 21930}, \"8775\": {\"frequency\": 1, \"value\": 8775}, \"3500\": {\"frequency\": 1, \"value\": 3500}, \"5362\": {\"frequency\": 1, \"value\": 5362}, \"11694\": {\"frequency\": 1, \"value\": 11694}, \"7599\": {\"frequency\": 1, \"value\": 7599}, \"9650\": {\"frequency\": 1, \"value\": 9650}, \"11700\": {\"frequency\": 4, \"value\": 11700}, \"10142\": {\"frequency\": 1, \"value\": 10142}, \"19900\": {\"frequency\": 1, \"value\": 19900}, \"10839\": {\"frequency\": 1, \"value\": 10839}, \"13758\": {\"frequency\": 1, \"value\": 13758}, \"9803\": {\"frequency\": 1, \"value\": 9803}, \"11717\": {\"frequency\": 1, \"value\": 11717}, \"1953\": {\"frequency\": 1, \"value\": 1953}, \"9672\": {\"frequency\": 1, \"value\": 9672}, \"9675\": {\"frequency\": 1, \"value\": 9675}, \"13526\": {\"frequency\": 1, \"value\": 13526}, \"17871\": {\"frequency\": 1, \"value\": 17871}, \"21872\": {\"frequency\": 1, \"value\": 21872}, \"5586\": {\"frequency\": 1, \"value\": 5586}, \"1491\": {\"frequency\": 1, \"value\": 1491}, \"13825\": {\"frequency\": 1, \"value\": 13825}, \"14585\": {\"frequency\": 1, \"value\": 14585}, \"19690\": {\"frequency\": 1, \"value\": 19690}, \"7642\": {\"frequency\": 1, \"value\": 7642}, \"11643\": {\"frequency\": 1, \"value\": 11643}, \"5600\": {\"frequency\": 1, \"value\": 5600}, \"9808\": {\"frequency\": 1, \"value\": 9808}, \"14587\": {\"frequency\": 1, \"value\": 14587}, \"5604\": {\"frequency\": 1, \"value\": 5604}, \"11751\": {\"frequency\": 1, \"value\": 11751}, \"7658\": {\"frequency\": 1, \"value\": 7658}, \"8158\": {\"frequency\": 1, \"value\": 8158}, \"13811\": {\"frequency\": 1, \"value\": 13811}, \"11764\": {\"frequency\": 1, \"value\": 11764}, \"9717\": {\"frequency\": 1, \"value\": 9717}, \"1526\": {\"frequency\": 1, \"value\": 1526}, \"11767\": {\"frequency\": 2, \"value\": 11767}, \"15865\": {\"frequency\": 1, \"value\": 15865}, \"46589\": {\"frequency\": 1, \"value\": 46589}, \"15870\": {\"frequency\": 1, \"value\": 15870}, \"17920\": {\"frequency\": 1, \"value\": 17920}, \"11777\": {\"frequency\": 1, \"value\": 11777}, \"7685\": {\"frequency\": 1, \"value\": 7685}, \"11782\": {\"frequency\": 1, \"value\": 11782}, \"9735\": {\"frequency\": 1, \"value\": 9735}, \"9738\": {\"frequency\": 1, \"value\": 9738}, \"11787\": {\"frequency\": 1, \"value\": 11787}, \"12122\": {\"frequency\": 1, \"value\": 12122}, \"13837\": {\"frequency\": 1, \"value\": 13837}, \"9742\": {\"frequency\": 1, \"value\": 9742}, \"3600\": {\"frequency\": 1, \"value\": 3600}, \"7700\": {\"frequency\": 2, \"value\": 7700}, \"9750\": {\"frequency\": 5, \"value\": 9750}, \"2308\": {\"frequency\": 2, \"value\": 2308}, \"24090\": {\"frequency\": 1, \"value\": 24090}, \"9758\": {\"frequency\": 1, \"value\": 9758}, \"5381\": {\"frequency\": 1, \"value\": 5381}, \"9760\": {\"frequency\": 2, \"value\": 9760}, \"35760\": {\"frequency\": 1, \"value\": 35760}, \"3675\": {\"frequency\": 3, \"value\": 3675}, \"13860\": {\"frequency\": 1, \"value\": 13860}, \"9765\": {\"frequency\": 1, \"value\": 9765}, \"16692\": {\"frequency\": 1, \"value\": 16692}, \"17671\": {\"frequency\": 1, \"value\": 17671}, \"13869\": {\"frequency\": 1, \"value\": 13869}, \"10226\": {\"frequency\": 1, \"value\": 10226}, \"7728\": {\"frequency\": 1, \"value\": 7728}, \"3635\": {\"frequency\": 1, \"value\": 3635}, \"5684\": {\"frequency\": 1, \"value\": 5684}, \"5687\": {\"frequency\": 1, \"value\": 5687}, \"9786\": {\"frequency\": 2, \"value\": 9786}, \"1596\": {\"frequency\": 1, \"value\": 1596}, \"7742\": {\"frequency\": 1, \"value\": 7742}, \"11839\": {\"frequency\": 1, \"value\": 11839}, \"11841\": {\"frequency\": 1, \"value\": 11841}, \"26178\": {\"frequency\": 1, \"value\": 26178}, \"13891\": {\"frequency\": 3, \"value\": 13891}, \"11844\": {\"frequency\": 1, \"value\": 11844}, \"7094\": {\"frequency\": 1, \"value\": 7094}, \"7750\": {\"frequency\": 3, \"value\": 7750}, \"9800\": {\"frequency\": 1, \"value\": 9800}, \"11851\": {\"frequency\": 1, \"value\": 11851}, \"1920\": {\"frequency\": 1, \"value\": 1920}, \"7758\": {\"frequency\": 2, \"value\": 7758}, \"18000\": {\"frequency\": 1, \"value\": 18000}, \"3000\": {\"frequency\": 1, \"value\": 3000}, \"13907\": {\"frequency\": 1, \"value\": 13907}, \"11988\": {\"frequency\": 2, \"value\": 11988}, \"5720\": {\"frequency\": 1, \"value\": 5720}, \"12900\": {\"frequency\": 1, \"value\": 12900}, \"9819\": {\"frequency\": 2, \"value\": 9819}, \"9825\": {\"frequency\": 1, \"value\": 9825}, \"10171\": {\"frequency\": 1, \"value\": 10171}, \"3684\": {\"frequency\": 1, \"value\": 3684}, \"9830\": {\"frequency\": 1, \"value\": 9830}, \"11880\": {\"frequency\": 1, \"value\": 11880}, \"12220\": {\"frequency\": 1, \"value\": 12220}, \"11883\": {\"frequency\": 1, \"value\": 11883}, \"11885\": {\"frequency\": 1, \"value\": 11885}, \"18030\": {\"frequency\": 1, \"value\": 18030}, \"11888\": {\"frequency\": 1, \"value\": 11888}, \"9842\": {\"frequency\": 2, \"value\": 9842}, \"7795\": {\"frequency\": 1, \"value\": 7795}, \"11198\": {\"frequency\": 1, \"value\": 11198}, \"7800\": {\"frequency\": 6, \"value\": 7800}, \"9492\": {\"frequency\": 1, \"value\": 9492}, \"11900\": {\"frequency\": 2, \"value\": 11900}, \"11512\": {\"frequency\": 1, \"value\": 11512}, \"9855\": {\"frequency\": 1, \"value\": 9855}, \"9858\": {\"frequency\": 1, \"value\": 9858}, \"11911\": {\"frequency\": 1, \"value\": 11911}, \"7819\": {\"frequency\": 1, \"value\": 7819}, \"7820\": {\"frequency\": 1, \"value\": 7820}, \"11308\": {\"frequency\": 1, \"value\": 11308}, \"1680\": {\"frequency\": 10, \"value\": 1680}, \"5400\": {\"frequency\": 5, \"value\": 5400}, \"11923\": {\"frequency\": 1, \"value\": 11923}, \"11924\": {\"frequency\": 1, \"value\": 11924}, \"3735\": {\"frequency\": 1, \"value\": 3735}, \"5784\": {\"frequency\": 1, \"value\": 5784}, \"2016\": {\"frequency\": 1, \"value\": 2016}, \"11932\": {\"frequency\": 1, \"value\": 11932}, \"7837\": {\"frequency\": 1, \"value\": 7837}, \"5790\": {\"frequency\": 1, \"value\": 5790}, \"3696\": {\"frequency\": 1, \"value\": 3696}, \"7844\": {\"frequency\": 1, \"value\": 7844}, \"9158\": {\"frequency\": 1, \"value\": 9158}, \"7851\": {\"frequency\": 1, \"value\": 7851}, \"9900\": {\"frequency\": 4, \"value\": 9900}, \"15256\": {\"frequency\": 1, \"value\": 15256}, \"14000\": {\"frequency\": 2, \"value\": 14000}, \"9906\": {\"frequency\": 1, \"value\": 9906}, \"7861\": {\"frequency\": 1, \"value\": 7861}, \"7862\": {\"frequency\": 1, \"value\": 7862}, \"16056\": {\"frequency\": 1, \"value\": 16056}, \"9204\": {\"frequency\": 1, \"value\": 9204}, \"16059\": {\"frequency\": 1, \"value\": 16059}, \"5820\": {\"frequency\": 1, \"value\": 5820}, \"11210\": {\"frequency\": 1, \"value\": 11210}, \"9920\": {\"frequency\": 3, \"value\": 9920}, \"5825\": {\"frequency\": 1, \"value\": 5825}, \"8072\": {\"frequency\": 1, \"value\": 8072}, \"7875\": {\"frequency\": 3, \"value\": 7875}, \"7879\": {\"frequency\": 1, \"value\": 7879}, \"3604\": {\"frequency\": 1, \"value\": 3604}, \"7082\": {\"frequency\": 1, \"value\": 7082}, \"9937\": {\"frequency\": 2, \"value\": 9937}, \"9938\": {\"frequency\": 1, \"value\": 9938}, \"3363\": {\"frequency\": 1, \"value\": 3363}, \"7892\": {\"frequency\": 2, \"value\": 7892}, \"9849\": {\"frequency\": 1, \"value\": 9849}, \"9945\": {\"frequency\": 1, \"value\": 9945}, \"9947\": {\"frequency\": 1, \"value\": 9947}, \"9950\": {\"frequency\": 1, \"value\": 9950}, \"11999\": {\"frequency\": 1, \"value\": 11999}, \"12000\": {\"frequency\": 2, \"value\": 12000}, \"12003\": {\"frequency\": 1, \"value\": 12003}, \"14054\": {\"frequency\": 1, \"value\": 14054}, \"7804\": {\"frequency\": 1, \"value\": 7804}, \"12011\": {\"frequency\": 1, \"value\": 12011}, \"5868\": {\"frequency\": 1, \"value\": 5868}, \"7917\": {\"frequency\": 2, \"value\": 7917}, \"9967\": {\"frequency\": 1, \"value\": 9967}, \"7920\": {\"frequency\": 1, \"value\": 7920}, \"7922\": {\"frequency\": 1, \"value\": 7922}, \"7930\": {\"frequency\": 1, \"value\": 7930}, \"7931\": {\"frequency\": 2, \"value\": 7931}, \"12030\": {\"frequency\": 1, \"value\": 12030}, \"12546\": {\"frequency\": 1, \"value\": 12546}, \"7937\": {\"frequency\": 1, \"value\": 7937}, \"3842\": {\"frequency\": 1, \"value\": 3842}, \"9991\": {\"frequency\": 1, \"value\": 9991}, \"7945\": {\"frequency\": 1, \"value\": 7945}, \"5900\": {\"frequency\": 1, \"value\": 5900}, \"12046\": {\"frequency\": 1, \"value\": 12046}, \"20781\": {\"frequency\": 1, \"value\": 20781}, \"10000\": {\"frequency\": 5, \"value\": 10000}, \"10004\": {\"frequency\": 1, \"value\": 10004}, \"10005\": {\"frequency\": 1, \"value\": 10005}, \"7313\": {\"frequency\": 1, \"value\": 7313}, \"10007\": {\"frequency\": 1, \"value\": 10007}, \"10010\": {\"frequency\": 1, \"value\": 10010}, \"10011\": {\"frequency\": 1, \"value\": 10011}, \"10012\": {\"frequency\": 1, \"value\": 10012}, \"7681\": {\"frequency\": 1, \"value\": 7681}, \"16158\": {\"frequency\": 1, \"value\": 16158}, \"14112\": {\"frequency\": 1, \"value\": 14112}, \"7472\": {\"frequency\": 1, \"value\": 7472}, \"14115\": {\"frequency\": 3, \"value\": 14115}, \"10020\": {\"frequency\": 1, \"value\": 10020}, \"5925\": {\"frequency\": 2, \"value\": 5925}, \"3880\": {\"frequency\": 1, \"value\": 3880}, \"11228\": {\"frequency\": 1, \"value\": 11228}, \"10029\": {\"frequency\": 1, \"value\": 10029}, \"12936\": {\"frequency\": 1, \"value\": 12936}, \"7950\": {\"frequency\": 1, \"value\": 7950}, \"8499\": {\"frequency\": 1, \"value\": 8499}, \"12085\": {\"frequency\": 1, \"value\": 12085}, \"7990\": {\"frequency\": 1, \"value\": 7990}, \"10041\": {\"frequency\": 1, \"value\": 10041}, \"12090\": {\"frequency\": 3, \"value\": 12090}, \"14303\": {\"frequency\": 1, \"value\": 14303}, \"4426\": {\"frequency\": 3, \"value\": 4426}, \"12095\": {\"frequency\": 1, \"value\": 12095}, \"8000\": {\"frequency\": 3, \"value\": 8000}, \"14145\": {\"frequency\": 1, \"value\": 14145}, \"2651\": {\"frequency\": 1, \"value\": 2651}, \"12099\": {\"frequency\": 1, \"value\": 12099}, \"8004\": {\"frequency\": 1, \"value\": 8004}, \"14154\": {\"frequency\": 1, \"value\": 14154}, \"9505\": {\"frequency\": 1, \"value\": 9505}, \"8012\": {\"frequency\": 3, \"value\": 8012}, \"14157\": {\"frequency\": 1, \"value\": 14157}, \"10496\": {\"frequency\": 1, \"value\": 10496}, \"3922\": {\"frequency\": 2, \"value\": 3922}, \"11235\": {\"frequency\": 1, \"value\": 11235}, \"4750\": {\"frequency\": 1, \"value\": 4750}, \"12118\": {\"frequency\": 1, \"value\": 12118}, \"6882\": {\"frequency\": 1, \"value\": 6882}, \"34650\": {\"frequency\": 1, \"value\": 34650}, \"8029\": {\"frequency\": 1, \"value\": 8029}, \"14175\": {\"frequency\": 1, \"value\": 14175}, \"1890\": {\"frequency\": 2, \"value\": 1890}, \"10083\": {\"frequency\": 1, \"value\": 10083}, \"16157\": {\"frequency\": 1, \"value\": 16157}, \"12134\": {\"frequency\": 1, \"value\": 12134}, \"9873\": {\"frequency\": 1, \"value\": 9873}, \"12137\": {\"frequency\": 1, \"value\": 12137}, \"6000\": {\"frequency\": 17, \"value\": 6000}, \"3950\": {\"frequency\": 1, \"value\": 3950}, \"3951\": {\"frequency\": 1, \"value\": 3951}, \"57200\": {\"frequency\": 1, \"value\": 57200}, \"8049\": {\"frequency\": 1, \"value\": 8049}, \"53107\": {\"frequency\": 1, \"value\": 53107}, \"24682\": {\"frequency\": 1, \"value\": 24682}, \"12150\": {\"frequency\": 1, \"value\": 12150}, \"14200\": {\"frequency\": 1, \"value\": 14200}, \"36500\": {\"frequency\": 1, \"value\": 36500}, \"10106\": {\"frequency\": 1, \"value\": 10106}, \"12155\": {\"frequency\": 2, \"value\": 12155}, \"3964\": {\"frequency\": 1, \"value\": 3964}, \"16226\": {\"frequency\": 1, \"value\": 16226}, \"8063\": {\"frequency\": 1, \"value\": 8063}, \"12160\": {\"frequency\": 2, \"value\": 12160}, \"11584\": {\"frequency\": 1, \"value\": 11584}, \"16259\": {\"frequency\": 1, \"value\": 16259}, \"8068\": {\"frequency\": 1, \"value\": 8068}, \"8070\": {\"frequency\": 1, \"value\": 8070}, \"14215\": {\"frequency\": 1, \"value\": 14215}, \"12168\": {\"frequency\": 1, \"value\": 12168}, \"5100\": {\"frequency\": 1, \"value\": 5100}, \"4224\": {\"frequency\": 2, \"value\": 4224}, \"7763\": {\"frequency\": 1, \"value\": 7763}, \"10125\": {\"frequency\": 2, \"value\": 10125}, \"3982\": {\"frequency\": 1, \"value\": 3982}, \"1936\": {\"frequency\": 1, \"value\": 1936}, \"9880\": {\"frequency\": 1, \"value\": 9880}, \"14226\": {\"frequency\": 1, \"value\": 14226}, \"22420\": {\"frequency\": 1, \"value\": 22420}, \"12182\": {\"frequency\": 1, \"value\": 12182}, \"6040\": {\"frequency\": 1, \"value\": 6040}, \"8089\": {\"frequency\": 1, \"value\": 8089}, \"32668\": {\"frequency\": 1, \"value\": 32668}, \"10141\": {\"frequency\": 1, \"value\": 10141}, \"1950\": {\"frequency\": 1, \"value\": 1950}, \"11248\": {\"frequency\": 1, \"value\": 11248}, \"11249\": {\"frequency\": 1, \"value\": 11249}, \"8100\": {\"frequency\": 2, \"value\": 8100}, \"10150\": {\"frequency\": 1, \"value\": 10150}, \"5105\": {\"frequency\": 1, \"value\": 5105}, \"10152\": {\"frequency\": 1, \"value\": 10152}, \"8385\": {\"frequency\": 1, \"value\": 8385}, \"12203\": {\"frequency\": 1, \"value\": 12203}, \"6060\": {\"frequency\": 1, \"value\": 6060}, \"12205\": {\"frequency\": 1, \"value\": 12205}, \"10159\": {\"frequency\": 1, \"value\": 10159}, \"12209\": {\"frequency\": 1, \"value\": 12209}, \"11838\": {\"frequency\": 1, \"value\": 11838}, \"14260\": {\"frequency\": 1, \"value\": 14260}, \"7838\": {\"frequency\": 1, \"value\": 7838}, \"1974\": {\"frequency\": 1, \"value\": 1974}, \"8120\": {\"frequency\": 1, \"value\": 8120}, \"8121\": {\"frequency\": 1, \"value\": 8121}, \"8123\": {\"frequency\": 1, \"value\": 8123}, \"9828\": {\"frequency\": 1, \"value\": 9828}, \"8125\": {\"frequency\": 8, \"value\": 8125}, \"10175\": {\"frequency\": 1, \"value\": 10175}, \"12224\": {\"frequency\": 1, \"value\": 12224}, \"16321\": {\"frequency\": 1, \"value\": 16321}, \"12227\": {\"frequency\": 1, \"value\": 12227}, \"10182\": {\"frequency\": 1, \"value\": 10182}, \"16033\": {\"frequency\": 1, \"value\": 16033}, \"9548\": {\"frequency\": 1, \"value\": 9548}, \"10186\": {\"frequency\": 1, \"value\": 10186}, \"4043\": {\"frequency\": 2, \"value\": 4043}, \"10208\": {\"frequency\": 1, \"value\": 10208}, \"4045\": {\"frequency\": 1, \"value\": 4045}, \"11796\": {\"frequency\": 1, \"value\": 11796}, \"20431\": {\"frequency\": 1, \"value\": 20431}, \"10192\": {\"frequency\": 1, \"value\": 10192}, \"2001\": {\"frequency\": 1, \"value\": 2001}, \"18386\": {\"frequency\": 1, \"value\": 18386}, \"12243\": {\"frequency\": 1, \"value\": 12243}, \"12244\": {\"frequency\": 1, \"value\": 12244}, \"10197\": {\"frequency\": 1, \"value\": 10197}, \"10200\": {\"frequency\": 3, \"value\": 10200}, \"4058\": {\"frequency\": 1, \"value\": 4058}, \"4060\": {\"frequency\": 2, \"value\": 4060}, \"10205\": {\"frequency\": 1, \"value\": 10205}, \"10206\": {\"frequency\": 2, \"value\": 10206}, \"10207\": {\"frequency\": 1, \"value\": 10207}, \"8160\": {\"frequency\": 1, \"value\": 8160}, \"12257\": {\"frequency\": 1, \"value\": 12257}, \"8163\": {\"frequency\": 1, \"value\": 8163}, \"14948\": {\"frequency\": 1, \"value\": 14948}, \"5250\": {\"frequency\": 1, \"value\": 5250}, \"10215\": {\"frequency\": 1, \"value\": 10215}, \"6120\": {\"frequency\": 8, \"value\": 6120}, \"4500\": {\"frequency\": 5, \"value\": 4500}, \"53227\": {\"frequency\": 1, \"value\": 53227}, \"8172\": {\"frequency\": 2, \"value\": 8172}, \"9554\": {\"frequency\": 1, \"value\": 9554}, \"16381\": {\"frequency\": 1, \"value\": 16381}, \"8176\": {\"frequency\": 1, \"value\": 8176}, \"12968\": {\"frequency\": 1, \"value\": 12968}, \"12274\": {\"frequency\": 1, \"value\": 12274}, \"14331\": {\"frequency\": 1, \"value\": 14331}, \"10237\": {\"frequency\": 2, \"value\": 10237}, \"8190\": {\"frequency\": 1, \"value\": 8190}}, \"mean\": 10516.82808219178}, \"Street\": {\"complete\": true, \"numeric\": false, \"num_unique\": 2, \"num_undefined\": 0, \"progress\": 1.0, \"frequent_items\": {\"Grvl\": {\"frequency\": 6, \"value\": \"Grvl\"}, \"Pave\": {\"frequency\": 1454, \"value\": \"Pave\"}}, \"size\": 1460}, \"YearBuilt\": {\"std\": 30.192558810489448, \"complete\": true, \"min\": 1872.0, \"max\": 2010.0, \"quantile\": [1872.0, 1898.0, 1908.0, 1910.0, 1914.0, 1916.0, 1919.0, 1920.0, 1920.0, 1922.0, 1925.0, 1925.0, 1928.0, 1930.0, 1934.0, 1936.0, 1939.0, 1940.0, 1941.0, 1945.0, 1948.0, 1949.0, 1950.0, 1950.0, 1953.0, 1954.0, 1954.0, 1955.0, 1956.0, 1957.0, 1958.0, 1958.0, 1959.0, 1959.0, 1960.0, 1961.0, 1962.0, 1963.0, 1964.0, 1965.0, 1965.0, 1966.0, 1967.0, 1968.0, 1968.0, 1969.0, 1970.0, 1971.0, 1971.0, 1972.0, 1973.0, 1974.0, 1976.0, 1976.0, 1976.0, 1977.0, 1977.0, 1978.0, 1979.0, 1981.0, 1984.0, 1986.0, 1988.0, 1990.0, 1992.0, 1993.0, 1994.0, 1995.0, 1996.0, 1996.0, 1998.0, 1998.0, 1999.0, 1999.0, 2000.0, 2000.0, 2001.0, 2002.0, 2003.0, 2003.0, 2003.0, 2003.0, 2004.0, 2004.0, 2004.0, 2005.0, 2005.0, 2005.0, 2005.0, 2005.0, 2006.0, 2006.0, 2006.0, 2006.0, 2007.0, 2007.0, 2007.0, 2007.0, 2008.0, 2009.0, 2010.0], \"median\": 1973.0, \"numeric\": true, \"num_unique\": 111, \"num_undefined\": 0, \"var\": 911.590607524864, \"progress\": 1.0, \"size\": 1460, \"frequent_items\": {\"1872\": {\"frequency\": 1, \"value\": 1872}, \"1875\": {\"frequency\": 1, \"value\": 1875}, \"1880\": {\"frequency\": 4, \"value\": 1880}, \"1882\": {\"frequency\": 1, \"value\": 1882}, \"1885\": {\"frequency\": 2, \"value\": 1885}, \"1890\": {\"frequency\": 2, \"value\": 1890}, \"1892\": {\"frequency\": 2, \"value\": 1892}, \"1893\": {\"frequency\": 1, \"value\": 1893}, \"1898\": {\"frequency\": 1, \"value\": 1898}, \"1900\": {\"frequency\": 10, \"value\": 1900}, \"1904\": {\"frequency\": 1, \"value\": 1904}, \"1905\": {\"frequency\": 1, \"value\": 1905}, \"1906\": {\"frequency\": 1, \"value\": 1906}, \"1908\": {\"frequency\": 2, \"value\": 1908}, \"1910\": {\"frequency\": 17, \"value\": 1910}, \"1911\": {\"frequency\": 1, \"value\": 1911}, \"1912\": {\"frequency\": 3, \"value\": 1912}, \"1913\": {\"frequency\": 1, \"value\": 1913}, \"1914\": {\"frequency\": 7, \"value\": 1914}, \"1915\": {\"frequency\": 10, \"value\": 1915}, \"1916\": {\"frequency\": 8, \"value\": 1916}, \"1917\": {\"frequency\": 1, \"value\": 1917}, \"1918\": {\"frequency\": 7, \"value\": 1918}, \"1919\": {\"frequency\": 3, \"value\": 1919}, \"1920\": {\"frequency\": 30, \"value\": 1920}, \"1921\": {\"frequency\": 6, \"value\": 1921}, \"1922\": {\"frequency\": 8, \"value\": 1922}, \"1923\": {\"frequency\": 7, \"value\": 1923}, \"1924\": {\"frequency\": 7, \"value\": 1924}, \"1925\": {\"frequency\": 16, \"value\": 1925}, \"1926\": {\"frequency\": 9, \"value\": 1926}, \"1927\": {\"frequency\": 3, \"value\": 1927}, \"1928\": {\"frequency\": 7, \"value\": 1928}, \"1929\": {\"frequency\": 4, \"value\": 1929}, \"1930\": {\"frequency\": 9, \"value\": 1930}, \"1931\": {\"frequency\": 6, \"value\": 1931}, \"1932\": {\"frequency\": 4, \"value\": 1932}, \"1934\": {\"frequency\": 3, \"value\": 1934}, \"1935\": {\"frequency\": 6, \"value\": 1935}, \"1936\": {\"frequency\": 9, \"value\": 1936}, \"1937\": {\"frequency\": 5, \"value\": 1937}, \"1938\": {\"frequency\": 4, \"value\": 1938}, \"1939\": {\"frequency\": 8, \"value\": 1939}, \"1940\": {\"frequency\": 18, \"value\": 1940}, \"1941\": {\"frequency\": 15, \"value\": 1941}, \"1942\": {\"frequency\": 2, \"value\": 1942}, \"1945\": {\"frequency\": 6, \"value\": 1945}, \"1946\": {\"frequency\": 7, \"value\": 1946}, \"1947\": {\"frequency\": 5, \"value\": 1947}, \"1948\": {\"frequency\": 14, \"value\": 1948}, \"1949\": {\"frequency\": 12, \"value\": 1949}, \"1950\": {\"frequency\": 20, \"value\": 1950}, \"1951\": {\"frequency\": 6, \"value\": 1951}, \"1952\": {\"frequency\": 5, \"value\": 1952}, \"1953\": {\"frequency\": 12, \"value\": 1953}, \"1954\": {\"frequency\": 24, \"value\": 1954}, \"1955\": {\"frequency\": 16, \"value\": 1955}, \"1956\": {\"frequency\": 14, \"value\": 1956}, \"1957\": {\"frequency\": 20, \"value\": 1957}, \"1958\": {\"frequency\": 24, \"value\": 1958}, \"1959\": {\"frequency\": 26, \"value\": 1959}, \"1960\": {\"frequency\": 17, \"value\": 1960}, \"1961\": {\"frequency\": 14, \"value\": 1961}, \"1962\": {\"frequency\": 19, \"value\": 1962}, \"1963\": {\"frequency\": 16, \"value\": 1963}, \"1964\": {\"frequency\": 15, \"value\": 1964}, \"1965\": {\"frequency\": 24, \"value\": 1965}, \"1966\": {\"frequency\": 18, \"value\": 1966}, \"1967\": {\"frequency\": 16, \"value\": 1967}, \"1968\": {\"frequency\": 22, \"value\": 1968}, \"1969\": {\"frequency\": 14, \"value\": 1969}, \"1970\": {\"frequency\": 24, \"value\": 1970}, \"1971\": {\"frequency\": 22, \"value\": 1971}, \"1972\": {\"frequency\": 23, \"value\": 1972}, \"1973\": {\"frequency\": 11, \"value\": 1973}, \"1974\": {\"frequency\": 10, \"value\": 1974}, \"1975\": {\"frequency\": 8, \"value\": 1975}, \"1976\": {\"frequency\": 33, \"value\": 1976}, \"1977\": {\"frequency\": 32, \"value\": 1977}, \"1978\": {\"frequency\": 16, \"value\": 1978}, \"1979\": {\"frequency\": 9, \"value\": 1979}, \"1980\": {\"frequency\": 10, \"value\": 1980}, \"1981\": {\"frequency\": 5, \"value\": 1981}, \"1982\": {\"frequency\": 6, \"value\": 1982}, \"1983\": {\"frequency\": 4, \"value\": 1983}, \"1984\": {\"frequency\": 9, \"value\": 1984}, \"1985\": {\"frequency\": 5, \"value\": 1985}, \"1986\": {\"frequency\": 5, \"value\": 1986}, \"1987\": {\"frequency\": 3, \"value\": 1987}, \"1988\": {\"frequency\": 11, \"value\": 1988}, \"1989\": {\"frequency\": 3, \"value\": 1989}, \"1990\": {\"frequency\": 12, \"value\": 1990}, \"1991\": {\"frequency\": 5, \"value\": 1991}, \"1992\": {\"frequency\": 13, \"value\": 1992}, \"1993\": {\"frequency\": 17, \"value\": 1993}, \"1994\": {\"frequency\": 19, \"value\": 1994}, \"1995\": {\"frequency\": 18, \"value\": 1995}, \"1996\": {\"frequency\": 15, \"value\": 1996}, \"1997\": {\"frequency\": 14, \"value\": 1997}, \"1998\": {\"frequency\": 25, \"value\": 1998}, \"1999\": {\"frequency\": 25, \"value\": 1999}, \"2000\": {\"frequency\": 24, \"value\": 2000}, \"2001\": {\"frequency\": 20, \"value\": 2001}, \"2002\": {\"frequency\": 23, \"value\": 2002}, \"2003\": {\"frequency\": 45, \"value\": 2003}, \"2004\": {\"frequency\": 54, \"value\": 2004}, \"2005\": {\"frequency\": 64, \"value\": 2005}, \"2006\": {\"frequency\": 67, \"value\": 2006}, \"2007\": {\"frequency\": 49, \"value\": 2007}, \"2008\": {\"frequency\": 23, \"value\": 2008}, \"2009\": {\"frequency\": 18, \"value\": 2009}, \"2010\": {\"frequency\": 1, \"value\": 2010}}, \"mean\": 1971.2678082191783}, \"TotalBsmtSF\": {\"std\": 438.5550571748915, \"complete\": true, \"min\": 0.0, \"max\": 6110.0, \"quantile\": [0.0, 0.0, 0.0, 290.0, 440.0, 520.0, 546.0, 576.0, 600.0, 624.0, 637.0, 656.0, 672.0, 680.0, 689.0, 702.0, 716.0, 728.0, 729.0, 741.0, 756.0, 764.0, 770.0, 780.0, 788.0, 796.0, 803.0, 813.0, 816.0, 832.0, 840.0, 847.0, 855.0, 859.0, 864.0, 864.0, 866.0, 880.0, 888.0, 896.0, 910.0, 912.0, 923.0, 928.0, 938.0, 948.0, 952.0, 963.0, 972.0, 981.0, 992.0, 1003.0, 1010.0, 1024.0, 1034.0, 1040.0, 1053.0, 1057.0, 1065.0, 1078.0, 1088.0, 1097.0, 1108.0, 1121.0, 1134.0, 1144.0, 1156.0, 1175.0, 1194.0, 1204.0, 1216.0, 1234.0, 1248.0, 1261.0, 1274.0, 1299.0, 1314.0, 1344.0, 1362.0, 1372.0, 1392.0, 1410.0, 1436.0, 1454.0, 1470.0, 1486.0, 1500.0, 1525.0, 1565.0, 1580.0, 1604.0, 1626.0, 1657.0, 1689.0, 1722.0, 1753.0, 1836.0, 1907.0, 2002.0, 2158.0, 6110.0], \"median\": 992.0, \"numeric\": true, \"num_unique\": 720, \"num_undefined\": 0, \"var\": 192330.53817367236, \"progress\": 1.0, \"size\": 1460, \"frequent_items\": {\"0\": {\"frequency\": 37, \"value\": 0}, \"2076\": {\"frequency\": 1, \"value\": 2076}, \"2077\": {\"frequency\": 1, \"value\": 2077}, \"2078\": {\"frequency\": 1, \"value\": 2078}, \"2109\": {\"frequency\": 1, \"value\": 2109}, \"2110\": {\"frequency\": 1, \"value\": 2110}, \"2121\": {\"frequency\": 1, \"value\": 2121}, \"2136\": {\"frequency\": 2, \"value\": 2136}, \"2153\": {\"frequency\": 1, \"value\": 2153}, \"2158\": {\"frequency\": 1, \"value\": 2158}, \"2216\": {\"frequency\": 1, \"value\": 2216}, \"2217\": {\"frequency\": 1, \"value\": 2217}, \"2223\": {\"frequency\": 1, \"value\": 2223}, \"190\": {\"frequency\": 1, \"value\": 190}, \"264\": {\"frequency\": 3, \"value\": 264}, \"270\": {\"frequency\": 1, \"value\": 270}, \"2330\": {\"frequency\": 1, \"value\": 2330}, \"290\": {\"frequency\": 1, \"value\": 290}, \"319\": {\"frequency\": 1, \"value\": 319}, \"2392\": {\"frequency\": 1, \"value\": 2392}, \"2396\": {\"frequency\": 1, \"value\": 2396}, \"360\": {\"frequency\": 1, \"value\": 360}, \"372\": {\"frequency\": 1, \"value\": 372}, \"384\": {\"frequency\": 7, \"value\": 384}, \"2444\": {\"frequency\": 1, \"value\": 2444}, \"1090\": {\"frequency\": 2, \"value\": 1090}, \"408\": {\"frequency\": 1, \"value\": 408}, \"420\": {\"frequency\": 1, \"value\": 420}, \"440\": {\"frequency\": 3, \"value\": 440}, \"458\": {\"frequency\": 1, \"value\": 458}, \"462\": {\"frequency\": 1, \"value\": 462}, \"2524\": {\"frequency\": 1, \"value\": 2524}, \"480\": {\"frequency\": 1, \"value\": 480}, \"482\": {\"frequency\": 1, \"value\": 482}, \"483\": {\"frequency\": 7, \"value\": 483}, \"485\": {\"frequency\": 1, \"value\": 485}, \"504\": {\"frequency\": 1, \"value\": 504}, \"506\": {\"frequency\": 1, \"value\": 506}, \"520\": {\"frequency\": 3, \"value\": 520}, \"525\": {\"frequency\": 1, \"value\": 525}, \"528\": {\"frequency\": 2, \"value\": 528}, \"530\": {\"frequency\": 1, \"value\": 530}, \"533\": {\"frequency\": 1, \"value\": 533}, \"536\": {\"frequency\": 1, \"value\": 536}, \"539\": {\"frequency\": 1, \"value\": 539}, \"540\": {\"frequency\": 2, \"value\": 540}, \"544\": {\"frequency\": 1, \"value\": 544}, \"546\": {\"frequency\": 4, \"value\": 546}, \"547\": {\"frequency\": 3, \"value\": 547}, \"551\": {\"frequency\": 1, \"value\": 551}, \"559\": {\"frequency\": 1, \"value\": 559}, \"560\": {\"frequency\": 3, \"value\": 560}, \"561\": {\"frequency\": 1, \"value\": 561}, \"570\": {\"frequency\": 1, \"value\": 570}, \"572\": {\"frequency\": 2, \"value\": 572}, \"576\": {\"frequency\": 2, \"value\": 576}, \"585\": {\"frequency\": 2, \"value\": 585}, \"588\": {\"frequency\": 4, \"value\": 588}, \"596\": {\"frequency\": 2, \"value\": 596}, \"600\": {\"frequency\": 7, \"value\": 600}, \"602\": {\"frequency\": 1, \"value\": 602}, \"608\": {\"frequency\": 1, \"value\": 608}, \"611\": {\"frequency\": 1, \"value\": 611}, \"612\": {\"frequency\": 3, \"value\": 612}, \"616\": {\"frequency\": 4, \"value\": 616}, \"617\": {\"frequency\": 1, \"value\": 617}, \"622\": {\"frequency\": 1, \"value\": 622}, \"624\": {\"frequency\": 2, \"value\": 624}, \"625\": {\"frequency\": 2, \"value\": 625}, \"626\": {\"frequency\": 1, \"value\": 626}, \"630\": {\"frequency\": 9, \"value\": 630}, \"105\": {\"frequency\": 1, \"value\": 105}, \"636\": {\"frequency\": 1, \"value\": 636}, \"637\": {\"frequency\": 2, \"value\": 637}, \"641\": {\"frequency\": 1, \"value\": 641}, \"644\": {\"frequency\": 1, \"value\": 644}, \"648\": {\"frequency\": 2, \"value\": 648}, \"649\": {\"frequency\": 2, \"value\": 649}, \"650\": {\"frequency\": 3, \"value\": 650}, \"651\": {\"frequency\": 1, \"value\": 651}, \"654\": {\"frequency\": 1, \"value\": 654}, \"655\": {\"frequency\": 1, \"value\": 655}, \"656\": {\"frequency\": 1, \"value\": 656}, \"658\": {\"frequency\": 1, \"value\": 658}, \"660\": {\"frequency\": 4, \"value\": 660}, \"661\": {\"frequency\": 1, \"value\": 661}, \"662\": {\"frequency\": 1, \"value\": 662}, \"663\": {\"frequency\": 1, \"value\": 663}, \"672\": {\"frequency\": 17, \"value\": 672}, \"673\": {\"frequency\": 1, \"value\": 673}, \"676\": {\"frequency\": 1, \"value\": 676}, \"680\": {\"frequency\": 2, \"value\": 680}, \"683\": {\"frequency\": 1, \"value\": 683}, \"684\": {\"frequency\": 5, \"value\": 684}, \"686\": {\"frequency\": 5, \"value\": 686}, \"689\": {\"frequency\": 4, \"value\": 689}, \"690\": {\"frequency\": 1, \"value\": 690}, \"691\": {\"frequency\": 3, \"value\": 691}, \"693\": {\"frequency\": 1, \"value\": 693}, \"696\": {\"frequency\": 1, \"value\": 696}, \"697\": {\"frequency\": 2, \"value\": 697}, \"698\": {\"frequency\": 4, \"value\": 698}, \"700\": {\"frequency\": 2, \"value\": 700}, \"702\": {\"frequency\": 3, \"value\": 702}, \"704\": {\"frequency\": 1, \"value\": 704}, \"707\": {\"frequency\": 1, \"value\": 707}, \"708\": {\"frequency\": 1, \"value\": 708}, \"709\": {\"frequency\": 1, \"value\": 709}, \"710\": {\"frequency\": 1, \"value\": 710}, \"712\": {\"frequency\": 1, \"value\": 712}, \"713\": {\"frequency\": 1, \"value\": 713}, \"714\": {\"frequency\": 1, \"value\": 714}, \"715\": {\"frequency\": 3, \"value\": 715}, \"716\": {\"frequency\": 2, \"value\": 716}, \"718\": {\"frequency\": 1, \"value\": 718}, \"720\": {\"frequency\": 7, \"value\": 720}, \"721\": {\"frequency\": 1, \"value\": 721}, \"723\": {\"frequency\": 2, \"value\": 723}, \"725\": {\"frequency\": 2, \"value\": 725}, \"727\": {\"frequency\": 1, \"value\": 727}, \"728\": {\"frequency\": 12, \"value\": 728}, \"729\": {\"frequency\": 3, \"value\": 729}, \"731\": {\"frequency\": 2, \"value\": 731}, \"732\": {\"frequency\": 3, \"value\": 732}, \"735\": {\"frequency\": 4, \"value\": 735}, \"736\": {\"frequency\": 1, \"value\": 736}, \"738\": {\"frequency\": 1, \"value\": 738}, \"740\": {\"frequency\": 2, \"value\": 740}, \"741\": {\"frequency\": 1, \"value\": 741}, \"742\": {\"frequency\": 3, \"value\": 742}, \"744\": {\"frequency\": 2, \"value\": 744}, \"746\": {\"frequency\": 1, \"value\": 746}, \"747\": {\"frequency\": 4, \"value\": 747}, \"750\": {\"frequency\": 2, \"value\": 750}, \"755\": {\"frequency\": 2, \"value\": 755}, \"756\": {\"frequency\": 9, \"value\": 756}, \"757\": {\"frequency\": 1, \"value\": 757}, \"761\": {\"frequency\": 1, \"value\": 761}, \"764\": {\"frequency\": 4, \"value\": 764}, \"765\": {\"frequency\": 2, \"value\": 765}, \"768\": {\"frequency\": 12, \"value\": 768}, \"3200\": {\"frequency\": 1, \"value\": 3200}, \"770\": {\"frequency\": 2, \"value\": 770}, \"771\": {\"frequency\": 1, \"value\": 771}, \"773\": {\"frequency\": 2, \"value\": 773}, \"774\": {\"frequency\": 1, \"value\": 774}, \"776\": {\"frequency\": 2, \"value\": 776}, \"777\": {\"frequency\": 2, \"value\": 777}, \"778\": {\"frequency\": 1, \"value\": 778}, \"780\": {\"frequency\": 11, \"value\": 780}, \"783\": {\"frequency\": 3, \"value\": 783}, \"784\": {\"frequency\": 4, \"value\": 784}, \"788\": {\"frequency\": 3, \"value\": 788}, \"789\": {\"frequency\": 1, \"value\": 789}, \"791\": {\"frequency\": 1, \"value\": 791}, \"792\": {\"frequency\": 1, \"value\": 792}, \"793\": {\"frequency\": 5, \"value\": 793}, \"794\": {\"frequency\": 2, \"value\": 794}, \"795\": {\"frequency\": 2, \"value\": 795}, \"796\": {\"frequency\": 6, \"value\": 796}, \"798\": {\"frequency\": 3, \"value\": 798}, \"799\": {\"frequency\": 2, \"value\": 799}, \"800\": {\"frequency\": 2, \"value\": 800}, \"802\": {\"frequency\": 1, \"value\": 802}, \"803\": {\"frequency\": 2, \"value\": 803}, \"804\": {\"frequency\": 4, \"value\": 804}, \"3206\": {\"frequency\": 1, \"value\": 3206}, \"806\": {\"frequency\": 3, \"value\": 806}, \"807\": {\"frequency\": 1, \"value\": 807}, \"808\": {\"frequency\": 2, \"value\": 808}, \"810\": {\"frequency\": 2, \"value\": 810}, \"811\": {\"frequency\": 1, \"value\": 811}, \"813\": {\"frequency\": 2, \"value\": 813}, \"814\": {\"frequency\": 2, \"value\": 814}, \"815\": {\"frequency\": 1, \"value\": 815}, \"816\": {\"frequency\": 13, \"value\": 816}, \"817\": {\"frequency\": 1, \"value\": 817}, \"818\": {\"frequency\": 1, \"value\": 818}, \"819\": {\"frequency\": 1, \"value\": 819}, \"822\": {\"frequency\": 1, \"value\": 822}, \"824\": {\"frequency\": 2, \"value\": 824}, \"825\": {\"frequency\": 2, \"value\": 825}, \"828\": {\"frequency\": 1, \"value\": 828}, \"831\": {\"frequency\": 1, \"value\": 831}, \"832\": {\"frequency\": 10, \"value\": 832}, \"833\": {\"frequency\": 3, \"value\": 833}, \"836\": {\"frequency\": 1, \"value\": 836}, \"839\": {\"frequency\": 1, \"value\": 839}, \"840\": {\"frequency\": 7, \"value\": 840}, \"841\": {\"frequency\": 1, \"value\": 841}, \"844\": {\"frequency\": 1, \"value\": 844}, \"845\": {\"frequency\": 3, \"value\": 845}, \"846\": {\"frequency\": 1, \"value\": 846}, \"847\": {\"frequency\": 4, \"value\": 847}, \"848\": {\"frequency\": 11, \"value\": 848}, \"849\": {\"frequency\": 1, \"value\": 849}, \"853\": {\"frequency\": 1, \"value\": 853}, \"854\": {\"frequency\": 1, \"value\": 854}, \"855\": {\"frequency\": 4, \"value\": 855}, \"856\": {\"frequency\": 3, \"value\": 856}, \"858\": {\"frequency\": 6, \"value\": 858}, \"859\": {\"frequency\": 1, \"value\": 859}, \"860\": {\"frequency\": 2, \"value\": 860}, \"861\": {\"frequency\": 3, \"value\": 861}, \"862\": {\"frequency\": 1, \"value\": 862}, \"864\": {\"frequency\": 35, \"value\": 864}, \"866\": {\"frequency\": 3, \"value\": 866}, \"868\": {\"frequency\": 2, \"value\": 868}, \"870\": {\"frequency\": 1, \"value\": 870}, \"872\": {\"frequency\": 1, \"value\": 872}, \"873\": {\"frequency\": 1, \"value\": 873}, \"874\": {\"frequency\": 2, \"value\": 874}, \"876\": {\"frequency\": 6, \"value\": 876}, \"879\": {\"frequency\": 1, \"value\": 879}, \"880\": {\"frequency\": 4, \"value\": 880}, \"882\": {\"frequency\": 3, \"value\": 882}, \"883\": {\"frequency\": 1, \"value\": 883}, \"884\": {\"frequency\": 6, \"value\": 884}, \"888\": {\"frequency\": 1, \"value\": 888}, \"892\": {\"frequency\": 1, \"value\": 892}, \"893\": {\"frequency\": 1, \"value\": 893}, \"894\": {\"frequency\": 11, \"value\": 894}, \"896\": {\"frequency\": 5, \"value\": 896}, \"900\": {\"frequency\": 2, \"value\": 900}, \"901\": {\"frequency\": 3, \"value\": 901}, \"907\": {\"frequency\": 3, \"value\": 907}, \"908\": {\"frequency\": 1, \"value\": 908}, \"910\": {\"frequency\": 4, \"value\": 910}, \"911\": {\"frequency\": 1, \"value\": 911}, \"912\": {\"frequency\": 15, \"value\": 912}, \"913\": {\"frequency\": 1, \"value\": 913}, \"915\": {\"frequency\": 2, \"value\": 915}, \"916\": {\"frequency\": 3, \"value\": 916}, \"918\": {\"frequency\": 3, \"value\": 918}, \"920\": {\"frequency\": 2, \"value\": 920}, \"923\": {\"frequency\": 1, \"value\": 923}, \"924\": {\"frequency\": 4, \"value\": 924}, \"925\": {\"frequency\": 3, \"value\": 925}, \"926\": {\"frequency\": 2, \"value\": 926}, \"927\": {\"frequency\": 1, \"value\": 927}, \"928\": {\"frequency\": 5, \"value\": 928}, \"930\": {\"frequency\": 1, \"value\": 930}, \"931\": {\"frequency\": 1, \"value\": 931}, \"932\": {\"frequency\": 1, \"value\": 932}, \"935\": {\"frequency\": 2, \"value\": 935}, \"936\": {\"frequency\": 8, \"value\": 936}, \"938\": {\"frequency\": 2, \"value\": 938}, \"939\": {\"frequency\": 2, \"value\": 939}, \"940\": {\"frequency\": 3, \"value\": 940}, \"941\": {\"frequency\": 2, \"value\": 941}, \"942\": {\"frequency\": 1, \"value\": 942}, \"943\": {\"frequency\": 2, \"value\": 943}, \"944\": {\"frequency\": 2, \"value\": 944}, \"945\": {\"frequency\": 1, \"value\": 945}, \"948\": {\"frequency\": 3, \"value\": 948}, \"950\": {\"frequency\": 2, \"value\": 950}, \"951\": {\"frequency\": 1, \"value\": 951}, \"952\": {\"frequency\": 9, \"value\": 952}, \"953\": {\"frequency\": 2, \"value\": 953}, \"954\": {\"frequency\": 1, \"value\": 954}, \"955\": {\"frequency\": 1, \"value\": 955}, \"956\": {\"frequency\": 1, \"value\": 956}, \"958\": {\"frequency\": 2, \"value\": 958}, \"959\": {\"frequency\": 1, \"value\": 959}, \"960\": {\"frequency\": 5, \"value\": 960}, \"961\": {\"frequency\": 1, \"value\": 961}, \"963\": {\"frequency\": 1, \"value\": 963}, \"964\": {\"frequency\": 1, \"value\": 964}, \"965\": {\"frequency\": 1, \"value\": 965}, \"967\": {\"frequency\": 1, \"value\": 967}, \"968\": {\"frequency\": 1, \"value\": 968}, \"969\": {\"frequency\": 2, \"value\": 969}, \"970\": {\"frequency\": 5, \"value\": 970}, \"971\": {\"frequency\": 1, \"value\": 971}, \"972\": {\"frequency\": 2, \"value\": 972}, \"973\": {\"frequency\": 1, \"value\": 973}, \"974\": {\"frequency\": 1, \"value\": 974}, \"975\": {\"frequency\": 3, \"value\": 975}, \"976\": {\"frequency\": 2, \"value\": 976}, \"978\": {\"frequency\": 3, \"value\": 978}, \"979\": {\"frequency\": 1, \"value\": 979}, \"980\": {\"frequency\": 4, \"value\": 980}, \"981\": {\"frequency\": 1, \"value\": 981}, \"982\": {\"frequency\": 1, \"value\": 982}, \"983\": {\"frequency\": 1, \"value\": 983}, \"984\": {\"frequency\": 1, \"value\": 984}, \"985\": {\"frequency\": 1, \"value\": 985}, \"988\": {\"frequency\": 2, \"value\": 988}, \"990\": {\"frequency\": 5, \"value\": 990}, \"991\": {\"frequency\": 2, \"value\": 991}, \"992\": {\"frequency\": 5, \"value\": 992}, \"993\": {\"frequency\": 1, \"value\": 993}, \"994\": {\"frequency\": 3, \"value\": 994}, \"996\": {\"frequency\": 2, \"value\": 996}, \"998\": {\"frequency\": 1, \"value\": 998}, \"999\": {\"frequency\": 1, \"value\": 999}, \"1001\": {\"frequency\": 1, \"value\": 1001}, \"1002\": {\"frequency\": 1, \"value\": 1002}, \"1003\": {\"frequency\": 1, \"value\": 1003}, \"1004\": {\"frequency\": 3, \"value\": 1004}, \"1005\": {\"frequency\": 1, \"value\": 1005}, \"1006\": {\"frequency\": 1, \"value\": 1006}, \"1007\": {\"frequency\": 1, \"value\": 1007}, \"1008\": {\"frequency\": 7, \"value\": 1008}, \"1010\": {\"frequency\": 3, \"value\": 1010}, \"1012\": {\"frequency\": 2, \"value\": 1012}, \"1013\": {\"frequency\": 2, \"value\": 1013}, \"1017\": {\"frequency\": 2, \"value\": 1017}, \"1019\": {\"frequency\": 1, \"value\": 1019}, \"1020\": {\"frequency\": 1, \"value\": 1020}, \"1021\": {\"frequency\": 1, \"value\": 1021}, \"1022\": {\"frequency\": 1, \"value\": 1022}, \"1024\": {\"frequency\": 2, \"value\": 1024}, \"1026\": {\"frequency\": 4, \"value\": 1026}, \"1028\": {\"frequency\": 2, \"value\": 1028}, \"1029\": {\"frequency\": 4, \"value\": 1029}, \"1030\": {\"frequency\": 1, \"value\": 1030}, \"1032\": {\"frequency\": 3, \"value\": 1032}, \"1034\": {\"frequency\": 1, \"value\": 1034}, \"1039\": {\"frequency\": 1, \"value\": 1039}, \"1040\": {\"frequency\": 14, \"value\": 1040}, \"1041\": {\"frequency\": 2, \"value\": 1041}, \"1042\": {\"frequency\": 1, \"value\": 1042}, \"3094\": {\"frequency\": 1, \"value\": 3094}, \"1048\": {\"frequency\": 1, \"value\": 1048}, \"1050\": {\"frequency\": 4, \"value\": 1050}, \"1051\": {\"frequency\": 2, \"value\": 1051}, \"1052\": {\"frequency\": 2, \"value\": 1052}, \"1053\": {\"frequency\": 3, \"value\": 1053}, \"1054\": {\"frequency\": 2, \"value\": 1054}, \"1055\": {\"frequency\": 2, \"value\": 1055}, \"1056\": {\"frequency\": 8, \"value\": 1056}, \"1057\": {\"frequency\": 4, \"value\": 1057}, \"1058\": {\"frequency\": 1, \"value\": 1058}, \"1059\": {\"frequency\": 1, \"value\": 1059}, \"1060\": {\"frequency\": 1, \"value\": 1060}, \"1062\": {\"frequency\": 1, \"value\": 1062}, \"1063\": {\"frequency\": 3, \"value\": 1063}, \"1064\": {\"frequency\": 4, \"value\": 1064}, \"1065\": {\"frequency\": 3, \"value\": 1065}, \"1067\": {\"frequency\": 1, \"value\": 1067}, \"1069\": {\"frequency\": 2, \"value\": 1069}, \"1070\": {\"frequency\": 1, \"value\": 1070}, \"1073\": {\"frequency\": 3, \"value\": 1073}, \"1074\": {\"frequency\": 1, \"value\": 1074}, \"1075\": {\"frequency\": 1, \"value\": 1075}, \"1078\": {\"frequency\": 4, \"value\": 1078}, \"1079\": {\"frequency\": 1, \"value\": 1079}, \"1080\": {\"frequency\": 4, \"value\": 1080}, \"1082\": {\"frequency\": 2, \"value\": 1082}, \"1084\": {\"frequency\": 1, \"value\": 1084}, \"1085\": {\"frequency\": 1, \"value\": 1085}, \"1086\": {\"frequency\": 3, \"value\": 1086}, \"1088\": {\"frequency\": 3, \"value\": 1088}, \"3138\": {\"frequency\": 1, \"value\": 3138}, \"1092\": {\"frequency\": 5, \"value\": 1092}, \"1094\": {\"frequency\": 2, \"value\": 1094}, \"1095\": {\"frequency\": 3, \"value\": 1095}, \"1096\": {\"frequency\": 2, \"value\": 1096}, \"1097\": {\"frequency\": 2, \"value\": 1097}, \"1098\": {\"frequency\": 1, \"value\": 1098}, \"1099\": {\"frequency\": 2, \"value\": 1099}, \"1100\": {\"frequency\": 1, \"value\": 1100}, \"1103\": {\"frequency\": 1, \"value\": 1103}, \"1104\": {\"frequency\": 3, \"value\": 1104}, \"1105\": {\"frequency\": 1, \"value\": 1105}, \"1106\": {\"frequency\": 1, \"value\": 1106}, \"1107\": {\"frequency\": 2, \"value\": 1107}, \"1108\": {\"frequency\": 1, \"value\": 1108}, \"1109\": {\"frequency\": 1, \"value\": 1109}, \"1112\": {\"frequency\": 1, \"value\": 1112}, \"1113\": {\"frequency\": 2, \"value\": 1113}, \"1114\": {\"frequency\": 2, \"value\": 1114}, \"1116\": {\"frequency\": 1, \"value\": 1116}, \"1117\": {\"frequency\": 3, \"value\": 1117}, \"1120\": {\"frequency\": 3, \"value\": 1120}, \"1121\": {\"frequency\": 2, \"value\": 1121}, \"1122\": {\"frequency\": 2, \"value\": 1122}, \"1125\": {\"frequency\": 1, \"value\": 1125}, \"1126\": {\"frequency\": 2, \"value\": 1126}, \"1127\": {\"frequency\": 3, \"value\": 1127}, \"1128\": {\"frequency\": 3, \"value\": 1128}, \"1132\": {\"frequency\": 1, \"value\": 1132}, \"1134\": {\"frequency\": 2, \"value\": 1134}, \"1136\": {\"frequency\": 2, \"value\": 1136}, \"1138\": {\"frequency\": 1, \"value\": 1138}, \"1140\": {\"frequency\": 2, \"value\": 1140}, \"1141\": {\"frequency\": 2, \"value\": 1141}, \"1142\": {\"frequency\": 2, \"value\": 1142}, \"1143\": {\"frequency\": 2, \"value\": 1143}, \"1144\": {\"frequency\": 5, \"value\": 1144}, \"1145\": {\"frequency\": 3, \"value\": 1145}, \"1148\": {\"frequency\": 1, \"value\": 1148}, \"1149\": {\"frequency\": 1, \"value\": 1149}, \"1150\": {\"frequency\": 1, \"value\": 1150}, \"1151\": {\"frequency\": 1, \"value\": 1151}, \"1152\": {\"frequency\": 3, \"value\": 1152}, \"1153\": {\"frequency\": 1, \"value\": 1153}, \"1154\": {\"frequency\": 1, \"value\": 1154}, \"1156\": {\"frequency\": 2, \"value\": 1156}, \"1157\": {\"frequency\": 1, \"value\": 1157}, \"1158\": {\"frequency\": 3, \"value\": 1158}, \"1160\": {\"frequency\": 1, \"value\": 1160}, \"1161\": {\"frequency\": 1, \"value\": 1161}, \"1162\": {\"frequency\": 1, \"value\": 1162}, \"1163\": {\"frequency\": 1, \"value\": 1163}, \"1164\": {\"frequency\": 3, \"value\": 1164}, \"1165\": {\"frequency\": 2, \"value\": 1165}, \"1175\": {\"frequency\": 1, \"value\": 1175}, \"1176\": {\"frequency\": 2, \"value\": 1176}, \"1181\": {\"frequency\": 2, \"value\": 1181}, \"1184\": {\"frequency\": 2, \"value\": 1184}, \"1187\": {\"frequency\": 1, \"value\": 1187}, \"1188\": {\"frequency\": 4, \"value\": 1188}, \"1190\": {\"frequency\": 1, \"value\": 1190}, \"1192\": {\"frequency\": 1, \"value\": 1192}, \"1193\": {\"frequency\": 1, \"value\": 1193}, \"1194\": {\"frequency\": 1, \"value\": 1194}, \"1195\": {\"frequency\": 1, \"value\": 1195}, \"1196\": {\"frequency\": 3, \"value\": 1196}, \"1198\": {\"frequency\": 1, \"value\": 1198}, \"1199\": {\"frequency\": 2, \"value\": 1199}, \"1200\": {\"frequency\": 3, \"value\": 1200}, \"1202\": {\"frequency\": 1, \"value\": 1202}, \"1203\": {\"frequency\": 1, \"value\": 1203}, \"1204\": {\"frequency\": 2, \"value\": 1204}, \"1205\": {\"frequency\": 1, \"value\": 1205}, \"1208\": {\"frequency\": 4, \"value\": 1208}, \"1210\": {\"frequency\": 1, \"value\": 1210}, \"1212\": {\"frequency\": 2, \"value\": 1212}, \"1214\": {\"frequency\": 3, \"value\": 1214}, \"1215\": {\"frequency\": 1, \"value\": 1215}, \"1216\": {\"frequency\": 3, \"value\": 1216}, \"1218\": {\"frequency\": 1, \"value\": 1218}, \"1219\": {\"frequency\": 1, \"value\": 1219}, \"1220\": {\"frequency\": 2, \"value\": 1220}, \"1221\": {\"frequency\": 1, \"value\": 1221}, \"1223\": {\"frequency\": 1, \"value\": 1223}, \"1224\": {\"frequency\": 1, \"value\": 1224}, \"1225\": {\"frequency\": 1, \"value\": 1225}, \"1226\": {\"frequency\": 1, \"value\": 1226}, \"1228\": {\"frequency\": 2, \"value\": 1228}, \"1232\": {\"frequency\": 2, \"value\": 1232}, \"1234\": {\"frequency\": 2, \"value\": 1234}, \"1235\": {\"frequency\": 1, \"value\": 1235}, \"1237\": {\"frequency\": 3, \"value\": 1237}, \"1240\": {\"frequency\": 3, \"value\": 1240}, \"1241\": {\"frequency\": 1, \"value\": 1241}, \"1242\": {\"frequency\": 1, \"value\": 1242}, \"1244\": {\"frequency\": 1, \"value\": 1244}, \"1246\": {\"frequency\": 1, \"value\": 1246}, \"1247\": {\"frequency\": 1, \"value\": 1247}, \"1248\": {\"frequency\": 3, \"value\": 1248}, \"1249\": {\"frequency\": 2, \"value\": 1249}, \"1251\": {\"frequency\": 1, \"value\": 1251}, \"1252\": {\"frequency\": 2, \"value\": 1252}, \"1253\": {\"frequency\": 1, \"value\": 1253}, \"2633\": {\"frequency\": 1, \"value\": 2633}, \"1256\": {\"frequency\": 2, \"value\": 1256}, \"1257\": {\"frequency\": 1, \"value\": 1257}, \"1258\": {\"frequency\": 3, \"value\": 1258}, \"1260\": {\"frequency\": 1, \"value\": 1260}, \"1261\": {\"frequency\": 1, \"value\": 1261}, \"1262\": {\"frequency\": 2, \"value\": 1262}, \"1264\": {\"frequency\": 2, \"value\": 1264}, \"1266\": {\"frequency\": 1, \"value\": 1266}, \"1267\": {\"frequency\": 1, \"value\": 1267}, \"1268\": {\"frequency\": 3, \"value\": 1268}, \"1269\": {\"frequency\": 1, \"value\": 1269}, \"1271\": {\"frequency\": 1, \"value\": 1271}, \"1272\": {\"frequency\": 1, \"value\": 1272}, \"1273\": {\"frequency\": 1, \"value\": 1273}, \"1274\": {\"frequency\": 1, \"value\": 1274}, \"1276\": {\"frequency\": 2, \"value\": 1276}, \"1277\": {\"frequency\": 1, \"value\": 1277}, \"1278\": {\"frequency\": 1, \"value\": 1278}, \"1281\": {\"frequency\": 1, \"value\": 1281}, \"1284\": {\"frequency\": 2, \"value\": 1284}, \"1286\": {\"frequency\": 1, \"value\": 1286}, \"1288\": {\"frequency\": 1, \"value\": 1288}, \"1291\": {\"frequency\": 1, \"value\": 1291}, \"1293\": {\"frequency\": 1, \"value\": 1293}, \"1296\": {\"frequency\": 1, \"value\": 1296}, \"1297\": {\"frequency\": 1, \"value\": 1297}, \"1298\": {\"frequency\": 1, \"value\": 1298}, \"1299\": {\"frequency\": 1, \"value\": 1299}, \"1300\": {\"frequency\": 1, \"value\": 1300}, \"1302\": {\"frequency\": 2, \"value\": 1302}, \"1304\": {\"frequency\": 2, \"value\": 1304}, \"1306\": {\"frequency\": 2, \"value\": 1306}, \"1309\": {\"frequency\": 1, \"value\": 1309}, \"1310\": {\"frequency\": 1, \"value\": 1310}, \"1311\": {\"frequency\": 1, \"value\": 1311}, \"1314\": {\"frequency\": 4, \"value\": 1314}, \"1316\": {\"frequency\": 2, \"value\": 1316}, \"1318\": {\"frequency\": 1, \"value\": 1318}, \"1319\": {\"frequency\": 1, \"value\": 1319}, \"1324\": {\"frequency\": 2, \"value\": 1324}, \"1328\": {\"frequency\": 1, \"value\": 1328}, \"1330\": {\"frequency\": 1, \"value\": 1330}, \"1332\": {\"frequency\": 1, \"value\": 1332}, \"1337\": {\"frequency\": 2, \"value\": 1337}, \"1338\": {\"frequency\": 2, \"value\": 1338}, \"1340\": {\"frequency\": 1, \"value\": 1340}, \"1344\": {\"frequency\": 1, \"value\": 1344}, \"1346\": {\"frequency\": 2, \"value\": 1346}, \"1347\": {\"frequency\": 1, \"value\": 1347}, \"1349\": {\"frequency\": 1, \"value\": 1349}, \"1350\": {\"frequency\": 2, \"value\": 1350}, \"1352\": {\"frequency\": 1, \"value\": 1352}, \"1356\": {\"frequency\": 1, \"value\": 1356}, \"1358\": {\"frequency\": 2, \"value\": 1358}, \"1360\": {\"frequency\": 2, \"value\": 1360}, \"1361\": {\"frequency\": 1, \"value\": 1361}, \"1362\": {\"frequency\": 6, \"value\": 1362}, \"1364\": {\"frequency\": 2, \"value\": 1364}, \"1367\": {\"frequency\": 1, \"value\": 1367}, \"1368\": {\"frequency\": 2, \"value\": 1368}, \"1370\": {\"frequency\": 2, \"value\": 1370}, \"1372\": {\"frequency\": 3, \"value\": 1372}, \"1373\": {\"frequency\": 2, \"value\": 1373}, \"1374\": {\"frequency\": 1, \"value\": 1374}, \"1375\": {\"frequency\": 1, \"value\": 1375}, \"1379\": {\"frequency\": 1, \"value\": 1379}, \"1383\": {\"frequency\": 2, \"value\": 1383}, \"1385\": {\"frequency\": 1, \"value\": 1385}, \"1386\": {\"frequency\": 2, \"value\": 1386}, \"1389\": {\"frequency\": 1, \"value\": 1389}, \"1390\": {\"frequency\": 1, \"value\": 1390}, \"1391\": {\"frequency\": 2, \"value\": 1391}, \"1392\": {\"frequency\": 6, \"value\": 1392}, \"1393\": {\"frequency\": 1, \"value\": 1393}, \"1394\": {\"frequency\": 1, \"value\": 1394}, \"1396\": {\"frequency\": 1, \"value\": 1396}, \"1398\": {\"frequency\": 1, \"value\": 1398}, \"1405\": {\"frequency\": 2, \"value\": 1405}, \"1406\": {\"frequency\": 1, \"value\": 1406}, \"1408\": {\"frequency\": 1, \"value\": 1408}, \"1410\": {\"frequency\": 1, \"value\": 1410}, \"1413\": {\"frequency\": 1, \"value\": 1413}, \"1414\": {\"frequency\": 1, \"value\": 1414}, \"1416\": {\"frequency\": 1, \"value\": 1416}, \"1417\": {\"frequency\": 1, \"value\": 1417}, \"1419\": {\"frequency\": 1, \"value\": 1419}, \"1422\": {\"frequency\": 2, \"value\": 1422}, \"1424\": {\"frequency\": 1, \"value\": 1424}, \"1425\": {\"frequency\": 1, \"value\": 1425}, \"1428\": {\"frequency\": 1, \"value\": 1428}, \"1430\": {\"frequency\": 1, \"value\": 1430}, \"1431\": {\"frequency\": 1, \"value\": 1431}, \"1434\": {\"frequency\": 1, \"value\": 1434}, \"1436\": {\"frequency\": 2, \"value\": 1436}, \"1437\": {\"frequency\": 2, \"value\": 1437}, \"1440\": {\"frequency\": 5, \"value\": 1440}, \"1442\": {\"frequency\": 2, \"value\": 1442}, \"1444\": {\"frequency\": 1, \"value\": 1444}, \"1452\": {\"frequency\": 1, \"value\": 1452}, \"1453\": {\"frequency\": 3, \"value\": 1453}, \"1454\": {\"frequency\": 1, \"value\": 1454}, \"1459\": {\"frequency\": 1, \"value\": 1459}, \"1461\": {\"frequency\": 2, \"value\": 1461}, \"1462\": {\"frequency\": 2, \"value\": 1462}, \"1463\": {\"frequency\": 1, \"value\": 1463}, \"1466\": {\"frequency\": 3, \"value\": 1466}, \"1468\": {\"frequency\": 2, \"value\": 1468}, \"1470\": {\"frequency\": 3, \"value\": 1470}, \"1473\": {\"frequency\": 1, \"value\": 1473}, \"1475\": {\"frequency\": 1, \"value\": 1475}, \"1476\": {\"frequency\": 1, \"value\": 1476}, \"1477\": {\"frequency\": 1, \"value\": 1477}, \"1478\": {\"frequency\": 3, \"value\": 1478}, \"1479\": {\"frequency\": 1, \"value\": 1479}, \"1482\": {\"frequency\": 3, \"value\": 1482}, \"1484\": {\"frequency\": 2, \"value\": 1484}, \"1485\": {\"frequency\": 1, \"value\": 1485}, \"1486\": {\"frequency\": 1, \"value\": 1486}, \"1488\": {\"frequency\": 1, \"value\": 1488}, \"1489\": {\"frequency\": 2, \"value\": 1489}, \"1490\": {\"frequency\": 1, \"value\": 1490}, \"1494\": {\"frequency\": 4, \"value\": 1494}, \"1496\": {\"frequency\": 2, \"value\": 1496}, \"1498\": {\"frequency\": 2, \"value\": 1498}, \"1499\": {\"frequency\": 1, \"value\": 1499}, \"1500\": {\"frequency\": 1, \"value\": 1500}, \"1501\": {\"frequency\": 2, \"value\": 1501}, \"1502\": {\"frequency\": 2, \"value\": 1502}, \"1504\": {\"frequency\": 1, \"value\": 1504}, \"1505\": {\"frequency\": 1, \"value\": 1505}, \"1510\": {\"frequency\": 1, \"value\": 1510}, \"1516\": {\"frequency\": 1, \"value\": 1516}, \"1517\": {\"frequency\": 2, \"value\": 1517}, \"1518\": {\"frequency\": 2, \"value\": 1518}, \"1520\": {\"frequency\": 1, \"value\": 1520}, \"1522\": {\"frequency\": 1, \"value\": 1522}, \"1525\": {\"frequency\": 1, \"value\": 1525}, \"1530\": {\"frequency\": 2, \"value\": 1530}, \"1533\": {\"frequency\": 1, \"value\": 1533}, \"1536\": {\"frequency\": 1, \"value\": 1536}, \"1541\": {\"frequency\": 2, \"value\": 1541}, \"1542\": {\"frequency\": 1, \"value\": 1542}, \"1552\": {\"frequency\": 1, \"value\": 1552}, \"1554\": {\"frequency\": 1, \"value\": 1554}, \"1559\": {\"frequency\": 1, \"value\": 1559}, \"1560\": {\"frequency\": 1, \"value\": 1560}, \"1561\": {\"frequency\": 1, \"value\": 1561}, \"1563\": {\"frequency\": 1, \"value\": 1563}, \"1565\": {\"frequency\": 1, \"value\": 1565}, \"1566\": {\"frequency\": 2, \"value\": 1566}, \"1567\": {\"frequency\": 1, \"value\": 1567}, \"1568\": {\"frequency\": 2, \"value\": 1568}, \"1571\": {\"frequency\": 1, \"value\": 1571}, \"1572\": {\"frequency\": 2, \"value\": 1572}, \"1573\": {\"frequency\": 3, \"value\": 1573}, \"1574\": {\"frequency\": 1, \"value\": 1574}, \"1575\": {\"frequency\": 1, \"value\": 1575}, \"1580\": {\"frequency\": 3, \"value\": 1580}, \"1581\": {\"frequency\": 1, \"value\": 1581}, \"1582\": {\"frequency\": 1, \"value\": 1582}, \"1584\": {\"frequency\": 2, \"value\": 1584}, \"1588\": {\"frequency\": 2, \"value\": 1588}, \"1593\": {\"frequency\": 1, \"value\": 1593}, \"1594\": {\"frequency\": 1, \"value\": 1594}, \"1595\": {\"frequency\": 1, \"value\": 1595}, \"1598\": {\"frequency\": 1, \"value\": 1598}, \"1600\": {\"frequency\": 1, \"value\": 1600}, \"1602\": {\"frequency\": 2, \"value\": 1602}, \"1604\": {\"frequency\": 2, \"value\": 1604}, \"1606\": {\"frequency\": 1, \"value\": 1606}, \"1610\": {\"frequency\": 1, \"value\": 1610}, \"1614\": {\"frequency\": 1, \"value\": 1614}, \"1616\": {\"frequency\": 2, \"value\": 1616}, \"1617\": {\"frequency\": 1, \"value\": 1617}, \"1620\": {\"frequency\": 1, \"value\": 1620}, \"1622\": {\"frequency\": 1, \"value\": 1622}, \"1623\": {\"frequency\": 1, \"value\": 1623}, \"1624\": {\"frequency\": 2, \"value\": 1624}, \"1626\": {\"frequency\": 3, \"value\": 1626}, \"1629\": {\"frequency\": 1, \"value\": 1629}, \"1630\": {\"frequency\": 1, \"value\": 1630}, \"1632\": {\"frequency\": 1, \"value\": 1632}, \"1638\": {\"frequency\": 2, \"value\": 1638}, \"1643\": {\"frequency\": 1, \"value\": 1643}, \"1649\": {\"frequency\": 1, \"value\": 1649}, \"1650\": {\"frequency\": 2, \"value\": 1650}, \"1652\": {\"frequency\": 1, \"value\": 1652}, \"1654\": {\"frequency\": 1, \"value\": 1654}, \"1656\": {\"frequency\": 2, \"value\": 1656}, \"1657\": {\"frequency\": 2, \"value\": 1657}, \"1660\": {\"frequency\": 1, \"value\": 1660}, \"1670\": {\"frequency\": 1, \"value\": 1670}, \"1673\": {\"frequency\": 1, \"value\": 1673}, \"1680\": {\"frequency\": 2, \"value\": 1680}, \"1682\": {\"frequency\": 2, \"value\": 1682}, \"1683\": {\"frequency\": 1, \"value\": 1683}, \"1684\": {\"frequency\": 1, \"value\": 1684}, \"1686\": {\"frequency\": 3, \"value\": 1686}, \"1689\": {\"frequency\": 1, \"value\": 1689}, \"1694\": {\"frequency\": 2, \"value\": 1694}, \"1698\": {\"frequency\": 2, \"value\": 1698}, \"1700\": {\"frequency\": 1, \"value\": 1700}, \"1702\": {\"frequency\": 1, \"value\": 1702}, \"1704\": {\"frequency\": 1, \"value\": 1704}, \"1705\": {\"frequency\": 1, \"value\": 1705}, \"1709\": {\"frequency\": 1, \"value\": 1709}, \"1710\": {\"frequency\": 2, \"value\": 1710}, \"1713\": {\"frequency\": 1, \"value\": 1713}, \"1719\": {\"frequency\": 1, \"value\": 1719}, \"1720\": {\"frequency\": 1, \"value\": 1720}, \"1722\": {\"frequency\": 1, \"value\": 1722}, \"1726\": {\"frequency\": 1, \"value\": 1726}, \"1728\": {\"frequency\": 5, \"value\": 1728}, \"1732\": {\"frequency\": 1, \"value\": 1732}, \"1734\": {\"frequency\": 3, \"value\": 1734}, \"1742\": {\"frequency\": 1, \"value\": 1742}, \"1746\": {\"frequency\": 1, \"value\": 1746}, \"1752\": {\"frequency\": 1, \"value\": 1752}, \"1753\": {\"frequency\": 2, \"value\": 1753}, \"1763\": {\"frequency\": 1, \"value\": 1763}, \"1766\": {\"frequency\": 1, \"value\": 1766}, \"1768\": {\"frequency\": 1, \"value\": 1768}, \"1777\": {\"frequency\": 1, \"value\": 1777}, \"1792\": {\"frequency\": 1, \"value\": 1792}, \"1795\": {\"frequency\": 1, \"value\": 1795}, \"1800\": {\"frequency\": 3, \"value\": 1800}, \"1809\": {\"frequency\": 1, \"value\": 1809}, \"1814\": {\"frequency\": 1, \"value\": 1814}, \"1822\": {\"frequency\": 1, \"value\": 1822}, \"1833\": {\"frequency\": 1, \"value\": 1833}, \"1836\": {\"frequency\": 1, \"value\": 1836}, \"1838\": {\"frequency\": 1, \"value\": 1838}, \"1842\": {\"frequency\": 1, \"value\": 1842}, \"1844\": {\"frequency\": 3, \"value\": 1844}, \"1845\": {\"frequency\": 1, \"value\": 1845}, \"1848\": {\"frequency\": 1, \"value\": 1848}, \"1856\": {\"frequency\": 1, \"value\": 1856}, \"1860\": {\"frequency\": 1, \"value\": 1860}, \"1868\": {\"frequency\": 1, \"value\": 1868}, \"1869\": {\"frequency\": 1, \"value\": 1869}, \"1896\": {\"frequency\": 1, \"value\": 1896}, \"1902\": {\"frequency\": 1, \"value\": 1902}, \"1905\": {\"frequency\": 1, \"value\": 1905}, \"1907\": {\"frequency\": 1, \"value\": 1907}, \"1922\": {\"frequency\": 1, \"value\": 1922}, \"1926\": {\"frequency\": 1, \"value\": 1926}, \"1930\": {\"frequency\": 2, \"value\": 1930}, \"1932\": {\"frequency\": 1, \"value\": 1932}, \"1935\": {\"frequency\": 1, \"value\": 1935}, \"1947\": {\"frequency\": 1, \"value\": 1947}, \"1952\": {\"frequency\": 1, \"value\": 1952}, \"1976\": {\"frequency\": 1, \"value\": 1976}, \"1980\": {\"frequency\": 1, \"value\": 1980}, \"1986\": {\"frequency\": 1, \"value\": 1986}, \"1992\": {\"frequency\": 1, \"value\": 1992}, \"2000\": {\"frequency\": 1, \"value\": 2000}, \"2002\": {\"frequency\": 1, \"value\": 2002}, \"2006\": {\"frequency\": 1, \"value\": 2006}, \"6110\": {\"frequency\": 1, \"value\": 6110}, \"2033\": {\"frequency\": 1, \"value\": 2033}, \"2035\": {\"frequency\": 1, \"value\": 2035}, \"2042\": {\"frequency\": 1, \"value\": 2042}, \"2046\": {\"frequency\": 1, \"value\": 2046}}, \"mean\": 1057.4294520547946}, \"GrLivArea\": {\"std\": 525.3003935623227, \"complete\": true, \"min\": 334.0, \"max\": 5642.0, \"quantile\": [334.0, 691.0, 768.0, 796.0, 827.0, 848.0, 864.0, 864.0, 884.0, 894.0, 912.0, 924.0, 948.0, 960.0, 980.0, 988.0, 1004.0, 1034.0, 1040.0, 1054.0, 1067.0, 1078.0, 1092.0, 1109.0, 1120.0, 1130.0, 1144.0, 1158.0, 1178.0, 1196.0, 1208.0, 1217.0, 1224.0, 1236.0, 1252.0, 1262.0, 1279.0, 1301.0, 1310.0, 1324.0, 1339.0, 1348.0, 1360.0, 1368.0, 1382.0, 1393.0, 1414.0, 1428.0, 1437.0, 1456.0, 1464.0, 1475.0, 1484.0, 1494.0, 1502.0, 1510.0, 1525.0, 1541.0, 1557.0, 1571.0, 1578.0, 1600.0, 1614.0, 1626.0, 1640.0, 1652.0, 1660.0, 1668.0, 1684.0, 1694.0, 1710.0, 1717.0, 1728.0, 1740.0, 1766.0, 1779.0, 1792.0, 1804.0, 1836.0, 1850.0, 1869.0, 1908.0, 1928.0, 1953.0, 1968.0, 1989.0, 2021.0, 2060.0, 2090.0, 2121.0, 2161.0, 2223.0, 2267.0, 2329.0, 2392.0, 2468.0, 2554.0, 2634.0, 2784.0, 3140.0, 5642.0], \"median\": 1464.0, \"numeric\": true, \"num_unique\": 863, \"num_undefined\": 0, \"var\": 275940.5034767312, \"progress\": 1.0, \"size\": 1460, \"frequent_items\": {\"2054\": {\"frequency\": 1, \"value\": 2054}, \"2057\": {\"frequency\": 1, \"value\": 2057}, \"2058\": {\"frequency\": 1, \"value\": 2058}, \"2060\": {\"frequency\": 2, \"value\": 2060}, \"2062\": {\"frequency\": 1, \"value\": 2062}, \"2069\": {\"frequency\": 1, \"value\": 2069}, \"2073\": {\"frequency\": 1, \"value\": 2073}, \"2076\": {\"frequency\": 1, \"value\": 2076}, \"2078\": {\"frequency\": 1, \"value\": 2078}, \"2080\": {\"frequency\": 2, \"value\": 2080}, \"2082\": {\"frequency\": 1, \"value\": 2082}, \"2084\": {\"frequency\": 2, \"value\": 2084}, \"2087\": {\"frequency\": 1, \"value\": 2087}, \"2090\": {\"frequency\": 3, \"value\": 2090}, \"2093\": {\"frequency\": 1, \"value\": 2093}, \"2094\": {\"frequency\": 1, \"value\": 2094}, \"2097\": {\"frequency\": 3, \"value\": 2097}, \"2098\": {\"frequency\": 1, \"value\": 2098}, \"2108\": {\"frequency\": 1, \"value\": 2108}, \"3082\": {\"frequency\": 1, \"value\": 3082}, \"2110\": {\"frequency\": 2, \"value\": 2110}, \"2112\": {\"frequency\": 1, \"value\": 2112}, \"2113\": {\"frequency\": 1, \"value\": 2113}, \"2117\": {\"frequency\": 1, \"value\": 2117}, \"2119\": {\"frequency\": 1, \"value\": 2119}, \"2121\": {\"frequency\": 1, \"value\": 2121}, \"2126\": {\"frequency\": 1, \"value\": 2126}, \"2127\": {\"frequency\": 2, \"value\": 2127}, \"2132\": {\"frequency\": 1, \"value\": 2132}, \"2134\": {\"frequency\": 1, \"value\": 2134}, \"2136\": {\"frequency\": 1, \"value\": 2136}, \"2138\": {\"frequency\": 1, \"value\": 2138}, \"2142\": {\"frequency\": 1, \"value\": 2142}, \"2144\": {\"frequency\": 1, \"value\": 2144}, \"2149\": {\"frequency\": 1, \"value\": 2149}, \"2153\": {\"frequency\": 1, \"value\": 2153}, \"2156\": {\"frequency\": 1, \"value\": 2156}, \"2157\": {\"frequency\": 1, \"value\": 2157}, \"2158\": {\"frequency\": 1, \"value\": 2158}, \"2161\": {\"frequency\": 1, \"value\": 2161}, \"2167\": {\"frequency\": 1, \"value\": 2167}, \"2169\": {\"frequency\": 1, \"value\": 2169}, \"2172\": {\"frequency\": 1, \"value\": 2172}, \"2183\": {\"frequency\": 1, \"value\": 2183}, \"2184\": {\"frequency\": 1, \"value\": 2184}, \"2192\": {\"frequency\": 1, \"value\": 2192}, \"2196\": {\"frequency\": 1, \"value\": 2196}, \"2198\": {\"frequency\": 1, \"value\": 2198}, \"2200\": {\"frequency\": 1, \"value\": 2200}, \"2201\": {\"frequency\": 1, \"value\": 2201}, \"2207\": {\"frequency\": 1, \"value\": 2207}, \"2210\": {\"frequency\": 1, \"value\": 2210}, \"2217\": {\"frequency\": 1, \"value\": 2217}, \"2223\": {\"frequency\": 1, \"value\": 2223}, \"2224\": {\"frequency\": 1, \"value\": 2224}, \"2229\": {\"frequency\": 1, \"value\": 2229}, \"2230\": {\"frequency\": 1, \"value\": 2230}, \"2234\": {\"frequency\": 1, \"value\": 2234}, \"2236\": {\"frequency\": 1, \"value\": 2236}, \"2240\": {\"frequency\": 1, \"value\": 2240}, \"2243\": {\"frequency\": 1, \"value\": 2243}, \"2256\": {\"frequency\": 1, \"value\": 2256}, \"2259\": {\"frequency\": 1, \"value\": 2259}, \"2260\": {\"frequency\": 1, \"value\": 2260}, \"2262\": {\"frequency\": 1, \"value\": 2262}, \"2263\": {\"frequency\": 3, \"value\": 2263}, \"2267\": {\"frequency\": 1, \"value\": 2267}, \"4316\": {\"frequency\": 1, \"value\": 4316}, \"2270\": {\"frequency\": 1, \"value\": 2270}, \"2274\": {\"frequency\": 1, \"value\": 2274}, \"2285\": {\"frequency\": 1, \"value\": 2285}, \"2287\": {\"frequency\": 1, \"value\": 2287}, \"2290\": {\"frequency\": 2, \"value\": 2290}, \"2291\": {\"frequency\": 2, \"value\": 2291}, \"2295\": {\"frequency\": 1, \"value\": 2295}, \"2296\": {\"frequency\": 1, \"value\": 2296}, \"2320\": {\"frequency\": 2, \"value\": 2320}, \"2324\": {\"frequency\": 1, \"value\": 2324}, \"2329\": {\"frequency\": 1, \"value\": 2329}, \"2332\": {\"frequency\": 1, \"value\": 2332}, \"2337\": {\"frequency\": 1, \"value\": 2337}, \"2340\": {\"frequency\": 1, \"value\": 2340}, \"2344\": {\"frequency\": 1, \"value\": 2344}, \"2345\": {\"frequency\": 1, \"value\": 2345}, \"2353\": {\"frequency\": 1, \"value\": 2353}, \"2358\": {\"frequency\": 2, \"value\": 2358}, \"2364\": {\"frequency\": 1, \"value\": 2364}, \"2365\": {\"frequency\": 1, \"value\": 2365}, \"2372\": {\"frequency\": 1, \"value\": 2372}, \"2374\": {\"frequency\": 1, \"value\": 2374}, \"2376\": {\"frequency\": 1, \"value\": 2376}, \"2380\": {\"frequency\": 1, \"value\": 2380}, \"334\": {\"frequency\": 1, \"value\": 334}, \"2392\": {\"frequency\": 2, \"value\": 2392}, \"2398\": {\"frequency\": 1, \"value\": 2398}, \"2402\": {\"frequency\": 1, \"value\": 2402}, \"2403\": {\"frequency\": 1, \"value\": 2403}, \"2414\": {\"frequency\": 1, \"value\": 2414}, \"2417\": {\"frequency\": 1, \"value\": 2417}, \"2418\": {\"frequency\": 1, \"value\": 2418}, \"4476\": {\"frequency\": 1, \"value\": 4476}, \"2447\": {\"frequency\": 1, \"value\": 2447}, \"2448\": {\"frequency\": 1, \"value\": 2448}, \"2450\": {\"frequency\": 1, \"value\": 2450}, \"2452\": {\"frequency\": 2, \"value\": 2452}, \"3140\": {\"frequency\": 1, \"value\": 3140}, \"2462\": {\"frequency\": 1, \"value\": 2462}, \"2466\": {\"frequency\": 1, \"value\": 2466}, \"2468\": {\"frequency\": 1, \"value\": 2468}, \"2473\": {\"frequency\": 1, \"value\": 2473}, \"2482\": {\"frequency\": 1, \"value\": 2482}, \"438\": {\"frequency\": 1, \"value\": 438}, \"2504\": {\"frequency\": 1, \"value\": 2504}, \"2514\": {\"frequency\": 1, \"value\": 2514}, \"2515\": {\"frequency\": 1, \"value\": 2515}, \"2519\": {\"frequency\": 1, \"value\": 2519}, \"2520\": {\"frequency\": 2, \"value\": 2520}, \"2521\": {\"frequency\": 1, \"value\": 2521}, \"2524\": {\"frequency\": 1, \"value\": 2524}, \"2526\": {\"frequency\": 2, \"value\": 2526}, \"1445\": {\"frequency\": 1, \"value\": 1445}, \"480\": {\"frequency\": 1, \"value\": 480}, \"2531\": {\"frequency\": 1, \"value\": 2531}, \"2554\": {\"frequency\": 1, \"value\": 2554}, \"2555\": {\"frequency\": 1, \"value\": 2555}, \"520\": {\"frequency\": 1, \"value\": 520}, \"2574\": {\"frequency\": 1, \"value\": 2574}, \"2576\": {\"frequency\": 1, \"value\": 2576}, \"2596\": {\"frequency\": 1, \"value\": 2596}, \"774\": {\"frequency\": 1, \"value\": 774}, \"2599\": {\"frequency\": 1, \"value\": 2599}, \"2601\": {\"frequency\": 1, \"value\": 2601}, \"2610\": {\"frequency\": 1, \"value\": 2610}, \"2612\": {\"frequency\": 1, \"value\": 2612}, \"2614\": {\"frequency\": 1, \"value\": 2614}, \"2620\": {\"frequency\": 1, \"value\": 2620}, \"2622\": {\"frequency\": 1, \"value\": 2622}, \"2624\": {\"frequency\": 1, \"value\": 2624}, \"4676\": {\"frequency\": 1, \"value\": 4676}, \"2630\": {\"frequency\": 1, \"value\": 2630}, \"2828\": {\"frequency\": 1, \"value\": 2828}, \"2634\": {\"frequency\": 1, \"value\": 2634}, \"2640\": {\"frequency\": 1, \"value\": 2640}, \"2643\": {\"frequency\": 1, \"value\": 2643}, \"2646\": {\"frequency\": 1, \"value\": 2646}, \"605\": {\"frequency\": 1, \"value\": 605}, \"2654\": {\"frequency\": 1, \"value\": 2654}, \"616\": {\"frequency\": 1, \"value\": 616}, \"2668\": {\"frequency\": 1, \"value\": 2668}, \"630\": {\"frequency\": 6, \"value\": 630}, \"2696\": {\"frequency\": 1, \"value\": 2696}, \"2704\": {\"frequency\": 1, \"value\": 2704}, \"2713\": {\"frequency\": 1, \"value\": 2713}, \"2715\": {\"frequency\": 1, \"value\": 2715}, \"672\": {\"frequency\": 2, \"value\": 672}, \"2727\": {\"frequency\": 1, \"value\": 2727}, \"2728\": {\"frequency\": 1, \"value\": 2728}, \"2730\": {\"frequency\": 1, \"value\": 2730}, \"691\": {\"frequency\": 1, \"value\": 691}, \"693\": {\"frequency\": 1, \"value\": 693}, \"694\": {\"frequency\": 1, \"value\": 694}, \"698\": {\"frequency\": 1, \"value\": 698}, \"708\": {\"frequency\": 1, \"value\": 708}, \"720\": {\"frequency\": 3, \"value\": 720}, \"2775\": {\"frequency\": 1, \"value\": 2775}, \"729\": {\"frequency\": 1, \"value\": 729}, \"1146\": {\"frequency\": 1, \"value\": 1146}, \"2784\": {\"frequency\": 1, \"value\": 2784}, \"2792\": {\"frequency\": 1, \"value\": 2792}, \"2794\": {\"frequency\": 1, \"value\": 2794}, \"747\": {\"frequency\": 2, \"value\": 747}, \"752\": {\"frequency\": 1, \"value\": 752}, \"754\": {\"frequency\": 1, \"value\": 754}, \"2810\": {\"frequency\": 1, \"value\": 2810}, \"764\": {\"frequency\": 1, \"value\": 764}, \"767\": {\"frequency\": 1, \"value\": 767}, \"768\": {\"frequency\": 3, \"value\": 768}, \"773\": {\"frequency\": 1, \"value\": 773}, \"2822\": {\"frequency\": 1, \"value\": 2822}, \"778\": {\"frequency\": 1, \"value\": 778}, \"780\": {\"frequency\": 1, \"value\": 780}, \"784\": {\"frequency\": 2, \"value\": 784}, \"788\": {\"frequency\": 1, \"value\": 788}, \"789\": {\"frequency\": 2, \"value\": 789}, \"790\": {\"frequency\": 1, \"value\": 790}, \"792\": {\"frequency\": 1, \"value\": 792}, \"796\": {\"frequency\": 2, \"value\": 796}, \"800\": {\"frequency\": 1, \"value\": 800}, \"803\": {\"frequency\": 1, \"value\": 803}, \"804\": {\"frequency\": 1, \"value\": 804}, \"813\": {\"frequency\": 1, \"value\": 813}, \"816\": {\"frequency\": 8, \"value\": 816}, \"2868\": {\"frequency\": 1, \"value\": 2868}, \"2872\": {\"frequency\": 2, \"value\": 2872}, \"825\": {\"frequency\": 1, \"value\": 825}, \"827\": {\"frequency\": 1, \"value\": 827}, \"832\": {\"frequency\": 1, \"value\": 832}, \"833\": {\"frequency\": 2, \"value\": 833}, \"835\": {\"frequency\": 1, \"value\": 835}, \"838\": {\"frequency\": 1, \"value\": 838}, \"840\": {\"frequency\": 1, \"value\": 840}, \"841\": {\"frequency\": 1, \"value\": 841}, \"845\": {\"frequency\": 2, \"value\": 845}, \"848\": {\"frequency\": 10, \"value\": 848}, \"2898\": {\"frequency\": 1, \"value\": 2898}, \"854\": {\"frequency\": 1, \"value\": 854}, \"858\": {\"frequency\": 4, \"value\": 858}, \"860\": {\"frequency\": 1, \"value\": 860}, \"861\": {\"frequency\": 1, \"value\": 861}, \"864\": {\"frequency\": 22, \"value\": 864}, \"866\": {\"frequency\": 1, \"value\": 866}, \"869\": {\"frequency\": 1, \"value\": 869}, \"872\": {\"frequency\": 1, \"value\": 872}, \"874\": {\"frequency\": 1, \"value\": 874}, \"875\": {\"frequency\": 1, \"value\": 875}, \"882\": {\"frequency\": 4, \"value\": 882}, \"884\": {\"frequency\": 1, \"value\": 884}, \"886\": {\"frequency\": 1, \"value\": 886}, \"892\": {\"frequency\": 2, \"value\": 892}, \"893\": {\"frequency\": 1, \"value\": 893}, \"894\": {\"frequency\": 11, \"value\": 894}, \"2945\": {\"frequency\": 1, \"value\": 2945}, \"899\": {\"frequency\": 1, \"value\": 899}, \"900\": {\"frequency\": 3, \"value\": 900}, \"901\": {\"frequency\": 1, \"value\": 901}, \"902\": {\"frequency\": 2, \"value\": 902}, \"904\": {\"frequency\": 3, \"value\": 904}, \"907\": {\"frequency\": 1, \"value\": 907}, \"910\": {\"frequency\": 1, \"value\": 910}, \"912\": {\"frequency\": 9, \"value\": 912}, \"913\": {\"frequency\": 1, \"value\": 913}, \"914\": {\"frequency\": 1, \"value\": 914}, \"918\": {\"frequency\": 1, \"value\": 918}, \"923\": {\"frequency\": 2, \"value\": 923}, \"924\": {\"frequency\": 3, \"value\": 924}, \"925\": {\"frequency\": 1, \"value\": 925}, \"928\": {\"frequency\": 2, \"value\": 928}, \"2978\": {\"frequency\": 1, \"value\": 2978}, \"932\": {\"frequency\": 1, \"value\": 932}, \"935\": {\"frequency\": 2, \"value\": 935}, \"936\": {\"frequency\": 3, \"value\": 936}, \"1180\": {\"frequency\": 1, \"value\": 1180}, \"938\": {\"frequency\": 1, \"value\": 938}, \"943\": {\"frequency\": 1, \"value\": 943}, \"944\": {\"frequency\": 1, \"value\": 944}, \"948\": {\"frequency\": 3, \"value\": 948}, \"950\": {\"frequency\": 1, \"value\": 950}, \"951\": {\"frequency\": 1, \"value\": 951}, \"952\": {\"frequency\": 3, \"value\": 952}, \"954\": {\"frequency\": 2, \"value\": 954}, \"955\": {\"frequency\": 1, \"value\": 955}, \"958\": {\"frequency\": 3, \"value\": 958}, \"960\": {\"frequency\": 5, \"value\": 960}, \"964\": {\"frequency\": 1, \"value\": 964}, \"965\": {\"frequency\": 1, \"value\": 965}, \"968\": {\"frequency\": 3, \"value\": 968}, \"969\": {\"frequency\": 1, \"value\": 969}, \"970\": {\"frequency\": 1, \"value\": 970}, \"971\": {\"frequency\": 1, \"value\": 971}, \"972\": {\"frequency\": 1, \"value\": 972}, \"974\": {\"frequency\": 1, \"value\": 974}, \"980\": {\"frequency\": 3, \"value\": 980}, \"981\": {\"frequency\": 1, \"value\": 981}, \"985\": {\"frequency\": 1, \"value\": 985}, \"986\": {\"frequency\": 1, \"value\": 986}, \"987\": {\"frequency\": 7, \"value\": 987}, \"988\": {\"frequency\": 5, \"value\": 988}, \"990\": {\"frequency\": 5, \"value\": 990}, \"996\": {\"frequency\": 2, \"value\": 996}, \"3238\": {\"frequency\": 1, \"value\": 3238}, \"999\": {\"frequency\": 3, \"value\": 999}, \"1002\": {\"frequency\": 1, \"value\": 1002}, \"1003\": {\"frequency\": 1, \"value\": 1003}, \"1004\": {\"frequency\": 2, \"value\": 1004}, \"1005\": {\"frequency\": 1, \"value\": 1005}, \"1006\": {\"frequency\": 1, \"value\": 1006}, \"1008\": {\"frequency\": 2, \"value\": 1008}, \"1012\": {\"frequency\": 1, \"value\": 1012}, \"1015\": {\"frequency\": 1, \"value\": 1015}, \"1020\": {\"frequency\": 1, \"value\": 1020}, \"1022\": {\"frequency\": 1, \"value\": 1022}, \"1026\": {\"frequency\": 2, \"value\": 1026}, \"1028\": {\"frequency\": 1, \"value\": 1028}, \"1029\": {\"frequency\": 1, \"value\": 1029}, \"1032\": {\"frequency\": 1, \"value\": 1032}, \"1034\": {\"frequency\": 2, \"value\": 1034}, \"3086\": {\"frequency\": 1, \"value\": 3086}, \"1039\": {\"frequency\": 1, \"value\": 1039}, \"1040\": {\"frequency\": 14, \"value\": 1040}, \"1041\": {\"frequency\": 1, \"value\": 1041}, \"1044\": {\"frequency\": 1, \"value\": 1044}, \"1047\": {\"frequency\": 1, \"value\": 1047}, \"1048\": {\"frequency\": 3, \"value\": 1048}, \"1050\": {\"frequency\": 2, \"value\": 1050}, \"1052\": {\"frequency\": 2, \"value\": 1052}, \"1053\": {\"frequency\": 2, \"value\": 1053}, \"1054\": {\"frequency\": 2, \"value\": 1054}, \"1056\": {\"frequency\": 6, \"value\": 1056}, \"1057\": {\"frequency\": 2, \"value\": 1057}, \"1060\": {\"frequency\": 2, \"value\": 1060}, \"1062\": {\"frequency\": 1, \"value\": 1062}, \"1063\": {\"frequency\": 1, \"value\": 1063}, \"3112\": {\"frequency\": 1, \"value\": 3112}, \"1065\": {\"frequency\": 1, \"value\": 1065}, \"1067\": {\"frequency\": 1, \"value\": 1067}, \"1068\": {\"frequency\": 1, \"value\": 1068}, \"1069\": {\"frequency\": 2, \"value\": 1069}, \"1072\": {\"frequency\": 3, \"value\": 1072}, \"1073\": {\"frequency\": 2, \"value\": 1073}, \"1074\": {\"frequency\": 1, \"value\": 1074}, \"1077\": {\"frequency\": 3, \"value\": 1077}, \"1078\": {\"frequency\": 2, \"value\": 1078}, \"1080\": {\"frequency\": 3, \"value\": 1080}, \"1082\": {\"frequency\": 1, \"value\": 1082}, \"1086\": {\"frequency\": 2, \"value\": 1086}, \"1088\": {\"frequency\": 1, \"value\": 1088}, \"1090\": {\"frequency\": 1, \"value\": 1090}, \"1092\": {\"frequency\": 8, \"value\": 1092}, \"1094\": {\"frequency\": 1, \"value\": 1094}, \"1095\": {\"frequency\": 1, \"value\": 1095}, \"1096\": {\"frequency\": 2, \"value\": 1096}, \"1097\": {\"frequency\": 2, \"value\": 1097}, \"1098\": {\"frequency\": 1, \"value\": 1098}, \"1099\": {\"frequency\": 1, \"value\": 1099}, \"1100\": {\"frequency\": 1, \"value\": 1100}, \"1102\": {\"frequency\": 1, \"value\": 1102}, \"1103\": {\"frequency\": 1, \"value\": 1103}, \"1108\": {\"frequency\": 1, \"value\": 1108}, \"1109\": {\"frequency\": 1, \"value\": 1109}, \"1110\": {\"frequency\": 1, \"value\": 1110}, \"1111\": {\"frequency\": 3, \"value\": 1111}, \"1112\": {\"frequency\": 1, \"value\": 1112}, \"1113\": {\"frequency\": 2, \"value\": 1113}, \"1114\": {\"frequency\": 2, \"value\": 1114}, \"1116\": {\"frequency\": 1, \"value\": 1116}, \"1117\": {\"frequency\": 1, \"value\": 1117}, \"1118\": {\"frequency\": 3, \"value\": 1118}, \"1120\": {\"frequency\": 2, \"value\": 1120}, \"1121\": {\"frequency\": 2, \"value\": 1121}, \"1122\": {\"frequency\": 1, \"value\": 1122}, \"1123\": {\"frequency\": 1, \"value\": 1123}, \"1124\": {\"frequency\": 1, \"value\": 1124}, \"1125\": {\"frequency\": 2, \"value\": 1125}, \"1126\": {\"frequency\": 3, \"value\": 1126}, \"1128\": {\"frequency\": 3, \"value\": 1128}, \"1130\": {\"frequency\": 1, \"value\": 1130}, \"1131\": {\"frequency\": 2, \"value\": 1131}, \"1132\": {\"frequency\": 1, \"value\": 1132}, \"1134\": {\"frequency\": 2, \"value\": 1134}, \"1135\": {\"frequency\": 1, \"value\": 1135}, \"1136\": {\"frequency\": 1, \"value\": 1136}, \"1137\": {\"frequency\": 1, \"value\": 1137}, \"1138\": {\"frequency\": 1, \"value\": 1138}, \"1140\": {\"frequency\": 2, \"value\": 1140}, \"1141\": {\"frequency\": 1, \"value\": 1141}, \"1142\": {\"frequency\": 1, \"value\": 1142}, \"1144\": {\"frequency\": 5, \"value\": 1144}, \"1145\": {\"frequency\": 1, \"value\": 1145}, \"3194\": {\"frequency\": 1, \"value\": 3194}, \"1148\": {\"frequency\": 2, \"value\": 1148}, \"1150\": {\"frequency\": 1, \"value\": 1150}, \"1152\": {\"frequency\": 3, \"value\": 1152}, \"1154\": {\"frequency\": 2, \"value\": 1154}, \"1155\": {\"frequency\": 1, \"value\": 1155}, \"1158\": {\"frequency\": 2, \"value\": 1158}, \"1159\": {\"frequency\": 1, \"value\": 1159}, \"1163\": {\"frequency\": 1, \"value\": 1163}, \"1164\": {\"frequency\": 2, \"value\": 1164}, \"1165\": {\"frequency\": 1, \"value\": 1165}, \"1166\": {\"frequency\": 1, \"value\": 1166}, \"1167\": {\"frequency\": 2, \"value\": 1167}, \"3608\": {\"frequency\": 1, \"value\": 3608}, \"1173\": {\"frequency\": 1, \"value\": 1173}, \"3222\": {\"frequency\": 1, \"value\": 3222}, \"1176\": {\"frequency\": 2, \"value\": 1176}, \"1178\": {\"frequency\": 2, \"value\": 1178}, \"3228\": {\"frequency\": 1, \"value\": 3228}, \"1181\": {\"frequency\": 1, \"value\": 1181}, \"1183\": {\"frequency\": 1, \"value\": 1183}, \"1184\": {\"frequency\": 1, \"value\": 1184}, \"1188\": {\"frequency\": 2, \"value\": 1188}, \"1190\": {\"frequency\": 1, \"value\": 1190}, \"1192\": {\"frequency\": 2, \"value\": 1192}, \"1194\": {\"frequency\": 2, \"value\": 1194}, \"1196\": {\"frequency\": 3, \"value\": 1196}, \"1198\": {\"frequency\": 1, \"value\": 1198}, \"1199\": {\"frequency\": 1, \"value\": 1199}, \"1200\": {\"frequency\": 9, \"value\": 1200}, \"1203\": {\"frequency\": 1, \"value\": 1203}, \"1204\": {\"frequency\": 1, \"value\": 1204}, \"1208\": {\"frequency\": 4, \"value\": 1208}, \"1211\": {\"frequency\": 1, \"value\": 1211}, \"1212\": {\"frequency\": 3, \"value\": 1212}, \"1214\": {\"frequency\": 3, \"value\": 1214}, \"1215\": {\"frequency\": 1, \"value\": 1215}, \"1216\": {\"frequency\": 2, \"value\": 1216}, \"1217\": {\"frequency\": 2, \"value\": 1217}, \"1218\": {\"frequency\": 5, \"value\": 1218}, \"1220\": {\"frequency\": 2, \"value\": 1220}, \"1221\": {\"frequency\": 2, \"value\": 1221}, \"1223\": {\"frequency\": 1, \"value\": 1223}, \"1224\": {\"frequency\": 6, \"value\": 1224}, \"1225\": {\"frequency\": 1, \"value\": 1225}, \"1226\": {\"frequency\": 1, \"value\": 1226}, \"1228\": {\"frequency\": 2, \"value\": 1228}, \"1229\": {\"frequency\": 2, \"value\": 1229}, \"1230\": {\"frequency\": 2, \"value\": 1230}, \"3279\": {\"frequency\": 1, \"value\": 3279}, \"1232\": {\"frequency\": 2, \"value\": 1232}, \"1234\": {\"frequency\": 1, \"value\": 1234}, \"1235\": {\"frequency\": 1, \"value\": 1235}, \"1236\": {\"frequency\": 3, \"value\": 1236}, \"1240\": {\"frequency\": 1, \"value\": 1240}, \"1241\": {\"frequency\": 1, \"value\": 1241}, \"1242\": {\"frequency\": 1, \"value\": 1242}, \"1244\": {\"frequency\": 1, \"value\": 1244}, \"1246\": {\"frequency\": 1, \"value\": 1246}, \"1247\": {\"frequency\": 1, \"value\": 1247}, \"1248\": {\"frequency\": 2, \"value\": 1248}, \"1250\": {\"frequency\": 4, \"value\": 1250}, \"1251\": {\"frequency\": 1, \"value\": 1251}, \"1252\": {\"frequency\": 5, \"value\": 1252}, \"1253\": {\"frequency\": 2, \"value\": 1253}, \"1256\": {\"frequency\": 1, \"value\": 1256}, \"1258\": {\"frequency\": 4, \"value\": 1258}, \"1261\": {\"frequency\": 1, \"value\": 1261}, \"1262\": {\"frequency\": 2, \"value\": 1262}, \"1264\": {\"frequency\": 1, \"value\": 1264}, \"1265\": {\"frequency\": 1, \"value\": 1265}, \"1266\": {\"frequency\": 2, \"value\": 1266}, \"1268\": {\"frequency\": 3, \"value\": 1268}, \"1269\": {\"frequency\": 2, \"value\": 1269}, \"1271\": {\"frequency\": 1, \"value\": 1271}, \"1274\": {\"frequency\": 1, \"value\": 1274}, \"1276\": {\"frequency\": 1, \"value\": 1276}, \"1277\": {\"frequency\": 1, \"value\": 1277}, \"1279\": {\"frequency\": 1, \"value\": 1279}, \"1283\": {\"frequency\": 1, \"value\": 1283}, \"1284\": {\"frequency\": 1, \"value\": 1284}, \"1285\": {\"frequency\": 2, \"value\": 1285}, \"1287\": {\"frequency\": 1, \"value\": 1287}, \"1288\": {\"frequency\": 1, \"value\": 1288}, \"1291\": {\"frequency\": 1, \"value\": 1291}, \"1294\": {\"frequency\": 3, \"value\": 1294}, \"1296\": {\"frequency\": 2, \"value\": 1296}, \"1297\": {\"frequency\": 1, \"value\": 1297}, \"1298\": {\"frequency\": 1, \"value\": 1298}, \"1301\": {\"frequency\": 2, \"value\": 1301}, \"1302\": {\"frequency\": 5, \"value\": 1302}, \"1304\": {\"frequency\": 1, \"value\": 1304}, \"1306\": {\"frequency\": 3, \"value\": 1306}, \"1308\": {\"frequency\": 1, \"value\": 1308}, \"1309\": {\"frequency\": 1, \"value\": 1309}, \"1310\": {\"frequency\": 2, \"value\": 1310}, \"1314\": {\"frequency\": 5, \"value\": 1314}, \"1316\": {\"frequency\": 3, \"value\": 1316}, \"1317\": {\"frequency\": 1, \"value\": 1317}, \"1319\": {\"frequency\": 1, \"value\": 1319}, \"1320\": {\"frequency\": 2, \"value\": 1320}, \"1322\": {\"frequency\": 1, \"value\": 1322}, \"1324\": {\"frequency\": 3, \"value\": 1324}, \"1327\": {\"frequency\": 1, \"value\": 1327}, \"1328\": {\"frequency\": 3, \"value\": 1328}, \"1334\": {\"frequency\": 1, \"value\": 1334}, \"1336\": {\"frequency\": 2, \"value\": 1336}, \"1337\": {\"frequency\": 4, \"value\": 1337}, \"1338\": {\"frequency\": 1, \"value\": 1338}, \"1339\": {\"frequency\": 2, \"value\": 1339}, \"1340\": {\"frequency\": 2, \"value\": 1340}, \"1342\": {\"frequency\": 1, \"value\": 1342}, \"1343\": {\"frequency\": 1, \"value\": 1343}, \"1344\": {\"frequency\": 7, \"value\": 1344}, \"1346\": {\"frequency\": 1, \"value\": 1346}, \"1347\": {\"frequency\": 1, \"value\": 1347}, \"1348\": {\"frequency\": 2, \"value\": 1348}, \"1349\": {\"frequency\": 1, \"value\": 1349}, \"1350\": {\"frequency\": 2, \"value\": 1350}, \"1352\": {\"frequency\": 3, \"value\": 1352}, \"1355\": {\"frequency\": 2, \"value\": 1355}, \"1357\": {\"frequency\": 1, \"value\": 1357}, \"1358\": {\"frequency\": 2, \"value\": 1358}, \"1360\": {\"frequency\": 3, \"value\": 1360}, \"1362\": {\"frequency\": 4, \"value\": 1362}, \"1363\": {\"frequency\": 3, \"value\": 1363}, \"1364\": {\"frequency\": 1, \"value\": 1364}, \"1365\": {\"frequency\": 2, \"value\": 1365}, \"1367\": {\"frequency\": 2, \"value\": 1367}, \"1368\": {\"frequency\": 3, \"value\": 1368}, \"1369\": {\"frequency\": 1, \"value\": 1369}, \"1370\": {\"frequency\": 2, \"value\": 1370}, \"1372\": {\"frequency\": 1, \"value\": 1372}, \"1374\": {\"frequency\": 1, \"value\": 1374}, \"1375\": {\"frequency\": 2, \"value\": 1375}, \"1376\": {\"frequency\": 2, \"value\": 1376}, \"1378\": {\"frequency\": 1, \"value\": 1378}, \"1381\": {\"frequency\": 1, \"value\": 1381}, \"1382\": {\"frequency\": 4, \"value\": 1382}, \"1383\": {\"frequency\": 2, \"value\": 1383}, \"1385\": {\"frequency\": 1, \"value\": 1385}, \"1386\": {\"frequency\": 1, \"value\": 1386}, \"1387\": {\"frequency\": 1, \"value\": 1387}, \"1389\": {\"frequency\": 2, \"value\": 1389}, \"1391\": {\"frequency\": 1, \"value\": 1391}, \"1392\": {\"frequency\": 5, \"value\": 1392}, \"1393\": {\"frequency\": 1, \"value\": 1393}, \"1394\": {\"frequency\": 2, \"value\": 1394}, \"1395\": {\"frequency\": 1, \"value\": 1395}, \"1396\": {\"frequency\": 1, \"value\": 1396}, \"3447\": {\"frequency\": 1, \"value\": 3447}, \"1400\": {\"frequency\": 1, \"value\": 1400}, \"1402\": {\"frequency\": 1, \"value\": 1402}, \"1405\": {\"frequency\": 1, \"value\": 1405}, \"1406\": {\"frequency\": 1, \"value\": 1406}, \"1411\": {\"frequency\": 1, \"value\": 1411}, \"1412\": {\"frequency\": 3, \"value\": 1412}, \"1414\": {\"frequency\": 4, \"value\": 1414}, \"1416\": {\"frequency\": 4, \"value\": 1416}, \"1419\": {\"frequency\": 2, \"value\": 1419}, \"1422\": {\"frequency\": 3, \"value\": 1422}, \"1425\": {\"frequency\": 1, \"value\": 1425}, \"1426\": {\"frequency\": 2, \"value\": 1426}, \"1428\": {\"frequency\": 2, \"value\": 1428}, \"1429\": {\"frequency\": 1, \"value\": 1429}, \"1430\": {\"frequency\": 3, \"value\": 1430}, \"1431\": {\"frequency\": 2, \"value\": 1431}, \"1432\": {\"frequency\": 3, \"value\": 1432}, \"1434\": {\"frequency\": 1, \"value\": 1434}, \"1436\": {\"frequency\": 1, \"value\": 1436}, \"1437\": {\"frequency\": 2, \"value\": 1437}, \"1440\": {\"frequency\": 4, \"value\": 1440}, \"1441\": {\"frequency\": 2, \"value\": 1441}, \"1442\": {\"frequency\": 4, \"value\": 1442}, \"3493\": {\"frequency\": 1, \"value\": 3493}, \"1446\": {\"frequency\": 1, \"value\": 1446}, \"1452\": {\"frequency\": 2, \"value\": 1452}, \"1453\": {\"frequency\": 1, \"value\": 1453}, \"1456\": {\"frequency\": 10, \"value\": 1456}, \"1458\": {\"frequency\": 2, \"value\": 1458}, \"1459\": {\"frequency\": 1, \"value\": 1459}, \"2633\": {\"frequency\": 1, \"value\": 2633}, \"1464\": {\"frequency\": 2, \"value\": 1464}, \"1466\": {\"frequency\": 3, \"value\": 1466}, \"1468\": {\"frequency\": 1, \"value\": 1468}, \"1469\": {\"frequency\": 1, \"value\": 1469}, \"1470\": {\"frequency\": 3, \"value\": 1470}, \"1471\": {\"frequency\": 1, \"value\": 1471}, \"1472\": {\"frequency\": 3, \"value\": 1472}, \"1473\": {\"frequency\": 1, \"value\": 1473}, \"1474\": {\"frequency\": 1, \"value\": 1474}, \"1475\": {\"frequency\": 1, \"value\": 1475}, \"1476\": {\"frequency\": 1, \"value\": 1476}, \"1477\": {\"frequency\": 1, \"value\": 1477}, \"1478\": {\"frequency\": 3, \"value\": 1478}, \"1479\": {\"frequency\": 4, \"value\": 1479}, \"1481\": {\"frequency\": 1, \"value\": 1481}, \"1482\": {\"frequency\": 3, \"value\": 1482}, \"1484\": {\"frequency\": 6, \"value\": 1484}, \"930\": {\"frequency\": 1, \"value\": 930}, \"1486\": {\"frequency\": 1, \"value\": 1486}, \"1487\": {\"frequency\": 1, \"value\": 1487}, \"1489\": {\"frequency\": 3, \"value\": 1489}, \"1490\": {\"frequency\": 1, \"value\": 1490}, \"1493\": {\"frequency\": 1, \"value\": 1493}, \"1494\": {\"frequency\": 6, \"value\": 1494}, \"1496\": {\"frequency\": 2, \"value\": 1496}, \"1498\": {\"frequency\": 2, \"value\": 1498}, \"1500\": {\"frequency\": 3, \"value\": 1500}, \"1501\": {\"frequency\": 3, \"value\": 1501}, \"1502\": {\"frequency\": 4, \"value\": 1502}, \"1504\": {\"frequency\": 3, \"value\": 1504}, \"1505\": {\"frequency\": 2, \"value\": 1505}, \"1506\": {\"frequency\": 2, \"value\": 1506}, \"1507\": {\"frequency\": 1, \"value\": 1507}, \"1509\": {\"frequency\": 3, \"value\": 1509}, \"1510\": {\"frequency\": 1, \"value\": 1510}, \"1511\": {\"frequency\": 1, \"value\": 1511}, \"1512\": {\"frequency\": 1, \"value\": 1512}, \"1513\": {\"frequency\": 1, \"value\": 1513}, \"1516\": {\"frequency\": 1, \"value\": 1516}, \"1517\": {\"frequency\": 2, \"value\": 1517}, \"1518\": {\"frequency\": 1, \"value\": 1518}, \"1520\": {\"frequency\": 2, \"value\": 1520}, \"1522\": {\"frequency\": 1, \"value\": 1522}, \"1523\": {\"frequency\": 1, \"value\": 1523}, \"1524\": {\"frequency\": 2, \"value\": 1524}, \"1525\": {\"frequency\": 2, \"value\": 1525}, \"1526\": {\"frequency\": 2, \"value\": 1526}, \"1529\": {\"frequency\": 1, \"value\": 1529}, \"1530\": {\"frequency\": 2, \"value\": 1530}, \"1533\": {\"frequency\": 1, \"value\": 1533}, \"1535\": {\"frequency\": 3, \"value\": 1535}, \"1536\": {\"frequency\": 1, \"value\": 1536}, \"1537\": {\"frequency\": 1, \"value\": 1537}, \"1539\": {\"frequency\": 2, \"value\": 1539}, \"1541\": {\"frequency\": 2, \"value\": 1541}, \"5642\": {\"frequency\": 1, \"value\": 5642}, \"1547\": {\"frequency\": 1, \"value\": 1547}, \"1548\": {\"frequency\": 2, \"value\": 1548}, \"1550\": {\"frequency\": 1, \"value\": 1550}, \"1552\": {\"frequency\": 2, \"value\": 1552}, \"1553\": {\"frequency\": 1, \"value\": 1553}, \"1554\": {\"frequency\": 1, \"value\": 1554}, \"1555\": {\"frequency\": 2, \"value\": 1555}, \"1556\": {\"frequency\": 2, \"value\": 1556}, \"1557\": {\"frequency\": 1, \"value\": 1557}, \"1558\": {\"frequency\": 2, \"value\": 1558}, \"1559\": {\"frequency\": 1, \"value\": 1559}, \"1560\": {\"frequency\": 2, \"value\": 1560}, \"1561\": {\"frequency\": 1, \"value\": 1561}, \"1563\": {\"frequency\": 1, \"value\": 1563}, \"1564\": {\"frequency\": 2, \"value\": 1564}, \"1566\": {\"frequency\": 1, \"value\": 1566}, \"1567\": {\"frequency\": 2, \"value\": 1567}, \"1569\": {\"frequency\": 1, \"value\": 1569}, \"1571\": {\"frequency\": 2, \"value\": 1571}, \"1572\": {\"frequency\": 2, \"value\": 1572}, \"1573\": {\"frequency\": 4, \"value\": 1573}, \"1574\": {\"frequency\": 2, \"value\": 1574}, \"1575\": {\"frequency\": 1, \"value\": 1575}, \"1576\": {\"frequency\": 3, \"value\": 1576}, \"1577\": {\"frequency\": 1, \"value\": 1577}, \"1578\": {\"frequency\": 2, \"value\": 1578}, \"3627\": {\"frequency\": 1, \"value\": 3627}, \"1580\": {\"frequency\": 1, \"value\": 1580}, \"1582\": {\"frequency\": 2, \"value\": 1582}, \"1584\": {\"frequency\": 1, \"value\": 1584}, \"1586\": {\"frequency\": 1, \"value\": 1586}, \"1588\": {\"frequency\": 3, \"value\": 1588}, \"1590\": {\"frequency\": 1, \"value\": 1590}, \"1593\": {\"frequency\": 3, \"value\": 1593}, \"1595\": {\"frequency\": 1, \"value\": 1595}, \"1600\": {\"frequency\": 3, \"value\": 1600}, \"1601\": {\"frequency\": 3, \"value\": 1601}, \"1602\": {\"frequency\": 1, \"value\": 1602}, \"1603\": {\"frequency\": 1, \"value\": 1603}, \"1604\": {\"frequency\": 3, \"value\": 1604}, \"1605\": {\"frequency\": 1, \"value\": 1605}, \"1608\": {\"frequency\": 1, \"value\": 1608}, \"1610\": {\"frequency\": 1, \"value\": 1610}, \"1611\": {\"frequency\": 1, \"value\": 1611}, \"1614\": {\"frequency\": 1, \"value\": 1614}, \"1616\": {\"frequency\": 3, \"value\": 1616}, \"1617\": {\"frequency\": 1, \"value\": 1617}, \"1620\": {\"frequency\": 3, \"value\": 1620}, \"1621\": {\"frequency\": 1, \"value\": 1621}, \"1622\": {\"frequency\": 1, \"value\": 1622}, \"1624\": {\"frequency\": 1, \"value\": 1624}, \"1625\": {\"frequency\": 1, \"value\": 1625}, \"1626\": {\"frequency\": 3, \"value\": 1626}, \"1629\": {\"frequency\": 2, \"value\": 1629}, \"1630\": {\"frequency\": 2, \"value\": 1630}, \"1632\": {\"frequency\": 4, \"value\": 1632}, \"1634\": {\"frequency\": 1, \"value\": 1634}, \"1635\": {\"frequency\": 2, \"value\": 1635}, \"1636\": {\"frequency\": 1, \"value\": 1636}, \"1638\": {\"frequency\": 1, \"value\": 1638}, \"1639\": {\"frequency\": 1, \"value\": 1639}, \"1640\": {\"frequency\": 3, \"value\": 1640}, \"1641\": {\"frequency\": 1, \"value\": 1641}, \"1644\": {\"frequency\": 3, \"value\": 1644}, \"1646\": {\"frequency\": 4, \"value\": 1646}, \"1647\": {\"frequency\": 3, \"value\": 1647}, \"1651\": {\"frequency\": 1, \"value\": 1651}, \"1652\": {\"frequency\": 4, \"value\": 1652}, \"1654\": {\"frequency\": 1, \"value\": 1654}, \"1656\": {\"frequency\": 5, \"value\": 1656}, \"1657\": {\"frequency\": 1, \"value\": 1657}, \"1658\": {\"frequency\": 1, \"value\": 1658}, \"1659\": {\"frequency\": 1, \"value\": 1659}, \"1660\": {\"frequency\": 3, \"value\": 1660}, \"1661\": {\"frequency\": 3, \"value\": 1661}, \"1663\": {\"frequency\": 1, \"value\": 1663}, \"1664\": {\"frequency\": 4, \"value\": 1664}, \"1665\": {\"frequency\": 2, \"value\": 1665}, \"1666\": {\"frequency\": 1, \"value\": 1666}, \"1668\": {\"frequency\": 4, \"value\": 1668}, \"1670\": {\"frequency\": 1, \"value\": 1670}, \"1671\": {\"frequency\": 1, \"value\": 1671}, \"1674\": {\"frequency\": 2, \"value\": 1674}, \"1675\": {\"frequency\": 1, \"value\": 1675}, \"1679\": {\"frequency\": 1, \"value\": 1679}, \"1680\": {\"frequency\": 4, \"value\": 1680}, \"1682\": {\"frequency\": 2, \"value\": 1682}, \"1683\": {\"frequency\": 1, \"value\": 1683}, \"1684\": {\"frequency\": 1, \"value\": 1684}, \"1686\": {\"frequency\": 1, \"value\": 1686}, \"1687\": {\"frequency\": 1, \"value\": 1687}, \"1688\": {\"frequency\": 1, \"value\": 1688}, \"1689\": {\"frequency\": 3, \"value\": 1689}, \"1690\": {\"frequency\": 2, \"value\": 1690}, \"1691\": {\"frequency\": 1, \"value\": 1691}, \"1692\": {\"frequency\": 1, \"value\": 1692}, \"1694\": {\"frequency\": 4, \"value\": 1694}, \"1696\": {\"frequency\": 1, \"value\": 1696}, \"1698\": {\"frequency\": 1, \"value\": 1698}, \"1699\": {\"frequency\": 1, \"value\": 1699}, \"1700\": {\"frequency\": 2, \"value\": 1700}, \"1701\": {\"frequency\": 1, \"value\": 1701}, \"1702\": {\"frequency\": 1, \"value\": 1702}, \"1704\": {\"frequency\": 1, \"value\": 1704}, \"1707\": {\"frequency\": 1, \"value\": 1707}, \"1708\": {\"frequency\": 1, \"value\": 1708}, \"1709\": {\"frequency\": 4, \"value\": 1709}, \"1710\": {\"frequency\": 5, \"value\": 1710}, \"1712\": {\"frequency\": 1, \"value\": 1712}, \"1713\": {\"frequency\": 1, \"value\": 1713}, \"1714\": {\"frequency\": 1, \"value\": 1714}, \"1716\": {\"frequency\": 4, \"value\": 1716}, \"1717\": {\"frequency\": 3, \"value\": 1717}, \"1718\": {\"frequency\": 3, \"value\": 1718}, \"1719\": {\"frequency\": 1, \"value\": 1719}, \"1720\": {\"frequency\": 3, \"value\": 1720}, \"1721\": {\"frequency\": 2, \"value\": 1721}, \"1724\": {\"frequency\": 2, \"value\": 1724}, \"1725\": {\"frequency\": 1, \"value\": 1725}, \"1726\": {\"frequency\": 1, \"value\": 1726}, \"1728\": {\"frequency\": 7, \"value\": 1728}, \"1732\": {\"frequency\": 1, \"value\": 1732}, \"1733\": {\"frequency\": 2, \"value\": 1733}, \"1734\": {\"frequency\": 4, \"value\": 1734}, \"1738\": {\"frequency\": 1, \"value\": 1738}, \"1739\": {\"frequency\": 1, \"value\": 1739}, \"1740\": {\"frequency\": 1, \"value\": 1740}, \"1742\": {\"frequency\": 2, \"value\": 1742}, \"1743\": {\"frequency\": 1, \"value\": 1743}, \"1744\": {\"frequency\": 1, \"value\": 1744}, \"1746\": {\"frequency\": 1, \"value\": 1746}, \"1750\": {\"frequency\": 2, \"value\": 1750}, \"1752\": {\"frequency\": 2, \"value\": 1752}, \"1756\": {\"frequency\": 1, \"value\": 1756}, \"1761\": {\"frequency\": 1, \"value\": 1761}, \"1762\": {\"frequency\": 1, \"value\": 1762}, \"1764\": {\"frequency\": 1, \"value\": 1764}, \"1766\": {\"frequency\": 1, \"value\": 1766}, \"1767\": {\"frequency\": 1, \"value\": 1767}, \"1768\": {\"frequency\": 6, \"value\": 1768}, \"1771\": {\"frequency\": 1, \"value\": 1771}, \"1774\": {\"frequency\": 2, \"value\": 1774}, \"1775\": {\"frequency\": 1, \"value\": 1775}, \"1776\": {\"frequency\": 3, \"value\": 1776}, \"1779\": {\"frequency\": 2, \"value\": 1779}, \"1784\": {\"frequency\": 1, \"value\": 1784}, \"1786\": {\"frequency\": 3, \"value\": 1786}, \"1787\": {\"frequency\": 1, \"value\": 1787}, \"1788\": {\"frequency\": 2, \"value\": 1788}, \"1790\": {\"frequency\": 2, \"value\": 1790}, \"1792\": {\"frequency\": 4, \"value\": 1792}, \"1795\": {\"frequency\": 3, \"value\": 1795}, \"1796\": {\"frequency\": 2, \"value\": 1796}, \"1797\": {\"frequency\": 1, \"value\": 1797}, \"1800\": {\"frequency\": 4, \"value\": 1800}, \"1801\": {\"frequency\": 2, \"value\": 1801}, \"1802\": {\"frequency\": 1, \"value\": 1802}, \"1803\": {\"frequency\": 1, \"value\": 1803}, \"1804\": {\"frequency\": 1, \"value\": 1804}, \"1811\": {\"frequency\": 1, \"value\": 1811}, \"1812\": {\"frequency\": 2, \"value\": 1812}, \"1818\": {\"frequency\": 1, \"value\": 1818}, \"1820\": {\"frequency\": 2, \"value\": 1820}, \"1824\": {\"frequency\": 3, \"value\": 1824}, \"1826\": {\"frequency\": 2, \"value\": 1826}, \"1828\": {\"frequency\": 1, \"value\": 1828}, \"1829\": {\"frequency\": 1, \"value\": 1829}, \"1836\": {\"frequency\": 2, \"value\": 1836}, \"1838\": {\"frequency\": 2, \"value\": 1838}, \"1839\": {\"frequency\": 3, \"value\": 1839}, \"1840\": {\"frequency\": 1, \"value\": 1840}, \"1842\": {\"frequency\": 1, \"value\": 1842}, \"1844\": {\"frequency\": 3, \"value\": 1844}, \"1845\": {\"frequency\": 1, \"value\": 1845}, \"1846\": {\"frequency\": 1, \"value\": 1846}, \"1848\": {\"frequency\": 1, \"value\": 1848}, \"1850\": {\"frequency\": 2, \"value\": 1850}, \"1851\": {\"frequency\": 1, \"value\": 1851}, \"1852\": {\"frequency\": 2, \"value\": 1852}, \"1855\": {\"frequency\": 2, \"value\": 1855}, \"1856\": {\"frequency\": 1, \"value\": 1856}, \"1861\": {\"frequency\": 1, \"value\": 1861}, \"1863\": {\"frequency\": 1, \"value\": 1863}, \"1865\": {\"frequency\": 1, \"value\": 1865}, \"1867\": {\"frequency\": 1, \"value\": 1867}, \"1868\": {\"frequency\": 2, \"value\": 1868}, \"1869\": {\"frequency\": 2, \"value\": 1869}, \"1872\": {\"frequency\": 2, \"value\": 1872}, \"1876\": {\"frequency\": 1, \"value\": 1876}, \"1886\": {\"frequency\": 1, \"value\": 1886}, \"1888\": {\"frequency\": 1, \"value\": 1888}, \"1889\": {\"frequency\": 1, \"value\": 1889}, \"1894\": {\"frequency\": 1, \"value\": 1894}, \"1895\": {\"frequency\": 1, \"value\": 1895}, \"1902\": {\"frequency\": 2, \"value\": 1902}, \"1904\": {\"frequency\": 2, \"value\": 1904}, \"1905\": {\"frequency\": 1, \"value\": 1905}, \"1908\": {\"frequency\": 2, \"value\": 1908}, \"3395\": {\"frequency\": 1, \"value\": 3395}, \"1911\": {\"frequency\": 1, \"value\": 1911}, \"1912\": {\"frequency\": 1, \"value\": 1912}, \"1913\": {\"frequency\": 1, \"value\": 1913}, \"1915\": {\"frequency\": 1, \"value\": 1915}, \"1919\": {\"frequency\": 1, \"value\": 1919}, \"1920\": {\"frequency\": 3, \"value\": 1920}, \"1922\": {\"frequency\": 2, \"value\": 1922}, \"1923\": {\"frequency\": 1, \"value\": 1923}, \"1924\": {\"frequency\": 1, \"value\": 1924}, \"1928\": {\"frequency\": 3, \"value\": 1928}, \"1929\": {\"frequency\": 1, \"value\": 1929}, \"1932\": {\"frequency\": 1, \"value\": 1932}, \"1933\": {\"frequency\": 1, \"value\": 1933}, \"1935\": {\"frequency\": 2, \"value\": 1935}, \"1936\": {\"frequency\": 1, \"value\": 1936}, \"1939\": {\"frequency\": 1, \"value\": 1939}, \"1940\": {\"frequency\": 1, \"value\": 1940}, \"1944\": {\"frequency\": 1, \"value\": 1944}, \"1947\": {\"frequency\": 1, \"value\": 1947}, \"1948\": {\"frequency\": 1, \"value\": 1948}, \"1949\": {\"frequency\": 1, \"value\": 1949}, \"1950\": {\"frequency\": 1, \"value\": 1950}, \"1953\": {\"frequency\": 2, \"value\": 1953}, \"1954\": {\"frequency\": 1, \"value\": 1954}, \"1958\": {\"frequency\": 2, \"value\": 1958}, \"1959\": {\"frequency\": 3, \"value\": 1959}, \"1960\": {\"frequency\": 2, \"value\": 1960}, \"1961\": {\"frequency\": 1, \"value\": 1961}, \"1962\": {\"frequency\": 1, \"value\": 1962}, \"1964\": {\"frequency\": 2, \"value\": 1964}, \"1968\": {\"frequency\": 2, \"value\": 1968}, \"1969\": {\"frequency\": 1, \"value\": 1969}, \"1970\": {\"frequency\": 1, \"value\": 1970}, \"1971\": {\"frequency\": 1, \"value\": 1971}, \"1973\": {\"frequency\": 1, \"value\": 1973}, \"1976\": {\"frequency\": 1, \"value\": 1976}, \"1977\": {\"frequency\": 1, \"value\": 1977}, \"1978\": {\"frequency\": 1, \"value\": 1978}, \"1980\": {\"frequency\": 1, \"value\": 1980}, \"1981\": {\"frequency\": 1, \"value\": 1981}, \"1982\": {\"frequency\": 1, \"value\": 1982}, \"1983\": {\"frequency\": 1, \"value\": 1983}, \"1986\": {\"frequency\": 1, \"value\": 1986}, \"1987\": {\"frequency\": 1, \"value\": 1987}, \"1989\": {\"frequency\": 1, \"value\": 1989}, \"1991\": {\"frequency\": 1, \"value\": 1991}, \"1992\": {\"frequency\": 1, \"value\": 1992}, \"1993\": {\"frequency\": 1, \"value\": 1993}, \"2000\": {\"frequency\": 1, \"value\": 2000}, \"2002\": {\"frequency\": 1, \"value\": 2002}, \"2007\": {\"frequency\": 1, \"value\": 2007}, \"2008\": {\"frequency\": 1, \"value\": 2008}, \"2013\": {\"frequency\": 1, \"value\": 2013}, \"2018\": {\"frequency\": 1, \"value\": 2018}, \"2019\": {\"frequency\": 1, \"value\": 2019}, \"2020\": {\"frequency\": 3, \"value\": 2020}, \"2021\": {\"frequency\": 1, \"value\": 2021}, \"2022\": {\"frequency\": 1, \"value\": 2022}, \"2028\": {\"frequency\": 1, \"value\": 2028}, \"2030\": {\"frequency\": 1, \"value\": 2030}, \"2031\": {\"frequency\": 2, \"value\": 2031}, \"2034\": {\"frequency\": 1, \"value\": 2034}, \"2035\": {\"frequency\": 1, \"value\": 2035}, \"2036\": {\"frequency\": 1, \"value\": 2036}, \"2042\": {\"frequency\": 1, \"value\": 2042}, \"2046\": {\"frequency\": 2, \"value\": 2046}}, \"mean\": 1515.4636986301373}, \"BsmtFinSF1\": {\"std\": 455.9418661092199, \"complete\": true, \"min\": 0.0, \"max\": 5644.0, \"quantile\": [0.0, 0.0, 0.0, 0.0, 0.0, 0.0, 0.0, 0.0, 0.0, 0.0, 0.0, 0.0, 0.0, 0.0, 0.0, 0.0, 0.0, 0.0, 0.0, 0.0, 0.0, 0.0, 0.0, 0.0, 0.0, 0.0, 0.0, 0.0, 0.0, 0.0, 0.0, 0.0, 16.0, 20.0, 28.0, 57.0, 116.0, 152.0, 180.0, 197.0, 219.0, 239.0, 257.0, 282.0, 298.0, 312.0, 329.0, 341.0, 354.0, 371.0, 384.0, 398.0, 408.0, 423.0, 437.0, 450.0, 468.0, 490.0, 500.0, 510.0, 528.0, 544.0, 552.0, 565.0, 575.0, 594.0, 605.0, 619.0, 632.0, 643.0, 655.0, 662.0, 674.0, 686.0, 697.0, 713.0, 732.0, 746.0, 767.0, 786.0, 808.0, 822.0, 841.0, 871.0, 904.0, 932.0, 956.0, 986.0, 1004.0, 1036.0, 1070.0, 1106.0, 1157.0, 1200.0, 1231.0, 1274.0, 1309.0, 1386.0, 1443.0, 1573.0, 5644.0], \"median\": 384.0, \"numeric\": true, \"num_unique\": 634, \"num_undefined\": 0, \"var\": 207882.98527115784, \"progress\": 1.0, \"size\": 1460, \"frequent_items\": {\"0\": {\"frequency\": 467, \"value\": 0}, \"2\": {\"frequency\": 1, \"value\": 2}, \"16\": {\"frequency\": 9, \"value\": 16}, \"20\": {\"frequency\": 5, \"value\": 20}, \"24\": {\"frequency\": 12, \"value\": 24}, \"25\": {\"frequency\": 1, \"value\": 25}, \"27\": {\"frequency\": 1, \"value\": 27}, \"28\": {\"frequency\": 3, \"value\": 28}, \"33\": {\"frequency\": 1, \"value\": 33}, \"35\": {\"frequency\": 1, \"value\": 35}, \"36\": {\"frequency\": 1, \"value\": 36}, \"40\": {\"frequency\": 1, \"value\": 40}, \"41\": {\"frequency\": 1, \"value\": 41}, \"48\": {\"frequency\": 2, \"value\": 48}, \"49\": {\"frequency\": 1, \"value\": 49}, \"50\": {\"frequency\": 2, \"value\": 50}, \"56\": {\"frequency\": 2, \"value\": 56}, \"57\": {\"frequency\": 2, \"value\": 57}, \"63\": {\"frequency\": 1, \"value\": 63}, \"64\": {\"frequency\": 1, \"value\": 64}, \"72\": {\"frequency\": 1, \"value\": 72}, \"75\": {\"frequency\": 1, \"value\": 75}, \"80\": {\"frequency\": 1, \"value\": 80}, \"81\": {\"frequency\": 1, \"value\": 81}, \"94\": {\"frequency\": 1, \"value\": 94}, \"104\": {\"frequency\": 2, \"value\": 104}, \"108\": {\"frequency\": 1, \"value\": 108}, \"111\": {\"frequency\": 2, \"value\": 111}, \"116\": {\"frequency\": 2, \"value\": 116}, \"120\": {\"frequency\": 3, \"value\": 120}, \"125\": {\"frequency\": 1, \"value\": 125}, \"129\": {\"frequency\": 1, \"value\": 129}, \"131\": {\"frequency\": 1, \"value\": 131}, \"133\": {\"frequency\": 1, \"value\": 133}, \"138\": {\"frequency\": 1, \"value\": 138}, \"2188\": {\"frequency\": 1, \"value\": 2188}, \"141\": {\"frequency\": 1, \"value\": 141}, \"144\": {\"frequency\": 2, \"value\": 144}, \"150\": {\"frequency\": 1, \"value\": 150}, \"152\": {\"frequency\": 2, \"value\": 152}, \"156\": {\"frequency\": 2, \"value\": 156}, \"162\": {\"frequency\": 1, \"value\": 162}, \"165\": {\"frequency\": 1, \"value\": 165}, \"167\": {\"frequency\": 1, \"value\": 167}, \"168\": {\"frequency\": 3, \"value\": 168}, \"170\": {\"frequency\": 1, \"value\": 170}, \"176\": {\"frequency\": 1, \"value\": 176}, \"179\": {\"frequency\": 1, \"value\": 179}, \"180\": {\"frequency\": 3, \"value\": 180}, \"182\": {\"frequency\": 3, \"value\": 182}, \"185\": {\"frequency\": 1, \"value\": 185}, \"187\": {\"frequency\": 2, \"value\": 187}, \"188\": {\"frequency\": 1, \"value\": 188}, \"189\": {\"frequency\": 1, \"value\": 189}, \"191\": {\"frequency\": 1, \"value\": 191}, \"192\": {\"frequency\": 1, \"value\": 192}, \"193\": {\"frequency\": 1, \"value\": 193}, \"194\": {\"frequency\": 1, \"value\": 194}, \"196\": {\"frequency\": 3, \"value\": 196}, \"197\": {\"frequency\": 1, \"value\": 197}, \"203\": {\"frequency\": 1, \"value\": 203}, \"204\": {\"frequency\": 1, \"value\": 204}, \"206\": {\"frequency\": 1, \"value\": 206}, \"209\": {\"frequency\": 2, \"value\": 209}, \"210\": {\"frequency\": 3, \"value\": 210}, \"2260\": {\"frequency\": 1, \"value\": 2260}, \"213\": {\"frequency\": 1, \"value\": 213}, \"216\": {\"frequency\": 2, \"value\": 216}, \"218\": {\"frequency\": 1, \"value\": 218}, \"219\": {\"frequency\": 1, \"value\": 219}, \"220\": {\"frequency\": 2, \"value\": 220}, \"222\": {\"frequency\": 1, \"value\": 222}, \"223\": {\"frequency\": 1, \"value\": 223}, \"224\": {\"frequency\": 1, \"value\": 224}, \"226\": {\"frequency\": 2, \"value\": 226}, \"228\": {\"frequency\": 1, \"value\": 228}, \"231\": {\"frequency\": 2, \"value\": 231}, \"234\": {\"frequency\": 2, \"value\": 234}, \"236\": {\"frequency\": 1, \"value\": 236}, \"239\": {\"frequency\": 1, \"value\": 239}, \"240\": {\"frequency\": 1, \"value\": 240}, \"241\": {\"frequency\": 1, \"value\": 241}, \"247\": {\"frequency\": 3, \"value\": 247}, \"248\": {\"frequency\": 1, \"value\": 248}, \"249\": {\"frequency\": 1, \"value\": 249}, \"250\": {\"frequency\": 3, \"value\": 250}, \"251\": {\"frequency\": 1, \"value\": 251}, \"252\": {\"frequency\": 1, \"value\": 252}, \"256\": {\"frequency\": 2, \"value\": 256}, \"257\": {\"frequency\": 1, \"value\": 257}, \"259\": {\"frequency\": 1, \"value\": 259}, \"262\": {\"frequency\": 1, \"value\": 262}, \"264\": {\"frequency\": 1, \"value\": 264}, \"266\": {\"frequency\": 2, \"value\": 266}, \"270\": {\"frequency\": 1, \"value\": 270}, \"273\": {\"frequency\": 1, \"value\": 273}, \"275\": {\"frequency\": 2, \"value\": 275}, \"280\": {\"frequency\": 3, \"value\": 280}, \"281\": {\"frequency\": 1, \"value\": 281}, \"282\": {\"frequency\": 1, \"value\": 282}, \"284\": {\"frequency\": 1, \"value\": 284}, \"285\": {\"frequency\": 2, \"value\": 285}, \"288\": {\"frequency\": 3, \"value\": 288}, \"2096\": {\"frequency\": 1, \"value\": 2096}, \"290\": {\"frequency\": 2, \"value\": 290}, \"292\": {\"frequency\": 1, \"value\": 292}, \"294\": {\"frequency\": 1, \"value\": 294}, \"296\": {\"frequency\": 1, \"value\": 296}, \"297\": {\"frequency\": 3, \"value\": 297}, \"298\": {\"frequency\": 2, \"value\": 298}, \"299\": {\"frequency\": 1, \"value\": 299}, \"300\": {\"frequency\": 4, \"value\": 300}, \"301\": {\"frequency\": 1, \"value\": 301}, \"306\": {\"frequency\": 1, \"value\": 306}, \"308\": {\"frequency\": 1, \"value\": 308}, \"309\": {\"frequency\": 1, \"value\": 309}, \"310\": {\"frequency\": 1, \"value\": 310}, \"311\": {\"frequency\": 2, \"value\": 311}, \"312\": {\"frequency\": 4, \"value\": 312}, \"315\": {\"frequency\": 2, \"value\": 315}, \"317\": {\"frequency\": 1, \"value\": 317}, \"319\": {\"frequency\": 2, \"value\": 319}, \"320\": {\"frequency\": 1, \"value\": 320}, \"321\": {\"frequency\": 1, \"value\": 321}, \"322\": {\"frequency\": 1, \"value\": 322}, \"324\": {\"frequency\": 1, \"value\": 324}, \"326\": {\"frequency\": 1, \"value\": 326}, \"328\": {\"frequency\": 1, \"value\": 328}, \"329\": {\"frequency\": 2, \"value\": 329}, \"330\": {\"frequency\": 1, \"value\": 330}, \"331\": {\"frequency\": 1, \"value\": 331}, \"334\": {\"frequency\": 2, \"value\": 334}, \"336\": {\"frequency\": 3, \"value\": 336}, \"338\": {\"frequency\": 3, \"value\": 338}, \"340\": {\"frequency\": 3, \"value\": 340}, \"341\": {\"frequency\": 2, \"value\": 341}, \"344\": {\"frequency\": 1, \"value\": 344}, \"348\": {\"frequency\": 2, \"value\": 348}, \"349\": {\"frequency\": 1, \"value\": 349}, \"350\": {\"frequency\": 2, \"value\": 350}, \"351\": {\"frequency\": 2, \"value\": 351}, \"352\": {\"frequency\": 2, \"value\": 352}, \"353\": {\"frequency\": 2, \"value\": 353}, \"354\": {\"frequency\": 1, \"value\": 354}, \"356\": {\"frequency\": 1, \"value\": 356}, \"358\": {\"frequency\": 1, \"value\": 358}, \"360\": {\"frequency\": 4, \"value\": 360}, \"361\": {\"frequency\": 1, \"value\": 361}, \"364\": {\"frequency\": 1, \"value\": 364}, \"365\": {\"frequency\": 1, \"value\": 365}, \"368\": {\"frequency\": 2, \"value\": 368}, \"369\": {\"frequency\": 1, \"value\": 369}, \"370\": {\"frequency\": 2, \"value\": 370}, \"371\": {\"frequency\": 2, \"value\": 371}, \"374\": {\"frequency\": 1, \"value\": 374}, \"375\": {\"frequency\": 3, \"value\": 375}, \"377\": {\"frequency\": 1, \"value\": 377}, \"378\": {\"frequency\": 3, \"value\": 378}, \"379\": {\"frequency\": 1, \"value\": 379}, \"380\": {\"frequency\": 1, \"value\": 380}, \"381\": {\"frequency\": 2, \"value\": 381}, \"383\": {\"frequency\": 1, \"value\": 383}, \"384\": {\"frequency\": 4, \"value\": 384}, \"385\": {\"frequency\": 1, \"value\": 385}, \"386\": {\"frequency\": 1, \"value\": 386}, \"387\": {\"frequency\": 2, \"value\": 387}, \"388\": {\"frequency\": 1, \"value\": 388}, \"390\": {\"frequency\": 2, \"value\": 390}, \"392\": {\"frequency\": 2, \"value\": 392}, \"394\": {\"frequency\": 1, \"value\": 394}, \"397\": {\"frequency\": 1, \"value\": 397}, \"398\": {\"frequency\": 1, \"value\": 398}, \"399\": {\"frequency\": 2, \"value\": 399}, \"400\": {\"frequency\": 4, \"value\": 400}, \"402\": {\"frequency\": 1, \"value\": 402}, \"403\": {\"frequency\": 3, \"value\": 403}, \"404\": {\"frequency\": 1, \"value\": 404}, \"405\": {\"frequency\": 2, \"value\": 405}, \"408\": {\"frequency\": 1, \"value\": 408}, \"410\": {\"frequency\": 2, \"value\": 410}, \"412\": {\"frequency\": 1, \"value\": 412}, \"414\": {\"frequency\": 1, \"value\": 414}, \"415\": {\"frequency\": 1, \"value\": 415}, \"416\": {\"frequency\": 1, \"value\": 416}, \"417\": {\"frequency\": 1, \"value\": 417}, \"419\": {\"frequency\": 2, \"value\": 419}, \"420\": {\"frequency\": 2, \"value\": 420}, \"421\": {\"frequency\": 1, \"value\": 421}, \"422\": {\"frequency\": 1, \"value\": 422}, \"423\": {\"frequency\": 1, \"value\": 423}, \"425\": {\"frequency\": 3, \"value\": 425}, \"426\": {\"frequency\": 1, \"value\": 426}, \"427\": {\"frequency\": 1, \"value\": 427}, \"428\": {\"frequency\": 4, \"value\": 428}, \"429\": {\"frequency\": 1, \"value\": 429}, \"430\": {\"frequency\": 1, \"value\": 430}, \"432\": {\"frequency\": 2, \"value\": 432}, \"436\": {\"frequency\": 1, \"value\": 436}, \"437\": {\"frequency\": 1, \"value\": 437}, \"438\": {\"frequency\": 1, \"value\": 438}, \"439\": {\"frequency\": 1, \"value\": 439}, \"440\": {\"frequency\": 1, \"value\": 440}, \"442\": {\"frequency\": 4, \"value\": 442}, \"443\": {\"frequency\": 1, \"value\": 443}, \"444\": {\"frequency\": 2, \"value\": 444}, \"445\": {\"frequency\": 1, \"value\": 445}, \"448\": {\"frequency\": 1, \"value\": 448}, \"450\": {\"frequency\": 3, \"value\": 450}, \"454\": {\"frequency\": 2, \"value\": 454}, \"456\": {\"frequency\": 3, \"value\": 456}, \"457\": {\"frequency\": 2, \"value\": 457}, \"459\": {\"frequency\": 1, \"value\": 459}, \"460\": {\"frequency\": 2, \"value\": 460}, \"462\": {\"frequency\": 2, \"value\": 462}, \"464\": {\"frequency\": 1, \"value\": 464}, \"465\": {\"frequency\": 1, \"value\": 465}, \"468\": {\"frequency\": 2, \"value\": 468}, \"471\": {\"frequency\": 1, \"value\": 471}, \"477\": {\"frequency\": 1, \"value\": 477}, \"480\": {\"frequency\": 1, \"value\": 480}, \"482\": {\"frequency\": 1, \"value\": 482}, \"483\": {\"frequency\": 2, \"value\": 483}, \"484\": {\"frequency\": 1, \"value\": 484}, \"485\": {\"frequency\": 1, \"value\": 485}, \"486\": {\"frequency\": 2, \"value\": 486}, \"489\": {\"frequency\": 1, \"value\": 489}, \"490\": {\"frequency\": 3, \"value\": 490}, \"492\": {\"frequency\": 2, \"value\": 492}, \"493\": {\"frequency\": 2, \"value\": 493}, \"495\": {\"frequency\": 4, \"value\": 495}, \"498\": {\"frequency\": 2, \"value\": 498}, \"500\": {\"frequency\": 3, \"value\": 500}, \"503\": {\"frequency\": 2, \"value\": 503}, \"504\": {\"frequency\": 4, \"value\": 504}, \"505\": {\"frequency\": 2, \"value\": 505}, \"506\": {\"frequency\": 1, \"value\": 506}, \"507\": {\"frequency\": 3, \"value\": 507}, \"509\": {\"frequency\": 1, \"value\": 509}, \"510\": {\"frequency\": 3, \"value\": 510}, \"512\": {\"frequency\": 1, \"value\": 512}, \"513\": {\"frequency\": 2, \"value\": 513}, \"515\": {\"frequency\": 1, \"value\": 515}, \"516\": {\"frequency\": 1, \"value\": 516}, \"518\": {\"frequency\": 1, \"value\": 518}, \"520\": {\"frequency\": 1, \"value\": 520}, \"521\": {\"frequency\": 1, \"value\": 521}, \"522\": {\"frequency\": 1, \"value\": 522}, \"523\": {\"frequency\": 2, \"value\": 523}, \"524\": {\"frequency\": 2, \"value\": 524}, \"528\": {\"frequency\": 3, \"value\": 528}, \"532\": {\"frequency\": 1, \"value\": 532}, \"533\": {\"frequency\": 2, \"value\": 533}, \"534\": {\"frequency\": 1, \"value\": 534}, \"535\": {\"frequency\": 1, \"value\": 535}, \"536\": {\"frequency\": 1, \"value\": 536}, \"538\": {\"frequency\": 1, \"value\": 538}, \"539\": {\"frequency\": 2, \"value\": 539}, \"540\": {\"frequency\": 2, \"value\": 540}, \"543\": {\"frequency\": 1, \"value\": 543}, \"544\": {\"frequency\": 2, \"value\": 544}, \"546\": {\"frequency\": 2, \"value\": 546}, \"547\": {\"frequency\": 4, \"value\": 547}, \"548\": {\"frequency\": 1, \"value\": 548}, \"549\": {\"frequency\": 1, \"value\": 549}, \"550\": {\"frequency\": 2, \"value\": 550}, \"551\": {\"frequency\": 1, \"value\": 551}, \"552\": {\"frequency\": 2, \"value\": 552}, \"553\": {\"frequency\": 4, \"value\": 553}, \"554\": {\"frequency\": 1, \"value\": 554}, \"556\": {\"frequency\": 1, \"value\": 556}, \"559\": {\"frequency\": 1, \"value\": 559}, \"560\": {\"frequency\": 4, \"value\": 560}, \"562\": {\"frequency\": 1, \"value\": 562}, \"564\": {\"frequency\": 1, \"value\": 564}, \"565\": {\"frequency\": 3, \"value\": 565}, \"566\": {\"frequency\": 1, \"value\": 566}, \"567\": {\"frequency\": 2, \"value\": 567}, \"568\": {\"frequency\": 1, \"value\": 568}, \"569\": {\"frequency\": 3, \"value\": 569}, \"570\": {\"frequency\": 3, \"value\": 570}, \"572\": {\"frequency\": 1, \"value\": 572}, \"573\": {\"frequency\": 1, \"value\": 573}, \"575\": {\"frequency\": 1, \"value\": 575}, \"578\": {\"frequency\": 2, \"value\": 578}, \"580\": {\"frequency\": 1, \"value\": 580}, \"584\": {\"frequency\": 2, \"value\": 584}, \"585\": {\"frequency\": 1, \"value\": 585}, \"586\": {\"frequency\": 1, \"value\": 586}, \"588\": {\"frequency\": 4, \"value\": 588}, \"592\": {\"frequency\": 1, \"value\": 592}, \"593\": {\"frequency\": 2, \"value\": 593}, \"594\": {\"frequency\": 2, \"value\": 594}, \"595\": {\"frequency\": 3, \"value\": 595}, \"599\": {\"frequency\": 1, \"value\": 599}, \"600\": {\"frequency\": 4, \"value\": 600}, \"602\": {\"frequency\": 1, \"value\": 602}, \"603\": {\"frequency\": 2, \"value\": 603}, \"604\": {\"frequency\": 2, \"value\": 604}, \"605\": {\"frequency\": 1, \"value\": 605}, \"607\": {\"frequency\": 1, \"value\": 607}, \"608\": {\"frequency\": 1, \"value\": 608}, \"609\": {\"frequency\": 1, \"value\": 609}, \"611\": {\"frequency\": 1, \"value\": 611}, \"612\": {\"frequency\": 1, \"value\": 612}, \"614\": {\"frequency\": 1, \"value\": 614}, \"616\": {\"frequency\": 5, \"value\": 616}, \"617\": {\"frequency\": 1, \"value\": 617}, \"619\": {\"frequency\": 2, \"value\": 619}, \"620\": {\"frequency\": 1, \"value\": 620}, \"622\": {\"frequency\": 1, \"value\": 622}, \"623\": {\"frequency\": 1, \"value\": 623}, \"624\": {\"frequency\": 3, \"value\": 624}, \"625\": {\"frequency\": 3, \"value\": 625}, \"626\": {\"frequency\": 3, \"value\": 626}, \"630\": {\"frequency\": 1, \"value\": 630}, \"631\": {\"frequency\": 1, \"value\": 631}, \"632\": {\"frequency\": 1, \"value\": 632}, \"633\": {\"frequency\": 3, \"value\": 633}, \"637\": {\"frequency\": 2, \"value\": 637}, \"639\": {\"frequency\": 1, \"value\": 639}, \"641\": {\"frequency\": 4, \"value\": 641}, \"642\": {\"frequency\": 1, \"value\": 642}, \"643\": {\"frequency\": 3, \"value\": 643}, \"644\": {\"frequency\": 1, \"value\": 644}, \"645\": {\"frequency\": 1, \"value\": 645}, \"646\": {\"frequency\": 2, \"value\": 646}, \"648\": {\"frequency\": 3, \"value\": 648}, \"649\": {\"frequency\": 2, \"value\": 649}, \"650\": {\"frequency\": 2, \"value\": 650}, \"651\": {\"frequency\": 1, \"value\": 651}, \"655\": {\"frequency\": 4, \"value\": 655}, \"656\": {\"frequency\": 3, \"value\": 656}, \"658\": {\"frequency\": 1, \"value\": 658}, \"659\": {\"frequency\": 3, \"value\": 659}, \"660\": {\"frequency\": 3, \"value\": 660}, \"661\": {\"frequency\": 1, \"value\": 661}, \"662\": {\"frequency\": 5, \"value\": 662}, \"663\": {\"frequency\": 2, \"value\": 663}, \"664\": {\"frequency\": 2, \"value\": 664}, \"666\": {\"frequency\": 2, \"value\": 666}, \"668\": {\"frequency\": 1, \"value\": 668}, \"672\": {\"frequency\": 3, \"value\": 672}, \"673\": {\"frequency\": 1, \"value\": 673}, \"674\": {\"frequency\": 3, \"value\": 674}, \"678\": {\"frequency\": 1, \"value\": 678}, \"679\": {\"frequency\": 1, \"value\": 679}, \"680\": {\"frequency\": 3, \"value\": 680}, \"684\": {\"frequency\": 1, \"value\": 684}, \"685\": {\"frequency\": 3, \"value\": 685}, \"686\": {\"frequency\": 5, \"value\": 686}, \"689\": {\"frequency\": 1, \"value\": 689}, \"690\": {\"frequency\": 3, \"value\": 690}, \"692\": {\"frequency\": 1, \"value\": 692}, \"694\": {\"frequency\": 1, \"value\": 694}, \"695\": {\"frequency\": 3, \"value\": 695}, \"696\": {\"frequency\": 1, \"value\": 696}, \"697\": {\"frequency\": 4, \"value\": 697}, \"698\": {\"frequency\": 1, \"value\": 698}, \"699\": {\"frequency\": 1, \"value\": 699}, \"700\": {\"frequency\": 3, \"value\": 700}, \"702\": {\"frequency\": 1, \"value\": 702}, \"704\": {\"frequency\": 1, \"value\": 704}, \"705\": {\"frequency\": 1, \"value\": 705}, \"706\": {\"frequency\": 2, \"value\": 706}, \"708\": {\"frequency\": 1, \"value\": 708}, \"712\": {\"frequency\": 2, \"value\": 712}, \"713\": {\"frequency\": 1, \"value\": 713}, \"714\": {\"frequency\": 1, \"value\": 714}, \"716\": {\"frequency\": 2, \"value\": 716}, \"719\": {\"frequency\": 2, \"value\": 719}, \"720\": {\"frequency\": 1, \"value\": 720}, \"724\": {\"frequency\": 2, \"value\": 724}, \"728\": {\"frequency\": 2, \"value\": 728}, \"731\": {\"frequency\": 1, \"value\": 731}, \"732\": {\"frequency\": 3, \"value\": 732}, \"733\": {\"frequency\": 3, \"value\": 733}, \"734\": {\"frequency\": 1, \"value\": 734}, \"735\": {\"frequency\": 2, \"value\": 735}, \"737\": {\"frequency\": 1, \"value\": 737}, \"738\": {\"frequency\": 2, \"value\": 738}, \"739\": {\"frequency\": 2, \"value\": 739}, \"740\": {\"frequency\": 2, \"value\": 740}, \"742\": {\"frequency\": 1, \"value\": 742}, \"746\": {\"frequency\": 1, \"value\": 746}, \"747\": {\"frequency\": 2, \"value\": 747}, \"748\": {\"frequency\": 1, \"value\": 748}, \"750\": {\"frequency\": 1, \"value\": 750}, \"751\": {\"frequency\": 1, \"value\": 751}, \"756\": {\"frequency\": 1, \"value\": 756}, \"759\": {\"frequency\": 1, \"value\": 759}, \"762\": {\"frequency\": 1, \"value\": 762}, \"763\": {\"frequency\": 2, \"value\": 763}, \"765\": {\"frequency\": 2, \"value\": 765}, \"767\": {\"frequency\": 3, \"value\": 767}, \"769\": {\"frequency\": 1, \"value\": 769}, \"772\": {\"frequency\": 1, \"value\": 772}, \"773\": {\"frequency\": 1, \"value\": 773}, \"774\": {\"frequency\": 1, \"value\": 774}, \"775\": {\"frequency\": 1, \"value\": 775}, \"776\": {\"frequency\": 1, \"value\": 776}, \"777\": {\"frequency\": 2, \"value\": 777}, \"778\": {\"frequency\": 1, \"value\": 778}, \"781\": {\"frequency\": 1, \"value\": 781}, \"783\": {\"frequency\": 1, \"value\": 783}, \"784\": {\"frequency\": 2, \"value\": 784}, \"786\": {\"frequency\": 3, \"value\": 786}, \"787\": {\"frequency\": 1, \"value\": 787}, \"788\": {\"frequency\": 2, \"value\": 788}, \"789\": {\"frequency\": 3, \"value\": 789}, \"790\": {\"frequency\": 2, \"value\": 790}, \"795\": {\"frequency\": 1, \"value\": 795}, \"803\": {\"frequency\": 1, \"value\": 803}, \"804\": {\"frequency\": 1, \"value\": 804}, \"806\": {\"frequency\": 1, \"value\": 806}, \"808\": {\"frequency\": 1, \"value\": 808}, \"810\": {\"frequency\": 1, \"value\": 810}, \"812\": {\"frequency\": 3, \"value\": 812}, \"814\": {\"frequency\": 2, \"value\": 814}, \"816\": {\"frequency\": 3, \"value\": 816}, \"819\": {\"frequency\": 1, \"value\": 819}, \"821\": {\"frequency\": 2, \"value\": 821}, \"822\": {\"frequency\": 2, \"value\": 822}, \"824\": {\"frequency\": 1, \"value\": 824}, \"827\": {\"frequency\": 1, \"value\": 827}, \"828\": {\"frequency\": 3, \"value\": 828}, \"830\": {\"frequency\": 1, \"value\": 830}, \"831\": {\"frequency\": 2, \"value\": 831}, \"832\": {\"frequency\": 1, \"value\": 832}, \"833\": {\"frequency\": 1, \"value\": 833}, \"836\": {\"frequency\": 2, \"value\": 836}, \"837\": {\"frequency\": 1, \"value\": 837}, \"840\": {\"frequency\": 1, \"value\": 840}, \"841\": {\"frequency\": 2, \"value\": 841}, \"842\": {\"frequency\": 1, \"value\": 842}, \"846\": {\"frequency\": 1, \"value\": 846}, \"851\": {\"frequency\": 1, \"value\": 851}, \"852\": {\"frequency\": 1, \"value\": 852}, \"854\": {\"frequency\": 1, \"value\": 854}, \"859\": {\"frequency\": 1, \"value\": 859}, \"860\": {\"frequency\": 1, \"value\": 860}, \"862\": {\"frequency\": 1, \"value\": 862}, \"863\": {\"frequency\": 1, \"value\": 863}, \"865\": {\"frequency\": 1, \"value\": 865}, \"866\": {\"frequency\": 2, \"value\": 866}, \"867\": {\"frequency\": 1, \"value\": 867}, \"871\": {\"frequency\": 1, \"value\": 871}, \"874\": {\"frequency\": 1, \"value\": 874}, \"883\": {\"frequency\": 1, \"value\": 883}, \"885\": {\"frequency\": 1, \"value\": 885}, \"892\": {\"frequency\": 1, \"value\": 892}, \"894\": {\"frequency\": 1, \"value\": 894}, \"895\": {\"frequency\": 1, \"value\": 895}, \"896\": {\"frequency\": 1, \"value\": 896}, \"897\": {\"frequency\": 1, \"value\": 897}, \"899\": {\"frequency\": 1, \"value\": 899}, \"900\": {\"frequency\": 1, \"value\": 900}, \"902\": {\"frequency\": 2, \"value\": 902}, \"903\": {\"frequency\": 1, \"value\": 903}, \"904\": {\"frequency\": 3, \"value\": 904}, \"905\": {\"frequency\": 1, \"value\": 905}, \"906\": {\"frequency\": 1, \"value\": 906}, \"912\": {\"frequency\": 1, \"value\": 912}, \"915\": {\"frequency\": 1, \"value\": 915}, \"916\": {\"frequency\": 1, \"value\": 916}, \"919\": {\"frequency\": 1, \"value\": 919}, \"920\": {\"frequency\": 1, \"value\": 920}, \"922\": {\"frequency\": 2, \"value\": 922}, \"925\": {\"frequency\": 1, \"value\": 925}, \"929\": {\"frequency\": 2, \"value\": 929}, \"932\": {\"frequency\": 2, \"value\": 932}, \"936\": {\"frequency\": 5, \"value\": 936}, \"938\": {\"frequency\": 1, \"value\": 938}, \"941\": {\"frequency\": 1, \"value\": 941}, \"943\": {\"frequency\": 1, \"value\": 943}, \"945\": {\"frequency\": 2, \"value\": 945}, \"946\": {\"frequency\": 1, \"value\": 946}, \"956\": {\"frequency\": 2, \"value\": 956}, \"958\": {\"frequency\": 1, \"value\": 958}, \"965\": {\"frequency\": 1, \"value\": 965}, \"967\": {\"frequency\": 1, \"value\": 967}, \"969\": {\"frequency\": 1, \"value\": 969}, \"970\": {\"frequency\": 1, \"value\": 970}, \"975\": {\"frequency\": 2, \"value\": 975}, \"976\": {\"frequency\": 1, \"value\": 976}, \"978\": {\"frequency\": 1, \"value\": 978}, \"980\": {\"frequency\": 2, \"value\": 980}, \"982\": {\"frequency\": 1, \"value\": 982}, \"984\": {\"frequency\": 1, \"value\": 984}, \"985\": {\"frequency\": 1, \"value\": 985}, \"986\": {\"frequency\": 2, \"value\": 986}, \"987\": {\"frequency\": 1, \"value\": 987}, \"988\": {\"frequency\": 2, \"value\": 988}, \"990\": {\"frequency\": 1, \"value\": 990}, \"991\": {\"frequency\": 1, \"value\": 991}, \"994\": {\"frequency\": 1, \"value\": 994}, \"998\": {\"frequency\": 2, \"value\": 998}, \"1000\": {\"frequency\": 2, \"value\": 1000}, \"1002\": {\"frequency\": 1, \"value\": 1002}, \"1003\": {\"frequency\": 1, \"value\": 1003}, \"1004\": {\"frequency\": 1, \"value\": 1004}, \"1005\": {\"frequency\": 2, \"value\": 1005}, \"1012\": {\"frequency\": 1, \"value\": 1012}, \"1013\": {\"frequency\": 1, \"value\": 1013}, \"1014\": {\"frequency\": 1, \"value\": 1014}, \"1016\": {\"frequency\": 2, \"value\": 1016}, \"1018\": {\"frequency\": 1, \"value\": 1018}, \"1022\": {\"frequency\": 1, \"value\": 1022}, \"1024\": {\"frequency\": 2, \"value\": 1024}, \"1032\": {\"frequency\": 1, \"value\": 1032}, \"1036\": {\"frequency\": 3, \"value\": 1036}, \"1039\": {\"frequency\": 2, \"value\": 1039}, \"1040\": {\"frequency\": 2, \"value\": 1040}, \"1046\": {\"frequency\": 1, \"value\": 1046}, \"1053\": {\"frequency\": 1, \"value\": 1053}, \"1056\": {\"frequency\": 3, \"value\": 1056}, \"1059\": {\"frequency\": 2, \"value\": 1059}, \"1064\": {\"frequency\": 1, \"value\": 1064}, \"1065\": {\"frequency\": 2, \"value\": 1065}, \"1070\": {\"frequency\": 1, \"value\": 1070}, \"1071\": {\"frequency\": 1, \"value\": 1071}, \"1074\": {\"frequency\": 1, \"value\": 1074}, \"1078\": {\"frequency\": 1, \"value\": 1078}, \"1079\": {\"frequency\": 1, \"value\": 1079}, \"1082\": {\"frequency\": 1, \"value\": 1082}, \"1084\": {\"frequency\": 2, \"value\": 1084}, \"1085\": {\"frequency\": 1, \"value\": 1085}, \"1086\": {\"frequency\": 1, \"value\": 1086}, \"1088\": {\"frequency\": 2, \"value\": 1088}, \"1097\": {\"frequency\": 1, \"value\": 1097}, \"1104\": {\"frequency\": 1, \"value\": 1104}, \"1106\": {\"frequency\": 1, \"value\": 1106}, \"1110\": {\"frequency\": 1, \"value\": 1110}, \"1116\": {\"frequency\": 2, \"value\": 1116}, \"1121\": {\"frequency\": 1, \"value\": 1121}, \"1124\": {\"frequency\": 1, \"value\": 1124}, \"1126\": {\"frequency\": 1, \"value\": 1126}, \"1128\": {\"frequency\": 1, \"value\": 1128}, \"1138\": {\"frequency\": 1, \"value\": 1138}, \"1148\": {\"frequency\": 2, \"value\": 1148}, \"1150\": {\"frequency\": 1, \"value\": 1150}, \"1153\": {\"frequency\": 2, \"value\": 1153}, \"1154\": {\"frequency\": 1, \"value\": 1154}, \"1157\": {\"frequency\": 1, \"value\": 1157}, \"1158\": {\"frequency\": 1, \"value\": 1158}, \"1159\": {\"frequency\": 2, \"value\": 1159}, \"1162\": {\"frequency\": 1, \"value\": 1162}, \"1163\": {\"frequency\": 1, \"value\": 1163}, \"1165\": {\"frequency\": 1, \"value\": 1165}, \"1170\": {\"frequency\": 1, \"value\": 1170}, \"1172\": {\"frequency\": 1, \"value\": 1172}, \"1173\": {\"frequency\": 1, \"value\": 1173}, \"1180\": {\"frequency\": 1, \"value\": 1180}, \"1186\": {\"frequency\": 1, \"value\": 1186}, \"1196\": {\"frequency\": 1, \"value\": 1196}, \"1198\": {\"frequency\": 1, \"value\": 1198}, \"1200\": {\"frequency\": 4, \"value\": 1200}, \"1201\": {\"frequency\": 3, \"value\": 1201}, \"1213\": {\"frequency\": 1, \"value\": 1213}, \"1216\": {\"frequency\": 1, \"value\": 1216}, \"1218\": {\"frequency\": 3, \"value\": 1218}, \"1219\": {\"frequency\": 2, \"value\": 1219}, \"1220\": {\"frequency\": 1, \"value\": 1220}, \"1231\": {\"frequency\": 1, \"value\": 1231}, \"1234\": {\"frequency\": 1, \"value\": 1234}, \"1236\": {\"frequency\": 1, \"value\": 1236}, \"1237\": {\"frequency\": 1, \"value\": 1237}, \"1238\": {\"frequency\": 1, \"value\": 1238}, \"1246\": {\"frequency\": 1, \"value\": 1246}, \"1247\": {\"frequency\": 1, \"value\": 1247}, \"1249\": {\"frequency\": 2, \"value\": 1249}, \"1258\": {\"frequency\": 2, \"value\": 1258}, \"1260\": {\"frequency\": 1, \"value\": 1260}, \"1261\": {\"frequency\": 1, \"value\": 1261}, \"1270\": {\"frequency\": 1, \"value\": 1270}, \"212\": {\"frequency\": 1, \"value\": 212}, \"1274\": {\"frequency\": 3, \"value\": 1274}, \"1277\": {\"frequency\": 1, \"value\": 1277}, \"1280\": {\"frequency\": 1, \"value\": 1280}, \"1282\": {\"frequency\": 1, \"value\": 1282}, \"1283\": {\"frequency\": 1, \"value\": 1283}, \"1285\": {\"frequency\": 1, \"value\": 1285}, \"1288\": {\"frequency\": 2, \"value\": 1288}, \"1300\": {\"frequency\": 3, \"value\": 1300}, \"1302\": {\"frequency\": 1, \"value\": 1302}, \"1309\": {\"frequency\": 2, \"value\": 1309}, \"1314\": {\"frequency\": 1, \"value\": 1314}, \"1320\": {\"frequency\": 1, \"value\": 1320}, \"1324\": {\"frequency\": 1, \"value\": 1324}, \"1330\": {\"frequency\": 1, \"value\": 1330}, \"1332\": {\"frequency\": 1, \"value\": 1332}, \"1334\": {\"frequency\": 1, \"value\": 1334}, \"1336\": {\"frequency\": 1, \"value\": 1336}, \"1338\": {\"frequency\": 1, \"value\": 1338}, \"1350\": {\"frequency\": 1, \"value\": 1350}, \"1351\": {\"frequency\": 1, \"value\": 1351}, \"1358\": {\"frequency\": 1, \"value\": 1358}, \"1361\": {\"frequency\": 1, \"value\": 1361}, \"1369\": {\"frequency\": 1, \"value\": 1369}, \"1373\": {\"frequency\": 1, \"value\": 1373}, \"1386\": {\"frequency\": 1, \"value\": 1386}, \"1387\": {\"frequency\": 1, \"value\": 1387}, \"1390\": {\"frequency\": 1, \"value\": 1390}, \"1398\": {\"frequency\": 1, \"value\": 1398}, \"1400\": {\"frequency\": 2, \"value\": 1400}, \"1406\": {\"frequency\": 1, \"value\": 1406}, \"1410\": {\"frequency\": 2, \"value\": 1410}, \"1416\": {\"frequency\": 1, \"value\": 1416}, \"1422\": {\"frequency\": 1, \"value\": 1422}, \"1436\": {\"frequency\": 1, \"value\": 1436}, \"1440\": {\"frequency\": 1, \"value\": 1440}, \"1441\": {\"frequency\": 1, \"value\": 1441}, \"1443\": {\"frequency\": 1, \"value\": 1443}, \"1445\": {\"frequency\": 1, \"value\": 1445}, \"1447\": {\"frequency\": 1, \"value\": 1447}, \"1455\": {\"frequency\": 1, \"value\": 1455}, \"1456\": {\"frequency\": 1, \"value\": 1456}, \"1460\": {\"frequency\": 1, \"value\": 1460}, \"1464\": {\"frequency\": 1, \"value\": 1464}, \"1470\": {\"frequency\": 1, \"value\": 1470}, \"1480\": {\"frequency\": 1, \"value\": 1480}, \"1513\": {\"frequency\": 1, \"value\": 1513}, \"1518\": {\"frequency\": 1, \"value\": 1518}, \"1540\": {\"frequency\": 1, \"value\": 1540}, \"5644\": {\"frequency\": 1, \"value\": 5644}, \"1567\": {\"frequency\": 2, \"value\": 1567}, \"1572\": {\"frequency\": 1, \"value\": 1572}, \"1573\": {\"frequency\": 1, \"value\": 1573}, \"1606\": {\"frequency\": 1, \"value\": 1606}, \"1619\": {\"frequency\": 1, \"value\": 1619}, \"1636\": {\"frequency\": 1, \"value\": 1636}, \"1646\": {\"frequency\": 1, \"value\": 1646}, \"1696\": {\"frequency\": 1, \"value\": 1696}, \"1721\": {\"frequency\": 1, \"value\": 1721}, \"1767\": {\"frequency\": 1, \"value\": 1767}, \"1810\": {\"frequency\": 1, \"value\": 1810}, \"1880\": {\"frequency\": 1, \"value\": 1880}, \"1904\": {\"frequency\": 1, \"value\": 1904}}, \"mean\": 443.6397260273973}, \"BsmtFinSF2\": {\"std\": 161.26401701700965, \"complete\": true, \"min\": 0.0, \"max\": 1474.0, \"quantile\": [0.0, 0.0, 0.0, 0.0, 0.0, 0.0, 0.0, 0.0, 0.0, 0.0, 0.0, 0.0, 0.0, 0.0, 0.0, 0.0, 0.0, 0.0, 0.0, 0.0, 0.0, 0.0, 0.0, 0.0, 0.0, 0.0, 0.0, 0.0, 0.0, 0.0, 0.0, 0.0, 0.0, 0.0, 0.0, 0.0, 0.0, 0.0, 0.0, 0.0, 0.0, 0.0, 0.0, 0.0, 0.0, 0.0, 0.0, 0.0, 0.0, 0.0, 0.0, 0.0, 0.0, 0.0, 0.0, 0.0, 0.0, 0.0, 0.0, 0.0, 0.0, 0.0, 0.0, 0.0, 0.0, 0.0, 0.0, 0.0, 0.0, 0.0, 0.0, 0.0, 0.0, 0.0, 0.0, 0.0, 0.0, 0.0, 0.0, 0.0, 0.0, 0.0, 0.0, 0.0, 0.0, 0.0, 0.0, 0.0, 0.0, 64.0, 119.0, 165.0, 184.0, 264.0, 336.0, 400.0, 480.0, 547.0, 661.0, 841.0, 1474.0], \"median\": 0.0, \"numeric\": true, \"num_unique\": 144, \"num_undefined\": 0, \"var\": 26006.08318446238, \"progress\": 1.0, \"size\": 1460, \"frequent_items\": {\"0\": {\"frequency\": 1293, \"value\": 0}, \"1029\": {\"frequency\": 1, \"value\": 1029}, \"1031\": {\"frequency\": 1, \"value\": 1031}, \"791\": {\"frequency\": 1, \"value\": 791}, \"531\": {\"frequency\": 1, \"value\": 531}, \"532\": {\"frequency\": 1, \"value\": 532}, \"539\": {\"frequency\": 2, \"value\": 539}, \"28\": {\"frequency\": 1, \"value\": 28}, \"32\": {\"frequency\": 1, \"value\": 32}, \"1057\": {\"frequency\": 1, \"value\": 1057}, \"546\": {\"frequency\": 1, \"value\": 546}, \"35\": {\"frequency\": 1, \"value\": 35}, \"1061\": {\"frequency\": 1, \"value\": 1061}, \"1063\": {\"frequency\": 1, \"value\": 1063}, \"40\": {\"frequency\": 1, \"value\": 40}, \"41\": {\"frequency\": 2, \"value\": 41}, \"557\": {\"frequency\": 1, \"value\": 557}, \"547\": {\"frequency\": 1, \"value\": 547}, \"1080\": {\"frequency\": 1, \"value\": 1080}, \"180\": {\"frequency\": 5, \"value\": 180}, \"1085\": {\"frequency\": 1, \"value\": 1085}, \"64\": {\"frequency\": 2, \"value\": 64}, \"1120\": {\"frequency\": 1, \"value\": 1120}, \"580\": {\"frequency\": 1, \"value\": 580}, \"80\": {\"frequency\": 1, \"value\": 80}, \"81\": {\"frequency\": 1, \"value\": 81}, \"600\": {\"frequency\": 1, \"value\": 600}, \"93\": {\"frequency\": 2, \"value\": 93}, \"606\": {\"frequency\": 1, \"value\": 606}, \"608\": {\"frequency\": 1, \"value\": 608}, \"612\": {\"frequency\": 1, \"value\": 612}, \"1127\": {\"frequency\": 1, \"value\": 1127}, \"105\": {\"frequency\": 1, \"value\": 105}, \"106\": {\"frequency\": 1, \"value\": 106}, \"620\": {\"frequency\": 1, \"value\": 620}, \"110\": {\"frequency\": 1, \"value\": 110}, \"627\": {\"frequency\": 1, \"value\": 627}, \"117\": {\"frequency\": 2, \"value\": 117}, \"630\": {\"frequency\": 1, \"value\": 630}, \"119\": {\"frequency\": 1, \"value\": 119}, \"121\": {\"frequency\": 1, \"value\": 121}, \"634\": {\"frequency\": 1, \"value\": 634}, \"123\": {\"frequency\": 1, \"value\": 123}, \"125\": {\"frequency\": 1, \"value\": 125}, \"127\": {\"frequency\": 1, \"value\": 127}, \"128\": {\"frequency\": 1, \"value\": 128}, \"132\": {\"frequency\": 1, \"value\": 132}, \"645\": {\"frequency\": 1, \"value\": 645}, \"108\": {\"frequency\": 1, \"value\": 108}, \"139\": {\"frequency\": 1, \"value\": 139}, \"144\": {\"frequency\": 1, \"value\": 144}, \"147\": {\"frequency\": 2, \"value\": 147}, \"149\": {\"frequency\": 1, \"value\": 149}, \"150\": {\"frequency\": 1, \"value\": 150}, \"668\": {\"frequency\": 1, \"value\": 668}, \"670\": {\"frequency\": 1, \"value\": 670}, \"163\": {\"frequency\": 1, \"value\": 163}, \"165\": {\"frequency\": 1, \"value\": 165}, \"168\": {\"frequency\": 1, \"value\": 168}, \"169\": {\"frequency\": 1, \"value\": 169}, \"682\": {\"frequency\": 1, \"value\": 682}, \"173\": {\"frequency\": 1, \"value\": 173}, \"174\": {\"frequency\": 1, \"value\": 174}, \"175\": {\"frequency\": 1, \"value\": 175}, \"177\": {\"frequency\": 1, \"value\": 177}, \"690\": {\"frequency\": 1, \"value\": 690}, \"692\": {\"frequency\": 1, \"value\": 692}, \"181\": {\"frequency\": 1, \"value\": 181}, \"182\": {\"frequency\": 2, \"value\": 182}, \"184\": {\"frequency\": 1, \"value\": 184}, \"193\": {\"frequency\": 1, \"value\": 193}, \"712\": {\"frequency\": 2, \"value\": 712}, \"713\": {\"frequency\": 1, \"value\": 713}, \"202\": {\"frequency\": 1, \"value\": 202}, \"208\": {\"frequency\": 1, \"value\": 208}, \"210\": {\"frequency\": 1, \"value\": 210}, \"211\": {\"frequency\": 1, \"value\": 211}, \"215\": {\"frequency\": 1, \"value\": 215}, \"219\": {\"frequency\": 1, \"value\": 219}, \"228\": {\"frequency\": 1, \"value\": 228}, \"230\": {\"frequency\": 1, \"value\": 230}, \"232\": {\"frequency\": 1, \"value\": 232}, \"551\": {\"frequency\": 2, \"value\": 551}, \"239\": {\"frequency\": 1, \"value\": 239}, \"240\": {\"frequency\": 1, \"value\": 240}, \"723\": {\"frequency\": 1, \"value\": 723}, \"764\": {\"frequency\": 1, \"value\": 764}, \"768\": {\"frequency\": 1, \"value\": 768}, \"258\": {\"frequency\": 1, \"value\": 258}, \"264\": {\"frequency\": 1, \"value\": 264}, \"273\": {\"frequency\": 1, \"value\": 273}, \"276\": {\"frequency\": 1, \"value\": 276}, \"279\": {\"frequency\": 2, \"value\": 279}, \"287\": {\"frequency\": 2, \"value\": 287}, \"290\": {\"frequency\": 2, \"value\": 290}, \"294\": {\"frequency\": 2, \"value\": 294}, \"306\": {\"frequency\": 1, \"value\": 306}, \"820\": {\"frequency\": 1, \"value\": 820}, \"311\": {\"frequency\": 1, \"value\": 311}, \"324\": {\"frequency\": 1, \"value\": 324}, \"96\": {\"frequency\": 2, \"value\": 96}, \"823\": {\"frequency\": 1, \"value\": 823}, \"334\": {\"frequency\": 1, \"value\": 334}, \"336\": {\"frequency\": 1, \"value\": 336}, \"344\": {\"frequency\": 1, \"value\": 344}, \"345\": {\"frequency\": 1, \"value\": 345}, \"352\": {\"frequency\": 1, \"value\": 352}, \"354\": {\"frequency\": 1, \"value\": 354}, \"869\": {\"frequency\": 1, \"value\": 869}, \"872\": {\"frequency\": 1, \"value\": 872}, \"362\": {\"frequency\": 1, \"value\": 362}, \"374\": {\"frequency\": 3, \"value\": 374}, \"375\": {\"frequency\": 1, \"value\": 375}, \"377\": {\"frequency\": 1, \"value\": 377}, \"380\": {\"frequency\": 1, \"value\": 380}, \"661\": {\"frequency\": 1, \"value\": 661}, \"391\": {\"frequency\": 2, \"value\": 391}, \"906\": {\"frequency\": 1, \"value\": 906}, \"396\": {\"frequency\": 1, \"value\": 396}, \"400\": {\"frequency\": 1, \"value\": 400}, \"68\": {\"frequency\": 1, \"value\": 68}, \"411\": {\"frequency\": 1, \"value\": 411}, \"420\": {\"frequency\": 1, \"value\": 420}, \"435\": {\"frequency\": 1, \"value\": 435}, \"438\": {\"frequency\": 1, \"value\": 438}, \"841\": {\"frequency\": 1, \"value\": 841}, \"441\": {\"frequency\": 1, \"value\": 441}, \"1474\": {\"frequency\": 1, \"value\": 1474}, \"972\": {\"frequency\": 1, \"value\": 972}, \"465\": {\"frequency\": 1, \"value\": 465}, \"466\": {\"frequency\": 1, \"value\": 466}, \"468\": {\"frequency\": 2, \"value\": 468}, \"469\": {\"frequency\": 2, \"value\": 469}, \"544\": {\"frequency\": 1, \"value\": 544}, \"472\": {\"frequency\": 1, \"value\": 472}, \"479\": {\"frequency\": 1, \"value\": 479}, \"480\": {\"frequency\": 2, \"value\": 480}, \"486\": {\"frequency\": 1, \"value\": 486}, \"491\": {\"frequency\": 1, \"value\": 491}, \"492\": {\"frequency\": 1, \"value\": 492}, \"495\": {\"frequency\": 1, \"value\": 495}, \"499\": {\"frequency\": 1, \"value\": 499}, \"500\": {\"frequency\": 1, \"value\": 500}, \"506\": {\"frequency\": 1, \"value\": 506}}, \"mean\": 46.549315068493165}}, \"selected_variable\": {\"name\": [\"<SFrame>\"], \"descriptives\": {\"rows\": 1460, \"columns\": 15}, \"view_component\": \"Summary\", \"view_file\": \"sframe\", \"view_params\": {\"y\": null, \"x\": null, \"columns\": [\"Street\", \"LotConfig\", \"Neighborhood\", \"LotArea\", \"GrLivArea\", \"OverallQual\", \"MSSubClass\", \"OverallCond\", \"YearBuilt\", \"BsmtFinSF1\", \"BsmtFinSF2\", \"BsmtUnfSF\", \"TotalBsmtSF\", \"1stFlrSF\", \"2ndFlrSF\"], \"view\": null}, \"view_components\": [\"Summary\", \"Table\", \"Bar Chart\", \"BoxWhisker Plot\", \"Line Chart\", \"Scatter Plot\", \"Heat Map\", \"Plots\"], \"type\": \"SFrame\", \"columns\": [{\"dtype\": \"str\", \"name\": \"Street\"}, {\"dtype\": \"str\", \"name\": \"LotConfig\"}, {\"dtype\": \"str\", \"name\": \"Neighborhood\"}, {\"dtype\": \"int\", \"name\": \"LotArea\"}, {\"dtype\": \"int\", \"name\": \"GrLivArea\"}, {\"dtype\": \"int\", \"name\": \"OverallQual\"}, {\"dtype\": \"int\", \"name\": \"MSSubClass\"}, {\"dtype\": \"int\", \"name\": \"OverallCond\"}, {\"dtype\": \"int\", \"name\": \"YearBuilt\"}, {\"dtype\": \"int\", \"name\": \"BsmtFinSF1\"}, {\"dtype\": \"int\", \"name\": \"BsmtFinSF2\"}, {\"dtype\": \"int\", \"name\": \"BsmtUnfSF\"}, {\"dtype\": \"int\", \"name\": \"TotalBsmtSF\"}, {\"dtype\": \"int\", \"name\": \"1stFlrSF\"}, {\"dtype\": \"int\", \"name\": \"2ndFlrSF\"}], \"column_identifiers\": [\"BsmtUnfSF\", \"1stFlrSF\", \"Neighborhood\", \"LotConfig\", \"MSSubClass\", \"2ndFlrSF\", \"OverallQual\", \"OverallCond\", \"LotArea\", \"Street\", \"YearBuilt\", \"TotalBsmtSF\", \"GrLivArea\", \"BsmtFinSF1\", \"BsmtFinSF2\"]}, \"columns\": [{\"dtype\": \"str\", \"name\": \"Street\"}, {\"dtype\": \"str\", \"name\": \"LotConfig\"}, {\"dtype\": \"str\", \"name\": \"Neighborhood\"}, {\"dtype\": \"int\", \"name\": \"LotArea\"}, {\"dtype\": \"int\", \"name\": \"GrLivArea\"}, {\"dtype\": \"int\", \"name\": \"OverallQual\"}, {\"dtype\": \"int\", \"name\": \"MSSubClass\"}, {\"dtype\": \"int\", \"name\": \"OverallCond\"}, {\"dtype\": \"int\", \"name\": \"YearBuilt\"}, {\"dtype\": \"int\", \"name\": \"BsmtFinSF1\"}, {\"dtype\": \"int\", \"name\": \"BsmtFinSF2\"}, {\"dtype\": \"int\", \"name\": \"BsmtUnfSF\"}, {\"dtype\": \"int\", \"name\": \"TotalBsmtSF\"}, {\"dtype\": \"int\", \"name\": \"1stFlrSF\"}, {\"dtype\": \"int\", \"name\": \"2ndFlrSF\"}]}, e);\n",
       "                });\n",
       "            })();\n",
       "        "
      ]
     },
     "metadata": {},
     "output_type": "display_data"
    }
   ],
   "source": [
    "sales[my_features].show()"
   ]
  },
  {
   "cell_type": "code",
   "execution_count": 24,
   "metadata": {
    "collapsed": false
   },
   "outputs": [
    {
     "data": {
      "application/javascript": [
       "$(\"head\").append($(\"<link/>\").attr({\n",
       "  rel:  \"stylesheet\",\n",
       "  type: \"text/css\",\n",
       "  href: \"//cdnjs.cloudflare.com/ajax/libs/font-awesome/4.1.0/css/font-awesome.min.css\"\n",
       "}));\n",
       "$(\"head\").append($(\"<link/>\").attr({\n",
       "  rel:  \"stylesheet\",\n",
       "  type: \"text/css\",\n",
       "  href: \"https://static.turi.com/products/graphlab-create/2.1/canvas/css/canvas.css\"\n",
       "}));\n",
       "\n",
       "            (function(){\n",
       "\n",
       "                var e = null;\n",
       "                if (typeof element == 'undefined') {\n",
       "                    var scripts = document.getElementsByTagName('script');\n",
       "                    var thisScriptTag = scripts[scripts.length-1];\n",
       "                    var parentDiv = thisScriptTag.parentNode;\n",
       "                    e = document.createElement('div');\n",
       "                    parentDiv.appendChild(e);\n",
       "                } else {\n",
       "                    e = element[0];\n",
       "                }\n",
       "\n",
       "                if (typeof requirejs !== 'undefined') {\n",
       "                    // disable load timeout; ipython_app.js is large and can take a while to load.\n",
       "                    requirejs.config({waitSeconds: 0});\n",
       "                }\n",
       "\n",
       "                require(['https://static.turi.com/products/graphlab-create/2.1/canvas/js/ipython_app.js'], function(IPythonApp){\n",
       "                    var app = new IPythonApp();\n",
       "                    app.attachView('sframe','Plots', {\"selected_variable\": {\"name\": [\"sales\"], \"descriptives\": {\"rows\": 1460, \"columns\": 78}, \"view_component\": \"Plots\", \"view_file\": \"sframe\", \"view_params\": {\"y\": \"SalePrice\", \"x\": \"YearBuilt\", \"columns\": [\"Id\", \"MSSubClass\", \"MSZoning\", \"LotArea\", \"Street\", \"Alley\", \"LotShape\", \"LandContour\", \"Utilities\", \"LotConfig\", \"LandSlope\", \"Neighborhood\", \"Condition1\", \"Condition2\", \"BldgType\", \"HouseStyle\", \"OverallQual\", \"OverallCond\", \"YearBuilt\", \"YearRemodAdd\", \"RoofStyle\", \"RoofMatl\", \"Exterior1st\", \"Exterior2nd\", \"MasVnrType\", \"ExterQual\", \"ExterCond\", \"Foundation\", \"BsmtQual\", \"BsmtCond\", \"BsmtExposure\", \"BsmtFinType1\", \"BsmtFinSF1\", \"BsmtFinType2\", \"BsmtFinSF2\", \"BsmtUnfSF\", \"TotalBsmtSF\", \"Heating\", \"HeatingQC\", \"CentralAir\", \"Electrical\", \"1stFlrSF\", \"2ndFlrSF\", \"LowQualFinSF\", \"GrLivArea\", \"BsmtFullBath\", \"BsmtHalfBath\", \"FullBath\", \"HalfBath\", \"BedroomAbvGr\", \"KitchenAbvGr\", \"KitchenQual\", \"TotRmsAbvGrd\", \"Functional\", \"Fireplaces\", \"FireplaceQu\", \"GarageType\", \"GarageFinish\", \"GarageCars\", \"GarageArea\", \"GarageQual\", \"GarageCond\", \"PavedDrive\", \"WoodDeckSF\", \"OpenPorchSF\", \"EnclosedPorch\", \"3SsnPorch\", \"ScreenPorch\", \"PoolArea\", \"PoolQC\", \"Fence\", \"MiscFeature\", \"MiscVal\", \"MoSold\", \"YrSold\", \"SaleType\", \"SaleCondition\", \"SalePrice\"], \"view\": \"BoxWhisker Plot\"}, \"view_components\": [\"Summary\", \"Table\", \"Bar Chart\", \"BoxWhisker Plot\", \"Line Chart\", \"Scatter Plot\", \"Heat Map\", \"Plots\"], \"type\": \"SFrame\", \"columns\": [{\"dtype\": \"int\", \"name\": \"Id\"}, {\"dtype\": \"int\", \"name\": \"MSSubClass\"}, {\"dtype\": \"str\", \"name\": \"MSZoning\"}, {\"dtype\": \"int\", \"name\": \"LotArea\"}, {\"dtype\": \"str\", \"name\": \"Street\"}, {\"dtype\": \"str\", \"name\": \"Alley\"}, {\"dtype\": \"str\", \"name\": \"LotShape\"}, {\"dtype\": \"str\", \"name\": \"LandContour\"}, {\"dtype\": \"str\", \"name\": \"Utilities\"}, {\"dtype\": \"str\", \"name\": \"LotConfig\"}, {\"dtype\": \"str\", \"name\": \"LandSlope\"}, {\"dtype\": \"str\", \"name\": \"Neighborhood\"}, {\"dtype\": \"str\", \"name\": \"Condition1\"}, {\"dtype\": \"str\", \"name\": \"Condition2\"}, {\"dtype\": \"str\", \"name\": \"BldgType\"}, {\"dtype\": \"str\", \"name\": \"HouseStyle\"}, {\"dtype\": \"int\", \"name\": \"OverallQual\"}, {\"dtype\": \"int\", \"name\": \"OverallCond\"}, {\"dtype\": \"int\", \"name\": \"YearBuilt\"}, {\"dtype\": \"int\", \"name\": \"YearRemodAdd\"}, {\"dtype\": \"str\", \"name\": \"RoofStyle\"}, {\"dtype\": \"str\", \"name\": \"RoofMatl\"}, {\"dtype\": \"str\", \"name\": \"Exterior1st\"}, {\"dtype\": \"str\", \"name\": \"Exterior2nd\"}, {\"dtype\": \"str\", \"name\": \"MasVnrType\"}, {\"dtype\": \"str\", \"name\": \"ExterQual\"}, {\"dtype\": \"str\", \"name\": \"ExterCond\"}, {\"dtype\": \"str\", \"name\": \"Foundation\"}, {\"dtype\": \"str\", \"name\": \"BsmtQual\"}, {\"dtype\": \"str\", \"name\": \"BsmtCond\"}, {\"dtype\": \"str\", \"name\": \"BsmtExposure\"}, {\"dtype\": \"str\", \"name\": \"BsmtFinType1\"}, {\"dtype\": \"int\", \"name\": \"BsmtFinSF1\"}, {\"dtype\": \"str\", \"name\": \"BsmtFinType2\"}, {\"dtype\": \"int\", \"name\": \"BsmtFinSF2\"}, {\"dtype\": \"int\", \"name\": \"BsmtUnfSF\"}, {\"dtype\": \"int\", \"name\": \"TotalBsmtSF\"}, {\"dtype\": \"str\", \"name\": \"Heating\"}, {\"dtype\": \"str\", \"name\": \"HeatingQC\"}, {\"dtype\": \"str\", \"name\": \"CentralAir\"}, {\"dtype\": \"str\", \"name\": \"Electrical\"}, {\"dtype\": \"int\", \"name\": \"1stFlrSF\"}, {\"dtype\": \"int\", \"name\": \"2ndFlrSF\"}, {\"dtype\": \"int\", \"name\": \"LowQualFinSF\"}, {\"dtype\": \"int\", \"name\": \"GrLivArea\"}, {\"dtype\": \"int\", \"name\": \"BsmtFullBath\"}, {\"dtype\": \"int\", \"name\": \"BsmtHalfBath\"}, {\"dtype\": \"int\", \"name\": \"FullBath\"}, {\"dtype\": \"int\", \"name\": \"HalfBath\"}, {\"dtype\": \"int\", \"name\": \"BedroomAbvGr\"}, {\"dtype\": \"int\", \"name\": \"KitchenAbvGr\"}, {\"dtype\": \"str\", \"name\": \"KitchenQual\"}, {\"dtype\": \"int\", \"name\": \"TotRmsAbvGrd\"}, {\"dtype\": \"str\", \"name\": \"Functional\"}, {\"dtype\": \"int\", \"name\": \"Fireplaces\"}, {\"dtype\": \"str\", \"name\": \"FireplaceQu\"}, {\"dtype\": \"str\", \"name\": \"GarageType\"}, {\"dtype\": \"str\", \"name\": \"GarageFinish\"}, {\"dtype\": \"int\", \"name\": \"GarageCars\"}, {\"dtype\": \"int\", \"name\": \"GarageArea\"}, {\"dtype\": \"str\", \"name\": \"GarageQual\"}, {\"dtype\": \"str\", \"name\": \"GarageCond\"}, {\"dtype\": \"str\", \"name\": \"PavedDrive\"}, {\"dtype\": \"int\", \"name\": \"WoodDeckSF\"}, {\"dtype\": \"int\", \"name\": \"OpenPorchSF\"}, {\"dtype\": \"int\", \"name\": \"EnclosedPorch\"}, {\"dtype\": \"int\", \"name\": \"3SsnPorch\"}, {\"dtype\": \"int\", \"name\": \"ScreenPorch\"}, {\"dtype\": \"int\", \"name\": \"PoolArea\"}, {\"dtype\": \"str\", \"name\": \"PoolQC\"}, {\"dtype\": \"str\", \"name\": \"Fence\"}, {\"dtype\": \"str\", \"name\": \"MiscFeature\"}, {\"dtype\": \"int\", \"name\": \"MiscVal\"}, {\"dtype\": \"int\", \"name\": \"MoSold\"}, {\"dtype\": \"int\", \"name\": \"YrSold\"}, {\"dtype\": \"str\", \"name\": \"SaleType\"}, {\"dtype\": \"str\", \"name\": \"SaleCondition\"}, {\"dtype\": \"int\", \"name\": \"SalePrice\"}], \"column_identifiers\": [\"3SsnPorch\", \"MasVnrType\", \"LotConfig\", \"LandSlope\", \"GarageQual\", \"Exterior1st\", \"GarageFinish\", \"2ndFlrSF\", \"HalfBath\", \"OverallQual\", \"OverallCond\", \"LotArea\", \"Electrical\", \"SalePrice\", \"BsmtQual\", \"HouseStyle\", \"GrLivArea\", \"YearRemodAdd\", \"EnclosedPorch\", \"Foundation\", \"1stFlrSF\", \"GarageCond\", \"BsmtCond\", \"HeatingQC\", \"RoofStyle\", \"MiscVal\", \"CentralAir\", \"BsmtExposure\", \"Utilities\", \"KitchenAbvGr\", \"WoodDeckSF\", \"LotShape\", \"BsmtFullBath\", \"TotalBsmtSF\", \"Condition1\", \"Condition2\", \"TotRmsAbvGrd\", \"MiscFeature\", \"YrSold\", \"PavedDrive\", \"OpenPorchSF\", \"LowQualFinSF\", \"BsmtUnfSF\", \"BsmtHalfBath\", \"FullBath\", \"SaleType\", \"MSZoning\", \"Exterior2nd\", \"Heating\", \"MSSubClass\", \"GarageCars\", \"YearBuilt\", \"KitchenQual\", \"BldgType\", \"BsmtFinType2\", \"BsmtFinType1\", \"BsmtFinSF1\", \"BsmtFinSF2\", \"GarageType\", \"LandContour\", \"PoolArea\", \"Neighborhood\", \"ScreenPorch\", \"Fence\", \"MoSold\", \"SaleCondition\", \"ExterQual\", \"Functional\", \"Alley\", \"Street\", \"Fireplaces\", \"GarageArea\", \"ExterCond\", \"PoolQC\", \"FireplaceQu\", \"RoofMatl\", \"Id\", \"BedroomAbvGr\"]}, \"complete\": 1, \"ipython\": true, \"progress\": 1.0, \"data\": {\"grouped\": [[1872, [122000.0, 122000.0, 122000.0, 122000.0, 122000.0, 122000.0, 122000.0, 122000.0, 122000.0, 122000.0, 122000.0]], [1875, [94000.0, 94000.0, 94000.0, 94000.0, 94000.0, 94000.0, 94000.0, 94000.0, 94000.0, 94000.0, 94000.0]], [1880, [117500.0, 117500.0, 117500.0, 117500.0, 124000.0, 265979.0, 295000.0, 295000.0, 295000.0, 295000.0, 295000.0]], [1882, [168000.0, 168000.0, 168000.0, 168000.0, 168000.0, 168000.0, 168000.0, 168000.0, 168000.0, 168000.0, 168000.0]], [1885, [100000.0, 100000.0, 100000.0, 100000.0, 100000.0, 122500.0, 122500.0, 122500.0, 122500.0, 122500.0, 122500.0]], [1890, [124900.0, 124900.0, 124900.0, 124900.0, 124900.0, 159500.0, 159500.0, 159500.0, 159500.0, 159500.0, 159500.0]], [1892, [107500.0, 107500.0, 107500.0, 107500.0, 107500.0, 475000.0, 475000.0, 475000.0, 475000.0, 475000.0, 475000.0]], [1893, [325000.0, 325000.0, 325000.0, 325000.0, 325000.0, 325000.0, 325000.0, 325000.0, 325000.0, 325000.0, 325000.0]], [1898, [106000.0, 106000.0, 106000.0, 106000.0, 106000.0, 106000.0, 106000.0, 106000.0, 106000.0, 106000.0, 106000.0]], [1900, [79000.0, 79000.0, 79000.0, 87000.0, 90000.0, 106250.0, 140000.0, 160000.0, 160000.0, 160000.0, 160000.0]], [1904, [157500.0, 157500.0, 157500.0, 157500.0, 157500.0, 157500.0, 157500.0, 157500.0, 157500.0, 157500.0, 157500.0]], [1905, [163000.0, 163000.0, 163000.0, 163000.0, 163000.0, 163000.0, 163000.0, 163000.0, 163000.0, 163000.0, 163000.0]], [1906, [135000.0, 135000.0, 135000.0, 135000.0, 135000.0, 135000.0, 135000.0, 135000.0, 135000.0, 135000.0, 135000.0]], [1908, [127000.0, 127000.0, 127000.0, 127000.0, 127000.0, 240000.0, 240000.0, 240000.0, 240000.0, 240000.0, 240000.0]], [1910, [37900.0, 37900.0, 81000.0, 81000.0, 96500.0, 114504.0, 132000.0, 139000.0, 139000.0, 167500.0, 167500.0]], [1911, [130000.0, 130000.0, 130000.0, 130000.0, 130000.0, 130000.0, 130000.0, 130000.0, 130000.0, 130000.0, 130000.0]], [1912, [104000.0, 104000.0, 104000.0, 104000.0, 104000.0, 118500.0, 135900.0, 135900.0, 135900.0, 135900.0, 135900.0]], [1913, [90350.0, 90350.0, 90350.0, 90350.0, 90350.0, 90350.0, 90350.0, 90350.0, 90350.0, 90350.0, 90350.0]], [1914, [58500.0, 58500.0, 58500.0, 58500.0, 67000.0, 128000.0, 163000.0, 200000.0, 200000.0, 200000.0, 200000.0]], [1915, [85000.0, 85000.0, 85000.0, 105000.0, 107400.0, 140000.0, 153900.0, 177000.0, 177000.0, 177000.0, 177000.0]], [1916, [98000.0, 98000.0, 98000.0, 98000.0, 121000.0, 136000.0, 160000.0, 214500.0, 214500.0, 214500.0, 214500.0]], [1917, [129500.0, 129500.0, 129500.0, 129500.0, 129500.0, 129500.0, 129500.0, 129500.0, 129500.0, 129500.0, 129500.0]], [1918, [112000.0, 112000.0, 112000.0, 112000.0, 116000.0, 185000.0, 235000.0, 239000.0, 239000.0, 239000.0, 239000.0]], [1919, [115000.0, 115000.0, 115000.0, 115000.0, 115000.0, 169000.0, 180500.0, 180500.0, 180500.0, 180500.0, 180500.0]], [1920, [34900.0, 34900.0, 60000.0, 67000.0, 83000.0, 108500.0, 137500.0, 197000.0, 197000.0, 256000.0, 256000.0]], [1921, [89000.0, 89000.0, 89000.0, 89000.0, 108480.0, 154900.0, 163500.0, 189000.0, 189000.0, 189000.0, 189000.0]], [1922, [55000.0, 55000.0, 55000.0, 55000.0, 91000.0, 113000.0, 137500.0, 191000.0, 191000.0, 191000.0, 191000.0]], [1923, [85500.0, 85500.0, 85500.0, 85500.0, 100000.0, 165000.0, 210000.0, 223500.0, 223500.0, 223500.0, 223500.0]], [1924, [79000.0, 79000.0, 79000.0, 79000.0, 100000.0, 109500.0, 112000.0, 127000.0, 127000.0, 127000.0, 127000.0]], [1925, [73000.0, 73000.0, 88000.0, 88000.0, 103600.0, 125000.0, 161000.0, 184000.0, 184000.0, 205000.0, 205000.0]], [1926, [79900.0, 79900.0, 79900.0, 79900.0, 102000.0, 115000.0, 119000.0, 234000.0, 234000.0, 234000.0, 234000.0]], [1927, [64500.0, 64500.0, 64500.0, 64500.0, 64500.0, 68500.0, 115000.0, 115000.0, 115000.0, 115000.0, 115000.0]], [1928, [76000.0, 76000.0, 76000.0, 76000.0, 105900.0, 145000.0, 161000.0, 177000.0, 177000.0, 177000.0, 177000.0]], [1929, [120000.0, 120000.0, 120000.0, 120000.0, 130000.0, 132000.0, 230000.0, 230000.0, 230000.0, 230000.0, 230000.0]], [1930, [55000.0, 55000.0, 55000.0, 55000.0, 87000.0, 91000.0, 120500.0, 162900.0, 162900.0, 162900.0, 162900.0]], [1931, [79000.0, 79000.0, 79000.0, 79000.0, 105000.0, 129900.0, 149000.0, 169500.0, 169500.0, 169500.0, 169500.0]], [1932, [159434.0, 159434.0, 159434.0, 159434.0, 220000.0, 239000.0, 315000.0, 315000.0, 315000.0, 315000.0, 315000.0]], [1934, [114500.0, 114500.0, 114500.0, 114500.0, 114500.0, 188700.0, 359100.0, 359100.0, 359100.0, 359100.0, 359100.0]], [1935, [52000.0, 52000.0, 52000.0, 52000.0, 81000.0, 133000.0, 235000.0, 381000.0, 381000.0, 381000.0, 381000.0]], [1936, [60000.0, 60000.0, 60000.0, 60000.0, 115000.0, 128000.0, 155000.0, 250000.0, 250000.0, 250000.0, 250000.0]], [1937, [89471.0, 89471.0, 89471.0, 89471.0, 119500.0, 134900.0, 141000.0, 175000.0, 175000.0, 175000.0, 175000.0]], [1938, [91300.0, 91300.0, 91300.0, 91300.0, 100000.0, 119750.0, 125500.0, 125500.0, 125500.0, 125500.0, 125500.0]], [1939, [100000.0, 100000.0, 100000.0, 100000.0, 118000.0, 132500.0, 179500.0, 311500.0, 311500.0, 311500.0, 311500.0]], [1940, [76500.0, 76500.0, 82500.0, 82500.0, 108000.0, 126000.0, 145000.0, 219500.0, 219500.0, 244400.0, 244400.0]], [1941, [52500.0, 52500.0, 66500.0, 66500.0, 87000.0, 113000.0, 133000.0, 174500.0, 174500.0, 266500.0, 266500.0]], [1942, [146500.0, 146500.0, 146500.0, 146500.0, 146500.0, 177500.0, 177500.0, 177500.0, 177500.0, 177500.0, 177500.0]], [1945, [80000.0, 80000.0, 80000.0, 80000.0, 98000.0, 113000.0, 140000.0, 259500.0, 259500.0, 259500.0, 259500.0]], [1946, [39300.0, 39300.0, 39300.0, 39300.0, 84900.0, 130500.0, 145000.0, 200500.0, 200500.0, 200500.0, 200500.0]], [1947, [80500.0, 80500.0, 80500.0, 80500.0, 110000.0, 118000.0, 118500.0, 159000.0, 159000.0, 159000.0, 159000.0]], [1948, [91500.0, 91500.0, 97500.0, 97500.0, 119200.0, 135000.0, 153500.0, 169000.0, 169000.0, 225000.0, 225000.0]], [1949, [35311.0, 35311.0, 72500.0, 72500.0, 90000.0, 131000.0, 135000.0, 143000.0, 143000.0, 145000.0, 145000.0]], [1950, [82000.0, 82000.0, 92900.0, 93500.0, 109900.0, 125000.0, 142125.0, 158500.0, 158500.0, 243000.0, 243000.0]], [1951, [102000.0, 102000.0, 102000.0, 102000.0, 134800.0, 139000.0, 141000.0, 164900.0, 164900.0, 164900.0, 164900.0]], [1952, [55993.0, 55993.0, 55993.0, 55993.0, 82000.0, 123500.0, 124500.0, 166000.0, 166000.0, 166000.0, 166000.0]], [1953, [93000.0, 93000.0, 109000.0, 109000.0, 116000.0, 149500.0, 167000.0, 217000.0, 217000.0, 225000.0, 225000.0]], [1954, [93000.0, 93000.0, 105500.0, 105500.0, 113000.0, 132000.0, 144900.0, 224000.0, 224000.0, 256000.0, 256000.0]], [1955, [82000.0, 82000.0, 107500.0, 107500.0, 118000.0, 135000.0, 153000.0, 170000.0, 170000.0, 190000.0, 190000.0]], [1956, [97000.0, 97000.0, 103200.0, 103200.0, 127500.0, 132000.0, 135750.0, 168000.0, 168000.0, 230000.0, 230000.0]], [1957, [84000.0, 84000.0, 109008.0, 112500.0, 129900.0, 149700.0, 161500.0, 207500.0, 207500.0, 257500.0, 257500.0]], [1958, [60000.0, 60000.0, 114500.0, 114500.0, 130000.0, 140000.0, 155000.0, 172500.0, 172500.0, 277000.0, 277000.0]], [1959, [80000.0, 80000.0, 120000.0, 120000.0, 132500.0, 145000.0, 159500.0, 177000.0, 177000.0, 335000.0, 335000.0]], [1960, [115000.0, 115000.0, 126500.0, 126500.0, 139900.0, 154300.0, 167500.0, 235000.0, 235000.0, 242000.0, 242000.0]], [1961, [98600.0, 98600.0, 118500.0, 118500.0, 129000.0, 139950.0, 148000.0, 168000.0, 168000.0, 178400.0, 178400.0]], [1962, [101800.0, 101800.0, 109500.0, 109500.0, 132500.0, 143900.0, 165000.0, 174000.0, 174000.0, 176000.0, 176000.0]], [1963, [110000.0, 110000.0, 124000.0, 124000.0, 132500.0, 140000.0, 155000.0, 175000.0, 175000.0, 186700.0, 186700.0]], [1964, [115000.0, 115000.0, 119000.0, 119000.0, 158000.0, 167000.0, 180500.0, 187000.0, 187000.0, 190000.0, 190000.0]], [1965, [62383.0, 62383.0, 100000.0, 100000.0, 129500.0, 142600.0, 160000.0, 205000.0, 205000.0, 375000.0, 375000.0]], [1966, [107000.0, 107000.0, 109900.0, 109900.0, 127000.0, 155000.0, 174900.0, 226000.0, 226000.0, 274970.0, 274970.0]], [1967, [90000.0, 90000.0, 100000.0, 100000.0, 124000.0, 130000.0, 161500.0, 197900.0, 197900.0, 242000.0, 242000.0]], [1968, [108000.0, 108000.0, 110000.0, 129000.0, 136500.0, 158000.0, 180000.0, 244000.0, 250000.0, 262500.0, 262500.0]], [1969, [108959.0, 108959.0, 128500.0, 128500.0, 138800.0, 156000.0, 180000.0, 206900.0, 206900.0, 223000.0, 223000.0]], [1970, [75000.0, 75000.0, 84500.0, 84500.0, 97000.0, 125000.0, 167000.0, 185000.0, 185000.0, 268000.0, 268000.0]], [1971, [85400.0, 85400.0, 88000.0, 88000.0, 97000.0, 122500.0, 145000.0, 175000.0, 190000.0, 302000.0, 302000.0]], [1972, [75500.0, 75500.0, 94500.0, 94500.0, 118000.0, 128500.0, 158000.0, 184000.0, 184000.0, 345000.0, 345000.0]], [1973, [83000.0, 83000.0, 83000.0, 83500.0, 91000.0, 135000.0, 175500.0, 200000.0, 244000.0, 244000.0, 244000.0]], [1974, [136000.0, 136000.0, 136000.0, 142500.0, 147000.0, 170000.0, 185000.0, 294000.0, 294000.0, 294000.0, 294000.0]], [1975, [110000.0, 110000.0, 110000.0, 110000.0, 127500.0, 153500.0, 179900.0, 280000.0, 280000.0, 280000.0, 280000.0]], [1976, [85000.0, 85000.0, 115000.0, 125000.0, 132500.0, 150900.0, 188000.0, 205000.0, 218000.0, 299800.0, 299800.0]], [1977, [82500.0, 82500.0, 127000.0, 127500.0, 143500.0, 161750.0, 190000.0, 215000.0, 217500.0, 272000.0, 272000.0]], [1978, [112000.0, 112000.0, 124000.0, 124000.0, 147000.0, 156000.0, 172500.0, 210000.0, 210000.0, 250000.0, 250000.0]], [1979, [99500.0, 99500.0, 99500.0, 99500.0, 118964.0, 142953.0, 181000.0, 260000.0, 260000.0, 260000.0, 260000.0]], [1980, [120000.0, 120000.0, 120000.0, 124000.0, 140000.0, 151000.0, 187500.0, 260000.0, 260000.0, 260000.0, 260000.0]], [1981, [175500.0, 175500.0, 175500.0, 175500.0, 182900.0, 228000.0, 278000.0, 385000.0, 385000.0, 385000.0, 385000.0]], [1982, [124500.0, 124500.0, 124500.0, 124500.0, 129500.0, 134900.0, 137000.0, 138000.0, 138000.0, 138000.0, 138000.0]], [1983, [131000.0, 131000.0, 131000.0, 131000.0, 134000.0, 144000.0, 316600.0, 316600.0, 316600.0, 316600.0, 316600.0]], [1984, [119500.0, 119500.0, 119500.0, 119500.0, 142500.0, 162500.0, 187500.0, 207500.0, 207500.0, 207500.0, 207500.0]], [1985, [112000.0, 112000.0, 112000.0, 112000.0, 178000.0, 180000.0, 212000.0, 275000.0, 275000.0, 275000.0, 275000.0]], [1986, [170000.0, 170000.0, 170000.0, 170000.0, 184000.0, 190000.0, 215000.0, 301000.0, 301000.0, 301000.0, 301000.0]], [1987, [176000.0, 176000.0, 176000.0, 176000.0, 176000.0, 179000.0, 239000.0, 239000.0, 239000.0, 239000.0, 239000.0]], [1988, [164000.0, 164000.0, 164000.0, 171000.0, 175000.0, 196500.0, 229000.0, 241500.0, 277000.0, 277000.0, 277000.0]], [1989, [228500.0, 228500.0, 228500.0, 228500.0, 228500.0, 275000.0, 335000.0, 335000.0, 335000.0, 335000.0, 335000.0]], [1990, [118500.0, 118500.0, 173000.0, 173000.0, 180000.0, 225000.0, 271900.0, 302000.0, 302000.0, 320000.0, 320000.0]], [1991, [93500.0, 93500.0, 93500.0, 93500.0, 160000.0, 179200.0, 238000.0, 260000.0, 260000.0, 260000.0, 260000.0]], [1992, [147000.0, 147000.0, 163900.0, 163900.0, 175900.0, 189000.0, 240000.0, 285000.0, 285000.0, 430000.0, 430000.0]], [1993, [143000.0, 143000.0, 153900.0, 153900.0, 180000.0, 194500.0, 236000.0, 324000.0, 324000.0, 341000.0, 341000.0]], [1994, [123600.0, 123600.0, 126000.0, 126000.0, 145000.0, 205000.0, 290000.0, 402000.0, 402000.0, 755000.0, 755000.0]], [1995, [144000.0, 144000.0, 156000.0, 156000.0, 176000.0, 239500.0, 290000.0, 410000.0, 410000.0, 625000.0, 625000.0]], [1996, [148000.0, 148000.0, 152000.0, 152000.0, 175000.0, 212000.0, 269790.0, 328000.0, 328000.0, 745000.0, 745000.0]], [1997, [169000.0, 169000.0, 177000.0, 177000.0, 185000.0, 208900.0, 222000.0, 239000.0, 239000.0, 348000.0, 348000.0]], [1998, [133000.0, 133000.0, 162000.0, 162000.0, 185000.0, 211000.0, 258000.0, 315000.0, 315000.0, 340000.0, 340000.0]], [1999, [155000.0, 155000.0, 165000.0, 165000.0, 175000.0, 191000.0, 225000.0, 328900.0, 328900.0, 337000.0, 337000.0]], [2000, [165000.0, 165000.0, 170000.0, 170000.0, 177500.0, 213000.0, 244000.0, 251000.0, 251000.0, 313000.0, 313000.0]], [2001, [178000.0, 178000.0, 187100.0, 189000.0, 215000.0, 227000.0, 272000.0, 287000.0, 287000.0, 466500.0, 466500.0]], [2002, [183200.0, 183200.0, 192000.0, 192000.0, 200000.0, 221000.0, 255000.0, 271000.0, 271000.0, 312500.0, 312500.0]], [2003, [131500.0, 131500.0, 144000.0, 144000.0, 175500.0, 207500.0, 250000.0, 360000.0, 360000.0, 538000.0, 538000.0]], [2004, [130000.0, 130000.0, 141000.0, 141000.0, 158000.0, 192000.0, 254900.0, 315000.0, 317000.0, 354000.0, 354000.0]], [2005, [140000.0, 140000.0, 148000.0, 151000.0, 174000.0, 202500.0, 266000.0, 325300.0, 345000.0, 556581.0, 556581.0]], [2006, [84500.0, 84500.0, 167500.0, 167500.0, 194000.0, 239799.0, 281000.0, 380000.0, 380000.0, 465000.0, 465000.0]], [2007, [146000.0, 146000.0, 175900.0, 175900.0, 195400.0, 239000.0, 314813.0, 372402.0, 372402.0, 426000.0, 426000.0]], [2008, [160000.0, 160000.0, 227680.0, 227680.0, 253293.0, 335000.0, 446261.0, 501837.0, 501837.0, 582933.0, 582933.0]], [2009, [164500.0, 164500.0, 173733.0, 173733.0, 208300.0, 229456.0, 269500.0, 402861.0, 402861.0, 611657.0, 611657.0]], [2010, [394432.0, 394432.0, 394432.0, 394432.0, 394432.0, 394432.0, 394432.0, 394432.0, 394432.0, 394432.0, 394432.0]]], \"omitted\": 0}, \"columns\": [{\"dtype\": \"int\", \"name\": \"Id\"}, {\"dtype\": \"int\", \"name\": \"MSSubClass\"}, {\"dtype\": \"str\", \"name\": \"MSZoning\"}, {\"dtype\": \"int\", \"name\": \"LotArea\"}, {\"dtype\": \"str\", \"name\": \"Street\"}, {\"dtype\": \"str\", \"name\": \"Alley\"}, {\"dtype\": \"str\", \"name\": \"LotShape\"}, {\"dtype\": \"str\", \"name\": \"LandContour\"}, {\"dtype\": \"str\", \"name\": \"Utilities\"}, {\"dtype\": \"str\", \"name\": \"LotConfig\"}, {\"dtype\": \"str\", \"name\": \"LandSlope\"}, {\"dtype\": \"str\", \"name\": \"Neighborhood\"}, {\"dtype\": \"str\", \"name\": \"Condition1\"}, {\"dtype\": \"str\", \"name\": \"Condition2\"}, {\"dtype\": \"str\", \"name\": \"BldgType\"}, {\"dtype\": \"str\", \"name\": \"HouseStyle\"}, {\"dtype\": \"int\", \"name\": \"OverallQual\"}, {\"dtype\": \"int\", \"name\": \"OverallCond\"}, {\"dtype\": \"int\", \"name\": \"YearBuilt\"}, {\"dtype\": \"int\", \"name\": \"YearRemodAdd\"}, {\"dtype\": \"str\", \"name\": \"RoofStyle\"}, {\"dtype\": \"str\", \"name\": \"RoofMatl\"}, {\"dtype\": \"str\", \"name\": \"Exterior1st\"}, {\"dtype\": \"str\", \"name\": \"Exterior2nd\"}, {\"dtype\": \"str\", \"name\": \"MasVnrType\"}, {\"dtype\": \"str\", \"name\": \"ExterQual\"}, {\"dtype\": \"str\", \"name\": \"ExterCond\"}, {\"dtype\": \"str\", \"name\": \"Foundation\"}, {\"dtype\": \"str\", \"name\": \"BsmtQual\"}, {\"dtype\": \"str\", \"name\": \"BsmtCond\"}, {\"dtype\": \"str\", \"name\": \"BsmtExposure\"}, {\"dtype\": \"str\", \"name\": \"BsmtFinType1\"}, {\"dtype\": \"int\", \"name\": \"BsmtFinSF1\"}, {\"dtype\": \"str\", \"name\": \"BsmtFinType2\"}, {\"dtype\": \"int\", \"name\": \"BsmtFinSF2\"}, {\"dtype\": \"int\", \"name\": \"BsmtUnfSF\"}, {\"dtype\": \"int\", \"name\": \"TotalBsmtSF\"}, {\"dtype\": \"str\", \"name\": \"Heating\"}, {\"dtype\": \"str\", \"name\": \"HeatingQC\"}, {\"dtype\": \"str\", \"name\": \"CentralAir\"}, {\"dtype\": \"str\", \"name\": \"Electrical\"}, {\"dtype\": \"int\", \"name\": \"1stFlrSF\"}, {\"dtype\": \"int\", \"name\": \"2ndFlrSF\"}, {\"dtype\": \"int\", \"name\": \"LowQualFinSF\"}, {\"dtype\": \"int\", \"name\": \"GrLivArea\"}, {\"dtype\": \"int\", \"name\": \"BsmtFullBath\"}, {\"dtype\": \"int\", \"name\": \"BsmtHalfBath\"}, {\"dtype\": \"int\", \"name\": \"FullBath\"}, {\"dtype\": \"int\", \"name\": \"HalfBath\"}, {\"dtype\": \"int\", \"name\": \"BedroomAbvGr\"}, {\"dtype\": \"int\", \"name\": \"KitchenAbvGr\"}, {\"dtype\": \"str\", \"name\": \"KitchenQual\"}, {\"dtype\": \"int\", \"name\": \"TotRmsAbvGrd\"}, {\"dtype\": \"str\", \"name\": \"Functional\"}, {\"dtype\": \"int\", \"name\": \"Fireplaces\"}, {\"dtype\": \"str\", \"name\": \"FireplaceQu\"}, {\"dtype\": \"str\", \"name\": \"GarageType\"}, {\"dtype\": \"str\", \"name\": \"GarageFinish\"}, {\"dtype\": \"int\", \"name\": \"GarageCars\"}, {\"dtype\": \"int\", \"name\": \"GarageArea\"}, {\"dtype\": \"str\", \"name\": \"GarageQual\"}, {\"dtype\": \"str\", \"name\": \"GarageCond\"}, {\"dtype\": \"str\", \"name\": \"PavedDrive\"}, {\"dtype\": \"int\", \"name\": \"WoodDeckSF\"}, {\"dtype\": \"int\", \"name\": \"OpenPorchSF\"}, {\"dtype\": \"int\", \"name\": \"EnclosedPorch\"}, {\"dtype\": \"int\", \"name\": \"3SsnPorch\"}, {\"dtype\": \"int\", \"name\": \"ScreenPorch\"}, {\"dtype\": \"int\", \"name\": \"PoolArea\"}, {\"dtype\": \"str\", \"name\": \"PoolQC\"}, {\"dtype\": \"str\", \"name\": \"Fence\"}, {\"dtype\": \"str\", \"name\": \"MiscFeature\"}, {\"dtype\": \"int\", \"name\": \"MiscVal\"}, {\"dtype\": \"int\", \"name\": \"MoSold\"}, {\"dtype\": \"int\", \"name\": \"YrSold\"}, {\"dtype\": \"str\", \"name\": \"SaleType\"}, {\"dtype\": \"str\", \"name\": \"SaleCondition\"}, {\"dtype\": \"int\", \"name\": \"SalePrice\"}]}, e);\n",
       "                });\n",
       "            })();\n",
       "        "
      ]
     },
     "metadata": {},
     "output_type": "display_data"
    }
   ],
   "source": [
    "sales.show(view='BoxWhisker Plot', x= 'YearBuilt', y='SalePrice')"
   ]
  },
  {
   "cell_type": "markdown",
   "metadata": {},
   "source": [
    "# Build a regression model with more features"
   ]
  },
  {
   "cell_type": "code",
   "execution_count": 25,
   "metadata": {
    "collapsed": false
   },
   "outputs": [
    {
     "name": "stdout",
     "output_type": "stream",
     "text": [
      "PROGRESS: Creating a validation set from 5 percent of training data. This may take a while.\n",
      "          You can set ``validation_set=None`` to disable validation tracking.\n",
      "\n"
     ]
    },
    {
     "data": {
      "text/html": [
       "<pre>Linear regression:</pre>"
      ],
      "text/plain": [
       "Linear regression:"
      ]
     },
     "metadata": {},
     "output_type": "display_data"
    },
    {
     "data": {
      "text/html": [
       "<pre>--------------------------------------------------------</pre>"
      ],
      "text/plain": [
       "--------------------------------------------------------"
      ]
     },
     "metadata": {},
     "output_type": "display_data"
    },
    {
     "data": {
      "text/html": [
       "<pre>Number of examples          : 1098</pre>"
      ],
      "text/plain": [
       "Number of examples          : 1098"
      ]
     },
     "metadata": {},
     "output_type": "display_data"
    },
    {
     "data": {
      "text/html": [
       "<pre>Number of features          : 77</pre>"
      ],
      "text/plain": [
       "Number of features          : 77"
      ]
     },
     "metadata": {},
     "output_type": "display_data"
    },
    {
     "data": {
      "text/html": [
       "<pre>Number of unpacked features : 77</pre>"
      ],
      "text/plain": [
       "Number of unpacked features : 77"
      ]
     },
     "metadata": {},
     "output_type": "display_data"
    },
    {
     "data": {
      "text/html": [
       "<pre>Number of coefficients    : 254</pre>"
      ],
      "text/plain": [
       "Number of coefficients    : 254"
      ]
     },
     "metadata": {},
     "output_type": "display_data"
    },
    {
     "data": {
      "text/html": [
       "<pre>Starting Newton Method</pre>"
      ],
      "text/plain": [
       "Starting Newton Method"
      ]
     },
     "metadata": {},
     "output_type": "display_data"
    },
    {
     "data": {
      "text/html": [
       "<pre>--------------------------------------------------------</pre>"
      ],
      "text/plain": [
       "--------------------------------------------------------"
      ]
     },
     "metadata": {},
     "output_type": "display_data"
    },
    {
     "data": {
      "text/html": [
       "<pre>+-----------+----------+--------------+--------------------+----------------------+---------------+-----------------+</pre>"
      ],
      "text/plain": [
       "+-----------+----------+--------------+--------------------+----------------------+---------------+-----------------+"
      ]
     },
     "metadata": {},
     "output_type": "display_data"
    },
    {
     "data": {
      "text/html": [
       "<pre>| Iteration | Passes   | Elapsed Time | Training-max_error | Validation-max_error | Training-rmse | Validation-rmse |</pre>"
      ],
      "text/plain": [
       "| Iteration | Passes   | Elapsed Time | Training-max_error | Validation-max_error | Training-rmse | Validation-rmse |"
      ]
     },
     "metadata": {},
     "output_type": "display_data"
    },
    {
     "data": {
      "text/html": [
       "<pre>+-----------+----------+--------------+--------------------+----------------------+---------------+-----------------+</pre>"
      ],
      "text/plain": [
       "+-----------+----------+--------------+--------------------+----------------------+---------------+-----------------+"
      ]
     },
     "metadata": {},
     "output_type": "display_data"
    },
    {
     "data": {
      "text/html": [
       "<pre>| 1         | 2        | 0.024653     | 171956.637690      | 246391.721782        | 19429.942254  | 45372.207061    |</pre>"
      ],
      "text/plain": [
       "| 1         | 2        | 0.024653     | 171956.637690      | 246391.721782        | 19429.942254  | 45372.207061    |"
      ]
     },
     "metadata": {},
     "output_type": "display_data"
    },
    {
     "data": {
      "text/html": [
       "<pre>+-----------+----------+--------------+--------------------+----------------------+---------------+-----------------+</pre>"
      ],
      "text/plain": [
       "+-----------+----------+--------------+--------------------+----------------------+---------------+-----------------+"
      ]
     },
     "metadata": {},
     "output_type": "display_data"
    },
    {
     "data": {
      "text/html": [
       "<pre>SUCCESS: Optimal solution found.</pre>"
      ],
      "text/plain": [
       "SUCCESS: Optimal solution found."
      ]
     },
     "metadata": {},
     "output_type": "display_data"
    },
    {
     "data": {
      "text/html": [
       "<pre></pre>"
      ],
      "text/plain": []
     },
     "metadata": {},
     "output_type": "display_data"
    }
   ],
   "source": [
    "my_features_model = graphlab.linear_regression.create(train_data, target='SalePrice', features=None )"
   ]
  },
  {
   "cell_type": "code",
   "execution_count": 26,
   "metadata": {
    "collapsed": false
   },
   "outputs": [
    {
     "name": "stdout",
     "output_type": "stream",
     "text": [
      "['Street', 'LotConfig', 'Neighborhood', 'LotArea', 'GrLivArea', 'OverallQual', 'MSSubClass', 'OverallCond', 'YearBuilt', 'BsmtFinSF1', 'BsmtFinSF2', 'BsmtUnfSF', 'TotalBsmtSF', '1stFlrSF', '2ndFlrSF']\n"
     ]
    }
   ],
   "source": [
    "print my_features"
   ]
  },
  {
   "cell_type": "code",
   "execution_count": 27,
   "metadata": {
    "collapsed": false
   },
   "outputs": [
    {
     "name": "stdout",
     "output_type": "stream",
     "text": [
      "{'max_error': 262801.29537471815, 'rmse': 53442.22885525324}\n",
      "{'max_error': 393918.0291912386, 'rmse': 73265.75056663538}\n",
      "{'max_error': 153457.0078994282, 'rmse': 27129.49800575154}\n"
     ]
    }
   ],
   "source": [
    "print GrLivArea_model.evaluate(test_data)\n",
    "print LotArea_model.evaluate(test_data)\n",
    "print my_features_model.evaluate(test_data)"
   ]
  },
  {
   "cell_type": "code",
   "execution_count": 28,
   "metadata": {
    "collapsed": false
   },
   "outputs": [],
   "source": [
    "house2 = sales[sales['Id']==16]\n",
    "house3 = sales[sales['Id']==15]\n",
    "house4 = sales[sales['Id']==13]"
   ]
  },
  {
   "cell_type": "code",
   "execution_count": 29,
   "metadata": {
    "collapsed": false
   },
   "outputs": [
    {
     "data": {
      "text/html": [
       "<div style=\"max-height:1000px;max-width:1500px;overflow:auto;\"><table frame=\"box\" rules=\"cols\">\n",
       "    <tr>\n",
       "        <th style=\"padding-left: 1em; padding-right: 1em; text-align: center\">Id</th>\n",
       "        <th style=\"padding-left: 1em; padding-right: 1em; text-align: center\">MSSubClass</th>\n",
       "        <th style=\"padding-left: 1em; padding-right: 1em; text-align: center\">MSZoning</th>\n",
       "        <th style=\"padding-left: 1em; padding-right: 1em; text-align: center\">LotArea</th>\n",
       "        <th style=\"padding-left: 1em; padding-right: 1em; text-align: center\">Street</th>\n",
       "        <th style=\"padding-left: 1em; padding-right: 1em; text-align: center\">Alley</th>\n",
       "        <th style=\"padding-left: 1em; padding-right: 1em; text-align: center\">LotShape</th>\n",
       "        <th style=\"padding-left: 1em; padding-right: 1em; text-align: center\">LandContour</th>\n",
       "        <th style=\"padding-left: 1em; padding-right: 1em; text-align: center\">Utilities</th>\n",
       "        <th style=\"padding-left: 1em; padding-right: 1em; text-align: center\">LotConfig</th>\n",
       "        <th style=\"padding-left: 1em; padding-right: 1em; text-align: center\">LandSlope</th>\n",
       "    </tr>\n",
       "    <tr>\n",
       "        <td style=\"padding-left: 1em; padding-right: 1em; text-align: center; vertical-align: top\">13</td>\n",
       "        <td style=\"padding-left: 1em; padding-right: 1em; text-align: center; vertical-align: top\">20</td>\n",
       "        <td style=\"padding-left: 1em; padding-right: 1em; text-align: center; vertical-align: top\">RL</td>\n",
       "        <td style=\"padding-left: 1em; padding-right: 1em; text-align: center; vertical-align: top\">12968</td>\n",
       "        <td style=\"padding-left: 1em; padding-right: 1em; text-align: center; vertical-align: top\">Pave</td>\n",
       "        <td style=\"padding-left: 1em; padding-right: 1em; text-align: center; vertical-align: top\">None</td>\n",
       "        <td style=\"padding-left: 1em; padding-right: 1em; text-align: center; vertical-align: top\">IR2</td>\n",
       "        <td style=\"padding-left: 1em; padding-right: 1em; text-align: center; vertical-align: top\">Lvl</td>\n",
       "        <td style=\"padding-left: 1em; padding-right: 1em; text-align: center; vertical-align: top\">AllPub</td>\n",
       "        <td style=\"padding-left: 1em; padding-right: 1em; text-align: center; vertical-align: top\">Inside</td>\n",
       "        <td style=\"padding-left: 1em; padding-right: 1em; text-align: center; vertical-align: top\">Gtl</td>\n",
       "    </tr>\n",
       "</table>\n",
       "<table frame=\"box\" rules=\"cols\">\n",
       "    <tr>\n",
       "        <th style=\"padding-left: 1em; padding-right: 1em; text-align: center\">Neighborhood</th>\n",
       "        <th style=\"padding-left: 1em; padding-right: 1em; text-align: center\">Condition1</th>\n",
       "        <th style=\"padding-left: 1em; padding-right: 1em; text-align: center\">Condition2</th>\n",
       "        <th style=\"padding-left: 1em; padding-right: 1em; text-align: center\">BldgType</th>\n",
       "        <th style=\"padding-left: 1em; padding-right: 1em; text-align: center\">HouseStyle</th>\n",
       "        <th style=\"padding-left: 1em; padding-right: 1em; text-align: center\">OverallQual</th>\n",
       "        <th style=\"padding-left: 1em; padding-right: 1em; text-align: center\">OverallCond</th>\n",
       "        <th style=\"padding-left: 1em; padding-right: 1em; text-align: center\">YearBuilt</th>\n",
       "        <th style=\"padding-left: 1em; padding-right: 1em; text-align: center\">YearRemodAdd</th>\n",
       "    </tr>\n",
       "    <tr>\n",
       "        <td style=\"padding-left: 1em; padding-right: 1em; text-align: center; vertical-align: top\">Sawyer</td>\n",
       "        <td style=\"padding-left: 1em; padding-right: 1em; text-align: center; vertical-align: top\">Norm</td>\n",
       "        <td style=\"padding-left: 1em; padding-right: 1em; text-align: center; vertical-align: top\">Norm</td>\n",
       "        <td style=\"padding-left: 1em; padding-right: 1em; text-align: center; vertical-align: top\">1Fam</td>\n",
       "        <td style=\"padding-left: 1em; padding-right: 1em; text-align: center; vertical-align: top\">1Story</td>\n",
       "        <td style=\"padding-left: 1em; padding-right: 1em; text-align: center; vertical-align: top\">5</td>\n",
       "        <td style=\"padding-left: 1em; padding-right: 1em; text-align: center; vertical-align: top\">6</td>\n",
       "        <td style=\"padding-left: 1em; padding-right: 1em; text-align: center; vertical-align: top\">1962</td>\n",
       "        <td style=\"padding-left: 1em; padding-right: 1em; text-align: center; vertical-align: top\">1962</td>\n",
       "    </tr>\n",
       "</table>\n",
       "<table frame=\"box\" rules=\"cols\">\n",
       "    <tr>\n",
       "        <th style=\"padding-left: 1em; padding-right: 1em; text-align: center\">RoofStyle</th>\n",
       "        <th style=\"padding-left: 1em; padding-right: 1em; text-align: center\">RoofMatl</th>\n",
       "        <th style=\"padding-left: 1em; padding-right: 1em; text-align: center\">Exterior1st</th>\n",
       "        <th style=\"padding-left: 1em; padding-right: 1em; text-align: center\">Exterior2nd</th>\n",
       "        <th style=\"padding-left: 1em; padding-right: 1em; text-align: center\">MasVnrType</th>\n",
       "        <th style=\"padding-left: 1em; padding-right: 1em; text-align: center\">ExterQual</th>\n",
       "        <th style=\"padding-left: 1em; padding-right: 1em; text-align: center\">ExterCond</th>\n",
       "        <th style=\"padding-left: 1em; padding-right: 1em; text-align: center\">Foundation</th>\n",
       "        <th style=\"padding-left: 1em; padding-right: 1em; text-align: center\">BsmtQual</th>\n",
       "        <th style=\"padding-left: 1em; padding-right: 1em; text-align: center\">BsmtCond</th>\n",
       "    </tr>\n",
       "    <tr>\n",
       "        <td style=\"padding-left: 1em; padding-right: 1em; text-align: center; vertical-align: top\">Hip</td>\n",
       "        <td style=\"padding-left: 1em; padding-right: 1em; text-align: center; vertical-align: top\">CompShg</td>\n",
       "        <td style=\"padding-left: 1em; padding-right: 1em; text-align: center; vertical-align: top\">HdBoard</td>\n",
       "        <td style=\"padding-left: 1em; padding-right: 1em; text-align: center; vertical-align: top\">Plywood</td>\n",
       "        <td style=\"padding-left: 1em; padding-right: 1em; text-align: center; vertical-align: top\">None</td>\n",
       "        <td style=\"padding-left: 1em; padding-right: 1em; text-align: center; vertical-align: top\">TA</td>\n",
       "        <td style=\"padding-left: 1em; padding-right: 1em; text-align: center; vertical-align: top\">TA</td>\n",
       "        <td style=\"padding-left: 1em; padding-right: 1em; text-align: center; vertical-align: top\">CBlock</td>\n",
       "        <td style=\"padding-left: 1em; padding-right: 1em; text-align: center; vertical-align: top\">TA</td>\n",
       "        <td style=\"padding-left: 1em; padding-right: 1em; text-align: center; vertical-align: top\">TA</td>\n",
       "    </tr>\n",
       "</table>\n",
       "<table frame=\"box\" rules=\"cols\">\n",
       "    <tr>\n",
       "        <th style=\"padding-left: 1em; padding-right: 1em; text-align: center\">BsmtExposure</th>\n",
       "        <th style=\"padding-left: 1em; padding-right: 1em; text-align: center\">BsmtFinType1</th>\n",
       "        <th style=\"padding-left: 1em; padding-right: 1em; text-align: center\">BsmtFinSF1</th>\n",
       "        <th style=\"padding-left: 1em; padding-right: 1em; text-align: center\">BsmtFinType2</th>\n",
       "        <th style=\"padding-left: 1em; padding-right: 1em; text-align: center\">BsmtFinSF2</th>\n",
       "        <th style=\"padding-left: 1em; padding-right: 1em; text-align: center\">BsmtUnfSF</th>\n",
       "        <th style=\"padding-left: 1em; padding-right: 1em; text-align: center\">TotalBsmtSF</th>\n",
       "        <th style=\"padding-left: 1em; padding-right: 1em; text-align: center\">Heating</th>\n",
       "        <th style=\"padding-left: 1em; padding-right: 1em; text-align: center\">HeatingQC</th>\n",
       "    </tr>\n",
       "    <tr>\n",
       "        <td style=\"padding-left: 1em; padding-right: 1em; text-align: center; vertical-align: top\">No</td>\n",
       "        <td style=\"padding-left: 1em; padding-right: 1em; text-align: center; vertical-align: top\">ALQ</td>\n",
       "        <td style=\"padding-left: 1em; padding-right: 1em; text-align: center; vertical-align: top\">737</td>\n",
       "        <td style=\"padding-left: 1em; padding-right: 1em; text-align: center; vertical-align: top\">Unf</td>\n",
       "        <td style=\"padding-left: 1em; padding-right: 1em; text-align: center; vertical-align: top\">0</td>\n",
       "        <td style=\"padding-left: 1em; padding-right: 1em; text-align: center; vertical-align: top\">175</td>\n",
       "        <td style=\"padding-left: 1em; padding-right: 1em; text-align: center; vertical-align: top\">912</td>\n",
       "        <td style=\"padding-left: 1em; padding-right: 1em; text-align: center; vertical-align: top\">GasA</td>\n",
       "        <td style=\"padding-left: 1em; padding-right: 1em; text-align: center; vertical-align: top\">TA</td>\n",
       "    </tr>\n",
       "</table>\n",
       "<table frame=\"box\" rules=\"cols\">\n",
       "    <tr>\n",
       "        <th style=\"padding-left: 1em; padding-right: 1em; text-align: center\">CentralAir</th>\n",
       "        <th style=\"padding-left: 1em; padding-right: 1em; text-align: center\">...</th>\n",
       "    </tr>\n",
       "    <tr>\n",
       "        <td style=\"padding-left: 1em; padding-right: 1em; text-align: center; vertical-align: top\">Y</td>\n",
       "        <td style=\"padding-left: 1em; padding-right: 1em; text-align: center; vertical-align: top\">...</td>\n",
       "    </tr>\n",
       "</table>\n",
       "[? rows x 78 columns]<br/>Note: Only the head of the SFrame is printed. This SFrame is lazily evaluated.<br/>You can use sf.materialize() to force materialization.\n",
       "</div>"
      ],
      "text/plain": [
       "Columns:\n",
       "\tId\tint\n",
       "\tMSSubClass\tint\n",
       "\tMSZoning\tstr\n",
       "\tLotArea\tint\n",
       "\tStreet\tstr\n",
       "\tAlley\tstr\n",
       "\tLotShape\tstr\n",
       "\tLandContour\tstr\n",
       "\tUtilities\tstr\n",
       "\tLotConfig\tstr\n",
       "\tLandSlope\tstr\n",
       "\tNeighborhood\tstr\n",
       "\tCondition1\tstr\n",
       "\tCondition2\tstr\n",
       "\tBldgType\tstr\n",
       "\tHouseStyle\tstr\n",
       "\tOverallQual\tint\n",
       "\tOverallCond\tint\n",
       "\tYearBuilt\tint\n",
       "\tYearRemodAdd\tint\n",
       "\tRoofStyle\tstr\n",
       "\tRoofMatl\tstr\n",
       "\tExterior1st\tstr\n",
       "\tExterior2nd\tstr\n",
       "\tMasVnrType\tstr\n",
       "\tExterQual\tstr\n",
       "\tExterCond\tstr\n",
       "\tFoundation\tstr\n",
       "\tBsmtQual\tstr\n",
       "\tBsmtCond\tstr\n",
       "\tBsmtExposure\tstr\n",
       "\tBsmtFinType1\tstr\n",
       "\tBsmtFinSF1\tint\n",
       "\tBsmtFinType2\tstr\n",
       "\tBsmtFinSF2\tint\n",
       "\tBsmtUnfSF\tint\n",
       "\tTotalBsmtSF\tint\n",
       "\tHeating\tstr\n",
       "\tHeatingQC\tstr\n",
       "\tCentralAir\tstr\n",
       "\tElectrical\tstr\n",
       "\t1stFlrSF\tint\n",
       "\t2ndFlrSF\tint\n",
       "\tLowQualFinSF\tint\n",
       "\tGrLivArea\tint\n",
       "\tBsmtFullBath\tint\n",
       "\tBsmtHalfBath\tint\n",
       "\tFullBath\tint\n",
       "\tHalfBath\tint\n",
       "\tBedroomAbvGr\tint\n",
       "\tKitchenAbvGr\tint\n",
       "\tKitchenQual\tstr\n",
       "\tTotRmsAbvGrd\tint\n",
       "\tFunctional\tstr\n",
       "\tFireplaces\tint\n",
       "\tFireplaceQu\tstr\n",
       "\tGarageType\tstr\n",
       "\tGarageFinish\tstr\n",
       "\tGarageCars\tint\n",
       "\tGarageArea\tint\n",
       "\tGarageQual\tstr\n",
       "\tGarageCond\tstr\n",
       "\tPavedDrive\tstr\n",
       "\tWoodDeckSF\tint\n",
       "\tOpenPorchSF\tint\n",
       "\tEnclosedPorch\tint\n",
       "\t3SsnPorch\tint\n",
       "\tScreenPorch\tint\n",
       "\tPoolArea\tint\n",
       "\tPoolQC\tstr\n",
       "\tFence\tstr\n",
       "\tMiscFeature\tstr\n",
       "\tMiscVal\tint\n",
       "\tMoSold\tint\n",
       "\tYrSold\tint\n",
       "\tSaleType\tstr\n",
       "\tSaleCondition\tstr\n",
       "\tSalePrice\tint\n",
       "\n",
       "Rows: Unknown\n",
       "\n",
       "Data:\n",
       "+----+------------+----------+---------+--------+-------+----------+-------------+\n",
       "| Id | MSSubClass | MSZoning | LotArea | Street | Alley | LotShape | LandContour |\n",
       "+----+------------+----------+---------+--------+-------+----------+-------------+\n",
       "| 13 |     20     |    RL    |  12968  |  Pave  |  None |   IR2    |     Lvl     |\n",
       "+----+------------+----------+---------+--------+-------+----------+-------------+\n",
       "+-----------+-----------+-----------+--------------+------------+------------+\n",
       "| Utilities | LotConfig | LandSlope | Neighborhood | Condition1 | Condition2 |\n",
       "+-----------+-----------+-----------+--------------+------------+------------+\n",
       "|   AllPub  |   Inside  |    Gtl    |    Sawyer    |    Norm    |    Norm    |\n",
       "+-----------+-----------+-----------+--------------+------------+------------+\n",
       "+----------+------------+-------------+-------------+-----------+--------------+-----+\n",
       "| BldgType | HouseStyle | OverallQual | OverallCond | YearBuilt | YearRemodAdd | ... |\n",
       "+----------+------------+-------------+-------------+-----------+--------------+-----+\n",
       "|   1Fam   |   1Story   |      5      |      6      |    1962   |     1962     | ... |\n",
       "+----------+------------+-------------+-------------+-----------+--------------+-----+\n",
       "[? rows x 78 columns]\n",
       "Note: Only the head of the SFrame is printed. This SFrame is lazily evaluated.\n",
       "You can use sf.materialize() to force materialization."
      ]
     },
     "execution_count": 29,
     "metadata": {},
     "output_type": "execute_result"
    }
   ],
   "source": [
    "house2\n",
    "house3\n",
    "house4"
   ]
  },
  {
   "cell_type": "code",
   "execution_count": 30,
   "metadata": {
    "collapsed": false
   },
   "outputs": [
    {
     "name": "stdout",
     "output_type": "stream",
     "text": [
      "[132000, ... ]\n",
      "[157000, ... ]\n",
      "[144000, ... ]\n"
     ]
    }
   ],
   "source": [
    "print house2['SalePrice']\n",
    "print house3['SalePrice']\n",
    "print house4['SalePrice']"
   ]
  },
  {
   "cell_type": "code",
   "execution_count": 31,
   "metadata": {
    "collapsed": false
   },
   "outputs": [
    {
     "name": "stdout",
     "output_type": "stream",
     "text": [
      "[150473.5741617147]\n",
      "[150218.32886900945]\n",
      "[134876.00827796344]\n"
     ]
    }
   ],
   "source": [
    "# print GrLivArea_model.predict(house2)\n",
    "# print LotArea_model.predict(house2)\n",
    "print my_features_model.predict(house2)\n",
    "# print GrLivArea_model.predict(house3)\n",
    "# print LotArea_model.predict(house3)\n",
    "print my_features_model.predict(house3)\n",
    "# print GrLivArea_model.predict(house4)\n",
    "# print LotArea_model.predict(house4)\n",
    "print my_features_model.predict(house4)"
   ]
  },
  {
   "cell_type": "code",
   "execution_count": 32,
   "metadata": {
    "collapsed": false,
    "scrolled": true
   },
   "outputs": [
    {
     "data": {
      "text/html": [
       "<div style=\"max-height:1000px;max-width:1500px;overflow:auto;\"><table frame=\"box\" rules=\"cols\">\n",
       "    <tr>\n",
       "        <th style=\"padding-left: 1em; padding-right: 1em; text-align: center\">Id</th>\n",
       "        <th style=\"padding-left: 1em; padding-right: 1em; text-align: center\">MSSubClass</th>\n",
       "        <th style=\"padding-left: 1em; padding-right: 1em; text-align: center\">MSZoning</th>\n",
       "        <th style=\"padding-left: 1em; padding-right: 1em; text-align: center\">LotArea</th>\n",
       "        <th style=\"padding-left: 1em; padding-right: 1em; text-align: center\">Street</th>\n",
       "        <th style=\"padding-left: 1em; padding-right: 1em; text-align: center\">Alley</th>\n",
       "        <th style=\"padding-left: 1em; padding-right: 1em; text-align: center\">LotShape</th>\n",
       "        <th style=\"padding-left: 1em; padding-right: 1em; text-align: center\">LandContour</th>\n",
       "        <th style=\"padding-left: 1em; padding-right: 1em; text-align: center\">Utilities</th>\n",
       "        <th style=\"padding-left: 1em; padding-right: 1em; text-align: center\">LotConfig</th>\n",
       "        <th style=\"padding-left: 1em; padding-right: 1em; text-align: center\">LandSlope</th>\n",
       "    </tr>\n",
       "    <tr>\n",
       "        <td style=\"padding-left: 1em; padding-right: 1em; text-align: center; vertical-align: top\">1461</td>\n",
       "        <td style=\"padding-left: 1em; padding-right: 1em; text-align: center; vertical-align: top\">20</td>\n",
       "        <td style=\"padding-left: 1em; padding-right: 1em; text-align: center; vertical-align: top\">RH</td>\n",
       "        <td style=\"padding-left: 1em; padding-right: 1em; text-align: center; vertical-align: top\">11622</td>\n",
       "        <td style=\"padding-left: 1em; padding-right: 1em; text-align: center; vertical-align: top\">Pave</td>\n",
       "        <td style=\"padding-left: 1em; padding-right: 1em; text-align: center; vertical-align: top\">None</td>\n",
       "        <td style=\"padding-left: 1em; padding-right: 1em; text-align: center; vertical-align: top\">Reg</td>\n",
       "        <td style=\"padding-left: 1em; padding-right: 1em; text-align: center; vertical-align: top\">Lvl</td>\n",
       "        <td style=\"padding-left: 1em; padding-right: 1em; text-align: center; vertical-align: top\">AllPub</td>\n",
       "        <td style=\"padding-left: 1em; padding-right: 1em; text-align: center; vertical-align: top\">Inside</td>\n",
       "        <td style=\"padding-left: 1em; padding-right: 1em; text-align: center; vertical-align: top\">Gtl</td>\n",
       "    </tr>\n",
       "    <tr>\n",
       "        <td style=\"padding-left: 1em; padding-right: 1em; text-align: center; vertical-align: top\">1462</td>\n",
       "        <td style=\"padding-left: 1em; padding-right: 1em; text-align: center; vertical-align: top\">20</td>\n",
       "        <td style=\"padding-left: 1em; padding-right: 1em; text-align: center; vertical-align: top\">RL</td>\n",
       "        <td style=\"padding-left: 1em; padding-right: 1em; text-align: center; vertical-align: top\">14267</td>\n",
       "        <td style=\"padding-left: 1em; padding-right: 1em; text-align: center; vertical-align: top\">Pave</td>\n",
       "        <td style=\"padding-left: 1em; padding-right: 1em; text-align: center; vertical-align: top\">None</td>\n",
       "        <td style=\"padding-left: 1em; padding-right: 1em; text-align: center; vertical-align: top\">IR1</td>\n",
       "        <td style=\"padding-left: 1em; padding-right: 1em; text-align: center; vertical-align: top\">Lvl</td>\n",
       "        <td style=\"padding-left: 1em; padding-right: 1em; text-align: center; vertical-align: top\">AllPub</td>\n",
       "        <td style=\"padding-left: 1em; padding-right: 1em; text-align: center; vertical-align: top\">Corner</td>\n",
       "        <td style=\"padding-left: 1em; padding-right: 1em; text-align: center; vertical-align: top\">Gtl</td>\n",
       "    </tr>\n",
       "    <tr>\n",
       "        <td style=\"padding-left: 1em; padding-right: 1em; text-align: center; vertical-align: top\">1463</td>\n",
       "        <td style=\"padding-left: 1em; padding-right: 1em; text-align: center; vertical-align: top\">60</td>\n",
       "        <td style=\"padding-left: 1em; padding-right: 1em; text-align: center; vertical-align: top\">RL</td>\n",
       "        <td style=\"padding-left: 1em; padding-right: 1em; text-align: center; vertical-align: top\">13830</td>\n",
       "        <td style=\"padding-left: 1em; padding-right: 1em; text-align: center; vertical-align: top\">Pave</td>\n",
       "        <td style=\"padding-left: 1em; padding-right: 1em; text-align: center; vertical-align: top\">None</td>\n",
       "        <td style=\"padding-left: 1em; padding-right: 1em; text-align: center; vertical-align: top\">IR1</td>\n",
       "        <td style=\"padding-left: 1em; padding-right: 1em; text-align: center; vertical-align: top\">Lvl</td>\n",
       "        <td style=\"padding-left: 1em; padding-right: 1em; text-align: center; vertical-align: top\">AllPub</td>\n",
       "        <td style=\"padding-left: 1em; padding-right: 1em; text-align: center; vertical-align: top\">Inside</td>\n",
       "        <td style=\"padding-left: 1em; padding-right: 1em; text-align: center; vertical-align: top\">Gtl</td>\n",
       "    </tr>\n",
       "    <tr>\n",
       "        <td style=\"padding-left: 1em; padding-right: 1em; text-align: center; vertical-align: top\">1464</td>\n",
       "        <td style=\"padding-left: 1em; padding-right: 1em; text-align: center; vertical-align: top\">60</td>\n",
       "        <td style=\"padding-left: 1em; padding-right: 1em; text-align: center; vertical-align: top\">RL</td>\n",
       "        <td style=\"padding-left: 1em; padding-right: 1em; text-align: center; vertical-align: top\">9978</td>\n",
       "        <td style=\"padding-left: 1em; padding-right: 1em; text-align: center; vertical-align: top\">Pave</td>\n",
       "        <td style=\"padding-left: 1em; padding-right: 1em; text-align: center; vertical-align: top\">None</td>\n",
       "        <td style=\"padding-left: 1em; padding-right: 1em; text-align: center; vertical-align: top\">IR1</td>\n",
       "        <td style=\"padding-left: 1em; padding-right: 1em; text-align: center; vertical-align: top\">Lvl</td>\n",
       "        <td style=\"padding-left: 1em; padding-right: 1em; text-align: center; vertical-align: top\">AllPub</td>\n",
       "        <td style=\"padding-left: 1em; padding-right: 1em; text-align: center; vertical-align: top\">Inside</td>\n",
       "        <td style=\"padding-left: 1em; padding-right: 1em; text-align: center; vertical-align: top\">Gtl</td>\n",
       "    </tr>\n",
       "    <tr>\n",
       "        <td style=\"padding-left: 1em; padding-right: 1em; text-align: center; vertical-align: top\">1465</td>\n",
       "        <td style=\"padding-left: 1em; padding-right: 1em; text-align: center; vertical-align: top\">120</td>\n",
       "        <td style=\"padding-left: 1em; padding-right: 1em; text-align: center; vertical-align: top\">RL</td>\n",
       "        <td style=\"padding-left: 1em; padding-right: 1em; text-align: center; vertical-align: top\">5005</td>\n",
       "        <td style=\"padding-left: 1em; padding-right: 1em; text-align: center; vertical-align: top\">Pave</td>\n",
       "        <td style=\"padding-left: 1em; padding-right: 1em; text-align: center; vertical-align: top\">None</td>\n",
       "        <td style=\"padding-left: 1em; padding-right: 1em; text-align: center; vertical-align: top\">IR1</td>\n",
       "        <td style=\"padding-left: 1em; padding-right: 1em; text-align: center; vertical-align: top\">HLS</td>\n",
       "        <td style=\"padding-left: 1em; padding-right: 1em; text-align: center; vertical-align: top\">AllPub</td>\n",
       "        <td style=\"padding-left: 1em; padding-right: 1em; text-align: center; vertical-align: top\">Inside</td>\n",
       "        <td style=\"padding-left: 1em; padding-right: 1em; text-align: center; vertical-align: top\">Gtl</td>\n",
       "    </tr>\n",
       "    <tr>\n",
       "        <td style=\"padding-left: 1em; padding-right: 1em; text-align: center; vertical-align: top\">1466</td>\n",
       "        <td style=\"padding-left: 1em; padding-right: 1em; text-align: center; vertical-align: top\">60</td>\n",
       "        <td style=\"padding-left: 1em; padding-right: 1em; text-align: center; vertical-align: top\">RL</td>\n",
       "        <td style=\"padding-left: 1em; padding-right: 1em; text-align: center; vertical-align: top\">10000</td>\n",
       "        <td style=\"padding-left: 1em; padding-right: 1em; text-align: center; vertical-align: top\">Pave</td>\n",
       "        <td style=\"padding-left: 1em; padding-right: 1em; text-align: center; vertical-align: top\">None</td>\n",
       "        <td style=\"padding-left: 1em; padding-right: 1em; text-align: center; vertical-align: top\">IR1</td>\n",
       "        <td style=\"padding-left: 1em; padding-right: 1em; text-align: center; vertical-align: top\">Lvl</td>\n",
       "        <td style=\"padding-left: 1em; padding-right: 1em; text-align: center; vertical-align: top\">AllPub</td>\n",
       "        <td style=\"padding-left: 1em; padding-right: 1em; text-align: center; vertical-align: top\">Corner</td>\n",
       "        <td style=\"padding-left: 1em; padding-right: 1em; text-align: center; vertical-align: top\">Gtl</td>\n",
       "    </tr>\n",
       "    <tr>\n",
       "        <td style=\"padding-left: 1em; padding-right: 1em; text-align: center; vertical-align: top\">1467</td>\n",
       "        <td style=\"padding-left: 1em; padding-right: 1em; text-align: center; vertical-align: top\">20</td>\n",
       "        <td style=\"padding-left: 1em; padding-right: 1em; text-align: center; vertical-align: top\">RL</td>\n",
       "        <td style=\"padding-left: 1em; padding-right: 1em; text-align: center; vertical-align: top\">7980</td>\n",
       "        <td style=\"padding-left: 1em; padding-right: 1em; text-align: center; vertical-align: top\">Pave</td>\n",
       "        <td style=\"padding-left: 1em; padding-right: 1em; text-align: center; vertical-align: top\">None</td>\n",
       "        <td style=\"padding-left: 1em; padding-right: 1em; text-align: center; vertical-align: top\">IR1</td>\n",
       "        <td style=\"padding-left: 1em; padding-right: 1em; text-align: center; vertical-align: top\">Lvl</td>\n",
       "        <td style=\"padding-left: 1em; padding-right: 1em; text-align: center; vertical-align: top\">AllPub</td>\n",
       "        <td style=\"padding-left: 1em; padding-right: 1em; text-align: center; vertical-align: top\">Inside</td>\n",
       "        <td style=\"padding-left: 1em; padding-right: 1em; text-align: center; vertical-align: top\">Gtl</td>\n",
       "    </tr>\n",
       "    <tr>\n",
       "        <td style=\"padding-left: 1em; padding-right: 1em; text-align: center; vertical-align: top\">1468</td>\n",
       "        <td style=\"padding-left: 1em; padding-right: 1em; text-align: center; vertical-align: top\">60</td>\n",
       "        <td style=\"padding-left: 1em; padding-right: 1em; text-align: center; vertical-align: top\">RL</td>\n",
       "        <td style=\"padding-left: 1em; padding-right: 1em; text-align: center; vertical-align: top\">8402</td>\n",
       "        <td style=\"padding-left: 1em; padding-right: 1em; text-align: center; vertical-align: top\">Pave</td>\n",
       "        <td style=\"padding-left: 1em; padding-right: 1em; text-align: center; vertical-align: top\">None</td>\n",
       "        <td style=\"padding-left: 1em; padding-right: 1em; text-align: center; vertical-align: top\">IR1</td>\n",
       "        <td style=\"padding-left: 1em; padding-right: 1em; text-align: center; vertical-align: top\">Lvl</td>\n",
       "        <td style=\"padding-left: 1em; padding-right: 1em; text-align: center; vertical-align: top\">AllPub</td>\n",
       "        <td style=\"padding-left: 1em; padding-right: 1em; text-align: center; vertical-align: top\">Inside</td>\n",
       "        <td style=\"padding-left: 1em; padding-right: 1em; text-align: center; vertical-align: top\">Gtl</td>\n",
       "    </tr>\n",
       "    <tr>\n",
       "        <td style=\"padding-left: 1em; padding-right: 1em; text-align: center; vertical-align: top\">1469</td>\n",
       "        <td style=\"padding-left: 1em; padding-right: 1em; text-align: center; vertical-align: top\">20</td>\n",
       "        <td style=\"padding-left: 1em; padding-right: 1em; text-align: center; vertical-align: top\">RL</td>\n",
       "        <td style=\"padding-left: 1em; padding-right: 1em; text-align: center; vertical-align: top\">10176</td>\n",
       "        <td style=\"padding-left: 1em; padding-right: 1em; text-align: center; vertical-align: top\">Pave</td>\n",
       "        <td style=\"padding-left: 1em; padding-right: 1em; text-align: center; vertical-align: top\">None</td>\n",
       "        <td style=\"padding-left: 1em; padding-right: 1em; text-align: center; vertical-align: top\">Reg</td>\n",
       "        <td style=\"padding-left: 1em; padding-right: 1em; text-align: center; vertical-align: top\">Lvl</td>\n",
       "        <td style=\"padding-left: 1em; padding-right: 1em; text-align: center; vertical-align: top\">AllPub</td>\n",
       "        <td style=\"padding-left: 1em; padding-right: 1em; text-align: center; vertical-align: top\">Inside</td>\n",
       "        <td style=\"padding-left: 1em; padding-right: 1em; text-align: center; vertical-align: top\">Gtl</td>\n",
       "    </tr>\n",
       "    <tr>\n",
       "        <td style=\"padding-left: 1em; padding-right: 1em; text-align: center; vertical-align: top\">1470</td>\n",
       "        <td style=\"padding-left: 1em; padding-right: 1em; text-align: center; vertical-align: top\">20</td>\n",
       "        <td style=\"padding-left: 1em; padding-right: 1em; text-align: center; vertical-align: top\">RL</td>\n",
       "        <td style=\"padding-left: 1em; padding-right: 1em; text-align: center; vertical-align: top\">8400</td>\n",
       "        <td style=\"padding-left: 1em; padding-right: 1em; text-align: center; vertical-align: top\">Pave</td>\n",
       "        <td style=\"padding-left: 1em; padding-right: 1em; text-align: center; vertical-align: top\">None</td>\n",
       "        <td style=\"padding-left: 1em; padding-right: 1em; text-align: center; vertical-align: top\">Reg</td>\n",
       "        <td style=\"padding-left: 1em; padding-right: 1em; text-align: center; vertical-align: top\">Lvl</td>\n",
       "        <td style=\"padding-left: 1em; padding-right: 1em; text-align: center; vertical-align: top\">AllPub</td>\n",
       "        <td style=\"padding-left: 1em; padding-right: 1em; text-align: center; vertical-align: top\">Corner</td>\n",
       "        <td style=\"padding-left: 1em; padding-right: 1em; text-align: center; vertical-align: top\">Gtl</td>\n",
       "    </tr>\n",
       "</table>\n",
       "<table frame=\"box\" rules=\"cols\">\n",
       "    <tr>\n",
       "        <th style=\"padding-left: 1em; padding-right: 1em; text-align: center\">Neighborhood</th>\n",
       "        <th style=\"padding-left: 1em; padding-right: 1em; text-align: center\">Condition1</th>\n",
       "        <th style=\"padding-left: 1em; padding-right: 1em; text-align: center\">Condition2</th>\n",
       "        <th style=\"padding-left: 1em; padding-right: 1em; text-align: center\">BldgType</th>\n",
       "        <th style=\"padding-left: 1em; padding-right: 1em; text-align: center\">HouseStyle</th>\n",
       "        <th style=\"padding-left: 1em; padding-right: 1em; text-align: center\">OverallQual</th>\n",
       "        <th style=\"padding-left: 1em; padding-right: 1em; text-align: center\">OverallCond</th>\n",
       "        <th style=\"padding-left: 1em; padding-right: 1em; text-align: center\">YearBuilt</th>\n",
       "        <th style=\"padding-left: 1em; padding-right: 1em; text-align: center\">YearRemodAdd</th>\n",
       "    </tr>\n",
       "    <tr>\n",
       "        <td style=\"padding-left: 1em; padding-right: 1em; text-align: center; vertical-align: top\">NAmes</td>\n",
       "        <td style=\"padding-left: 1em; padding-right: 1em; text-align: center; vertical-align: top\">Feedr</td>\n",
       "        <td style=\"padding-left: 1em; padding-right: 1em; text-align: center; vertical-align: top\">Norm</td>\n",
       "        <td style=\"padding-left: 1em; padding-right: 1em; text-align: center; vertical-align: top\">1Fam</td>\n",
       "        <td style=\"padding-left: 1em; padding-right: 1em; text-align: center; vertical-align: top\">1Story</td>\n",
       "        <td style=\"padding-left: 1em; padding-right: 1em; text-align: center; vertical-align: top\">5</td>\n",
       "        <td style=\"padding-left: 1em; padding-right: 1em; text-align: center; vertical-align: top\">6</td>\n",
       "        <td style=\"padding-left: 1em; padding-right: 1em; text-align: center; vertical-align: top\">1961</td>\n",
       "        <td style=\"padding-left: 1em; padding-right: 1em; text-align: center; vertical-align: top\">1961</td>\n",
       "    </tr>\n",
       "    <tr>\n",
       "        <td style=\"padding-left: 1em; padding-right: 1em; text-align: center; vertical-align: top\">NAmes</td>\n",
       "        <td style=\"padding-left: 1em; padding-right: 1em; text-align: center; vertical-align: top\">Norm</td>\n",
       "        <td style=\"padding-left: 1em; padding-right: 1em; text-align: center; vertical-align: top\">Norm</td>\n",
       "        <td style=\"padding-left: 1em; padding-right: 1em; text-align: center; vertical-align: top\">1Fam</td>\n",
       "        <td style=\"padding-left: 1em; padding-right: 1em; text-align: center; vertical-align: top\">1Story</td>\n",
       "        <td style=\"padding-left: 1em; padding-right: 1em; text-align: center; vertical-align: top\">6</td>\n",
       "        <td style=\"padding-left: 1em; padding-right: 1em; text-align: center; vertical-align: top\">6</td>\n",
       "        <td style=\"padding-left: 1em; padding-right: 1em; text-align: center; vertical-align: top\">1958</td>\n",
       "        <td style=\"padding-left: 1em; padding-right: 1em; text-align: center; vertical-align: top\">1958</td>\n",
       "    </tr>\n",
       "    <tr>\n",
       "        <td style=\"padding-left: 1em; padding-right: 1em; text-align: center; vertical-align: top\">Gilbert</td>\n",
       "        <td style=\"padding-left: 1em; padding-right: 1em; text-align: center; vertical-align: top\">Norm</td>\n",
       "        <td style=\"padding-left: 1em; padding-right: 1em; text-align: center; vertical-align: top\">Norm</td>\n",
       "        <td style=\"padding-left: 1em; padding-right: 1em; text-align: center; vertical-align: top\">1Fam</td>\n",
       "        <td style=\"padding-left: 1em; padding-right: 1em; text-align: center; vertical-align: top\">2Story</td>\n",
       "        <td style=\"padding-left: 1em; padding-right: 1em; text-align: center; vertical-align: top\">5</td>\n",
       "        <td style=\"padding-left: 1em; padding-right: 1em; text-align: center; vertical-align: top\">5</td>\n",
       "        <td style=\"padding-left: 1em; padding-right: 1em; text-align: center; vertical-align: top\">1997</td>\n",
       "        <td style=\"padding-left: 1em; padding-right: 1em; text-align: center; vertical-align: top\">1998</td>\n",
       "    </tr>\n",
       "    <tr>\n",
       "        <td style=\"padding-left: 1em; padding-right: 1em; text-align: center; vertical-align: top\">Gilbert</td>\n",
       "        <td style=\"padding-left: 1em; padding-right: 1em; text-align: center; vertical-align: top\">Norm</td>\n",
       "        <td style=\"padding-left: 1em; padding-right: 1em; text-align: center; vertical-align: top\">Norm</td>\n",
       "        <td style=\"padding-left: 1em; padding-right: 1em; text-align: center; vertical-align: top\">1Fam</td>\n",
       "        <td style=\"padding-left: 1em; padding-right: 1em; text-align: center; vertical-align: top\">2Story</td>\n",
       "        <td style=\"padding-left: 1em; padding-right: 1em; text-align: center; vertical-align: top\">6</td>\n",
       "        <td style=\"padding-left: 1em; padding-right: 1em; text-align: center; vertical-align: top\">6</td>\n",
       "        <td style=\"padding-left: 1em; padding-right: 1em; text-align: center; vertical-align: top\">1998</td>\n",
       "        <td style=\"padding-left: 1em; padding-right: 1em; text-align: center; vertical-align: top\">1998</td>\n",
       "    </tr>\n",
       "    <tr>\n",
       "        <td style=\"padding-left: 1em; padding-right: 1em; text-align: center; vertical-align: top\">StoneBr</td>\n",
       "        <td style=\"padding-left: 1em; padding-right: 1em; text-align: center; vertical-align: top\">Norm</td>\n",
       "        <td style=\"padding-left: 1em; padding-right: 1em; text-align: center; vertical-align: top\">Norm</td>\n",
       "        <td style=\"padding-left: 1em; padding-right: 1em; text-align: center; vertical-align: top\">TwnhsE</td>\n",
       "        <td style=\"padding-left: 1em; padding-right: 1em; text-align: center; vertical-align: top\">1Story</td>\n",
       "        <td style=\"padding-left: 1em; padding-right: 1em; text-align: center; vertical-align: top\">8</td>\n",
       "        <td style=\"padding-left: 1em; padding-right: 1em; text-align: center; vertical-align: top\">5</td>\n",
       "        <td style=\"padding-left: 1em; padding-right: 1em; text-align: center; vertical-align: top\">1992</td>\n",
       "        <td style=\"padding-left: 1em; padding-right: 1em; text-align: center; vertical-align: top\">1992</td>\n",
       "    </tr>\n",
       "    <tr>\n",
       "        <td style=\"padding-left: 1em; padding-right: 1em; text-align: center; vertical-align: top\">Gilbert</td>\n",
       "        <td style=\"padding-left: 1em; padding-right: 1em; text-align: center; vertical-align: top\">Norm</td>\n",
       "        <td style=\"padding-left: 1em; padding-right: 1em; text-align: center; vertical-align: top\">Norm</td>\n",
       "        <td style=\"padding-left: 1em; padding-right: 1em; text-align: center; vertical-align: top\">1Fam</td>\n",
       "        <td style=\"padding-left: 1em; padding-right: 1em; text-align: center; vertical-align: top\">2Story</td>\n",
       "        <td style=\"padding-left: 1em; padding-right: 1em; text-align: center; vertical-align: top\">6</td>\n",
       "        <td style=\"padding-left: 1em; padding-right: 1em; text-align: center; vertical-align: top\">5</td>\n",
       "        <td style=\"padding-left: 1em; padding-right: 1em; text-align: center; vertical-align: top\">1993</td>\n",
       "        <td style=\"padding-left: 1em; padding-right: 1em; text-align: center; vertical-align: top\">1994</td>\n",
       "    </tr>\n",
       "    <tr>\n",
       "        <td style=\"padding-left: 1em; padding-right: 1em; text-align: center; vertical-align: top\">Gilbert</td>\n",
       "        <td style=\"padding-left: 1em; padding-right: 1em; text-align: center; vertical-align: top\">Norm</td>\n",
       "        <td style=\"padding-left: 1em; padding-right: 1em; text-align: center; vertical-align: top\">Norm</td>\n",
       "        <td style=\"padding-left: 1em; padding-right: 1em; text-align: center; vertical-align: top\">1Fam</td>\n",
       "        <td style=\"padding-left: 1em; padding-right: 1em; text-align: center; vertical-align: top\">1Story</td>\n",
       "        <td style=\"padding-left: 1em; padding-right: 1em; text-align: center; vertical-align: top\">6</td>\n",
       "        <td style=\"padding-left: 1em; padding-right: 1em; text-align: center; vertical-align: top\">7</td>\n",
       "        <td style=\"padding-left: 1em; padding-right: 1em; text-align: center; vertical-align: top\">1992</td>\n",
       "        <td style=\"padding-left: 1em; padding-right: 1em; text-align: center; vertical-align: top\">2007</td>\n",
       "    </tr>\n",
       "    <tr>\n",
       "        <td style=\"padding-left: 1em; padding-right: 1em; text-align: center; vertical-align: top\">Gilbert</td>\n",
       "        <td style=\"padding-left: 1em; padding-right: 1em; text-align: center; vertical-align: top\">Norm</td>\n",
       "        <td style=\"padding-left: 1em; padding-right: 1em; text-align: center; vertical-align: top\">Norm</td>\n",
       "        <td style=\"padding-left: 1em; padding-right: 1em; text-align: center; vertical-align: top\">1Fam</td>\n",
       "        <td style=\"padding-left: 1em; padding-right: 1em; text-align: center; vertical-align: top\">2Story</td>\n",
       "        <td style=\"padding-left: 1em; padding-right: 1em; text-align: center; vertical-align: top\">6</td>\n",
       "        <td style=\"padding-left: 1em; padding-right: 1em; text-align: center; vertical-align: top\">5</td>\n",
       "        <td style=\"padding-left: 1em; padding-right: 1em; text-align: center; vertical-align: top\">1998</td>\n",
       "        <td style=\"padding-left: 1em; padding-right: 1em; text-align: center; vertical-align: top\">1998</td>\n",
       "    </tr>\n",
       "    <tr>\n",
       "        <td style=\"padding-left: 1em; padding-right: 1em; text-align: center; vertical-align: top\">Gilbert</td>\n",
       "        <td style=\"padding-left: 1em; padding-right: 1em; text-align: center; vertical-align: top\">Norm</td>\n",
       "        <td style=\"padding-left: 1em; padding-right: 1em; text-align: center; vertical-align: top\">Norm</td>\n",
       "        <td style=\"padding-left: 1em; padding-right: 1em; text-align: center; vertical-align: top\">1Fam</td>\n",
       "        <td style=\"padding-left: 1em; padding-right: 1em; text-align: center; vertical-align: top\">1Story</td>\n",
       "        <td style=\"padding-left: 1em; padding-right: 1em; text-align: center; vertical-align: top\">7</td>\n",
       "        <td style=\"padding-left: 1em; padding-right: 1em; text-align: center; vertical-align: top\">5</td>\n",
       "        <td style=\"padding-left: 1em; padding-right: 1em; text-align: center; vertical-align: top\">1990</td>\n",
       "        <td style=\"padding-left: 1em; padding-right: 1em; text-align: center; vertical-align: top\">1990</td>\n",
       "    </tr>\n",
       "    <tr>\n",
       "        <td style=\"padding-left: 1em; padding-right: 1em; text-align: center; vertical-align: top\">NAmes</td>\n",
       "        <td style=\"padding-left: 1em; padding-right: 1em; text-align: center; vertical-align: top\">Norm</td>\n",
       "        <td style=\"padding-left: 1em; padding-right: 1em; text-align: center; vertical-align: top\">Norm</td>\n",
       "        <td style=\"padding-left: 1em; padding-right: 1em; text-align: center; vertical-align: top\">1Fam</td>\n",
       "        <td style=\"padding-left: 1em; padding-right: 1em; text-align: center; vertical-align: top\">1Story</td>\n",
       "        <td style=\"padding-left: 1em; padding-right: 1em; text-align: center; vertical-align: top\">4</td>\n",
       "        <td style=\"padding-left: 1em; padding-right: 1em; text-align: center; vertical-align: top\">5</td>\n",
       "        <td style=\"padding-left: 1em; padding-right: 1em; text-align: center; vertical-align: top\">1970</td>\n",
       "        <td style=\"padding-left: 1em; padding-right: 1em; text-align: center; vertical-align: top\">1970</td>\n",
       "    </tr>\n",
       "</table>\n",
       "<table frame=\"box\" rules=\"cols\">\n",
       "    <tr>\n",
       "        <th style=\"padding-left: 1em; padding-right: 1em; text-align: center\">RoofStyle</th>\n",
       "        <th style=\"padding-left: 1em; padding-right: 1em; text-align: center\">RoofMatl</th>\n",
       "        <th style=\"padding-left: 1em; padding-right: 1em; text-align: center\">Exterior1st</th>\n",
       "        <th style=\"padding-left: 1em; padding-right: 1em; text-align: center\">Exterior2nd</th>\n",
       "        <th style=\"padding-left: 1em; padding-right: 1em; text-align: center\">MasVnrType</th>\n",
       "        <th style=\"padding-left: 1em; padding-right: 1em; text-align: center\">ExterQual</th>\n",
       "        <th style=\"padding-left: 1em; padding-right: 1em; text-align: center\">ExterCond</th>\n",
       "        <th style=\"padding-left: 1em; padding-right: 1em; text-align: center\">Foundation</th>\n",
       "        <th style=\"padding-left: 1em; padding-right: 1em; text-align: center\">BsmtQual</th>\n",
       "        <th style=\"padding-left: 1em; padding-right: 1em; text-align: center\">BsmtCond</th>\n",
       "    </tr>\n",
       "    <tr>\n",
       "        <td style=\"padding-left: 1em; padding-right: 1em; text-align: center; vertical-align: top\">Gable</td>\n",
       "        <td style=\"padding-left: 1em; padding-right: 1em; text-align: center; vertical-align: top\">CompShg</td>\n",
       "        <td style=\"padding-left: 1em; padding-right: 1em; text-align: center; vertical-align: top\">VinylSd</td>\n",
       "        <td style=\"padding-left: 1em; padding-right: 1em; text-align: center; vertical-align: top\">VinylSd</td>\n",
       "        <td style=\"padding-left: 1em; padding-right: 1em; text-align: center; vertical-align: top\">None</td>\n",
       "        <td style=\"padding-left: 1em; padding-right: 1em; text-align: center; vertical-align: top\">TA</td>\n",
       "        <td style=\"padding-left: 1em; padding-right: 1em; text-align: center; vertical-align: top\">TA</td>\n",
       "        <td style=\"padding-left: 1em; padding-right: 1em; text-align: center; vertical-align: top\">CBlock</td>\n",
       "        <td style=\"padding-left: 1em; padding-right: 1em; text-align: center; vertical-align: top\">TA</td>\n",
       "        <td style=\"padding-left: 1em; padding-right: 1em; text-align: center; vertical-align: top\">TA</td>\n",
       "    </tr>\n",
       "    <tr>\n",
       "        <td style=\"padding-left: 1em; padding-right: 1em; text-align: center; vertical-align: top\">Hip</td>\n",
       "        <td style=\"padding-left: 1em; padding-right: 1em; text-align: center; vertical-align: top\">CompShg</td>\n",
       "        <td style=\"padding-left: 1em; padding-right: 1em; text-align: center; vertical-align: top\">Wd Sdng</td>\n",
       "        <td style=\"padding-left: 1em; padding-right: 1em; text-align: center; vertical-align: top\">Wd Sdng</td>\n",
       "        <td style=\"padding-left: 1em; padding-right: 1em; text-align: center; vertical-align: top\">BrkFace</td>\n",
       "        <td style=\"padding-left: 1em; padding-right: 1em; text-align: center; vertical-align: top\">TA</td>\n",
       "        <td style=\"padding-left: 1em; padding-right: 1em; text-align: center; vertical-align: top\">TA</td>\n",
       "        <td style=\"padding-left: 1em; padding-right: 1em; text-align: center; vertical-align: top\">CBlock</td>\n",
       "        <td style=\"padding-left: 1em; padding-right: 1em; text-align: center; vertical-align: top\">TA</td>\n",
       "        <td style=\"padding-left: 1em; padding-right: 1em; text-align: center; vertical-align: top\">TA</td>\n",
       "    </tr>\n",
       "    <tr>\n",
       "        <td style=\"padding-left: 1em; padding-right: 1em; text-align: center; vertical-align: top\">Gable</td>\n",
       "        <td style=\"padding-left: 1em; padding-right: 1em; text-align: center; vertical-align: top\">CompShg</td>\n",
       "        <td style=\"padding-left: 1em; padding-right: 1em; text-align: center; vertical-align: top\">VinylSd</td>\n",
       "        <td style=\"padding-left: 1em; padding-right: 1em; text-align: center; vertical-align: top\">VinylSd</td>\n",
       "        <td style=\"padding-left: 1em; padding-right: 1em; text-align: center; vertical-align: top\">None</td>\n",
       "        <td style=\"padding-left: 1em; padding-right: 1em; text-align: center; vertical-align: top\">TA</td>\n",
       "        <td style=\"padding-left: 1em; padding-right: 1em; text-align: center; vertical-align: top\">TA</td>\n",
       "        <td style=\"padding-left: 1em; padding-right: 1em; text-align: center; vertical-align: top\">PConc</td>\n",
       "        <td style=\"padding-left: 1em; padding-right: 1em; text-align: center; vertical-align: top\">Gd</td>\n",
       "        <td style=\"padding-left: 1em; padding-right: 1em; text-align: center; vertical-align: top\">TA</td>\n",
       "    </tr>\n",
       "    <tr>\n",
       "        <td style=\"padding-left: 1em; padding-right: 1em; text-align: center; vertical-align: top\">Gable</td>\n",
       "        <td style=\"padding-left: 1em; padding-right: 1em; text-align: center; vertical-align: top\">CompShg</td>\n",
       "        <td style=\"padding-left: 1em; padding-right: 1em; text-align: center; vertical-align: top\">VinylSd</td>\n",
       "        <td style=\"padding-left: 1em; padding-right: 1em; text-align: center; vertical-align: top\">VinylSd</td>\n",
       "        <td style=\"padding-left: 1em; padding-right: 1em; text-align: center; vertical-align: top\">BrkFace</td>\n",
       "        <td style=\"padding-left: 1em; padding-right: 1em; text-align: center; vertical-align: top\">TA</td>\n",
       "        <td style=\"padding-left: 1em; padding-right: 1em; text-align: center; vertical-align: top\">TA</td>\n",
       "        <td style=\"padding-left: 1em; padding-right: 1em; text-align: center; vertical-align: top\">PConc</td>\n",
       "        <td style=\"padding-left: 1em; padding-right: 1em; text-align: center; vertical-align: top\">TA</td>\n",
       "        <td style=\"padding-left: 1em; padding-right: 1em; text-align: center; vertical-align: top\">TA</td>\n",
       "    </tr>\n",
       "    <tr>\n",
       "        <td style=\"padding-left: 1em; padding-right: 1em; text-align: center; vertical-align: top\">Gable</td>\n",
       "        <td style=\"padding-left: 1em; padding-right: 1em; text-align: center; vertical-align: top\">CompShg</td>\n",
       "        <td style=\"padding-left: 1em; padding-right: 1em; text-align: center; vertical-align: top\">HdBoard</td>\n",
       "        <td style=\"padding-left: 1em; padding-right: 1em; text-align: center; vertical-align: top\">HdBoard</td>\n",
       "        <td style=\"padding-left: 1em; padding-right: 1em; text-align: center; vertical-align: top\">None</td>\n",
       "        <td style=\"padding-left: 1em; padding-right: 1em; text-align: center; vertical-align: top\">Gd</td>\n",
       "        <td style=\"padding-left: 1em; padding-right: 1em; text-align: center; vertical-align: top\">TA</td>\n",
       "        <td style=\"padding-left: 1em; padding-right: 1em; text-align: center; vertical-align: top\">PConc</td>\n",
       "        <td style=\"padding-left: 1em; padding-right: 1em; text-align: center; vertical-align: top\">Gd</td>\n",
       "        <td style=\"padding-left: 1em; padding-right: 1em; text-align: center; vertical-align: top\">TA</td>\n",
       "    </tr>\n",
       "    <tr>\n",
       "        <td style=\"padding-left: 1em; padding-right: 1em; text-align: center; vertical-align: top\">Gable</td>\n",
       "        <td style=\"padding-left: 1em; padding-right: 1em; text-align: center; vertical-align: top\">CompShg</td>\n",
       "        <td style=\"padding-left: 1em; padding-right: 1em; text-align: center; vertical-align: top\">HdBoard</td>\n",
       "        <td style=\"padding-left: 1em; padding-right: 1em; text-align: center; vertical-align: top\">HdBoard</td>\n",
       "        <td style=\"padding-left: 1em; padding-right: 1em; text-align: center; vertical-align: top\">None</td>\n",
       "        <td style=\"padding-left: 1em; padding-right: 1em; text-align: center; vertical-align: top\">TA</td>\n",
       "        <td style=\"padding-left: 1em; padding-right: 1em; text-align: center; vertical-align: top\">TA</td>\n",
       "        <td style=\"padding-left: 1em; padding-right: 1em; text-align: center; vertical-align: top\">PConc</td>\n",
       "        <td style=\"padding-left: 1em; padding-right: 1em; text-align: center; vertical-align: top\">Gd</td>\n",
       "        <td style=\"padding-left: 1em; padding-right: 1em; text-align: center; vertical-align: top\">TA</td>\n",
       "    </tr>\n",
       "    <tr>\n",
       "        <td style=\"padding-left: 1em; padding-right: 1em; text-align: center; vertical-align: top\">Gable</td>\n",
       "        <td style=\"padding-left: 1em; padding-right: 1em; text-align: center; vertical-align: top\">CompShg</td>\n",
       "        <td style=\"padding-left: 1em; padding-right: 1em; text-align: center; vertical-align: top\">HdBoard</td>\n",
       "        <td style=\"padding-left: 1em; padding-right: 1em; text-align: center; vertical-align: top\">HdBoard</td>\n",
       "        <td style=\"padding-left: 1em; padding-right: 1em; text-align: center; vertical-align: top\">None</td>\n",
       "        <td style=\"padding-left: 1em; padding-right: 1em; text-align: center; vertical-align: top\">TA</td>\n",
       "        <td style=\"padding-left: 1em; padding-right: 1em; text-align: center; vertical-align: top\">Gd</td>\n",
       "        <td style=\"padding-left: 1em; padding-right: 1em; text-align: center; vertical-align: top\">PConc</td>\n",
       "        <td style=\"padding-left: 1em; padding-right: 1em; text-align: center; vertical-align: top\">Gd</td>\n",
       "        <td style=\"padding-left: 1em; padding-right: 1em; text-align: center; vertical-align: top\">TA</td>\n",
       "    </tr>\n",
       "    <tr>\n",
       "        <td style=\"padding-left: 1em; padding-right: 1em; text-align: center; vertical-align: top\">Gable</td>\n",
       "        <td style=\"padding-left: 1em; padding-right: 1em; text-align: center; vertical-align: top\">CompShg</td>\n",
       "        <td style=\"padding-left: 1em; padding-right: 1em; text-align: center; vertical-align: top\">VinylSd</td>\n",
       "        <td style=\"padding-left: 1em; padding-right: 1em; text-align: center; vertical-align: top\">VinylSd</td>\n",
       "        <td style=\"padding-left: 1em; padding-right: 1em; text-align: center; vertical-align: top\">None</td>\n",
       "        <td style=\"padding-left: 1em; padding-right: 1em; text-align: center; vertical-align: top\">TA</td>\n",
       "        <td style=\"padding-left: 1em; padding-right: 1em; text-align: center; vertical-align: top\">TA</td>\n",
       "        <td style=\"padding-left: 1em; padding-right: 1em; text-align: center; vertical-align: top\">PConc</td>\n",
       "        <td style=\"padding-left: 1em; padding-right: 1em; text-align: center; vertical-align: top\">Gd</td>\n",
       "        <td style=\"padding-left: 1em; padding-right: 1em; text-align: center; vertical-align: top\">TA</td>\n",
       "    </tr>\n",
       "    <tr>\n",
       "        <td style=\"padding-left: 1em; padding-right: 1em; text-align: center; vertical-align: top\">Gable</td>\n",
       "        <td style=\"padding-left: 1em; padding-right: 1em; text-align: center; vertical-align: top\">CompShg</td>\n",
       "        <td style=\"padding-left: 1em; padding-right: 1em; text-align: center; vertical-align: top\">HdBoard</td>\n",
       "        <td style=\"padding-left: 1em; padding-right: 1em; text-align: center; vertical-align: top\">HdBoard</td>\n",
       "        <td style=\"padding-left: 1em; padding-right: 1em; text-align: center; vertical-align: top\">None</td>\n",
       "        <td style=\"padding-left: 1em; padding-right: 1em; text-align: center; vertical-align: top\">TA</td>\n",
       "        <td style=\"padding-left: 1em; padding-right: 1em; text-align: center; vertical-align: top\">TA</td>\n",
       "        <td style=\"padding-left: 1em; padding-right: 1em; text-align: center; vertical-align: top\">PConc</td>\n",
       "        <td style=\"padding-left: 1em; padding-right: 1em; text-align: center; vertical-align: top\">Gd</td>\n",
       "        <td style=\"padding-left: 1em; padding-right: 1em; text-align: center; vertical-align: top\">TA</td>\n",
       "    </tr>\n",
       "    <tr>\n",
       "        <td style=\"padding-left: 1em; padding-right: 1em; text-align: center; vertical-align: top\">Gable</td>\n",
       "        <td style=\"padding-left: 1em; padding-right: 1em; text-align: center; vertical-align: top\">CompShg</td>\n",
       "        <td style=\"padding-left: 1em; padding-right: 1em; text-align: center; vertical-align: top\">Plywood</td>\n",
       "        <td style=\"padding-left: 1em; padding-right: 1em; text-align: center; vertical-align: top\">Plywood</td>\n",
       "        <td style=\"padding-left: 1em; padding-right: 1em; text-align: center; vertical-align: top\">None</td>\n",
       "        <td style=\"padding-left: 1em; padding-right: 1em; text-align: center; vertical-align: top\">TA</td>\n",
       "        <td style=\"padding-left: 1em; padding-right: 1em; text-align: center; vertical-align: top\">TA</td>\n",
       "        <td style=\"padding-left: 1em; padding-right: 1em; text-align: center; vertical-align: top\">CBlock</td>\n",
       "        <td style=\"padding-left: 1em; padding-right: 1em; text-align: center; vertical-align: top\">TA</td>\n",
       "        <td style=\"padding-left: 1em; padding-right: 1em; text-align: center; vertical-align: top\">TA</td>\n",
       "    </tr>\n",
       "</table>\n",
       "<table frame=\"box\" rules=\"cols\">\n",
       "    <tr>\n",
       "        <th style=\"padding-left: 1em; padding-right: 1em; text-align: center\">BsmtExposure</th>\n",
       "        <th style=\"padding-left: 1em; padding-right: 1em; text-align: center\">BsmtFinType1</th>\n",
       "        <th style=\"padding-left: 1em; padding-right: 1em; text-align: center\">BsmtFinSF1</th>\n",
       "        <th style=\"padding-left: 1em; padding-right: 1em; text-align: center\">BsmtFinType2</th>\n",
       "        <th style=\"padding-left: 1em; padding-right: 1em; text-align: center\">BsmtFinSF2</th>\n",
       "        <th style=\"padding-left: 1em; padding-right: 1em; text-align: center\">BsmtUnfSF</th>\n",
       "        <th style=\"padding-left: 1em; padding-right: 1em; text-align: center\">TotalBsmtSF</th>\n",
       "        <th style=\"padding-left: 1em; padding-right: 1em; text-align: center\">Heating</th>\n",
       "        <th style=\"padding-left: 1em; padding-right: 1em; text-align: center\">HeatingQC</th>\n",
       "    </tr>\n",
       "    <tr>\n",
       "        <td style=\"padding-left: 1em; padding-right: 1em; text-align: center; vertical-align: top\">No</td>\n",
       "        <td style=\"padding-left: 1em; padding-right: 1em; text-align: center; vertical-align: top\">Rec</td>\n",
       "        <td style=\"padding-left: 1em; padding-right: 1em; text-align: center; vertical-align: top\">468</td>\n",
       "        <td style=\"padding-left: 1em; padding-right: 1em; text-align: center; vertical-align: top\">LwQ</td>\n",
       "        <td style=\"padding-left: 1em; padding-right: 1em; text-align: center; vertical-align: top\">144</td>\n",
       "        <td style=\"padding-left: 1em; padding-right: 1em; text-align: center; vertical-align: top\">270</td>\n",
       "        <td style=\"padding-left: 1em; padding-right: 1em; text-align: center; vertical-align: top\">882</td>\n",
       "        <td style=\"padding-left: 1em; padding-right: 1em; text-align: center; vertical-align: top\">GasA</td>\n",
       "        <td style=\"padding-left: 1em; padding-right: 1em; text-align: center; vertical-align: top\">TA</td>\n",
       "    </tr>\n",
       "    <tr>\n",
       "        <td style=\"padding-left: 1em; padding-right: 1em; text-align: center; vertical-align: top\">No</td>\n",
       "        <td style=\"padding-left: 1em; padding-right: 1em; text-align: center; vertical-align: top\">ALQ</td>\n",
       "        <td style=\"padding-left: 1em; padding-right: 1em; text-align: center; vertical-align: top\">923</td>\n",
       "        <td style=\"padding-left: 1em; padding-right: 1em; text-align: center; vertical-align: top\">Unf</td>\n",
       "        <td style=\"padding-left: 1em; padding-right: 1em; text-align: center; vertical-align: top\">0</td>\n",
       "        <td style=\"padding-left: 1em; padding-right: 1em; text-align: center; vertical-align: top\">406</td>\n",
       "        <td style=\"padding-left: 1em; padding-right: 1em; text-align: center; vertical-align: top\">1329</td>\n",
       "        <td style=\"padding-left: 1em; padding-right: 1em; text-align: center; vertical-align: top\">GasA</td>\n",
       "        <td style=\"padding-left: 1em; padding-right: 1em; text-align: center; vertical-align: top\">TA</td>\n",
       "    </tr>\n",
       "    <tr>\n",
       "        <td style=\"padding-left: 1em; padding-right: 1em; text-align: center; vertical-align: top\">No</td>\n",
       "        <td style=\"padding-left: 1em; padding-right: 1em; text-align: center; vertical-align: top\">GLQ</td>\n",
       "        <td style=\"padding-left: 1em; padding-right: 1em; text-align: center; vertical-align: top\">791</td>\n",
       "        <td style=\"padding-left: 1em; padding-right: 1em; text-align: center; vertical-align: top\">Unf</td>\n",
       "        <td style=\"padding-left: 1em; padding-right: 1em; text-align: center; vertical-align: top\">0</td>\n",
       "        <td style=\"padding-left: 1em; padding-right: 1em; text-align: center; vertical-align: top\">137</td>\n",
       "        <td style=\"padding-left: 1em; padding-right: 1em; text-align: center; vertical-align: top\">928</td>\n",
       "        <td style=\"padding-left: 1em; padding-right: 1em; text-align: center; vertical-align: top\">GasA</td>\n",
       "        <td style=\"padding-left: 1em; padding-right: 1em; text-align: center; vertical-align: top\">Gd</td>\n",
       "    </tr>\n",
       "    <tr>\n",
       "        <td style=\"padding-left: 1em; padding-right: 1em; text-align: center; vertical-align: top\">No</td>\n",
       "        <td style=\"padding-left: 1em; padding-right: 1em; text-align: center; vertical-align: top\">GLQ</td>\n",
       "        <td style=\"padding-left: 1em; padding-right: 1em; text-align: center; vertical-align: top\">602</td>\n",
       "        <td style=\"padding-left: 1em; padding-right: 1em; text-align: center; vertical-align: top\">Unf</td>\n",
       "        <td style=\"padding-left: 1em; padding-right: 1em; text-align: center; vertical-align: top\">0</td>\n",
       "        <td style=\"padding-left: 1em; padding-right: 1em; text-align: center; vertical-align: top\">324</td>\n",
       "        <td style=\"padding-left: 1em; padding-right: 1em; text-align: center; vertical-align: top\">926</td>\n",
       "        <td style=\"padding-left: 1em; padding-right: 1em; text-align: center; vertical-align: top\">GasA</td>\n",
       "        <td style=\"padding-left: 1em; padding-right: 1em; text-align: center; vertical-align: top\">Ex</td>\n",
       "    </tr>\n",
       "    <tr>\n",
       "        <td style=\"padding-left: 1em; padding-right: 1em; text-align: center; vertical-align: top\">No</td>\n",
       "        <td style=\"padding-left: 1em; padding-right: 1em; text-align: center; vertical-align: top\">ALQ</td>\n",
       "        <td style=\"padding-left: 1em; padding-right: 1em; text-align: center; vertical-align: top\">263</td>\n",
       "        <td style=\"padding-left: 1em; padding-right: 1em; text-align: center; vertical-align: top\">Unf</td>\n",
       "        <td style=\"padding-left: 1em; padding-right: 1em; text-align: center; vertical-align: top\">0</td>\n",
       "        <td style=\"padding-left: 1em; padding-right: 1em; text-align: center; vertical-align: top\">1017</td>\n",
       "        <td style=\"padding-left: 1em; padding-right: 1em; text-align: center; vertical-align: top\">1280</td>\n",
       "        <td style=\"padding-left: 1em; padding-right: 1em; text-align: center; vertical-align: top\">GasA</td>\n",
       "        <td style=\"padding-left: 1em; padding-right: 1em; text-align: center; vertical-align: top\">Ex</td>\n",
       "    </tr>\n",
       "    <tr>\n",
       "        <td style=\"padding-left: 1em; padding-right: 1em; text-align: center; vertical-align: top\">No</td>\n",
       "        <td style=\"padding-left: 1em; padding-right: 1em; text-align: center; vertical-align: top\">Unf</td>\n",
       "        <td style=\"padding-left: 1em; padding-right: 1em; text-align: center; vertical-align: top\">0</td>\n",
       "        <td style=\"padding-left: 1em; padding-right: 1em; text-align: center; vertical-align: top\">Unf</td>\n",
       "        <td style=\"padding-left: 1em; padding-right: 1em; text-align: center; vertical-align: top\">0</td>\n",
       "        <td style=\"padding-left: 1em; padding-right: 1em; text-align: center; vertical-align: top\">763</td>\n",
       "        <td style=\"padding-left: 1em; padding-right: 1em; text-align: center; vertical-align: top\">763</td>\n",
       "        <td style=\"padding-left: 1em; padding-right: 1em; text-align: center; vertical-align: top\">GasA</td>\n",
       "        <td style=\"padding-left: 1em; padding-right: 1em; text-align: center; vertical-align: top\">Gd</td>\n",
       "    </tr>\n",
       "    <tr>\n",
       "        <td style=\"padding-left: 1em; padding-right: 1em; text-align: center; vertical-align: top\">No</td>\n",
       "        <td style=\"padding-left: 1em; padding-right: 1em; text-align: center; vertical-align: top\">ALQ</td>\n",
       "        <td style=\"padding-left: 1em; padding-right: 1em; text-align: center; vertical-align: top\">935</td>\n",
       "        <td style=\"padding-left: 1em; padding-right: 1em; text-align: center; vertical-align: top\">Unf</td>\n",
       "        <td style=\"padding-left: 1em; padding-right: 1em; text-align: center; vertical-align: top\">0</td>\n",
       "        <td style=\"padding-left: 1em; padding-right: 1em; text-align: center; vertical-align: top\">233</td>\n",
       "        <td style=\"padding-left: 1em; padding-right: 1em; text-align: center; vertical-align: top\">1168</td>\n",
       "        <td style=\"padding-left: 1em; padding-right: 1em; text-align: center; vertical-align: top\">GasA</td>\n",
       "        <td style=\"padding-left: 1em; padding-right: 1em; text-align: center; vertical-align: top\">Ex</td>\n",
       "    </tr>\n",
       "    <tr>\n",
       "        <td style=\"padding-left: 1em; padding-right: 1em; text-align: center; vertical-align: top\">No</td>\n",
       "        <td style=\"padding-left: 1em; padding-right: 1em; text-align: center; vertical-align: top\">Unf</td>\n",
       "        <td style=\"padding-left: 1em; padding-right: 1em; text-align: center; vertical-align: top\">0</td>\n",
       "        <td style=\"padding-left: 1em; padding-right: 1em; text-align: center; vertical-align: top\">Unf</td>\n",
       "        <td style=\"padding-left: 1em; padding-right: 1em; text-align: center; vertical-align: top\">0</td>\n",
       "        <td style=\"padding-left: 1em; padding-right: 1em; text-align: center; vertical-align: top\">789</td>\n",
       "        <td style=\"padding-left: 1em; padding-right: 1em; text-align: center; vertical-align: top\">789</td>\n",
       "        <td style=\"padding-left: 1em; padding-right: 1em; text-align: center; vertical-align: top\">GasA</td>\n",
       "        <td style=\"padding-left: 1em; padding-right: 1em; text-align: center; vertical-align: top\">Gd</td>\n",
       "    </tr>\n",
       "    <tr>\n",
       "        <td style=\"padding-left: 1em; padding-right: 1em; text-align: center; vertical-align: top\">Gd</td>\n",
       "        <td style=\"padding-left: 1em; padding-right: 1em; text-align: center; vertical-align: top\">GLQ</td>\n",
       "        <td style=\"padding-left: 1em; padding-right: 1em; text-align: center; vertical-align: top\">637</td>\n",
       "        <td style=\"padding-left: 1em; padding-right: 1em; text-align: center; vertical-align: top\">Unf</td>\n",
       "        <td style=\"padding-left: 1em; padding-right: 1em; text-align: center; vertical-align: top\">0</td>\n",
       "        <td style=\"padding-left: 1em; padding-right: 1em; text-align: center; vertical-align: top\">663</td>\n",
       "        <td style=\"padding-left: 1em; padding-right: 1em; text-align: center; vertical-align: top\">1300</td>\n",
       "        <td style=\"padding-left: 1em; padding-right: 1em; text-align: center; vertical-align: top\">GasA</td>\n",
       "        <td style=\"padding-left: 1em; padding-right: 1em; text-align: center; vertical-align: top\">Gd</td>\n",
       "    </tr>\n",
       "    <tr>\n",
       "        <td style=\"padding-left: 1em; padding-right: 1em; text-align: center; vertical-align: top\">No</td>\n",
       "        <td style=\"padding-left: 1em; padding-right: 1em; text-align: center; vertical-align: top\">ALQ</td>\n",
       "        <td style=\"padding-left: 1em; padding-right: 1em; text-align: center; vertical-align: top\">804</td>\n",
       "        <td style=\"padding-left: 1em; padding-right: 1em; text-align: center; vertical-align: top\">Rec</td>\n",
       "        <td style=\"padding-left: 1em; padding-right: 1em; text-align: center; vertical-align: top\">78</td>\n",
       "        <td style=\"padding-left: 1em; padding-right: 1em; text-align: center; vertical-align: top\">0</td>\n",
       "        <td style=\"padding-left: 1em; padding-right: 1em; text-align: center; vertical-align: top\">882</td>\n",
       "        <td style=\"padding-left: 1em; padding-right: 1em; text-align: center; vertical-align: top\">GasA</td>\n",
       "        <td style=\"padding-left: 1em; padding-right: 1em; text-align: center; vertical-align: top\">TA</td>\n",
       "    </tr>\n",
       "</table>\n",
       "<table frame=\"box\" rules=\"cols\">\n",
       "    <tr>\n",
       "        <th style=\"padding-left: 1em; padding-right: 1em; text-align: center\">CentralAir</th>\n",
       "        <th style=\"padding-left: 1em; padding-right: 1em; text-align: center\">...</th>\n",
       "    </tr>\n",
       "    <tr>\n",
       "        <td style=\"padding-left: 1em; padding-right: 1em; text-align: center; vertical-align: top\">Y</td>\n",
       "        <td style=\"padding-left: 1em; padding-right: 1em; text-align: center; vertical-align: top\">...</td>\n",
       "    </tr>\n",
       "    <tr>\n",
       "        <td style=\"padding-left: 1em; padding-right: 1em; text-align: center; vertical-align: top\">Y</td>\n",
       "        <td style=\"padding-left: 1em; padding-right: 1em; text-align: center; vertical-align: top\">...</td>\n",
       "    </tr>\n",
       "    <tr>\n",
       "        <td style=\"padding-left: 1em; padding-right: 1em; text-align: center; vertical-align: top\">Y</td>\n",
       "        <td style=\"padding-left: 1em; padding-right: 1em; text-align: center; vertical-align: top\">...</td>\n",
       "    </tr>\n",
       "    <tr>\n",
       "        <td style=\"padding-left: 1em; padding-right: 1em; text-align: center; vertical-align: top\">Y</td>\n",
       "        <td style=\"padding-left: 1em; padding-right: 1em; text-align: center; vertical-align: top\">...</td>\n",
       "    </tr>\n",
       "    <tr>\n",
       "        <td style=\"padding-left: 1em; padding-right: 1em; text-align: center; vertical-align: top\">Y</td>\n",
       "        <td style=\"padding-left: 1em; padding-right: 1em; text-align: center; vertical-align: top\">...</td>\n",
       "    </tr>\n",
       "    <tr>\n",
       "        <td style=\"padding-left: 1em; padding-right: 1em; text-align: center; vertical-align: top\">Y</td>\n",
       "        <td style=\"padding-left: 1em; padding-right: 1em; text-align: center; vertical-align: top\">...</td>\n",
       "    </tr>\n",
       "    <tr>\n",
       "        <td style=\"padding-left: 1em; padding-right: 1em; text-align: center; vertical-align: top\">Y</td>\n",
       "        <td style=\"padding-left: 1em; padding-right: 1em; text-align: center; vertical-align: top\">...</td>\n",
       "    </tr>\n",
       "    <tr>\n",
       "        <td style=\"padding-left: 1em; padding-right: 1em; text-align: center; vertical-align: top\">Y</td>\n",
       "        <td style=\"padding-left: 1em; padding-right: 1em; text-align: center; vertical-align: top\">...</td>\n",
       "    </tr>\n",
       "    <tr>\n",
       "        <td style=\"padding-left: 1em; padding-right: 1em; text-align: center; vertical-align: top\">Y</td>\n",
       "        <td style=\"padding-left: 1em; padding-right: 1em; text-align: center; vertical-align: top\">...</td>\n",
       "    </tr>\n",
       "    <tr>\n",
       "        <td style=\"padding-left: 1em; padding-right: 1em; text-align: center; vertical-align: top\">Y</td>\n",
       "        <td style=\"padding-left: 1em; padding-right: 1em; text-align: center; vertical-align: top\">...</td>\n",
       "    </tr>\n",
       "</table>\n",
       "[1459 rows x 77 columns]<br/>Note: Only the head of the SFrame is printed.<br/>You can use print_rows(num_rows=m, num_columns=n) to print more rows and columns.\n",
       "</div>"
      ],
      "text/plain": [
       "Columns:\n",
       "\tId\tint\n",
       "\tMSSubClass\tint\n",
       "\tMSZoning\tstr\n",
       "\tLotArea\tint\n",
       "\tStreet\tstr\n",
       "\tAlley\tstr\n",
       "\tLotShape\tstr\n",
       "\tLandContour\tstr\n",
       "\tUtilities\tstr\n",
       "\tLotConfig\tstr\n",
       "\tLandSlope\tstr\n",
       "\tNeighborhood\tstr\n",
       "\tCondition1\tstr\n",
       "\tCondition2\tstr\n",
       "\tBldgType\tstr\n",
       "\tHouseStyle\tstr\n",
       "\tOverallQual\tint\n",
       "\tOverallCond\tint\n",
       "\tYearBuilt\tint\n",
       "\tYearRemodAdd\tint\n",
       "\tRoofStyle\tstr\n",
       "\tRoofMatl\tstr\n",
       "\tExterior1st\tstr\n",
       "\tExterior2nd\tstr\n",
       "\tMasVnrType\tstr\n",
       "\tExterQual\tstr\n",
       "\tExterCond\tstr\n",
       "\tFoundation\tstr\n",
       "\tBsmtQual\tstr\n",
       "\tBsmtCond\tstr\n",
       "\tBsmtExposure\tstr\n",
       "\tBsmtFinType1\tstr\n",
       "\tBsmtFinSF1\tint\n",
       "\tBsmtFinType2\tstr\n",
       "\tBsmtFinSF2\tint\n",
       "\tBsmtUnfSF\tint\n",
       "\tTotalBsmtSF\tint\n",
       "\tHeating\tstr\n",
       "\tHeatingQC\tstr\n",
       "\tCentralAir\tstr\n",
       "\tElectrical\tstr\n",
       "\t1stFlrSF\tint\n",
       "\t2ndFlrSF\tint\n",
       "\tLowQualFinSF\tint\n",
       "\tGrLivArea\tint\n",
       "\tBsmtFullBath\tint\n",
       "\tBsmtHalfBath\tint\n",
       "\tFullBath\tint\n",
       "\tHalfBath\tint\n",
       "\tBedroomAbvGr\tint\n",
       "\tKitchenAbvGr\tint\n",
       "\tKitchenQual\tstr\n",
       "\tTotRmsAbvGrd\tint\n",
       "\tFunctional\tstr\n",
       "\tFireplaces\tint\n",
       "\tFireplaceQu\tstr\n",
       "\tGarageType\tstr\n",
       "\tGarageFinish\tstr\n",
       "\tGarageCars\tint\n",
       "\tGarageArea\tint\n",
       "\tGarageQual\tstr\n",
       "\tGarageCond\tstr\n",
       "\tPavedDrive\tstr\n",
       "\tWoodDeckSF\tint\n",
       "\tOpenPorchSF\tint\n",
       "\tEnclosedPorch\tint\n",
       "\t3SsnPorch\tint\n",
       "\tScreenPorch\tint\n",
       "\tPoolArea\tint\n",
       "\tPoolQC\tstr\n",
       "\tFence\tstr\n",
       "\tMiscFeature\tstr\n",
       "\tMiscVal\tint\n",
       "\tMoSold\tint\n",
       "\tYrSold\tint\n",
       "\tSaleType\tstr\n",
       "\tSaleCondition\tstr\n",
       "\n",
       "Rows: 1459\n",
       "\n",
       "Data:\n",
       "+------+------------+----------+---------+--------+-------+----------+-------------+\n",
       "|  Id  | MSSubClass | MSZoning | LotArea | Street | Alley | LotShape | LandContour |\n",
       "+------+------------+----------+---------+--------+-------+----------+-------------+\n",
       "| 1461 |     20     |    RH    |  11622  |  Pave  |  None |   Reg    |     Lvl     |\n",
       "| 1462 |     20     |    RL    |  14267  |  Pave  |  None |   IR1    |     Lvl     |\n",
       "| 1463 |     60     |    RL    |  13830  |  Pave  |  None |   IR1    |     Lvl     |\n",
       "| 1464 |     60     |    RL    |   9978  |  Pave  |  None |   IR1    |     Lvl     |\n",
       "| 1465 |    120     |    RL    |   5005  |  Pave  |  None |   IR1    |     HLS     |\n",
       "| 1466 |     60     |    RL    |  10000  |  Pave  |  None |   IR1    |     Lvl     |\n",
       "| 1467 |     20     |    RL    |   7980  |  Pave  |  None |   IR1    |     Lvl     |\n",
       "| 1468 |     60     |    RL    |   8402  |  Pave  |  None |   IR1    |     Lvl     |\n",
       "| 1469 |     20     |    RL    |  10176  |  Pave  |  None |   Reg    |     Lvl     |\n",
       "| 1470 |     20     |    RL    |   8400  |  Pave  |  None |   Reg    |     Lvl     |\n",
       "+------+------------+----------+---------+--------+-------+----------+-------------+\n",
       "+-----------+-----------+-----------+--------------+------------+------------+\n",
       "| Utilities | LotConfig | LandSlope | Neighborhood | Condition1 | Condition2 |\n",
       "+-----------+-----------+-----------+--------------+------------+------------+\n",
       "|   AllPub  |   Inside  |    Gtl    |    NAmes     |   Feedr    |    Norm    |\n",
       "|   AllPub  |   Corner  |    Gtl    |    NAmes     |    Norm    |    Norm    |\n",
       "|   AllPub  |   Inside  |    Gtl    |   Gilbert    |    Norm    |    Norm    |\n",
       "|   AllPub  |   Inside  |    Gtl    |   Gilbert    |    Norm    |    Norm    |\n",
       "|   AllPub  |   Inside  |    Gtl    |   StoneBr    |    Norm    |    Norm    |\n",
       "|   AllPub  |   Corner  |    Gtl    |   Gilbert    |    Norm    |    Norm    |\n",
       "|   AllPub  |   Inside  |    Gtl    |   Gilbert    |    Norm    |    Norm    |\n",
       "|   AllPub  |   Inside  |    Gtl    |   Gilbert    |    Norm    |    Norm    |\n",
       "|   AllPub  |   Inside  |    Gtl    |   Gilbert    |    Norm    |    Norm    |\n",
       "|   AllPub  |   Corner  |    Gtl    |    NAmes     |    Norm    |    Norm    |\n",
       "+-----------+-----------+-----------+--------------+------------+------------+\n",
       "+----------+------------+-------------+-------------+-----------+--------------+-----+\n",
       "| BldgType | HouseStyle | OverallQual | OverallCond | YearBuilt | YearRemodAdd | ... |\n",
       "+----------+------------+-------------+-------------+-----------+--------------+-----+\n",
       "|   1Fam   |   1Story   |      5      |      6      |    1961   |     1961     | ... |\n",
       "|   1Fam   |   1Story   |      6      |      6      |    1958   |     1958     | ... |\n",
       "|   1Fam   |   2Story   |      5      |      5      |    1997   |     1998     | ... |\n",
       "|   1Fam   |   2Story   |      6      |      6      |    1998   |     1998     | ... |\n",
       "|  TwnhsE  |   1Story   |      8      |      5      |    1992   |     1992     | ... |\n",
       "|   1Fam   |   2Story   |      6      |      5      |    1993   |     1994     | ... |\n",
       "|   1Fam   |   1Story   |      6      |      7      |    1992   |     2007     | ... |\n",
       "|   1Fam   |   2Story   |      6      |      5      |    1998   |     1998     | ... |\n",
       "|   1Fam   |   1Story   |      7      |      5      |    1990   |     1990     | ... |\n",
       "|   1Fam   |   1Story   |      4      |      5      |    1970   |     1970     | ... |\n",
       "+----------+------------+-------------+-------------+-----------+--------------+-----+\n",
       "[1459 rows x 77 columns]\n",
       "Note: Only the head of the SFrame is printed.\n",
       "You can use print_rows(num_rows=m, num_columns=n) to print more rows and columns."
      ]
     },
     "execution_count": 32,
     "metadata": {},
     "output_type": "execute_result"
    }
   ],
   "source": [
    "final"
   ]
  },
  {
   "cell_type": "code",
   "execution_count": 33,
   "metadata": {
    "collapsed": false,
    "scrolled": true
   },
   "outputs": [
    {
     "name": "stdout",
     "output_type": "stream",
     "text": [
      "[115259.14470962767, 177918.90415698482, 187516.87193252338, 203566.2064594656, 198191.5882028888, 172646.29725732427, 181847.4956737954, 158229.11761140003, 213176.32948049594, 122710.6282008802, 153947.71290872636, 96935.89985679934, 88029.86758973758, 148292.1825372596, 107874.1665368785, 366250.56522376655, 260499.87462285027, 312898.29690310004, 312138.3580894026, 457249.2790687045, 320819.2838789097, 202911.93527850165, 176912.08565398603, 169871.6268233895, 184686.24551031395, 188767.1643569527, 348726.4716296887, 219441.70455277612, 205949.75207989692, 256298.9575395764, 198264.7972655823, 107696.92328781536, 194246.1720234395, 291156.344831095, 298347.8194970411, 238362.1143074418, 181349.63636611955, 184789.09672997, 176209.60202480288, 162769.1299105925, 177119.8210626123, 138221.34196092206, 366381.3729767295, 236707.61480087152, 226536.57652301824, 192119.21826696553, 249633.41220716905, 196513.97641049552, 156478.40379508788, 151868.04386289307, 169568.83449135866, 174489.02902909467, 161150.5816714593, 169886.34294149285, 195081.8747807736, 156286.3943207417, 174796.1435205278, 127934.01985601796, 213656.18418005953, 123703.39073937951, 133198.9199286169, 183469.8289392136, 114944.86326377309, 116073.51183836296, 120313.60892556474, 103190.66713516071, 116417.07632547844, 126881.53044079494, 162774.10229981033, 229928.3169289609, 120801.10241892241, 95606.62886243983, 158542.13995398377, 118797.739351912, 151430.64216352737, 97596.11204548372, 49065.82381049928, 147723.23152642715, 205549.4091319914, 110614.65401537571, 143864.7601088513, 149837.78330637183, 189564.6206584408, 77147.27402922924, 117987.18009521492, 139178.24528816022, 133514.41009599733, 149800.52009383793, 130983.65413710027, 139955.53487555013, 102942.89238716027, 157785.7440887732, 163273.71861877624, 121923.08089963399, 153721.6938439884, 73094.94197287672, 153734.1913594844, 104183.02555940027, 72916.79001919995, 123473.987846206, ... ]\n"
     ]
    }
   ],
   "source": [
    "print my_features_model.predict(final)"
   ]
  },
  {
   "cell_type": "code",
   "execution_count": null,
   "metadata": {
    "collapsed": false
   },
   "outputs": [],
   "source": []
  },
  {
   "cell_type": "code",
   "execution_count": 36,
   "metadata": {
    "collapsed": false
   },
   "outputs": [
    {
     "name": "stdout",
     "output_type": "stream",
     "text": [
      "[115259.14470962767, 177918.90415698482, 187516.87193252338, 203566.2064594656, 198191.5882028888, 172646.29725732427, 181847.4956737954, 158229.11761140003, 213176.32948049594, 122710.6282008802, 153947.71290872636, 96935.89985679934, 88029.86758973758, 148292.1825372596, 107874.1665368785, 366250.56522376655, 260499.87462285027, 312898.29690310004, 312138.3580894026, 457249.2790687045, 320819.2838789097, 202911.93527850165, 176912.08565398603, 169871.6268233895, 184686.24551031395, 188767.1643569527, 348726.4716296887, 219441.70455277612, 205949.75207989692, 256298.9575395764, 198264.7972655823, 107696.92328781536, 194246.1720234395, 291156.344831095, 298347.8194970411, 238362.1143074418, 181349.63636611955, 184789.09672997, 176209.60202480288, 162769.1299105925, 177119.8210626123, 138221.34196092206, 366381.3729767295, 236707.61480087152, 226536.57652301824, 192119.21826696553, 249633.41220716905, 196513.97641049552, 156478.40379508788, 151868.04386289307, 169568.83449135866, 174489.02902909467, 161150.5816714593, 169886.34294149285, 195081.8747807736, 156286.3943207417, 174796.1435205278, 127934.01985601796, 213656.18418005953, 123703.39073937951, 133198.9199286169, 183469.8289392136, 114944.86326377309, 116073.51183836296, 120313.60892556474, 103190.66713516071, 116417.07632547844, 126881.53044079494, 162774.10229981033, 229928.3169289609, 120801.10241892241, 95606.62886243983, 158542.13995398377, 118797.739351912, 151430.64216352737, 97596.11204548372, 49065.82381049928, 147723.23152642715, 205549.4091319914, 110614.65401537571, 143864.7601088513, 149837.78330637183, 189564.6206584408, 77147.27402922924, 117987.18009521492, 139178.24528816022, 133514.41009599733, 149800.52009383793, 130983.65413710027, 139955.53487555013, 102942.89238716027, 157785.7440887732, 163273.71861877624, 121923.08089963399, 153721.6938439884, 73094.94197287672, 153734.1913594844, 104183.02555940027, 72916.79001919995, 123473.987846206, ... ]\n"
     ]
    }
   ],
   "source": [
    "import csv\n",
    "with open('output.csv', 'w') as outcsv: \n",
    "    writer = csv.writer(outcsv, delimiter=',', quotechar='|', quoting=csv.QUOTE_MINIMAL, lineterminator='\\n')\n",
    "    writer.writerow(['Id', 'SalePrice'])\n",
    "    dataPrediction = my_features_model.predict(final)\n",
    "    print dataPrediction\n",
    "    for i in xrange(0, len(final)):\n",
    "        dataId = final['Id'][i]\n",
    "        if dataPrediction[i] < 0:\n",
    "            writer.writerow([dataId, 0])\n",
    "        else:\n",
    "            writer.writerow([dataId, dataPrediction[i]])"
   ]
  },
  {
   "cell_type": "code",
   "execution_count": null,
   "metadata": {
    "collapsed": true
   },
   "outputs": [],
   "source": []
  },
  {
   "cell_type": "code",
   "execution_count": null,
   "metadata": {
    "collapsed": true
   },
   "outputs": [],
   "source": []
  },
  {
   "cell_type": "code",
   "execution_count": null,
   "metadata": {
    "collapsed": true
   },
   "outputs": [],
   "source": []
  },
  {
   "cell_type": "code",
   "execution_count": null,
   "metadata": {
    "collapsed": true
   },
   "outputs": [],
   "source": []
  },
  {
   "cell_type": "code",
   "execution_count": null,
   "metadata": {
    "collapsed": true
   },
   "outputs": [],
   "source": []
  }
 ],
 "metadata": {
  "anaconda-cloud": {},
  "kernelspec": {
   "display_name": "Python [default]",
   "language": "python",
   "name": "python2"
  },
  "language_info": {
   "codemirror_mode": {
    "name": "ipython",
    "version": 2
   },
   "file_extension": ".py",
   "mimetype": "text/x-python",
   "name": "python",
   "nbconvert_exporter": "python",
   "pygments_lexer": "ipython2",
   "version": "2.7.12"
  }
 },
 "nbformat": 4,
 "nbformat_minor": 0
}
