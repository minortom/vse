{
 "cells": [
  {
   "cell_type": "markdown",
   "metadata": {},
   "source": [
    "# Fire up graphlab Create"
   ]
  },
  {
   "cell_type": "code",
   "execution_count": 1,
   "metadata": {
    "collapsed": true
   },
   "outputs": [],
   "source": [
    "import graphlab"
   ]
  },
  {
   "cell_type": "markdown",
   "metadata": {},
   "source": [
    "# load some house sales data"
   ]
  },
  {
   "cell_type": "code",
   "execution_count": 2,
   "metadata": {
    "collapsed": false
   },
   "outputs": [
    {
     "name": "stdout",
     "output_type": "stream",
     "text": [
      "This non-commercial license of GraphLab Create for academic use is assigned to ndiehcmd@hotmail.com and will expire on December 04, 2017.\n"
     ]
    },
    {
     "name": "stderr",
     "output_type": "stream",
     "text": [
      "[INFO] graphlab.cython.cy_server: GraphLab Create v2.1 started. Logging: /tmp/graphlab_server_1480937380.log\n"
     ]
    },
    {
     "data": {
      "text/html": [
       "<pre>Finished parsing file /Users/nvanuden/Creative Cloud Files/Studie/AML/Project/train.csv</pre>"
      ],
      "text/plain": [
       "Finished parsing file /Users/nvanuden/Creative Cloud Files/Studie/AML/Project/train.csv"
      ]
     },
     "metadata": {},
     "output_type": "display_data"
    },
    {
     "data": {
      "text/html": [
       "<pre>Parsing completed. Parsed 100 lines in 0.045975 secs.</pre>"
      ],
      "text/plain": [
       "Parsing completed. Parsed 100 lines in 0.045975 secs."
      ]
     },
     "metadata": {},
     "output_type": "display_data"
    },
    {
     "name": "stdout",
     "output_type": "stream",
     "text": [
      "------------------------------------------------------\n",
      "Inferred types from first 100 line(s) of file as \n",
      "column_type_hints=[int,int,str,int,int,str,str,str,str,str,str,str,str,str,str,str,str,int,int,int,int,str,str,str,str,str,int,str,str,str,str,str,str,str,int,str,int,int,int,str,str,str,str,int,int,int,int,int,int,int,int,int,int,str,int,str,int,str,str,int,str,int,int,str,str,str,int,int,int,int,int,int,str,str,str,int,int,int,str,str,int]\n",
      "If parsing fails due to incorrect types, you can correct\n",
      "the inferred type list above and pass it to read_csv in\n",
      "the column_type_hints argument\n",
      "------------------------------------------------------\n"
     ]
    },
    {
     "data": {
      "text/html": [
       "<pre>Finished parsing file /Users/nvanuden/Creative Cloud Files/Studie/AML/Project/train.csv</pre>"
      ],
      "text/plain": [
       "Finished parsing file /Users/nvanuden/Creative Cloud Files/Studie/AML/Project/train.csv"
      ]
     },
     "metadata": {},
     "output_type": "display_data"
    },
    {
     "data": {
      "text/html": [
       "<pre>Parsing completed. Parsed 1460 lines in 0.021756 secs.</pre>"
      ],
      "text/plain": [
       "Parsing completed. Parsed 1460 lines in 0.021756 secs."
      ]
     },
     "metadata": {},
     "output_type": "display_data"
    }
   ],
   "source": [
    "sales = graphlab.SFrame('train.csv')"
   ]
  },
  {
   "cell_type": "code",
   "execution_count": 3,
   "metadata": {
    "collapsed": false,
    "scrolled": true
   },
   "outputs": [
    {
     "data": {
      "text/html": [
       "<div style=\"max-height:1000px;max-width:1500px;overflow:auto;\"><table frame=\"box\" rules=\"cols\">\n",
       "    <tr>\n",
       "        <th style=\"padding-left: 1em; padding-right: 1em; text-align: center\">Id</th>\n",
       "        <th style=\"padding-left: 1em; padding-right: 1em; text-align: center\">MSSubClass</th>\n",
       "        <th style=\"padding-left: 1em; padding-right: 1em; text-align: center\">MSZoning</th>\n",
       "        <th style=\"padding-left: 1em; padding-right: 1em; text-align: center\">LotFrontage</th>\n",
       "        <th style=\"padding-left: 1em; padding-right: 1em; text-align: center\">LotArea</th>\n",
       "        <th style=\"padding-left: 1em; padding-right: 1em; text-align: center\">Street</th>\n",
       "        <th style=\"padding-left: 1em; padding-right: 1em; text-align: center\">Alley</th>\n",
       "        <th style=\"padding-left: 1em; padding-right: 1em; text-align: center\">LotShape</th>\n",
       "        <th style=\"padding-left: 1em; padding-right: 1em; text-align: center\">LandContour</th>\n",
       "        <th style=\"padding-left: 1em; padding-right: 1em; text-align: center\">Utilities</th>\n",
       "        <th style=\"padding-left: 1em; padding-right: 1em; text-align: center\">LotConfig</th>\n",
       "    </tr>\n",
       "    <tr>\n",
       "        <td style=\"padding-left: 1em; padding-right: 1em; text-align: center; vertical-align: top\">1</td>\n",
       "        <td style=\"padding-left: 1em; padding-right: 1em; text-align: center; vertical-align: top\">60</td>\n",
       "        <td style=\"padding-left: 1em; padding-right: 1em; text-align: center; vertical-align: top\">RL</td>\n",
       "        <td style=\"padding-left: 1em; padding-right: 1em; text-align: center; vertical-align: top\">65</td>\n",
       "        <td style=\"padding-left: 1em; padding-right: 1em; text-align: center; vertical-align: top\">8450</td>\n",
       "        <td style=\"padding-left: 1em; padding-right: 1em; text-align: center; vertical-align: top\">Pave</td>\n",
       "        <td style=\"padding-left: 1em; padding-right: 1em; text-align: center; vertical-align: top\">None</td>\n",
       "        <td style=\"padding-left: 1em; padding-right: 1em; text-align: center; vertical-align: top\">Reg</td>\n",
       "        <td style=\"padding-left: 1em; padding-right: 1em; text-align: center; vertical-align: top\">Lvl</td>\n",
       "        <td style=\"padding-left: 1em; padding-right: 1em; text-align: center; vertical-align: top\">AllPub</td>\n",
       "        <td style=\"padding-left: 1em; padding-right: 1em; text-align: center; vertical-align: top\">Inside</td>\n",
       "    </tr>\n",
       "    <tr>\n",
       "        <td style=\"padding-left: 1em; padding-right: 1em; text-align: center; vertical-align: top\">2</td>\n",
       "        <td style=\"padding-left: 1em; padding-right: 1em; text-align: center; vertical-align: top\">20</td>\n",
       "        <td style=\"padding-left: 1em; padding-right: 1em; text-align: center; vertical-align: top\">RL</td>\n",
       "        <td style=\"padding-left: 1em; padding-right: 1em; text-align: center; vertical-align: top\">80</td>\n",
       "        <td style=\"padding-left: 1em; padding-right: 1em; text-align: center; vertical-align: top\">9600</td>\n",
       "        <td style=\"padding-left: 1em; padding-right: 1em; text-align: center; vertical-align: top\">Pave</td>\n",
       "        <td style=\"padding-left: 1em; padding-right: 1em; text-align: center; vertical-align: top\">None</td>\n",
       "        <td style=\"padding-left: 1em; padding-right: 1em; text-align: center; vertical-align: top\">Reg</td>\n",
       "        <td style=\"padding-left: 1em; padding-right: 1em; text-align: center; vertical-align: top\">Lvl</td>\n",
       "        <td style=\"padding-left: 1em; padding-right: 1em; text-align: center; vertical-align: top\">AllPub</td>\n",
       "        <td style=\"padding-left: 1em; padding-right: 1em; text-align: center; vertical-align: top\">FR2</td>\n",
       "    </tr>\n",
       "    <tr>\n",
       "        <td style=\"padding-left: 1em; padding-right: 1em; text-align: center; vertical-align: top\">3</td>\n",
       "        <td style=\"padding-left: 1em; padding-right: 1em; text-align: center; vertical-align: top\">60</td>\n",
       "        <td style=\"padding-left: 1em; padding-right: 1em; text-align: center; vertical-align: top\">RL</td>\n",
       "        <td style=\"padding-left: 1em; padding-right: 1em; text-align: center; vertical-align: top\">68</td>\n",
       "        <td style=\"padding-left: 1em; padding-right: 1em; text-align: center; vertical-align: top\">11250</td>\n",
       "        <td style=\"padding-left: 1em; padding-right: 1em; text-align: center; vertical-align: top\">Pave</td>\n",
       "        <td style=\"padding-left: 1em; padding-right: 1em; text-align: center; vertical-align: top\">None</td>\n",
       "        <td style=\"padding-left: 1em; padding-right: 1em; text-align: center; vertical-align: top\">IR1</td>\n",
       "        <td style=\"padding-left: 1em; padding-right: 1em; text-align: center; vertical-align: top\">Lvl</td>\n",
       "        <td style=\"padding-left: 1em; padding-right: 1em; text-align: center; vertical-align: top\">AllPub</td>\n",
       "        <td style=\"padding-left: 1em; padding-right: 1em; text-align: center; vertical-align: top\">Inside</td>\n",
       "    </tr>\n",
       "    <tr>\n",
       "        <td style=\"padding-left: 1em; padding-right: 1em; text-align: center; vertical-align: top\">4</td>\n",
       "        <td style=\"padding-left: 1em; padding-right: 1em; text-align: center; vertical-align: top\">70</td>\n",
       "        <td style=\"padding-left: 1em; padding-right: 1em; text-align: center; vertical-align: top\">RL</td>\n",
       "        <td style=\"padding-left: 1em; padding-right: 1em; text-align: center; vertical-align: top\">60</td>\n",
       "        <td style=\"padding-left: 1em; padding-right: 1em; text-align: center; vertical-align: top\">9550</td>\n",
       "        <td style=\"padding-left: 1em; padding-right: 1em; text-align: center; vertical-align: top\">Pave</td>\n",
       "        <td style=\"padding-left: 1em; padding-right: 1em; text-align: center; vertical-align: top\">None</td>\n",
       "        <td style=\"padding-left: 1em; padding-right: 1em; text-align: center; vertical-align: top\">IR1</td>\n",
       "        <td style=\"padding-left: 1em; padding-right: 1em; text-align: center; vertical-align: top\">Lvl</td>\n",
       "        <td style=\"padding-left: 1em; padding-right: 1em; text-align: center; vertical-align: top\">AllPub</td>\n",
       "        <td style=\"padding-left: 1em; padding-right: 1em; text-align: center; vertical-align: top\">Corner</td>\n",
       "    </tr>\n",
       "    <tr>\n",
       "        <td style=\"padding-left: 1em; padding-right: 1em; text-align: center; vertical-align: top\">5</td>\n",
       "        <td style=\"padding-left: 1em; padding-right: 1em; text-align: center; vertical-align: top\">60</td>\n",
       "        <td style=\"padding-left: 1em; padding-right: 1em; text-align: center; vertical-align: top\">RL</td>\n",
       "        <td style=\"padding-left: 1em; padding-right: 1em; text-align: center; vertical-align: top\">84</td>\n",
       "        <td style=\"padding-left: 1em; padding-right: 1em; text-align: center; vertical-align: top\">14260</td>\n",
       "        <td style=\"padding-left: 1em; padding-right: 1em; text-align: center; vertical-align: top\">Pave</td>\n",
       "        <td style=\"padding-left: 1em; padding-right: 1em; text-align: center; vertical-align: top\">None</td>\n",
       "        <td style=\"padding-left: 1em; padding-right: 1em; text-align: center; vertical-align: top\">IR1</td>\n",
       "        <td style=\"padding-left: 1em; padding-right: 1em; text-align: center; vertical-align: top\">Lvl</td>\n",
       "        <td style=\"padding-left: 1em; padding-right: 1em; text-align: center; vertical-align: top\">AllPub</td>\n",
       "        <td style=\"padding-left: 1em; padding-right: 1em; text-align: center; vertical-align: top\">FR2</td>\n",
       "    </tr>\n",
       "    <tr>\n",
       "        <td style=\"padding-left: 1em; padding-right: 1em; text-align: center; vertical-align: top\">6</td>\n",
       "        <td style=\"padding-left: 1em; padding-right: 1em; text-align: center; vertical-align: top\">50</td>\n",
       "        <td style=\"padding-left: 1em; padding-right: 1em; text-align: center; vertical-align: top\">RL</td>\n",
       "        <td style=\"padding-left: 1em; padding-right: 1em; text-align: center; vertical-align: top\">85</td>\n",
       "        <td style=\"padding-left: 1em; padding-right: 1em; text-align: center; vertical-align: top\">14115</td>\n",
       "        <td style=\"padding-left: 1em; padding-right: 1em; text-align: center; vertical-align: top\">Pave</td>\n",
       "        <td style=\"padding-left: 1em; padding-right: 1em; text-align: center; vertical-align: top\">None</td>\n",
       "        <td style=\"padding-left: 1em; padding-right: 1em; text-align: center; vertical-align: top\">IR1</td>\n",
       "        <td style=\"padding-left: 1em; padding-right: 1em; text-align: center; vertical-align: top\">Lvl</td>\n",
       "        <td style=\"padding-left: 1em; padding-right: 1em; text-align: center; vertical-align: top\">AllPub</td>\n",
       "        <td style=\"padding-left: 1em; padding-right: 1em; text-align: center; vertical-align: top\">Inside</td>\n",
       "    </tr>\n",
       "    <tr>\n",
       "        <td style=\"padding-left: 1em; padding-right: 1em; text-align: center; vertical-align: top\">7</td>\n",
       "        <td style=\"padding-left: 1em; padding-right: 1em; text-align: center; vertical-align: top\">20</td>\n",
       "        <td style=\"padding-left: 1em; padding-right: 1em; text-align: center; vertical-align: top\">RL</td>\n",
       "        <td style=\"padding-left: 1em; padding-right: 1em; text-align: center; vertical-align: top\">75</td>\n",
       "        <td style=\"padding-left: 1em; padding-right: 1em; text-align: center; vertical-align: top\">10084</td>\n",
       "        <td style=\"padding-left: 1em; padding-right: 1em; text-align: center; vertical-align: top\">Pave</td>\n",
       "        <td style=\"padding-left: 1em; padding-right: 1em; text-align: center; vertical-align: top\">None</td>\n",
       "        <td style=\"padding-left: 1em; padding-right: 1em; text-align: center; vertical-align: top\">Reg</td>\n",
       "        <td style=\"padding-left: 1em; padding-right: 1em; text-align: center; vertical-align: top\">Lvl</td>\n",
       "        <td style=\"padding-left: 1em; padding-right: 1em; text-align: center; vertical-align: top\">AllPub</td>\n",
       "        <td style=\"padding-left: 1em; padding-right: 1em; text-align: center; vertical-align: top\">Inside</td>\n",
       "    </tr>\n",
       "    <tr>\n",
       "        <td style=\"padding-left: 1em; padding-right: 1em; text-align: center; vertical-align: top\">8</td>\n",
       "        <td style=\"padding-left: 1em; padding-right: 1em; text-align: center; vertical-align: top\">60</td>\n",
       "        <td style=\"padding-left: 1em; padding-right: 1em; text-align: center; vertical-align: top\">RL</td>\n",
       "        <td style=\"padding-left: 1em; padding-right: 1em; text-align: center; vertical-align: top\">None</td>\n",
       "        <td style=\"padding-left: 1em; padding-right: 1em; text-align: center; vertical-align: top\">10382</td>\n",
       "        <td style=\"padding-left: 1em; padding-right: 1em; text-align: center; vertical-align: top\">Pave</td>\n",
       "        <td style=\"padding-left: 1em; padding-right: 1em; text-align: center; vertical-align: top\">None</td>\n",
       "        <td style=\"padding-left: 1em; padding-right: 1em; text-align: center; vertical-align: top\">IR1</td>\n",
       "        <td style=\"padding-left: 1em; padding-right: 1em; text-align: center; vertical-align: top\">Lvl</td>\n",
       "        <td style=\"padding-left: 1em; padding-right: 1em; text-align: center; vertical-align: top\">AllPub</td>\n",
       "        <td style=\"padding-left: 1em; padding-right: 1em; text-align: center; vertical-align: top\">Corner</td>\n",
       "    </tr>\n",
       "    <tr>\n",
       "        <td style=\"padding-left: 1em; padding-right: 1em; text-align: center; vertical-align: top\">9</td>\n",
       "        <td style=\"padding-left: 1em; padding-right: 1em; text-align: center; vertical-align: top\">50</td>\n",
       "        <td style=\"padding-left: 1em; padding-right: 1em; text-align: center; vertical-align: top\">RM</td>\n",
       "        <td style=\"padding-left: 1em; padding-right: 1em; text-align: center; vertical-align: top\">51</td>\n",
       "        <td style=\"padding-left: 1em; padding-right: 1em; text-align: center; vertical-align: top\">6120</td>\n",
       "        <td style=\"padding-left: 1em; padding-right: 1em; text-align: center; vertical-align: top\">Pave</td>\n",
       "        <td style=\"padding-left: 1em; padding-right: 1em; text-align: center; vertical-align: top\">None</td>\n",
       "        <td style=\"padding-left: 1em; padding-right: 1em; text-align: center; vertical-align: top\">Reg</td>\n",
       "        <td style=\"padding-left: 1em; padding-right: 1em; text-align: center; vertical-align: top\">Lvl</td>\n",
       "        <td style=\"padding-left: 1em; padding-right: 1em; text-align: center; vertical-align: top\">AllPub</td>\n",
       "        <td style=\"padding-left: 1em; padding-right: 1em; text-align: center; vertical-align: top\">Inside</td>\n",
       "    </tr>\n",
       "    <tr>\n",
       "        <td style=\"padding-left: 1em; padding-right: 1em; text-align: center; vertical-align: top\">10</td>\n",
       "        <td style=\"padding-left: 1em; padding-right: 1em; text-align: center; vertical-align: top\">190</td>\n",
       "        <td style=\"padding-left: 1em; padding-right: 1em; text-align: center; vertical-align: top\">RL</td>\n",
       "        <td style=\"padding-left: 1em; padding-right: 1em; text-align: center; vertical-align: top\">50</td>\n",
       "        <td style=\"padding-left: 1em; padding-right: 1em; text-align: center; vertical-align: top\">7420</td>\n",
       "        <td style=\"padding-left: 1em; padding-right: 1em; text-align: center; vertical-align: top\">Pave</td>\n",
       "        <td style=\"padding-left: 1em; padding-right: 1em; text-align: center; vertical-align: top\">None</td>\n",
       "        <td style=\"padding-left: 1em; padding-right: 1em; text-align: center; vertical-align: top\">Reg</td>\n",
       "        <td style=\"padding-left: 1em; padding-right: 1em; text-align: center; vertical-align: top\">Lvl</td>\n",
       "        <td style=\"padding-left: 1em; padding-right: 1em; text-align: center; vertical-align: top\">AllPub</td>\n",
       "        <td style=\"padding-left: 1em; padding-right: 1em; text-align: center; vertical-align: top\">Corner</td>\n",
       "    </tr>\n",
       "</table>\n",
       "<table frame=\"box\" rules=\"cols\">\n",
       "    <tr>\n",
       "        <th style=\"padding-left: 1em; padding-right: 1em; text-align: center\">LandSlope</th>\n",
       "        <th style=\"padding-left: 1em; padding-right: 1em; text-align: center\">Neighborhood</th>\n",
       "        <th style=\"padding-left: 1em; padding-right: 1em; text-align: center\">Condition1</th>\n",
       "        <th style=\"padding-left: 1em; padding-right: 1em; text-align: center\">Condition2</th>\n",
       "        <th style=\"padding-left: 1em; padding-right: 1em; text-align: center\">BldgType</th>\n",
       "        <th style=\"padding-left: 1em; padding-right: 1em; text-align: center\">HouseStyle</th>\n",
       "        <th style=\"padding-left: 1em; padding-right: 1em; text-align: center\">OverallQual</th>\n",
       "        <th style=\"padding-left: 1em; padding-right: 1em; text-align: center\">OverallCond</th>\n",
       "        <th style=\"padding-left: 1em; padding-right: 1em; text-align: center\">YearBuilt</th>\n",
       "    </tr>\n",
       "    <tr>\n",
       "        <td style=\"padding-left: 1em; padding-right: 1em; text-align: center; vertical-align: top\">Gtl</td>\n",
       "        <td style=\"padding-left: 1em; padding-right: 1em; text-align: center; vertical-align: top\">CollgCr</td>\n",
       "        <td style=\"padding-left: 1em; padding-right: 1em; text-align: center; vertical-align: top\">Norm</td>\n",
       "        <td style=\"padding-left: 1em; padding-right: 1em; text-align: center; vertical-align: top\">Norm</td>\n",
       "        <td style=\"padding-left: 1em; padding-right: 1em; text-align: center; vertical-align: top\">1Fam</td>\n",
       "        <td style=\"padding-left: 1em; padding-right: 1em; text-align: center; vertical-align: top\">2Story</td>\n",
       "        <td style=\"padding-left: 1em; padding-right: 1em; text-align: center; vertical-align: top\">7</td>\n",
       "        <td style=\"padding-left: 1em; padding-right: 1em; text-align: center; vertical-align: top\">5</td>\n",
       "        <td style=\"padding-left: 1em; padding-right: 1em; text-align: center; vertical-align: top\">2003</td>\n",
       "    </tr>\n",
       "    <tr>\n",
       "        <td style=\"padding-left: 1em; padding-right: 1em; text-align: center; vertical-align: top\">Gtl</td>\n",
       "        <td style=\"padding-left: 1em; padding-right: 1em; text-align: center; vertical-align: top\">Veenker</td>\n",
       "        <td style=\"padding-left: 1em; padding-right: 1em; text-align: center; vertical-align: top\">Feedr</td>\n",
       "        <td style=\"padding-left: 1em; padding-right: 1em; text-align: center; vertical-align: top\">Norm</td>\n",
       "        <td style=\"padding-left: 1em; padding-right: 1em; text-align: center; vertical-align: top\">1Fam</td>\n",
       "        <td style=\"padding-left: 1em; padding-right: 1em; text-align: center; vertical-align: top\">1Story</td>\n",
       "        <td style=\"padding-left: 1em; padding-right: 1em; text-align: center; vertical-align: top\">6</td>\n",
       "        <td style=\"padding-left: 1em; padding-right: 1em; text-align: center; vertical-align: top\">8</td>\n",
       "        <td style=\"padding-left: 1em; padding-right: 1em; text-align: center; vertical-align: top\">1976</td>\n",
       "    </tr>\n",
       "    <tr>\n",
       "        <td style=\"padding-left: 1em; padding-right: 1em; text-align: center; vertical-align: top\">Gtl</td>\n",
       "        <td style=\"padding-left: 1em; padding-right: 1em; text-align: center; vertical-align: top\">CollgCr</td>\n",
       "        <td style=\"padding-left: 1em; padding-right: 1em; text-align: center; vertical-align: top\">Norm</td>\n",
       "        <td style=\"padding-left: 1em; padding-right: 1em; text-align: center; vertical-align: top\">Norm</td>\n",
       "        <td style=\"padding-left: 1em; padding-right: 1em; text-align: center; vertical-align: top\">1Fam</td>\n",
       "        <td style=\"padding-left: 1em; padding-right: 1em; text-align: center; vertical-align: top\">2Story</td>\n",
       "        <td style=\"padding-left: 1em; padding-right: 1em; text-align: center; vertical-align: top\">7</td>\n",
       "        <td style=\"padding-left: 1em; padding-right: 1em; text-align: center; vertical-align: top\">5</td>\n",
       "        <td style=\"padding-left: 1em; padding-right: 1em; text-align: center; vertical-align: top\">2001</td>\n",
       "    </tr>\n",
       "    <tr>\n",
       "        <td style=\"padding-left: 1em; padding-right: 1em; text-align: center; vertical-align: top\">Gtl</td>\n",
       "        <td style=\"padding-left: 1em; padding-right: 1em; text-align: center; vertical-align: top\">Crawfor</td>\n",
       "        <td style=\"padding-left: 1em; padding-right: 1em; text-align: center; vertical-align: top\">Norm</td>\n",
       "        <td style=\"padding-left: 1em; padding-right: 1em; text-align: center; vertical-align: top\">Norm</td>\n",
       "        <td style=\"padding-left: 1em; padding-right: 1em; text-align: center; vertical-align: top\">1Fam</td>\n",
       "        <td style=\"padding-left: 1em; padding-right: 1em; text-align: center; vertical-align: top\">2Story</td>\n",
       "        <td style=\"padding-left: 1em; padding-right: 1em; text-align: center; vertical-align: top\">7</td>\n",
       "        <td style=\"padding-left: 1em; padding-right: 1em; text-align: center; vertical-align: top\">5</td>\n",
       "        <td style=\"padding-left: 1em; padding-right: 1em; text-align: center; vertical-align: top\">1915</td>\n",
       "    </tr>\n",
       "    <tr>\n",
       "        <td style=\"padding-left: 1em; padding-right: 1em; text-align: center; vertical-align: top\">Gtl</td>\n",
       "        <td style=\"padding-left: 1em; padding-right: 1em; text-align: center; vertical-align: top\">NoRidge</td>\n",
       "        <td style=\"padding-left: 1em; padding-right: 1em; text-align: center; vertical-align: top\">Norm</td>\n",
       "        <td style=\"padding-left: 1em; padding-right: 1em; text-align: center; vertical-align: top\">Norm</td>\n",
       "        <td style=\"padding-left: 1em; padding-right: 1em; text-align: center; vertical-align: top\">1Fam</td>\n",
       "        <td style=\"padding-left: 1em; padding-right: 1em; text-align: center; vertical-align: top\">2Story</td>\n",
       "        <td style=\"padding-left: 1em; padding-right: 1em; text-align: center; vertical-align: top\">8</td>\n",
       "        <td style=\"padding-left: 1em; padding-right: 1em; text-align: center; vertical-align: top\">5</td>\n",
       "        <td style=\"padding-left: 1em; padding-right: 1em; text-align: center; vertical-align: top\">2000</td>\n",
       "    </tr>\n",
       "    <tr>\n",
       "        <td style=\"padding-left: 1em; padding-right: 1em; text-align: center; vertical-align: top\">Gtl</td>\n",
       "        <td style=\"padding-left: 1em; padding-right: 1em; text-align: center; vertical-align: top\">Mitchel</td>\n",
       "        <td style=\"padding-left: 1em; padding-right: 1em; text-align: center; vertical-align: top\">Norm</td>\n",
       "        <td style=\"padding-left: 1em; padding-right: 1em; text-align: center; vertical-align: top\">Norm</td>\n",
       "        <td style=\"padding-left: 1em; padding-right: 1em; text-align: center; vertical-align: top\">1Fam</td>\n",
       "        <td style=\"padding-left: 1em; padding-right: 1em; text-align: center; vertical-align: top\">1.5Fin</td>\n",
       "        <td style=\"padding-left: 1em; padding-right: 1em; text-align: center; vertical-align: top\">5</td>\n",
       "        <td style=\"padding-left: 1em; padding-right: 1em; text-align: center; vertical-align: top\">5</td>\n",
       "        <td style=\"padding-left: 1em; padding-right: 1em; text-align: center; vertical-align: top\">1993</td>\n",
       "    </tr>\n",
       "    <tr>\n",
       "        <td style=\"padding-left: 1em; padding-right: 1em; text-align: center; vertical-align: top\">Gtl</td>\n",
       "        <td style=\"padding-left: 1em; padding-right: 1em; text-align: center; vertical-align: top\">Somerst</td>\n",
       "        <td style=\"padding-left: 1em; padding-right: 1em; text-align: center; vertical-align: top\">Norm</td>\n",
       "        <td style=\"padding-left: 1em; padding-right: 1em; text-align: center; vertical-align: top\">Norm</td>\n",
       "        <td style=\"padding-left: 1em; padding-right: 1em; text-align: center; vertical-align: top\">1Fam</td>\n",
       "        <td style=\"padding-left: 1em; padding-right: 1em; text-align: center; vertical-align: top\">1Story</td>\n",
       "        <td style=\"padding-left: 1em; padding-right: 1em; text-align: center; vertical-align: top\">8</td>\n",
       "        <td style=\"padding-left: 1em; padding-right: 1em; text-align: center; vertical-align: top\">5</td>\n",
       "        <td style=\"padding-left: 1em; padding-right: 1em; text-align: center; vertical-align: top\">2004</td>\n",
       "    </tr>\n",
       "    <tr>\n",
       "        <td style=\"padding-left: 1em; padding-right: 1em; text-align: center; vertical-align: top\">Gtl</td>\n",
       "        <td style=\"padding-left: 1em; padding-right: 1em; text-align: center; vertical-align: top\">NWAmes</td>\n",
       "        <td style=\"padding-left: 1em; padding-right: 1em; text-align: center; vertical-align: top\">PosN</td>\n",
       "        <td style=\"padding-left: 1em; padding-right: 1em; text-align: center; vertical-align: top\">Norm</td>\n",
       "        <td style=\"padding-left: 1em; padding-right: 1em; text-align: center; vertical-align: top\">1Fam</td>\n",
       "        <td style=\"padding-left: 1em; padding-right: 1em; text-align: center; vertical-align: top\">2Story</td>\n",
       "        <td style=\"padding-left: 1em; padding-right: 1em; text-align: center; vertical-align: top\">7</td>\n",
       "        <td style=\"padding-left: 1em; padding-right: 1em; text-align: center; vertical-align: top\">6</td>\n",
       "        <td style=\"padding-left: 1em; padding-right: 1em; text-align: center; vertical-align: top\">1973</td>\n",
       "    </tr>\n",
       "    <tr>\n",
       "        <td style=\"padding-left: 1em; padding-right: 1em; text-align: center; vertical-align: top\">Gtl</td>\n",
       "        <td style=\"padding-left: 1em; padding-right: 1em; text-align: center; vertical-align: top\">OldTown</td>\n",
       "        <td style=\"padding-left: 1em; padding-right: 1em; text-align: center; vertical-align: top\">Artery</td>\n",
       "        <td style=\"padding-left: 1em; padding-right: 1em; text-align: center; vertical-align: top\">Norm</td>\n",
       "        <td style=\"padding-left: 1em; padding-right: 1em; text-align: center; vertical-align: top\">1Fam</td>\n",
       "        <td style=\"padding-left: 1em; padding-right: 1em; text-align: center; vertical-align: top\">1.5Fin</td>\n",
       "        <td style=\"padding-left: 1em; padding-right: 1em; text-align: center; vertical-align: top\">7</td>\n",
       "        <td style=\"padding-left: 1em; padding-right: 1em; text-align: center; vertical-align: top\">5</td>\n",
       "        <td style=\"padding-left: 1em; padding-right: 1em; text-align: center; vertical-align: top\">1931</td>\n",
       "    </tr>\n",
       "    <tr>\n",
       "        <td style=\"padding-left: 1em; padding-right: 1em; text-align: center; vertical-align: top\">Gtl</td>\n",
       "        <td style=\"padding-left: 1em; padding-right: 1em; text-align: center; vertical-align: top\">BrkSide</td>\n",
       "        <td style=\"padding-left: 1em; padding-right: 1em; text-align: center; vertical-align: top\">Artery</td>\n",
       "        <td style=\"padding-left: 1em; padding-right: 1em; text-align: center; vertical-align: top\">Artery</td>\n",
       "        <td style=\"padding-left: 1em; padding-right: 1em; text-align: center; vertical-align: top\">2fmCon</td>\n",
       "        <td style=\"padding-left: 1em; padding-right: 1em; text-align: center; vertical-align: top\">1.5Unf</td>\n",
       "        <td style=\"padding-left: 1em; padding-right: 1em; text-align: center; vertical-align: top\">5</td>\n",
       "        <td style=\"padding-left: 1em; padding-right: 1em; text-align: center; vertical-align: top\">6</td>\n",
       "        <td style=\"padding-left: 1em; padding-right: 1em; text-align: center; vertical-align: top\">1939</td>\n",
       "    </tr>\n",
       "</table>\n",
       "<table frame=\"box\" rules=\"cols\">\n",
       "    <tr>\n",
       "        <th style=\"padding-left: 1em; padding-right: 1em; text-align: center\">YearRemodAdd</th>\n",
       "        <th style=\"padding-left: 1em; padding-right: 1em; text-align: center\">RoofStyle</th>\n",
       "        <th style=\"padding-left: 1em; padding-right: 1em; text-align: center\">RoofMatl</th>\n",
       "        <th style=\"padding-left: 1em; padding-right: 1em; text-align: center\">Exterior1st</th>\n",
       "        <th style=\"padding-left: 1em; padding-right: 1em; text-align: center\">Exterior2nd</th>\n",
       "        <th style=\"padding-left: 1em; padding-right: 1em; text-align: center\">MasVnrType</th>\n",
       "        <th style=\"padding-left: 1em; padding-right: 1em; text-align: center\">MasVnrArea</th>\n",
       "        <th style=\"padding-left: 1em; padding-right: 1em; text-align: center\">ExterQual</th>\n",
       "        <th style=\"padding-left: 1em; padding-right: 1em; text-align: center\">ExterCond</th>\n",
       "    </tr>\n",
       "    <tr>\n",
       "        <td style=\"padding-left: 1em; padding-right: 1em; text-align: center; vertical-align: top\">2003</td>\n",
       "        <td style=\"padding-left: 1em; padding-right: 1em; text-align: center; vertical-align: top\">Gable</td>\n",
       "        <td style=\"padding-left: 1em; padding-right: 1em; text-align: center; vertical-align: top\">CompShg</td>\n",
       "        <td style=\"padding-left: 1em; padding-right: 1em; text-align: center; vertical-align: top\">VinylSd</td>\n",
       "        <td style=\"padding-left: 1em; padding-right: 1em; text-align: center; vertical-align: top\">VinylSd</td>\n",
       "        <td style=\"padding-left: 1em; padding-right: 1em; text-align: center; vertical-align: top\">BrkFace</td>\n",
       "        <td style=\"padding-left: 1em; padding-right: 1em; text-align: center; vertical-align: top\">196</td>\n",
       "        <td style=\"padding-left: 1em; padding-right: 1em; text-align: center; vertical-align: top\">Gd</td>\n",
       "        <td style=\"padding-left: 1em; padding-right: 1em; text-align: center; vertical-align: top\">TA</td>\n",
       "    </tr>\n",
       "    <tr>\n",
       "        <td style=\"padding-left: 1em; padding-right: 1em; text-align: center; vertical-align: top\">1976</td>\n",
       "        <td style=\"padding-left: 1em; padding-right: 1em; text-align: center; vertical-align: top\">Gable</td>\n",
       "        <td style=\"padding-left: 1em; padding-right: 1em; text-align: center; vertical-align: top\">CompShg</td>\n",
       "        <td style=\"padding-left: 1em; padding-right: 1em; text-align: center; vertical-align: top\">MetalSd</td>\n",
       "        <td style=\"padding-left: 1em; padding-right: 1em; text-align: center; vertical-align: top\">MetalSd</td>\n",
       "        <td style=\"padding-left: 1em; padding-right: 1em; text-align: center; vertical-align: top\">None</td>\n",
       "        <td style=\"padding-left: 1em; padding-right: 1em; text-align: center; vertical-align: top\">0</td>\n",
       "        <td style=\"padding-left: 1em; padding-right: 1em; text-align: center; vertical-align: top\">TA</td>\n",
       "        <td style=\"padding-left: 1em; padding-right: 1em; text-align: center; vertical-align: top\">TA</td>\n",
       "    </tr>\n",
       "    <tr>\n",
       "        <td style=\"padding-left: 1em; padding-right: 1em; text-align: center; vertical-align: top\">2002</td>\n",
       "        <td style=\"padding-left: 1em; padding-right: 1em; text-align: center; vertical-align: top\">Gable</td>\n",
       "        <td style=\"padding-left: 1em; padding-right: 1em; text-align: center; vertical-align: top\">CompShg</td>\n",
       "        <td style=\"padding-left: 1em; padding-right: 1em; text-align: center; vertical-align: top\">VinylSd</td>\n",
       "        <td style=\"padding-left: 1em; padding-right: 1em; text-align: center; vertical-align: top\">VinylSd</td>\n",
       "        <td style=\"padding-left: 1em; padding-right: 1em; text-align: center; vertical-align: top\">BrkFace</td>\n",
       "        <td style=\"padding-left: 1em; padding-right: 1em; text-align: center; vertical-align: top\">162</td>\n",
       "        <td style=\"padding-left: 1em; padding-right: 1em; text-align: center; vertical-align: top\">Gd</td>\n",
       "        <td style=\"padding-left: 1em; padding-right: 1em; text-align: center; vertical-align: top\">TA</td>\n",
       "    </tr>\n",
       "    <tr>\n",
       "        <td style=\"padding-left: 1em; padding-right: 1em; text-align: center; vertical-align: top\">1970</td>\n",
       "        <td style=\"padding-left: 1em; padding-right: 1em; text-align: center; vertical-align: top\">Gable</td>\n",
       "        <td style=\"padding-left: 1em; padding-right: 1em; text-align: center; vertical-align: top\">CompShg</td>\n",
       "        <td style=\"padding-left: 1em; padding-right: 1em; text-align: center; vertical-align: top\">Wd Sdng</td>\n",
       "        <td style=\"padding-left: 1em; padding-right: 1em; text-align: center; vertical-align: top\">Wd Shng</td>\n",
       "        <td style=\"padding-left: 1em; padding-right: 1em; text-align: center; vertical-align: top\">None</td>\n",
       "        <td style=\"padding-left: 1em; padding-right: 1em; text-align: center; vertical-align: top\">0</td>\n",
       "        <td style=\"padding-left: 1em; padding-right: 1em; text-align: center; vertical-align: top\">TA</td>\n",
       "        <td style=\"padding-left: 1em; padding-right: 1em; text-align: center; vertical-align: top\">TA</td>\n",
       "    </tr>\n",
       "    <tr>\n",
       "        <td style=\"padding-left: 1em; padding-right: 1em; text-align: center; vertical-align: top\">2000</td>\n",
       "        <td style=\"padding-left: 1em; padding-right: 1em; text-align: center; vertical-align: top\">Gable</td>\n",
       "        <td style=\"padding-left: 1em; padding-right: 1em; text-align: center; vertical-align: top\">CompShg</td>\n",
       "        <td style=\"padding-left: 1em; padding-right: 1em; text-align: center; vertical-align: top\">VinylSd</td>\n",
       "        <td style=\"padding-left: 1em; padding-right: 1em; text-align: center; vertical-align: top\">VinylSd</td>\n",
       "        <td style=\"padding-left: 1em; padding-right: 1em; text-align: center; vertical-align: top\">BrkFace</td>\n",
       "        <td style=\"padding-left: 1em; padding-right: 1em; text-align: center; vertical-align: top\">350</td>\n",
       "        <td style=\"padding-left: 1em; padding-right: 1em; text-align: center; vertical-align: top\">Gd</td>\n",
       "        <td style=\"padding-left: 1em; padding-right: 1em; text-align: center; vertical-align: top\">TA</td>\n",
       "    </tr>\n",
       "    <tr>\n",
       "        <td style=\"padding-left: 1em; padding-right: 1em; text-align: center; vertical-align: top\">1995</td>\n",
       "        <td style=\"padding-left: 1em; padding-right: 1em; text-align: center; vertical-align: top\">Gable</td>\n",
       "        <td style=\"padding-left: 1em; padding-right: 1em; text-align: center; vertical-align: top\">CompShg</td>\n",
       "        <td style=\"padding-left: 1em; padding-right: 1em; text-align: center; vertical-align: top\">VinylSd</td>\n",
       "        <td style=\"padding-left: 1em; padding-right: 1em; text-align: center; vertical-align: top\">VinylSd</td>\n",
       "        <td style=\"padding-left: 1em; padding-right: 1em; text-align: center; vertical-align: top\">None</td>\n",
       "        <td style=\"padding-left: 1em; padding-right: 1em; text-align: center; vertical-align: top\">0</td>\n",
       "        <td style=\"padding-left: 1em; padding-right: 1em; text-align: center; vertical-align: top\">TA</td>\n",
       "        <td style=\"padding-left: 1em; padding-right: 1em; text-align: center; vertical-align: top\">TA</td>\n",
       "    </tr>\n",
       "    <tr>\n",
       "        <td style=\"padding-left: 1em; padding-right: 1em; text-align: center; vertical-align: top\">2005</td>\n",
       "        <td style=\"padding-left: 1em; padding-right: 1em; text-align: center; vertical-align: top\">Gable</td>\n",
       "        <td style=\"padding-left: 1em; padding-right: 1em; text-align: center; vertical-align: top\">CompShg</td>\n",
       "        <td style=\"padding-left: 1em; padding-right: 1em; text-align: center; vertical-align: top\">VinylSd</td>\n",
       "        <td style=\"padding-left: 1em; padding-right: 1em; text-align: center; vertical-align: top\">VinylSd</td>\n",
       "        <td style=\"padding-left: 1em; padding-right: 1em; text-align: center; vertical-align: top\">Stone</td>\n",
       "        <td style=\"padding-left: 1em; padding-right: 1em; text-align: center; vertical-align: top\">186</td>\n",
       "        <td style=\"padding-left: 1em; padding-right: 1em; text-align: center; vertical-align: top\">Gd</td>\n",
       "        <td style=\"padding-left: 1em; padding-right: 1em; text-align: center; vertical-align: top\">TA</td>\n",
       "    </tr>\n",
       "    <tr>\n",
       "        <td style=\"padding-left: 1em; padding-right: 1em; text-align: center; vertical-align: top\">1973</td>\n",
       "        <td style=\"padding-left: 1em; padding-right: 1em; text-align: center; vertical-align: top\">Gable</td>\n",
       "        <td style=\"padding-left: 1em; padding-right: 1em; text-align: center; vertical-align: top\">CompShg</td>\n",
       "        <td style=\"padding-left: 1em; padding-right: 1em; text-align: center; vertical-align: top\">HdBoard</td>\n",
       "        <td style=\"padding-left: 1em; padding-right: 1em; text-align: center; vertical-align: top\">HdBoard</td>\n",
       "        <td style=\"padding-left: 1em; padding-right: 1em; text-align: center; vertical-align: top\">Stone</td>\n",
       "        <td style=\"padding-left: 1em; padding-right: 1em; text-align: center; vertical-align: top\">240</td>\n",
       "        <td style=\"padding-left: 1em; padding-right: 1em; text-align: center; vertical-align: top\">TA</td>\n",
       "        <td style=\"padding-left: 1em; padding-right: 1em; text-align: center; vertical-align: top\">TA</td>\n",
       "    </tr>\n",
       "    <tr>\n",
       "        <td style=\"padding-left: 1em; padding-right: 1em; text-align: center; vertical-align: top\">1950</td>\n",
       "        <td style=\"padding-left: 1em; padding-right: 1em; text-align: center; vertical-align: top\">Gable</td>\n",
       "        <td style=\"padding-left: 1em; padding-right: 1em; text-align: center; vertical-align: top\">CompShg</td>\n",
       "        <td style=\"padding-left: 1em; padding-right: 1em; text-align: center; vertical-align: top\">BrkFace</td>\n",
       "        <td style=\"padding-left: 1em; padding-right: 1em; text-align: center; vertical-align: top\">Wd Shng</td>\n",
       "        <td style=\"padding-left: 1em; padding-right: 1em; text-align: center; vertical-align: top\">None</td>\n",
       "        <td style=\"padding-left: 1em; padding-right: 1em; text-align: center; vertical-align: top\">0</td>\n",
       "        <td style=\"padding-left: 1em; padding-right: 1em; text-align: center; vertical-align: top\">TA</td>\n",
       "        <td style=\"padding-left: 1em; padding-right: 1em; text-align: center; vertical-align: top\">TA</td>\n",
       "    </tr>\n",
       "    <tr>\n",
       "        <td style=\"padding-left: 1em; padding-right: 1em; text-align: center; vertical-align: top\">1950</td>\n",
       "        <td style=\"padding-left: 1em; padding-right: 1em; text-align: center; vertical-align: top\">Gable</td>\n",
       "        <td style=\"padding-left: 1em; padding-right: 1em; text-align: center; vertical-align: top\">CompShg</td>\n",
       "        <td style=\"padding-left: 1em; padding-right: 1em; text-align: center; vertical-align: top\">MetalSd</td>\n",
       "        <td style=\"padding-left: 1em; padding-right: 1em; text-align: center; vertical-align: top\">MetalSd</td>\n",
       "        <td style=\"padding-left: 1em; padding-right: 1em; text-align: center; vertical-align: top\">None</td>\n",
       "        <td style=\"padding-left: 1em; padding-right: 1em; text-align: center; vertical-align: top\">0</td>\n",
       "        <td style=\"padding-left: 1em; padding-right: 1em; text-align: center; vertical-align: top\">TA</td>\n",
       "        <td style=\"padding-left: 1em; padding-right: 1em; text-align: center; vertical-align: top\">TA</td>\n",
       "    </tr>\n",
       "</table>\n",
       "<table frame=\"box\" rules=\"cols\">\n",
       "    <tr>\n",
       "        <th style=\"padding-left: 1em; padding-right: 1em; text-align: center\">Foundation</th>\n",
       "        <th style=\"padding-left: 1em; padding-right: 1em; text-align: center\">BsmtQual</th>\n",
       "        <th style=\"padding-left: 1em; padding-right: 1em; text-align: center\">BsmtCond</th>\n",
       "        <th style=\"padding-left: 1em; padding-right: 1em; text-align: center\">BsmtExposure</th>\n",
       "        <th style=\"padding-left: 1em; padding-right: 1em; text-align: center\">BsmtFinType1</th>\n",
       "        <th style=\"padding-left: 1em; padding-right: 1em; text-align: center\">BsmtFinSF1</th>\n",
       "        <th style=\"padding-left: 1em; padding-right: 1em; text-align: center\">BsmtFinType2</th>\n",
       "        <th style=\"padding-left: 1em; padding-right: 1em; text-align: center\">BsmtFinSF2</th>\n",
       "        <th style=\"padding-left: 1em; padding-right: 1em; text-align: center\">BsmtUnfSF</th>\n",
       "    </tr>\n",
       "    <tr>\n",
       "        <td style=\"padding-left: 1em; padding-right: 1em; text-align: center; vertical-align: top\">PConc</td>\n",
       "        <td style=\"padding-left: 1em; padding-right: 1em; text-align: center; vertical-align: top\">Gd</td>\n",
       "        <td style=\"padding-left: 1em; padding-right: 1em; text-align: center; vertical-align: top\">TA</td>\n",
       "        <td style=\"padding-left: 1em; padding-right: 1em; text-align: center; vertical-align: top\">No</td>\n",
       "        <td style=\"padding-left: 1em; padding-right: 1em; text-align: center; vertical-align: top\">GLQ</td>\n",
       "        <td style=\"padding-left: 1em; padding-right: 1em; text-align: center; vertical-align: top\">706</td>\n",
       "        <td style=\"padding-left: 1em; padding-right: 1em; text-align: center; vertical-align: top\">Unf</td>\n",
       "        <td style=\"padding-left: 1em; padding-right: 1em; text-align: center; vertical-align: top\">0</td>\n",
       "        <td style=\"padding-left: 1em; padding-right: 1em; text-align: center; vertical-align: top\">150</td>\n",
       "    </tr>\n",
       "    <tr>\n",
       "        <td style=\"padding-left: 1em; padding-right: 1em; text-align: center; vertical-align: top\">CBlock</td>\n",
       "        <td style=\"padding-left: 1em; padding-right: 1em; text-align: center; vertical-align: top\">Gd</td>\n",
       "        <td style=\"padding-left: 1em; padding-right: 1em; text-align: center; vertical-align: top\">TA</td>\n",
       "        <td style=\"padding-left: 1em; padding-right: 1em; text-align: center; vertical-align: top\">Gd</td>\n",
       "        <td style=\"padding-left: 1em; padding-right: 1em; text-align: center; vertical-align: top\">ALQ</td>\n",
       "        <td style=\"padding-left: 1em; padding-right: 1em; text-align: center; vertical-align: top\">978</td>\n",
       "        <td style=\"padding-left: 1em; padding-right: 1em; text-align: center; vertical-align: top\">Unf</td>\n",
       "        <td style=\"padding-left: 1em; padding-right: 1em; text-align: center; vertical-align: top\">0</td>\n",
       "        <td style=\"padding-left: 1em; padding-right: 1em; text-align: center; vertical-align: top\">284</td>\n",
       "    </tr>\n",
       "    <tr>\n",
       "        <td style=\"padding-left: 1em; padding-right: 1em; text-align: center; vertical-align: top\">PConc</td>\n",
       "        <td style=\"padding-left: 1em; padding-right: 1em; text-align: center; vertical-align: top\">Gd</td>\n",
       "        <td style=\"padding-left: 1em; padding-right: 1em; text-align: center; vertical-align: top\">TA</td>\n",
       "        <td style=\"padding-left: 1em; padding-right: 1em; text-align: center; vertical-align: top\">Mn</td>\n",
       "        <td style=\"padding-left: 1em; padding-right: 1em; text-align: center; vertical-align: top\">GLQ</td>\n",
       "        <td style=\"padding-left: 1em; padding-right: 1em; text-align: center; vertical-align: top\">486</td>\n",
       "        <td style=\"padding-left: 1em; padding-right: 1em; text-align: center; vertical-align: top\">Unf</td>\n",
       "        <td style=\"padding-left: 1em; padding-right: 1em; text-align: center; vertical-align: top\">0</td>\n",
       "        <td style=\"padding-left: 1em; padding-right: 1em; text-align: center; vertical-align: top\">434</td>\n",
       "    </tr>\n",
       "    <tr>\n",
       "        <td style=\"padding-left: 1em; padding-right: 1em; text-align: center; vertical-align: top\">BrkTil</td>\n",
       "        <td style=\"padding-left: 1em; padding-right: 1em; text-align: center; vertical-align: top\">TA</td>\n",
       "        <td style=\"padding-left: 1em; padding-right: 1em; text-align: center; vertical-align: top\">Gd</td>\n",
       "        <td style=\"padding-left: 1em; padding-right: 1em; text-align: center; vertical-align: top\">No</td>\n",
       "        <td style=\"padding-left: 1em; padding-right: 1em; text-align: center; vertical-align: top\">ALQ</td>\n",
       "        <td style=\"padding-left: 1em; padding-right: 1em; text-align: center; vertical-align: top\">216</td>\n",
       "        <td style=\"padding-left: 1em; padding-right: 1em; text-align: center; vertical-align: top\">Unf</td>\n",
       "        <td style=\"padding-left: 1em; padding-right: 1em; text-align: center; vertical-align: top\">0</td>\n",
       "        <td style=\"padding-left: 1em; padding-right: 1em; text-align: center; vertical-align: top\">540</td>\n",
       "    </tr>\n",
       "    <tr>\n",
       "        <td style=\"padding-left: 1em; padding-right: 1em; text-align: center; vertical-align: top\">PConc</td>\n",
       "        <td style=\"padding-left: 1em; padding-right: 1em; text-align: center; vertical-align: top\">Gd</td>\n",
       "        <td style=\"padding-left: 1em; padding-right: 1em; text-align: center; vertical-align: top\">TA</td>\n",
       "        <td style=\"padding-left: 1em; padding-right: 1em; text-align: center; vertical-align: top\">Av</td>\n",
       "        <td style=\"padding-left: 1em; padding-right: 1em; text-align: center; vertical-align: top\">GLQ</td>\n",
       "        <td style=\"padding-left: 1em; padding-right: 1em; text-align: center; vertical-align: top\">655</td>\n",
       "        <td style=\"padding-left: 1em; padding-right: 1em; text-align: center; vertical-align: top\">Unf</td>\n",
       "        <td style=\"padding-left: 1em; padding-right: 1em; text-align: center; vertical-align: top\">0</td>\n",
       "        <td style=\"padding-left: 1em; padding-right: 1em; text-align: center; vertical-align: top\">490</td>\n",
       "    </tr>\n",
       "    <tr>\n",
       "        <td style=\"padding-left: 1em; padding-right: 1em; text-align: center; vertical-align: top\">Wood</td>\n",
       "        <td style=\"padding-left: 1em; padding-right: 1em; text-align: center; vertical-align: top\">Gd</td>\n",
       "        <td style=\"padding-left: 1em; padding-right: 1em; text-align: center; vertical-align: top\">TA</td>\n",
       "        <td style=\"padding-left: 1em; padding-right: 1em; text-align: center; vertical-align: top\">No</td>\n",
       "        <td style=\"padding-left: 1em; padding-right: 1em; text-align: center; vertical-align: top\">GLQ</td>\n",
       "        <td style=\"padding-left: 1em; padding-right: 1em; text-align: center; vertical-align: top\">732</td>\n",
       "        <td style=\"padding-left: 1em; padding-right: 1em; text-align: center; vertical-align: top\">Unf</td>\n",
       "        <td style=\"padding-left: 1em; padding-right: 1em; text-align: center; vertical-align: top\">0</td>\n",
       "        <td style=\"padding-left: 1em; padding-right: 1em; text-align: center; vertical-align: top\">64</td>\n",
       "    </tr>\n",
       "    <tr>\n",
       "        <td style=\"padding-left: 1em; padding-right: 1em; text-align: center; vertical-align: top\">PConc</td>\n",
       "        <td style=\"padding-left: 1em; padding-right: 1em; text-align: center; vertical-align: top\">Ex</td>\n",
       "        <td style=\"padding-left: 1em; padding-right: 1em; text-align: center; vertical-align: top\">TA</td>\n",
       "        <td style=\"padding-left: 1em; padding-right: 1em; text-align: center; vertical-align: top\">Av</td>\n",
       "        <td style=\"padding-left: 1em; padding-right: 1em; text-align: center; vertical-align: top\">GLQ</td>\n",
       "        <td style=\"padding-left: 1em; padding-right: 1em; text-align: center; vertical-align: top\">1369</td>\n",
       "        <td style=\"padding-left: 1em; padding-right: 1em; text-align: center; vertical-align: top\">Unf</td>\n",
       "        <td style=\"padding-left: 1em; padding-right: 1em; text-align: center; vertical-align: top\">0</td>\n",
       "        <td style=\"padding-left: 1em; padding-right: 1em; text-align: center; vertical-align: top\">317</td>\n",
       "    </tr>\n",
       "    <tr>\n",
       "        <td style=\"padding-left: 1em; padding-right: 1em; text-align: center; vertical-align: top\">CBlock</td>\n",
       "        <td style=\"padding-left: 1em; padding-right: 1em; text-align: center; vertical-align: top\">Gd</td>\n",
       "        <td style=\"padding-left: 1em; padding-right: 1em; text-align: center; vertical-align: top\">TA</td>\n",
       "        <td style=\"padding-left: 1em; padding-right: 1em; text-align: center; vertical-align: top\">Mn</td>\n",
       "        <td style=\"padding-left: 1em; padding-right: 1em; text-align: center; vertical-align: top\">ALQ</td>\n",
       "        <td style=\"padding-left: 1em; padding-right: 1em; text-align: center; vertical-align: top\">859</td>\n",
       "        <td style=\"padding-left: 1em; padding-right: 1em; text-align: center; vertical-align: top\">BLQ</td>\n",
       "        <td style=\"padding-left: 1em; padding-right: 1em; text-align: center; vertical-align: top\">32</td>\n",
       "        <td style=\"padding-left: 1em; padding-right: 1em; text-align: center; vertical-align: top\">216</td>\n",
       "    </tr>\n",
       "    <tr>\n",
       "        <td style=\"padding-left: 1em; padding-right: 1em; text-align: center; vertical-align: top\">BrkTil</td>\n",
       "        <td style=\"padding-left: 1em; padding-right: 1em; text-align: center; vertical-align: top\">TA</td>\n",
       "        <td style=\"padding-left: 1em; padding-right: 1em; text-align: center; vertical-align: top\">TA</td>\n",
       "        <td style=\"padding-left: 1em; padding-right: 1em; text-align: center; vertical-align: top\">No</td>\n",
       "        <td style=\"padding-left: 1em; padding-right: 1em; text-align: center; vertical-align: top\">Unf</td>\n",
       "        <td style=\"padding-left: 1em; padding-right: 1em; text-align: center; vertical-align: top\">0</td>\n",
       "        <td style=\"padding-left: 1em; padding-right: 1em; text-align: center; vertical-align: top\">Unf</td>\n",
       "        <td style=\"padding-left: 1em; padding-right: 1em; text-align: center; vertical-align: top\">0</td>\n",
       "        <td style=\"padding-left: 1em; padding-right: 1em; text-align: center; vertical-align: top\">952</td>\n",
       "    </tr>\n",
       "    <tr>\n",
       "        <td style=\"padding-left: 1em; padding-right: 1em; text-align: center; vertical-align: top\">BrkTil</td>\n",
       "        <td style=\"padding-left: 1em; padding-right: 1em; text-align: center; vertical-align: top\">TA</td>\n",
       "        <td style=\"padding-left: 1em; padding-right: 1em; text-align: center; vertical-align: top\">TA</td>\n",
       "        <td style=\"padding-left: 1em; padding-right: 1em; text-align: center; vertical-align: top\">No</td>\n",
       "        <td style=\"padding-left: 1em; padding-right: 1em; text-align: center; vertical-align: top\">GLQ</td>\n",
       "        <td style=\"padding-left: 1em; padding-right: 1em; text-align: center; vertical-align: top\">851</td>\n",
       "        <td style=\"padding-left: 1em; padding-right: 1em; text-align: center; vertical-align: top\">Unf</td>\n",
       "        <td style=\"padding-left: 1em; padding-right: 1em; text-align: center; vertical-align: top\">0</td>\n",
       "        <td style=\"padding-left: 1em; padding-right: 1em; text-align: center; vertical-align: top\">140</td>\n",
       "    </tr>\n",
       "</table>\n",
       "<table frame=\"box\" rules=\"cols\">\n",
       "    <tr>\n",
       "        <th style=\"padding-left: 1em; padding-right: 1em; text-align: center\">TotalBsmtSF</th>\n",
       "        <th style=\"padding-left: 1em; padding-right: 1em; text-align: center\">Heating</th>\n",
       "        <th style=\"padding-left: 1em; padding-right: 1em; text-align: center\">...</th>\n",
       "    </tr>\n",
       "    <tr>\n",
       "        <td style=\"padding-left: 1em; padding-right: 1em; text-align: center; vertical-align: top\">856</td>\n",
       "        <td style=\"padding-left: 1em; padding-right: 1em; text-align: center; vertical-align: top\">GasA</td>\n",
       "        <td style=\"padding-left: 1em; padding-right: 1em; text-align: center; vertical-align: top\">...</td>\n",
       "    </tr>\n",
       "    <tr>\n",
       "        <td style=\"padding-left: 1em; padding-right: 1em; text-align: center; vertical-align: top\">1262</td>\n",
       "        <td style=\"padding-left: 1em; padding-right: 1em; text-align: center; vertical-align: top\">GasA</td>\n",
       "        <td style=\"padding-left: 1em; padding-right: 1em; text-align: center; vertical-align: top\">...</td>\n",
       "    </tr>\n",
       "    <tr>\n",
       "        <td style=\"padding-left: 1em; padding-right: 1em; text-align: center; vertical-align: top\">920</td>\n",
       "        <td style=\"padding-left: 1em; padding-right: 1em; text-align: center; vertical-align: top\">GasA</td>\n",
       "        <td style=\"padding-left: 1em; padding-right: 1em; text-align: center; vertical-align: top\">...</td>\n",
       "    </tr>\n",
       "    <tr>\n",
       "        <td style=\"padding-left: 1em; padding-right: 1em; text-align: center; vertical-align: top\">756</td>\n",
       "        <td style=\"padding-left: 1em; padding-right: 1em; text-align: center; vertical-align: top\">GasA</td>\n",
       "        <td style=\"padding-left: 1em; padding-right: 1em; text-align: center; vertical-align: top\">...</td>\n",
       "    </tr>\n",
       "    <tr>\n",
       "        <td style=\"padding-left: 1em; padding-right: 1em; text-align: center; vertical-align: top\">1145</td>\n",
       "        <td style=\"padding-left: 1em; padding-right: 1em; text-align: center; vertical-align: top\">GasA</td>\n",
       "        <td style=\"padding-left: 1em; padding-right: 1em; text-align: center; vertical-align: top\">...</td>\n",
       "    </tr>\n",
       "    <tr>\n",
       "        <td style=\"padding-left: 1em; padding-right: 1em; text-align: center; vertical-align: top\">796</td>\n",
       "        <td style=\"padding-left: 1em; padding-right: 1em; text-align: center; vertical-align: top\">GasA</td>\n",
       "        <td style=\"padding-left: 1em; padding-right: 1em; text-align: center; vertical-align: top\">...</td>\n",
       "    </tr>\n",
       "    <tr>\n",
       "        <td style=\"padding-left: 1em; padding-right: 1em; text-align: center; vertical-align: top\">1686</td>\n",
       "        <td style=\"padding-left: 1em; padding-right: 1em; text-align: center; vertical-align: top\">GasA</td>\n",
       "        <td style=\"padding-left: 1em; padding-right: 1em; text-align: center; vertical-align: top\">...</td>\n",
       "    </tr>\n",
       "    <tr>\n",
       "        <td style=\"padding-left: 1em; padding-right: 1em; text-align: center; vertical-align: top\">1107</td>\n",
       "        <td style=\"padding-left: 1em; padding-right: 1em; text-align: center; vertical-align: top\">GasA</td>\n",
       "        <td style=\"padding-left: 1em; padding-right: 1em; text-align: center; vertical-align: top\">...</td>\n",
       "    </tr>\n",
       "    <tr>\n",
       "        <td style=\"padding-left: 1em; padding-right: 1em; text-align: center; vertical-align: top\">952</td>\n",
       "        <td style=\"padding-left: 1em; padding-right: 1em; text-align: center; vertical-align: top\">GasA</td>\n",
       "        <td style=\"padding-left: 1em; padding-right: 1em; text-align: center; vertical-align: top\">...</td>\n",
       "    </tr>\n",
       "    <tr>\n",
       "        <td style=\"padding-left: 1em; padding-right: 1em; text-align: center; vertical-align: top\">991</td>\n",
       "        <td style=\"padding-left: 1em; padding-right: 1em; text-align: center; vertical-align: top\">GasA</td>\n",
       "        <td style=\"padding-left: 1em; padding-right: 1em; text-align: center; vertical-align: top\">...</td>\n",
       "    </tr>\n",
       "</table>\n",
       "[1460 rows x 81 columns]<br/>Note: Only the head of the SFrame is printed.<br/>You can use print_rows(num_rows=m, num_columns=n) to print more rows and columns.\n",
       "</div>"
      ],
      "text/plain": [
       "Columns:\n",
       "\tId\tint\n",
       "\tMSSubClass\tint\n",
       "\tMSZoning\tstr\n",
       "\tLotFrontage\tint\n",
       "\tLotArea\tint\n",
       "\tStreet\tstr\n",
       "\tAlley\tstr\n",
       "\tLotShape\tstr\n",
       "\tLandContour\tstr\n",
       "\tUtilities\tstr\n",
       "\tLotConfig\tstr\n",
       "\tLandSlope\tstr\n",
       "\tNeighborhood\tstr\n",
       "\tCondition1\tstr\n",
       "\tCondition2\tstr\n",
       "\tBldgType\tstr\n",
       "\tHouseStyle\tstr\n",
       "\tOverallQual\tint\n",
       "\tOverallCond\tint\n",
       "\tYearBuilt\tint\n",
       "\tYearRemodAdd\tint\n",
       "\tRoofStyle\tstr\n",
       "\tRoofMatl\tstr\n",
       "\tExterior1st\tstr\n",
       "\tExterior2nd\tstr\n",
       "\tMasVnrType\tstr\n",
       "\tMasVnrArea\tint\n",
       "\tExterQual\tstr\n",
       "\tExterCond\tstr\n",
       "\tFoundation\tstr\n",
       "\tBsmtQual\tstr\n",
       "\tBsmtCond\tstr\n",
       "\tBsmtExposure\tstr\n",
       "\tBsmtFinType1\tstr\n",
       "\tBsmtFinSF1\tint\n",
       "\tBsmtFinType2\tstr\n",
       "\tBsmtFinSF2\tint\n",
       "\tBsmtUnfSF\tint\n",
       "\tTotalBsmtSF\tint\n",
       "\tHeating\tstr\n",
       "\tHeatingQC\tstr\n",
       "\tCentralAir\tstr\n",
       "\tElectrical\tstr\n",
       "\t1stFlrSF\tint\n",
       "\t2ndFlrSF\tint\n",
       "\tLowQualFinSF\tint\n",
       "\tGrLivArea\tint\n",
       "\tBsmtFullBath\tint\n",
       "\tBsmtHalfBath\tint\n",
       "\tFullBath\tint\n",
       "\tHalfBath\tint\n",
       "\tBedroomAbvGr\tint\n",
       "\tKitchenAbvGr\tint\n",
       "\tKitchenQual\tstr\n",
       "\tTotRmsAbvGrd\tint\n",
       "\tFunctional\tstr\n",
       "\tFireplaces\tint\n",
       "\tFireplaceQu\tstr\n",
       "\tGarageType\tstr\n",
       "\tGarageYrBlt\tint\n",
       "\tGarageFinish\tstr\n",
       "\tGarageCars\tint\n",
       "\tGarageArea\tint\n",
       "\tGarageQual\tstr\n",
       "\tGarageCond\tstr\n",
       "\tPavedDrive\tstr\n",
       "\tWoodDeckSF\tint\n",
       "\tOpenPorchSF\tint\n",
       "\tEnclosedPorch\tint\n",
       "\t3SsnPorch\tint\n",
       "\tScreenPorch\tint\n",
       "\tPoolArea\tint\n",
       "\tPoolQC\tstr\n",
       "\tFence\tstr\n",
       "\tMiscFeature\tstr\n",
       "\tMiscVal\tint\n",
       "\tMoSold\tint\n",
       "\tYrSold\tint\n",
       "\tSaleType\tstr\n",
       "\tSaleCondition\tstr\n",
       "\tSalePrice\tint\n",
       "\n",
       "Rows: 1460\n",
       "\n",
       "Data:\n",
       "+----+------------+----------+-------------+---------+--------+-------+----------+\n",
       "| Id | MSSubClass | MSZoning | LotFrontage | LotArea | Street | Alley | LotShape |\n",
       "+----+------------+----------+-------------+---------+--------+-------+----------+\n",
       "| 1  |     60     |    RL    |      65     |   8450  |  Pave  |  None |   Reg    |\n",
       "| 2  |     20     |    RL    |      80     |   9600  |  Pave  |  None |   Reg    |\n",
       "| 3  |     60     |    RL    |      68     |  11250  |  Pave  |  None |   IR1    |\n",
       "| 4  |     70     |    RL    |      60     |   9550  |  Pave  |  None |   IR1    |\n",
       "| 5  |     60     |    RL    |      84     |  14260  |  Pave  |  None |   IR1    |\n",
       "| 6  |     50     |    RL    |      85     |  14115  |  Pave  |  None |   IR1    |\n",
       "| 7  |     20     |    RL    |      75     |  10084  |  Pave  |  None |   Reg    |\n",
       "| 8  |     60     |    RL    |     None    |  10382  |  Pave  |  None |   IR1    |\n",
       "| 9  |     50     |    RM    |      51     |   6120  |  Pave  |  None |   Reg    |\n",
       "| 10 |    190     |    RL    |      50     |   7420  |  Pave  |  None |   Reg    |\n",
       "+----+------------+----------+-------------+---------+--------+-------+----------+\n",
       "+-------------+-----------+-----------+-----------+--------------+------------+\n",
       "| LandContour | Utilities | LotConfig | LandSlope | Neighborhood | Condition1 |\n",
       "+-------------+-----------+-----------+-----------+--------------+------------+\n",
       "|     Lvl     |   AllPub  |   Inside  |    Gtl    |   CollgCr    |    Norm    |\n",
       "|     Lvl     |   AllPub  |    FR2    |    Gtl    |   Veenker    |   Feedr    |\n",
       "|     Lvl     |   AllPub  |   Inside  |    Gtl    |   CollgCr    |    Norm    |\n",
       "|     Lvl     |   AllPub  |   Corner  |    Gtl    |   Crawfor    |    Norm    |\n",
       "|     Lvl     |   AllPub  |    FR2    |    Gtl    |   NoRidge    |    Norm    |\n",
       "|     Lvl     |   AllPub  |   Inside  |    Gtl    |   Mitchel    |    Norm    |\n",
       "|     Lvl     |   AllPub  |   Inside  |    Gtl    |   Somerst    |    Norm    |\n",
       "|     Lvl     |   AllPub  |   Corner  |    Gtl    |    NWAmes    |    PosN    |\n",
       "|     Lvl     |   AllPub  |   Inside  |    Gtl    |   OldTown    |   Artery   |\n",
       "|     Lvl     |   AllPub  |   Corner  |    Gtl    |   BrkSide    |   Artery   |\n",
       "+-------------+-----------+-----------+-----------+--------------+------------+\n",
       "+------------+----------+------------+-------------+-------------+-----------+-----+\n",
       "| Condition2 | BldgType | HouseStyle | OverallQual | OverallCond | YearBuilt | ... |\n",
       "+------------+----------+------------+-------------+-------------+-----------+-----+\n",
       "|    Norm    |   1Fam   |   2Story   |      7      |      5      |    2003   | ... |\n",
       "|    Norm    |   1Fam   |   1Story   |      6      |      8      |    1976   | ... |\n",
       "|    Norm    |   1Fam   |   2Story   |      7      |      5      |    2001   | ... |\n",
       "|    Norm    |   1Fam   |   2Story   |      7      |      5      |    1915   | ... |\n",
       "|    Norm    |   1Fam   |   2Story   |      8      |      5      |    2000   | ... |\n",
       "|    Norm    |   1Fam   |   1.5Fin   |      5      |      5      |    1993   | ... |\n",
       "|    Norm    |   1Fam   |   1Story   |      8      |      5      |    2004   | ... |\n",
       "|    Norm    |   1Fam   |   2Story   |      7      |      6      |    1973   | ... |\n",
       "|    Norm    |   1Fam   |   1.5Fin   |      7      |      5      |    1931   | ... |\n",
       "|   Artery   |  2fmCon  |   1.5Unf   |      5      |      6      |    1939   | ... |\n",
       "+------------+----------+------------+-------------+-------------+-----------+-----+\n",
       "[1460 rows x 81 columns]\n",
       "Note: Only the head of the SFrame is printed.\n",
       "You can use print_rows(num_rows=m, num_columns=n) to print more rows and columns."
      ]
     },
     "execution_count": 3,
     "metadata": {},
     "output_type": "execute_result"
    }
   ],
   "source": [
    "sales"
   ]
  },
  {
   "cell_type": "markdown",
   "metadata": {},
   "source": [
    "# Exploring data"
   ]
  },
  {
   "cell_type": "code",
   "execution_count": 4,
   "metadata": {
    "collapsed": false
   },
   "outputs": [
    {
     "data": {
      "application/javascript": [
       "$(\"head\").append($(\"<link/>\").attr({\n",
       "  rel:  \"stylesheet\",\n",
       "  type: \"text/css\",\n",
       "  href: \"//cdnjs.cloudflare.com/ajax/libs/font-awesome/4.1.0/css/font-awesome.min.css\"\n",
       "}));\n",
       "$(\"head\").append($(\"<link/>\").attr({\n",
       "  rel:  \"stylesheet\",\n",
       "  type: \"text/css\",\n",
       "  href: \"https://static.turi.com/products/graphlab-create/2.1/canvas/css/canvas.css\"\n",
       "}));\n",
       "\n",
       "            (function(){\n",
       "\n",
       "                var e = null;\n",
       "                if (typeof element == 'undefined') {\n",
       "                    var scripts = document.getElementsByTagName('script');\n",
       "                    var thisScriptTag = scripts[scripts.length-1];\n",
       "                    var parentDiv = thisScriptTag.parentNode;\n",
       "                    e = document.createElement('div');\n",
       "                    parentDiv.appendChild(e);\n",
       "                } else {\n",
       "                    e = element[0];\n",
       "                }\n",
       "\n",
       "                if (typeof requirejs !== 'undefined') {\n",
       "                    // disable load timeout; ipython_app.js is large and can take a while to load.\n",
       "                    requirejs.config({waitSeconds: 0});\n",
       "                }\n",
       "\n",
       "                require(['https://static.turi.com/products/graphlab-create/2.1/canvas/js/ipython_app.js'], function(IPythonApp){\n",
       "                    var app = new IPythonApp();\n",
       "                    app.attachView('sframe','Plots', {\"selected_variable\": {\"name\": [\"sales\"], \"descriptives\": {\"rows\": 1460, \"columns\": 81}, \"view_component\": \"Plots\", \"view_file\": \"sframe\", \"view_params\": {\"y\": \"SalePrice\", \"x\": \"GrLivArea\", \"columns\": [\"Id\", \"MSSubClass\", \"MSZoning\", \"LotFrontage\", \"LotArea\", \"Street\", \"Alley\", \"LotShape\", \"LandContour\", \"Utilities\", \"LotConfig\", \"LandSlope\", \"Neighborhood\", \"Condition1\", \"Condition2\", \"BldgType\", \"HouseStyle\", \"OverallQual\", \"OverallCond\", \"YearBuilt\", \"YearRemodAdd\", \"RoofStyle\", \"RoofMatl\", \"Exterior1st\", \"Exterior2nd\", \"MasVnrType\", \"MasVnrArea\", \"ExterQual\", \"ExterCond\", \"Foundation\", \"BsmtQual\", \"BsmtCond\", \"BsmtExposure\", \"BsmtFinType1\", \"BsmtFinSF1\", \"BsmtFinType2\", \"BsmtFinSF2\", \"BsmtUnfSF\", \"TotalBsmtSF\", \"Heating\", \"HeatingQC\", \"CentralAir\", \"Electrical\", \"1stFlrSF\", \"2ndFlrSF\", \"LowQualFinSF\", \"GrLivArea\", \"BsmtFullBath\", \"BsmtHalfBath\", \"FullBath\", \"HalfBath\", \"BedroomAbvGr\", \"KitchenAbvGr\", \"KitchenQual\", \"TotRmsAbvGrd\", \"Functional\", \"Fireplaces\", \"FireplaceQu\", \"GarageType\", \"GarageYrBlt\", \"GarageFinish\", \"GarageCars\", \"GarageArea\", \"GarageQual\", \"GarageCond\", \"PavedDrive\", \"WoodDeckSF\", \"OpenPorchSF\", \"EnclosedPorch\", \"3SsnPorch\", \"ScreenPorch\", \"PoolArea\", \"PoolQC\", \"Fence\", \"MiscFeature\", \"MiscVal\", \"MoSold\", \"YrSold\", \"SaleType\", \"SaleCondition\", \"SalePrice\"], \"view\": \"Scatter Plot\"}, \"view_components\": [\"Summary\", \"Table\", \"Bar Chart\", \"BoxWhisker Plot\", \"Line Chart\", \"Scatter Plot\", \"Heat Map\", \"Plots\"], \"type\": \"SFrame\", \"columns\": [{\"dtype\": \"int\", \"name\": \"Id\"}, {\"dtype\": \"int\", \"name\": \"MSSubClass\"}, {\"dtype\": \"str\", \"name\": \"MSZoning\"}, {\"dtype\": \"int\", \"name\": \"LotFrontage\"}, {\"dtype\": \"int\", \"name\": \"LotArea\"}, {\"dtype\": \"str\", \"name\": \"Street\"}, {\"dtype\": \"str\", \"name\": \"Alley\"}, {\"dtype\": \"str\", \"name\": \"LotShape\"}, {\"dtype\": \"str\", \"name\": \"LandContour\"}, {\"dtype\": \"str\", \"name\": \"Utilities\"}, {\"dtype\": \"str\", \"name\": \"LotConfig\"}, {\"dtype\": \"str\", \"name\": \"LandSlope\"}, {\"dtype\": \"str\", \"name\": \"Neighborhood\"}, {\"dtype\": \"str\", \"name\": \"Condition1\"}, {\"dtype\": \"str\", \"name\": \"Condition2\"}, {\"dtype\": \"str\", \"name\": \"BldgType\"}, {\"dtype\": \"str\", \"name\": \"HouseStyle\"}, {\"dtype\": \"int\", \"name\": \"OverallQual\"}, {\"dtype\": \"int\", \"name\": \"OverallCond\"}, {\"dtype\": \"int\", \"name\": \"YearBuilt\"}, {\"dtype\": \"int\", \"name\": \"YearRemodAdd\"}, {\"dtype\": \"str\", \"name\": \"RoofStyle\"}, {\"dtype\": \"str\", \"name\": \"RoofMatl\"}, {\"dtype\": \"str\", \"name\": \"Exterior1st\"}, {\"dtype\": \"str\", \"name\": \"Exterior2nd\"}, {\"dtype\": \"str\", \"name\": \"MasVnrType\"}, {\"dtype\": \"int\", \"name\": \"MasVnrArea\"}, {\"dtype\": \"str\", \"name\": \"ExterQual\"}, {\"dtype\": \"str\", \"name\": \"ExterCond\"}, {\"dtype\": \"str\", \"name\": \"Foundation\"}, {\"dtype\": \"str\", \"name\": \"BsmtQual\"}, {\"dtype\": \"str\", \"name\": \"BsmtCond\"}, {\"dtype\": \"str\", \"name\": \"BsmtExposure\"}, {\"dtype\": \"str\", \"name\": \"BsmtFinType1\"}, {\"dtype\": \"int\", \"name\": \"BsmtFinSF1\"}, {\"dtype\": \"str\", \"name\": \"BsmtFinType2\"}, {\"dtype\": \"int\", \"name\": \"BsmtFinSF2\"}, {\"dtype\": \"int\", \"name\": \"BsmtUnfSF\"}, {\"dtype\": \"int\", \"name\": \"TotalBsmtSF\"}, {\"dtype\": \"str\", \"name\": \"Heating\"}, {\"dtype\": \"str\", \"name\": \"HeatingQC\"}, {\"dtype\": \"str\", \"name\": \"CentralAir\"}, {\"dtype\": \"str\", \"name\": \"Electrical\"}, {\"dtype\": \"int\", \"name\": \"1stFlrSF\"}, {\"dtype\": \"int\", \"name\": \"2ndFlrSF\"}, {\"dtype\": \"int\", \"name\": \"LowQualFinSF\"}, {\"dtype\": \"int\", \"name\": \"GrLivArea\"}, {\"dtype\": \"int\", \"name\": \"BsmtFullBath\"}, {\"dtype\": \"int\", \"name\": \"BsmtHalfBath\"}, {\"dtype\": \"int\", \"name\": \"FullBath\"}, {\"dtype\": \"int\", \"name\": \"HalfBath\"}, {\"dtype\": \"int\", \"name\": \"BedroomAbvGr\"}, {\"dtype\": \"int\", \"name\": \"KitchenAbvGr\"}, {\"dtype\": \"str\", \"name\": \"KitchenQual\"}, {\"dtype\": \"int\", \"name\": \"TotRmsAbvGrd\"}, {\"dtype\": \"str\", \"name\": \"Functional\"}, {\"dtype\": \"int\", \"name\": \"Fireplaces\"}, {\"dtype\": \"str\", \"name\": \"FireplaceQu\"}, {\"dtype\": \"str\", \"name\": \"GarageType\"}, {\"dtype\": \"int\", \"name\": \"GarageYrBlt\"}, {\"dtype\": \"str\", \"name\": \"GarageFinish\"}, {\"dtype\": \"int\", \"name\": \"GarageCars\"}, {\"dtype\": \"int\", \"name\": \"GarageArea\"}, {\"dtype\": \"str\", \"name\": \"GarageQual\"}, {\"dtype\": \"str\", \"name\": \"GarageCond\"}, {\"dtype\": \"str\", \"name\": \"PavedDrive\"}, {\"dtype\": \"int\", \"name\": \"WoodDeckSF\"}, {\"dtype\": \"int\", \"name\": \"OpenPorchSF\"}, {\"dtype\": \"int\", \"name\": \"EnclosedPorch\"}, {\"dtype\": \"int\", \"name\": \"3SsnPorch\"}, {\"dtype\": \"int\", \"name\": \"ScreenPorch\"}, {\"dtype\": \"int\", \"name\": \"PoolArea\"}, {\"dtype\": \"str\", \"name\": \"PoolQC\"}, {\"dtype\": \"str\", \"name\": \"Fence\"}, {\"dtype\": \"str\", \"name\": \"MiscFeature\"}, {\"dtype\": \"int\", \"name\": \"MiscVal\"}, {\"dtype\": \"int\", \"name\": \"MoSold\"}, {\"dtype\": \"int\", \"name\": \"YrSold\"}, {\"dtype\": \"str\", \"name\": \"SaleType\"}, {\"dtype\": \"str\", \"name\": \"SaleCondition\"}, {\"dtype\": \"int\", \"name\": \"SalePrice\"}], \"column_identifiers\": [\"3SsnPorch\", \"MasVnrType\", \"LotConfig\", \"LandSlope\", \"GarageQual\", \"Exterior1st\", \"GarageFinish\", \"2ndFlrSF\", \"HalfBath\", \"OverallQual\", \"OverallCond\", \"LotArea\", \"Electrical\", \"SalePrice\", \"BsmtQual\", \"HouseStyle\", \"GrLivArea\", \"YearRemodAdd\", \"MasVnrArea\", \"Foundation\", \"1stFlrSF\", \"BsmtFullBath\", \"BsmtCond\", \"HeatingQC\", \"LotFrontage\", \"MiscVal\", \"CentralAir\", \"BsmtExposure\", \"Utilities\", \"KitchenAbvGr\", \"WoodDeckSF\", \"LotShape\", \"BsmtHalfBath\", \"TotalBsmtSF\", \"Condition1\", \"Condition2\", \"TotRmsAbvGrd\", \"MiscFeature\", \"YrSold\", \"PavedDrive\", \"OpenPorchSF\", \"LowQualFinSF\", \"BsmtUnfSF\", \"GarageYrBlt\", \"BldgType\", \"FullBath\", \"SaleType\", \"MSZoning\", \"Exterior2nd\", \"Heating\", \"MSSubClass\", \"GarageCars\", \"YearBuilt\", \"KitchenQual\", \"BsmtFinType2\", \"BsmtFinType1\", \"BsmtFinSF1\", \"BsmtFinSF2\", \"GarageType\", \"LandContour\", \"PoolArea\", \"Neighborhood\", \"ScreenPorch\", \"Fence\", \"MoSold\", \"SaleCondition\", \"ExterQual\", \"Functional\", \"Alley\", \"RoofStyle\", \"Street\", \"Fireplaces\", \"GarageArea\", \"ExterCond\", \"PoolQC\", \"FireplaceQu\", \"EnclosedPorch\", \"RoofMatl\", \"Id\", \"BedroomAbvGr\", \"GarageCond\"]}, \"complete\": 1, \"ipython\": true, \"progress\": 1.0, \"data\": [[1710, 208500], [1262, 181500], [1786, 223500], [1717, 140000], [2198, 250000], [1845, 189000], [1694, 307000], [1294, 193879], [1668, 232000], [1077, 118000], [1040, 129500], [2324, 345000], [912, 144000], [1494, 279500], [1253, 157000], [854, 132000], [1004, 149000], [1296, 90000], [1114, 159000], [1339, 139000], [2376, 325300], [996, 147000], [1795, 230000], [1902, 112000], [845, 84000], [1600, 256300], [1144, 124000], [1704, 306000], [1675, 181000], [520, 68500], [1317, 40000], [1228, 149350], [1234, 179900], [1700, 165500], [1561, 277500], [1256, 147500], [1367, 127500], [1297, 153000], [1057, 109000], [1152, 82000], [1072, 140000], [1328, 170000], [1734, 318000], [938, 130250], [1482, 143000], [1752, 319900], [1214, 105000], [1656, 249700], [1844, 223000], [955, 127000], [1470, 177000], [1176, 114500], [816, 110000], [932, 124000], [768, 133000], [1425, 180500], [1739, 172500], [1720, 196500], [1632, 173000], [780, 124900], [1221, 104900], [1441, 174000], [1370, 202500], [1710, 140000], [2034, 219500], [2473, 317000], [2207, 180000], [1479, 226000], [913, 129000], [2521, 151400], [923, 119500], [845, 129500], [1718, 185000], [1086, 144900], [1605, 107400], [988, 91000], [864, 115000], [1285, 127000], [804, 119000], [1230, 110000], [1302, 176485], [1337, 153500], [1419, 184100], [1065, 126500], [1474, 168500], [2417, 260000], [1560, 174000], [1224, 164500], [2450, 340000], [1264, 167500], [912, 115000], [1235, 98600], [964, 163500], [2291, 133900], [2447, 169000], [1470, 185000], [1588, 214000], [2340, 266500], [835, 83000], [1225, 128950], [1126, 160000], [1357, 177000], [1530, 259000], [1251, 160000], [1818, 169500], [1040, 133700], [1258, 145000], [789, 115000], [2810, 302000], [1069, 127500], [1855, 136900], [1430, 180000], [2696, 383970], [2259, 217000], [1640, 224000], [1458, 176000], [1092, 139000], [1125, 155000], [968, 64500], [1456, 163990], [988, 180000], [1123, 100000], [1080, 136000], [1199, 153900], [1586, 181000], [754, 84500], [1784, 138887], [1776, 283463], [1348, 155000], [2526, 290000], [2157, 226000], [2054, 244000], [1658, 188000], [1296, 220000], [1721, 180000], [1682, 174000], [1214, 143000], [1959, 171000], [1852, 230000], [1764, 231500], [864, 115000], [1734, 260000], [987, 83000], [1501, 204000], [1728, 125000], [1779, 197900], [875, 105000], [1456, 146000], [1080, 141000], [1246, 154000], [969, 122000], [1710, 372402], [1993, 190000], [1252, 235000], [2329, 262280], [1096, 79000], [1820, 201800], [1968, 269500], [1947, 254900], [2462, 320000], [2201, 274970], [1657, 163500], [1541, 220000], [990, 138000], [1616, 152000], [1355, 127500], [1804, 189000], [2161, 325624], [1720, 183500], [1707, 228000], [1382, 128500], [1656, 215000], [1034, 169900], [1362, 163000], [864, 116050], [2158, 243000], [2060, 211000], [1920, 172500], [1376, 105000], [968, 100000], [1525, 177000], [2599, 333168], [1340, 120000], [2082, 200000], [1252, 127000], [3608, 475000], [1517, 230000], [1656, 135000], [2097, 274300], [1593, 286000], [2727, 315000], [1479, 184000], [1431, 192000], [1709, 130000], [1977, 165000], [1456, 148500], [1726, 311872], [3112, 235000], [2229, 104000], [1713, 274900], [1121, 140000], [1537, 174000], [1724, 197900], [848, 149000], [990, 145000], [1442, 180500], [1696, 143900], [1440, 182900], [2062, 277000], [1092, 145000], [864, 98000], [1212, 186000], [1852, 252678], [990, 156000], [2058, 129500], [1236, 134450], [1436, 210000], [1328, 107000], [1601, 140000], [1600, 169000], [1498, 204900], [2267, 200000], [1552, 179900], [864, 97000], [936, 129000], [1302, 112000], [2520, 290000], [987, 106000], [1218, 118000], [1555, 192500], [1964, 205000], [2794, 403000], [1573, 227000], [1072, 145000], [1987, 301500], [1494, 215000], [1414, 185500], [1744, 194500], [1694, 318000], [1933, 214000], [892, 110000], [866, 110500], [1432, 194000], [1217, 120000], [1364, 185850], [1872, 241500], [1928, 137000], [1343, 154900], [1200, 146000], [2144, 277000], [1306, 76500], [1625, 235000], [2620, 190000], [1302, 158000], [1314, 145000], [2291, 230000], [1240, 194000], [1604, 220000], [1792, 231500], [882, 97000], [1382, 176000], [2574, 276000], [1212, 151000], [1316, 130000], [764, 73000], [1792, 186500], [1511, 185000], [1601, 157000], [1787, 275000], [1113, 148000], [2090, 240000], [1363, 241500], [1868, 178000], [1632, 139000], [816, 124500], [1548, 205000], [1626, 175500], [1314, 176432], [1632, 176500], [2022, 192000], [1982, 228500], [1262, 185000], [1604, 117000], [1022, 85000], [1575, 179200], [1250, 164700], [1734, 159000], [858, 88000], [1096, 138800], [1959, 215000], [3238, 410000], [1048, 135000], [1716, 131000], [1405, 171750], [1644, 167000], [1040, 92900], [1558, 152000], [1950, 239000], [1743, 175000], [848, 136500], [1218, 91500], [1194, 159500], [1541, 205000], [894, 149900], [848, 155900], [2000, 305900], [693, 52500], [1406, 89500], [861, 82500], [790, 91000], [1501, 165600], [972, 132000], [1368, 202500], [1252, 142000], [816, 130500], [1432, 188500], [2353, 260000], [1959, 270000], [2646, 260000], [1472, 187500], [1211, 134000], [1665, 227000], [2730, 301000], [1163, 126175], [864, 128500], [708, 82500], [1719, 324000], [816, 120500], [2134, 214500], [1192, 78000], [1728, 119000], [1056, 139000], [1629, 284000], [1358, 207000], [1298, 180000], [1786, 228950], [1922, 377426], [1536, 214000], [1621, 202500], [1459, 192000], [1908, 202900], [841, 82000], [1040, 87500], [1684, 266000], [1112, 85000], [1577, 140200], [958, 151500], [1478, 157500], [1626, 154000], [1660, 290000], [1869, 318061], [1352, 158000], [3447, 381000], [720, 105900], [1595, 140000], [1490, 184000], [1167, 173000], [1142, 134000], [3627, 625000], [1924, 280000], [912, 156000], [1248, 87000], [1426, 159500], [2156, 262500], [1574, 190000], [1344, 147000], [1394, 159000], [1431, 165000], [1268, 132000], [1287, 162000], [1078, 149900], [1588, 134432], [1556, 154000], [1319, 123000], [1624, 262000], [2555, 191000], [914, 148000], [2466, 340000], [894, 125000], [1800, 179000], [1212, 178000], [1301, 187750], [1797, 213500], [784, 76000], [1953, 240000], [1269, 192000], [1184, 81000], [1125, 125000], [1479, 191000], [2332, 426000], [1367, 119000], [1961, 215000], [882, 106500], [788, 100000], [1034, 109000], [1144, 129000], [1889, 122000], [1348, 117000], [1077, 67000], [1550, 241000], [1288, 245500], [1310, 164990], [672, 108000], [2263, 258000], [2007, 310000], [1620, 150000], [1639, 115000], [1680, 177000], [2172, 280000], [2078, 339750], [1276, 60000], [1056, 145000], [1478, 222000], [1028, 115000], [2097, 228000], [1340, 181134], [900, 123000], [2624, 239000], [1134, 126000], [1056, 142000], [1344, 206300], [1602, 215000], [988, 113000], [2630, 315000], [1552, 212900], [1524, 144000], [1644, 275000], [907, 109008], [1208, 195400], [1412, 175000], [987, 85400], [1198, 79900], [1365, 122500], [1604, 181000], [2524, 278000], [1850, 248000], [1118, 116000], [904, 119000], [694, 90350], [1622, 168000], [2402, 555000], [1440, 118000], [1846, 143000], [1258, 172500], [1824, 180500], [1689, 127500], [1888, 190000], [1668, 140000], [1376, 119500], [1183, 120000], [813, 110000], [1533, 280000], [1756, 204000], [1590, 210000], [1844, 257000], [1242, 175500], [1344, 98000], [1661, 165500], [1788, 161500], [1203, 110000], [1935, 263435], [1135, 155000], [864, 62383], [1660, 188700], [1360, 187500], [1414, 178740], [2520, 310000], [1522, 102000], [1634, 250000], [1710, 187000], [1475, 127000], [954, 132500], [1056, 107000], [952, 121000], [2169, 228500], [970, 132500], [1493, 208900], [2643, 380000], [1078, 142125], [1131, 89471], [1850, 326000], [1524, 260000], [1363, 125500], [1216, 164000], [999, 132500], [990, 126000], [1073, 156000], [1141, 142500], [2414, 160000], [630, 86000], [1304, 115000], [5642, 160000], [1456, 172785], [1269, 155000], [886, 91300], [720, 34900], [1876, 185000], [1820, 184000], [1114, 155000], [912, 120000], [1456, 176000], [1768, 226700], [1214, 140000], [1912, 163000], [1322, 147000], [1960, 124500], [1128, 68400], [1218, 208300], [1620, 315500], [774, 79000], [1363, 164900], [1368, 202665], [864, 129900], [1080, 134000], [789, 96500], [2020, 402861], [1154, 125500], [2344, 265000], [1796, 211000], [2080, 234000], [1294, 106250], [1244, 150000], [1664, 159000], [4676, 184750], [2398, 315750], [1266, 176000], [1571, 178000], [2713, 446261], [605, 86000], [2515, 200624], [1509, 175000], [1362, 128000], [827, 107500], [1416, 179900], [1414, 178000], [960, 145000], [1374, 105000], [864, 111250], [1159, 158000], [1601, 272000], [1838, 315000], [1656, 135000], [1472, 160000], [767, 133000], [1496, 179665], [1553, 186500], [1635, 210000], [768, 129500], [825, 125000], [2094, 263000], [1069, 140000], [1558, 140000], [1717, 255500], [1126, 108000], [1092, 88000], [1048, 113000], [1811, 230000], [1336, 108000], [672, 113000], [1557, 234000], [1392, 121500], [1389, 170000], [1395, 162000], [1674, 185000], [1652, 325000], [864, 99900], [1258, 108959], [1040, 133000], [2132, 316600], [943, 135960], [1012, 118400], [864, 120000], [1692, 224500], [1344, 144000], [1109, 139000], [1224, 165000], [1477, 145000], [1320, 164500], [1392, 146000], [1795, 131500], [1429, 181900], [1573, 177500], [1795, 147000], [1932, 394617], [893, 135000], [2028, 369900], [838, 130000], [2526, 136000], [1473, 143000], [935, 79500], [1489, 185750], [2263, 287000], [1456, 155835], [848, 140000], [894, 130000], [1826, 319000], [2868, 556581], [1402, 194201], [1647, 217500], [1556, 151000], [1271, 135000], [1868, 197500], [1915, 220000], [1200, 151000], [1494, 221000], [1986, 205000], [1040, 152000], [2008, 225000], [3194, 359100], [1029, 118500], [2153, 313000], [1032, 148000], [1872, 261500], [1466, 149900], [630, 75500], [1054, 137500], [1020, 94000], [832, 105500], [1828, 314813], [2262, 305000], [2372, 107500], [2614, 240000], [980, 135000], [1494, 177500], [1790, 165150], [1116, 160000], [1422, 139900], [1520, 153000], [2080, 135000], [1350, 168500], [1750, 124000], [1554, 209500], [1411, 82500], [1056, 139400], [1252, 119000], [3395, 200000], [872, 123000], [1981, 135000], [796, 85000], [1567, 264561], [1792, 136000], [1647, 175000], [1498, 187500], [1620, 152000], [1766, 370878], [981, 143250], [1504, 181000], [1094, 155000], [1839, 155000], [630, 84500], [1665, 205950], [1510, 108000], [1716, 191000], [1469, 135000], [1040, 150500], [1316, 200141], [1053, 145500], [985, 149900], [1458, 97500], [1486, 167000], [1935, 197900], [2448, 402000], [1733, 139600], [924, 80000], [1923, 190000], [1936, 230500], [2380, 129000], [1679, 193500], [1437, 168000], [1671, 173000], [1476, 173500], [1970, 281000], [1337, 181000], [1050, 128900], [1136, 140000], [2337, 90000], [1774, 87000], [948, 111000], [2046, 372500], [988, 128500], [923, 143000], [1520, 159434], [1291, 173000], [1668, 285000], [1839, 221000], [2090, 207500], [1761, 227875], [1334, 167900], [1419, 392000], [1362, 194700], [848, 141000], [4316, 755000], [2519, 335000], [1073, 108480], [1539, 141500], [1137, 176000], [2358, 122000], [1148, 123500], [894, 138500], [1920, 170000], [1800, 312500], [1630, 213000], [2210, 117500], [1812, 140000], [1190, 132500], [1092, 55000], [1824, 302000], [1324, 254000], [1221, 185000], [904, 109900], [729, 52000], [1178, 102776], [1228, 189000], [960, 129000], [1416, 112000], [1352, 208900], [2554, 159500], [1178, 157000], [2418, 341000], [1902, 335000], [1742, 275000], [1646, 275000], [1913, 177000], [2031, 237000], [2898, 287000], [864, 120500], [1680, 222000], [1232, 194500], [1776, 110000], [1920, 137000], [1616, 236500], [2110, 244000], [1236, 149700], [1144, 131400], [948, 108000], [1768, 163000], [1040, 93500], [796, 55000], [1200, 179000], [1728, 190000], [1432, 132000], [1128, 155000], [1349, 179000], [1224, 101800], [1337, 180000], [1680, 136905], [2256, 236000], [1664, 162900], [1720, 260400], [1529, 98000], [1838, 192140], [1320, 162000], [1494, 217000], [1953, 252000], [882, 112500], [1471, 172500], [1768, 212000], [1386, 158900], [1501, 179400], [2531, 290000], [864, 127500], [1301, 100000], [986, 102000], [2365, 337000], [1111, 116900], [1506, 264132], [1714, 196500], [1564, 174500], [1836, 216837], [3279, 538000], [858, 134900], [1220, 102000], [1117, 107000], [912, 114500], [1324, 128000], [1204, 162000], [1614, 221500], [894, 142500], [2020, 144000], [1004, 135000], [1253, 176000], [1603, 175900], [1430, 187100], [1110, 165500], [1664, 100000], [1342, 161500], [1652, 139000], [2084, 233000], [901, 107900], [1355, 127000], [2093, 215000], [1062, 146800], [2013, 269790], [1124, 93000], [1895, 194500], [2020, 239500], [1285, 143500], [773, 110000], [3140, 485000], [1768, 175000], [944, 82000], [1196, 109900], [1456, 189000], [2822, 582933], [1128, 118000], [912, 147000], [980, 135500], [1576, 223500], [1224, 115000], [4476, 745000], [1309, 181000], [1702, 367294], [1382, 148000], [1412, 132500], [1250, 116000], [1661, 224900], [1008, 137000], [988, 119000], [1052, 155000], [1358, 224000], [1640, 183000], [936, 93000], [1733, 225000], [1489, 139500], [1489, 232600], [2084, 385000], [784, 109500], [1478, 156500], [1006, 80000], [1223, 147400], [1392, 166000], [1616, 232000], [1710, 240000], [1516, 167000], [1144, 139950], [1250, 139000], [1559, 153500], [987, 100000], [1099, 144000], [864, 120500], [1482, 140000], [1539, 157500], [1506, 213490], [1800, 141000], [1484, 265900], [1701, 171000], [974, 93500], [1504, 203000], [2358, 240000], [1855, 187000], [848, 131500], [1302, 106000], [1646, 164000], [1445, 158000], [2622, 325000], [960, 112000], [1567, 196000], [1481, 174000], [1370, 152000], [2654, 250000], [1173, 170000], [2073, 210000], [1097, 152000], [1365, 125000], [1372, 250580], [1002, 148500], [1646, 248900], [1120, 129000], [2320, 169000], [1949, 236000], [950, 119500], [1274, 203000], [910, 116000], [1268, 133000], [1131, 66500], [2610, 303477], [1040, 132250], [2224, 350000], [1155, 148000], [864, 136500], [954, 119750], [1654, 230000], [1593, 178000], [2230, 118500], [2601, 189000], [816, 129900], [1712, 145000], [1576, 149000], [2217, 268000], [1505, 149500], [924, 122900], [1683, 172500], [2196, 271900], [2872, 285000], [1082, 119200], [1796, 140000], [951, 106500], [2240, 142953], [958, 143750], [1865, 235000], [858, 110000], [1306, 153000], [1738, 104900], [1670, 240000], [1513, 137500], [2136, 137900], [1740, 219500], [2057, 250000], [902, 131000], [1484, 174000], [848, 149300], [816, 100000], [1015, 88000], [2002, 145000], [1224, 173733], [1092, 75000], [1694, 245350], [1229, 135000], [2127, 238000], [874, 130000], [1690, 181000], [2200, 145900], [1316, 169990], [1154, 154000], [1686, 207500], [1126, 175000], [2374, 285000], [1978, 176000], [1690, 144000], [2482, 281213], [1466, 201000], [925, 117500], [1905, 320000], [1580, 235128], [833, 112000], [747, 79900], [1200, 184900], [930, 84900], [1962, 239799], [2076, 465000], [1728, 150900], [438, 60000], [1054, 151000], [1632, 143000], [1344, 137500], [1167, 144000], [1144, 143000], [1530, 260000], [1500, 246578], [1381, 197500], [864, 129000], [965, 119900], [768, 133900], [1611, 167900], [980, 127500], [1958, 145000], [1229, 124000], [1218, 131000], [1337, 185000], [1416, 155000], [1824, 139000], [2872, 272000], [1746, 377500], [1800, 239000], [1894, 214900], [1484, 178900], [1308, 160000], [1836, 280000], [968, 37900], [1095, 140000], [1192, 135000], [1452, 183900], [1699, 95000], [1428, 182000], [2019, 167500], [1382, 165000], [869, 85500], [1241, 199900], [894, 110000], [1121, 139000], [999, 178400], [2612, 336000], [1266, 159895], [2290, 255900], [1734, 126000], [1164, 125000], [1635, 117000], [1940, 395192], [1588, 227000], [1576, 197000], [2392, 348000], [1742, 168000], [1851, 187000], [1500, 173900], [1718, 337500], [1230, 121600], [1050, 136500], [2127, 271000], [1077, 91000], [1208, 206000]], \"columns\": [{\"dtype\": \"int\", \"name\": \"Id\"}, {\"dtype\": \"int\", \"name\": \"MSSubClass\"}, {\"dtype\": \"str\", \"name\": \"MSZoning\"}, {\"dtype\": \"int\", \"name\": \"LotFrontage\"}, {\"dtype\": \"int\", \"name\": \"LotArea\"}, {\"dtype\": \"str\", \"name\": \"Street\"}, {\"dtype\": \"str\", \"name\": \"Alley\"}, {\"dtype\": \"str\", \"name\": \"LotShape\"}, {\"dtype\": \"str\", \"name\": \"LandContour\"}, {\"dtype\": \"str\", \"name\": \"Utilities\"}, {\"dtype\": \"str\", \"name\": \"LotConfig\"}, {\"dtype\": \"str\", \"name\": \"LandSlope\"}, {\"dtype\": \"str\", \"name\": \"Neighborhood\"}, {\"dtype\": \"str\", \"name\": \"Condition1\"}, {\"dtype\": \"str\", \"name\": \"Condition2\"}, {\"dtype\": \"str\", \"name\": \"BldgType\"}, {\"dtype\": \"str\", \"name\": \"HouseStyle\"}, {\"dtype\": \"int\", \"name\": \"OverallQual\"}, {\"dtype\": \"int\", \"name\": \"OverallCond\"}, {\"dtype\": \"int\", \"name\": \"YearBuilt\"}, {\"dtype\": \"int\", \"name\": \"YearRemodAdd\"}, {\"dtype\": \"str\", \"name\": \"RoofStyle\"}, {\"dtype\": \"str\", \"name\": \"RoofMatl\"}, {\"dtype\": \"str\", \"name\": \"Exterior1st\"}, {\"dtype\": \"str\", \"name\": \"Exterior2nd\"}, {\"dtype\": \"str\", \"name\": \"MasVnrType\"}, {\"dtype\": \"int\", \"name\": \"MasVnrArea\"}, {\"dtype\": \"str\", \"name\": \"ExterQual\"}, {\"dtype\": \"str\", \"name\": \"ExterCond\"}, {\"dtype\": \"str\", \"name\": \"Foundation\"}, {\"dtype\": \"str\", \"name\": \"BsmtQual\"}, {\"dtype\": \"str\", \"name\": \"BsmtCond\"}, {\"dtype\": \"str\", \"name\": \"BsmtExposure\"}, {\"dtype\": \"str\", \"name\": \"BsmtFinType1\"}, {\"dtype\": \"int\", \"name\": \"BsmtFinSF1\"}, {\"dtype\": \"str\", \"name\": \"BsmtFinType2\"}, {\"dtype\": \"int\", \"name\": \"BsmtFinSF2\"}, {\"dtype\": \"int\", \"name\": \"BsmtUnfSF\"}, {\"dtype\": \"int\", \"name\": \"TotalBsmtSF\"}, {\"dtype\": \"str\", \"name\": \"Heating\"}, {\"dtype\": \"str\", \"name\": \"HeatingQC\"}, {\"dtype\": \"str\", \"name\": \"CentralAir\"}, {\"dtype\": \"str\", \"name\": \"Electrical\"}, {\"dtype\": \"int\", \"name\": \"1stFlrSF\"}, {\"dtype\": \"int\", \"name\": \"2ndFlrSF\"}, {\"dtype\": \"int\", \"name\": \"LowQualFinSF\"}, {\"dtype\": \"int\", \"name\": \"GrLivArea\"}, {\"dtype\": \"int\", \"name\": \"BsmtFullBath\"}, {\"dtype\": \"int\", \"name\": \"BsmtHalfBath\"}, {\"dtype\": \"int\", \"name\": \"FullBath\"}, {\"dtype\": \"int\", \"name\": \"HalfBath\"}, {\"dtype\": \"int\", \"name\": \"BedroomAbvGr\"}, {\"dtype\": \"int\", \"name\": \"KitchenAbvGr\"}, {\"dtype\": \"str\", \"name\": \"KitchenQual\"}, {\"dtype\": \"int\", \"name\": \"TotRmsAbvGrd\"}, {\"dtype\": \"str\", \"name\": \"Functional\"}, {\"dtype\": \"int\", \"name\": \"Fireplaces\"}, {\"dtype\": \"str\", \"name\": \"FireplaceQu\"}, {\"dtype\": \"str\", \"name\": \"GarageType\"}, {\"dtype\": \"int\", \"name\": \"GarageYrBlt\"}, {\"dtype\": \"str\", \"name\": \"GarageFinish\"}, {\"dtype\": \"int\", \"name\": \"GarageCars\"}, {\"dtype\": \"int\", \"name\": \"GarageArea\"}, {\"dtype\": \"str\", \"name\": \"GarageQual\"}, {\"dtype\": \"str\", \"name\": \"GarageCond\"}, {\"dtype\": \"str\", \"name\": \"PavedDrive\"}, {\"dtype\": \"int\", \"name\": \"WoodDeckSF\"}, {\"dtype\": \"int\", \"name\": \"OpenPorchSF\"}, {\"dtype\": \"int\", \"name\": \"EnclosedPorch\"}, {\"dtype\": \"int\", \"name\": \"3SsnPorch\"}, {\"dtype\": \"int\", \"name\": \"ScreenPorch\"}, {\"dtype\": \"int\", \"name\": \"PoolArea\"}, {\"dtype\": \"str\", \"name\": \"PoolQC\"}, {\"dtype\": \"str\", \"name\": \"Fence\"}, {\"dtype\": \"str\", \"name\": \"MiscFeature\"}, {\"dtype\": \"int\", \"name\": \"MiscVal\"}, {\"dtype\": \"int\", \"name\": \"MoSold\"}, {\"dtype\": \"int\", \"name\": \"YrSold\"}, {\"dtype\": \"str\", \"name\": \"SaleType\"}, {\"dtype\": \"str\", \"name\": \"SaleCondition\"}, {\"dtype\": \"int\", \"name\": \"SalePrice\"}]}, e);\n",
       "                });\n",
       "            })();\n",
       "        "
      ]
     },
     "metadata": {},
     "output_type": "display_data"
    }
   ],
   "source": [
    "graphlab.canvas.set_target('ipynb')\n",
    "sales.show(view=\"Scatter Plot\", x=\"GrLivArea\", y=\"SalePrice\")"
   ]
  },
  {
   "cell_type": "code",
   "execution_count": 5,
   "metadata": {
    "collapsed": false,
    "scrolled": true
   },
   "outputs": [
    {
     "data": {
      "application/javascript": [
       "$(\"head\").append($(\"<link/>\").attr({\n",
       "  rel:  \"stylesheet\",\n",
       "  type: \"text/css\",\n",
       "  href: \"//cdnjs.cloudflare.com/ajax/libs/font-awesome/4.1.0/css/font-awesome.min.css\"\n",
       "}));\n",
       "$(\"head\").append($(\"<link/>\").attr({\n",
       "  rel:  \"stylesheet\",\n",
       "  type: \"text/css\",\n",
       "  href: \"https://static.turi.com/products/graphlab-create/2.1/canvas/css/canvas.css\"\n",
       "}));\n",
       "\n",
       "            (function(){\n",
       "\n",
       "                var e = null;\n",
       "                if (typeof element == 'undefined') {\n",
       "                    var scripts = document.getElementsByTagName('script');\n",
       "                    var thisScriptTag = scripts[scripts.length-1];\n",
       "                    var parentDiv = thisScriptTag.parentNode;\n",
       "                    e = document.createElement('div');\n",
       "                    parentDiv.appendChild(e);\n",
       "                } else {\n",
       "                    e = element[0];\n",
       "                }\n",
       "\n",
       "                if (typeof requirejs !== 'undefined') {\n",
       "                    // disable load timeout; ipython_app.js is large and can take a while to load.\n",
       "                    requirejs.config({waitSeconds: 0});\n",
       "                }\n",
       "\n",
       "                require(['https://static.turi.com/products/graphlab-create/2.1/canvas/js/ipython_app.js'], function(IPythonApp){\n",
       "                    var app = new IPythonApp();\n",
       "                    app.attachView('sframe','Plots', {\"selected_variable\": {\"name\": [\"sales\"], \"descriptives\": {\"rows\": 1460, \"columns\": 81}, \"view_component\": \"Plots\", \"view_file\": \"sframe\", \"view_params\": {\"y\": \"SalePrice\", \"x\": \"LotArea\", \"columns\": [\"Id\", \"MSSubClass\", \"MSZoning\", \"LotFrontage\", \"LotArea\", \"Street\", \"Alley\", \"LotShape\", \"LandContour\", \"Utilities\", \"LotConfig\", \"LandSlope\", \"Neighborhood\", \"Condition1\", \"Condition2\", \"BldgType\", \"HouseStyle\", \"OverallQual\", \"OverallCond\", \"YearBuilt\", \"YearRemodAdd\", \"RoofStyle\", \"RoofMatl\", \"Exterior1st\", \"Exterior2nd\", \"MasVnrType\", \"MasVnrArea\", \"ExterQual\", \"ExterCond\", \"Foundation\", \"BsmtQual\", \"BsmtCond\", \"BsmtExposure\", \"BsmtFinType1\", \"BsmtFinSF1\", \"BsmtFinType2\", \"BsmtFinSF2\", \"BsmtUnfSF\", \"TotalBsmtSF\", \"Heating\", \"HeatingQC\", \"CentralAir\", \"Electrical\", \"1stFlrSF\", \"2ndFlrSF\", \"LowQualFinSF\", \"GrLivArea\", \"BsmtFullBath\", \"BsmtHalfBath\", \"FullBath\", \"HalfBath\", \"BedroomAbvGr\", \"KitchenAbvGr\", \"KitchenQual\", \"TotRmsAbvGrd\", \"Functional\", \"Fireplaces\", \"FireplaceQu\", \"GarageType\", \"GarageYrBlt\", \"GarageFinish\", \"GarageCars\", \"GarageArea\", \"GarageQual\", \"GarageCond\", \"PavedDrive\", \"WoodDeckSF\", \"OpenPorchSF\", \"EnclosedPorch\", \"3SsnPorch\", \"ScreenPorch\", \"PoolArea\", \"PoolQC\", \"Fence\", \"MiscFeature\", \"MiscVal\", \"MoSold\", \"YrSold\", \"SaleType\", \"SaleCondition\", \"SalePrice\"], \"view\": \"Scatter Plot\"}, \"view_components\": [\"Summary\", \"Table\", \"Bar Chart\", \"BoxWhisker Plot\", \"Line Chart\", \"Scatter Plot\", \"Heat Map\", \"Plots\"], \"type\": \"SFrame\", \"columns\": [{\"dtype\": \"int\", \"name\": \"Id\"}, {\"dtype\": \"int\", \"name\": \"MSSubClass\"}, {\"dtype\": \"str\", \"name\": \"MSZoning\"}, {\"dtype\": \"int\", \"name\": \"LotFrontage\"}, {\"dtype\": \"int\", \"name\": \"LotArea\"}, {\"dtype\": \"str\", \"name\": \"Street\"}, {\"dtype\": \"str\", \"name\": \"Alley\"}, {\"dtype\": \"str\", \"name\": \"LotShape\"}, {\"dtype\": \"str\", \"name\": \"LandContour\"}, {\"dtype\": \"str\", \"name\": \"Utilities\"}, {\"dtype\": \"str\", \"name\": \"LotConfig\"}, {\"dtype\": \"str\", \"name\": \"LandSlope\"}, {\"dtype\": \"str\", \"name\": \"Neighborhood\"}, {\"dtype\": \"str\", \"name\": \"Condition1\"}, {\"dtype\": \"str\", \"name\": \"Condition2\"}, {\"dtype\": \"str\", \"name\": \"BldgType\"}, {\"dtype\": \"str\", \"name\": \"HouseStyle\"}, {\"dtype\": \"int\", \"name\": \"OverallQual\"}, {\"dtype\": \"int\", \"name\": \"OverallCond\"}, {\"dtype\": \"int\", \"name\": \"YearBuilt\"}, {\"dtype\": \"int\", \"name\": \"YearRemodAdd\"}, {\"dtype\": \"str\", \"name\": \"RoofStyle\"}, {\"dtype\": \"str\", \"name\": \"RoofMatl\"}, {\"dtype\": \"str\", \"name\": \"Exterior1st\"}, {\"dtype\": \"str\", \"name\": \"Exterior2nd\"}, {\"dtype\": \"str\", \"name\": \"MasVnrType\"}, {\"dtype\": \"int\", \"name\": \"MasVnrArea\"}, {\"dtype\": \"str\", \"name\": \"ExterQual\"}, {\"dtype\": \"str\", \"name\": \"ExterCond\"}, {\"dtype\": \"str\", \"name\": \"Foundation\"}, {\"dtype\": \"str\", \"name\": \"BsmtQual\"}, {\"dtype\": \"str\", \"name\": \"BsmtCond\"}, {\"dtype\": \"str\", \"name\": \"BsmtExposure\"}, {\"dtype\": \"str\", \"name\": \"BsmtFinType1\"}, {\"dtype\": \"int\", \"name\": \"BsmtFinSF1\"}, {\"dtype\": \"str\", \"name\": \"BsmtFinType2\"}, {\"dtype\": \"int\", \"name\": \"BsmtFinSF2\"}, {\"dtype\": \"int\", \"name\": \"BsmtUnfSF\"}, {\"dtype\": \"int\", \"name\": \"TotalBsmtSF\"}, {\"dtype\": \"str\", \"name\": \"Heating\"}, {\"dtype\": \"str\", \"name\": \"HeatingQC\"}, {\"dtype\": \"str\", \"name\": \"CentralAir\"}, {\"dtype\": \"str\", \"name\": \"Electrical\"}, {\"dtype\": \"int\", \"name\": \"1stFlrSF\"}, {\"dtype\": \"int\", \"name\": \"2ndFlrSF\"}, {\"dtype\": \"int\", \"name\": \"LowQualFinSF\"}, {\"dtype\": \"int\", \"name\": \"GrLivArea\"}, {\"dtype\": \"int\", \"name\": \"BsmtFullBath\"}, {\"dtype\": \"int\", \"name\": \"BsmtHalfBath\"}, {\"dtype\": \"int\", \"name\": \"FullBath\"}, {\"dtype\": \"int\", \"name\": \"HalfBath\"}, {\"dtype\": \"int\", \"name\": \"BedroomAbvGr\"}, {\"dtype\": \"int\", \"name\": \"KitchenAbvGr\"}, {\"dtype\": \"str\", \"name\": \"KitchenQual\"}, {\"dtype\": \"int\", \"name\": \"TotRmsAbvGrd\"}, {\"dtype\": \"str\", \"name\": \"Functional\"}, {\"dtype\": \"int\", \"name\": \"Fireplaces\"}, {\"dtype\": \"str\", \"name\": \"FireplaceQu\"}, {\"dtype\": \"str\", \"name\": \"GarageType\"}, {\"dtype\": \"int\", \"name\": \"GarageYrBlt\"}, {\"dtype\": \"str\", \"name\": \"GarageFinish\"}, {\"dtype\": \"int\", \"name\": \"GarageCars\"}, {\"dtype\": \"int\", \"name\": \"GarageArea\"}, {\"dtype\": \"str\", \"name\": \"GarageQual\"}, {\"dtype\": \"str\", \"name\": \"GarageCond\"}, {\"dtype\": \"str\", \"name\": \"PavedDrive\"}, {\"dtype\": \"int\", \"name\": \"WoodDeckSF\"}, {\"dtype\": \"int\", \"name\": \"OpenPorchSF\"}, {\"dtype\": \"int\", \"name\": \"EnclosedPorch\"}, {\"dtype\": \"int\", \"name\": \"3SsnPorch\"}, {\"dtype\": \"int\", \"name\": \"ScreenPorch\"}, {\"dtype\": \"int\", \"name\": \"PoolArea\"}, {\"dtype\": \"str\", \"name\": \"PoolQC\"}, {\"dtype\": \"str\", \"name\": \"Fence\"}, {\"dtype\": \"str\", \"name\": \"MiscFeature\"}, {\"dtype\": \"int\", \"name\": \"MiscVal\"}, {\"dtype\": \"int\", \"name\": \"MoSold\"}, {\"dtype\": \"int\", \"name\": \"YrSold\"}, {\"dtype\": \"str\", \"name\": \"SaleType\"}, {\"dtype\": \"str\", \"name\": \"SaleCondition\"}, {\"dtype\": \"int\", \"name\": \"SalePrice\"}], \"column_identifiers\": [\"3SsnPorch\", \"MasVnrType\", \"LotConfig\", \"LandSlope\", \"GarageQual\", \"Exterior1st\", \"GarageFinish\", \"2ndFlrSF\", \"HalfBath\", \"OverallQual\", \"OverallCond\", \"LotArea\", \"Electrical\", \"SalePrice\", \"BsmtQual\", \"HouseStyle\", \"GrLivArea\", \"YearRemodAdd\", \"MasVnrArea\", \"Foundation\", \"1stFlrSF\", \"BsmtFullBath\", \"BsmtCond\", \"HeatingQC\", \"LotFrontage\", \"MiscVal\", \"CentralAir\", \"BsmtExposure\", \"Utilities\", \"KitchenAbvGr\", \"WoodDeckSF\", \"LotShape\", \"BsmtHalfBath\", \"TotalBsmtSF\", \"Condition1\", \"Condition2\", \"TotRmsAbvGrd\", \"MiscFeature\", \"YrSold\", \"PavedDrive\", \"OpenPorchSF\", \"LowQualFinSF\", \"BsmtUnfSF\", \"GarageYrBlt\", \"BldgType\", \"FullBath\", \"SaleType\", \"MSZoning\", \"Exterior2nd\", \"Heating\", \"MSSubClass\", \"GarageCars\", \"YearBuilt\", \"KitchenQual\", \"BsmtFinType2\", \"BsmtFinType1\", \"BsmtFinSF1\", \"BsmtFinSF2\", \"GarageType\", \"LandContour\", \"PoolArea\", \"Neighborhood\", \"ScreenPorch\", \"Fence\", \"MoSold\", \"SaleCondition\", \"ExterQual\", \"Functional\", \"Alley\", \"RoofStyle\", \"Street\", \"Fireplaces\", \"GarageArea\", \"ExterCond\", \"PoolQC\", \"FireplaceQu\", \"EnclosedPorch\", \"RoofMatl\", \"Id\", \"BedroomAbvGr\", \"GarageCond\"]}, \"complete\": 1, \"ipython\": true, \"progress\": 1.0, \"data\": [[8450, 208500], [9600, 181500], [11250, 223500], [13175, 210000], [9037, 265900], [10434, 115000], [10084, 307000], [10382, 200000], [6120, 129900], [7420, 118000], [11200, 129500], [18030, 200500], [12968, 144000], [10652, 279500], [10712, 93500], [17500, 335000], [11241, 149000], [10791, 90000], [13695, 159000], [7560, 139000], [14215, 325300], [7449, 139400], [9742, 230000], [4224, 129900], [10206, 82000], [3842, 275000], [12328, 169900], [11478, 306000], [6000, 120000], [6324, 68500], [7153, 179200], [8544, 149350], [11049, 179900], [10552, 165500], [7313, 277500], [13418, 309000], [9638, 169000], [8532, 153000], [7922, 109000], [9900, 117500], [15863, 197000], [16905, 170000], [10625, 250000], [9200, 130250], [8775, 126000], [7658, 319900], [12822, 239686], [11096, 249700], [4456, 113000], [7742, 127000], [10186, 190000], [6240, 114500], [10944, 271000], [10000, 240000], [4435, 136500], [10175, 180500], [2645, 172500], [11645, 196500], [8814, 203000], [7200, 124900], [13072, 158000], [7200, 101000], [6442, 202500], [10300, 140000], [13600, 90000], [9600, 125000], [19900, 180000], [10665, 226000], [16692, 250000], [15593, 225000], [13651, 244000], [7599, 129500], [10141, 185000], [8544, 92900], [5790, 107400], [1596, 91000], [8475, 135750], [9758, 119500], [10778, 136500], [10440, 110000], [13000, 193500], [19690, 274970], [9300, 167500], [8892, 126500], [8530, 168500], [16059, 260000], [11911, 174000], [11700, 154000], [8470, 85000], [8070, 123600], [7200, 109900], [16158, 260000], [13360, 163500], [12420, 230000], [14781, 275000], [9842, 101800], [10264, 214000], [10921, 94750], [6120, 137500], [9320, 128950], [10603, 205000], [6627, 72500], [9750, 274300], [10402, 198900], [7758, 169500], [9375, 250000], [10800, 100000], [6000, 115000], [8500, 115000], [11751, 190000], [9525, 136900], [7750, 180000], [10182, 290000], [21000, 217000], [7259, 259500], [8800, 150500], [11616, 139000], [10120, 122000], [12376, 320000], [8461, 163990], [21453, 180000], [10357, 179900], [8445, 133000], [11235, 148000], [17043, 181000], [6780, 84500], [4928, 128000], [4388, 87000], [7590, 155000], [8973, 150000], [14200, 226000], [12224, 244000], [7388, 150750], [6853, 220000], [10335, 180000], [7763, 140000], [3684, 174000], [11070, 171000], [9066, 230000], [15426, 231500], [10500, 115000], [11645, 260000], [8520, 166000], [10335, 204000], [9100, 125000], [2522, 130000], [6120, 105000], [11957, 232000], [7500, 141000], [6240, 115000], [10356, 122000], [16737, 315000], [14803, 190000], [13500, 235000], [11340, 125000], [10635, 232000], [12444, 394617], [12003, 269500], [7700, 112500], [19378, 320000], [11120, 162500], [8854, 121000], [12182, 220000], [8877, 100000], [5400, 152000], [10106, 127500], [6000, 117000], [3735, 183900], [8244, 183500], [16669, 228000], [12358, 128500], [31770, 215000], [11367, 255000], [10197, 163000], [12416, 184000], [12615, 243000], [10029, 211000], [13650, 172500], [9825, 100000], [8520, 100000], [2117, 177000], [8910, 159500], [9060, 120000], [11426, 200000], [2368, 125000], [9790, 143000], [9947, 173000], [10410, 135000], [9230, 146000], [4923, 286000], [10570, 315000], [7472, 184000], [9017, 192000], [2522, 130000], [7180, 127000], [2280, 148500], [9416, 311872], [13173, 325000], [7500, 68400], [10215, 111000], [8546, 140000], [11700, 179900], [7000, 112000], [4438, 149000], [17542, 294000], [11218, 189000], [14684, 271900], [16545, 340000], [14364, 277000], [8556, 194000], [5604, 98000], [10420, 186000], [8780, 112000], [13568, 156000], [10900, 161750], [11160, 244000], [8450, 210000], [10410, 105000], [15660, 311500], [3010, 167240], [8990, 204900], [13825, 140000], [9130, 173000], [10500, 97000], [13472, 386250], [11003, 310000], [9000, 80000], [8125, 186500], [8521, 125000], [7200, 119000], [8760, 148000], [5436, 125500], [1680, 94500], [5868, 129000], [7500, 189000], [9500, 165000], [8773, 185500], [9453, 194500], [8400, 156500], [8741, 113000], [6000, 128000], [9069, 147000], [5000, 79000], [7728, 132500], [9240, 287000], [10400, 241500], [7804, 135000], [10496, 143000], [11317, 180000], [159000, 277000], [12537, 149900], [4750, 235000], [8366, 173000], [6600, 130500], [13450, 200000], [3316, 197000], [8791, 207500], [8724, 129000], [8280, 124000], [12702, 97000], [19296, 176000], [8930, 112000], [8471, 151000], [7910, 127000], [5232, 73000], [12090, 175500], [11207, 185000], [8400, 179500], [6900, 120500], [7917, 148000], [10728, 266000], [39104, 241500], [11764, 290000], [9600, 139000], [8314, 124500], [7264, 205000], [9196, 201000], [19138, 141000], [9156, 185750], [8923, 134500], [11287, 228500], [15384, 184000], [5063, 207500], [7558, 177000], [8012, 179200], [4251, 164700], [9786, 159000], [8125, 88000], [8872, 147000], [10592, 165000], [15611, 233230], [10084, 212900], [11409, 131000], [16659, 235000], [9600, 167000], [26142, 157900], [12085, 318000], [7399, 239000], [11700, 175000], [8190, 119000], [15750, 157000], [16226, 267000], [13704, 205000], [8499, 156932], [9600, 119000], [10386, 305900], [6882, 127000], [7920, 89500], [12342, 82500], [12378, 360000], [7685, 165600], [8000, 132000], [7800, 119900], [3182, 181000], [9600, 178000], [7795, 188500], [8749, 192000], [13125, 219500], [11643, 200000], [9842, 189000], [9350, 179900], [12099, 354000], [9600, 278000], [5820, 126175], [11275, 242000], [5000, 87000], [10846, 324000], [11600, 145250], [11888, 214500], [6402, 78000], [10624, 119000], [8176, 139000], [10655, 284000], [8198, 207000], [9042, 192000], [4928, 143750], [14157, 377426], [9135, 214000], [14145, 202500], [12400, 155000], [14100, 381000], [8400, 82000], [8544, 87500], [11500, 84000], [4017, 171900], [6435, 140200], [2628, 175500], [13214, 378500], [9849, 248328], [5001, 230000], [7820, 318061], [5271, 190000], [9084, 95000], [1680, 118000], [8400, 140000], [4230, 208900], [13728, 235000], [4224, 134000], [6930, 130000], [9492, 105000], [7540, 156000], [9144, 145000], [7301, 198500], [10192, 170000], [32463, 168000], [9317, 176432], [13072, 142500], [10784, 160000], [7800, 132000], [9830, 162000], [8121, 172400], [17120, 134432], [7175, 125000], [10634, 123000], [8200, 219500], [10020, 61000], [8385, 149900], [11143, 340000], [11394, 394432], [8123, 179000], [11200, 180000], [7200, 187750], [5814, 187500], [14598, 214000], [53107, 240000], [15870, 138800], [8410, 81000], [4426, 149300], [9382, 191000], [12474, 426000], [8405, 119000], [12209, 215000], [8339, 106500], [7446, 100000], [9100, 235000], [9571, 129000], [7200, 123000], [7590, 169500], [9000, 143000], [8125, 241000], [3675, 140000], [8767, 164990], [9541, 233170], [12090, 258000], [9600, 165500], [9991, 150000], [10480, 115000], [15576, 177000], [14154, 280000], [10800, 339750], [9247, 171000], [34650, 145000], [4403, 222000], [8960, 115000], [11228, 228000], [10721, 142000], [7844, 149500], [22420, 239000], [8935, 195000], [8450, 142000], [6762, 193879], [16635, 215000], [21750, 113000], [9200, 315000], [9000, 139000], [13526, 137000], [12800, 275000], [8593, 109008], [6762, 195400], [11457, 175000], [1680, 85400], [8640, 229456], [10226, 295493], [10839, 181000], [1890, 81000], [10400, 197900], [4400, 116000], [14303, 301500], [4280, 90350], [8944, 124000], [6000, 131000], [12108, 118000], [6171, 137450], [3922, 172500], [35760, 625000], [9855, 127500], [8520, 136000], [18000, 81000], [8600, 119500], [6000, 120000], [9738, 104900], [10140, 153500], [9303, 204000], [10800, 120000], [13515, 180500], [9600, 175500], [4571, 98000], [53227, 256000], [5100, 161000], [7015, 110000], [8004, 263435], [7200, 155000], [8281, 62383], [11988, 188700], [11512, 177000], [9000, 120500], [10628, 167000], [9480, 146500], [11428, 250000], [9291, 187000], [63887, 160000], [11952, 190000], [3675, 148000], [9600, 140000], [9520, 293077], [8480, 132500], [13125, 208900], [10625, 170000], [10637, 297000], [5925, 89471], [16033, 326000], [11846, 374000], [2500, 155000], [7024, 176000], [7758, 132500], [9600, 147000], [9135, 200000], [12243, 175000], [10800, 160000], [15623, 745000], [2665, 115000], [9490, 133000], [15578, 172785], [7931, 155000], [5700, 116900], [7879, 34900], [12692, 430000], [9120, 184000], [7800, 130000], [8562, 144500], [1890, 113000], [9803, 226700], [9170, 140000], [15602, 289000], [2308, 147000], [7596, 124500], [16157, 194000], [9764, 130000], [9600, 161000], [9600, 124500], [14559, 164900], [6792, 202665], [9100, 129900], [9187, 134000], [7200, 157000], [12220, 402861], [10448, 158000], [10208, 265000], [9531, 211000], [12000, 174500], [10800, 106250], [11988, 150000], [5000, 159000], [40094, 184750], [11787, 315750], [10120, 290000], [14115, 230000], [21930, 192140], [9098, 86000], [32668, 200624], [10200, 175000], [6155, 128000], [7200, 107500], [5000, 39300], [17217, 84500], [7200, 85000], [8924, 188000], [12735, 111250], [11553, 158000], [11423, 272000], [14601, 315000], [11000, 248000], [9100, 178000], [7500, 154000], [5400, 86000], [7837, 178000], [8737, 210000], [7244, 129500], [8235, 125000], [9375, 263000], [9353, 116050], [6000, 112500], [11146, 255500], [8777, 108000], [10625, 284000], [6380, 113000], [11250, 161500], [11664, 119200], [21872, 175000], [3196, 234000], [11341, 121500], [10780, 132500], [7917, 175000], [9600, 129500], [13346, 268000], [6858, 128000], [11198, 325000], [10171, 214000], [12327, 316600], [7032, 135960], [13101, 142600], [11400, 466500], [13159, 224500], [29959, 248000], [9819, 196000], [11767, 112000], [6292, 145000], [11777, 164500], [3604, 146000], [12150, 131500], [14585, 181900], [14000, 328000], [11841, 118500], [13500, 325000], [6120, 133000], [11443, 369900], [9600, 128900], [11880, 157000], [25095, 143000], [9100, 79500], [8320, 185900], [13478, 451950], [6600, 138000], [4435, 140000], [7990, 110000], [11065, 281000], [3675, 145000], [3363, 130000], [8688, 232000], [1950, 151000], [10927, 275000], [9000, 141000], [16196, 215000], [3182, 151000], [12803, 221000], [13600, 205000], [12464, 152000], [7800, 225000], [5330, 82500], [7943, 118500], [11050, 313000], [10395, 148000], [11885, 261500], [7100, 129900], [1491, 75500], [8800, 137500], [7861, 183200], [7227, 105500], [4060, 181000], [12244, 305000], [15306, 283463], [11103, 155835], [7064, 135000], [2117, 168500], [10400, 165150], [10000, 160000], [10316, 235000], [9750, 213000], [11606, 135000], [9020, 168500], [9000, 124000], [4590, 209500], [11900, 82500], [9250, 139400], [6979, 144000], [2117, 177500], [6120, 60000], [6000, 93000], [11340, 122500], [3982, 264561], [12677, 274000], [7050, 226000], [13860, 345000], [10793, 152000], [9187, 370878], [10530, 143250], [7200, 98300], [10452, 155000], [5664, 278000], [12393, 195000], [8125, 205950], [9084, 108000], [10482, 145000], [10320, 135000], [10437, 350000], [1680, 88000], [10007, 145500], [21286, 135000], [17503, 97500], [9937, 167000], [7560, 133700], [6955, 202500], [13560, 110000], [10012, 137500], [20896, 423000], [11194, 230500], [18450, 129000], [8125, 193500], [14175, 168000], [11600, 137500], [8633, 173500], [9042, 266500], [11250, 165000], [14442, 257500], [9200, 140000], [2289, 148500], [9600, 87000], [9022, 109500], [11844, 372500], [9477, 110000], [8012, 143000], [4500, 159434], [5400, 117000], [7950, 159500], [16770, 221000], [5381, 196000], [9572, 302000], [7200, 119000], [8089, 392000], [7577, 194700], [4426, 141000], [14720, 410000], [8294, 123000], [5400, 108480], [17755, 149900], [35133, 186700], [6000, 89000], [9473, 237000], [12900, 108959], [4282, 196000], [14331, 312500], [4920, 213500], [12438, 361919], [7630, 140000], [8400, 213000], [2522, 137500], [115149, 302000], [7200, 90000], [10261, 186500], [7162, 109900], [4130, 52000], [8712, 102776], [4671, 189000], [24682, 181000], [8900, 107000], [10140, 165000], [10800, 159500], [8731, 144000], [10542, 341000], [2160, 160000], [12090, 178000], [4426, 143000], [14112, 180500], [8172, 135000], [13286, 320000], [11175, 200141], [21695, 222000], [6000, 134900], [9808, 227000], [8773, 169000], [5389, 236500], [9590, 187500], [11404, 222500], [10000, 131400], [8978, 108000], [10800, 163000], [1477, 80000], [13125, 155000], [10800, 179000], [9313, 190000], [11883, 203000], [6768, 142000], [8450, 179000], [12886, 175000], [8029, 176000], [8963, 299800], [4435, 155900], [10800, 163000], [10593, 260400], [8405, 98000], [8800, 96500], [13053, 207000], [9439, 87000], [10240, 275500], [8525, 130000], [12256, 325000], [10769, 212000], [9600, 135000], [1680, 91500], [12257, 290000], [9100, 127500], [6911, 100000], [14572, 259000], [9430, 337000], [9549, 270000], [17871, 197900], [10421, 196500], [12508, 160000], [9100, 216837], [53504, 538000], [7252, 134900], [8877, 102000], [7819, 107000], [10150, 114500], [14226, 395000], [4500, 162000], [11210, 221500], [13350, 142500], [8400, 144000], [10530, 135000], [7750, 184100], [1680, 119500], [16285, 187100], [9101, 165500], [6300, 128000], [9790, 161500], [10800, 139000], [9400, 139000], [6000, 107900], [12205, 187500], [3182, 160200], [11333, 146800], [13680, 139600], [9158, 225000], [2217, 88000], [9828, 239500], [8197, 143500], [14892, 377500], [13518, 485000], [11275, 220000], [12798, 200000], [4800, 109900], [8199, 189000], [4060, 99900], [9000, 118000], [12274, 227680], [9750, 135500], [21384, 223500], [11040, 145000], [8100, 106000], [10140, 181000], [4438, 144500], [8712, 55993], [9750, 157900], [8248, 116000], [9717, 142125], [8172, 115000], [6931, 165400], [8816, 155000], [6371, 224000], [7226, 183000], [6000, 93000], [12394, 225000], [9900, 139500], [57200, 160000], [2665, 127000], [5400, 105000], [8529, 189000], [28698, 185000], [9750, 151000], [9364, 158000], [10852, 173000], [9587, 190000], [10004, 167000], [7875, 139950], [9600, 128000], [6240, 149000], [1680, 100000], [7407, 149700], [11767, 130500], [9179, 193000], [10440, 157500], [9020, 174900], [8000, 141000], [11796, 215000], [9735, 167500], [9317, 213000], [15523, 133500], [45600, 240000], [9600, 187000], [4435, 131500], [3196, 215000], [11075, 206900], [12095, 158000], [7740, 125500], [6897, 127000], [10970, 147000], [8926, 112000], [4435, 144000], [11029, 250000], [7642, 189950], [11625, 131500], [5890, 120500], [7931, 132500], [8640, 250580], [8750, 148500], [7406, 194000], [12925, 237500], [14762, 169000], [9938, 236000], [9375, 228500], [8750, 200500], [11170, 250000], [4043, 127500], [5720, 66500], [9000, 303477], [25286, 132250], [8834, 350000], [11782, 148000], [11932, 235128], [7024, 157000], [13758, 187500], [9636, 178000], [6204, 118500], [7150, 100000], [9560, 128500], [8393, 145000], [16466, 135500], [12546, 182900], [12160, 149500], [8064, 122900], [6000, 110500], [8414, 154500], [13284, 165000], [7018, 118858], [7056, 140000], [8765, 106500], [7018, 142953], [23595, 260000], [3136, 171750], [7340, 110000], [8712, 153000], [7875, 180000], [9060, 105000], [6173, 125500], [9920, 128000], [8850, 144000], [11500, 250000], [10304, 197500], [8049, 180000], [11600, 154300], [9286, 143500], [6120, 88000], [6270, 145000], [3000, 173733], [2001, 75000], [9000, 35311], [17140, 135000], [13125, 238000], [11029, 176500], [3013, 213490], [8777, 145900], [10237, 169990], [8012, 193000], [10240, 207500], [15611, 175000], [12155, 163500], [8769, 367294], [11838, 236500], [13006, 222000], [8925, 201000], [9100, 117500], [8993, 176485], [8487, 190000], [27650, 242000], [5825, 79900], [9858, 130000], [9675, 253000], [8760, 239799], [24090, 244400], [12640, 150900], [7052, 185850], [9125, 163900], [9084, 176500], [14375, 137500], [8820, 124900], [8163, 143000], [9965, 424870], [14006, 192500], [9360, 197500], [7200, 129000], [7800, 119900], [7200, 133900], [2016, 106000], [9400, 127500], [7136, 145000], [1300, 124000], [7420, 132000], [8450, 185000], [2572, 155000], [7207, 116500], [10615, 95000], [2308, 155000], [7500, 177500], [11316, 214900], [10237, 178900], [9600, 160000], [16381, 223000], [5925, 37900], [10382, 140000], [10800, 135000], [9880, 171000], [7892, 99500], [11639, 182000], [11414, 167500], [23257, 274725], [5900, 85500], [7838, 123000], [12665, 281213], [8816, 139000], [12513, 104900], [12203, 336000], [12134, 164000], [11250, 255900], [3180, 144152], [12000, 147000], [5310, 117000], [10159, 395192], [12046, 195000], [8125, 197000], [8400, 60000], [17671, 168000], [9760, 187000], [8846, 173900], [12456, 337500], [4712, 121600], [10659, 136500], [11717, 185000], [9786, 91000], [6762, 206000]], \"columns\": [{\"dtype\": \"int\", \"name\": \"Id\"}, {\"dtype\": \"int\", \"name\": \"MSSubClass\"}, {\"dtype\": \"str\", \"name\": \"MSZoning\"}, {\"dtype\": \"int\", \"name\": \"LotFrontage\"}, {\"dtype\": \"int\", \"name\": \"LotArea\"}, {\"dtype\": \"str\", \"name\": \"Street\"}, {\"dtype\": \"str\", \"name\": \"Alley\"}, {\"dtype\": \"str\", \"name\": \"LotShape\"}, {\"dtype\": \"str\", \"name\": \"LandContour\"}, {\"dtype\": \"str\", \"name\": \"Utilities\"}, {\"dtype\": \"str\", \"name\": \"LotConfig\"}, {\"dtype\": \"str\", \"name\": \"LandSlope\"}, {\"dtype\": \"str\", \"name\": \"Neighborhood\"}, {\"dtype\": \"str\", \"name\": \"Condition1\"}, {\"dtype\": \"str\", \"name\": \"Condition2\"}, {\"dtype\": \"str\", \"name\": \"BldgType\"}, {\"dtype\": \"str\", \"name\": \"HouseStyle\"}, {\"dtype\": \"int\", \"name\": \"OverallQual\"}, {\"dtype\": \"int\", \"name\": \"OverallCond\"}, {\"dtype\": \"int\", \"name\": \"YearBuilt\"}, {\"dtype\": \"int\", \"name\": \"YearRemodAdd\"}, {\"dtype\": \"str\", \"name\": \"RoofStyle\"}, {\"dtype\": \"str\", \"name\": \"RoofMatl\"}, {\"dtype\": \"str\", \"name\": \"Exterior1st\"}, {\"dtype\": \"str\", \"name\": \"Exterior2nd\"}, {\"dtype\": \"str\", \"name\": \"MasVnrType\"}, {\"dtype\": \"int\", \"name\": \"MasVnrArea\"}, {\"dtype\": \"str\", \"name\": \"ExterQual\"}, {\"dtype\": \"str\", \"name\": \"ExterCond\"}, {\"dtype\": \"str\", \"name\": \"Foundation\"}, {\"dtype\": \"str\", \"name\": \"BsmtQual\"}, {\"dtype\": \"str\", \"name\": \"BsmtCond\"}, {\"dtype\": \"str\", \"name\": \"BsmtExposure\"}, {\"dtype\": \"str\", \"name\": \"BsmtFinType1\"}, {\"dtype\": \"int\", \"name\": \"BsmtFinSF1\"}, {\"dtype\": \"str\", \"name\": \"BsmtFinType2\"}, {\"dtype\": \"int\", \"name\": \"BsmtFinSF2\"}, {\"dtype\": \"int\", \"name\": \"BsmtUnfSF\"}, {\"dtype\": \"int\", \"name\": \"TotalBsmtSF\"}, {\"dtype\": \"str\", \"name\": \"Heating\"}, {\"dtype\": \"str\", \"name\": \"HeatingQC\"}, {\"dtype\": \"str\", \"name\": \"CentralAir\"}, {\"dtype\": \"str\", \"name\": \"Electrical\"}, {\"dtype\": \"int\", \"name\": \"1stFlrSF\"}, {\"dtype\": \"int\", \"name\": \"2ndFlrSF\"}, {\"dtype\": \"int\", \"name\": \"LowQualFinSF\"}, {\"dtype\": \"int\", \"name\": \"GrLivArea\"}, {\"dtype\": \"int\", \"name\": \"BsmtFullBath\"}, {\"dtype\": \"int\", \"name\": \"BsmtHalfBath\"}, {\"dtype\": \"int\", \"name\": \"FullBath\"}, {\"dtype\": \"int\", \"name\": \"HalfBath\"}, {\"dtype\": \"int\", \"name\": \"BedroomAbvGr\"}, {\"dtype\": \"int\", \"name\": \"KitchenAbvGr\"}, {\"dtype\": \"str\", \"name\": \"KitchenQual\"}, {\"dtype\": \"int\", \"name\": \"TotRmsAbvGrd\"}, {\"dtype\": \"str\", \"name\": \"Functional\"}, {\"dtype\": \"int\", \"name\": \"Fireplaces\"}, {\"dtype\": \"str\", \"name\": \"FireplaceQu\"}, {\"dtype\": \"str\", \"name\": \"GarageType\"}, {\"dtype\": \"int\", \"name\": \"GarageYrBlt\"}, {\"dtype\": \"str\", \"name\": \"GarageFinish\"}, {\"dtype\": \"int\", \"name\": \"GarageCars\"}, {\"dtype\": \"int\", \"name\": \"GarageArea\"}, {\"dtype\": \"str\", \"name\": \"GarageQual\"}, {\"dtype\": \"str\", \"name\": \"GarageCond\"}, {\"dtype\": \"str\", \"name\": \"PavedDrive\"}, {\"dtype\": \"int\", \"name\": \"WoodDeckSF\"}, {\"dtype\": \"int\", \"name\": \"OpenPorchSF\"}, {\"dtype\": \"int\", \"name\": \"EnclosedPorch\"}, {\"dtype\": \"int\", \"name\": \"3SsnPorch\"}, {\"dtype\": \"int\", \"name\": \"ScreenPorch\"}, {\"dtype\": \"int\", \"name\": \"PoolArea\"}, {\"dtype\": \"str\", \"name\": \"PoolQC\"}, {\"dtype\": \"str\", \"name\": \"Fence\"}, {\"dtype\": \"str\", \"name\": \"MiscFeature\"}, {\"dtype\": \"int\", \"name\": \"MiscVal\"}, {\"dtype\": \"int\", \"name\": \"MoSold\"}, {\"dtype\": \"int\", \"name\": \"YrSold\"}, {\"dtype\": \"str\", \"name\": \"SaleType\"}, {\"dtype\": \"str\", \"name\": \"SaleCondition\"}, {\"dtype\": \"int\", \"name\": \"SalePrice\"}]}, e);\n",
       "                });\n",
       "            })();\n",
       "        "
      ]
     },
     "metadata": {},
     "output_type": "display_data"
    }
   ],
   "source": [
    "graphlab.canvas.set_target('ipynb')\n",
    "sales.show(view=\"Scatter Plot\", x=\"LotArea\", y=\"SalePrice\")"
   ]
  },
  {
   "cell_type": "markdown",
   "metadata": {},
   "source": [
    "# Create simple regression model of GrArea to SalesPrice"
   ]
  },
  {
   "cell_type": "code",
   "execution_count": 6,
   "metadata": {
    "collapsed": true
   },
   "outputs": [],
   "source": [
    "train_data, test_data = sales.random_split(.8, seed=0)"
   ]
  },
  {
   "cell_type": "markdown",
   "metadata": {},
   "source": [
    "## build regression model"
   ]
  },
  {
   "cell_type": "code",
   "execution_count": 7,
   "metadata": {
    "collapsed": false
   },
   "outputs": [
    {
     "name": "stdout",
     "output_type": "stream",
     "text": [
      "PROGRESS: Creating a validation set from 5 percent of training data. This may take a while.\n",
      "          You can set ``validation_set=None`` to disable validation tracking.\n",
      "\n"
     ]
    },
    {
     "data": {
      "text/html": [
       "<pre>Linear regression:</pre>"
      ],
      "text/plain": [
       "Linear regression:"
      ]
     },
     "metadata": {},
     "output_type": "display_data"
    },
    {
     "data": {
      "text/html": [
       "<pre>--------------------------------------------------------</pre>"
      ],
      "text/plain": [
       "--------------------------------------------------------"
      ]
     },
     "metadata": {},
     "output_type": "display_data"
    },
    {
     "data": {
      "text/html": [
       "<pre>Number of examples          : 1115</pre>"
      ],
      "text/plain": [
       "Number of examples          : 1115"
      ]
     },
     "metadata": {},
     "output_type": "display_data"
    },
    {
     "data": {
      "text/html": [
       "<pre>Number of features          : 1</pre>"
      ],
      "text/plain": [
       "Number of features          : 1"
      ]
     },
     "metadata": {},
     "output_type": "display_data"
    },
    {
     "data": {
      "text/html": [
       "<pre>Number of unpacked features : 1</pre>"
      ],
      "text/plain": [
       "Number of unpacked features : 1"
      ]
     },
     "metadata": {},
     "output_type": "display_data"
    },
    {
     "data": {
      "text/html": [
       "<pre>Number of coefficients    : 2</pre>"
      ],
      "text/plain": [
       "Number of coefficients    : 2"
      ]
     },
     "metadata": {},
     "output_type": "display_data"
    },
    {
     "data": {
      "text/html": [
       "<pre>Starting Newton Method</pre>"
      ],
      "text/plain": [
       "Starting Newton Method"
      ]
     },
     "metadata": {},
     "output_type": "display_data"
    },
    {
     "data": {
      "text/html": [
       "<pre>--------------------------------------------------------</pre>"
      ],
      "text/plain": [
       "--------------------------------------------------------"
      ]
     },
     "metadata": {},
     "output_type": "display_data"
    },
    {
     "data": {
      "text/html": [
       "<pre>+-----------+----------+--------------+--------------------+----------------------+---------------+-----------------+</pre>"
      ],
      "text/plain": [
       "+-----------+----------+--------------+--------------------+----------------------+---------------+-----------------+"
      ]
     },
     "metadata": {},
     "output_type": "display_data"
    },
    {
     "data": {
      "text/html": [
       "<pre>| Iteration | Passes   | Elapsed Time | Training-max_error | Validation-max_error | Training-rmse | Validation-rmse |</pre>"
      ],
      "text/plain": [
       "| Iteration | Passes   | Elapsed Time | Training-max_error | Validation-max_error | Training-rmse | Validation-rmse |"
      ]
     },
     "metadata": {},
     "output_type": "display_data"
    },
    {
     "data": {
      "text/html": [
       "<pre>+-----------+----------+--------------+--------------------+----------------------+---------------+-----------------+</pre>"
      ],
      "text/plain": [
       "+-----------+----------+--------------+--------------------+----------------------+---------------+-----------------+"
      ]
     },
     "metadata": {},
     "output_type": "display_data"
    },
    {
     "data": {
      "text/html": [
       "<pre>| 1         | 2        | 1.008975     | 457644.299053      | 232048.597162        | 56054.275178  | 71906.916703    |</pre>"
      ],
      "text/plain": [
       "| 1         | 2        | 1.008975     | 457644.299053      | 232048.597162        | 56054.275178  | 71906.916703    |"
      ]
     },
     "metadata": {},
     "output_type": "display_data"
    },
    {
     "data": {
      "text/html": [
       "<pre>+-----------+----------+--------------+--------------------+----------------------+---------------+-----------------+</pre>"
      ],
      "text/plain": [
       "+-----------+----------+--------------+--------------------+----------------------+---------------+-----------------+"
      ]
     },
     "metadata": {},
     "output_type": "display_data"
    },
    {
     "data": {
      "text/html": [
       "<pre>SUCCESS: Optimal solution found.</pre>"
      ],
      "text/plain": [
       "SUCCESS: Optimal solution found."
      ]
     },
     "metadata": {},
     "output_type": "display_data"
    },
    {
     "data": {
      "text/html": [
       "<pre></pre>"
      ],
      "text/plain": []
     },
     "metadata": {},
     "output_type": "display_data"
    }
   ],
   "source": [
    "GrLivArea_model = graphlab.linear_regression.create(train_data, target='SalePrice', features=['GrLivArea'])"
   ]
  },
  {
   "cell_type": "markdown",
   "metadata": {},
   "source": [
    "# Evaluate Simple Model"
   ]
  },
  {
   "cell_type": "code",
   "execution_count": 8,
   "metadata": {
    "collapsed": false
   },
   "outputs": [
    {
     "name": "stdout",
     "output_type": "stream",
     "text": [
      "180921.19589\n"
     ]
    }
   ],
   "source": [
    "print sales['SalePrice'].mean()"
   ]
  },
  {
   "cell_type": "code",
   "execution_count": 9,
   "metadata": {
    "collapsed": false
   },
   "outputs": [
    {
     "name": "stdout",
     "output_type": "stream",
     "text": [
      "{'max_error': 263261.14050219726, 'rmse': 53435.12570700747}\n"
     ]
    }
   ],
   "source": [
    "results1 = GrLivArea_model.evaluate(test_data)\n",
    "print GrLivArea_model.evaluate(test_data)"
   ]
  },
  {
   "cell_type": "markdown",
   "metadata": {},
   "source": [
    "# Build Lotarea vs Saleprice"
   ]
  },
  {
   "cell_type": "code",
   "execution_count": 10,
   "metadata": {
    "collapsed": false
   },
   "outputs": [
    {
     "name": "stdout",
     "output_type": "stream",
     "text": [
      "PROGRESS: Creating a validation set from 5 percent of training data. This may take a while.\n",
      "          You can set ``validation_set=None`` to disable validation tracking.\n",
      "\n"
     ]
    },
    {
     "data": {
      "text/html": [
       "<pre>Linear regression:</pre>"
      ],
      "text/plain": [
       "Linear regression:"
      ]
     },
     "metadata": {},
     "output_type": "display_data"
    },
    {
     "data": {
      "text/html": [
       "<pre>--------------------------------------------------------</pre>"
      ],
      "text/plain": [
       "--------------------------------------------------------"
      ]
     },
     "metadata": {},
     "output_type": "display_data"
    },
    {
     "data": {
      "text/html": [
       "<pre>Number of examples          : 1104</pre>"
      ],
      "text/plain": [
       "Number of examples          : 1104"
      ]
     },
     "metadata": {},
     "output_type": "display_data"
    },
    {
     "data": {
      "text/html": [
       "<pre>Number of features          : 1</pre>"
      ],
      "text/plain": [
       "Number of features          : 1"
      ]
     },
     "metadata": {},
     "output_type": "display_data"
    },
    {
     "data": {
      "text/html": [
       "<pre>Number of unpacked features : 1</pre>"
      ],
      "text/plain": [
       "Number of unpacked features : 1"
      ]
     },
     "metadata": {},
     "output_type": "display_data"
    },
    {
     "data": {
      "text/html": [
       "<pre>Number of coefficients    : 2</pre>"
      ],
      "text/plain": [
       "Number of coefficients    : 2"
      ]
     },
     "metadata": {},
     "output_type": "display_data"
    },
    {
     "data": {
      "text/html": [
       "<pre>Starting Newton Method</pre>"
      ],
      "text/plain": [
       "Starting Newton Method"
      ]
     },
     "metadata": {},
     "output_type": "display_data"
    },
    {
     "data": {
      "text/html": [
       "<pre>--------------------------------------------------------</pre>"
      ],
      "text/plain": [
       "--------------------------------------------------------"
      ]
     },
     "metadata": {},
     "output_type": "display_data"
    },
    {
     "data": {
      "text/html": [
       "<pre>+-----------+----------+--------------+--------------------+----------------------+---------------+-----------------+</pre>"
      ],
      "text/plain": [
       "+-----------+----------+--------------+--------------------+----------------------+---------------+-----------------+"
      ]
     },
     "metadata": {},
     "output_type": "display_data"
    },
    {
     "data": {
      "text/html": [
       "<pre>| Iteration | Passes   | Elapsed Time | Training-max_error | Validation-max_error | Training-rmse | Validation-rmse |</pre>"
      ],
      "text/plain": [
       "| Iteration | Passes   | Elapsed Time | Training-max_error | Validation-max_error | Training-rmse | Validation-rmse |"
      ]
     },
     "metadata": {},
     "output_type": "display_data"
    },
    {
     "data": {
      "text/html": [
       "<pre>+-----------+----------+--------------+--------------------+----------------------+---------------+-----------------+</pre>"
      ],
      "text/plain": [
       "+-----------+----------+--------------+--------------------+----------------------+---------------+-----------------+"
      ]
     },
     "metadata": {},
     "output_type": "display_data"
    },
    {
     "data": {
      "text/html": [
       "<pre>| 1         | 2        | 0.001421     | 551044.114870      | 150299.908262        | 78271.062680  | 59105.063906    |</pre>"
      ],
      "text/plain": [
       "| 1         | 2        | 0.001421     | 551044.114870      | 150299.908262        | 78271.062680  | 59105.063906    |"
      ]
     },
     "metadata": {},
     "output_type": "display_data"
    },
    {
     "data": {
      "text/html": [
       "<pre>+-----------+----------+--------------+--------------------+----------------------+---------------+-----------------+</pre>"
      ],
      "text/plain": [
       "+-----------+----------+--------------+--------------------+----------------------+---------------+-----------------+"
      ]
     },
     "metadata": {},
     "output_type": "display_data"
    },
    {
     "data": {
      "text/html": [
       "<pre>SUCCESS: Optimal solution found.</pre>"
      ],
      "text/plain": [
       "SUCCESS: Optimal solution found."
      ]
     },
     "metadata": {},
     "output_type": "display_data"
    },
    {
     "data": {
      "text/html": [
       "<pre></pre>"
      ],
      "text/plain": []
     },
     "metadata": {},
     "output_type": "display_data"
    }
   ],
   "source": [
    "LotArea_model = graphlab.linear_regression.create(train_data, target='SalePrice', features=['LotArea'])"
   ]
  },
  {
   "cell_type": "code",
   "execution_count": 11,
   "metadata": {
    "collapsed": false
   },
   "outputs": [
    {
     "name": "stdout",
     "output_type": "stream",
     "text": [
      "180921.19589\n"
     ]
    }
   ],
   "source": [
    "print sales['SalePrice'].mean()"
   ]
  },
  {
   "cell_type": "code",
   "execution_count": 12,
   "metadata": {
    "collapsed": false
   },
   "outputs": [
    {
     "name": "stdout",
     "output_type": "stream",
     "text": [
      "{'max_error': 393158.1190088524, 'rmse': 73420.24484286089}\n"
     ]
    }
   ],
   "source": [
    "print LotArea_model.evaluate(test_data)"
   ]
  },
  {
   "cell_type": "markdown",
   "metadata": {},
   "source": [
    "# Visualize predictions"
   ]
  },
  {
   "cell_type": "code",
   "execution_count": 13,
   "metadata": {
    "collapsed": false
   },
   "outputs": [],
   "source": [
    "import matplotlib.pyplot as plt\n",
    "%matplotlib inline"
   ]
  },
  {
   "cell_type": "code",
   "execution_count": 17,
   "metadata": {
    "collapsed": false
   },
   "outputs": [
    {
     "data": {
      "text/plain": [
       "[<matplotlib.lines.Line2D at 0x11ec24150>,\n",
       " <matplotlib.lines.Line2D at 0x11ec24210>]"
      ]
     },
     "execution_count": 17,
     "metadata": {},
     "output_type": "execute_result"
    },
    {
     "data": {
      "image/png": "[encoded data removed]",
      "text/plain": [
       "<matplotlib.figure.Figure at 0x11eadbc10>"
      ]
     },
     "metadata": {},
     "output_type": "display_data"
    }
   ],
   "source": [
    "plt.plot(test_data['GrLivArea'],test_data['SalePrice'],'.', test_data['GrLivArea'],GrLivArea_model.predict(test_data),'-' )"
   ]
  },
  {
   "cell_type": "code",
   "execution_count": null,
   "metadata": {
    "collapsed": true
   },
   "outputs": [],
   "source": []
  }
 ],
 "metadata": {
  "anaconda-cloud": {},
  "kernelspec": {
   "display_name": "Python [default]",
   "language": "python",
   "name": "python2"
  },
  "language_info": {
   "codemirror_mode": {
    "name": "ipython",
    "version": 2
   },
   "file_extension": ".py",
   "mimetype": "text/x-python",
   "name": "python",
   "nbconvert_exporter": "python",
   "pygments_lexer": "ipython2",
   "version": "2.7.12"
  }
 },
 "nbformat": 4,
 "nbformat_minor": 0
}
